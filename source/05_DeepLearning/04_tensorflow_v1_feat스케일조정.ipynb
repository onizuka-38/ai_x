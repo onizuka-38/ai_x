{
 "cells": [
  {
   "cell_type": "markdown",
   "id": "54ee61d1",
   "metadata": {},
   "source": [
    "# 1. tensorflow v2.xx에서 v1사용하기"
   ]
  },
  {
   "cell_type": "code",
   "execution_count": 1,
   "id": "83fe890c",
   "metadata": {},
   "outputs": [
    {
     "name": "stdout",
     "output_type": "stream",
     "text": [
      "WARNING:tensorflow:From c:\\Users\\Admin\\anaconda3\\envs\\ml-dl-nlp\\lib\\site-packages\\tensorflow\\python\\compat\\v2_compat.py:107: disable_resource_variables (from tensorflow.python.ops.variable_scope) is deprecated and will be removed in a future version.\n",
      "Instructions for updating:\n",
      "non-resource variables are not supported in the long term\n"
     ]
    }
   ],
   "source": [
    "import tensorflow.compat.v1 as tf\n",
    "tf.disable_v2_behavior() # v2를 비활성화하고 v1활성화\n",
    "import numpy as np\n",
    "import pandas as pd\n"
   ]
  },
  {
   "cell_type": "markdown",
   "id": "e8fcfb4b",
   "metadata": {},
   "source": [
    "## Tensorflow\n",
    "- 데이터 흐름 그래프(tensor객체의 흐름)\n",
    "- 이 그래프는 node(상수, 변수, 연산)와 edge로 구성\n",
    "- sess = tf.Session()으로 실행\n",
    "- sess.run() 을 통해 값을 확인"
   ]
  },
  {
   "cell_type": "code",
   "execution_count": 2,
   "id": "fe657d73",
   "metadata": {},
   "outputs": [
    {
     "name": "stdout",
     "output_type": "stream",
     "text": [
      "b'Hello, Tensorflow'\n"
     ]
    }
   ],
   "source": [
    "# tensor = data(상수, 변수)와 연산\n",
    "node1 = tf.constant('Hello, Tensorflow')\n",
    "sess = tf.Session()\n",
    "print(sess.run(node1))"
   ]
  },
  {
   "cell_type": "code",
   "execution_count": 3,
   "id": "a45e28eb",
   "metadata": {},
   "outputs": [
    {
     "name": "stdout",
     "output_type": "stream",
     "text": [
      "[10.0, 20.0, 30.0]\n"
     ]
    }
   ],
   "source": [
    "# 간단한 연산 tensor 그래프\n",
    "node1 = tf.constant(10, dtype=tf.float16)\n",
    "node2 = tf.constant(20, dtype=tf.float16)\n",
    "node3 = tf.add(node1, node2)\n",
    "sess = tf.Session()\n",
    "print(sess.run([node1,node2,node3]))"
   ]
  },
  {
   "cell_type": "code",
   "execution_count": 4,
   "id": "df468c28",
   "metadata": {},
   "outputs": [
    {
     "data": {
      "text/plain": [
       "[array([1, 2, 3], dtype=int16), array([1., 2., 3.], dtype=float32)]"
      ]
     },
     "execution_count": 4,
     "metadata": {},
     "output_type": "execute_result"
    }
   ],
   "source": [
    "# 타입 변경\n",
    "node1 = tf.constant(np.array([1,2,3]), dtype=tf.int16)\n",
    "node2 = tf.cast(node1, dtype=tf.float32)\n",
    "sess = tf.Session()\n",
    "sess.run([node1,node2])"
   ]
  },
  {
   "cell_type": "code",
   "execution_count": 5,
   "id": "d0eea3ed",
   "metadata": {},
   "outputs": [
    {
     "data": {
      "text/plain": [
       "2.0"
      ]
     },
     "execution_count": 5,
     "metadata": {},
     "output_type": "execute_result"
    }
   ],
   "source": [
    "# 평균값 계산 : tf.reduce_mean()\n",
    "data = np.array([1.,2.,3.])\n",
    "tensor = tf.reduce_mean(data)\n",
    "sess = tf.Session()\n",
    "sess.run(tensor)"
   ]
  },
  {
   "cell_type": "code",
   "execution_count": 6,
   "id": "c04014eb",
   "metadata": {},
   "outputs": [
    {
     "data": {
      "text/plain": [
       "[array([-1.236682], dtype=float32), array([0.79298866], dtype=float32)]"
      ]
     },
     "execution_count": 6,
     "metadata": {},
     "output_type": "execute_result"
    }
   ],
   "source": [
    "# 랜덤값을 갖는 tensor\n",
    "a = tf.random_normal([1]) # 평균 0, 표준편차가 1인 난수 실수 2개(정규분포이루는 난수)\n",
    "b = tf.random_normal([1])\n",
    "sess = tf.Session()\n",
    "sess.run([a,b])"
   ]
  },
  {
   "cell_type": "code",
   "execution_count": 7,
   "id": "a621a27d",
   "metadata": {},
   "outputs": [
    {
     "data": {
      "text/plain": [
       "array([1.6971058], dtype=float32)"
      ]
     },
     "execution_count": 7,
     "metadata": {},
     "output_type": "execute_result"
    }
   ],
   "source": [
    "w = tf.Variable(tf.random.normal([1]))\n",
    "sess = tf.Session()\n",
    "sess.run(tf.global_variables_initializer()) # w변수의 난수 초기화\n",
    "sess.run(w)"
   ]
  },
  {
   "cell_type": "markdown",
   "id": "f6eae229",
   "metadata": {},
   "source": [
    "# 2. tensorflow v1 을 이용한 linear regression을 구현\n",
    "## 2.1 입력(독립)변수 x가 1개, 타겟(종속)변수 y가 1개"
   ]
  },
  {
   "cell_type": "code",
   "execution_count": 8,
   "id": "291d90bd",
   "metadata": {},
   "outputs": [
    {
     "name": "stdout",
     "output_type": "stream",
     "text": [
      "0번째 cost:3.6439521312713623, W:[1.8223052], b:[0.91541713]\n",
      "200번째 cost:0.00769715616479516, W:[1.1016518], b:[0.7689211]\n",
      "400번째 cost:0.002939147176221013, W:[1.0628147], b:[0.8572074]\n",
      "600번째 cost:0.0011223087785765529, W:[1.0388156], b:[0.9117629]\n",
      "800번째 cost:0.0004285587929189205, W:[1.0239859], b:[0.9454745]\n",
      "1000번째 cost:0.0001636416418477893, W:[1.0148216], b:[0.9663069]\n",
      "1200번째 cost:6.248709541978315e-05, W:[1.009159], b:[0.97917956]\n",
      "1400번째 cost:2.386130472586956e-05, W:[1.0056598], b:[0.98713404]\n",
      "1600번째 cost:9.11166443984257e-06, W:[1.0034974], b:[0.9920496]\n",
      "1800번째 cost:3.4796394174918532e-06, W:[1.0021614], b:[0.9950868]\n",
      "2000번째 cost:1.3293116580825881e-06, W:[1.0013361], b:[0.99696326]\n",
      "2200번째 cost:5.081181484456465e-07, W:[1.000826], b:[0.9981226]\n",
      "2400번째 cost:1.9444424026460183e-07, W:[1.000511], b:[0.9988387]\n",
      "2600번째 cost:7.450312722312447e-08, W:[1.0003164], b:[0.9992811]\n",
      "2800번째 cost:2.861401604548064e-08, W:[1.0001963], b:[0.9995545]\n",
      "3000번째 cost:1.0985250042949701e-08, W:[1.0001215], b:[0.99972403]\n",
      "3200번째 cost:4.235870765256777e-09, W:[1.0000753], b:[0.9998286]\n",
      "3400번째 cost:1.6838015426401398e-09, W:[1.0000474], b:[0.99989176]\n",
      "3600번째 cost:6.2543864531861e-10, W:[1.000029], b:[0.999934]\n",
      "3800번째 cost:2.3546911642746693e-10, W:[1.000018], b:[0.9999596]\n",
      "4000번째 cost:1.1486515211212023e-10, W:[1.0000126], b:[0.99997187]\n",
      "4200번째 cost:5.328478283606053e-11, W:[1.0000087], b:[0.9999811]\n",
      "4400번째 cost:5.328478283606053e-11, W:[1.0000087], b:[0.9999811]\n",
      "4600번째 cost:5.328478283606053e-11, W:[1.0000087], b:[0.9999811]\n",
      "4800번째 cost:5.328478283606053e-11, W:[1.0000087], b:[0.9999811]\n",
      "5000번째 cost:5.328478283606053e-11, W:[1.0000087], b:[0.9999811]\n"
     ]
    }
   ],
   "source": [
    "x = np.array([1,2,3])\n",
    "y = np.array([2,3,4])\n",
    "# weight와 bias(처음엔 랜덤값으로 셋팅, 학습과정에서 변경)\n",
    "W = tf.Variable(tf.random.normal([1]), name='weight')\n",
    "b = tf.Variable(tf.random.normal([1]), name='bias')\n",
    "# Hypothesis : 예측값\n",
    "H = W*x + b\n",
    "#cost function(손실함수 = mse; 최소제곱법)\n",
    "cost = tf.reduce_mean(tf.square(H-y))\n",
    "'''\n",
    "학습목적 : cost가 최소가 되는 W, b를 찾아내는 것\n",
    "cost는 2차함수이므로 곡선그래프, 곡선위 미분값이 줄어드는 방향으로 학습(경사하강)\n",
    "=> GradientDescentOptimizer\n",
    "\n",
    "'''\n",
    "optimizer = tf.train.GradientDescentOptimizer(learning_rate=0.01)\n",
    "train = optimizer.minimize(cost)\n",
    "# Session 생성\n",
    "sess = tf.Session()\n",
    "# W, b 변수 노드에 초기화\n",
    "sess.run(tf.global_variables_initializer())\n",
    "# 5000번 학습 (v2에서는 fit함수)\n",
    "for step in range(5001):\n",
    "    _, cost_val, W_val, b_val = sess.run([train, cost, W, b])\n",
    "    if step%200 == 0:\n",
    "        print(\"{}번째 cost:{}, W:{}, b:{}\".format(step,\n",
    "                                                cost_val,\n",
    "                                                W_val,\n",
    "                                                b_val))"
   ]
  },
  {
   "cell_type": "code",
   "execution_count": 9,
   "id": "98f6ea8f",
   "metadata": {},
   "outputs": [
    {
     "data": {
      "text/plain": [
       "[array([1.0000087], dtype=float32), array([0.9999811], dtype=float32)]"
      ]
     },
     "execution_count": 9,
     "metadata": {},
     "output_type": "execute_result"
    }
   ],
   "source": [
    "# 최종적으로 나온 회귀식 : H = W*x + b\n",
    "sess.run([W,b])"
   ]
  },
  {
   "cell_type": "code",
   "execution_count": 10,
   "id": "39d9fba5",
   "metadata": {},
   "outputs": [
    {
     "data": {
      "text/plain": [
       "(1.0000087, 0.9999811)"
      ]
     },
     "execution_count": 10,
     "metadata": {},
     "output_type": "execute_result"
    }
   ],
   "source": [
    "W_, b_ = sess.run([W,b])\n",
    "W_[0], b_[0]"
   ]
  },
  {
   "cell_type": "code",
   "execution_count": 11,
   "id": "74dad94f",
   "metadata": {},
   "outputs": [],
   "source": [
    "def predict(x):\n",
    "    return W_[0]*x + b_[0]"
   ]
  },
  {
   "cell_type": "code",
   "execution_count": 12,
   "id": "a9c17a63",
   "metadata": {},
   "outputs": [
    {
     "name": "stdout",
     "output_type": "stream",
     "text": [
      "예측값은  14.00009423494339\n"
     ]
    }
   ],
   "source": [
    "input_x = int(input('입력값은 ?'))\n",
    "print('예측값은 ', predict(input_x))"
   ]
  },
  {
   "cell_type": "markdown",
   "id": "4a34bc71",
   "metadata": {},
   "source": [
    "## 2.2 predict를 위한 placeholder이용\n",
    "- placeholder : 텐서플로우 외부에서 데이터를 입력받는 노드"
   ]
  },
  {
   "cell_type": "code",
   "execution_count": 13,
   "id": "8b2dcaa2",
   "metadata": {},
   "outputs": [
    {
     "data": {
      "text/plain": [
       "array([2., 3., 4.], dtype=float16)"
      ]
     },
     "execution_count": 13,
     "metadata": {},
     "output_type": "execute_result"
    }
   ],
   "source": [
    "# x = np.array([1,2,3])\n",
    "x = tf.placeholder(tf.float16)\n",
    "H = 1*x + 1\n",
    "sess = tf.Session()\n",
    "sess.run(H, feed_dict={x:np.array([1,2,3])})"
   ]
  },
  {
   "cell_type": "code",
   "execution_count": 14,
   "id": "aae2f842",
   "metadata": {},
   "outputs": [
    {
     "name": "stdout",
     "output_type": "stream",
     "text": [
      "0번째 cost:183.897705078125, W:[0.34389758], b:[0.6864669]\n",
      "200번째 cost:3.7890254134254064e-07, W:[2.0002093], b:[0.9988812]\n",
      "400번째 cost:3.726550090732417e-08, W:[2.0000656], b:[0.999649]\n",
      "600번째 cost:3.6744496334506493e-09, W:[2.0000205], b:[0.9998899]\n",
      "800번째 cost:3.689024086206416e-10, W:[2.0000067], b:[0.99996465]\n",
      "1000번째 cost:5.079527770623926e-11, W:[2.0000026], b:[0.999987]\n",
      "1200번째 cost:2.060005464821213e-11, W:[2.0000017], b:[0.99999213]\n",
      "1400번째 cost:2.060005464821213e-11, W:[2.0000017], b:[0.99999213]\n",
      "1600번째 cost:2.060005464821213e-11, W:[2.0000017], b:[0.99999213]\n",
      "1800번째 cost:2.060005464821213e-11, W:[2.0000017], b:[0.99999213]\n",
      "2000번째 cost:2.060005464821213e-11, W:[2.0000017], b:[0.99999213]\n",
      "2200번째 cost:2.060005464821213e-11, W:[2.0000017], b:[0.99999213]\n",
      "2400번째 cost:2.060005464821213e-11, W:[2.0000017], b:[0.99999213]\n",
      "2600번째 cost:2.060005464821213e-11, W:[2.0000017], b:[0.99999213]\n",
      "2800번째 cost:2.060005464821213e-11, W:[2.0000017], b:[0.99999213]\n",
      "3000번째 cost:2.060005464821213e-11, W:[2.0000017], b:[0.99999213]\n",
      "3200번째 cost:2.060005464821213e-11, W:[2.0000017], b:[0.99999213]\n",
      "3400번째 cost:2.060005464821213e-11, W:[2.0000017], b:[0.99999213]\n",
      "3600번째 cost:2.060005464821213e-11, W:[2.0000017], b:[0.99999213]\n",
      "3800번째 cost:2.060005464821213e-11, W:[2.0000017], b:[0.99999213]\n",
      "4000번째 cost:2.060005464821213e-11, W:[2.0000017], b:[0.99999213]\n",
      "4200번째 cost:2.060005464821213e-11, W:[2.0000017], b:[0.99999213]\n",
      "4400번째 cost:2.060005464821213e-11, W:[2.0000017], b:[0.99999213]\n",
      "4600번째 cost:2.060005464821213e-11, W:[2.0000017], b:[0.99999213]\n",
      "4800번째 cost:2.060005464821213e-11, W:[2.0000017], b:[0.99999213]\n",
      "5000번째 cost:2.060005464821213e-11, W:[2.0000017], b:[0.99999213]\n"
     ]
    }
   ],
   "source": [
    "# H = 2x+1\n",
    "x_data = np.array([1,2,3,5,8])\n",
    "y_data = np.array([3,5,7,11,17])\n",
    "# placeholder 설정\n",
    "x = tf.placeholder(dtype=tf.float32)\n",
    "y = tf.placeholder(dtype=tf.float32)\n",
    "# W, b\n",
    "W = tf.Variable(tf.random.normal([1]))\n",
    "b = tf.Variable(tf.random.normal([1]))\n",
    "# Hypothesis(예측값)\n",
    "H = W*x + b\n",
    "# 손실함수\n",
    "cost = tf.reduce_mean(tf.square(H-y))\n",
    "# 경사하강법\n",
    "train = tf.train.GradientDescentOptimizer(learning_rate=0.01).minimize(cost)\n",
    "# Session 객체 생성\n",
    "sess = tf.Session()\n",
    "sess.run(tf.global_variables_initializer()) # W, b 초기화\n",
    "# 5000번 학습\n",
    "for step in range(5001):\n",
    "    _, cost_val, W_val, b_val = sess.run([train, cost, W, b],\n",
    "                                         feed_dict={x:x_data,\n",
    "                                                    y:y_data})\n",
    "    if step%200 ==0:\n",
    "        print(\"{}번째 cost:{}, W:{}, b:{}\".format(step,\n",
    "                                                cost_val,\n",
    "                                                W_val,\n",
    "                                                b_val))"
   ]
  },
  {
   "cell_type": "code",
   "execution_count": 15,
   "id": "383c1795",
   "metadata": {},
   "outputs": [
    {
     "data": {
      "text/plain": [
       "array([11.000001], dtype=float32)"
      ]
     },
     "execution_count": 15,
     "metadata": {},
     "output_type": "execute_result"
    }
   ],
   "source": [
    "# 예측하기\n",
    "sess.run(H, feed_dict={x:5})"
   ]
  },
  {
   "cell_type": "code",
   "execution_count": 16,
   "id": "f91146a7",
   "metadata": {},
   "outputs": [
    {
     "data": {
      "text/plain": [
       "array([11.000001, 13.000002, 15.000004], dtype=float32)"
      ]
     },
     "execution_count": 16,
     "metadata": {},
     "output_type": "execute_result"
    }
   ],
   "source": [
    "sess.run(H, feed_dict={x:np.array([5, 6, 7])})"
   ]
  },
  {
   "cell_type": "markdown",
   "id": "7be24e1a",
   "metadata": {},
   "source": [
    "## 2.3 scale이 다른 데이터의 linear regression 구현(scale 조정X)"
   ]
  },
  {
   "cell_type": "code",
   "execution_count": 17,
   "id": "72883c9a",
   "metadata": {},
   "outputs": [
    {
     "name": "stdout",
     "output_type": "stream",
     "text": [
      "0번째 cost:4953.2607421875, W:[7.918127], b:[-1.1348785]\n",
      "200번째 cost:83.49085998535156, W:[10.2801695], b:[-1.2071736]\n",
      "400번째 cost:83.48310852050781, W:[10.295891], b:[-1.3235742]\n",
      "600번째 cost:83.48237609863281, W:[10.3006525], b:[-1.3588306]\n",
      "800번째 cost:83.48230743408203, W:[10.302094], b:[-1.3695092]\n",
      "1000번째 cost:83.48231506347656, W:[10.302531], b:[-1.3727436]\n"
     ]
    }
   ],
   "source": [
    "# H = 2x+1\n",
    "x_data = np.array([1,2,5,8,10])\n",
    "y_data = np.array([3,15,68,80,95])\n",
    "# placeholder 설정\n",
    "x = tf.placeholder(dtype=tf.float32)\n",
    "y = tf.placeholder(dtype=tf.float32)\n",
    "# W, b\n",
    "W = tf.Variable(tf.random.normal([1]))\n",
    "b = tf.Variable(tf.random.normal([1]))\n",
    "# Hypothesis(예측값)\n",
    "H = W*x + b\n",
    "# 손실함수\n",
    "cost = tf.reduce_mean(tf.square(H-y))\n",
    "# 경사하강법\n",
    "train = tf.train.GradientDescentOptimizer(learning_rate=0.01).minimize(cost)\n",
    "# Session 객체 생성\n",
    "sess = tf.Session()\n",
    "sess.run(tf.global_variables_initializer()) # W, b 초기화\n",
    "# 5000번 학습\n",
    "for step in range(1001):\n",
    "    _, cost_val, W_val, b_val = sess.run([train, cost, W, b],\n",
    "                                         feed_dict={x:x_data,\n",
    "                                                    y:y_data})\n",
    "    if step%200 ==0:\n",
    "        print(\"{}번째 cost:{}, W:{}, b:{}\".format(step,\n",
    "                                                cost_val,\n",
    "                                                W_val,\n",
    "                                                b_val))"
   ]
  },
  {
   "cell_type": "code",
   "execution_count": 18,
   "id": "7beb6308",
   "metadata": {},
   "outputs": [],
   "source": [
    "# cost값이 멈춤"
   ]
  },
  {
   "cell_type": "markdown",
   "id": "c35e8ac3",
   "metadata": {},
   "source": [
    "## 2.4 scale이 다른 데이터의 linear regression 을 구현 (조정O)\n",
    "### scale을 맞추기 : 모든 데이터를 일정 범위내로 조정\n",
    "- normalization(정규화) : 0~1로 조정\n",
    "                        X - Xmin\n",
    "    * normalization= --------------\n",
    "                        Xmax - Xmin\n",
    "            * 위의 식을 써도 되지만 라이브러리를 씀(sklearn.preprocessing.MinMaxScaler이용)\n",
    "- standardization(표준화) : 평균0, 표준편차1로 조정\n",
    "                        X - Xmean(평균)\n",
    "    standardization = ------------------\n",
    "                        Xstd(표준편차)\n",
    "            * 위의 식을 써도 되지만 라이브러리를 씀(sklearn.preprocessing.StandardScaler이용)"
   ]
  },
  {
   "cell_type": "code",
   "execution_count": 19,
   "id": "65f45e69",
   "metadata": {},
   "outputs": [
    {
     "name": "stdout",
     "output_type": "stream",
     "text": [
      "[0.         0.11111111 0.44444444 0.77777778 1.        ] [0.         0.13043478 0.70652174 0.83695652 1.        ]\n"
     ]
    }
   ],
   "source": [
    "# 라이브러리를 쓰지 않고 정규화\n",
    "x_data = np.array([1,2,5,8,10])\n",
    "y_data = np.array([3,15,68,80,95])\n",
    "scaled_x_data = (x_data - x_data.min()) / (x_data.max()-x_data.min())\n",
    "scaled_y_data = (y_data - y_data.min()) / (y_data.max()-y_data.min())\n",
    "print(scaled_x_data, scaled_y_data)"
   ]
  },
  {
   "cell_type": "code",
   "execution_count": 20,
   "id": "8bbb8112",
   "metadata": {},
   "outputs": [
    {
     "data": {
      "text/plain": [
       "array([[ 1.        ,  3.        ,  0.        ,  0.        ],\n",
       "       [ 2.        , 15.        ,  0.11111111,  0.13043478],\n",
       "       [ 5.        , 68.        ,  0.44444444,  0.70652174],\n",
       "       [ 8.        , 80.        ,  0.77777778,  0.83695652],\n",
       "       [10.        , 95.        ,  1.        ,  1.        ]])"
      ]
     },
     "execution_count": 20,
     "metadata": {},
     "output_type": "execute_result"
    }
   ],
   "source": [
    "# 라이브러리를 쓰고 정규화 (MinMaxScaler이용)\n",
    "x_data = np.array([1,2,5,8,10]).reshape(-1,1)\n",
    "y_data = np.array([3,15,68,80,95]).reshape(-1,1)\n",
    "# np.column_stack([x_data, y_data])\n",
    "from sklearn.preprocessing import MinMaxScaler\n",
    "scaler_x = MinMaxScaler() # x_data를 정규화시킬 객체\n",
    "# scaler_x.fit(x_data)\n",
    "# scaled_x_data = scaler_x.transform(x_data)\n",
    "scaled_x_data = scaler_x.fit_transform(x_data)\n",
    "scaler_y = MinMaxScaler()\n",
    "scaled_y_data = scaler_y.fit_transform(y_data)\n",
    "np.column_stack([x_data,y_data, scaled_x_data, scaled_y_data])\n"
   ]
  },
  {
   "cell_type": "code",
   "execution_count": 21,
   "id": "d120aec5",
   "metadata": {},
   "outputs": [
    {
     "name": "stdout",
     "output_type": "stream",
     "text": [
      "0번째 cost:1.5884368419647217, W:[-0.10596624], b:[-0.59510136]\n",
      "1000번째 cost:0.05372295528650284, W:[0.4912887], b:[0.23446359]\n",
      "2000번째 cost:0.03095746971666813, W:[0.6287923], b:[0.25619423]\n",
      "3000번째 cost:0.023056965321302414, W:[0.71006], b:[0.22104475]\n",
      "4000번째 cost:0.018142474815249443, W:[0.7721591], b:[0.18888555]\n",
      "5000번째 cost:0.015058746561408043, W:[0.8211644], b:[0.16305436]\n",
      "6000번째 cost:0.013123609125614166, W:[0.8599693], b:[0.14256237]\n",
      "7000번째 cost:0.011909229680895805, W:[0.8907085], b:[0.12632677]\n",
      "8000번째 cost:0.011147165670990944, W:[0.9150591], b:[0.11346512]\n",
      "9000번째 cost:0.010668942704796791, W:[0.9343489], b:[0.10327654]\n",
      "10000번째 cost:0.010368837043642998, W:[0.9496297], b:[0.0952054]\n",
      "11000번째 cost:0.010180512443184853, W:[0.9617348], b:[0.08881163]\n",
      "12000번째 cost:0.010062336921691895, W:[0.9713238], b:[0.08374675]\n",
      "13000번째 cost:0.00998817477375269, W:[0.9789201], b:[0.07973451]\n",
      "14000번째 cost:0.00994163565337658, W:[0.9849378], b:[0.07655612]\n",
      "15000번째 cost:0.009912432171404362, W:[0.98970443], b:[0.07403828]\n",
      "16000번째 cost:0.009894103743135929, W:[0.9934806], b:[0.07204378]\n",
      "17000번째 cost:0.009882601909339428, W:[0.99647224], b:[0.07046381]\n",
      "18000번째 cost:0.009875383228063583, W:[0.9988416], b:[0.06921221]\n",
      "19000번째 cost:0.009870861656963825, W:[1.0007156], b:[0.06822118]\n",
      "20000번째 cost:0.009868022985756397, W:[1.0022011], b:[0.0674363]\n"
     ]
    }
   ],
   "source": [
    "# placeholder 설정\n",
    "x = tf.placeholder(dtype=tf.float32)\n",
    "y = tf.placeholder(dtype=tf.float32)\n",
    "# W, b\n",
    "W = tf.Variable(tf.random.normal([1]))\n",
    "b = tf.Variable(tf.random.normal([1]))\n",
    "# Hypothesis(예측값)\n",
    "H = W*x + b\n",
    "# 손실함수\n",
    "cost = tf.reduce_mean(tf.square(H-y))\n",
    "# 경사하강법\n",
    "train = tf.train.GradientDescentOptimizer(learning_rate=0.001).minimize(cost)\n",
    "# Session 객체 생성\n",
    "sess = tf.Session()\n",
    "sess.run(tf.global_variables_initializer()) # W, b 초기화\n",
    "# 5000번 학습\n",
    "for step in range(20001):\n",
    "    _, cost_val, W_val, b_val = sess.run([train, cost, W, b],\n",
    "                                         feed_dict={x:scaled_x_data,\n",
    "                                                    y:scaled_y_data})\n",
    "    if step%1000 ==0:\n",
    "        print(\"{}번째 cost:{}, W:{}, b:{}\".format(step,\n",
    "                                                cost_val,\n",
    "                                                W_val,\n",
    "                                                b_val))"
   ]
  },
  {
   "cell_type": "code",
   "execution_count": 22,
   "id": "7a0ae32e",
   "metadata": {},
   "outputs": [
    {
     "name": "stdout",
     "output_type": "stream",
     "text": [
      "모델 예측을 위한 입력 :\n",
      "[[0.11111111]\n",
      " [0.22222222]]\n",
      "모델 예측 결과 :\n",
      "[[0.17879197]\n",
      " [0.29014766]]\n",
      "결과 :\n",
      "[[19.448862]\n",
      " [29.693584]]\n"
     ]
    }
   ],
   "source": [
    "# 예측 : 모델에 scale 조정된 값으로 예측=> scale 조정된 y값\n",
    "scaled_input = scaler_x.transform(np.array([[2],\n",
    "                                            [3]]))\n",
    "print('모델 예측을 위한 입력 :', scaled_input, sep='\\n')\n",
    "scaled_output = sess.run(H, feed_dict={x:scaled_input})\n",
    "print('모델 예측 결과 :', scaled_output, sep='\\n')\n",
    "print('결과 :', scaler_y.inverse_transform(scaled_output), sep='\\n')"
   ]
  },
  {
   "cell_type": "code",
   "execution_count": 23,
   "id": "5db342c4",
   "metadata": {},
   "outputs": [],
   "source": [
    "# x_data들의 예측값\n",
    "scaled_y_hat = sess.run(H, feed_dict={x:scaled_x_data})\n",
    "y_hat = scaler_y.inverse_transform(scaled_y_hat)"
   ]
  },
  {
   "cell_type": "code",
   "execution_count": 24,
   "id": "f2aeb527",
   "metadata": {},
   "outputs": [
    {
     "data": {
      "text/plain": [
       "[<matplotlib.lines.Line2D at 0x205dc9ec370>]"
      ]
     },
     "execution_count": 24,
     "metadata": {},
     "output_type": "execute_result"
    },
    {
     "data": {
      "image/png": "[encoded data removed]",
      "text/plain": [
       "<Figure size 640x480 with 1 Axes>"
      ]
     },
     "metadata": {},
     "output_type": "display_data"
    }
   ],
   "source": [
    "import matplotlib.pyplot as plt\n",
    "plt.plot(x_data, y_data, 'r')\n",
    "plt.plot(x_data,y_hat, 'b')"
   ]
  },
  {
   "cell_type": "code",
   "execution_count": 25,
   "id": "a421816c",
   "metadata": {},
   "outputs": [
    {
     "name": "stdout",
     "output_type": "stream",
     "text": [
      "[[ 1  3]\n",
      " [ 2 15]\n",
      " [ 5 68]\n",
      " [ 8 80]\n",
      " [10 95]]\n",
      "[[-1.22474487 -1.34819316]\n",
      " [-0.93313895 -1.01936556]\n",
      " [-0.05832118  0.43295634]\n",
      " [ 0.81649658  0.76178394]\n",
      " [ 1.39970842  1.17281844]]\n"
     ]
    }
   ],
   "source": [
    "# 라이브러리를 쓰고 표준화 (StandardScaler 이용)\n",
    "x_data = np.array([1,2,5,8,10]).reshape(-1,1)\n",
    "y_data = np.array([3,15,68,80,95]).reshape(-1,1)\n",
    "\n",
    "from sklearn.preprocessing import StandardScaler\n",
    "scaler_x = StandardScaler() # x_data를 표준화할 객체\n",
    "scaler_y = StandardScaler() # y_data를 표준화할 객체\n",
    "scaled_x_data = scaler_x.fit_transform(x_data)\n",
    "scaled_y_data = scaler_y.fit_transform(y_data)\n",
    "print(np.column_stack([x_data, y_data]))\n",
    "print(np.column_stack([scaled_x_data, scaled_y_data]))"
   ]
  },
  {
   "cell_type": "code",
   "execution_count": 26,
   "id": "f81a0948",
   "metadata": {},
   "outputs": [
    {
     "name": "stdout",
     "output_type": "stream",
     "text": [
      "0째 : cost:0.2397584468126297, W:[1.382381], b:[0.06912126]\n",
      "600째 : cost:0.07871083170175552, W:[1.0927641], b:[0.02079395]\n",
      "1200째 : cost:0.06413588672876358, W:[1.0056368], b:[0.0062555]\n",
      "1800째 : cost:0.06281694769859314, W:[0.9794273], b:[0.00188187]\n",
      "2400째 : cost:0.06269757449626923, W:[0.97154236], b:[0.00056614]\n",
      "3000째 : cost:0.06268677860498428, W:[0.9691704], b:[0.00017032]\n",
      "3600째 : cost:0.06268580257892609, W:[0.968457], b:[5.1246167e-05]\n",
      "4200째 : cost:0.06268571317195892, W:[0.968243], b:[1.542658e-05]\n",
      "4800째 : cost:0.06268569082021713, W:[0.9681799], b:[4.649787e-06]\n",
      "5400째 : cost:0.06268571317195892, W:[0.9681648], b:[1.4035953e-06]\n",
      "6000째 : cost:0.06268571317195892, W:[0.9681648], b:[4.2450537e-07]\n",
      "6600째 : cost:0.06268569827079773, W:[0.9681648], b:[1.3201013e-07]\n",
      "7200째 : cost:0.06268569082021713, W:[0.9681648], b:[4.342998e-08]\n",
      "7800째 : cost:0.06268569827079773, W:[0.9681648], b:[2.978023e-08]\n",
      "8400째 : cost:0.06268569827079773, W:[0.9681648], b:[2.980258e-08]\n",
      "9000째 : cost:0.06268569827079773, W:[0.9681648], b:[2.9772778e-08]\n",
      "9600째 : cost:0.06268569827079773, W:[0.9681648], b:[2.9795132e-08]\n",
      "10200째 : cost:0.06268569827079773, W:[0.9681648], b:[2.9765328e-08]\n",
      "10800째 : cost:0.06268569827079773, W:[0.9681648], b:[2.978768e-08]\n",
      "11400째 : cost:0.06268569827079773, W:[0.9681648], b:[2.9810032e-08]\n",
      "12000째 : cost:0.06268569827079773, W:[0.9681648], b:[2.978023e-08]\n"
     ]
    }
   ],
   "source": [
    "# placeholder 설정 (입력변수 x, 타겟변수 y)\n",
    "x = tf.placeholder(dtype=tf.float32)\n",
    "y = tf.placeholder(dtype=tf.float32)\n",
    "# W, b\n",
    "W = tf.Variable(tf.random.normal([1]))\n",
    "b = tf.Variable(tf.random.normal([1]))\n",
    "# Hypothesis(예측값)\n",
    "H = W*x + b\n",
    "# 손실함수\n",
    "cost = tf.reduce_mean(tf.square(H-y))\n",
    "# 경사하강법\n",
    "train = tf.train.GradientDescentOptimizer(learning_rate=0.001).minimize(cost)\n",
    "# Session 객체 생성\n",
    "sess = tf.Session()\n",
    "sess.run(tf.global_variables_initializer()) # W, b 초기화\n",
    "# 12000번 학습\n",
    "for step in range(12001):\n",
    "    _, cost_val, W_val, b_val = sess.run([train, cost, W, b], \n",
    "                                         feed_dict={x:scaled_x_data,\n",
    "                                                   y:scaled_y_data})\n",
    "    if step%600 == 0:\n",
    "        print('{}째 : cost:{}, W:{}, b:{}'.format(step, cost_val, W_val, b_val))"
   ]
  },
  {
   "cell_type": "code",
   "execution_count": 27,
   "id": "79496b50",
   "metadata": {},
   "outputs": [
    {
     "data": {
      "text/plain": [
       "[<matplotlib.lines.Line2D at 0x205dec5fd30>]"
      ]
     },
     "execution_count": 27,
     "metadata": {},
     "output_type": "execute_result"
    },
    {
     "data": {
      "image/png": "[encoded data removed]",
      "text/plain": [
       "<Figure size 640x480 with 1 Axes>"
      ]
     },
     "metadata": {},
     "output_type": "display_data"
    }
   ],
   "source": [
    "# x_data들의 예측값\n",
    "scaled_y_hat = sess.run(H, feed_dict={x:scaled_x_data})\n",
    "y_hat = scaler_y.inverse_transform(scaled_y_hat)\n",
    "import matplotlib.pyplot as plt\n",
    "plt.plot(x_data, y_data, 'r')\n",
    "plt.plot(x_data, y_hat, 'b')"
   ]
  },
  {
   "cell_type": "markdown",
   "id": "3bee233a",
   "metadata": {},
   "source": [
    "## 2.5 입력(독립)변수 x가 3개, 타겟(종속)변수 y가 1개 (csv)"
   ]
  },
  {
   "cell_type": "code",
   "execution_count": 31,
   "id": "2d88c75a",
   "metadata": {},
   "outputs": [
    {
     "data": {
      "text/plain": [
       "array([[ 41. , 190. ,   7.4,  67. ,   5. ,   1. ],\n",
       "       [ 36. , 118. ,   8. ,  72. ,   5. ,   2. ],\n",
       "       [ 12. , 149. ,  12.6,  74. ,   5. ,   3. ],\n",
       "       [ 18. , 313. ,  11.5,  62. ,   5. ,   4. ],\n",
       "       [  nan,   nan,  14.3,  56. ,   5. ,   5. ]])"
      ]
     },
     "execution_count": 31,
     "metadata": {},
     "output_type": "execute_result"
    }
   ],
   "source": [
    "# 방법 1: csv -> array\n",
    "import numpy as np\n",
    "data = np.genfromtxt('data/ozone.csv',\n",
    "                     delimiter=',',\n",
    "                     skip_header=1,\n",
    "                     missing_values='NA',\n",
    "                     filling_values=np.nan) # 결측치, header가 없어야 함\n",
    "data[:5]"
   ]
  },
  {
   "cell_type": "code",
   "execution_count": 37,
   "id": "24e628fb",
   "metadata": {},
   "outputs": [
    {
     "name": "stdout",
     "output_type": "stream",
     "text": [
      "<class 'pandas.core.frame.DataFrame'>\n",
      "RangeIndex: 153 entries, 0 to 152\n",
      "Data columns (total 6 columns):\n",
      " #   Column   Non-Null Count  Dtype  \n",
      "---  ------   --------------  -----  \n",
      " 0   Ozone    116 non-null    float64\n",
      " 1   Solar.R  146 non-null    float64\n",
      " 2   Wind     153 non-null    float64\n",
      " 3   Temp     153 non-null    int64  \n",
      " 4   Month    153 non-null    int64  \n",
      " 5   Day      153 non-null    int64  \n",
      "dtypes: float64(3), int64(3)\n",
      "memory usage: 7.3 KB\n"
     ]
    },
    {
     "data": {
      "text/plain": [
       "Ozone      37\n",
       "Solar.R     7\n",
       "Wind        0\n",
       "Temp        0\n",
       "Month       0\n",
       "Day         0\n",
       "dtype: int64"
      ]
     },
     "execution_count": 37,
     "metadata": {},
     "output_type": "execute_result"
    }
   ],
   "source": [
    "# 방법2 : csv파일 -> 데이터프레임 -> 결측치처리 -> 넘파이배열 -> 머신러닝\n",
    "# 1. csv를 데이터프레임으로 읽기\n",
    "import pandas as pd\n",
    "data = pd.read_csv('data/ozone.csv', encoding='utf-8')\n",
    "data.info() # Ozone, Solar.R 열에만 결측치\n",
    "data.isna().sum() # 열별 결측치 갯수"
   ]
  },
  {
   "cell_type": "code",
   "execution_count": 40,
   "id": "3f9cb21c",
   "metadata": {},
   "outputs": [
    {
     "data": {
      "text/html": [
       "<div>\n",
       "<style scoped>\n",
       "    .dataframe tbody tr th:only-of-type {\n",
       "        vertical-align: middle;\n",
       "    }\n",
       "\n",
       "    .dataframe tbody tr th {\n",
       "        vertical-align: top;\n",
       "    }\n",
       "\n",
       "    .dataframe thead th {\n",
       "        text-align: right;\n",
       "    }\n",
       "</style>\n",
       "<table border=\"1\" class=\"dataframe\">\n",
       "  <thead>\n",
       "    <tr style=\"text-align: right;\">\n",
       "      <th></th>\n",
       "      <th>Ozone</th>\n",
       "      <th>Solar.R</th>\n",
       "    </tr>\n",
       "    <tr>\n",
       "      <th>Month</th>\n",
       "      <th></th>\n",
       "      <th></th>\n",
       "    </tr>\n",
       "  </thead>\n",
       "  <tbody>\n",
       "    <tr>\n",
       "      <th>5</th>\n",
       "      <td>23.615385</td>\n",
       "      <td>181.296296</td>\n",
       "    </tr>\n",
       "    <tr>\n",
       "      <th>6</th>\n",
       "      <td>29.444444</td>\n",
       "      <td>190.166667</td>\n",
       "    </tr>\n",
       "    <tr>\n",
       "      <th>7</th>\n",
       "      <td>59.115385</td>\n",
       "      <td>216.483871</td>\n",
       "    </tr>\n",
       "    <tr>\n",
       "      <th>8</th>\n",
       "      <td>59.961538</td>\n",
       "      <td>171.857143</td>\n",
       "    </tr>\n",
       "    <tr>\n",
       "      <th>9</th>\n",
       "      <td>31.448276</td>\n",
       "      <td>167.433333</td>\n",
       "    </tr>\n",
       "  </tbody>\n",
       "</table>\n",
       "</div>"
      ],
      "text/plain": [
       "           Ozone     Solar.R\n",
       "Month                       \n",
       "5      23.615385  181.296296\n",
       "6      29.444444  190.166667\n",
       "7      59.115385  216.483871\n",
       "8      59.961538  171.857143\n",
       "9      31.448276  167.433333"
      ]
     },
     "metadata": {},
     "output_type": "display_data"
    },
    {
     "name": "stdout",
     "output_type": "stream",
     "text": [
      "5월에 Ozone으로 대체할 값 : 23.615384615384617\n"
     ]
    }
   ],
   "source": [
    "# 2. 결측치 처리\n",
    "# 결측치 처리 방법1 : 결측치가 있는 행을 제거\n",
    "# data.dropna(how='any', axis=0, inplace=True)\n",
    "# 결측치 처리 방법2 : 결측치 대체(열별 평균값으로 대체)\n",
    "data.mean(axis=0)\n",
    "# data.fillna(value=data.mean())\n",
    "# 결측치 처리 방법3 : 결측치 대체(월별 열별 평균값으로 대체)\n",
    "mean_data = data.groupby('Month')[['Ozone','Solar.R']].mean()\n",
    "display(mean_data)\n",
    "print('5월에 Ozone으로 대체할 값 :', mean_data.loc[5, 'Ozone'])"
   ]
  },
  {
   "cell_type": "code",
   "execution_count": 48,
   "id": "6ae4d47b",
   "metadata": {},
   "outputs": [
    {
     "data": {
      "text/plain": [
       "Ozone       23.615385\n",
       "Solar.R    181.296296\n",
       "Wind        14.300000\n",
       "Temp        56.000000\n",
       "Month        5.000000\n",
       "Day          5.000000\n",
       "Name: 4, dtype: float64"
      ]
     },
     "execution_count": 48,
     "metadata": {},
     "output_type": "execute_result"
    }
   ],
   "source": [
    "def fill_nan(row):\n",
    "    # print(row['Ozone'], row['Solar.R'])\n",
    "    # print(row.isna())\n",
    "    'row[\"Ozone\"]이나 row[\"Solar.R\"]가 결측치면 mean_data[월, 열이름]으로 대체'\n",
    "    row = row.copy()\n",
    "    if row.isna()['Ozone']:\n",
    "        row['Ozone'] = mean_data.loc[row.Month, 'Ozone']\n",
    "    if row.isna()['Solar.R']:\n",
    "        row['Solar.R'] = mean_data.loc[row['Month'], 'Solar.R']\n",
    "    return row\n",
    "fill_nan(data.loc[4])"
   ]
  },
  {
   "cell_type": "code",
   "execution_count": 49,
   "id": "e70e7bc0",
   "metadata": {},
   "outputs": [
    {
     "data": {
      "text/plain": [
       "Ozone       23.615385\n",
       "Solar.R    181.296296\n",
       "Wind        14.300000\n",
       "Temp        56.000000\n",
       "Month        5.000000\n",
       "Day          5.000000\n",
       "Name: 4, dtype: float64"
      ]
     },
     "execution_count": 49,
     "metadata": {},
     "output_type": "execute_result"
    }
   ],
   "source": [
    "def fill_nan(row):\n",
    "    # Ozone과 Solar.R 값, 그리고 NaN여부 출력\n",
    "    # print(row['Ozone'], row['Solar.R'])\n",
    "    # print(row.isna())\n",
    "    row = row.copy()\n",
    "    # Ozone이 NaN이면 mean_data에서 대체\n",
    "    if pd.isna(row['Ozone']):\n",
    "        row['Ozone'] = mean_data.loc[row['Month'], 'Ozone']\n",
    "    # Solar.R이 NaN이면 mean_data에서 대체\n",
    "    if pd.isna(row['Solar.R']):\n",
    "        row['Solar.R'] = mean_data.loc[row['Month'], 'Solar.R']\n",
    "    return row\n",
    "\n",
    "# 예시로 mean_data가 index=Month, columns=['Ozone','Solar.R'] 형태여야 함\n",
    "# mean_data = data.groupby('Month')[['Ozone','Solar.R']].mean()\n",
    "\n",
    "# 한 행 테스트\n",
    "fill_nan(data.loc[4])\n"
   ]
  },
  {
   "cell_type": "code",
   "execution_count": 53,
   "id": "e87d7f76",
   "metadata": {},
   "outputs": [
    {
     "data": {
      "text/plain": [
       "((153, 3), (153, 1))"
      ]
     },
     "execution_count": 53,
     "metadata": {},
     "output_type": "execute_result"
    }
   ],
   "source": [
    "data = data.apply(fill_nan, axis=1)\n",
    "X_data = data[['Solar.R', 'Wind', 'Temp']].values\n",
    "y_data = data[['Ozone']].values\n",
    "X_data.shape , y_data.shape"
   ]
  },
  {
   "cell_type": "code",
   "execution_count": 54,
   "id": "84b06e26",
   "metadata": {},
   "outputs": [
    {
     "name": "stdout",
     "output_type": "stream",
     "text": [
      "Ozone      0\n",
      "Solar.R    0\n",
      "Wind       0\n",
      "Temp       0\n",
      "Month      0\n",
      "Day        0\n",
      "dtype: int64\n"
     ]
    }
   ],
   "source": [
    "print(data.isnull().sum())"
   ]
  },
  {
   "cell_type": "code",
   "execution_count": 65,
   "id": "38dc3197",
   "metadata": {},
   "outputs": [
    {
     "name": "stdout",
     "output_type": "stream",
     "text": [
      "0번째 cost:11438.212890625\n",
      "1000번째 cost:587.566162109375\n",
      "2000번째 cost:524.3401489257812\n",
      "3000번째 cost:492.6429748535156\n",
      "4000번째 cost:476.7502136230469\n",
      "5000번째 cost:468.7795715332031\n",
      "6000번째 cost:464.780029296875\n",
      "7000번째 cost:462.77093505859375\n",
      "8000번째 cost:461.75970458984375\n",
      "9000번째 cost:461.2486572265625\n",
      "10000번째 cost:460.9882507324219\n"
     ]
    }
   ],
   "source": [
    "# tensorflow 구현\n",
    "# 1. X, y\n",
    "X = tf.placeholder(shape=[None, 3], dtype=tf.float32)\n",
    "y = tf.placeholder(shape=[None, 1], dtype=tf.float32)\n",
    "# 2. 독립변수 3개, 타겟변수 1개인 모델의 weight, bias\n",
    "W = tf.Variable(tf.random.normal([3,1]))\n",
    "b = tf.Variable(tf.random_normal([1]))\n",
    "# 3. Hypothesis\n",
    "# H = X@W + b\n",
    "H = tf.matmul(X, W) + b\n",
    "# 4. cost함수(손실함수) : mse\n",
    "cost = tf.reduce_mean(tf.square(H-y))\n",
    "# 5. train\n",
    "train = tf.train.GradientDescentOptimizer(learning_rate=1e-5).minimize(cost)\n",
    "# sess 객체 생성\n",
    "sess = tf.Session()\n",
    "sess.run(tf.global_variables_initializer())\n",
    "# 6. 학습\n",
    "for step in range(10001):\n",
    "    _, cost_val = sess.run([train, cost], feed_dict={X:X_data,\n",
    "                                                     y:y_data})\n",
    "    if step%1000 ==0:\n",
    "        print(\"{}번째 cost:{}\".format(step, cost_val))"
   ]
  },
  {
   "cell_type": "code",
   "execution_count": 71,
   "id": "35952c02",
   "metadata": {},
   "outputs": [
    {
     "name": "stdout",
     "output_type": "stream",
     "text": [
      "1000번째 cost:559.2736206054688\n",
      "2000번째 cost:510.8553466796875\n",
      "3000번째 cost:486.58056640625\n",
      "4000번째 cost:474.4080505371094\n",
      "5000번째 cost:468.3020935058594\n",
      "6000번째 cost:465.2370300292969\n",
      "7000번째 cost:463.69622802734375\n",
      "8000번째 cost:462.91937255859375\n",
      "9000번째 cost:462.525634765625\n",
      "10000번째 cost:462.32379150390625\n",
      "11000번째 cost:462.2182922363281\n",
      "12000번째 cost:462.16094970703125\n",
      "13000번째 cost:462.1278076171875\n",
      "14000번째 cost:462.1067810058594\n",
      "15000번째 cost:462.0919189453125\n",
      "16000번째 cost:462.0799560546875\n",
      "17000번째 cost:462.0697021484375\n",
      "18000번째 cost:462.05999755859375\n",
      "19000번째 cost:462.0508728027344\n",
      "20000번째 cost:462.04180908203125\n",
      "최종 cost:462.04180908203125, W:[[ 0.0553591 ]\n",
      " [-3.5846093 ]\n",
      " [ 0.86127156]], b:[-0.33354485]\n"
     ]
    }
   ],
   "source": [
    "# tensorflow 구현\n",
    "# 1. X, y\n",
    "X = tf.placeholder(shape=[None, 3], dtype=tf.float32)\n",
    "y = tf.placeholder(shape=[None, 1], dtype=tf.float32)\n",
    "# 2. 독립변수 3개, 타겟변수1개인 모델의 weight, bias\n",
    "W = tf.Variable(tf.random.normal([3, 1]))\n",
    "b = tf.Variable(tf.random_normal([1]))\n",
    "# 3. Hypothesis\n",
    "# H = X@W + b\n",
    "H = tf.matmul(X, W) + b\n",
    "# 4. cost함수(손실함수) : mse\n",
    "cost = tf.reduce_mean(tf.square(H-y))\n",
    "# 5. train\n",
    "train = tf.train.GradientDescentOptimizer(learning_rate=1e-5).minimize(cost)\n",
    "# sess 객체 생성 & W, b 초기화\n",
    "sess = tf.Session()\n",
    "sess.run(tf.global_variables_initializer())\n",
    "# 6. 학습\n",
    "for step in range(1, 20001):\n",
    "    _, cost_val = sess.run([train, cost], feed_dict={X:X_data,\n",
    "                                                    y:y_data})\n",
    "    if step%1000 == 0:\n",
    "        print(\"{}번째 cost:{}\".format(step, cost_val))\n",
    "print(\"최종 cost:{}, W:{}, b:{}\".format(cost_val,\n",
    "                                     sess.run(W),\n",
    "                                     sess.run(b)))"
   ]
  },
  {
   "cell_type": "code",
   "execution_count": 73,
   "id": "1d51d589",
   "metadata": {},
   "outputs": [
    {
     "data": {
      "text/plain": [
       "array([[190. ,   7.4,  67. ,  41. ],\n",
       "       [118. ,   8. ,  72. ,  36. ],\n",
       "       [149. ,  12.6,  74. ,  12. ]])"
      ]
     },
     "execution_count": 73,
     "metadata": {},
     "output_type": "execute_result"
    }
   ],
   "source": [
    "np.column_stack([X_data, y_data])[:3]"
   ]
  },
  {
   "cell_type": "code",
   "execution_count": 74,
   "id": "58174d00",
   "metadata": {},
   "outputs": [
    {
     "data": {
      "text/plain": [
       "array([[39.533504]], dtype=float32)"
      ]
     },
     "execution_count": 74,
     "metadata": {},
     "output_type": "execute_result"
    }
   ],
   "source": [
    "# 예측하기\n",
    "input_data = np.array([[118. ,   8. ,  72.]])\n",
    "sess.run(H, feed_dict={X:input_data})"
   ]
  },
  {
   "cell_type": "markdown",
   "id": "f01520c7",
   "metadata": {},
   "source": [
    "### 스케일 조정\n",
    "```\n",
    "MinMaxScaler, StandardScaler\n",
    "    0~1       -2~2 주로 0근처\n",
    "\n",
    "```"
   ]
  },
  {
   "cell_type": "code",
   "execution_count": 75,
   "id": "0bd92544",
   "metadata": {},
   "outputs": [
    {
     "data": {
      "text/plain": [
       "((153, 3), (153, 1))"
      ]
     },
     "execution_count": 75,
     "metadata": {},
     "output_type": "execute_result"
    }
   ],
   "source": [
    "from sklearn.preprocessing import MinMaxScaler\n",
    "x_scaler = MinMaxScaler()\n",
    "y_scaler = MinMaxScaler()\n",
    "scaled_X_data = x_scaler.fit_transform(X_data)\n",
    "scaled_y_data = y_scaler.fit_transform(y_data)\n",
    "scaled_X_data.shape, scaled_y_data.shape"
   ]
  },
  {
   "cell_type": "code",
   "execution_count": 76,
   "id": "50c75645",
   "metadata": {},
   "outputs": [
    {
     "data": {
      "text/plain": [
       "array([[0.55963303, 0.3       , 0.26829268, 0.23952096],\n",
       "       [0.33944954, 0.33157895, 0.3902439 , 0.20958084],\n",
       "       [0.43425076, 0.57368421, 0.43902439, 0.06586826],\n",
       "       [0.93577982, 0.51578947, 0.14634146, 0.10179641],\n",
       "       [0.5330162 , 0.66315789, 0.        , 0.13542146],\n",
       "       [0.5330162 , 0.69473684, 0.24390244, 0.16167665],\n",
       "       [0.89296636, 0.36315789, 0.2195122 , 0.13173653],\n",
       "       [0.28134557, 0.63684211, 0.07317073, 0.10778443],\n",
       "       [0.03669725, 0.96842105, 0.12195122, 0.04191617],\n",
       "       [0.57186544, 0.36315789, 0.31707317, 0.13542146],\n",
       "       [0.5330162 , 0.27368421, 0.43902439, 0.03592814],\n",
       "       [0.76146789, 0.42105263, 0.31707317, 0.08982036],\n",
       "       [0.86544343, 0.39473684, 0.24390244, 0.05988024],\n",
       "       [0.81651376, 0.48421053, 0.29268293, 0.07784431],\n",
       "       [0.17737003, 0.60526316, 0.04878049, 0.10179641],\n",
       "       [1.        , 0.51578947, 0.19512195, 0.07784431],\n",
       "       [0.91743119, 0.54210526, 0.24390244, 0.19760479],\n",
       "       [0.21712538, 0.87894737, 0.02439024, 0.02994012],\n",
       "       [0.96330275, 0.51578947, 0.29268293, 0.17365269],\n",
       "       [0.11314985, 0.42105263, 0.14634146, 0.05988024],\n",
       "       [0.0030581 , 0.42105263, 0.07317073, 0.        ],\n",
       "       [0.95718654, 0.78421053, 0.41463415, 0.05988024],\n",
       "       [0.05504587, 0.42105263, 0.12195122, 0.01796407],\n",
       "       [0.25993884, 0.54210526, 0.12195122, 0.18562874],\n",
       "       [0.18042813, 0.78421053, 0.02439024, 0.13542146],\n",
       "       [0.79204893, 0.69473684, 0.04878049, 0.13542146],\n",
       "       [0.5330162 , 0.33157895, 0.02439024, 0.13542146],\n",
       "       [0.01834862, 0.54210526, 0.26829268, 0.13173653],\n",
       "       [0.74923547, 0.69473684, 0.6097561 , 0.26347305],\n",
       "       [0.66055046, 0.21052632, 0.56097561, 0.68263473],\n",
       "       [0.83180428, 0.3       , 0.48780488, 0.21556886],\n",
       "       [0.85321101, 0.36315789, 0.53658537, 0.17032601],\n",
       "       [0.85626911, 0.42105263, 0.43902439, 0.17032601],\n",
       "       [0.71865443, 0.75789474, 0.26829268, 0.17032601],\n",
       "       [0.54740061, 0.39473684, 0.68292683, 0.17032601],\n",
       "       [0.65137615, 0.36315789, 0.70731707, 0.17032601],\n",
       "       [0.78593272, 0.66315789, 0.56097561, 0.17032601],\n",
       "       [0.36697248, 0.42105263, 0.63414634, 0.16766467],\n",
       "       [0.81345566, 0.27368421, 0.75609756, 0.17032601],\n",
       "       [0.86850153, 0.63684211, 0.82926829, 0.41916168],\n",
       "       [0.96636086, 0.51578947, 0.75609756, 0.22754491],\n",
       "       [0.7706422 , 0.48421053, 0.90243902, 0.17032601],\n",
       "       [0.74311927, 0.39473684, 0.87804878, 0.17032601],\n",
       "       [0.43119266, 0.33157895, 0.63414634, 0.13173653],\n",
       "       [0.99388379, 0.63684211, 0.58536585, 0.17032601],\n",
       "       [0.96330275, 0.51578947, 0.56097561, 0.17032601],\n",
       "       [0.56269113, 0.69473684, 0.51219512, 0.11976048],\n",
       "       [0.8470948 , 1.        , 0.3902439 , 0.21556886],\n",
       "       [0.09174312, 0.39473684, 0.2195122 , 0.11377246],\n",
       "       [0.34556575, 0.51578947, 0.41463415, 0.06586826],\n",
       "       [0.39755352, 0.45263158, 0.48780488, 0.07185629],\n",
       "       [0.43730887, 0.24210526, 0.51219512, 0.17032601],\n",
       "       [0.15902141, 0.        , 0.48780488, 0.17032601],\n",
       "       [0.25688073, 0.15263158, 0.48780488, 0.17032601],\n",
       "       [0.74311927, 0.24210526, 0.48780488, 0.17032601],\n",
       "       [0.39143731, 0.33157895, 0.46341463, 0.17032601],\n",
       "       [0.36697248, 0.33157895, 0.53658537, 0.17032601],\n",
       "       [0.12232416, 0.45263158, 0.41463415, 0.17032601],\n",
       "       [0.27828746, 0.51578947, 0.58536585, 0.17032601],\n",
       "       [0.0733945 , 0.69473684, 0.51219512, 0.17032601],\n",
       "       [0.40061162, 0.33157895, 0.65853659, 0.17032601],\n",
       "       [0.80122324, 0.12631579, 0.68292683, 0.80239521],\n",
       "       [0.73700306, 0.39473684, 0.70731707, 0.28742515],\n",
       "       [0.70030581, 0.39473684, 0.6097561 , 0.18562874],\n",
       "       [0.28746177, 0.48421053, 0.68292683, 0.34799632],\n",
       "       [0.51376147, 0.15263158, 0.65853659, 0.37724551],\n",
       "       [0.93883792, 0.48421053, 0.65853659, 0.23353293],\n",
       "       [0.82262997, 0.17894737, 0.7804878 , 0.45508982],\n",
       "       [0.79510703, 0.24210526, 0.87804878, 0.5748503 ],\n",
       "       [0.81039755, 0.21052632, 0.87804878, 0.5748503 ],\n",
       "       [0.51376147, 0.3       , 0.80487805, 0.50299401],\n",
       "       [0.40366972, 0.36315789, 0.63414634, 0.34799632],\n",
       "       [0.78593272, 0.66315789, 0.41463415, 0.05389222],\n",
       "       [0.51376147, 0.69473684, 0.6097561 , 0.15568862],\n",
       "       [0.86850153, 0.69473684, 0.85365854, 0.34799632],\n",
       "       [0.12538226, 0.66315789, 0.58536585, 0.03592814],\n",
       "       [0.77370031, 0.27368421, 0.6097561 , 0.28143713],\n",
       "       [0.81651376, 0.45263158, 0.63414634, 0.20359281],\n",
       "       [0.85015291, 0.24210526, 0.68292683, 0.35928144],\n",
       "       [0.55045872, 0.17894737, 0.75609756, 0.46706587],\n",
       "       [0.65137615, 0.51578947, 0.70731707, 0.37125749],\n",
       "       [0.        , 0.27368421, 0.43902439, 0.08982036],\n",
       "       [0.7675841 , 0.42105263, 0.6097561 , 0.34799632],\n",
       "       [0.88073394, 0.51578947, 0.63414634, 0.34799632],\n",
       "       [0.87767584, 0.36315789, 0.73170732, 0.47305389],\n",
       "       [0.66055046, 0.33157895, 0.70731707, 0.64071856],\n",
       "       [0.22629969, 0.36315789, 0.63414634, 0.11377246],\n",
       "       [0.2293578 , 0.54210526, 0.73170732, 0.30538922],\n",
       "       [0.62996942, 0.3       , 0.7804878 , 0.48502994],\n",
       "       [0.81957187, 0.3       , 0.73170732, 0.29341317],\n",
       "       [0.75229358, 0.3       , 0.65853659, 0.37724551],\n",
       "       [0.75535168, 0.39473684, 0.6097561 , 0.34730539],\n",
       "       [0.2324159 , 0.27368421, 0.6097561 , 0.22754491],\n",
       "       [0.05198777, 0.63684211, 0.6097561 , 0.04790419],\n",
       "       [0.21406728, 0.3       , 0.63414634, 0.08982036],\n",
       "       [0.50415028, 0.27368421, 0.73170732, 0.46107784],\n",
       "       [0.50415028, 0.3       , 0.70731707, 0.20359281],\n",
       "       [0.50415028, 0.15263158, 0.75609756, 0.38922156],\n",
       "       [0.75840979, 0.12105263, 0.80487805, 0.7245509 ],\n",
       "       [0.67889908, 0.45263158, 0.82926829, 0.52694611],\n",
       "       [0.6116208 , 0.33157895, 0.82926829, 0.65269461],\n",
       "       [0.65749235, 0.36315789, 0.87804878, 0.3530631 ],\n",
       "       [0.39755352, 0.51578947, 0.73170732, 0.3530631 ],\n",
       "       [0.56574924, 0.51578947, 0.73170732, 0.25748503],\n",
       "       [0.81345566, 0.51578947, 0.63414634, 0.16167665],\n",
       "       [0.4587156 , 0.42105263, 0.58536585, 0.38323353],\n",
       "       [0.17431193, 0.51578947, 0.56097561, 0.3530631 ],\n",
       "       [0.19571865, 0.45263158, 0.51219512, 0.1257485 ],\n",
       "       [0.13455657, 0.24210526, 0.56097561, 0.34730539],\n",
       "       [0.33027523, 0.3       , 0.48780488, 0.13173653],\n",
       "       [0.72477064, 0.48421053, 0.53658537, 0.17964072],\n",
       "       [0.55963303, 0.45263158, 0.53658537, 0.25748503],\n",
       "       [0.7706422 , 0.72631579, 0.51219512, 0.11976048],\n",
       "       [0.08868502, 0.66315789, 0.3902439 , 0.04790419],\n",
       "       [0.75840979, 0.57368421, 0.46341463, 0.3530631 ],\n",
       "       [0.62691131, 0.42105263, 0.56097561, 0.26347305],\n",
       "       [0.70642202, 0.08947368, 0.6097561 , 1.        ],\n",
       "       [0.63608563, 0.33157895, 0.73170732, 0.43113772],\n",
       "       [0.44648318, 0.21052632, 0.7804878 , 0.3530631 ],\n",
       "       [0.59938838, 0.42105263, 1.        , 0.4491018 ],\n",
       "       [0.66666667, 0.03157895, 0.92682927, 0.7005988 ],\n",
       "       [0.70336391, 0.24210526, 0.97560976, 0.49700599],\n",
       "       [0.55351682, 0.24210526, 0.92682927, 0.50299401],\n",
       "       [0.48929664, 0.27368421, 0.85365854, 0.56886228],\n",
       "       [0.58103976, 0.17894737, 0.87804878, 0.46107784],\n",
       "       [0.5382263 , 0.05789474, 0.90243902, 0.43113772],\n",
       "       [0.55657492, 0.15263158, 0.90243902, 0.53892216],\n",
       "       [0.26911315, 0.3       , 0.75609756, 0.2754491 ],\n",
       "       [0.25993884, 0.72631579, 0.68292683, 0.18562874],\n",
       "       [0.74923547, 0.48421053, 0.58536585, 0.11377246],\n",
       "       [0.65137615, 0.45263158, 0.53658537, 0.13173653],\n",
       "       [0.68195719, 0.48421053, 0.46341463, 0.11976048],\n",
       "       [0.7706422 , 0.42105263, 0.41463415, 0.13772455],\n",
       "       [0.70030581, 0.69473684, 0.6097561 , 0.25748503],\n",
       "       [0.7706422 , 0.72631579, 0.48780488, 0.11976048],\n",
       "       [0.70642202, 0.24210526, 0.51219512, 0.16167665],\n",
       "       [0.05198777, 0.48421053, 0.36585366, 0.04790419],\n",
       "       [0.32110092, 0.51578947, 0.36585366, 0.07185629],\n",
       "       [0.70336391, 0.27368421, 0.53658537, 0.26946108],\n",
       "       [0.66360856, 0.63684211, 0.26829268, 0.10179641],\n",
       "       [0.06116208, 0.45263158, 0.48780488, 0.07185629],\n",
       "       [0.70642202, 0.45263158, 0.29268293, 0.13772455],\n",
       "       [0.59327217, 0.33157895, 0.63414634, 0.08982036],\n",
       "       [0.70642202, 0.57368421, 0.19512195, 0.07185629],\n",
       "       [0.02140673, 0.39473684, 0.36585366, 0.13173653],\n",
       "       [0.40366972, 0.45263158, 0.6097561 , 0.20958084],\n",
       "       [0.12844037, 0.45263158, 0.31707317, 0.03592814],\n",
       "       [0.03975535, 0.78421053, 0.17073171, 0.07784431],\n",
       "       [0.56880734, 0.27368421, 0.34146341, 0.17365269],\n",
       "       [0.42201835, 0.60526316, 0.51219512, 0.18232501],\n",
       "       [0.56269113, 0.66315789, 0.46341463, 0.07784431],\n",
       "       [0.37920489, 0.33157895, 0.48780488, 0.10179641],\n",
       "       [0.66055046, 0.51578947, 0.29268293, 0.11377246]])"
      ]
     },
     "execution_count": 76,
     "metadata": {},
     "output_type": "execute_result"
    }
   ],
   "source": [
    "np.column_stack([scaled_X_data, scaled_y_data])"
   ]
  },
  {
   "cell_type": "code",
   "execution_count": 88,
   "id": "0dac1d3f",
   "metadata": {},
   "outputs": [
    {
     "name": "stdout",
     "output_type": "stream",
     "text": [
      "1000번째 cost:0.9084620475769043\n",
      "2000번째 cost:0.8535701632499695\n",
      "3000번째 cost:0.8024670481681824\n",
      "4000번째 cost:0.7548916935920715\n",
      "5000번째 cost:0.7106025218963623\n",
      "6000번째 cost:0.6693702340126038\n",
      "7000번째 cost:0.6309747099876404\n",
      "8000번째 cost:0.5952339172363281\n",
      "9000번째 cost:0.5619531869888306\n",
      "10000번째 cost:0.5309609770774841\n",
      "11000번째 cost:0.5021079182624817\n",
      "12000번째 cost:0.47524046897888184\n",
      "13000번째 cost:0.4502195417881012\n",
      "14000번째 cost:0.4269181191921234\n",
      "15000번째 cost:0.40521588921546936\n",
      "16000번째 cost:0.38500481843948364\n",
      "17000번째 cost:0.3661843538284302\n",
      "18000번째 cost:0.3486515283584595\n",
      "19000번째 cost:0.33231353759765625\n",
      "20000번째 cost:0.3171042203903198\n",
      "21000번째 cost:0.3029268682003021\n",
      "22000번째 cost:0.28972408175468445\n",
      "23000번째 cost:0.27741336822509766\n",
      "24000번째 cost:0.2659524381160736\n",
      "25000번째 cost:0.25526589155197144\n",
      "26000번째 cost:0.24530169367790222\n",
      "27000번째 cost:0.23602275550365448\n",
      "28000번째 cost:0.22737079858779907\n",
      "29000번째 cost:0.2193029373884201\n",
      "30000번째 cost:0.21177944540977478\n",
      "31000번째 cost:0.2047629952430725\n",
      "32000번째 cost:0.19821928441524506\n",
      "33000번째 cost:0.1921154409646988\n",
      "34000번째 cost:0.18642127513885498\n",
      "35000번째 cost:0.18110807240009308\n",
      "36000번째 cost:0.17614863812923431\n",
      "37000번째 cost:0.171518936753273\n",
      "38000번째 cost:0.16719478368759155\n",
      "39000번째 cost:0.16315358877182007\n",
      "40000번째 cost:0.15938475728034973\n",
      "41000번째 cost:0.1558651179075241\n",
      "42000번째 cost:0.15257005393505096\n",
      "43000번째 cost:0.14948666095733643\n",
      "44000번째 cost:0.14661383628845215\n",
      "45000번째 cost:0.14392024278640747\n",
      "46000번째 cost:0.14139491319656372\n",
      "47000번째 cost:0.13904227316379547\n",
      "48000번째 cost:0.1368289440870285\n",
      "49000번째 cost:0.13476212322711945\n",
      "50000번째 cost:0.13282185792922974\n",
      "최종 cost:0.13282185792922974, W:[[1.2882162 ]\n",
      " [0.03336734]\n",
      " [0.35678238]], b:[-0.54859537]\n"
     ]
    }
   ],
   "source": [
    "# tensorflow 구현\n",
    "# 1. X, y\n",
    "X = tf.placeholder(shape=[None, 3], dtype=tf.float32)\n",
    "y = tf.placeholder(shape=[None, 1], dtype=tf.float32)\n",
    "# 2. 독립변수 3개, 타겟변수1개인 모델의 weight, bias\n",
    "W = tf.Variable(tf.random.normal([3, 1]))\n",
    "b = tf.Variable(tf.random_normal([1]))\n",
    "# 3. Hypothesis\n",
    "# H = X@W + b\n",
    "H = tf.matmul(X, W) + b\n",
    "# 4. cost함수(손실함수) : mse\n",
    "cost = tf.reduce_mean(tf.square(H-y))\n",
    "# 5. train\n",
    "train = tf.train.GradientDescentOptimizer(learning_rate=1e-5).minimize(cost)\n",
    "# sess 객체 생성 & W, b 초기화\n",
    "sess = tf.Session()\n",
    "sess.run(tf.global_variables_initializer())\n",
    "# 6. 학습\n",
    "for step in range(1, 50001):\n",
    "    _, cost_val = sess.run([train, cost], feed_dict={X:scaled_X_data,\n",
    "                                                    y:scaled_y_data})\n",
    "    if step%1000 == 0:\n",
    "        print(\"{}번째 cost:{}\".format(step, cost_val))\n",
    "print(\"최종 cost:{}, W:{}, b:{}\".format(cost_val,\n",
    "                                     sess.run(W),\n",
    "                                     sess.run(b)))"
   ]
  },
  {
   "cell_type": "code",
   "execution_count": 89,
   "id": "0b9ac38f",
   "metadata": {},
   "outputs": [
    {
     "data": {
      "text/plain": [
       "array([[47.4369]], dtype=float32)"
      ]
     },
     "execution_count": 89,
     "metadata": {},
     "output_type": "execute_result"
    }
   ],
   "source": [
    "# 예측하기\n",
    "input_data = np.array([[190. ,   7.4,  67.]])\n",
    "scaled_y_hat = sess.run(H, feed_dict={X:x_scaler.transform(input_data)})\n",
    "y_scaler.inverse_transform(scaled_y_hat)"
   ]
  },
  {
   "cell_type": "markdown",
   "id": "e6b453ed",
   "metadata": {},
   "source": [
    "# 3. 이진분석 = logistic Regression (분류분석)\n",
    "- logistic 회귀분석 : 기본의 회귀분서과 다른 처리 필요"
   ]
  },
  {
   "cell_type": "code",
   "execution_count": 92,
   "id": "9e96fb11",
   "metadata": {},
   "outputs": [
    {
     "data": {
      "text/plain": [
       "<matplotlib.collections.PathCollection at 0x205e23b8340>"
      ]
     },
     "execution_count": 92,
     "metadata": {},
     "output_type": "execute_result"
    },
    {
     "data": {
      "image/png": "[encoded data removed]",
      "text/plain": [
       "<Figure size 640x480 with 1 Axes>"
      ]
     },
     "metadata": {},
     "output_type": "display_data"
    }
   ],
   "source": [
    "x = np.array([1, 2, 5, 8, 10])\n",
    "y = np.array([0, 0, 0, 1, 1]) # 실제값\n",
    "from scipy import stats\n",
    "lm = stats.linregress(x, y) # 기울기(W)와 y절편(b)\n",
    "H = lm[0]*x + lm[1]\n",
    "import matplotlib.pyplot as plt\n",
    "plt.plot(x, H, 'r')\n",
    "plt.scatter(x, y)"
   ]
  },
  {
   "cell_type": "code",
   "execution_count": 109,
   "id": "6db9f8db",
   "metadata": {},
   "outputs": [
    {
     "name": "stdout",
     "output_type": "stream",
     "text": [
      "800번째 cost:0.4858922064304352\n",
      "1600번째 cost:0.37949487566947937\n",
      "2400번째 cost:0.3238816261291504\n",
      "3200번째 cost:0.2904050052165985\n",
      "4000번째 cost:0.2678489089012146\n",
      "4800번째 cost:0.25135093927383423\n",
      "5600번째 cost:0.23854351043701172\n",
      "6400번째 cost:0.22815296053886414\n",
      "7200번째 cost:0.21943725645542145\n",
      "8000번째 cost:0.21193565428256989\n",
      "8800번째 cost:0.20534683763980865\n",
      "9600번째 cost:0.19946520030498505\n",
      "10400번째 cost:0.19414545595645905\n",
      "11200번째 cost:0.18928194046020508\n",
      "12000번째 cost:0.18479573726654053\n",
      "12800번째 cost:0.1806265413761139\n",
      "13600번째 cost:0.1767275631427765\n",
      "14400번째 cost:0.17306192219257355\n",
      "15200번째 cost:0.16959968209266663\n",
      "16000번째 cost:0.16631703078746796\n",
      "16800번째 cost:0.16319391131401062\n",
      "17600번째 cost:0.16021381318569183\n",
      "18400번째 cost:0.15736304223537445\n",
      "19200번째 cost:0.15462955832481384\n",
      "20000번째 cost:0.15200361609458923\n",
      "20800번째 cost:0.14947639405727386\n",
      "21600번째 cost:0.14704041182994843\n",
      "22400번째 cost:0.14468908309936523\n",
      "23200번째 cost:0.1424165517091751\n",
      "24000번째 cost:0.14021794497966766\n"
     ]
    }
   ],
   "source": [
    "# 교안 50p\n",
    "import numpy as np\n",
    "X_data = np.array([[10,0],\n",
    "                   [8, 1],\n",
    "                   [3, 3],\n",
    "                   [2, 3],\n",
    "                   [5, 1],\n",
    "                   [2, 0],\n",
    "                   [1, 0]])\n",
    "y_data = np.array([[1],[1],[1],[1],[0],[0],[0],])\n",
    "# tensorflow 구현(tensor 그래프)\n",
    "X = tf.placeholder(shape=[None, 2], dtype=tf.float32)\n",
    "y = tf.placeholder(shape=[None, 1], dtype=tf.float32)\n",
    "# 독립변수가 2개, 종속변수가 1개의 weight, bias\n",
    "W = tf.Variable(tf.random.normal([2,1]))\n",
    "b = tf.Variable(tf.random.normal([1]))\n",
    "# Hypothesis\n",
    "logits = tf.matmul(X, W) + b\n",
    "H      = tf.sigmoid(logits)\n",
    "# cost 함수\n",
    "# cost = tf.reduce_mean(tf.square(H-y))\n",
    "cost = tf.reduce_mean(tf.nn.sigmoid_cross_entropy_with_logits(logits=logits,\n",
    "                                                              labels=y))\n",
    "# train\n",
    "train = tf.train.GradientDescentOptimizer(learning_rate=0.01).minimize(cost)\n",
    "# sess 객체 생성\n",
    "sess = tf.Session()\n",
    "sess.run(tf.global_variables_initializer())\n",
    "# 학습\n",
    "for step in range(1, 24001):\n",
    "    _, cost_val = sess.run([train, cost], feed_dict={X:X_data,\n",
    "                                                     y:y_data})\n",
    "    if step%800==0:\n",
    "        print(\"{}번째 cost:{}\".format(step, cost_val))\n",
    "        "
   ]
  },
  {
   "cell_type": "code",
   "execution_count": 110,
   "id": "42abcc3e",
   "metadata": {},
   "outputs": [
    {
     "data": {
      "text/plain": [
       "array([[1.]], dtype=float32)"
      ]
     },
     "execution_count": 110,
     "metadata": {},
     "output_type": "execute_result"
    }
   ],
   "source": [
    "# 모델 사용 # predict\n",
    "input_data = np.array([[10, 0]])\n",
    "predict = tf.cast(H>=0.5, dtype=tf.float32)\n",
    "sess.run(predict, feed_dict={X:input_data})"
   ]
  },
  {
   "cell_type": "code",
   "execution_count": null,
   "id": "2b49f4a7",
   "metadata": {},
   "outputs": [
    {
     "data": {
      "text/plain": [
       "array([[ True],\n",
       "       [ True],\n",
       "       [ True],\n",
       "       [ True],\n",
       "       [ True],\n",
       "       [ True],\n",
       "       [ True]])"
      ]
     },
     "execution_count": 111,
     "metadata": {},
     "output_type": "execute_result"
    }
   ],
   "source": [
    "# accuracy\n",
    "correct = tf.equal(predict,y)\n",
    "sess.run(correct, feed_dict={X:X_data,\n",
    "                             y:y_data})"
   ]
  },
  {
   "cell_type": "code",
   "execution_count": null,
   "id": "0bbc98ff",
   "metadata": {},
   "outputs": [],
   "source": [
    "#"
   ]
  },
  {
   "cell_type": "code",
   "execution_count": null,
   "id": "464a53e2",
   "metadata": {},
   "outputs": [],
   "source": []
  },
  {
   "cell_type": "code",
   "execution_count": null,
   "id": "913c1672",
   "metadata": {},
   "outputs": [],
   "source": []
  },
  {
   "cell_type": "code",
   "execution_count": null,
   "id": "303c61c9",
   "metadata": {},
   "outputs": [],
   "source": []
  },
  {
   "cell_type": "code",
   "execution_count": null,
   "id": "a56b486b",
   "metadata": {},
   "outputs": [],
   "source": []
  },
  {
   "cell_type": "code",
   "execution_count": null,
   "id": "ea9f0dd6",
   "metadata": {},
   "outputs": [],
   "source": []
  },
  {
   "cell_type": "code",
   "execution_count": null,
   "id": "b215fdfc",
   "metadata": {},
   "outputs": [],
   "source": []
  },
  {
   "cell_type": "code",
   "execution_count": null,
   "id": "61b50367",
   "metadata": {},
   "outputs": [],
   "source": []
  },
  {
   "cell_type": "code",
   "execution_count": null,
   "id": "88aba013",
   "metadata": {},
   "outputs": [],
   "source": []
  },
  {
   "cell_type": "code",
   "execution_count": null,
   "id": "2e3984d8",
   "metadata": {},
   "outputs": [],
   "source": []
  },
  {
   "cell_type": "code",
   "execution_count": null,
   "id": "7e408240",
   "metadata": {},
   "outputs": [],
   "source": []
  }
 ],
 "metadata": {
  "kernelspec": {
   "display_name": "ml-dl-nlp",
   "language": "python",
   "name": "ml-dl-nlp"
  },
  "language_info": {
   "codemirror_mode": {
    "name": "ipython",
    "version": 3
   },
   "file_extension": ".py",
   "mimetype": "text/x-python",
   "name": "python",
   "nbconvert_exporter": "python",
   "pygments_lexer": "ipython3",
   "version": "3.10.18"
  }
 },
 "nbformat": 4,
 "nbformat_minor": 5
}
