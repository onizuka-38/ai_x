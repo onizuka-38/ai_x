{
 "cells": [
  {
   "cell_type": "markdown",
   "id": "54ee61d1",
   "metadata": {},
   "source": [
    "# 1. tensorflow v2.xx에서 v1사용하기"
   ]
  },
  {
   "cell_type": "code",
   "execution_count": 12,
   "id": "83fe890c",
   "metadata": {},
   "outputs": [],
   "source": [
    "import tensorflow.compat.v1 as tf\n",
    "tf.disable_v2_behavior() # v2를 비활성화하고 v1활성화\n",
    "import numpy as np\n",
    "import pandas as pd\n"
   ]
  },
  {
   "cell_type": "markdown",
   "id": "e8fcfb4b",
   "metadata": {},
   "source": [
    "## Tensorflow\n",
    "- 데이터 흐름 그래프(tensor객체의 흐름)\n",
    "- 이 그래프는 node(상수, 변수, 연산)와 edge로 구성\n",
    "- sess = tf.Session()으로 실행\n",
    "- sess.run() 을 통해 값을 확인"
   ]
  },
  {
   "cell_type": "code",
   "execution_count": 5,
   "id": "fe657d73",
   "metadata": {},
   "outputs": [
    {
     "name": "stdout",
     "output_type": "stream",
     "text": [
      "b'Hello, Tensorflow'\n"
     ]
    }
   ],
   "source": [
    "# tensor = data(상수, 변수)와 연산\n",
    "node1 = tf.constant('Hello, Tensorflow')\n",
    "sess = tf.Session()\n",
    "print(sess.run(node1))"
   ]
  },
  {
   "cell_type": "code",
   "execution_count": 7,
   "id": "a45e28eb",
   "metadata": {},
   "outputs": [
    {
     "name": "stdout",
     "output_type": "stream",
     "text": [
      "[10.0, 20.0, 30.0]\n"
     ]
    }
   ],
   "source": [
    "# 간단한 연산 tensor 그래프\n",
    "node1 = tf.constant(10, dtype=tf.float16)\n",
    "node2 = tf.constant(20, dtype=tf.float16)\n",
    "node3 = tf.add(node1, node2)\n",
    "sess = tf.Session()\n",
    "print(sess.run([node1,node2,node3]))"
   ]
  },
  {
   "cell_type": "code",
   "execution_count": 8,
   "id": "df468c28",
   "metadata": {},
   "outputs": [
    {
     "data": {
      "text/plain": [
       "[array([1, 2, 3], dtype=int16), array([1., 2., 3.], dtype=float32)]"
      ]
     },
     "execution_count": 8,
     "metadata": {},
     "output_type": "execute_result"
    }
   ],
   "source": [
    "# 타입 변경\n",
    "node1 = tf.constant(np.array([1,2,3]), dtype=tf.int16)\n",
    "node2 = tf.cast(node1, dtype=tf.float32)\n",
    "sess = tf.Session()\n",
    "sess.run([node1,node2])"
   ]
  },
  {
   "cell_type": "code",
   "execution_count": 10,
   "id": "d0eea3ed",
   "metadata": {},
   "outputs": [
    {
     "data": {
      "text/plain": [
       "2.0"
      ]
     },
     "execution_count": 10,
     "metadata": {},
     "output_type": "execute_result"
    }
   ],
   "source": [
    "# 평균값 계산 : tf.reduce_mean()\n",
    "data = np.array([1.,2.,3.])\n",
    "tensor = tf.reduce_mean(data)\n",
    "sess = tf.Session()\n",
    "sess.run(tensor)"
   ]
  },
  {
   "cell_type": "code",
   "execution_count": 11,
   "id": "c04014eb",
   "metadata": {},
   "outputs": [
    {
     "data": {
      "text/plain": [
       "[array([0.3511526], dtype=float32), array([-0.20769261], dtype=float32)]"
      ]
     },
     "execution_count": 11,
     "metadata": {},
     "output_type": "execute_result"
    }
   ],
   "source": [
    "# 랜덤값을 갖는 tensor\n",
    "a = tf.random_normal([1]) # 평균 0, 표준편차가 1인 난수 실수 2개(정규분포이루는 난수)\n",
    "b = tf.random_normal([1])\n",
    "sess = tf.Session()\n",
    "sess.run([a,b])"
   ]
  },
  {
   "cell_type": "code",
   "execution_count": 14,
   "id": "a621a27d",
   "metadata": {},
   "outputs": [
    {
     "data": {
      "text/plain": [
       "array([1.3397081], dtype=float32)"
      ]
     },
     "execution_count": 14,
     "metadata": {},
     "output_type": "execute_result"
    }
   ],
   "source": [
    "w = tf.Variable(tf.random.normal([1]))\n",
    "sess = tf.Session()\n",
    "sess.run(tf.global_variables_initializer()) # w변수의 난수 초기화\n",
    "sess.run(w)"
   ]
  },
  {
   "cell_type": "markdown",
   "id": "f6eae229",
   "metadata": {},
   "source": [
    "# 2. tensorflow v1 을 이용한 linear regression을 구현\n",
    "## 2.1 입력(독립)변수 x가 1개, 타겟(종속)변수 y가 1개"
   ]
  },
  {
   "cell_type": "code",
   "execution_count": 16,
   "id": "291d90bd",
   "metadata": {},
   "outputs": [
    {
     "name": "stdout",
     "output_type": "stream",
     "text": [
      "0번째 cost:19.39767074584961, W:[-0.39823622], b:[0.05057335]\n",
      "200번째 cost:0.004319420084357262, W:[1.0761487], b:[0.8268958]\n",
      "400번째 cost:0.0016493549337610602, W:[1.0470552], b:[0.8930324]\n",
      "600번째 cost:0.0006298046209849417, W:[1.0290772], b:[0.9339006]\n",
      "800번째 cost:0.0002404841361567378, W:[1.0179677], b:[0.9591549]\n",
      "1000번째 cost:9.183032670989633e-05, W:[1.0111032], b:[0.97476006]\n",
      "1200번째 cost:3.506489156279713e-05, W:[1.006861], b:[0.98440343]\n",
      "1400번째 cost:1.3390235835686326e-05, W:[1.0042398], b:[0.990362]\n",
      "1600번째 cost:5.1128990889992565e-06, W:[1.00262], b:[0.9940443]\n",
      "1800번째 cost:1.9526694359228713e-06, W:[1.0016191], b:[0.9963194]\n",
      "2000번째 cost:7.461919153683993e-07, W:[1.001001], b:[0.99772495]\n",
      "2200번째 cost:2.8534455509543477e-07, W:[1.0006189], b:[0.99859303]\n",
      "2400번째 cost:1.092798314061838e-07, W:[1.000383], b:[0.9991294]\n",
      "2600번째 cost:4.1934239192187306e-08, W:[1.0002373], b:[0.9994607]\n",
      "2800번째 cost:1.6165571992132755e-08, W:[1.0001476], b:[0.9996653]\n",
      "3000번째 cost:6.22662810201291e-09, W:[1.0000913], b:[0.9997921]\n",
      "3200번째 cost:2.4195212500188745e-09, W:[1.0000573], b:[0.9998706]\n",
      "3400번째 cost:9.251550636690808e-10, W:[1.000035], b:[0.9999197]\n",
      "3600번째 cost:3.610551857491373e-10, W:[1.000022], b:[0.99995005]\n",
      "3800번째 cost:1.572135061023161e-10, W:[1.0000147], b:[0.9999671]\n",
      "4000번째 cost:6.450188300144433e-11, W:[1.0000095], b:[0.999979]\n",
      "4200번째 cost:5.328478283606053e-11, W:[1.0000087], b:[0.9999811]\n",
      "4400번째 cost:5.328478283606053e-11, W:[1.0000087], b:[0.9999811]\n",
      "4600번째 cost:5.328478283606053e-11, W:[1.0000087], b:[0.9999811]\n",
      "4800번째 cost:5.328478283606053e-11, W:[1.0000087], b:[0.9999811]\n",
      "5000번째 cost:5.328478283606053e-11, W:[1.0000087], b:[0.9999811]\n"
     ]
    }
   ],
   "source": [
    "x = np.array([1,2,3])\n",
    "y = np.array([2,3,4])\n",
    "# weight와 bias(처음엔 랜덤값으로 셋팅, 학습과정에서 변경)\n",
    "W = tf.Variable(tf.random.normal([1]), name='weight')\n",
    "b = tf.Variable(tf.random.normal([1]), name='bias')\n",
    "# Hypothesis : 예측값\n",
    "H = W*x + b\n",
    "#cost function(손실함수 = mse; 최소제곱법)\n",
    "cost = tf.reduce_mean(tf.square(H-y))\n",
    "'''\n",
    "학습목적 : cost가 최소가 되는 W, b를 찾아내는 것\n",
    "cost는 2차함수이므로 곡선그래프, 곡선위 미분값이 줄어드는 방향으로 학습(경사하강)\n",
    "=> GradientDescentOptimizer\n",
    "\n",
    "'''\n",
    "optimizer = tf.train.GradientDescentOptimizer(learning_rate=0.01)\n",
    "train = optimizer.minimize(cost)\n",
    "# Session 생성\n",
    "sess = tf.Session()\n",
    "# W, b 변수 노드에 초기화\n",
    "sess.run(tf.global_variables_initializer())\n",
    "# 5000번 학습 (v2에서는 fit함수)\n",
    "for step in range(5001):\n",
    "    _, cost_val, W_val, b_val = sess.run([train, cost, W, b])\n",
    "    if step%200 == 0:\n",
    "        print(\"{}번째 cost:{}, W:{}, b:{}\".format(step,\n",
    "                                                cost_val,\n",
    "                                                W_val,\n",
    "                                                b_val))"
   ]
  },
  {
   "cell_type": "code",
   "execution_count": 17,
   "id": "98f6ea8f",
   "metadata": {},
   "outputs": [
    {
     "data": {
      "text/plain": [
       "[array([1.0000087], dtype=float32), array([0.9999811], dtype=float32)]"
      ]
     },
     "execution_count": 17,
     "metadata": {},
     "output_type": "execute_result"
    }
   ],
   "source": [
    "# 최종적으로 나온 회귀식 : H = W*x + b\n",
    "sess.run([W,b])"
   ]
  },
  {
   "cell_type": "code",
   "execution_count": 18,
   "id": "39d9fba5",
   "metadata": {},
   "outputs": [
    {
     "data": {
      "text/plain": [
       "(1.0000087, 0.9999811)"
      ]
     },
     "execution_count": 18,
     "metadata": {},
     "output_type": "execute_result"
    }
   ],
   "source": [
    "W_, b_ = sess.run([W,b])\n",
    "W_[0], b_[0]"
   ]
  },
  {
   "cell_type": "code",
   "execution_count": 19,
   "id": "74dad94f",
   "metadata": {},
   "outputs": [],
   "source": [
    "def predict(x):\n",
    "    return W_[0]*x + b_[0]"
   ]
  },
  {
   "cell_type": "code",
   "execution_count": 23,
   "id": "a9c17a63",
   "metadata": {},
   "outputs": [
    {
     "name": "stdout",
     "output_type": "stream",
     "text": [
      "예측값은  24.000181257724762\n"
     ]
    }
   ],
   "source": [
    "input_x = int(input('입력값은 ?'))\n",
    "print('예측값은 ', predict(input_x))"
   ]
  },
  {
   "cell_type": "markdown",
   "id": "4a34bc71",
   "metadata": {},
   "source": [
    "## 2.2 predict를 위한 placeholder이용\n",
    "- placeholder : 텐서플로우 외부에서 데이터를 입력받는 노드"
   ]
  },
  {
   "cell_type": "code",
   "execution_count": 25,
   "id": "8b2dcaa2",
   "metadata": {},
   "outputs": [
    {
     "data": {
      "text/plain": [
       "array([2., 3., 4.], dtype=float16)"
      ]
     },
     "execution_count": 25,
     "metadata": {},
     "output_type": "execute_result"
    }
   ],
   "source": [
    "# x = np.array([1,2,3])\n",
    "x = tf.placeholder(tf.float16)\n",
    "H = 1*x + 1\n",
    "sess = tf.Session()\n",
    "sess.run(H, feed_dict={x:np.array([1,2,3])})"
   ]
  },
  {
   "cell_type": "code",
   "execution_count": 29,
   "id": "aae2f842",
   "metadata": {},
   "outputs": [
    {
     "name": "stdout",
     "output_type": "stream",
     "text": [
      "0번째 cost:32.213539123535156, W:[0.8221204], b:[3.5955157]\n",
      "200번째 cost:0.22035053372383118, W:[1.8403633], b:[1.8532557]\n",
      "400번째 cost:0.02167334407567978, W:[1.9499345], b:[1.2675993]\n",
      "600번째 cost:0.002131765242666006, W:[1.9842983], b:[1.083925]\n",
      "800번째 cost:0.00020967787713743746, W:[1.9950756], b:[1.026321]\n",
      "1000번째 cost:2.0621857402147725e-05, W:[1.9984556], b:[1.0082544]\n",
      "1200번째 cost:2.028185463132104e-06, W:[1.9995157], b:[1.0025887]\n",
      "1400번째 cost:1.9956209484917053e-07, W:[1.999848], b:[1.000812]\n",
      "1600번째 cost:1.963477380684253e-08, W:[1.9999523], b:[1.0002546]\n",
      "1800번째 cost:1.9601884559961036e-09, W:[1.999985], b:[1.0000805]\n",
      "2000번째 cost:2.0509105524979532e-10, W:[1.999995], b:[1.0000262]\n",
      "2200번째 cost:3.470859016863059e-11, W:[1.9999979], b:[1.000011]\n",
      "2400번째 cost:3.470859016863059e-11, W:[1.9999979], b:[1.000011]\n",
      "2600번째 cost:3.470859016863059e-11, W:[1.9999979], b:[1.000011]\n",
      "2800번째 cost:3.470859016863059e-11, W:[1.9999979], b:[1.000011]\n",
      "3000번째 cost:3.470859016863059e-11, W:[1.9999979], b:[1.000011]\n",
      "3200번째 cost:3.470859016863059e-11, W:[1.9999979], b:[1.000011]\n",
      "3400번째 cost:3.470859016863059e-11, W:[1.9999979], b:[1.000011]\n",
      "3600번째 cost:3.470859016863059e-11, W:[1.9999979], b:[1.000011]\n",
      "3800번째 cost:3.470859016863059e-11, W:[1.9999979], b:[1.000011]\n",
      "4000번째 cost:3.470859016863059e-11, W:[1.9999979], b:[1.000011]\n",
      "4200번째 cost:3.470859016863059e-11, W:[1.9999979], b:[1.000011]\n",
      "4400번째 cost:3.470859016863059e-11, W:[1.9999979], b:[1.000011]\n",
      "4600번째 cost:3.470859016863059e-11, W:[1.9999979], b:[1.000011]\n",
      "4800번째 cost:3.470859016863059e-11, W:[1.9999979], b:[1.000011]\n",
      "5000번째 cost:3.470859016863059e-11, W:[1.9999979], b:[1.000011]\n"
     ]
    }
   ],
   "source": [
    "# H = 2x+1\n",
    "x_data = np.array([1,2,3,5,8])\n",
    "y_data = np.array([3,5,7,11,17])\n",
    "# placeholder 설정\n",
    "x = tf.placeholder(dtype=tf.float32)\n",
    "y = tf.placeholder(dtype=tf.float32)\n",
    "# W, b\n",
    "W = tf.Variable(tf.random.normal([1]))\n",
    "b = tf.Variable(tf.random.normal([1]))\n",
    "# Hypothesis(예측값)\n",
    "H = W*x + b\n",
    "# 손실함수\n",
    "cost = tf.reduce_mean(tf.square(H-y))\n",
    "# 경사하강법\n",
    "train = tf.train.GradientDescentOptimizer(learning_rate=0.01).minimize(cost)\n",
    "# Session 객체 생성\n",
    "sess = tf.Session()\n",
    "sess.run(tf.global_variables_initializer()) # W, b 초기화\n",
    "# 5000번 학습\n",
    "for step in range(5001):\n",
    "    _, cost_val, W_val, b_val = sess.run([train, cost, W, b],\n",
    "                                         feed_dict={x:x_data,\n",
    "                                                    y:y_data})\n",
    "    if step%200 ==0:\n",
    "        print(\"{}번째 cost:{}, W:{}, b:{}\".format(step,\n",
    "                                                cost_val,\n",
    "                                                W_val,\n",
    "                                                b_val))"
   ]
  },
  {
   "cell_type": "code",
   "execution_count": 30,
   "id": "383c1795",
   "metadata": {},
   "outputs": [
    {
     "data": {
      "text/plain": [
       "array([11.], dtype=float32)"
      ]
     },
     "execution_count": 30,
     "metadata": {},
     "output_type": "execute_result"
    }
   ],
   "source": [
    "# 예측하기\n",
    "sess.run(H, feed_dict={x:5})"
   ]
  },
  {
   "cell_type": "code",
   "execution_count": 31,
   "id": "f91146a7",
   "metadata": {},
   "outputs": [
    {
     "data": {
      "text/plain": [
       "array([11.      , 12.999998, 14.999996], dtype=float32)"
      ]
     },
     "execution_count": 31,
     "metadata": {},
     "output_type": "execute_result"
    }
   ],
   "source": [
    "sess.run(H, feed_dict={x:np.array([5, 6, 7])})"
   ]
  },
  {
   "cell_type": "markdown",
   "id": "7be24e1a",
   "metadata": {},
   "source": [
    "## 2.3 scale이 다른 데이터의 linear regression 구현(scale 조정X)"
   ]
  },
  {
   "cell_type": "code",
   "execution_count": 34,
   "id": "72883c9a",
   "metadata": {},
   "outputs": [
    {
     "name": "stdout",
     "output_type": "stream",
     "text": [
      "0번째 cost:4888.86865234375, W:[7.539535], b:[1.7903609]\n",
      "200번째 cost:83.82205200195312, W:[10.160594], b:[-0.32180178]\n",
      "400번째 cost:83.51347351074219, W:[10.259671], b:[-1.0554005]\n",
      "600번째 cost:83.48516845703125, W:[10.289681], b:[-1.2776028]\n",
      "800번째 cost:83.48255920410156, W:[10.298772], b:[-1.344906]\n",
      "1000번째 cost:83.48233032226562, W:[10.301525], b:[-1.3652921]\n"
     ]
    }
   ],
   "source": [
    "# H = 2x+1\n",
    "x_data = np.array([1,2,5,8,10])\n",
    "y_data = np.array([3,15,68,80,95])\n",
    "# placeholder 설정\n",
    "x = tf.placeholder(dtype=tf.float32)\n",
    "y = tf.placeholder(dtype=tf.float32)\n",
    "# W, b\n",
    "W = tf.Variable(tf.random.normal([1]))\n",
    "b = tf.Variable(tf.random.normal([1]))\n",
    "# Hypothesis(예측값)\n",
    "H = W*x + b\n",
    "# 손실함수\n",
    "cost = tf.reduce_mean(tf.square(H-y))\n",
    "# 경사하강법\n",
    "train = tf.train.GradientDescentOptimizer(learning_rate=0.01).minimize(cost)\n",
    "# Session 객체 생성\n",
    "sess = tf.Session()\n",
    "sess.run(tf.global_variables_initializer()) # W, b 초기화\n",
    "# 5000번 학습\n",
    "for step in range(1001):\n",
    "    _, cost_val, W_val, b_val = sess.run([train, cost, W, b],\n",
    "                                         feed_dict={x:x_data,\n",
    "                                                    y:y_data})\n",
    "    if step%200 ==0:\n",
    "        print(\"{}번째 cost:{}, W:{}, b:{}\".format(step,\n",
    "                                                cost_val,\n",
    "                                                W_val,\n",
    "                                                b_val))"
   ]
  },
  {
   "cell_type": "code",
   "execution_count": 33,
   "id": "7beb6308",
   "metadata": {},
   "outputs": [],
   "source": [
    "# cost값이 멈춤"
   ]
  },
  {
   "cell_type": "markdown",
   "id": "c35e8ac3",
   "metadata": {},
   "source": [
    "## 2.4 scale이 다른 데이터의 linear regression 을 구현 (조정O)\n",
    "### scale을 맞추기 : 모든 데이터를 일정 범위내로 조정\n",
    "- normalization(정규화) : 0~1로 조정\n",
    "                        X - Xmin\n",
    "    * normalization= --------------\n",
    "                        Xmax - Xmin\n",
    "            * 위의 식을 써도 되지만 라이브러리를 씀(sklearn.preprocessing.MinMaxScaler이용)\n",
    "- standardization(표준화) : 평균0, 표준편차1로 조정\n",
    "                        X - Xmean(평균)\n",
    "    standardization = ------------------\n",
    "                        Xstd(표준편차)\n",
    "            * 위의 식을 써도 되지만 라이브러리를 씀(sklearn.preprocessing.StandardScaler이용)"
   ]
  },
  {
   "cell_type": "code",
   "execution_count": 36,
   "id": "65f45e69",
   "metadata": {},
   "outputs": [
    {
     "name": "stdout",
     "output_type": "stream",
     "text": [
      "[0.         0.11111111 0.44444444 0.77777778 1.        ] [0.         0.13043478 0.70652174 0.83695652 1.        ]\n"
     ]
    }
   ],
   "source": [
    "# 라이브러리를 쓰지 않고 정규화\n",
    "x_data = np.array([1,2,5,8,10])\n",
    "y_data = np.array([3,15,68,80,95])\n",
    "scaled_x_data = (x_data - x_data.min()) / (x_data.max()-x_data.min())\n",
    "scaled_y_data = (y_data - y_data.min()) / (y_data.max()-y_data.min())\n",
    "print(scaled_x_data, scaled_y_data)"
   ]
  },
  {
   "cell_type": "code",
   "execution_count": null,
   "id": "8bbb8112",
   "metadata": {},
   "outputs": [
    {
     "data": {
      "text/plain": [
       "array([[ 1.        ,  3.        ,  0.        ,  0.        ],\n",
       "       [ 2.        , 15.        ,  0.11111111,  0.13043478],\n",
       "       [ 5.        , 68.        ,  0.44444444,  0.70652174],\n",
       "       [ 8.        , 80.        ,  0.77777778,  0.83695652],\n",
       "       [10.        , 95.        ,  1.        ,  1.        ]])"
      ]
     },
     "execution_count": 43,
     "metadata": {},
     "output_type": "execute_result"
    }
   ],
   "source": [
    "# 라이브러리를 쓰고 정규화 (MinMaxScaler이용)\n",
    "x_data = np.array([1,2,5,8,10]).reshape(-1,1)\n",
    "y_data = np.array([3,15,68,80,95]).reshape(-1,1)\n",
    "# np.column_stack([x_data, y_data])\n",
    "from sklearn.preprocessing import MinMaxScaler\n",
    "scaler_x = MinMaxScaler() # x_data를 정규화시킬 객체\n",
    "# scaler_x.fit(x_data)\n",
    "# scaled_x_data = scaler_x.transform(x_data)\n",
    "scaled_x_data = scaler_x.fit_transform(x_data)\n",
    "scaler_y = MinMaxScaler()\n",
    "scaled_y_data = scaler_y.fit_transform(y_data)\n",
    "np.column_stack([x_data,y_data, scaled_x_data, scaled_y_data])\n"
   ]
  },
  {
   "cell_type": "code",
   "execution_count": 48,
   "id": "d120aec5",
   "metadata": {},
   "outputs": [
    {
     "name": "stdout",
     "output_type": "stream",
     "text": [
      "0번째 cost:0.3929609954357147, W:[0.6059038], b:[-0.3460904]\n",
      "1000번째 cost:0.014403236098587513, W:[0.87201095], b:[0.08487585]\n",
      "2000번째 cost:0.011110510677099228, W:[0.9152915], b:[0.10911261]\n",
      "3000번째 cost:0.01063506118953228, W:[0.9357729], b:[0.10217593]\n",
      "4000번째 cost:0.010347503237426281, W:[0.95085984], b:[0.09452689]\n",
      "5000번째 cost:0.010167131200432777, W:[0.9627176], b:[0.08829017]\n",
      "6000번째 cost:0.010053937323391438, W:[0.9721031], b:[0.08333496]\n",
      "7000번째 cost:0.009982903487980366, W:[0.97953755], b:[0.07940838]\n",
      "8000번째 cost:0.009938325732946396, W:[0.9854268], b:[0.07629776]\n",
      "9000번째 cost:0.009910354390740395, W:[0.9900924], b:[0.07383361]\n",
      "10000번째 cost:0.009892800822854042, W:[0.9937876], b:[0.07188159]\n",
      "11000번째 cost:0.009881784208118916, W:[0.9967154], b:[0.07033531]\n",
      "12000번째 cost:0.00987487193197012, W:[0.9990346], b:[0.06911049]\n",
      "13000번째 cost:0.009870540350675583, W:[1.00087], b:[0.06814069]\n",
      "14000번째 cost:0.009867814369499683, W:[1.0023224], b:[0.06737264]\n",
      "15000번째 cost:0.00986610446125269, W:[1.0034779], b:[0.06676441]\n",
      "16000번째 cost:0.00986503716558218, W:[1.0043851], b:[0.06628303]\n",
      "17000번째 cost:0.009864360094070435, W:[1.0051103], b:[0.06590088]\n",
      "18000번째 cost:0.009863940998911858, W:[1.0056767], b:[0.06559918]\n",
      "19000번째 cost:0.009863675571978092, W:[1.0061319], b:[0.06536017]\n",
      "20000번째 cost:0.009863508865237236, W:[1.0064895], b:[0.06517427]\n"
     ]
    }
   ],
   "source": [
    "# placeholder 설정\n",
    "x = tf.placeholder(dtype=tf.float32)\n",
    "y = tf.placeholder(dtype=tf.float32)\n",
    "# W, b\n",
    "W = tf.Variable(tf.random.normal([1]))\n",
    "b = tf.Variable(tf.random.normal([1]))\n",
    "# Hypothesis(예측값)\n",
    "H = W*x + b\n",
    "# 손실함수\n",
    "cost = tf.reduce_mean(tf.square(H-y))\n",
    "# 경사하강법\n",
    "train = tf.train.GradientDescentOptimizer(learning_rate=0.001).minimize(cost)\n",
    "# Session 객체 생성\n",
    "sess = tf.Session()\n",
    "sess.run(tf.global_variables_initializer()) # W, b 초기화\n",
    "# 5000번 학습\n",
    "for step in range(20001):\n",
    "    _, cost_val, W_val, b_val = sess.run([train, cost, W, b],\n",
    "                                         feed_dict={x:scaled_x_data,\n",
    "                                                    y:scaled_y_data})\n",
    "    if step%1000 ==0:\n",
    "        print(\"{}번째 cost:{}, W:{}, b:{}\".format(step,\n",
    "                                                cost_val,\n",
    "                                                W_val,\n",
    "                                                b_val))"
   ]
  },
  {
   "cell_type": "code",
   "execution_count": 60,
   "id": "7a0ae32e",
   "metadata": {},
   "outputs": [
    {
     "name": "stdout",
     "output_type": "stream",
     "text": [
      "모델 예측을 위한 입력 :\n",
      "[[0.11111111]\n",
      " [0.22222222]]\n",
      "모델 예측 결과 :\n",
      "[[0.17700645]\n",
      " [0.28883862]]\n",
      "결과 :\n",
      "[[19.284594]\n",
      " [29.573153]]\n"
     ]
    }
   ],
   "source": [
    "# 예측 : 모델에 scale 조정된 값으로 예측=> scale 조정된 y값\n",
    "scaled_input = scaler_x.transform(np.array([[2],\n",
    "                                            [3]]))\n",
    "print('모델 예측을 위한 입력 :', scaled_input, sep='\\n')\n",
    "scaled_output = sess.run(H, feed_dict={x:scaled_input})\n",
    "print('모델 예측 결과 :', scaled_output, sep='\\n')\n",
    "print('결과 :', scaler_y.inverse_transform(scaled_output), sep='\\n')"
   ]
  },
  {
   "cell_type": "code",
   "execution_count": 62,
   "id": "5db342c4",
   "metadata": {},
   "outputs": [],
   "source": [
    "# x_data들의 예측값\n",
    "scaled_y_hat = sess.run(H, feed_dict={x:scaled_x_data})\n",
    "y_hat = scaler_y.inverse_transform(scaled_y_hat)"
   ]
  },
  {
   "cell_type": "code",
   "execution_count": 58,
   "id": "f2aeb527",
   "metadata": {},
   "outputs": [
    {
     "data": {
      "text/plain": [
       "[<matplotlib.lines.Line2D at 0x215a0997a90>]"
      ]
     },
     "execution_count": 58,
     "metadata": {},
     "output_type": "execute_result"
    },
    {
     "data": {
      "image/png": "[encoded data removed]",
      "text/plain": [
       "<Figure size 640x480 with 1 Axes>"
      ]
     },
     "metadata": {},
     "output_type": "display_data"
    }
   ],
   "source": [
    "import matplotlib.pyplot as plt\n",
    "plt.plot(x_data, y_data, 'r')\n",
    "plt.plot(x_data,y_hat, 'b')"
   ]
  },
  {
   "cell_type": "code",
   "execution_count": 66,
   "id": "a421816c",
   "metadata": {},
   "outputs": [
    {
     "name": "stdout",
     "output_type": "stream",
     "text": [
      "[[ 1  3]\n",
      " [ 2 15]\n",
      " [ 5 68]\n",
      " [ 8 80]\n",
      " [10 95]]\n",
      "[[-1.22474487 -1.34819316]\n",
      " [-0.93313895 -1.01936556]\n",
      " [-0.05832118  0.43295634]\n",
      " [ 0.81649658  0.76178394]\n",
      " [ 1.39970842  1.17281844]]\n"
     ]
    }
   ],
   "source": [
    "# 라이브러리를 쓰고 표준화 (StandardScaler 이용)\n",
    "x_data = np.array([1,2,5,8,10]).reshape(-1,1)\n",
    "y_data = np.array([3,15,68,80,95]).reshape(-1,1)\n",
    "\n",
    "from sklearn.preprocessing import StandardScaler\n",
    "scaler_x = StandardScaler() # x_data를 표준화할 객체\n",
    "scaler_y = StandardScaler() # y_data를 표준화할 객체\n",
    "scaled_x_data = scaler_x.fit_transform(x_data)\n",
    "scaled_y_data = scaler_y.fit_transform(y_data)\n",
    "print(np.column_stack([x_data, y_data]))\n",
    "print(np.column_stack([scaled_x_data, scaled_y_data]))"
   ]
  },
  {
   "cell_type": "code",
   "execution_count": 67,
   "id": "f81a0948",
   "metadata": {},
   "outputs": [
    {
     "name": "stdout",
     "output_type": "stream",
     "text": [
      "0째 : cost:1.6177746057510376, W:[0.803348], b:[1.2335782]\n",
      "600째 : cost:0.2034211903810501, W:[0.91857207], b:[0.37109992]\n",
      "1200째 : cost:0.07542230188846588, W:[0.9532352], b:[0.1116389]\n",
      "1800째 : cost:0.06383836269378662, W:[0.9636628], b:[0.03358462]\n",
      "2400째 : cost:0.06279002130031586, W:[0.96680003], b:[0.01010335]\n",
      "3000째 : cost:0.06269514560699463, W:[0.96774375], b:[0.00303943]\n",
      "3600째 : cost:0.06268654763698578, W:[0.9680272], b:[0.00091437]\n",
      "4200째 : cost:0.0626857727766037, W:[0.9681116], b:[0.00027508]\n",
      "4800째 : cost:0.06268569827079773, W:[0.96813506], b:[8.276692e-05]\n",
      "5400째 : cost:0.06268568336963654, W:[0.96813506], b:[2.4917905e-05]\n",
      "6000째 : cost:0.06268569082021713, W:[0.96813506], b:[7.5146063e-06]\n",
      "6600째 : cost:0.06268569082021713, W:[0.96813506], b:[2.279623e-06]\n",
      "7200째 : cost:0.06268569827079773, W:[0.96813506], b:[7.0514983e-07]\n",
      "7800째 : cost:0.06268569082021713, W:[0.96813506], b:[2.3313359e-07]\n",
      "8400째 : cost:0.06268569082021713, W:[0.96813506], b:[8.747359e-08]\n",
      "9000째 : cost:0.06268568336963654, W:[0.96813506], b:[5.38343e-08]\n",
      "9600째 : cost:0.06268568336963654, W:[0.96813506], b:[4.489425e-08]\n",
      "10200째 : cost:0.06268568336963654, W:[0.96813506], b:[3.59542e-08]\n",
      "10800째 : cost:0.06268569082021713, W:[0.96813506], b:[2.9830268e-08]\n",
      "11400째 : cost:0.06268569827079773, W:[0.96813506], b:[2.9807918e-08]\n",
      "12000째 : cost:0.06268569082021713, W:[0.96813506], b:[2.9837718e-08]\n"
     ]
    }
   ],
   "source": [
    "# placeholder 설정 (입력변수 x, 타겟변수 y)\n",
    "x = tf.placeholder(dtype=tf.float32)\n",
    "y = tf.placeholder(dtype=tf.float32)\n",
    "# W, b\n",
    "W = tf.Variable(tf.random.normal([1]))\n",
    "b = tf.Variable(tf.random.normal([1]))\n",
    "# Hypothesis(예측값)\n",
    "H = W*x + b\n",
    "# 손실함수\n",
    "cost = tf.reduce_mean(tf.square(H-y))\n",
    "# 경사하강법\n",
    "train = tf.train.GradientDescentOptimizer(learning_rate=0.001).minimize(cost)\n",
    "# Session 객체 생성\n",
    "sess = tf.Session()\n",
    "sess.run(tf.global_variables_initializer()) # W, b 초기화\n",
    "# 12000번 학습\n",
    "for step in range(12001):\n",
    "    _, cost_val, W_val, b_val = sess.run([train, cost, W, b], \n",
    "                                         feed_dict={x:scaled_x_data,\n",
    "                                                   y:scaled_y_data})\n",
    "    if step%600 == 0:\n",
    "        print('{}째 : cost:{}, W:{}, b:{}'.format(step, cost_val, W_val, b_val))"
   ]
  },
  {
   "cell_type": "code",
   "execution_count": 68,
   "id": "79496b50",
   "metadata": {},
   "outputs": [
    {
     "data": {
      "text/plain": [
       "[<matplotlib.lines.Line2D at 0x215a0b3bbe0>]"
      ]
     },
     "execution_count": 68,
     "metadata": {},
     "output_type": "execute_result"
    },
    {
     "data": {
      "image/png": "[encoded data removed]",
      "text/plain": [
       "<Figure size 640x480 with 1 Axes>"
      ]
     },
     "metadata": {},
     "output_type": "display_data"
    }
   ],
   "source": [
    "# x_data들의 예측값\n",
    "scaled_y_hat = sess.run(H, feed_dict={x:scaled_x_data})\n",
    "y_hat = scaler_y.inverse_transform(scaled_y_hat)\n",
    "import matplotlib.pyplot as plt\n",
    "plt.plot(x_data, y_data, 'r')\n",
    "plt.plot(x_data, y_hat, 'b')"
   ]
  },
  {
   "cell_type": "code",
   "execution_count": null,
   "id": "3bee233a",
   "metadata": {},
   "outputs": [],
   "source": []
  },
  {
   "cell_type": "code",
   "execution_count": null,
   "id": "2d88c75a",
   "metadata": {},
   "outputs": [],
   "source": []
  },
  {
   "cell_type": "code",
   "execution_count": null,
   "id": "24e628fb",
   "metadata": {},
   "outputs": [],
   "source": []
  },
  {
   "cell_type": "code",
   "execution_count": null,
   "id": "3f9cb21c",
   "metadata": {},
   "outputs": [],
   "source": []
  },
  {
   "cell_type": "code",
   "execution_count": null,
   "id": "6ae4d47b",
   "metadata": {},
   "outputs": [],
   "source": []
  },
  {
   "cell_type": "code",
   "execution_count": null,
   "id": "e70e7bc0",
   "metadata": {},
   "outputs": [],
   "source": []
  },
  {
   "cell_type": "code",
   "execution_count": null,
   "id": "e87d7f76",
   "metadata": {},
   "outputs": [],
   "source": []
  },
  {
   "cell_type": "code",
   "execution_count": null,
   "id": "84b06e26",
   "metadata": {},
   "outputs": [],
   "source": []
  },
  {
   "cell_type": "code",
   "execution_count": null,
   "id": "38dc3197",
   "metadata": {},
   "outputs": [],
   "source": []
  },
  {
   "cell_type": "code",
   "execution_count": null,
   "id": "35952c02",
   "metadata": {},
   "outputs": [],
   "source": []
  },
  {
   "cell_type": "code",
   "execution_count": null,
   "id": "58174d00",
   "metadata": {},
   "outputs": [],
   "source": []
  },
  {
   "cell_type": "code",
   "execution_count": null,
   "id": "f01520c7",
   "metadata": {},
   "outputs": [],
   "source": []
  },
  {
   "cell_type": "code",
   "execution_count": null,
   "id": "2e3984d8",
   "metadata": {},
   "outputs": [],
   "source": []
  },
  {
   "cell_type": "code",
   "execution_count": null,
   "id": "7e408240",
   "metadata": {},
   "outputs": [],
   "source": []
  }
 ],
 "metadata": {
  "kernelspec": {
   "display_name": "ml-dl-nlp",
   "language": "python",
   "name": "ml-dl-nlp"
  },
  "language_info": {
   "codemirror_mode": {
    "name": "ipython",
    "version": 3
   },
   "file_extension": ".py",
   "mimetype": "text/x-python",
   "name": "python",
   "nbconvert_exporter": "python",
   "pygments_lexer": "ipython3",
   "version": "3.10.18"
  }
 },
 "nbformat": 4,
 "nbformat_minor": 5
}
