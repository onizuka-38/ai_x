{
 "cells": [
  {
   "cell_type": "code",
   "execution_count": 5,
   "id": "b7125185",
   "metadata": {},
   "outputs": [],
   "source": [
    "import numpy as np\n",
    "import pandas as pd\n",
    "import sys\n",
    "from tensorflow.keras.datasets import mnist # mnist 데이터 셋\n",
    "from tensorflow.keras.utils import to_categorical # 원핫인코딩\n",
    "from tensorflow.keras.models import Sequential\n",
    "from tensorflow.keras.layers import Dense, Input, Dropout, BatchNormalization\n",
    "from matplotlib import pyplot as plt # 학습과정 Loss와 acc 시각화\n",
    "# quiz에서는 scale조정, train_test_split 등을 추가\n",
    "from sklearn.model_selection import train_test_split\n",
    "from sklearn.preprocessing import StandardScaler, OneHotEncoder"
   ]
  },
  {
   "cell_type": "markdown",
   "id": "0fa2d1f6",
   "metadata": {},
   "source": [
    "- Red Wine 등급 예측\n",
    "1. 데이터 셋 확보 및 전처리\n",
    "    csv -> 결측치 처리 -> 독립변수와 타겟변수 분리 -> 독립변수 스케일조정,\n",
    "    -> 타겟변수 원핫인코딩 -> 훈련셋과 테스트셋분리(train_test_split 이용 층화추출 (3등급과 8등급 데이터는 표본이 적어서 삭제하는 층화추출 ) )\n",
    "2. 모델 구성(입력11, 출력6 | 출력9) layer층 4\n",
    "3. 모델 학습 과정 설정\n",
    "4. 모델학습(callbacks이용)\n",
    "5. 모델 평가(그래프, 평가, 교차표)\n",
    "6. 모델 저장 & 사용"
   ]
  },
  {
   "cell_type": "markdown",
   "id": "653bd958",
   "metadata": {},
   "source": [
    "# 1. 데이터 확보 & 전처리"
   ]
  },
  {
   "cell_type": "markdown",
   "id": "561e8586",
   "metadata": {},
   "source": [
    "| 컬럼명                  | 설명                    |\n",
    "| -------------------- | --------------------- |\n",
    "| fixed acidity        | 고정 산도                 |\n",
    "| volatile acidity     | 휘발성 산도                |\n",
    "| citric acid          | 구연산 함량                |\n",
    "| residual sugar       | 잔여 당분                 |\n",
    "| chlorides            | 염화물 함량                |\n",
    "| free sulfur dioxide  | 자유 이산화황               |\n",
    "| total sulfur dioxide | 총 이산화황                |\n",
    "| density              | 밀도                    |\n",
    "| pH                   | pH(산도)                |\n",
    "| sulphates            | 황산염 함량                |\n",
    "| alcohol              | 알코올 도수                |\n",
    "| quality              | **와인 품질(0\\~10점, 정수)** |\n"
   ]
  },
  {
   "cell_type": "code",
   "execution_count": 4,
   "id": "f6bfb611",
   "metadata": {},
   "outputs": [
    {
     "data": {
      "text/plain": [
       "5    681\n",
       "6    638\n",
       "7    199\n",
       "4     53\n",
       "8     18\n",
       "3     10\n",
       "Name: quality, dtype: int64"
      ]
     },
     "execution_count": 4,
     "metadata": {},
     "output_type": "execute_result"
    }
   ],
   "source": [
    "# 데이터 읽어오기\n",
    "redwine = pd.read_csv('data/winequality-red.csv', sep=';')\n",
    "redwine['quality'].value_counts()"
   ]
  },
  {
   "cell_type": "code",
   "execution_count": null,
   "id": "e0763cb6",
   "metadata": {},
   "outputs": [],
   "source": []
  },
  {
   "cell_type": "code",
   "execution_count": null,
   "id": "6acd9531",
   "metadata": {},
   "outputs": [],
   "source": []
  },
  {
   "cell_type": "code",
   "execution_count": null,
   "id": "0fb7875e",
   "metadata": {},
   "outputs": [],
   "source": []
  },
  {
   "cell_type": "code",
   "execution_count": null,
   "id": "ac4adc57",
   "metadata": {},
   "outputs": [],
   "source": []
  },
  {
   "cell_type": "code",
   "execution_count": null,
   "id": "901ecaf3",
   "metadata": {},
   "outputs": [],
   "source": []
  },
  {
   "cell_type": "code",
   "execution_count": null,
   "id": "2a99b0b4",
   "metadata": {},
   "outputs": [],
   "source": []
  },
  {
   "cell_type": "code",
   "execution_count": null,
   "id": "eda79524",
   "metadata": {},
   "outputs": [],
   "source": []
  },
  {
   "cell_type": "code",
   "execution_count": null,
   "id": "1a2804d6",
   "metadata": {},
   "outputs": [],
   "source": []
  },
  {
   "cell_type": "code",
   "execution_count": null,
   "id": "09e16ce0",
   "metadata": {},
   "outputs": [],
   "source": []
  },
  {
   "cell_type": "code",
   "execution_count": null,
   "id": "bd9196e5",
   "metadata": {},
   "outputs": [],
   "source": []
  },
  {
   "cell_type": "code",
   "execution_count": null,
   "id": "9f8989de",
   "metadata": {},
   "outputs": [],
   "source": []
  },
  {
   "cell_type": "code",
   "execution_count": null,
   "id": "ecb568f5",
   "metadata": {},
   "outputs": [],
   "source": []
  },
  {
   "cell_type": "code",
   "execution_count": null,
   "id": "9a5011a0",
   "metadata": {},
   "outputs": [],
   "source": []
  },
  {
   "cell_type": "code",
   "execution_count": null,
   "id": "6d759662",
   "metadata": {},
   "outputs": [],
   "source": []
  },
  {
   "cell_type": "code",
   "execution_count": null,
   "id": "0e589be9",
   "metadata": {},
   "outputs": [],
   "source": []
  },
  {
   "cell_type": "code",
   "execution_count": null,
   "id": "2017c7b9",
   "metadata": {},
   "outputs": [],
   "source": []
  },
  {
   "cell_type": "code",
   "execution_count": null,
   "id": "6a3b416b",
   "metadata": {},
   "outputs": [],
   "source": []
  },
  {
   "cell_type": "code",
   "execution_count": null,
   "id": "0f7e1e7b",
   "metadata": {},
   "outputs": [],
   "source": []
  },
  {
   "cell_type": "code",
   "execution_count": null,
   "id": "ed126c79",
   "metadata": {},
   "outputs": [],
   "source": []
  },
  {
   "cell_type": "code",
   "execution_count": null,
   "id": "1cd9662a",
   "metadata": {},
   "outputs": [],
   "source": []
  },
  {
   "cell_type": "code",
   "execution_count": null,
   "id": "4134ba07",
   "metadata": {},
   "outputs": [],
   "source": []
  },
  {
   "cell_type": "code",
   "execution_count": null,
   "id": "97dc213f",
   "metadata": {},
   "outputs": [],
   "source": []
  },
  {
   "cell_type": "code",
   "execution_count": null,
   "id": "eed99abd",
   "metadata": {},
   "outputs": [],
   "source": []
  }
 ],
 "metadata": {
  "kernelspec": {
   "display_name": "ml-dl-nlp",
   "language": "python",
   "name": "ml-dl-nlp"
  },
  "language_info": {
   "codemirror_mode": {
    "name": "ipython",
    "version": 3
   },
   "file_extension": ".py",
   "mimetype": "text/x-python",
   "name": "python",
   "nbconvert_exporter": "python",
   "pygments_lexer": "ipython3",
   "version": "3.10.18"
  }
 },
 "nbformat": 4,
 "nbformat_minor": 5
}
