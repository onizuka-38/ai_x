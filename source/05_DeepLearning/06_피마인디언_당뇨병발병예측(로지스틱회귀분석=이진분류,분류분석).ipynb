{
 "cells": [
  {
   "cell_type": "code",
   "execution_count": 70,
   "id": "d32bf931",
   "metadata": {},
   "outputs": [],
   "source": [
    "import numpy as np\n",
    "import pandas as pd\n",
    "import sys\n",
    "# import tensorflow as tf\n",
    "from tensorflow.keras import utils # utils.to_categorical 원핫인코딩\n",
    "from tensorflow.keras.models import Sequential\n",
    "from tensorflow.keras.layers import Dense, Input\n",
    "from matplotlib import pyplot as plt"
   ]
  },
  {
   "cell_type": "markdown",
   "id": "fc7f9a19",
   "metadata": {},
   "source": [
    "# 로지스틱회귀분석(이진분류)\n",
    "## 1. 데이터셋 생성 & 전처리"
   ]
  },
  {
   "cell_type": "code",
   "execution_count": 2,
   "id": "5391fd19",
   "metadata": {},
   "outputs": [
    {
     "name": "stdout",
     "output_type": "stream",
     "text": [
      "<class 'pandas.core.frame.DataFrame'>\n",
      "RangeIndex: 768 entries, 0 to 767\n",
      "Data columns (total 9 columns):\n",
      " #   Column  Non-Null Count  Dtype  \n",
      "---  ------  --------------  -----  \n",
      " 0   0       768 non-null    int64  \n",
      " 1   1       768 non-null    int64  \n",
      " 2   2       768 non-null    int64  \n",
      " 3   3       768 non-null    int64  \n",
      " 4   4       768 non-null    int64  \n",
      " 5   5       768 non-null    float64\n",
      " 6   6       768 non-null    float64\n",
      " 7   7       768 non-null    int64  \n",
      " 8   8       768 non-null    int64  \n",
      "dtypes: float64(2), int64(7)\n",
      "memory usage: 54.1 KB\n"
     ]
    }
   ],
   "source": [
    "df = pd.read_csv('data/pima-indians-diabetes.csv',\n",
    "                 comment='#',\n",
    "                 header=None)\n",
    "df.info()"
   ]
  },
  {
   "cell_type": "code",
   "execution_count": 3,
   "id": "1a02d344",
   "metadata": {},
   "outputs": [
    {
     "data": {
      "text/plain": [
       "0    500\n",
       "1    268\n",
       "Name: 8, dtype: int64"
      ]
     },
     "execution_count": 3,
     "metadata": {},
     "output_type": "execute_result"
    }
   ],
   "source": [
    "# 타겟 변수의 균형\n",
    "df.iloc[:,-1].value_counts()"
   ]
  },
  {
   "cell_type": "code",
   "execution_count": 4,
   "id": "1257ab4e",
   "metadata": {},
   "outputs": [
    {
     "data": {
      "text/html": [
       "<div>\n",
       "<style scoped>\n",
       "    .dataframe tbody tr th:only-of-type {\n",
       "        vertical-align: middle;\n",
       "    }\n",
       "\n",
       "    .dataframe tbody tr th {\n",
       "        vertical-align: top;\n",
       "    }\n",
       "\n",
       "    .dataframe thead th {\n",
       "        text-align: right;\n",
       "    }\n",
       "</style>\n",
       "<table border=\"1\" class=\"dataframe\">\n",
       "  <thead>\n",
       "    <tr style=\"text-align: right;\">\n",
       "      <th></th>\n",
       "      <th>0</th>\n",
       "      <th>1</th>\n",
       "      <th>2</th>\n",
       "      <th>3</th>\n",
       "      <th>4</th>\n",
       "      <th>5</th>\n",
       "      <th>6</th>\n",
       "      <th>7</th>\n",
       "      <th>8</th>\n",
       "    </tr>\n",
       "  </thead>\n",
       "  <tbody>\n",
       "    <tr>\n",
       "      <th>0</th>\n",
       "      <td>6</td>\n",
       "      <td>148</td>\n",
       "      <td>72</td>\n",
       "      <td>35</td>\n",
       "      <td>0</td>\n",
       "      <td>33.6</td>\n",
       "      <td>0.627</td>\n",
       "      <td>50</td>\n",
       "      <td>1</td>\n",
       "    </tr>\n",
       "    <tr>\n",
       "      <th>1</th>\n",
       "      <td>1</td>\n",
       "      <td>85</td>\n",
       "      <td>66</td>\n",
       "      <td>29</td>\n",
       "      <td>0</td>\n",
       "      <td>26.6</td>\n",
       "      <td>0.351</td>\n",
       "      <td>31</td>\n",
       "      <td>0</td>\n",
       "    </tr>\n",
       "    <tr>\n",
       "      <th>2</th>\n",
       "      <td>8</td>\n",
       "      <td>183</td>\n",
       "      <td>64</td>\n",
       "      <td>0</td>\n",
       "      <td>0</td>\n",
       "      <td>23.3</td>\n",
       "      <td>0.672</td>\n",
       "      <td>32</td>\n",
       "      <td>1</td>\n",
       "    </tr>\n",
       "    <tr>\n",
       "      <th>3</th>\n",
       "      <td>1</td>\n",
       "      <td>89</td>\n",
       "      <td>66</td>\n",
       "      <td>23</td>\n",
       "      <td>94</td>\n",
       "      <td>28.1</td>\n",
       "      <td>0.167</td>\n",
       "      <td>21</td>\n",
       "      <td>0</td>\n",
       "    </tr>\n",
       "    <tr>\n",
       "      <th>4</th>\n",
       "      <td>0</td>\n",
       "      <td>137</td>\n",
       "      <td>40</td>\n",
       "      <td>35</td>\n",
       "      <td>168</td>\n",
       "      <td>43.1</td>\n",
       "      <td>2.288</td>\n",
       "      <td>33</td>\n",
       "      <td>1</td>\n",
       "    </tr>\n",
       "  </tbody>\n",
       "</table>\n",
       "</div>"
      ],
      "text/plain": [
       "   0    1   2   3    4     5      6   7  8\n",
       "0  6  148  72  35    0  33.6  0.627  50  1\n",
       "1  1   85  66  29    0  26.6  0.351  31  0\n",
       "2  8  183  64   0    0  23.3  0.672  32  1\n",
       "3  1   89  66  23   94  28.1  0.167  21  0\n",
       "4  0  137  40  35  168  43.1  2.288  33  1"
      ]
     },
     "execution_count": 4,
     "metadata": {},
     "output_type": "execute_result"
    }
   ],
   "source": [
    "df.head()"
   ]
  },
  {
   "cell_type": "code",
   "execution_count": 5,
   "id": "38c7e9cc",
   "metadata": {},
   "outputs": [
    {
     "data": {
      "text/plain": [
       "(768, 9)"
      ]
     },
     "execution_count": 5,
     "metadata": {},
     "output_type": "execute_result"
    }
   ],
   "source": [
    "# csv 파일을 numpy로 읽어오기 : np.loadtxt(결측치가 없는 경우), np.genfromtxt(결측치 있을 경우)\n",
    "dataset = np.loadtxt('data/pima-indians-diabetes.csv', encoding='utf-8', delimiter=',')\n",
    "dataset.shape"
   ]
  },
  {
   "cell_type": "code",
   "execution_count": 17,
   "id": "09a9dca2",
   "metadata": {},
   "outputs": [
    {
     "data": {
      "text/plain": [
       "((700, 8), (700,), (68, 8), (68,))"
      ]
     },
     "execution_count": 17,
     "metadata": {},
     "output_type": "execute_result"
    }
   ],
   "source": [
    "# 데이터분할 : 학습데이터셋(모델학습용)+시험데이터셋(모델평가용)\n",
    "X_train = dataset[:700, :-1]\n",
    "y_train = dataset[:700, -1]\n",
    "X_test  = dataset[700:, :-1]\n",
    "y_test  = dataset[700:, -1]\n",
    "X_train.shape, y_train.shape, X_test.shape, y_test.shape"
   ]
  },
  {
   "cell_type": "markdown",
   "id": "1f2f1e48",
   "metadata": {},
   "source": [
    "# 2. 모델 구성"
   ]
  },
  {
   "cell_type": "code",
   "execution_count": 18,
   "id": "f1fadd26",
   "metadata": {},
   "outputs": [
    {
     "name": "stdout",
     "output_type": "stream",
     "text": [
      "Model: \"sequential_4\"\n",
      "_________________________________________________________________\n",
      " Layer (type)                Output Shape              Param #   \n",
      "=================================================================\n",
      " dense_4 (Dense)             (None, 32)                288       \n",
      "                                                                 \n",
      " dense_5 (Dense)             (None, 16)                528       \n",
      "                                                                 \n",
      " dense_6 (Dense)             (None, 1)                 17        \n",
      "                                                                 \n",
      "=================================================================\n",
      "Total params: 833\n",
      "Trainable params: 833\n",
      "Non-trainable params: 0\n",
      "_________________________________________________________________\n"
     ]
    }
   ],
   "source": [
    "model = Sequential()\n",
    "model.add(Input(shape=(8,)))\n",
    "model.add(Dense(units=32, activation='relu'))\n",
    "model.add(Dense(units=16, activation='relu'))\n",
    "model.add(Dense(units=1, activation='sigmoid'))\n",
    "model.summary()"
   ]
  },
  {
   "cell_type": "markdown",
   "id": "73c30490",
   "metadata": {},
   "source": [
    "# 3. 학습과정 설정"
   ]
  },
  {
   "cell_type": "code",
   "execution_count": 19,
   "id": "a2d368f2",
   "metadata": {},
   "outputs": [],
   "source": [
    "model.compile(optimizer='adam',\n",
    "              loss='binary_crossentropy',\n",
    "              metrics=['binary_accuracy'])"
   ]
  },
  {
   "cell_type": "markdown",
   "id": "f950ec5d",
   "metadata": {},
   "source": [
    "# 4. 학습"
   ]
  },
  {
   "cell_type": "code",
   "execution_count": 20,
   "id": "ed42435b",
   "metadata": {},
   "outputs": [
    {
     "name": "stdout",
     "output_type": "stream",
     "text": [
      "CPU times: total: 1.55 s\n",
      "Wall time: 1.31 s\n"
     ]
    }
   ],
   "source": [
    "%%time\n",
    "hist = model.fit(X_train, y_train, # 훈련데이터\n",
    "                 epochs=200, # 학습횟수\n",
    "                 batch_size=350, # 한번에 읽어들이는 데이터 양\n",
    "                #  validation_data=[X_test,y_test] # 검증데이터\n",
    "                #  validation_split=0.1,\n",
    "                 verbose=0 # 학습 로그 출력 0:출력안됨, 2:상세출력\n",
    "                 )"
   ]
  },
  {
   "cell_type": "markdown",
   "id": "71b39262",
   "metadata": {},
   "source": [
    "# 5.모델 평가하기(학습과정 보기, 평가, 혼동행렬)"
   ]
  },
  {
   "cell_type": "code",
   "execution_count": 21,
   "id": "f127cfd5",
   "metadata": {},
   "outputs": [
    {
     "data": {
      "text/plain": [
       "dict_keys(['loss', 'binary_accuracy'])"
      ]
     },
     "execution_count": 21,
     "metadata": {},
     "output_type": "execute_result"
    }
   ],
   "source": [
    "hist.history.keys()"
   ]
  },
  {
   "cell_type": "code",
   "execution_count": 24,
   "id": "c37c3a5b",
   "metadata": {},
   "outputs": [
    {
     "data": {
      "text/plain": [
       "[<matplotlib.lines.Line2D at 0x1f691165030>]"
      ]
     },
     "execution_count": 24,
     "metadata": {},
     "output_type": "execute_result"
    },
    {
     "data": {
      "image/png": "[encoded data removed]",
      "text/plain": [
       "<Figure size 1000x500 with 2 Axes>"
      ]
     },
     "metadata": {},
     "output_type": "display_data"
    }
   ],
   "source": [
    "# 학습과정 표시(학습데이터에 대한 loss와 accuracy)\n",
    "fig, loss_ax = plt.subplots(figsize=(10,5))\n",
    "loss_ax.plot(hist.history['loss'], 'r')\n",
    "acc_ax = loss_ax.twinx() # loss_ax와 x축을 공유하는 acc_ax\n",
    "acc_ax.plot(hist.history.get('binary_accuracy'), 'b')"
   ]
  },
  {
   "cell_type": "code",
   "execution_count": 25,
   "id": "233416e6",
   "metadata": {},
   "outputs": [
    {
     "name": "stdout",
     "output_type": "stream",
     "text": [
      "22/22 [==============================] - 0s 2ms/step - loss: 0.5241 - binary_accuracy: 0.7300\n"
     ]
    },
    {
     "data": {
      "text/plain": [
       "[0.5240518450737, 0.7300000190734863]"
      ]
     },
     "execution_count": 25,
     "metadata": {},
     "output_type": "execute_result"
    }
   ],
   "source": [
    "# 모델 평가(X)\n",
    "model.evaluate(X_train, y_train)"
   ]
  },
  {
   "cell_type": "code",
   "execution_count": 26,
   "id": "d60cce26",
   "metadata": {},
   "outputs": [
    {
     "name": "stdout",
     "output_type": "stream",
     "text": [
      "3/3 [==============================] - 0s 3ms/step - loss: 0.6642 - binary_accuracy: 0.6912\n"
     ]
    },
    {
     "data": {
      "text/plain": [
       "[0.6642212867736816, 0.6911764740943909]"
      ]
     },
     "execution_count": 26,
     "metadata": {},
     "output_type": "execute_result"
    }
   ],
   "source": [
    "# 모델 평가(O)\n",
    "model.evaluate(X_test, y_test)"
   ]
  },
  {
   "cell_type": "markdown",
   "id": "d10b660b",
   "metadata": {},
   "source": [
    "## 혼동행렬\n",
    "- 테스트 데이터 셋의 실제값과 예측값으로 작성된 교차표"
   ]
  },
  {
   "cell_type": "code",
   "execution_count": 32,
   "id": "35d4ec88",
   "metadata": {},
   "outputs": [
    {
     "name": "stdout",
     "output_type": "stream",
     "text": [
      "3/3 [==============================] - 0s 2ms/step\n"
     ]
    },
    {
     "data": {
      "text/plain": [
       "array([[0.],\n",
       "       [0.],\n",
       "       [0.],\n",
       "       [0.],\n",
       "       [0.]])"
      ]
     },
     "execution_count": 32,
     "metadata": {},
     "output_type": "execute_result"
    }
   ],
   "source": [
    "# 실제값 : y_test (68개)\n",
    "# 예측값 : X_test\n",
    "y_hat = (model.predict(X_test)>=0.5).astype(float)\n",
    "y_hat[:5]"
   ]
  },
  {
   "cell_type": "code",
   "execution_count": 34,
   "id": "6cb9d18e",
   "metadata": {},
   "outputs": [
    {
     "name": "stdout",
     "output_type": "stream",
     "text": [
      "(68,) (68, 1)\n",
      "39 2\n",
      "19 8\n"
     ]
    }
   ],
   "source": [
    "TN = 0 # 0을 0으로 예측한 경우(T)\n",
    "FP = 0 # 0을 1로 예측한 경우(F)\n",
    "FN = 0 # 1을 0으로 예측한 경우의 수(F)\n",
    "TP = 0 # 1을 1로 예측한 경우의 수(T)\n",
    "print(y_test.shape, y_hat.shape)\n",
    "for y, h in zip(y_test, y_hat.reshape(-1)):\n",
    "    if y==0 and h==0:\n",
    "        TN += 1\n",
    "    elif y==0 and h==1:\n",
    "        FP += 1\n",
    "    elif y==1 and h==0:\n",
    "        FN += 1\n",
    "    else:\n",
    "        TP += 1\n",
    "print(TN, FP)\n",
    "print(FN, TP)"
   ]
  },
  {
   "cell_type": "code",
   "execution_count": 38,
   "id": "3d5dcee9",
   "metadata": {},
   "outputs": [
    {
     "data": {
      "text/html": [
       "<div>\n",
       "<style scoped>\n",
       "    .dataframe tbody tr th:only-of-type {\n",
       "        vertical-align: middle;\n",
       "    }\n",
       "\n",
       "    .dataframe tbody tr th {\n",
       "        vertical-align: top;\n",
       "    }\n",
       "\n",
       "    .dataframe thead th {\n",
       "        text-align: right;\n",
       "    }\n",
       "</style>\n",
       "<table border=\"1\" class=\"dataframe\">\n",
       "  <thead>\n",
       "    <tr style=\"text-align: right;\">\n",
       "      <th>예측값</th>\n",
       "      <th>0.0</th>\n",
       "      <th>1.0</th>\n",
       "    </tr>\n",
       "    <tr>\n",
       "      <th>실제값</th>\n",
       "      <th></th>\n",
       "      <th></th>\n",
       "    </tr>\n",
       "  </thead>\n",
       "  <tbody>\n",
       "    <tr>\n",
       "      <th>0.0</th>\n",
       "      <td>39</td>\n",
       "      <td>2</td>\n",
       "    </tr>\n",
       "    <tr>\n",
       "      <th>1.0</th>\n",
       "      <td>19</td>\n",
       "      <td>8</td>\n",
       "    </tr>\n",
       "  </tbody>\n",
       "</table>\n",
       "</div>"
      ],
      "text/plain": [
       "예측값  0.0  1.0\n",
       "실제값          \n",
       "0.0   39    2\n",
       "1.0   19    8"
      ]
     },
     "execution_count": 38,
     "metadata": {},
     "output_type": "execute_result"
    }
   ],
   "source": [
    "ctab = pd.crosstab(y_test,          # 실제값\n",
    "                   y_hat.reshape(-1))   # 예측값\n",
    "ctab.index.name = '실제값'\n",
    "ctab.columns.name = '예측값'\n",
    "ctab\n",
    "pd.crosstab(y_test,          # 실제값\n",
    "            y_hat.reshape(-1),\n",
    "            rownames=['실제값'],\n",
    "            colnames=['예측값'])   # 예측값"
   ]
  },
  {
   "cell_type": "code",
   "execution_count": 39,
   "id": "6d600696",
   "metadata": {},
   "outputs": [
    {
     "data": {
      "text/plain": [
       "array([[39,  2],\n",
       "       [19,  8]], dtype=int64)"
      ]
     },
     "execution_count": 39,
     "metadata": {},
     "output_type": "execute_result"
    }
   ],
   "source": [
    "# 혼동행렬\n",
    "from sklearn.metrics import confusion_matrix\n",
    "confusion_matrix(y_test,\n",
    "                y_hat.reshape(-1))"
   ]
  },
  {
   "cell_type": "code",
   "execution_count": 40,
   "id": "bd5f69dd",
   "metadata": {},
   "outputs": [
    {
     "name": "stdout",
     "output_type": "stream",
     "text": [
      "accuracy : 0.6911764705882353\n",
      "recall : 0.8\n",
      "precision : 0.2962962962962963\n"
     ]
    }
   ],
   "source": [
    "# accuracy\n",
    "print('accuracy :', (TN+TP)/(TN+FP+FN+TP))\n",
    "print('recall :', TP / (FP+TP) )\n",
    "print('precision :', TP / (FN+TP))      "
   ]
  },
  {
   "cell_type": "markdown",
   "id": "dfaba296",
   "metadata": {},
   "source": [
    "# 6. 모델사용"
   ]
  },
  {
   "cell_type": "code",
   "execution_count": 41,
   "id": "f773b544",
   "metadata": {},
   "outputs": [
    {
     "data": {
      "text/plain": [
       "array([  2.   , 122.   ,  76.   ,  27.   , 200.   ,  35.9  ,   0.483,\n",
       "        26.   ])"
      ]
     },
     "execution_count": 41,
     "metadata": {},
     "output_type": "execute_result"
    }
   ],
   "source": [
    "X_test[0]"
   ]
  },
  {
   "cell_type": "code",
   "execution_count": 44,
   "id": "f132c294",
   "metadata": {},
   "outputs": [
    {
     "name": "stdout",
     "output_type": "stream",
     "text": [
      "1/1 [==============================] - 0s 31ms/step\n"
     ]
    },
    {
     "data": {
      "text/plain": [
       "0"
      ]
     },
     "execution_count": 44,
     "metadata": {},
     "output_type": "execute_result"
    }
   ],
   "source": [
    "int(model.predict(np.array([[2. , 122. ,76. ,27. , 200. ,35.9, 0.483, 26. ]]))>=0.5)"
   ]
  },
  {
   "cell_type": "code",
   "execution_count": 45,
   "id": "20cd2046",
   "metadata": {},
   "outputs": [
    {
     "name": "stdout",
     "output_type": "stream",
     "text": [
      "1/1 [==============================] - 0s 104ms/step\n"
     ]
    },
    {
     "data": {
      "text/plain": [
       "array([[0],\n",
       "       [0]])"
      ]
     },
     "execution_count": 45,
     "metadata": {},
     "output_type": "execute_result"
    }
   ],
   "source": [
    "model.predict(np.array([[2. , 122. ,76. ,27. , 200. ,35.9, 0.483, 26. ],\n",
    "                         [0 , 122. ,76. ,27. , 200. ,35.9, 0.483, 26. ]])).astype(int)"
   ]
  },
  {
   "cell_type": "markdown",
   "id": "b3a683b6",
   "metadata": {},
   "source": [
    "# 분류분석\n",
    "1. 데이터셋 생성 및 전처리 : 훈련셋(600), 검증셋(100개), 테스트셋(68)\n",
    "2. 모델 생성(input8, output 2) : 출력층 softmax(출력합을 1)\n",
    "    * model.summary() 파라미터 수와 메모리 확인\n",
    "3. 모델 학습과정 설정 : loss='categorical_crossentropy, metrics=['accuracy']\n",
    "4. 모델 학습 : 훈련셋과 검증셋\n",
    "5. 모델 평가 : 그래프(hist.history), 평가(테스트셋), 교차표(테스트셋)\n",
    "6. 모델 저장 및 사용 : predict결과에 argmax()\n",
    " [99.2, 0.8]"
   ]
  },
  {
   "cell_type": "markdown",
   "id": "a3ad46b4",
   "metadata": {},
   "source": [
    "# 1. 데이터 셋 생성 및 전처리"
   ]
  },
  {
   "cell_type": "code",
   "execution_count": 48,
   "id": "81e20115",
   "metadata": {},
   "outputs": [
    {
     "data": {
      "text/plain": [
       "(768, 9)"
      ]
     },
     "execution_count": 48,
     "metadata": {},
     "output_type": "execute_result"
    }
   ],
   "source": [
    "dataset = np.loadtxt('data/pima-indians-diabetes.csv',\n",
    "                     encoding='utf-8',\n",
    "                     delimiter=',')\n",
    "dataset.shape"
   ]
  },
  {
   "cell_type": "code",
   "execution_count": 52,
   "id": "9efdc08c",
   "metadata": {},
   "outputs": [
    {
     "data": {
      "text/plain": [
       "((600, 8), (600,), (100, 8), (100,), (68, 8), (68,))"
      ]
     },
     "execution_count": 52,
     "metadata": {},
     "output_type": "execute_result"
    }
   ],
   "source": [
    "# 훈련셋(600), 검증셋(100개), 테스트셋(68)\n",
    "X_train = dataset[:600, :-1]\n",
    "y_train = dataset[:600, -1]\n",
    "X_val = dataset[600:700, :-1]\n",
    "y_val = dataset[600:700, -1]\n",
    "X_test = dataset[700:, :-1]\n",
    "y_test = dataset[700:, -1]\n",
    "X_train.shape, y_train.shape, X_val.shape, y_val.shape, X_test.shape, y_test.shape"
   ]
  },
  {
   "cell_type": "code",
   "execution_count": 63,
   "id": "8e6b6487",
   "metadata": {},
   "outputs": [
    {
     "name": "stdout",
     "output_type": "stream",
     "text": [
      "[1. 0. 1. 0. 1.]\n",
      "[[0. 1.]\n",
      " [1. 0.]\n",
      " [0. 1.]\n",
      " [1. 0.]\n",
      " [0. 1.]]\n"
     ]
    },
    {
     "data": {
      "text/plain": [
       "((600, 2), (600,), (100, 2), (68, 2))"
      ]
     },
     "execution_count": 63,
     "metadata": {},
     "output_type": "execute_result"
    }
   ],
   "source": [
    "# 타겟변수의 원핫인코딩 (분류분석)\n",
    "print(y_train[:5])\n",
    "print(utils.to_categorical(y_train[:5]))\n",
    "Y_train = utils.to_categorical(y_train)\n",
    "Y_val = utils.to_categorical(y_val)\n",
    "Y_test = utils.to_categorical(y_test)\n",
    "Y_train.shape, y_train.shape, Y_val.shape, Y_test.shape"
   ]
  },
  {
   "cell_type": "markdown",
   "id": "b569fc37",
   "metadata": {},
   "source": [
    "# 2. 모델 생성(input8, target2)\n",
    "- 과적합 줄이는 단계 추가"
   ]
  },
  {
   "cell_type": "code",
   "execution_count": 71,
   "id": "46728757",
   "metadata": {},
   "outputs": [
    {
     "name": "stdout",
     "output_type": "stream",
     "text": [
      "Model: \"sequential_9\"\n",
      "_________________________________________________________________\n",
      " Layer (type)                Output Shape              Param #   \n",
      "=================================================================\n",
      " dense_27 (Dense)            (None, 32)                288       \n",
      "                                                                 \n",
      " dropout (Dropout)           (None, 32)                0         \n",
      "                                                                 \n",
      " dense_28 (Dense)            (None, 64)                2112      \n",
      "                                                                 \n",
      " dropout_1 (Dropout)         (None, 64)                0         \n",
      "                                                                 \n",
      " dense_29 (Dense)            (None, 16)                1040      \n",
      "                                                                 \n",
      " dropout_2 (Dropout)         (None, 16)                0         \n",
      "                                                                 \n",
      " dense_30 (Dense)            (None, 8)                 136       \n",
      "                                                                 \n",
      " dense_31 (Dense)            (None, 2)                 18        \n",
      "                                                                 \n",
      "=================================================================\n",
      "Total params: 3,594\n",
      "Trainable params: 3,594\n",
      "Non-trainable params: 0\n",
      "_________________________________________________________________\n"
     ]
    }
   ],
   "source": [
    "from tensorflow.keras.layers import Dropout\n",
    "model = Sequential()\n",
    "model.add(Input(shape=(8,)))\n",
    "model.add(Dense(units=32, activation='relu'))\n",
    "model.add(Dropout(0.2)) # 과적합을 해결하고자 \n",
    "model.add(Dense(units=64, activation='relu'))\n",
    "model.add(Dropout(0.1))\n",
    "model.add(Dense(units=16, activation='relu'))\n",
    "model.add(Dropout(0.2))\n",
    "model.add(Dense(units=8, activation='relu'))\n",
    "model.add(Dense(units=2, activation='softmax'))\n",
    "model.summary()"
   ]
  },
  {
   "cell_type": "markdown",
   "id": "4823a044",
   "metadata": {},
   "source": [
    "# 3. 학습과정 설정"
   ]
  },
  {
   "cell_type": "code",
   "execution_count": 73,
   "id": "ebfe9b22",
   "metadata": {},
   "outputs": [],
   "source": [
    "model.compile(loss='categorical_crossentropy',\n",
    "              optimizer='nadam',\n",
    "              metrics=['accuracy'])"
   ]
  },
  {
   "cell_type": "code",
   "execution_count": 74,
   "id": "9e9fa05d",
   "metadata": {},
   "outputs": [
    {
     "name": "stdout",
     "output_type": "stream",
     "text": [
      "Epoch 1/300\n",
      "19/19 [==============================] - 2s 14ms/step - loss: 3.2834 - accuracy: 0.5650 - val_loss: 1.1447 - val_accuracy: 0.5700\n",
      "Epoch 2/300\n",
      "19/19 [==============================] - 0s 4ms/step - loss: 1.8237 - accuracy: 0.5683 - val_loss: 0.7514 - val_accuracy: 0.6100\n",
      "Epoch 3/300\n",
      "19/19 [==============================] - 0s 3ms/step - loss: 1.3237 - accuracy: 0.5833 - val_loss: 0.7742 - val_accuracy: 0.5700\n",
      "Epoch 4/300\n",
      "19/19 [==============================] - 0s 4ms/step - loss: 0.9339 - accuracy: 0.5950 - val_loss: 0.7081 - val_accuracy: 0.6900\n",
      "Epoch 5/300\n",
      "19/19 [==============================] - 0s 4ms/step - loss: 0.8579 - accuracy: 0.6000 - val_loss: 0.6733 - val_accuracy: 0.7200\n",
      "Epoch 6/300\n",
      "19/19 [==============================] - 0s 4ms/step - loss: 0.7993 - accuracy: 0.6233 - val_loss: 0.6625 - val_accuracy: 0.6700\n",
      "Epoch 7/300\n",
      "19/19 [==============================] - 0s 4ms/step - loss: 0.7409 - accuracy: 0.6467 - val_loss: 0.6571 - val_accuracy: 0.6700\n",
      "Epoch 8/300\n",
      "19/19 [==============================] - 0s 4ms/step - loss: 0.7248 - accuracy: 0.6383 - val_loss: 0.6520 - val_accuracy: 0.6800\n",
      "Epoch 9/300\n",
      "19/19 [==============================] - 0s 4ms/step - loss: 0.7029 - accuracy: 0.6067 - val_loss: 0.6507 - val_accuracy: 0.6700\n",
      "Epoch 10/300\n",
      "19/19 [==============================] - 0s 6ms/step - loss: 0.7224 - accuracy: 0.6383 - val_loss: 0.6496 - val_accuracy: 0.6700\n",
      "Epoch 11/300\n",
      "19/19 [==============================] - 0s 6ms/step - loss: 0.6485 - accuracy: 0.6600 - val_loss: 0.6436 - val_accuracy: 0.6700\n",
      "Epoch 12/300\n",
      "19/19 [==============================] - 0s 4ms/step - loss: 0.7661 - accuracy: 0.6433 - val_loss: 0.6482 - val_accuracy: 0.6600\n",
      "Epoch 13/300\n",
      "19/19 [==============================] - 0s 4ms/step - loss: 0.6961 - accuracy: 0.6583 - val_loss: 0.6466 - val_accuracy: 0.6700\n",
      "Epoch 14/300\n",
      "19/19 [==============================] - 0s 4ms/step - loss: 0.7145 - accuracy: 0.6450 - val_loss: 0.6379 - val_accuracy: 0.6700\n",
      "Epoch 15/300\n",
      "19/19 [==============================] - 0s 4ms/step - loss: 0.6775 - accuracy: 0.6500 - val_loss: 0.6381 - val_accuracy: 0.6700\n",
      "Epoch 16/300\n",
      "19/19 [==============================] - 0s 4ms/step - loss: 0.6457 - accuracy: 0.6700 - val_loss: 0.6331 - val_accuracy: 0.6800\n",
      "Epoch 17/300\n",
      "19/19 [==============================] - 0s 4ms/step - loss: 0.6503 - accuracy: 0.6467 - val_loss: 0.6351 - val_accuracy: 0.6700\n",
      "Epoch 18/300\n",
      "19/19 [==============================] - 0s 3ms/step - loss: 0.6556 - accuracy: 0.6517 - val_loss: 0.6314 - val_accuracy: 0.6800\n",
      "Epoch 19/300\n",
      "19/19 [==============================] - 0s 4ms/step - loss: 0.6341 - accuracy: 0.6567 - val_loss: 0.6291 - val_accuracy: 0.6700\n",
      "Epoch 20/300\n",
      "19/19 [==============================] - 0s 4ms/step - loss: 0.6574 - accuracy: 0.6533 - val_loss: 0.6296 - val_accuracy: 0.6700\n",
      "Epoch 21/300\n",
      "19/19 [==============================] - 0s 3ms/step - loss: 0.6237 - accuracy: 0.6700 - val_loss: 0.6268 - val_accuracy: 0.6800\n",
      "Epoch 22/300\n",
      "19/19 [==============================] - 0s 4ms/step - loss: 0.6379 - accuracy: 0.6567 - val_loss: 0.6248 - val_accuracy: 0.6700\n",
      "Epoch 23/300\n",
      "19/19 [==============================] - 0s 3ms/step - loss: 0.6248 - accuracy: 0.6700 - val_loss: 0.6250 - val_accuracy: 0.6800\n",
      "Epoch 24/300\n",
      "19/19 [==============================] - 0s 3ms/step - loss: 0.6471 - accuracy: 0.6533 - val_loss: 0.6252 - val_accuracy: 0.6800\n",
      "Epoch 25/300\n",
      "19/19 [==============================] - 0s 4ms/step - loss: 0.6460 - accuracy: 0.6517 - val_loss: 0.6254 - val_accuracy: 0.6700\n",
      "Epoch 26/300\n",
      "19/19 [==============================] - 0s 4ms/step - loss: 0.6369 - accuracy: 0.6617 - val_loss: 0.6206 - val_accuracy: 0.6800\n",
      "Epoch 27/300\n",
      "19/19 [==============================] - 0s 4ms/step - loss: 0.6389 - accuracy: 0.6583 - val_loss: 0.6221 - val_accuracy: 0.6700\n",
      "Epoch 28/300\n",
      "19/19 [==============================] - 0s 4ms/step - loss: 0.6237 - accuracy: 0.6583 - val_loss: 0.6185 - val_accuracy: 0.6700\n",
      "Epoch 29/300\n",
      "19/19 [==============================] - 0s 4ms/step - loss: 0.6252 - accuracy: 0.6600 - val_loss: 0.6150 - val_accuracy: 0.6800\n",
      "Epoch 30/300\n",
      "19/19 [==============================] - 0s 4ms/step - loss: 0.6523 - accuracy: 0.6583 - val_loss: 0.6157 - val_accuracy: 0.6800\n",
      "Epoch 31/300\n",
      "19/19 [==============================] - 0s 4ms/step - loss: 0.6495 - accuracy: 0.6500 - val_loss: 0.6156 - val_accuracy: 0.6800\n",
      "Epoch 32/300\n",
      "19/19 [==============================] - 0s 4ms/step - loss: 0.6355 - accuracy: 0.6600 - val_loss: 0.6122 - val_accuracy: 0.7100\n",
      "Epoch 33/300\n",
      "19/19 [==============================] - 0s 4ms/step - loss: 0.6347 - accuracy: 0.6450 - val_loss: 0.6143 - val_accuracy: 0.6800\n",
      "Epoch 34/300\n",
      "19/19 [==============================] - 0s 4ms/step - loss: 0.6437 - accuracy: 0.6533 - val_loss: 0.6127 - val_accuracy: 0.6900\n",
      "Epoch 35/300\n",
      "19/19 [==============================] - 0s 4ms/step - loss: 0.6271 - accuracy: 0.6517 - val_loss: 0.6086 - val_accuracy: 0.7000\n",
      "Epoch 36/300\n",
      "19/19 [==============================] - 0s 4ms/step - loss: 0.6198 - accuracy: 0.6767 - val_loss: 0.6036 - val_accuracy: 0.7000\n",
      "Epoch 37/300\n",
      "19/19 [==============================] - 0s 4ms/step - loss: 0.6295 - accuracy: 0.6617 - val_loss: 0.5985 - val_accuracy: 0.7000\n",
      "Epoch 38/300\n",
      "19/19 [==============================] - 0s 4ms/step - loss: 0.6039 - accuracy: 0.6950 - val_loss: 0.5990 - val_accuracy: 0.7100\n",
      "Epoch 39/300\n",
      "19/19 [==============================] - 0s 7ms/step - loss: 0.6134 - accuracy: 0.6600 - val_loss: 0.5940 - val_accuracy: 0.7100\n",
      "Epoch 40/300\n",
      "19/19 [==============================] - 0s 4ms/step - loss: 0.6271 - accuracy: 0.6517 - val_loss: 0.6026 - val_accuracy: 0.7100\n",
      "Epoch 41/300\n",
      "19/19 [==============================] - 0s 4ms/step - loss: 0.6120 - accuracy: 0.6783 - val_loss: 0.5978 - val_accuracy: 0.6900\n",
      "Epoch 42/300\n",
      "19/19 [==============================] - 0s 4ms/step - loss: 0.6273 - accuracy: 0.6733 - val_loss: 0.6018 - val_accuracy: 0.7000\n",
      "Epoch 43/300\n",
      "19/19 [==============================] - 0s 4ms/step - loss: 0.6330 - accuracy: 0.6800 - val_loss: 0.6004 - val_accuracy: 0.7000\n",
      "Epoch 44/300\n",
      "19/19 [==============================] - 0s 4ms/step - loss: 0.6206 - accuracy: 0.6817 - val_loss: 0.5963 - val_accuracy: 0.7200\n",
      "Epoch 45/300\n",
      "19/19 [==============================] - 0s 4ms/step - loss: 0.6376 - accuracy: 0.6583 - val_loss: 0.5981 - val_accuracy: 0.7100\n",
      "Epoch 46/300\n",
      "19/19 [==============================] - 0s 4ms/step - loss: 0.6194 - accuracy: 0.6733 - val_loss: 0.5991 - val_accuracy: 0.7200\n",
      "Epoch 47/300\n",
      "19/19 [==============================] - 0s 4ms/step - loss: 0.6159 - accuracy: 0.6717 - val_loss: 0.6003 - val_accuracy: 0.7200\n",
      "Epoch 48/300\n",
      "19/19 [==============================] - 0s 4ms/step - loss: 0.6040 - accuracy: 0.6733 - val_loss: 0.5965 - val_accuracy: 0.7200\n",
      "Epoch 49/300\n",
      "19/19 [==============================] - 0s 4ms/step - loss: 0.6382 - accuracy: 0.6617 - val_loss: 0.6053 - val_accuracy: 0.6900\n",
      "Epoch 50/300\n",
      "19/19 [==============================] - 0s 4ms/step - loss: 0.6221 - accuracy: 0.6550 - val_loss: 0.5992 - val_accuracy: 0.7200\n",
      "Epoch 51/300\n",
      "19/19 [==============================] - 0s 4ms/step - loss: 0.6201 - accuracy: 0.6650 - val_loss: 0.6009 - val_accuracy: 0.7200\n",
      "Epoch 52/300\n",
      "19/19 [==============================] - 0s 4ms/step - loss: 0.6092 - accuracy: 0.6833 - val_loss: 0.5985 - val_accuracy: 0.7100\n",
      "Epoch 53/300\n",
      "19/19 [==============================] - 0s 4ms/step - loss: 0.6040 - accuracy: 0.6833 - val_loss: 0.5976 - val_accuracy: 0.7100\n",
      "Epoch 54/300\n",
      "19/19 [==============================] - 0s 4ms/step - loss: 0.6077 - accuracy: 0.6867 - val_loss: 0.5956 - val_accuracy: 0.7200\n",
      "Epoch 55/300\n",
      "19/19 [==============================] - 0s 4ms/step - loss: 0.6187 - accuracy: 0.6783 - val_loss: 0.5947 - val_accuracy: 0.7100\n",
      "Epoch 56/300\n",
      "19/19 [==============================] - 0s 4ms/step - loss: 0.6264 - accuracy: 0.6700 - val_loss: 0.5956 - val_accuracy: 0.7200\n",
      "Epoch 57/300\n",
      "19/19 [==============================] - 0s 4ms/step - loss: 0.6004 - accuracy: 0.6867 - val_loss: 0.5909 - val_accuracy: 0.7400\n",
      "Epoch 58/300\n",
      "19/19 [==============================] - 0s 4ms/step - loss: 0.6005 - accuracy: 0.6917 - val_loss: 0.5925 - val_accuracy: 0.7300\n",
      "Epoch 59/300\n",
      "19/19 [==============================] - 0s 4ms/step - loss: 0.6140 - accuracy: 0.6717 - val_loss: 0.5927 - val_accuracy: 0.7200\n",
      "Epoch 60/300\n",
      "19/19 [==============================] - 0s 4ms/step - loss: 0.6238 - accuracy: 0.6750 - val_loss: 0.5889 - val_accuracy: 0.7300\n",
      "Epoch 61/300\n",
      "19/19 [==============================] - 0s 4ms/step - loss: 0.6043 - accuracy: 0.6650 - val_loss: 0.5883 - val_accuracy: 0.7300\n",
      "Epoch 62/300\n",
      "19/19 [==============================] - 0s 4ms/step - loss: 0.5932 - accuracy: 0.6850 - val_loss: 0.5871 - val_accuracy: 0.7300\n",
      "Epoch 63/300\n",
      "19/19 [==============================] - 0s 4ms/step - loss: 0.5860 - accuracy: 0.6883 - val_loss: 0.5857 - val_accuracy: 0.7300\n",
      "Epoch 64/300\n",
      "19/19 [==============================] - 0s 4ms/step - loss: 0.6298 - accuracy: 0.6683 - val_loss: 0.5938 - val_accuracy: 0.7000\n",
      "Epoch 65/300\n",
      "19/19 [==============================] - 0s 4ms/step - loss: 0.6236 - accuracy: 0.6600 - val_loss: 0.5956 - val_accuracy: 0.7000\n",
      "Epoch 66/300\n",
      "19/19 [==============================] - 0s 4ms/step - loss: 0.6047 - accuracy: 0.6767 - val_loss: 0.5858 - val_accuracy: 0.7200\n",
      "Epoch 67/300\n",
      "19/19 [==============================] - 0s 4ms/step - loss: 0.5938 - accuracy: 0.6750 - val_loss: 0.5828 - val_accuracy: 0.7200\n",
      "Epoch 68/300\n",
      "19/19 [==============================] - 0s 4ms/step - loss: 0.6025 - accuracy: 0.6650 - val_loss: 0.5855 - val_accuracy: 0.7100\n",
      "Epoch 69/300\n",
      "19/19 [==============================] - 0s 4ms/step - loss: 0.5941 - accuracy: 0.6817 - val_loss: 0.5794 - val_accuracy: 0.7300\n",
      "Epoch 70/300\n",
      "19/19 [==============================] - 0s 4ms/step - loss: 0.5959 - accuracy: 0.6817 - val_loss: 0.5817 - val_accuracy: 0.7100\n",
      "Epoch 71/300\n",
      "19/19 [==============================] - 0s 4ms/step - loss: 0.5918 - accuracy: 0.6950 - val_loss: 0.5812 - val_accuracy: 0.7100\n",
      "Epoch 72/300\n",
      "19/19 [==============================] - 0s 4ms/step - loss: 0.6055 - accuracy: 0.6867 - val_loss: 0.5868 - val_accuracy: 0.7100\n",
      "Epoch 73/300\n",
      "19/19 [==============================] - 0s 7ms/step - loss: 0.6019 - accuracy: 0.6750 - val_loss: 0.5848 - val_accuracy: 0.7100\n",
      "Epoch 74/300\n",
      "19/19 [==============================] - 0s 4ms/step - loss: 0.5819 - accuracy: 0.6950 - val_loss: 0.5794 - val_accuracy: 0.7200\n",
      "Epoch 75/300\n",
      "19/19 [==============================] - 0s 4ms/step - loss: 0.6194 - accuracy: 0.6650 - val_loss: 0.5842 - val_accuracy: 0.7200\n",
      "Epoch 76/300\n",
      "19/19 [==============================] - 0s 4ms/step - loss: 0.6135 - accuracy: 0.6950 - val_loss: 0.5792 - val_accuracy: 0.7300\n",
      "Epoch 77/300\n",
      "19/19 [==============================] - 0s 4ms/step - loss: 0.5918 - accuracy: 0.7067 - val_loss: 0.5779 - val_accuracy: 0.7400\n",
      "Epoch 78/300\n",
      "19/19 [==============================] - 0s 4ms/step - loss: 0.6049 - accuracy: 0.6850 - val_loss: 0.5788 - val_accuracy: 0.7100\n",
      "Epoch 79/300\n",
      "19/19 [==============================] - 0s 4ms/step - loss: 0.5955 - accuracy: 0.6867 - val_loss: 0.5815 - val_accuracy: 0.6800\n",
      "Epoch 80/300\n",
      "19/19 [==============================] - 0s 4ms/step - loss: 0.6051 - accuracy: 0.6817 - val_loss: 0.5865 - val_accuracy: 0.7000\n",
      "Epoch 81/300\n",
      "19/19 [==============================] - 0s 4ms/step - loss: 0.6159 - accuracy: 0.6800 - val_loss: 0.5800 - val_accuracy: 0.7300\n",
      "Epoch 82/300\n",
      "19/19 [==============================] - 0s 4ms/step - loss: 0.5836 - accuracy: 0.6967 - val_loss: 0.5770 - val_accuracy: 0.7600\n",
      "Epoch 83/300\n",
      "19/19 [==============================] - 0s 4ms/step - loss: 0.6025 - accuracy: 0.6700 - val_loss: 0.5825 - val_accuracy: 0.7100\n",
      "Epoch 84/300\n",
      "19/19 [==============================] - 0s 4ms/step - loss: 0.6013 - accuracy: 0.6867 - val_loss: 0.5840 - val_accuracy: 0.7200\n",
      "Epoch 85/300\n",
      "19/19 [==============================] - 0s 4ms/step - loss: 0.5859 - accuracy: 0.6833 - val_loss: 0.5813 - val_accuracy: 0.7100\n",
      "Epoch 86/300\n",
      "19/19 [==============================] - 0s 4ms/step - loss: 0.5977 - accuracy: 0.6967 - val_loss: 0.5869 - val_accuracy: 0.7000\n",
      "Epoch 87/300\n",
      "19/19 [==============================] - 0s 4ms/step - loss: 0.5911 - accuracy: 0.6983 - val_loss: 0.5804 - val_accuracy: 0.7300\n",
      "Epoch 88/300\n",
      "19/19 [==============================] - 0s 4ms/step - loss: 0.5857 - accuracy: 0.6883 - val_loss: 0.5767 - val_accuracy: 0.7500\n",
      "Epoch 89/300\n",
      "19/19 [==============================] - 0s 4ms/step - loss: 0.5963 - accuracy: 0.6833 - val_loss: 0.5746 - val_accuracy: 0.7400\n",
      "Epoch 90/300\n",
      "19/19 [==============================] - 0s 4ms/step - loss: 0.5851 - accuracy: 0.6917 - val_loss: 0.5802 - val_accuracy: 0.7100\n",
      "Epoch 91/300\n",
      "19/19 [==============================] - 0s 4ms/step - loss: 0.5840 - accuracy: 0.6917 - val_loss: 0.5727 - val_accuracy: 0.7600\n",
      "Epoch 92/300\n",
      "19/19 [==============================] - 0s 3ms/step - loss: 0.5966 - accuracy: 0.6933 - val_loss: 0.5780 - val_accuracy: 0.7100\n",
      "Epoch 93/300\n",
      "19/19 [==============================] - 0s 4ms/step - loss: 0.5787 - accuracy: 0.6967 - val_loss: 0.5762 - val_accuracy: 0.7300\n",
      "Epoch 94/300\n",
      "19/19 [==============================] - 0s 4ms/step - loss: 0.5917 - accuracy: 0.7167 - val_loss: 0.5789 - val_accuracy: 0.7200\n",
      "Epoch 95/300\n",
      "19/19 [==============================] - 0s 4ms/step - loss: 0.5858 - accuracy: 0.6883 - val_loss: 0.5736 - val_accuracy: 0.7500\n",
      "Epoch 96/300\n",
      "19/19 [==============================] - 0s 4ms/step - loss: 0.5710 - accuracy: 0.7017 - val_loss: 0.5740 - val_accuracy: 0.7600\n",
      "Epoch 97/300\n",
      "19/19 [==============================] - 0s 4ms/step - loss: 0.6059 - accuracy: 0.6933 - val_loss: 0.5795 - val_accuracy: 0.7100\n",
      "Epoch 98/300\n",
      "19/19 [==============================] - 0s 4ms/step - loss: 0.6046 - accuracy: 0.6833 - val_loss: 0.5758 - val_accuracy: 0.7100\n",
      "Epoch 99/300\n",
      "19/19 [==============================] - 0s 4ms/step - loss: 0.5602 - accuracy: 0.7250 - val_loss: 0.5690 - val_accuracy: 0.7400\n",
      "Epoch 100/300\n",
      "19/19 [==============================] - 0s 4ms/step - loss: 0.5778 - accuracy: 0.7017 - val_loss: 0.5711 - val_accuracy: 0.7300\n",
      "Epoch 101/300\n",
      "19/19 [==============================] - 0s 4ms/step - loss: 0.5814 - accuracy: 0.7067 - val_loss: 0.5700 - val_accuracy: 0.7400\n",
      "Epoch 102/300\n",
      "19/19 [==============================] - 0s 4ms/step - loss: 0.5867 - accuracy: 0.6983 - val_loss: 0.5662 - val_accuracy: 0.7500\n",
      "Epoch 103/300\n",
      "19/19 [==============================] - 0s 4ms/step - loss: 0.5919 - accuracy: 0.6717 - val_loss: 0.5628 - val_accuracy: 0.7300\n",
      "Epoch 104/300\n",
      "19/19 [==============================] - 0s 4ms/step - loss: 0.5850 - accuracy: 0.6900 - val_loss: 0.5649 - val_accuracy: 0.7300\n",
      "Epoch 105/300\n",
      "19/19 [==============================] - 0s 4ms/step - loss: 0.5663 - accuracy: 0.7000 - val_loss: 0.5579 - val_accuracy: 0.7500\n",
      "Epoch 106/300\n",
      "19/19 [==============================] - 0s 4ms/step - loss: 0.5795 - accuracy: 0.7050 - val_loss: 0.5551 - val_accuracy: 0.7300\n",
      "Epoch 107/300\n",
      "19/19 [==============================] - 0s 4ms/step - loss: 0.5691 - accuracy: 0.7033 - val_loss: 0.5553 - val_accuracy: 0.7100\n",
      "Epoch 108/300\n",
      "19/19 [==============================] - 0s 4ms/step - loss: 0.5872 - accuracy: 0.6933 - val_loss: 0.5570 - val_accuracy: 0.7100\n",
      "Epoch 109/300\n",
      "19/19 [==============================] - 0s 4ms/step - loss: 0.5825 - accuracy: 0.7100 - val_loss: 0.5571 - val_accuracy: 0.7400\n",
      "Epoch 110/300\n",
      "19/19 [==============================] - 0s 4ms/step - loss: 0.5824 - accuracy: 0.7050 - val_loss: 0.5575 - val_accuracy: 0.7300\n",
      "Epoch 111/300\n",
      "19/19 [==============================] - 0s 4ms/step - loss: 0.5846 - accuracy: 0.6933 - val_loss: 0.5551 - val_accuracy: 0.7300\n",
      "Epoch 112/300\n",
      "19/19 [==============================] - 0s 4ms/step - loss: 0.5801 - accuracy: 0.7050 - val_loss: 0.5534 - val_accuracy: 0.7000\n",
      "Epoch 113/300\n",
      "19/19 [==============================] - 0s 7ms/step - loss: 0.5760 - accuracy: 0.7000 - val_loss: 0.5588 - val_accuracy: 0.7200\n",
      "Epoch 114/300\n",
      "19/19 [==============================] - 0s 4ms/step - loss: 0.5775 - accuracy: 0.7150 - val_loss: 0.5499 - val_accuracy: 0.7400\n",
      "Epoch 115/300\n",
      "19/19 [==============================] - 0s 4ms/step - loss: 0.5762 - accuracy: 0.7117 - val_loss: 0.5489 - val_accuracy: 0.7100\n",
      "Epoch 116/300\n",
      "19/19 [==============================] - 0s 4ms/step - loss: 0.5766 - accuracy: 0.6950 - val_loss: 0.5458 - val_accuracy: 0.7600\n",
      "Epoch 117/300\n",
      "19/19 [==============================] - 0s 4ms/step - loss: 0.5780 - accuracy: 0.6817 - val_loss: 0.5549 - val_accuracy: 0.7300\n",
      "Epoch 118/300\n",
      "19/19 [==============================] - 0s 4ms/step - loss: 0.5882 - accuracy: 0.7033 - val_loss: 0.5476 - val_accuracy: 0.7400\n",
      "Epoch 119/300\n",
      "19/19 [==============================] - 0s 4ms/step - loss: 0.5781 - accuracy: 0.6867 - val_loss: 0.5483 - val_accuracy: 0.7400\n",
      "Epoch 120/300\n",
      "19/19 [==============================] - 0s 3ms/step - loss: 0.5874 - accuracy: 0.7150 - val_loss: 0.5745 - val_accuracy: 0.6800\n",
      "Epoch 121/300\n",
      "19/19 [==============================] - 0s 4ms/step - loss: 0.5800 - accuracy: 0.7117 - val_loss: 0.5539 - val_accuracy: 0.7200\n",
      "Epoch 122/300\n",
      "19/19 [==============================] - 0s 4ms/step - loss: 0.5762 - accuracy: 0.6933 - val_loss: 0.5600 - val_accuracy: 0.7200\n",
      "Epoch 123/300\n",
      "19/19 [==============================] - 0s 4ms/step - loss: 0.5644 - accuracy: 0.7150 - val_loss: 0.5555 - val_accuracy: 0.7500\n",
      "Epoch 124/300\n",
      "19/19 [==============================] - 0s 4ms/step - loss: 0.5672 - accuracy: 0.7033 - val_loss: 0.5533 - val_accuracy: 0.7300\n",
      "Epoch 125/300\n",
      "19/19 [==============================] - 0s 4ms/step - loss: 0.5845 - accuracy: 0.6933 - val_loss: 0.5632 - val_accuracy: 0.7000\n",
      "Epoch 126/300\n",
      "19/19 [==============================] - 0s 4ms/step - loss: 0.5787 - accuracy: 0.6983 - val_loss: 0.5550 - val_accuracy: 0.7100\n",
      "Epoch 127/300\n",
      "19/19 [==============================] - 0s 4ms/step - loss: 0.5662 - accuracy: 0.7167 - val_loss: 0.5439 - val_accuracy: 0.7600\n",
      "Epoch 128/300\n",
      "19/19 [==============================] - 0s 3ms/step - loss: 0.5710 - accuracy: 0.7200 - val_loss: 0.5456 - val_accuracy: 0.7100\n",
      "Epoch 129/300\n",
      "19/19 [==============================] - 0s 3ms/step - loss: 0.5728 - accuracy: 0.7050 - val_loss: 0.5497 - val_accuracy: 0.7600\n",
      "Epoch 130/300\n",
      "19/19 [==============================] - 0s 4ms/step - loss: 0.5810 - accuracy: 0.6800 - val_loss: 0.5604 - val_accuracy: 0.7100\n",
      "Epoch 131/300\n",
      "19/19 [==============================] - 0s 4ms/step - loss: 0.5592 - accuracy: 0.7100 - val_loss: 0.5400 - val_accuracy: 0.7500\n",
      "Epoch 132/300\n",
      "19/19 [==============================] - 0s 4ms/step - loss: 0.5779 - accuracy: 0.6917 - val_loss: 0.5598 - val_accuracy: 0.6800\n",
      "Epoch 133/300\n",
      "19/19 [==============================] - 0s 4ms/step - loss: 0.5751 - accuracy: 0.7200 - val_loss: 0.5363 - val_accuracy: 0.7300\n",
      "Epoch 134/300\n",
      "19/19 [==============================] - 0s 4ms/step - loss: 0.5604 - accuracy: 0.7233 - val_loss: 0.5368 - val_accuracy: 0.7400\n",
      "Epoch 135/300\n",
      "19/19 [==============================] - 0s 3ms/step - loss: 0.5587 - accuracy: 0.7050 - val_loss: 0.5475 - val_accuracy: 0.7200\n",
      "Epoch 136/300\n",
      "19/19 [==============================] - 0s 4ms/step - loss: 0.5739 - accuracy: 0.6967 - val_loss: 0.5487 - val_accuracy: 0.7000\n",
      "Epoch 137/300\n",
      "19/19 [==============================] - 0s 4ms/step - loss: 0.5550 - accuracy: 0.7017 - val_loss: 0.5401 - val_accuracy: 0.7400\n",
      "Epoch 138/300\n",
      "19/19 [==============================] - 0s 4ms/step - loss: 0.5701 - accuracy: 0.7050 - val_loss: 0.5379 - val_accuracy: 0.7300\n",
      "Epoch 139/300\n",
      "19/19 [==============================] - 0s 4ms/step - loss: 0.5753 - accuracy: 0.7017 - val_loss: 0.5613 - val_accuracy: 0.7000\n",
      "Epoch 140/300\n",
      "19/19 [==============================] - 0s 4ms/step - loss: 0.5725 - accuracy: 0.7017 - val_loss: 0.5536 - val_accuracy: 0.7100\n",
      "Epoch 141/300\n",
      "19/19 [==============================] - 0s 4ms/step - loss: 0.5470 - accuracy: 0.7483 - val_loss: 0.5337 - val_accuracy: 0.7400\n",
      "Epoch 142/300\n",
      "19/19 [==============================] - 0s 4ms/step - loss: 0.5704 - accuracy: 0.6967 - val_loss: 0.5556 - val_accuracy: 0.7100\n",
      "Epoch 143/300\n",
      "19/19 [==============================] - 0s 4ms/step - loss: 0.5451 - accuracy: 0.7267 - val_loss: 0.5453 - val_accuracy: 0.7300\n",
      "Epoch 144/300\n",
      "19/19 [==============================] - 0s 6ms/step - loss: 0.5562 - accuracy: 0.7133 - val_loss: 0.5616 - val_accuracy: 0.7000\n",
      "Epoch 145/300\n",
      "19/19 [==============================] - 0s 3ms/step - loss: 0.5633 - accuracy: 0.7117 - val_loss: 0.5433 - val_accuracy: 0.7400\n",
      "Epoch 146/300\n",
      "19/19 [==============================] - 0s 4ms/step - loss: 0.5412 - accuracy: 0.7283 - val_loss: 0.5435 - val_accuracy: 0.7400\n",
      "Epoch 147/300\n",
      "19/19 [==============================] - 0s 3ms/step - loss: 0.5595 - accuracy: 0.7200 - val_loss: 0.5484 - val_accuracy: 0.7200\n",
      "Epoch 148/300\n",
      "19/19 [==============================] - 0s 4ms/step - loss: 0.5639 - accuracy: 0.7100 - val_loss: 0.5535 - val_accuracy: 0.7100\n",
      "Epoch 149/300\n",
      "19/19 [==============================] - 0s 4ms/step - loss: 0.5621 - accuracy: 0.7150 - val_loss: 0.5507 - val_accuracy: 0.7200\n",
      "Epoch 150/300\n",
      "19/19 [==============================] - 0s 4ms/step - loss: 0.5624 - accuracy: 0.7250 - val_loss: 0.5434 - val_accuracy: 0.7300\n",
      "Epoch 151/300\n",
      "19/19 [==============================] - 0s 3ms/step - loss: 0.5447 - accuracy: 0.7200 - val_loss: 0.5633 - val_accuracy: 0.7000\n",
      "Epoch 152/300\n",
      "19/19 [==============================] - 0s 4ms/step - loss: 0.5645 - accuracy: 0.7383 - val_loss: 0.5324 - val_accuracy: 0.7200\n",
      "Epoch 153/300\n",
      "19/19 [==============================] - 0s 3ms/step - loss: 0.5519 - accuracy: 0.7267 - val_loss: 0.5608 - val_accuracy: 0.7000\n",
      "Epoch 154/300\n",
      "19/19 [==============================] - 0s 4ms/step - loss: 0.5712 - accuracy: 0.7050 - val_loss: 0.5348 - val_accuracy: 0.7500\n",
      "Epoch 155/300\n",
      "19/19 [==============================] - 0s 4ms/step - loss: 0.5767 - accuracy: 0.6950 - val_loss: 0.5457 - val_accuracy: 0.7100\n",
      "Epoch 156/300\n",
      "19/19 [==============================] - 0s 5ms/step - loss: 0.5539 - accuracy: 0.7267 - val_loss: 0.5323 - val_accuracy: 0.7400\n",
      "Epoch 157/300\n",
      "19/19 [==============================] - 0s 5ms/step - loss: 0.5521 - accuracy: 0.7200 - val_loss: 0.5352 - val_accuracy: 0.7400\n",
      "Epoch 158/300\n",
      "19/19 [==============================] - 0s 4ms/step - loss: 0.5642 - accuracy: 0.7033 - val_loss: 0.5318 - val_accuracy: 0.7400\n",
      "Epoch 159/300\n",
      "19/19 [==============================] - 0s 4ms/step - loss: 0.5599 - accuracy: 0.7283 - val_loss: 0.5328 - val_accuracy: 0.7400\n",
      "Epoch 160/300\n",
      "19/19 [==============================] - 0s 4ms/step - loss: 0.5641 - accuracy: 0.7267 - val_loss: 0.5311 - val_accuracy: 0.7600\n",
      "Epoch 161/300\n",
      "19/19 [==============================] - 0s 4ms/step - loss: 0.5561 - accuracy: 0.7267 - val_loss: 0.5399 - val_accuracy: 0.7000\n",
      "Epoch 162/300\n",
      "19/19 [==============================] - 0s 4ms/step - loss: 0.5633 - accuracy: 0.7317 - val_loss: 0.5386 - val_accuracy: 0.7000\n",
      "Epoch 163/300\n",
      "19/19 [==============================] - 0s 3ms/step - loss: 0.5538 - accuracy: 0.7183 - val_loss: 0.5511 - val_accuracy: 0.7000\n",
      "Epoch 164/300\n",
      "19/19 [==============================] - 0s 4ms/step - loss: 0.5556 - accuracy: 0.7300 - val_loss: 0.5343 - val_accuracy: 0.7500\n",
      "Epoch 165/300\n",
      "19/19 [==============================] - 0s 4ms/step - loss: 0.5604 - accuracy: 0.7300 - val_loss: 0.5475 - val_accuracy: 0.7000\n",
      "Epoch 166/300\n",
      "19/19 [==============================] - 0s 4ms/step - loss: 0.5399 - accuracy: 0.7417 - val_loss: 0.5370 - val_accuracy: 0.7500\n",
      "Epoch 167/300\n",
      "19/19 [==============================] - 0s 7ms/step - loss: 0.5557 - accuracy: 0.7317 - val_loss: 0.5428 - val_accuracy: 0.7200\n",
      "Epoch 168/300\n",
      "19/19 [==============================] - 0s 4ms/step - loss: 0.5413 - accuracy: 0.7183 - val_loss: 0.5428 - val_accuracy: 0.7000\n",
      "Epoch 169/300\n",
      "19/19 [==============================] - 0s 4ms/step - loss: 0.5649 - accuracy: 0.7167 - val_loss: 0.5471 - val_accuracy: 0.7000\n",
      "Epoch 170/300\n",
      "19/19 [==============================] - 0s 4ms/step - loss: 0.5405 - accuracy: 0.7233 - val_loss: 0.5319 - val_accuracy: 0.7300\n",
      "Epoch 171/300\n",
      "19/19 [==============================] - 0s 4ms/step - loss: 0.5582 - accuracy: 0.7200 - val_loss: 0.5497 - val_accuracy: 0.7000\n",
      "Epoch 172/300\n",
      "19/19 [==============================] - 0s 4ms/step - loss: 0.5421 - accuracy: 0.7367 - val_loss: 0.5273 - val_accuracy: 0.7300\n",
      "Epoch 173/300\n",
      "19/19 [==============================] - 0s 4ms/step - loss: 0.5623 - accuracy: 0.7117 - val_loss: 0.5511 - val_accuracy: 0.7300\n",
      "Epoch 174/300\n",
      "19/19 [==============================] - 0s 4ms/step - loss: 0.5450 - accuracy: 0.7283 - val_loss: 0.5533 - val_accuracy: 0.7000\n",
      "Epoch 175/300\n",
      "19/19 [==============================] - 0s 4ms/step - loss: 0.5390 - accuracy: 0.7467 - val_loss: 0.5570 - val_accuracy: 0.7000\n",
      "Epoch 176/300\n",
      "19/19 [==============================] - 0s 4ms/step - loss: 0.5664 - accuracy: 0.7317 - val_loss: 0.5351 - val_accuracy: 0.7200\n",
      "Epoch 177/300\n",
      "19/19 [==============================] - 0s 4ms/step - loss: 0.5522 - accuracy: 0.7317 - val_loss: 0.5428 - val_accuracy: 0.6900\n",
      "Epoch 178/300\n",
      "19/19 [==============================] - 0s 4ms/step - loss: 0.5541 - accuracy: 0.7333 - val_loss: 0.5227 - val_accuracy: 0.7500\n",
      "Epoch 179/300\n",
      "19/19 [==============================] - 0s 4ms/step - loss: 0.5411 - accuracy: 0.7433 - val_loss: 0.5523 - val_accuracy: 0.7000\n",
      "Epoch 180/300\n",
      "19/19 [==============================] - 0s 3ms/step - loss: 0.5465 - accuracy: 0.7367 - val_loss: 0.5374 - val_accuracy: 0.7200\n",
      "Epoch 181/300\n",
      "19/19 [==============================] - 0s 3ms/step - loss: 0.5550 - accuracy: 0.7167 - val_loss: 0.5359 - val_accuracy: 0.7100\n",
      "Epoch 182/300\n",
      "19/19 [==============================] - 0s 4ms/step - loss: 0.5463 - accuracy: 0.7133 - val_loss: 0.5508 - val_accuracy: 0.7000\n",
      "Epoch 183/300\n",
      "19/19 [==============================] - 0s 4ms/step - loss: 0.5652 - accuracy: 0.7250 - val_loss: 0.5382 - val_accuracy: 0.7000\n",
      "Epoch 184/300\n",
      "19/19 [==============================] - 0s 4ms/step - loss: 0.5456 - accuracy: 0.7050 - val_loss: 0.5266 - val_accuracy: 0.7400\n",
      "Epoch 185/300\n",
      "19/19 [==============================] - 0s 3ms/step - loss: 0.5351 - accuracy: 0.7367 - val_loss: 0.5396 - val_accuracy: 0.7100\n",
      "Epoch 186/300\n",
      "19/19 [==============================] - 0s 4ms/step - loss: 0.5337 - accuracy: 0.7333 - val_loss: 0.5438 - val_accuracy: 0.7000\n",
      "Epoch 187/300\n",
      "19/19 [==============================] - 0s 4ms/step - loss: 0.5469 - accuracy: 0.7383 - val_loss: 0.5366 - val_accuracy: 0.7300\n",
      "Epoch 188/300\n",
      "19/19 [==============================] - 0s 4ms/step - loss: 0.5441 - accuracy: 0.7350 - val_loss: 0.5406 - val_accuracy: 0.7100\n",
      "Epoch 189/300\n",
      "19/19 [==============================] - 0s 4ms/step - loss: 0.5596 - accuracy: 0.7133 - val_loss: 0.5397 - val_accuracy: 0.7400\n",
      "Epoch 190/300\n",
      "19/19 [==============================] - 0s 4ms/step - loss: 0.5524 - accuracy: 0.7117 - val_loss: 0.5354 - val_accuracy: 0.7300\n",
      "Epoch 191/300\n",
      "19/19 [==============================] - 0s 4ms/step - loss: 0.5549 - accuracy: 0.7250 - val_loss: 0.5550 - val_accuracy: 0.7000\n",
      "Epoch 192/300\n",
      "19/19 [==============================] - 0s 4ms/step - loss: 0.5368 - accuracy: 0.7300 - val_loss: 0.5399 - val_accuracy: 0.7100\n",
      "Epoch 193/300\n",
      "19/19 [==============================] - 0s 4ms/step - loss: 0.5528 - accuracy: 0.7250 - val_loss: 0.5408 - val_accuracy: 0.7200\n",
      "Epoch 194/300\n",
      "19/19 [==============================] - 0s 4ms/step - loss: 0.5362 - accuracy: 0.7333 - val_loss: 0.5559 - val_accuracy: 0.7000\n",
      "Epoch 195/300\n",
      "19/19 [==============================] - 0s 3ms/step - loss: 0.5425 - accuracy: 0.7233 - val_loss: 0.5387 - val_accuracy: 0.7100\n",
      "Epoch 196/300\n",
      "19/19 [==============================] - 0s 7ms/step - loss: 0.5516 - accuracy: 0.7267 - val_loss: 0.5447 - val_accuracy: 0.7000\n",
      "Epoch 197/300\n",
      "19/19 [==============================] - 0s 3ms/step - loss: 0.5415 - accuracy: 0.7283 - val_loss: 0.5325 - val_accuracy: 0.7300\n",
      "Epoch 198/300\n",
      "19/19 [==============================] - 0s 4ms/step - loss: 0.5438 - accuracy: 0.7350 - val_loss: 0.5446 - val_accuracy: 0.7100\n",
      "Epoch 199/300\n",
      "19/19 [==============================] - 0s 4ms/step - loss: 0.5499 - accuracy: 0.7300 - val_loss: 0.5423 - val_accuracy: 0.7000\n",
      "Epoch 200/300\n",
      "19/19 [==============================] - 0s 4ms/step - loss: 0.5521 - accuracy: 0.7183 - val_loss: 0.5415 - val_accuracy: 0.7000\n",
      "Epoch 201/300\n",
      "19/19 [==============================] - 0s 4ms/step - loss: 0.5371 - accuracy: 0.7350 - val_loss: 0.5249 - val_accuracy: 0.7300\n",
      "Epoch 202/300\n",
      "19/19 [==============================] - 0s 4ms/step - loss: 0.5570 - accuracy: 0.7217 - val_loss: 0.5292 - val_accuracy: 0.7300\n",
      "Epoch 203/300\n",
      "19/19 [==============================] - 0s 4ms/step - loss: 0.5410 - accuracy: 0.7350 - val_loss: 0.5382 - val_accuracy: 0.7400\n",
      "Epoch 204/300\n",
      "19/19 [==============================] - 0s 4ms/step - loss: 0.5416 - accuracy: 0.7367 - val_loss: 0.5429 - val_accuracy: 0.7200\n",
      "Epoch 205/300\n",
      "19/19 [==============================] - 0s 4ms/step - loss: 0.5616 - accuracy: 0.7150 - val_loss: 0.5389 - val_accuracy: 0.7300\n",
      "Epoch 206/300\n",
      "19/19 [==============================] - 0s 4ms/step - loss: 0.5225 - accuracy: 0.7367 - val_loss: 0.5479 - val_accuracy: 0.7300\n",
      "Epoch 207/300\n",
      "19/19 [==============================] - 0s 3ms/step - loss: 0.5398 - accuracy: 0.7400 - val_loss: 0.5477 - val_accuracy: 0.7200\n",
      "Epoch 208/300\n",
      "19/19 [==============================] - 0s 4ms/step - loss: 0.5659 - accuracy: 0.7083 - val_loss: 0.5528 - val_accuracy: 0.7100\n",
      "Epoch 209/300\n",
      "19/19 [==============================] - 0s 4ms/step - loss: 0.5321 - accuracy: 0.7367 - val_loss: 0.5692 - val_accuracy: 0.6900\n",
      "Epoch 210/300\n",
      "19/19 [==============================] - 0s 4ms/step - loss: 0.5493 - accuracy: 0.7467 - val_loss: 0.5281 - val_accuracy: 0.7300\n",
      "Epoch 211/300\n",
      "19/19 [==============================] - 0s 4ms/step - loss: 0.5387 - accuracy: 0.7250 - val_loss: 0.5577 - val_accuracy: 0.7000\n",
      "Epoch 212/300\n",
      "19/19 [==============================] - 0s 4ms/step - loss: 0.5538 - accuracy: 0.7133 - val_loss: 0.5390 - val_accuracy: 0.7100\n",
      "Epoch 213/300\n",
      "19/19 [==============================] - 0s 4ms/step - loss: 0.5326 - accuracy: 0.7333 - val_loss: 0.5450 - val_accuracy: 0.7000\n",
      "Epoch 214/300\n",
      "19/19 [==============================] - 0s 4ms/step - loss: 0.5363 - accuracy: 0.7317 - val_loss: 0.5615 - val_accuracy: 0.7100\n",
      "Epoch 215/300\n",
      "19/19 [==============================] - 0s 4ms/step - loss: 0.5197 - accuracy: 0.7350 - val_loss: 0.5436 - val_accuracy: 0.7200\n",
      "Epoch 216/300\n",
      "19/19 [==============================] - 0s 4ms/step - loss: 0.5334 - accuracy: 0.7283 - val_loss: 0.5535 - val_accuracy: 0.7000\n",
      "Epoch 217/300\n",
      "19/19 [==============================] - 0s 4ms/step - loss: 0.5294 - accuracy: 0.7517 - val_loss: 0.5310 - val_accuracy: 0.7200\n",
      "Epoch 218/300\n",
      "19/19 [==============================] - 0s 3ms/step - loss: 0.5429 - accuracy: 0.7300 - val_loss: 0.5718 - val_accuracy: 0.6900\n",
      "Epoch 219/300\n",
      "19/19 [==============================] - 0s 4ms/step - loss: 0.5499 - accuracy: 0.7367 - val_loss: 0.5532 - val_accuracy: 0.7000\n",
      "Epoch 220/300\n",
      "19/19 [==============================] - 0s 4ms/step - loss: 0.5375 - accuracy: 0.7300 - val_loss: 0.5326 - val_accuracy: 0.7200\n",
      "Epoch 221/300\n",
      "19/19 [==============================] - 0s 4ms/step - loss: 0.5419 - accuracy: 0.7233 - val_loss: 0.5360 - val_accuracy: 0.7300\n",
      "Epoch 222/300\n",
      "19/19 [==============================] - 0s 4ms/step - loss: 0.5193 - accuracy: 0.7517 - val_loss: 0.5464 - val_accuracy: 0.7000\n",
      "Epoch 223/300\n",
      "19/19 [==============================] - 0s 8ms/step - loss: 0.5413 - accuracy: 0.7267 - val_loss: 0.5419 - val_accuracy: 0.7300\n",
      "Epoch 224/300\n",
      "19/19 [==============================] - 0s 4ms/step - loss: 0.5362 - accuracy: 0.7367 - val_loss: 0.5637 - val_accuracy: 0.6900\n",
      "Epoch 225/300\n",
      "19/19 [==============================] - 0s 4ms/step - loss: 0.5496 - accuracy: 0.7250 - val_loss: 0.5614 - val_accuracy: 0.6900\n",
      "Epoch 226/300\n",
      "19/19 [==============================] - 0s 4ms/step - loss: 0.5402 - accuracy: 0.7250 - val_loss: 0.5720 - val_accuracy: 0.6900\n",
      "Epoch 227/300\n",
      "19/19 [==============================] - 0s 4ms/step - loss: 0.5261 - accuracy: 0.7467 - val_loss: 0.5340 - val_accuracy: 0.7200\n",
      "Epoch 228/300\n",
      "19/19 [==============================] - 0s 4ms/step - loss: 0.5416 - accuracy: 0.7150 - val_loss: 0.5545 - val_accuracy: 0.7100\n",
      "Epoch 229/300\n",
      "19/19 [==============================] - 0s 3ms/step - loss: 0.5356 - accuracy: 0.7400 - val_loss: 0.5522 - val_accuracy: 0.7100\n",
      "Epoch 230/300\n",
      "19/19 [==============================] - 0s 4ms/step - loss: 0.5236 - accuracy: 0.7400 - val_loss: 0.5267 - val_accuracy: 0.7500\n",
      "Epoch 231/300\n",
      "19/19 [==============================] - 0s 4ms/step - loss: 0.5188 - accuracy: 0.7617 - val_loss: 0.5376 - val_accuracy: 0.7300\n",
      "Epoch 232/300\n",
      "19/19 [==============================] - 0s 4ms/step - loss: 0.5489 - accuracy: 0.7067 - val_loss: 0.5427 - val_accuracy: 0.7100\n",
      "Epoch 233/300\n",
      "19/19 [==============================] - 0s 4ms/step - loss: 0.5278 - accuracy: 0.7400 - val_loss: 0.5681 - val_accuracy: 0.6900\n",
      "Epoch 234/300\n",
      "19/19 [==============================] - 0s 4ms/step - loss: 0.5231 - accuracy: 0.7400 - val_loss: 0.5455 - val_accuracy: 0.7100\n",
      "Epoch 235/300\n",
      "19/19 [==============================] - 0s 3ms/step - loss: 0.5409 - accuracy: 0.7217 - val_loss: 0.5543 - val_accuracy: 0.7100\n",
      "Epoch 236/300\n",
      "19/19 [==============================] - 0s 4ms/step - loss: 0.5433 - accuracy: 0.7317 - val_loss: 0.5317 - val_accuracy: 0.7500\n",
      "Epoch 237/300\n",
      "19/19 [==============================] - 0s 4ms/step - loss: 0.5185 - accuracy: 0.7300 - val_loss: 0.5367 - val_accuracy: 0.7400\n",
      "Epoch 238/300\n",
      "19/19 [==============================] - 0s 4ms/step - loss: 0.5166 - accuracy: 0.7500 - val_loss: 0.5290 - val_accuracy: 0.7500\n",
      "Epoch 239/300\n",
      "19/19 [==============================] - 0s 4ms/step - loss: 0.5267 - accuracy: 0.7217 - val_loss: 0.5342 - val_accuracy: 0.7200\n",
      "Epoch 240/300\n",
      "19/19 [==============================] - 0s 4ms/step - loss: 0.5360 - accuracy: 0.7400 - val_loss: 0.5340 - val_accuracy: 0.7100\n",
      "Epoch 241/300\n",
      "19/19 [==============================] - 0s 4ms/step - loss: 0.5309 - accuracy: 0.7217 - val_loss: 0.5698 - val_accuracy: 0.6900\n",
      "Epoch 242/300\n",
      "19/19 [==============================] - 0s 4ms/step - loss: 0.5159 - accuracy: 0.7283 - val_loss: 0.5431 - val_accuracy: 0.7000\n",
      "Epoch 243/300\n",
      "19/19 [==============================] - 0s 4ms/step - loss: 0.5296 - accuracy: 0.7300 - val_loss: 0.5367 - val_accuracy: 0.7300\n",
      "Epoch 244/300\n",
      "19/19 [==============================] - 0s 4ms/step - loss: 0.5220 - accuracy: 0.7433 - val_loss: 0.5210 - val_accuracy: 0.7500\n",
      "Epoch 245/300\n",
      "19/19 [==============================] - 0s 4ms/step - loss: 0.5296 - accuracy: 0.7483 - val_loss: 0.5648 - val_accuracy: 0.6800\n",
      "Epoch 246/300\n",
      "19/19 [==============================] - 0s 4ms/step - loss: 0.5246 - accuracy: 0.7300 - val_loss: 0.5512 - val_accuracy: 0.6900\n",
      "Epoch 247/300\n",
      "19/19 [==============================] - 0s 4ms/step - loss: 0.5188 - accuracy: 0.7583 - val_loss: 0.5566 - val_accuracy: 0.6800\n",
      "Epoch 248/300\n",
      "19/19 [==============================] - 0s 4ms/step - loss: 0.5217 - accuracy: 0.7500 - val_loss: 0.5209 - val_accuracy: 0.7400\n",
      "Epoch 249/300\n",
      "19/19 [==============================] - 0s 6ms/step - loss: 0.5013 - accuracy: 0.7500 - val_loss: 0.5329 - val_accuracy: 0.7400\n",
      "Epoch 250/300\n",
      "19/19 [==============================] - 0s 4ms/step - loss: 0.5358 - accuracy: 0.7133 - val_loss: 0.5413 - val_accuracy: 0.7200\n",
      "Epoch 251/300\n",
      "19/19 [==============================] - 0s 3ms/step - loss: 0.5086 - accuracy: 0.7550 - val_loss: 0.5524 - val_accuracy: 0.7000\n",
      "Epoch 252/300\n",
      "19/19 [==============================] - 0s 3ms/step - loss: 0.5059 - accuracy: 0.7517 - val_loss: 0.5341 - val_accuracy: 0.7200\n",
      "Epoch 253/300\n",
      "19/19 [==============================] - 0s 4ms/step - loss: 0.5290 - accuracy: 0.7450 - val_loss: 0.5419 - val_accuracy: 0.7100\n",
      "Epoch 254/300\n",
      "19/19 [==============================] - 0s 4ms/step - loss: 0.5249 - accuracy: 0.7467 - val_loss: 0.5513 - val_accuracy: 0.7000\n",
      "Epoch 255/300\n",
      "19/19 [==============================] - 0s 3ms/step - loss: 0.5354 - accuracy: 0.7300 - val_loss: 0.5194 - val_accuracy: 0.7400\n",
      "Epoch 256/300\n",
      "19/19 [==============================] - 0s 4ms/step - loss: 0.5427 - accuracy: 0.7167 - val_loss: 0.5425 - val_accuracy: 0.7200\n",
      "Epoch 257/300\n",
      "19/19 [==============================] - 0s 4ms/step - loss: 0.5176 - accuracy: 0.7433 - val_loss: 0.5578 - val_accuracy: 0.7000\n",
      "Epoch 258/300\n",
      "19/19 [==============================] - 0s 4ms/step - loss: 0.5180 - accuracy: 0.7417 - val_loss: 0.5389 - val_accuracy: 0.7100\n",
      "Epoch 259/300\n",
      "19/19 [==============================] - 0s 4ms/step - loss: 0.5148 - accuracy: 0.7517 - val_loss: 0.5347 - val_accuracy: 0.7100\n",
      "Epoch 260/300\n",
      "19/19 [==============================] - 0s 4ms/step - loss: 0.5423 - accuracy: 0.7100 - val_loss: 0.5685 - val_accuracy: 0.7000\n",
      "Epoch 261/300\n",
      "19/19 [==============================] - 0s 4ms/step - loss: 0.5299 - accuracy: 0.7383 - val_loss: 0.5512 - val_accuracy: 0.6900\n",
      "Epoch 262/300\n",
      "19/19 [==============================] - 0s 4ms/step - loss: 0.5260 - accuracy: 0.7500 - val_loss: 0.5417 - val_accuracy: 0.7000\n",
      "Epoch 263/300\n",
      "19/19 [==============================] - 0s 4ms/step - loss: 0.5357 - accuracy: 0.7167 - val_loss: 0.5573 - val_accuracy: 0.6900\n",
      "Epoch 264/300\n",
      "19/19 [==============================] - 0s 4ms/step - loss: 0.5394 - accuracy: 0.7433 - val_loss: 0.5318 - val_accuracy: 0.7400\n",
      "Epoch 265/300\n",
      "19/19 [==============================] - 0s 5ms/step - loss: 0.5155 - accuracy: 0.7383 - val_loss: 0.5382 - val_accuracy: 0.7300\n",
      "Epoch 266/300\n",
      "19/19 [==============================] - 0s 4ms/step - loss: 0.5266 - accuracy: 0.7367 - val_loss: 0.5388 - val_accuracy: 0.7100\n",
      "Epoch 267/300\n",
      "19/19 [==============================] - 0s 4ms/step - loss: 0.5269 - accuracy: 0.7433 - val_loss: 0.5726 - val_accuracy: 0.6800\n",
      "Epoch 268/300\n",
      "19/19 [==============================] - 0s 4ms/step - loss: 0.5198 - accuracy: 0.7400 - val_loss: 0.5174 - val_accuracy: 0.7400\n",
      "Epoch 269/300\n",
      "19/19 [==============================] - 0s 4ms/step - loss: 0.5291 - accuracy: 0.7317 - val_loss: 0.5264 - val_accuracy: 0.7100\n",
      "Epoch 270/300\n",
      "19/19 [==============================] - 0s 4ms/step - loss: 0.5063 - accuracy: 0.7483 - val_loss: 0.5270 - val_accuracy: 0.7100\n",
      "Epoch 271/300\n",
      "19/19 [==============================] - 0s 4ms/step - loss: 0.5154 - accuracy: 0.7333 - val_loss: 0.5357 - val_accuracy: 0.7100\n",
      "Epoch 272/300\n",
      "19/19 [==============================] - 0s 4ms/step - loss: 0.5279 - accuracy: 0.7267 - val_loss: 0.5518 - val_accuracy: 0.7000\n",
      "Epoch 273/300\n",
      "19/19 [==============================] - 0s 7ms/step - loss: 0.5161 - accuracy: 0.7383 - val_loss: 0.5433 - val_accuracy: 0.7000\n",
      "Epoch 274/300\n",
      "19/19 [==============================] - 0s 4ms/step - loss: 0.5339 - accuracy: 0.7250 - val_loss: 0.5462 - val_accuracy: 0.7000\n",
      "Epoch 275/300\n",
      "19/19 [==============================] - 0s 4ms/step - loss: 0.5222 - accuracy: 0.7467 - val_loss: 0.5455 - val_accuracy: 0.7100\n",
      "Epoch 276/300\n",
      "19/19 [==============================] - 0s 4ms/step - loss: 0.5229 - accuracy: 0.7183 - val_loss: 0.5497 - val_accuracy: 0.7200\n",
      "Epoch 277/300\n",
      "19/19 [==============================] - 0s 5ms/step - loss: 0.5244 - accuracy: 0.7583 - val_loss: 0.5510 - val_accuracy: 0.7200\n",
      "Epoch 278/300\n",
      "19/19 [==============================] - 0s 4ms/step - loss: 0.5173 - accuracy: 0.7500 - val_loss: 0.5433 - val_accuracy: 0.7000\n",
      "Epoch 279/300\n",
      "19/19 [==============================] - 0s 5ms/step - loss: 0.5123 - accuracy: 0.7317 - val_loss: 0.5579 - val_accuracy: 0.7000\n",
      "Epoch 280/300\n",
      "19/19 [==============================] - 0s 4ms/step - loss: 0.5236 - accuracy: 0.7533 - val_loss: 0.5643 - val_accuracy: 0.6800\n",
      "Epoch 281/300\n",
      "19/19 [==============================] - 0s 4ms/step - loss: 0.5110 - accuracy: 0.7450 - val_loss: 0.5525 - val_accuracy: 0.7000\n",
      "Epoch 282/300\n",
      "19/19 [==============================] - 0s 4ms/step - loss: 0.5111 - accuracy: 0.7450 - val_loss: 0.5492 - val_accuracy: 0.7300\n",
      "Epoch 283/300\n",
      "19/19 [==============================] - 0s 4ms/step - loss: 0.5287 - accuracy: 0.7433 - val_loss: 0.5602 - val_accuracy: 0.7000\n",
      "Epoch 284/300\n",
      "19/19 [==============================] - 0s 4ms/step - loss: 0.5045 - accuracy: 0.7400 - val_loss: 0.5651 - val_accuracy: 0.6900\n",
      "Epoch 285/300\n",
      "19/19 [==============================] - 0s 3ms/step - loss: 0.4962 - accuracy: 0.7650 - val_loss: 0.5480 - val_accuracy: 0.7100\n",
      "Epoch 286/300\n",
      "19/19 [==============================] - 0s 4ms/step - loss: 0.5044 - accuracy: 0.7583 - val_loss: 0.5315 - val_accuracy: 0.7300\n",
      "Epoch 287/300\n",
      "19/19 [==============================] - 0s 4ms/step - loss: 0.5113 - accuracy: 0.7533 - val_loss: 0.5500 - val_accuracy: 0.7100\n",
      "Epoch 288/300\n",
      "19/19 [==============================] - 0s 4ms/step - loss: 0.5185 - accuracy: 0.7467 - val_loss: 0.5335 - val_accuracy: 0.7300\n",
      "Epoch 289/300\n",
      "19/19 [==============================] - 0s 4ms/step - loss: 0.5169 - accuracy: 0.7417 - val_loss: 0.5646 - val_accuracy: 0.6800\n",
      "Epoch 290/300\n",
      "19/19 [==============================] - 0s 3ms/step - loss: 0.5166 - accuracy: 0.7383 - val_loss: 0.5651 - val_accuracy: 0.6800\n",
      "Epoch 291/300\n",
      "19/19 [==============================] - 0s 4ms/step - loss: 0.5244 - accuracy: 0.7617 - val_loss: 0.5353 - val_accuracy: 0.7100\n",
      "Epoch 292/300\n",
      "19/19 [==============================] - 0s 4ms/step - loss: 0.5177 - accuracy: 0.7567 - val_loss: 0.5352 - val_accuracy: 0.7000\n",
      "Epoch 293/300\n",
      "19/19 [==============================] - 0s 4ms/step - loss: 0.5106 - accuracy: 0.7450 - val_loss: 0.5429 - val_accuracy: 0.7000\n",
      "Epoch 294/300\n",
      "19/19 [==============================] - 0s 4ms/step - loss: 0.4973 - accuracy: 0.7667 - val_loss: 0.5496 - val_accuracy: 0.7000\n",
      "Epoch 295/300\n",
      "19/19 [==============================] - 0s 4ms/step - loss: 0.5153 - accuracy: 0.7483 - val_loss: 0.5492 - val_accuracy: 0.7100\n",
      "Epoch 296/300\n",
      "19/19 [==============================] - 0s 7ms/step - loss: 0.5167 - accuracy: 0.7383 - val_loss: 0.5415 - val_accuracy: 0.7100\n",
      "Epoch 297/300\n",
      "19/19 [==============================] - 0s 4ms/step - loss: 0.5106 - accuracy: 0.7533 - val_loss: 0.5693 - val_accuracy: 0.6800\n",
      "Epoch 298/300\n",
      "19/19 [==============================] - 0s 4ms/step - loss: 0.5346 - accuracy: 0.7317 - val_loss: 0.5367 - val_accuracy: 0.7200\n",
      "Epoch 299/300\n",
      "19/19 [==============================] - 0s 4ms/step - loss: 0.5027 - accuracy: 0.7517 - val_loss: 0.5242 - val_accuracy: 0.7400\n",
      "Epoch 300/300\n",
      "19/19 [==============================] - 0s 4ms/step - loss: 0.5024 - accuracy: 0.7600 - val_loss: 0.5720 - val_accuracy: 0.7000\n"
     ]
    }
   ],
   "source": [
    "hist = model.fit(X_train, Y_train,\n",
    "                 epochs=300,\n",
    "                 validation_data=(X_val,Y_val),\n",
    "                 verbose=1,\n",
    "                 )"
   ]
  },
  {
   "cell_type": "markdown",
   "id": "ad676577",
   "metadata": {},
   "source": [
    "# 5. 학습과정 살펴보기"
   ]
  },
  {
   "cell_type": "code",
   "execution_count": 62,
   "id": "333d5792",
   "metadata": {},
   "outputs": [
    {
     "data": {
      "text/plain": [
       "dict_keys(['loss', 'accuracy', 'val_loss', 'val_accuracy'])"
      ]
     },
     "execution_count": 62,
     "metadata": {},
     "output_type": "execute_result"
    }
   ],
   "source": [
    "hist.history.keys()"
   ]
  },
  {
   "cell_type": "code",
   "execution_count": 79,
   "id": "460b6ebb",
   "metadata": {},
   "outputs": [
    {
     "data": {
      "image/png": "[encoded data removed]",
      "text/plain": [
       "<Figure size 1200x600 with 2 Axes>"
      ]
     },
     "metadata": {},
     "output_type": "display_data"
    }
   ],
   "source": [
    "fig, loss_ax = plt.subplots(figsize=(12,6))\n",
    "loss_ax.plot(hist.history['loss'], 'y', label='train loss')\n",
    "loss_ax.plot(hist.history['val_loss'], 'r', label='val loss')\n",
    "acc_ax = loss_ax.twinx()\n",
    "acc_ax.plot(hist.history['accuracy'], 'g', label='train accuracy')\n",
    "acc_ax.plot(hist.history['val_accuracy'], 'b', label='val_accuracy')\n",
    "loss_ax.set_xlabel('epochs')\n",
    "loss_ax.set_ylabel('loss')\n",
    "acc_ax.set_ylabel('accuracy')\n",
    "loss_ax.legend(loc='center right')\n",
    "acc_ax.legend()\n",
    "plt.show()"
   ]
  },
  {
   "cell_type": "markdown",
   "id": "1b4f4fc0",
   "metadata": {},
   "source": [
    "# 6. 모델 평가 & 교차표"
   ]
  },
  {
   "cell_type": "code",
   "execution_count": 82,
   "id": "d90cc43d",
   "metadata": {},
   "outputs": [
    {
     "name": "stdout",
     "output_type": "stream",
     "text": [
      "loss : 0.6602892875671387, 정확도 : 0.6029411554336548\n"
     ]
    }
   ],
   "source": [
    "loss, accuracy = model.evaluate(X_test, Y_test, verbose=0)\n",
    "print(f\"loss : {loss}, 정확도 : {accuracy}\")"
   ]
  },
  {
   "cell_type": "code",
   "execution_count": 87,
   "id": "971fa20b",
   "metadata": {},
   "outputs": [
    {
     "data": {
      "text/plain": [
       "array([0, 1, 1, 0, 0, 0, 1, 0, 1, 1, 0, 0, 1, 0, 0, 1, 1, 0, 0, 1, 0, 0,\n",
       "       1, 0, 0, 0, 0, 0, 0, 0, 1, 1, 1, 0, 0, 0, 0, 0, 0, 1, 1, 0, 0, 1,\n",
       "       0, 0, 1, 0, 1, 1, 1, 0, 0, 1, 1, 1, 0, 1, 0, 1, 0, 1, 0, 0, 0, 0,\n",
       "       1, 0], dtype=int64)"
      ]
     },
     "execution_count": 87,
     "metadata": {},
     "output_type": "execute_result"
    }
   ],
   "source": [
    "# 교차표\n",
    "Y_test.argmax(axis=1)"
   ]
  },
  {
   "cell_type": "code",
   "execution_count": 85,
   "id": "fb0ee89f",
   "metadata": {},
   "outputs": [
    {
     "name": "stdout",
     "output_type": "stream",
     "text": [
      "3/3 [==============================] - 0s 3ms/step\n"
     ]
    },
    {
     "data": {
      "text/plain": [
       "array([0, 0, 0, 0, 0, 0, 0, 0, 0, 0, 0, 0, 0, 0, 0, 0, 0, 0, 0, 0, 0, 0,\n",
       "       0, 0, 0, 0, 0, 0, 0, 0, 0, 0, 0, 0, 0, 0, 0, 0, 0, 0, 0, 0, 0, 0,\n",
       "       0, 0, 0, 0, 0, 0, 0, 0, 0, 0, 0, 0, 0, 0, 0, 0, 0, 0, 0, 0, 0, 0,\n",
       "       0, 0], dtype=int64)"
      ]
     },
     "execution_count": 85,
     "metadata": {},
     "output_type": "execute_result"
    }
   ],
   "source": [
    "y_hat = model.predict(X_test).argmax(axis=1)\n",
    "y_hat"
   ]
  },
  {
   "cell_type": "code",
   "execution_count": 89,
   "id": "91ccbeac",
   "metadata": {},
   "outputs": [
    {
     "data": {
      "text/html": [
       "<div>\n",
       "<style scoped>\n",
       "    .dataframe tbody tr th:only-of-type {\n",
       "        vertical-align: middle;\n",
       "    }\n",
       "\n",
       "    .dataframe tbody tr th {\n",
       "        vertical-align: top;\n",
       "    }\n",
       "\n",
       "    .dataframe thead th {\n",
       "        text-align: right;\n",
       "    }\n",
       "</style>\n",
       "<table border=\"1\" class=\"dataframe\">\n",
       "  <thead>\n",
       "    <tr style=\"text-align: right;\">\n",
       "      <th>예측값</th>\n",
       "      <th>0</th>\n",
       "    </tr>\n",
       "    <tr>\n",
       "      <th>실제값</th>\n",
       "      <th></th>\n",
       "    </tr>\n",
       "  </thead>\n",
       "  <tbody>\n",
       "    <tr>\n",
       "      <th>0.0</th>\n",
       "      <td>41</td>\n",
       "    </tr>\n",
       "    <tr>\n",
       "      <th>1.0</th>\n",
       "      <td>27</td>\n",
       "    </tr>\n",
       "  </tbody>\n",
       "</table>\n",
       "</div>"
      ],
      "text/plain": [
       "예측값   0\n",
       "실제값    \n",
       "0.0  41\n",
       "1.0  27"
      ]
     },
     "execution_count": 89,
     "metadata": {},
     "output_type": "execute_result"
    }
   ],
   "source": [
    "pd.crosstab(y_test, y_hat, rownames=['실제값'], colnames=['예측값'])"
   ]
  },
  {
   "cell_type": "code",
   "execution_count": 90,
   "id": "90756e88",
   "metadata": {},
   "outputs": [
    {
     "data": {
      "text/plain": [
       "array([[41,  0],\n",
       "       [27,  0]], dtype=int64)"
      ]
     },
     "execution_count": 90,
     "metadata": {},
     "output_type": "execute_result"
    }
   ],
   "source": [
    "confusion_matrix(y_test, y_hat)"
   ]
  },
  {
   "cell_type": "markdown",
   "id": "d25d8b3b",
   "metadata": {},
   "source": [
    "# 7. 모델 저장 및 사용"
   ]
  },
  {
   "cell_type": "code",
   "execution_count": 93,
   "id": "6e4b7477",
   "metadata": {},
   "outputs": [],
   "source": [
    "from tensorflow.keras.models import save_model, load_model\n",
    "# model.save('model/06_pima.h5')\n",
    "save_model(model, 'model/06_pima.h5')"
   ]
  },
  {
   "cell_type": "code",
   "execution_count": 94,
   "id": "ae17210f",
   "metadata": {},
   "outputs": [],
   "source": [
    "model2 = load_model('model/06_pima.h5')"
   ]
  },
  {
   "cell_type": "code",
   "execution_count": 99,
   "id": "7e527c38",
   "metadata": {},
   "outputs": [
    {
     "name": "stdout",
     "output_type": "stream",
     "text": [
      "1/1 [==============================] - 0s 52ms/step\n"
     ]
    },
    {
     "data": {
      "text/plain": [
       "array([0, 0], dtype=int64)"
      ]
     },
     "execution_count": 99,
     "metadata": {},
     "output_type": "execute_result"
    }
   ],
   "source": [
    "pred = model2.predict([[2, 122 ,76 ,27 ,200 ,35.9  ,0.483, 26],\n",
    "                [6 ,125 ,78 ,31 ,0 , 27.6 , 0.565, 49 ]])\n",
    "pred.argmax(axis=1)"
   ]
  },
  {
   "cell_type": "code",
   "execution_count": 100,
   "id": "d7b595fe",
   "metadata": {},
   "outputs": [
    {
     "data": {
      "text/plain": [
       "array([0, 0], dtype=int64)"
      ]
     },
     "execution_count": 100,
     "metadata": {},
     "output_type": "execute_result"
    }
   ],
   "source": [
    "np.argmax(pred, axis=1)"
   ]
  },
  {
   "cell_type": "code",
   "execution_count": null,
   "id": "41236b39",
   "metadata": {},
   "outputs": [],
   "source": []
  },
  {
   "cell_type": "code",
   "execution_count": null,
   "id": "51201f70",
   "metadata": {},
   "outputs": [],
   "source": []
  },
  {
   "cell_type": "code",
   "execution_count": null,
   "id": "6cd0452f",
   "metadata": {},
   "outputs": [],
   "source": []
  },
  {
   "cell_type": "code",
   "execution_count": null,
   "id": "50d3324e",
   "metadata": {},
   "outputs": [],
   "source": []
  },
  {
   "cell_type": "code",
   "execution_count": null,
   "id": "ee830948",
   "metadata": {},
   "outputs": [],
   "source": []
  },
  {
   "cell_type": "code",
   "execution_count": null,
   "id": "afb24ff2",
   "metadata": {},
   "outputs": [],
   "source": []
  },
  {
   "cell_type": "code",
   "execution_count": null,
   "id": "09e83378",
   "metadata": {},
   "outputs": [],
   "source": []
  },
  {
   "cell_type": "code",
   "execution_count": null,
   "id": "d7bbc7ee",
   "metadata": {},
   "outputs": [],
   "source": []
  },
  {
   "cell_type": "code",
   "execution_count": null,
   "id": "a22d8a6c",
   "metadata": {},
   "outputs": [],
   "source": []
  },
  {
   "cell_type": "code",
   "execution_count": null,
   "id": "d4b59b9c",
   "metadata": {},
   "outputs": [],
   "source": []
  },
  {
   "cell_type": "code",
   "execution_count": null,
   "id": "41d3dc23",
   "metadata": {},
   "outputs": [],
   "source": []
  },
  {
   "cell_type": "code",
   "execution_count": null,
   "id": "411dc843",
   "metadata": {},
   "outputs": [],
   "source": []
  },
  {
   "cell_type": "code",
   "execution_count": null,
   "id": "32b8dc9a",
   "metadata": {},
   "outputs": [],
   "source": []
  },
  {
   "cell_type": "code",
   "execution_count": null,
   "id": "54c84492",
   "metadata": {},
   "outputs": [],
   "source": []
  },
  {
   "cell_type": "code",
   "execution_count": null,
   "id": "0cd2f173",
   "metadata": {},
   "outputs": [],
   "source": []
  },
  {
   "cell_type": "code",
   "execution_count": null,
   "id": "cdd6f2d3",
   "metadata": {},
   "outputs": [],
   "source": []
  },
  {
   "cell_type": "code",
   "execution_count": null,
   "id": "5e86822b",
   "metadata": {},
   "outputs": [],
   "source": []
  },
  {
   "cell_type": "code",
   "execution_count": null,
   "id": "e362e255",
   "metadata": {},
   "outputs": [],
   "source": []
  },
  {
   "cell_type": "code",
   "execution_count": null,
   "id": "ea54996c",
   "metadata": {},
   "outputs": [],
   "source": []
  },
  {
   "cell_type": "code",
   "execution_count": null,
   "id": "383ca15b",
   "metadata": {},
   "outputs": [],
   "source": []
  },
  {
   "cell_type": "code",
   "execution_count": null,
   "id": "24d9631b",
   "metadata": {},
   "outputs": [],
   "source": []
  },
  {
   "cell_type": "code",
   "execution_count": null,
   "id": "55d08957",
   "metadata": {},
   "outputs": [],
   "source": []
  },
  {
   "cell_type": "code",
   "execution_count": null,
   "id": "deb1c37d",
   "metadata": {},
   "outputs": [],
   "source": []
  },
  {
   "cell_type": "code",
   "execution_count": null,
   "id": "f877ca77",
   "metadata": {},
   "outputs": [],
   "source": []
  }
 ],
 "metadata": {
  "kernelspec": {
   "display_name": "ml-dl-nlp",
   "language": "python",
   "name": "ml-dl-nlp"
  },
  "language_info": {
   "codemirror_mode": {
    "name": "ipython",
    "version": 3
   },
   "file_extension": ".py",
   "mimetype": "text/x-python",
   "name": "python",
   "nbconvert_exporter": "python",
   "pygments_lexer": "ipython3",
   "version": "3.10.18"
  }
 },
 "nbformat": 4,
 "nbformat_minor": 5
}
