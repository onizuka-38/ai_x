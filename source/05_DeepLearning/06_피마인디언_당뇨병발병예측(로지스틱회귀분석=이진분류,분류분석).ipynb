{
 "cells": [
  {
   "cell_type": "code",
   "execution_count": 1,
   "id": "d32bf931",
   "metadata": {},
   "outputs": [],
   "source": [
    "import numpy as np\n",
    "import pandas as pd\n",
    "import sys\n",
    "from tensorflow.keras import utils # utils.to_categorical 원핫인코딩\n",
    "from tensorflow.keras.models import Sequential\n",
    "from tensorflow.keras.layers import Dense, Input\n",
    "from matplotlib import pyplot as plt"
   ]
  },
  {
   "cell_type": "markdown",
   "id": "fc7f9a19",
   "metadata": {},
   "source": [
    "# 로지스틱회귀분석(이진분류)\n",
    "## 1. 데이터셋 생성 & 전처리"
   ]
  },
  {
   "cell_type": "code",
   "execution_count": 2,
   "id": "5391fd19",
   "metadata": {},
   "outputs": [
    {
     "name": "stdout",
     "output_type": "stream",
     "text": [
      "<class 'pandas.core.frame.DataFrame'>\n",
      "RangeIndex: 768 entries, 0 to 767\n",
      "Data columns (total 9 columns):\n",
      " #   Column  Non-Null Count  Dtype  \n",
      "---  ------  --------------  -----  \n",
      " 0   0       768 non-null    int64  \n",
      " 1   1       768 non-null    int64  \n",
      " 2   2       768 non-null    int64  \n",
      " 3   3       768 non-null    int64  \n",
      " 4   4       768 non-null    int64  \n",
      " 5   5       768 non-null    float64\n",
      " 6   6       768 non-null    float64\n",
      " 7   7       768 non-null    int64  \n",
      " 8   8       768 non-null    int64  \n",
      "dtypes: float64(2), int64(7)\n",
      "memory usage: 54.1 KB\n"
     ]
    }
   ],
   "source": [
    "df = pd.read_csv('data/pima-indians-diabetes.csv',\n",
    "                 comment='#',\n",
    "                 header=None)\n",
    "df.info()"
   ]
  },
  {
   "cell_type": "code",
   "execution_count": 3,
   "id": "1a02d344",
   "metadata": {},
   "outputs": [
    {
     "data": {
      "text/plain": [
       "0    500\n",
       "1    268\n",
       "Name: 8, dtype: int64"
      ]
     },
     "execution_count": 3,
     "metadata": {},
     "output_type": "execute_result"
    }
   ],
   "source": [
    "# 타겟 변수의 균형\n",
    "df.iloc[:,-1].value_counts()"
   ]
  },
  {
   "cell_type": "code",
   "execution_count": 4,
   "id": "1257ab4e",
   "metadata": {},
   "outputs": [
    {
     "data": {
      "text/html": [
       "<div>\n",
       "<style scoped>\n",
       "    .dataframe tbody tr th:only-of-type {\n",
       "        vertical-align: middle;\n",
       "    }\n",
       "\n",
       "    .dataframe tbody tr th {\n",
       "        vertical-align: top;\n",
       "    }\n",
       "\n",
       "    .dataframe thead th {\n",
       "        text-align: right;\n",
       "    }\n",
       "</style>\n",
       "<table border=\"1\" class=\"dataframe\">\n",
       "  <thead>\n",
       "    <tr style=\"text-align: right;\">\n",
       "      <th></th>\n",
       "      <th>0</th>\n",
       "      <th>1</th>\n",
       "      <th>2</th>\n",
       "      <th>3</th>\n",
       "      <th>4</th>\n",
       "      <th>5</th>\n",
       "      <th>6</th>\n",
       "      <th>7</th>\n",
       "      <th>8</th>\n",
       "    </tr>\n",
       "  </thead>\n",
       "  <tbody>\n",
       "    <tr>\n",
       "      <th>0</th>\n",
       "      <td>6</td>\n",
       "      <td>148</td>\n",
       "      <td>72</td>\n",
       "      <td>35</td>\n",
       "      <td>0</td>\n",
       "      <td>33.6</td>\n",
       "      <td>0.627</td>\n",
       "      <td>50</td>\n",
       "      <td>1</td>\n",
       "    </tr>\n",
       "    <tr>\n",
       "      <th>1</th>\n",
       "      <td>1</td>\n",
       "      <td>85</td>\n",
       "      <td>66</td>\n",
       "      <td>29</td>\n",
       "      <td>0</td>\n",
       "      <td>26.6</td>\n",
       "      <td>0.351</td>\n",
       "      <td>31</td>\n",
       "      <td>0</td>\n",
       "    </tr>\n",
       "    <tr>\n",
       "      <th>2</th>\n",
       "      <td>8</td>\n",
       "      <td>183</td>\n",
       "      <td>64</td>\n",
       "      <td>0</td>\n",
       "      <td>0</td>\n",
       "      <td>23.3</td>\n",
       "      <td>0.672</td>\n",
       "      <td>32</td>\n",
       "      <td>1</td>\n",
       "    </tr>\n",
       "    <tr>\n",
       "      <th>3</th>\n",
       "      <td>1</td>\n",
       "      <td>89</td>\n",
       "      <td>66</td>\n",
       "      <td>23</td>\n",
       "      <td>94</td>\n",
       "      <td>28.1</td>\n",
       "      <td>0.167</td>\n",
       "      <td>21</td>\n",
       "      <td>0</td>\n",
       "    </tr>\n",
       "    <tr>\n",
       "      <th>4</th>\n",
       "      <td>0</td>\n",
       "      <td>137</td>\n",
       "      <td>40</td>\n",
       "      <td>35</td>\n",
       "      <td>168</td>\n",
       "      <td>43.1</td>\n",
       "      <td>2.288</td>\n",
       "      <td>33</td>\n",
       "      <td>1</td>\n",
       "    </tr>\n",
       "  </tbody>\n",
       "</table>\n",
       "</div>"
      ],
      "text/plain": [
       "   0    1   2   3    4     5      6   7  8\n",
       "0  6  148  72  35    0  33.6  0.627  50  1\n",
       "1  1   85  66  29    0  26.6  0.351  31  0\n",
       "2  8  183  64   0    0  23.3  0.672  32  1\n",
       "3  1   89  66  23   94  28.1  0.167  21  0\n",
       "4  0  137  40  35  168  43.1  2.288  33  1"
      ]
     },
     "execution_count": 4,
     "metadata": {},
     "output_type": "execute_result"
    }
   ],
   "source": [
    "df.head()"
   ]
  },
  {
   "cell_type": "code",
   "execution_count": 5,
   "id": "38c7e9cc",
   "metadata": {},
   "outputs": [
    {
     "data": {
      "text/plain": [
       "(768, 9)"
      ]
     },
     "execution_count": 5,
     "metadata": {},
     "output_type": "execute_result"
    }
   ],
   "source": [
    "# csv 파일을 numpy로 읽어오기 : np.loadtxt(결측치가 없는 경우), np.genfromtxt(결측치 있을 경우)\n",
    "dataset = np.loadtxt('data/pima-indians-diabetes.csv', encoding='utf-8', delimiter=',')\n",
    "dataset.shape"
   ]
  },
  {
   "cell_type": "code",
   "execution_count": 17,
   "id": "09a9dca2",
   "metadata": {},
   "outputs": [
    {
     "data": {
      "text/plain": [
       "((700, 8), (700,), (68, 8), (68,))"
      ]
     },
     "execution_count": 17,
     "metadata": {},
     "output_type": "execute_result"
    }
   ],
   "source": [
    "# 데이터분할 : 학습데이터셋(모델학습용)+시험데이터셋(모델평가용)\n",
    "X_train = dataset[:700, :-1]\n",
    "y_train = dataset[:700, -1]\n",
    "X_test  = dataset[700:, :-1]\n",
    "y_test  = dataset[700:, -1]\n",
    "X_train.shape, y_train.shape, X_test.shape, y_test.shape"
   ]
  },
  {
   "cell_type": "markdown",
   "id": "1f2f1e48",
   "metadata": {},
   "source": [
    "# 2. 모델 구성"
   ]
  },
  {
   "cell_type": "code",
   "execution_count": 18,
   "id": "f1fadd26",
   "metadata": {},
   "outputs": [
    {
     "name": "stdout",
     "output_type": "stream",
     "text": [
      "Model: \"sequential_4\"\n",
      "_________________________________________________________________\n",
      " Layer (type)                Output Shape              Param #   \n",
      "=================================================================\n",
      " dense_4 (Dense)             (None, 32)                288       \n",
      "                                                                 \n",
      " dense_5 (Dense)             (None, 16)                528       \n",
      "                                                                 \n",
      " dense_6 (Dense)             (None, 1)                 17        \n",
      "                                                                 \n",
      "=================================================================\n",
      "Total params: 833\n",
      "Trainable params: 833\n",
      "Non-trainable params: 0\n",
      "_________________________________________________________________\n"
     ]
    }
   ],
   "source": [
    "model = Sequential()\n",
    "model.add(Input(shape=(8,)))\n",
    "model.add(Dense(units=32, activation='relu'))\n",
    "model.add(Dense(units=16, activation='relu'))\n",
    "model.add(Dense(units=1, activation='sigmoid'))\n",
    "model.summary()"
   ]
  },
  {
   "cell_type": "markdown",
   "id": "73c30490",
   "metadata": {},
   "source": [
    "# 3. 학습과정 설정"
   ]
  },
  {
   "cell_type": "code",
   "execution_count": 19,
   "id": "a2d368f2",
   "metadata": {},
   "outputs": [],
   "source": [
    "model.compile(optimizer='adam',\n",
    "              loss='binary_crossentropy',\n",
    "              metrics=['binary_accuracy'])"
   ]
  },
  {
   "cell_type": "markdown",
   "id": "f950ec5d",
   "metadata": {},
   "source": [
    "# 4. 학습"
   ]
  },
  {
   "cell_type": "code",
   "execution_count": 20,
   "id": "ed42435b",
   "metadata": {},
   "outputs": [
    {
     "name": "stdout",
     "output_type": "stream",
     "text": [
      "CPU times: total: 1.55 s\n",
      "Wall time: 1.31 s\n"
     ]
    }
   ],
   "source": [
    "%%time\n",
    "hist = model.fit(X_train, y_train, # 훈련데이터\n",
    "                 epochs=200, # 학습횟수\n",
    "                 batch_size=350, # 한번에 읽어들이는 데이터 양\n",
    "                #  validation_data=[X_test,y_test] # 검증데이터\n",
    "                #  validation_split=0.1,\n",
    "                 verbose=0 # 학습 로그 출력 0:출력안됨, 2:상세출력\n",
    "                 )"
   ]
  },
  {
   "cell_type": "markdown",
   "id": "71b39262",
   "metadata": {},
   "source": [
    "# 5.모델 평가하기(학습과정 보기, 평가, 혼동행렬)"
   ]
  },
  {
   "cell_type": "code",
   "execution_count": 21,
   "id": "f127cfd5",
   "metadata": {},
   "outputs": [
    {
     "data": {
      "text/plain": [
       "dict_keys(['loss', 'binary_accuracy'])"
      ]
     },
     "execution_count": 21,
     "metadata": {},
     "output_type": "execute_result"
    }
   ],
   "source": [
    "hist.history.keys()"
   ]
  },
  {
   "cell_type": "code",
   "execution_count": 24,
   "id": "c37c3a5b",
   "metadata": {},
   "outputs": [
    {
     "data": {
      "text/plain": [
       "[<matplotlib.lines.Line2D at 0x1f691165030>]"
      ]
     },
     "execution_count": 24,
     "metadata": {},
     "output_type": "execute_result"
    },
    {
     "data": {
      "image/png": "[encoded data removed]",
      "text/plain": [
       "<Figure size 1000x500 with 2 Axes>"
      ]
     },
     "metadata": {},
     "output_type": "display_data"
    }
   ],
   "source": [
    "# 학습과정 표시(학습데이터에 대한 loss와 accuracy)\n",
    "fig, loss_ax = plt.subplots(figsize=(10,5))\n",
    "loss_ax.plot(hist.history['loss'], 'r')\n",
    "acc_ax = loss_ax.twinx() # loss_ax와 x축을 공유하는 acc_ax\n",
    "acc_ax.plot(hist.history.get('binary_accuracy'), 'b')"
   ]
  },
  {
   "cell_type": "code",
   "execution_count": 25,
   "id": "233416e6",
   "metadata": {},
   "outputs": [
    {
     "name": "stdout",
     "output_type": "stream",
     "text": [
      "22/22 [==============================] - 0s 2ms/step - loss: 0.5241 - binary_accuracy: 0.7300\n"
     ]
    },
    {
     "data": {
      "text/plain": [
       "[0.5240518450737, 0.7300000190734863]"
      ]
     },
     "execution_count": 25,
     "metadata": {},
     "output_type": "execute_result"
    }
   ],
   "source": [
    "# 모델 평가(X)\n",
    "model.evaluate(X_train, y_train)"
   ]
  },
  {
   "cell_type": "code",
   "execution_count": 26,
   "id": "d60cce26",
   "metadata": {},
   "outputs": [
    {
     "name": "stdout",
     "output_type": "stream",
     "text": [
      "3/3 [==============================] - 0s 3ms/step - loss: 0.6642 - binary_accuracy: 0.6912\n"
     ]
    },
    {
     "data": {
      "text/plain": [
       "[0.6642212867736816, 0.6911764740943909]"
      ]
     },
     "execution_count": 26,
     "metadata": {},
     "output_type": "execute_result"
    }
   ],
   "source": [
    "# 모델 평가(O)\n",
    "model.evaluate(X_test, y_test)"
   ]
  },
  {
   "cell_type": "markdown",
   "id": "d10b660b",
   "metadata": {},
   "source": [
    "## 혼동행렬\n",
    "- 테스트 데이터 셋의 실제값과 예측값으로 작성된 교차표"
   ]
  },
  {
   "cell_type": "code",
   "execution_count": 32,
   "id": "35d4ec88",
   "metadata": {},
   "outputs": [
    {
     "name": "stdout",
     "output_type": "stream",
     "text": [
      "3/3 [==============================] - 0s 2ms/step\n"
     ]
    },
    {
     "data": {
      "text/plain": [
       "array([[0.],\n",
       "       [0.],\n",
       "       [0.],\n",
       "       [0.],\n",
       "       [0.]])"
      ]
     },
     "execution_count": 32,
     "metadata": {},
     "output_type": "execute_result"
    }
   ],
   "source": [
    "# 실제값 : y_test (68개)\n",
    "# 예측값 : X_test\n",
    "y_hat = (model.predict(X_test)>=0.5).astype(float)\n",
    "y_hat[:5]"
   ]
  },
  {
   "cell_type": "code",
   "execution_count": 34,
   "id": "6cb9d18e",
   "metadata": {},
   "outputs": [
    {
     "name": "stdout",
     "output_type": "stream",
     "text": [
      "(68,) (68, 1)\n",
      "39 2\n",
      "19 8\n"
     ]
    }
   ],
   "source": [
    "TN = 0 # 0을 0으로 예측한 경우(T)\n",
    "FP = 0 # 0을 1로 예측한 경우(F)\n",
    "FN = 0 # 1을 0으로 예측한 경우의 수(F)\n",
    "TP = 0 # 1을 1로 예측한 경우의 수(T)\n",
    "print(y_test.shape, y_hat.shape)\n",
    "for y, h in zip(y_test, y_hat.reshape(-1)):\n",
    "    if y==0 and h==0:\n",
    "        TN += 1\n",
    "    elif y==0 and h==1:\n",
    "        FP += 1\n",
    "    elif y==1 and h==0:\n",
    "        FN += 1\n",
    "    else:\n",
    "        TP += 1\n",
    "print(TN, FP)\n",
    "print(FN, TP)"
   ]
  },
  {
   "cell_type": "code",
   "execution_count": 38,
   "id": "3d5dcee9",
   "metadata": {},
   "outputs": [
    {
     "data": {
      "text/html": [
       "<div>\n",
       "<style scoped>\n",
       "    .dataframe tbody tr th:only-of-type {\n",
       "        vertical-align: middle;\n",
       "    }\n",
       "\n",
       "    .dataframe tbody tr th {\n",
       "        vertical-align: top;\n",
       "    }\n",
       "\n",
       "    .dataframe thead th {\n",
       "        text-align: right;\n",
       "    }\n",
       "</style>\n",
       "<table border=\"1\" class=\"dataframe\">\n",
       "  <thead>\n",
       "    <tr style=\"text-align: right;\">\n",
       "      <th>예측값</th>\n",
       "      <th>0.0</th>\n",
       "      <th>1.0</th>\n",
       "    </tr>\n",
       "    <tr>\n",
       "      <th>실제값</th>\n",
       "      <th></th>\n",
       "      <th></th>\n",
       "    </tr>\n",
       "  </thead>\n",
       "  <tbody>\n",
       "    <tr>\n",
       "      <th>0.0</th>\n",
       "      <td>39</td>\n",
       "      <td>2</td>\n",
       "    </tr>\n",
       "    <tr>\n",
       "      <th>1.0</th>\n",
       "      <td>19</td>\n",
       "      <td>8</td>\n",
       "    </tr>\n",
       "  </tbody>\n",
       "</table>\n",
       "</div>"
      ],
      "text/plain": [
       "예측값  0.0  1.0\n",
       "실제값          \n",
       "0.0   39    2\n",
       "1.0   19    8"
      ]
     },
     "execution_count": 38,
     "metadata": {},
     "output_type": "execute_result"
    }
   ],
   "source": [
    "ctab = pd.crosstab(y_test,          # 실제값\n",
    "                   y_hat.reshape(-1))   # 예측값\n",
    "ctab.index.name = '실제값'\n",
    "ctab.columns.name = '예측값'\n",
    "ctab\n",
    "pd.crosstab(y_test,          # 실제값\n",
    "            y_hat.reshape(-1),\n",
    "            rownames=['실제값'],\n",
    "            colnames=['예측값'])   # 예측값"
   ]
  },
  {
   "cell_type": "code",
   "execution_count": 39,
   "id": "6d600696",
   "metadata": {},
   "outputs": [
    {
     "data": {
      "text/plain": [
       "array([[39,  2],\n",
       "       [19,  8]], dtype=int64)"
      ]
     },
     "execution_count": 39,
     "metadata": {},
     "output_type": "execute_result"
    }
   ],
   "source": [
    "# 혼동행렬\n",
    "from sklearn.metrics import confusion_matrix\n",
    "confusion_matrix(y_test,\n",
    "                y_hat.reshape(-1))"
   ]
  },
  {
   "cell_type": "code",
   "execution_count": 40,
   "id": "bd5f69dd",
   "metadata": {},
   "outputs": [
    {
     "name": "stdout",
     "output_type": "stream",
     "text": [
      "accuracy : 0.6911764705882353\n",
      "recall : 0.8\n",
      "precision : 0.2962962962962963\n"
     ]
    }
   ],
   "source": [
    "# accuracy\n",
    "print('accuracy :', (TN+TP)/(TN+FP+FN+TP))\n",
    "print('recall :', TP / (FP+TP) )\n",
    "print('precision :', TP / (FN+TP))      "
   ]
  },
  {
   "cell_type": "markdown",
   "id": "dfaba296",
   "metadata": {},
   "source": [
    "# 6. 모델사용"
   ]
  },
  {
   "cell_type": "code",
   "execution_count": 41,
   "id": "f773b544",
   "metadata": {},
   "outputs": [
    {
     "data": {
      "text/plain": [
       "array([  2.   , 122.   ,  76.   ,  27.   , 200.   ,  35.9  ,   0.483,\n",
       "        26.   ])"
      ]
     },
     "execution_count": 41,
     "metadata": {},
     "output_type": "execute_result"
    }
   ],
   "source": [
    "X_test[0]"
   ]
  },
  {
   "cell_type": "code",
   "execution_count": 44,
   "id": "f132c294",
   "metadata": {},
   "outputs": [
    {
     "name": "stdout",
     "output_type": "stream",
     "text": [
      "1/1 [==============================] - 0s 31ms/step\n"
     ]
    },
    {
     "data": {
      "text/plain": [
       "0"
      ]
     },
     "execution_count": 44,
     "metadata": {},
     "output_type": "execute_result"
    }
   ],
   "source": [
    "int(model.predict(np.array([[2. , 122. ,76. ,27. , 200. ,35.9, 0.483, 26. ]]))>=0.5)"
   ]
  },
  {
   "cell_type": "code",
   "execution_count": 45,
   "id": "20cd2046",
   "metadata": {},
   "outputs": [
    {
     "name": "stdout",
     "output_type": "stream",
     "text": [
      "1/1 [==============================] - 0s 104ms/step\n"
     ]
    },
    {
     "data": {
      "text/plain": [
       "array([[0],\n",
       "       [0]])"
      ]
     },
     "execution_count": 45,
     "metadata": {},
     "output_type": "execute_result"
    }
   ],
   "source": [
    "model.predict(np.array([[2. , 122. ,76. ,27. , 200. ,35.9, 0.483, 26. ],\n",
    "                         [0 , 122. ,76. ,27. , 200. ,35.9, 0.483, 26. ]])).astype(int)"
   ]
  },
  {
   "cell_type": "markdown",
   "id": "b3a683b6",
   "metadata": {},
   "source": [
    "# 분류분석\n",
    "1. 데이터셋 생성 및 전처리 : 훈련셋(600), 검증셋(100개), 테스트셋(68)\n",
    "2. 모델 생성(input8, output 2) : 출력층 softmax(출력합을 1)\n",
    "    * model.summary() 파라미터 수와 메모리 확인\n",
    "3. 모델 학습과정 설정 : loss='categorical_crossentropy, metrics=['accuracy']\n",
    "4. 모델 학습 : 훈련셋과 검증셋\n",
    "5. 모델 평가 : 그래프(hist.history), 평가(테스트셋), 교차표(테스트셋)\n",
    "6. 모델 저장 및 사용 : predict결과에 argmax()\n",
    " [99.2, 0.8]"
   ]
  },
  {
   "cell_type": "markdown",
   "id": "a3ad46b4",
   "metadata": {},
   "source": [
    "# 1. 데이터 셋 생성 및 전처리"
   ]
  },
  {
   "cell_type": "code",
   "execution_count": 48,
   "id": "81e20115",
   "metadata": {},
   "outputs": [
    {
     "data": {
      "text/plain": [
       "(768, 9)"
      ]
     },
     "execution_count": 48,
     "metadata": {},
     "output_type": "execute_result"
    }
   ],
   "source": [
    "dataset = np.loadtxt('data/pima-indians-diabetes.csv',\n",
    "                     encoding='utf-8',\n",
    "                     delimiter=',')\n",
    "dataset.shape"
   ]
  },
  {
   "cell_type": "code",
   "execution_count": 52,
   "id": "9efdc08c",
   "metadata": {},
   "outputs": [
    {
     "data": {
      "text/plain": [
       "((600, 8), (600,), (100, 8), (100,), (68, 8), (68,))"
      ]
     },
     "execution_count": 52,
     "metadata": {},
     "output_type": "execute_result"
    }
   ],
   "source": [
    "# 훈련셋(600), 검증셋(100개), 테스트셋(68)\n",
    "X_train = dataset[:600, :-1]\n",
    "y_train = dataset[:600, -1]\n",
    "X_val = dataset[600:700, :-1]\n",
    "y_val = dataset[600:700, -1]\n",
    "X_test = dataset[700:, :-1]\n",
    "y_test = dataset[700:, -1]\n",
    "X_train.shape, y_train.shape, X_val.shape, y_val.shape, X_test.shape, y_test.shape"
   ]
  },
  {
   "cell_type": "code",
   "execution_count": 63,
   "id": "8e6b6487",
   "metadata": {},
   "outputs": [
    {
     "name": "stdout",
     "output_type": "stream",
     "text": [
      "[1. 0. 1. 0. 1.]\n",
      "[[0. 1.]\n",
      " [1. 0.]\n",
      " [0. 1.]\n",
      " [1. 0.]\n",
      " [0. 1.]]\n"
     ]
    },
    {
     "data": {
      "text/plain": [
       "((600, 2), (600,), (100, 2), (68, 2))"
      ]
     },
     "execution_count": 63,
     "metadata": {},
     "output_type": "execute_result"
    }
   ],
   "source": [
    "# 타겟변수의 원핫인코딩 (분류분석)\n",
    "print(y_train[:5])\n",
    "print(utils.to_categorical(y_train[:5]))\n",
    "Y_train = utils.to_categorical(y_train)\n",
    "Y_val = utils.to_categorical(y_val)\n",
    "Y_test = utils.to_categorical(y_test)\n",
    "Y_train.shape, y_train.shape, Y_val.shape, Y_test.shape"
   ]
  },
  {
   "cell_type": "markdown",
   "id": "b569fc37",
   "metadata": {},
   "source": [
    "# 2. 모델 생성(input8, target2)\n",
    "- 과적합 줄이는 단계 추가"
   ]
  },
  {
   "cell_type": "code",
   "execution_count": 64,
   "id": "46728757",
   "metadata": {},
   "outputs": [
    {
     "name": "stdout",
     "output_type": "stream",
     "text": [
      "Model: \"sequential_7\"\n",
      "_________________________________________________________________\n",
      " Layer (type)                Output Shape              Param #   \n",
      "=================================================================\n",
      " dense_17 (Dense)            (None, 32)                288       \n",
      "                                                                 \n",
      " dense_18 (Dense)            (None, 64)                2112      \n",
      "                                                                 \n",
      " dense_19 (Dense)            (None, 16)                1040      \n",
      "                                                                 \n",
      " dense_20 (Dense)            (None, 8)                 136       \n",
      "                                                                 \n",
      " dense_21 (Dense)            (None, 2)                 18        \n",
      "                                                                 \n",
      "=================================================================\n",
      "Total params: 3,594\n",
      "Trainable params: 3,594\n",
      "Non-trainable params: 0\n",
      "_________________________________________________________________\n"
     ]
    }
   ],
   "source": [
    "model = Sequential()\n",
    "model.add(Input(shape=(8,)))\n",
    "model.add(Dense(units=32, activation='relu'))\n",
    "model.add(Dense(units=64, activation='relu'))\n",
    "model.add(Dense(units=16, activation='relu'))\n",
    "model.add(Dense(units=8, activation='relu'))\n",
    "model.add(Dense(units=2, activation='softmax'))\n",
    "model.summary()"
   ]
  },
  {
   "cell_type": "markdown",
   "id": "4823a044",
   "metadata": {},
   "source": [
    "# 3. 학습과정 설정"
   ]
  },
  {
   "cell_type": "code",
   "execution_count": 65,
   "id": "ebfe9b22",
   "metadata": {},
   "outputs": [],
   "source": [
    "model.compile(loss='categorical_crossentropy',\n",
    "              optimizer='nadam',\n",
    "              metrics=['accuracy'])"
   ]
  },
  {
   "cell_type": "code",
   "execution_count": 66,
   "id": "9e9fa05d",
   "metadata": {},
   "outputs": [
    {
     "name": "stdout",
     "output_type": "stream",
     "text": [
      "Epoch 1/500\n",
      "19/19 [==============================] - 1s 16ms/step - loss: 0.8302 - accuracy: 0.6350 - val_loss: 0.7462 - val_accuracy: 0.6500\n",
      "Epoch 2/500\n",
      "19/19 [==============================] - 0s 4ms/step - loss: 0.7078 - accuracy: 0.6633 - val_loss: 0.9922 - val_accuracy: 0.5500\n",
      "Epoch 3/500\n",
      "19/19 [==============================] - 0s 4ms/step - loss: 0.6727 - accuracy: 0.6650 - val_loss: 0.6416 - val_accuracy: 0.6900\n",
      "Epoch 4/500\n",
      "19/19 [==============================] - 0s 4ms/step - loss: 0.6561 - accuracy: 0.6850 - val_loss: 0.6399 - val_accuracy: 0.6200\n",
      "Epoch 5/500\n",
      "19/19 [==============================] - 0s 4ms/step - loss: 0.6303 - accuracy: 0.7000 - val_loss: 0.6789 - val_accuracy: 0.6700\n",
      "Epoch 6/500\n",
      "19/19 [==============================] - 0s 4ms/step - loss: 0.5978 - accuracy: 0.6967 - val_loss: 0.7057 - val_accuracy: 0.5800\n",
      "Epoch 7/500\n",
      "19/19 [==============================] - 0s 4ms/step - loss: 0.6010 - accuracy: 0.6967 - val_loss: 0.7135 - val_accuracy: 0.6700\n",
      "Epoch 8/500\n",
      "19/19 [==============================] - 0s 4ms/step - loss: 0.6217 - accuracy: 0.7167 - val_loss: 0.6160 - val_accuracy: 0.6800\n",
      "Epoch 9/500\n",
      "19/19 [==============================] - 0s 4ms/step - loss: 0.6020 - accuracy: 0.6967 - val_loss: 0.6033 - val_accuracy: 0.6700\n",
      "Epoch 10/500\n",
      "19/19 [==============================] - 0s 4ms/step - loss: 0.5784 - accuracy: 0.6983 - val_loss: 0.7194 - val_accuracy: 0.5400\n",
      "Epoch 11/500\n",
      "19/19 [==============================] - 0s 3ms/step - loss: 0.6188 - accuracy: 0.6967 - val_loss: 0.6548 - val_accuracy: 0.6800\n",
      "Epoch 12/500\n",
      "19/19 [==============================] - 0s 4ms/step - loss: 0.5835 - accuracy: 0.7133 - val_loss: 0.5989 - val_accuracy: 0.6800\n",
      "Epoch 13/500\n",
      "19/19 [==============================] - 0s 3ms/step - loss: 0.6237 - accuracy: 0.6983 - val_loss: 0.6023 - val_accuracy: 0.6900\n",
      "Epoch 14/500\n",
      "19/19 [==============================] - 0s 3ms/step - loss: 0.5593 - accuracy: 0.7317 - val_loss: 0.5944 - val_accuracy: 0.7200\n",
      "Epoch 15/500\n",
      "19/19 [==============================] - 0s 4ms/step - loss: 0.5858 - accuracy: 0.7033 - val_loss: 0.7112 - val_accuracy: 0.6900\n",
      "Epoch 16/500\n",
      "19/19 [==============================] - 0s 5ms/step - loss: 0.5866 - accuracy: 0.7100 - val_loss: 1.1075 - val_accuracy: 0.6700\n",
      "Epoch 17/500\n",
      "19/19 [==============================] - 0s 5ms/step - loss: 0.6307 - accuracy: 0.6950 - val_loss: 0.6081 - val_accuracy: 0.6500\n",
      "Epoch 18/500\n",
      "19/19 [==============================] - 0s 5ms/step - loss: 0.5696 - accuracy: 0.7083 - val_loss: 0.6183 - val_accuracy: 0.6500\n",
      "Epoch 19/500\n",
      "19/19 [==============================] - 0s 4ms/step - loss: 0.5543 - accuracy: 0.7200 - val_loss: 0.6522 - val_accuracy: 0.6200\n",
      "Epoch 20/500\n",
      "19/19 [==============================] - 0s 4ms/step - loss: 0.5517 - accuracy: 0.7250 - val_loss: 0.5991 - val_accuracy: 0.7200\n",
      "Epoch 21/500\n",
      "19/19 [==============================] - 0s 4ms/step - loss: 0.5902 - accuracy: 0.7250 - val_loss: 0.6917 - val_accuracy: 0.6900\n",
      "Epoch 22/500\n",
      "19/19 [==============================] - 0s 4ms/step - loss: 0.5689 - accuracy: 0.7217 - val_loss: 0.6481 - val_accuracy: 0.6200\n",
      "Epoch 23/500\n",
      "19/19 [==============================] - 0s 4ms/step - loss: 0.5551 - accuracy: 0.7183 - val_loss: 0.6077 - val_accuracy: 0.6700\n",
      "Epoch 24/500\n",
      "19/19 [==============================] - 0s 4ms/step - loss: 0.5386 - accuracy: 0.7500 - val_loss: 0.6085 - val_accuracy: 0.6600\n",
      "Epoch 25/500\n",
      "19/19 [==============================] - 0s 4ms/step - loss: 0.5408 - accuracy: 0.7250 - val_loss: 0.6785 - val_accuracy: 0.6400\n",
      "Epoch 26/500\n",
      "19/19 [==============================] - 0s 5ms/step - loss: 0.5539 - accuracy: 0.7350 - val_loss: 0.6113 - val_accuracy: 0.6500\n",
      "Epoch 27/500\n",
      "19/19 [==============================] - 0s 4ms/step - loss: 0.5233 - accuracy: 0.7433 - val_loss: 0.6035 - val_accuracy: 0.6500\n",
      "Epoch 28/500\n",
      "19/19 [==============================] - 0s 4ms/step - loss: 0.5365 - accuracy: 0.7433 - val_loss: 0.6460 - val_accuracy: 0.6800\n",
      "Epoch 29/500\n",
      "19/19 [==============================] - 0s 4ms/step - loss: 0.5418 - accuracy: 0.7333 - val_loss: 0.5938 - val_accuracy: 0.7000\n",
      "Epoch 30/500\n",
      "19/19 [==============================] - 0s 4ms/step - loss: 0.5262 - accuracy: 0.7483 - val_loss: 0.7352 - val_accuracy: 0.7100\n",
      "Epoch 31/500\n",
      "19/19 [==============================] - 0s 4ms/step - loss: 0.5462 - accuracy: 0.7367 - val_loss: 0.6050 - val_accuracy: 0.7000\n",
      "Epoch 32/500\n",
      "19/19 [==============================] - 0s 4ms/step - loss: 0.5225 - accuracy: 0.7283 - val_loss: 0.5871 - val_accuracy: 0.6900\n",
      "Epoch 33/500\n",
      "19/19 [==============================] - 0s 5ms/step - loss: 0.5297 - accuracy: 0.7550 - val_loss: 0.5777 - val_accuracy: 0.7100\n",
      "Epoch 34/500\n",
      "19/19 [==============================] - 0s 4ms/step - loss: 0.5452 - accuracy: 0.7283 - val_loss: 0.8756 - val_accuracy: 0.5100\n",
      "Epoch 35/500\n",
      "19/19 [==============================] - 0s 5ms/step - loss: 0.5653 - accuracy: 0.7267 - val_loss: 0.5769 - val_accuracy: 0.6600\n",
      "Epoch 36/500\n",
      "19/19 [==============================] - 0s 4ms/step - loss: 0.5127 - accuracy: 0.7583 - val_loss: 0.6605 - val_accuracy: 0.6700\n",
      "Epoch 37/500\n",
      "19/19 [==============================] - 0s 4ms/step - loss: 0.5163 - accuracy: 0.7517 - val_loss: 0.5781 - val_accuracy: 0.7200\n",
      "Epoch 38/500\n",
      "19/19 [==============================] - 0s 4ms/step - loss: 0.5434 - accuracy: 0.7167 - val_loss: 0.5956 - val_accuracy: 0.6800\n",
      "Epoch 39/500\n",
      "19/19 [==============================] - 0s 4ms/step - loss: 0.5381 - accuracy: 0.7417 - val_loss: 0.5766 - val_accuracy: 0.7100\n",
      "Epoch 40/500\n",
      "19/19 [==============================] - 0s 4ms/step - loss: 0.5521 - accuracy: 0.7283 - val_loss: 0.5818 - val_accuracy: 0.6600\n",
      "Epoch 41/500\n",
      "19/19 [==============================] - 0s 5ms/step - loss: 0.5142 - accuracy: 0.7367 - val_loss: 0.5888 - val_accuracy: 0.6600\n",
      "Epoch 42/500\n",
      "19/19 [==============================] - 0s 4ms/step - loss: 0.5351 - accuracy: 0.7300 - val_loss: 0.6083 - val_accuracy: 0.6800\n",
      "Epoch 43/500\n",
      "19/19 [==============================] - 0s 4ms/step - loss: 0.5153 - accuracy: 0.7617 - val_loss: 0.6440 - val_accuracy: 0.6800\n",
      "Epoch 44/500\n",
      "19/19 [==============================] - 0s 4ms/step - loss: 0.5216 - accuracy: 0.7467 - val_loss: 0.6089 - val_accuracy: 0.6800\n",
      "Epoch 45/500\n",
      "19/19 [==============================] - 0s 4ms/step - loss: 0.5082 - accuracy: 0.7450 - val_loss: 0.6090 - val_accuracy: 0.7000\n",
      "Epoch 46/500\n",
      "19/19 [==============================] - 0s 4ms/step - loss: 0.5134 - accuracy: 0.7533 - val_loss: 0.5790 - val_accuracy: 0.6600\n",
      "Epoch 47/500\n",
      "19/19 [==============================] - 0s 4ms/step - loss: 0.5320 - accuracy: 0.7367 - val_loss: 0.5918 - val_accuracy: 0.6400\n",
      "Epoch 48/500\n",
      "19/19 [==============================] - 0s 4ms/step - loss: 0.5131 - accuracy: 0.7433 - val_loss: 0.5812 - val_accuracy: 0.6800\n",
      "Epoch 49/500\n",
      "19/19 [==============================] - 0s 4ms/step - loss: 0.5125 - accuracy: 0.7417 - val_loss: 0.6097 - val_accuracy: 0.6900\n",
      "Epoch 50/500\n",
      "19/19 [==============================] - 0s 5ms/step - loss: 0.5053 - accuracy: 0.7517 - val_loss: 0.6615 - val_accuracy: 0.6600\n",
      "Epoch 51/500\n",
      "19/19 [==============================] - 0s 6ms/step - loss: 0.5216 - accuracy: 0.7167 - val_loss: 0.7073 - val_accuracy: 0.5900\n",
      "Epoch 52/500\n",
      "19/19 [==============================] - 0s 5ms/step - loss: 0.4998 - accuracy: 0.7450 - val_loss: 0.5777 - val_accuracy: 0.6600\n",
      "Epoch 53/500\n",
      "19/19 [==============================] - 0s 6ms/step - loss: 0.4978 - accuracy: 0.7617 - val_loss: 0.6091 - val_accuracy: 0.6300\n",
      "Epoch 54/500\n",
      "19/19 [==============================] - 0s 4ms/step - loss: 0.4980 - accuracy: 0.7750 - val_loss: 0.6440 - val_accuracy: 0.6300\n",
      "Epoch 55/500\n",
      "19/19 [==============================] - 0s 4ms/step - loss: 0.4945 - accuracy: 0.7450 - val_loss: 0.9782 - val_accuracy: 0.5000\n",
      "Epoch 56/500\n",
      "19/19 [==============================] - 0s 4ms/step - loss: 0.5365 - accuracy: 0.7183 - val_loss: 0.6385 - val_accuracy: 0.6800\n",
      "Epoch 57/500\n",
      "19/19 [==============================] - 0s 5ms/step - loss: 0.5161 - accuracy: 0.7283 - val_loss: 0.6461 - val_accuracy: 0.6600\n",
      "Epoch 58/500\n",
      "19/19 [==============================] - 0s 4ms/step - loss: 0.5049 - accuracy: 0.7500 - val_loss: 0.5971 - val_accuracy: 0.6600\n",
      "Epoch 59/500\n",
      "19/19 [==============================] - 0s 4ms/step - loss: 0.4969 - accuracy: 0.7433 - val_loss: 0.6031 - val_accuracy: 0.6600\n",
      "Epoch 60/500\n",
      "19/19 [==============================] - 0s 4ms/step - loss: 0.5182 - accuracy: 0.7500 - val_loss: 0.6290 - val_accuracy: 0.6900\n",
      "Epoch 61/500\n",
      "19/19 [==============================] - 0s 8ms/step - loss: 0.4903 - accuracy: 0.7700 - val_loss: 0.5759 - val_accuracy: 0.6800\n",
      "Epoch 62/500\n",
      "19/19 [==============================] - 0s 6ms/step - loss: 0.4998 - accuracy: 0.7583 - val_loss: 0.5829 - val_accuracy: 0.6700\n",
      "Epoch 63/500\n",
      "19/19 [==============================] - 0s 4ms/step - loss: 0.4938 - accuracy: 0.7617 - val_loss: 0.6148 - val_accuracy: 0.6700\n",
      "Epoch 64/500\n",
      "19/19 [==============================] - 0s 4ms/step - loss: 0.4961 - accuracy: 0.7650 - val_loss: 0.6065 - val_accuracy: 0.6900\n",
      "Epoch 65/500\n",
      "19/19 [==============================] - 0s 4ms/step - loss: 0.4921 - accuracy: 0.7517 - val_loss: 0.5745 - val_accuracy: 0.7100\n",
      "Epoch 66/500\n",
      "19/19 [==============================] - 0s 4ms/step - loss: 0.4954 - accuracy: 0.7717 - val_loss: 0.6778 - val_accuracy: 0.6100\n",
      "Epoch 67/500\n",
      "19/19 [==============================] - 0s 4ms/step - loss: 0.4890 - accuracy: 0.7600 - val_loss: 0.6160 - val_accuracy: 0.6800\n",
      "Epoch 68/500\n",
      "19/19 [==============================] - 0s 4ms/step - loss: 0.4984 - accuracy: 0.7483 - val_loss: 0.5665 - val_accuracy: 0.6700\n",
      "Epoch 69/500\n",
      "19/19 [==============================] - 0s 5ms/step - loss: 0.5006 - accuracy: 0.7483 - val_loss: 0.5607 - val_accuracy: 0.6700\n",
      "Epoch 70/500\n",
      "19/19 [==============================] - 0s 5ms/step - loss: 0.4947 - accuracy: 0.7683 - val_loss: 0.6623 - val_accuracy: 0.6800\n",
      "Epoch 71/500\n",
      "19/19 [==============================] - 0s 4ms/step - loss: 0.4905 - accuracy: 0.7550 - val_loss: 0.5944 - val_accuracy: 0.6900\n",
      "Epoch 72/500\n",
      "19/19 [==============================] - 0s 4ms/step - loss: 0.5232 - accuracy: 0.7483 - val_loss: 0.5624 - val_accuracy: 0.6800\n",
      "Epoch 73/500\n",
      "19/19 [==============================] - 0s 4ms/step - loss: 0.4874 - accuracy: 0.7533 - val_loss: 0.5954 - val_accuracy: 0.7100\n",
      "Epoch 74/500\n",
      "19/19 [==============================] - 0s 4ms/step - loss: 0.4778 - accuracy: 0.7717 - val_loss: 0.6031 - val_accuracy: 0.6700\n",
      "Epoch 75/500\n",
      "19/19 [==============================] - 0s 5ms/step - loss: 0.4822 - accuracy: 0.7650 - val_loss: 0.5746 - val_accuracy: 0.6900\n",
      "Epoch 76/500\n",
      "19/19 [==============================] - 0s 4ms/step - loss: 0.5158 - accuracy: 0.7533 - val_loss: 0.5751 - val_accuracy: 0.6900\n",
      "Epoch 77/500\n",
      "19/19 [==============================] - 0s 4ms/step - loss: 0.4769 - accuracy: 0.7767 - val_loss: 0.5706 - val_accuracy: 0.6800\n",
      "Epoch 78/500\n",
      "19/19 [==============================] - 0s 4ms/step - loss: 0.4588 - accuracy: 0.7783 - val_loss: 0.6022 - val_accuracy: 0.7100\n",
      "Epoch 79/500\n",
      "19/19 [==============================] - 0s 3ms/step - loss: 0.4698 - accuracy: 0.7800 - val_loss: 0.5987 - val_accuracy: 0.7100\n",
      "Epoch 80/500\n",
      "19/19 [==============================] - 0s 4ms/step - loss: 0.4652 - accuracy: 0.7767 - val_loss: 0.5530 - val_accuracy: 0.7100\n",
      "Epoch 81/500\n",
      "19/19 [==============================] - 0s 4ms/step - loss: 0.4864 - accuracy: 0.7683 - val_loss: 0.5842 - val_accuracy: 0.6900\n",
      "Epoch 82/500\n",
      "19/19 [==============================] - 0s 4ms/step - loss: 0.4817 - accuracy: 0.7867 - val_loss: 0.6366 - val_accuracy: 0.6500\n",
      "Epoch 83/500\n",
      "19/19 [==============================] - 0s 4ms/step - loss: 0.4800 - accuracy: 0.7767 - val_loss: 0.5672 - val_accuracy: 0.7000\n",
      "Epoch 84/500\n",
      "19/19 [==============================] - 0s 4ms/step - loss: 0.4612 - accuracy: 0.7900 - val_loss: 0.6036 - val_accuracy: 0.6700\n",
      "Epoch 85/500\n",
      "19/19 [==============================] - 0s 3ms/step - loss: 0.4749 - accuracy: 0.7450 - val_loss: 0.5502 - val_accuracy: 0.7200\n",
      "Epoch 86/500\n",
      "19/19 [==============================] - 0s 4ms/step - loss: 0.4824 - accuracy: 0.7717 - val_loss: 0.5791 - val_accuracy: 0.6800\n",
      "Epoch 87/500\n",
      "19/19 [==============================] - 0s 4ms/step - loss: 0.4597 - accuracy: 0.7917 - val_loss: 0.5760 - val_accuracy: 0.7000\n",
      "Epoch 88/500\n",
      "19/19 [==============================] - 0s 4ms/step - loss: 0.4632 - accuracy: 0.7583 - val_loss: 0.6768 - val_accuracy: 0.6200\n",
      "Epoch 89/500\n",
      "19/19 [==============================] - 0s 3ms/step - loss: 0.4759 - accuracy: 0.7600 - val_loss: 0.6796 - val_accuracy: 0.6700\n",
      "Epoch 90/500\n",
      "19/19 [==============================] - 0s 3ms/step - loss: 0.5001 - accuracy: 0.7417 - val_loss: 0.6116 - val_accuracy: 0.6700\n",
      "Epoch 91/500\n",
      "19/19 [==============================] - 0s 4ms/step - loss: 0.4760 - accuracy: 0.7700 - val_loss: 0.6418 - val_accuracy: 0.6900\n",
      "Epoch 92/500\n",
      "19/19 [==============================] - 0s 4ms/step - loss: 0.4715 - accuracy: 0.7683 - val_loss: 0.6143 - val_accuracy: 0.6900\n",
      "Epoch 93/500\n",
      "19/19 [==============================] - 0s 4ms/step - loss: 0.4852 - accuracy: 0.7617 - val_loss: 0.5769 - val_accuracy: 0.7300\n",
      "Epoch 94/500\n",
      "19/19 [==============================] - 0s 4ms/step - loss: 0.4621 - accuracy: 0.7700 - val_loss: 0.6438 - val_accuracy: 0.6800\n",
      "Epoch 95/500\n",
      "19/19 [==============================] - 0s 4ms/step - loss: 0.4737 - accuracy: 0.7600 - val_loss: 0.5647 - val_accuracy: 0.7100\n",
      "Epoch 96/500\n",
      "19/19 [==============================] - 0s 4ms/step - loss: 0.4608 - accuracy: 0.7850 - val_loss: 0.5745 - val_accuracy: 0.6800\n",
      "Epoch 97/500\n",
      "19/19 [==============================] - 0s 8ms/step - loss: 0.4611 - accuracy: 0.7733 - val_loss: 0.5704 - val_accuracy: 0.7000\n",
      "Epoch 98/500\n",
      "19/19 [==============================] - 0s 4ms/step - loss: 0.4659 - accuracy: 0.7683 - val_loss: 0.5908 - val_accuracy: 0.6800\n",
      "Epoch 99/500\n",
      "19/19 [==============================] - 0s 4ms/step - loss: 0.4616 - accuracy: 0.7783 - val_loss: 0.5942 - val_accuracy: 0.6800\n",
      "Epoch 100/500\n",
      "19/19 [==============================] - 0s 4ms/step - loss: 0.4599 - accuracy: 0.7883 - val_loss: 0.5884 - val_accuracy: 0.7200\n",
      "Epoch 101/500\n",
      "19/19 [==============================] - 0s 4ms/step - loss: 0.4602 - accuracy: 0.7717 - val_loss: 0.5574 - val_accuracy: 0.6900\n",
      "Epoch 102/500\n",
      "19/19 [==============================] - 0s 5ms/step - loss: 0.4586 - accuracy: 0.7733 - val_loss: 0.5729 - val_accuracy: 0.6800\n",
      "Epoch 103/500\n",
      "19/19 [==============================] - 0s 4ms/step - loss: 0.4418 - accuracy: 0.7900 - val_loss: 0.5792 - val_accuracy: 0.7100\n",
      "Epoch 104/500\n",
      "19/19 [==============================] - 0s 5ms/step - loss: 0.4683 - accuracy: 0.7833 - val_loss: 0.5896 - val_accuracy: 0.7200\n",
      "Epoch 105/500\n",
      "19/19 [==============================] - 0s 4ms/step - loss: 0.4457 - accuracy: 0.7833 - val_loss: 0.5563 - val_accuracy: 0.6800\n",
      "Epoch 106/500\n",
      "19/19 [==============================] - 0s 4ms/step - loss: 0.4378 - accuracy: 0.7767 - val_loss: 0.6060 - val_accuracy: 0.7000\n",
      "Epoch 107/500\n",
      "19/19 [==============================] - 0s 5ms/step - loss: 0.4661 - accuracy: 0.7767 - val_loss: 0.5808 - val_accuracy: 0.6900\n",
      "Epoch 108/500\n",
      "19/19 [==============================] - 0s 3ms/step - loss: 0.4505 - accuracy: 0.7800 - val_loss: 0.5610 - val_accuracy: 0.6700\n",
      "Epoch 109/500\n",
      "19/19 [==============================] - 0s 4ms/step - loss: 0.4502 - accuracy: 0.7900 - val_loss: 0.6885 - val_accuracy: 0.6900\n",
      "Epoch 110/500\n",
      "19/19 [==============================] - 0s 4ms/step - loss: 0.4553 - accuracy: 0.7850 - val_loss: 0.5889 - val_accuracy: 0.6800\n",
      "Epoch 111/500\n",
      "19/19 [==============================] - 0s 5ms/step - loss: 0.4651 - accuracy: 0.7667 - val_loss: 0.5427 - val_accuracy: 0.7000\n",
      "Epoch 112/500\n",
      "19/19 [==============================] - 0s 6ms/step - loss: 0.4519 - accuracy: 0.7850 - val_loss: 0.5896 - val_accuracy: 0.7100\n",
      "Epoch 113/500\n",
      "19/19 [==============================] - 0s 4ms/step - loss: 0.4506 - accuracy: 0.7683 - val_loss: 0.5758 - val_accuracy: 0.6900\n",
      "Epoch 114/500\n",
      "19/19 [==============================] - 0s 4ms/step - loss: 0.4565 - accuracy: 0.7667 - val_loss: 0.6386 - val_accuracy: 0.6700\n",
      "Epoch 115/500\n",
      "19/19 [==============================] - 0s 4ms/step - loss: 0.4699 - accuracy: 0.7750 - val_loss: 0.5798 - val_accuracy: 0.6500\n",
      "Epoch 116/500\n",
      "19/19 [==============================] - 0s 4ms/step - loss: 0.4561 - accuracy: 0.7783 - val_loss: 0.6236 - val_accuracy: 0.6500\n",
      "Epoch 117/500\n",
      "19/19 [==============================] - 0s 4ms/step - loss: 0.4322 - accuracy: 0.7900 - val_loss: 0.5950 - val_accuracy: 0.6600\n",
      "Epoch 118/500\n",
      "19/19 [==============================] - 0s 4ms/step - loss: 0.4388 - accuracy: 0.7850 - val_loss: 0.5849 - val_accuracy: 0.6900\n",
      "Epoch 119/500\n",
      "19/19 [==============================] - 0s 4ms/step - loss: 0.4375 - accuracy: 0.7817 - val_loss: 0.6220 - val_accuracy: 0.7000\n",
      "Epoch 120/500\n",
      "19/19 [==============================] - 0s 4ms/step - loss: 0.4478 - accuracy: 0.7867 - val_loss: 0.5773 - val_accuracy: 0.7000\n",
      "Epoch 121/500\n",
      "19/19 [==============================] - 0s 5ms/step - loss: 0.4514 - accuracy: 0.7783 - val_loss: 0.5675 - val_accuracy: 0.6900\n",
      "Epoch 122/500\n",
      "19/19 [==============================] - 0s 4ms/step - loss: 0.4494 - accuracy: 0.7833 - val_loss: 0.5521 - val_accuracy: 0.7000\n",
      "Epoch 123/500\n",
      "19/19 [==============================] - 0s 4ms/step - loss: 0.4343 - accuracy: 0.7917 - val_loss: 0.5791 - val_accuracy: 0.6900\n",
      "Epoch 124/500\n",
      "19/19 [==============================] - 0s 5ms/step - loss: 0.4331 - accuracy: 0.7933 - val_loss: 0.5981 - val_accuracy: 0.7000\n",
      "Epoch 125/500\n",
      "19/19 [==============================] - 0s 5ms/step - loss: 0.4289 - accuracy: 0.7850 - val_loss: 0.6214 - val_accuracy: 0.7000\n",
      "Epoch 126/500\n",
      "19/19 [==============================] - 0s 4ms/step - loss: 0.4429 - accuracy: 0.7817 - val_loss: 0.6033 - val_accuracy: 0.6700\n",
      "Epoch 127/500\n",
      "19/19 [==============================] - 0s 4ms/step - loss: 0.4329 - accuracy: 0.7917 - val_loss: 0.6155 - val_accuracy: 0.6700\n",
      "Epoch 128/500\n",
      "19/19 [==============================] - 0s 10ms/step - loss: 0.4382 - accuracy: 0.7817 - val_loss: 0.5709 - val_accuracy: 0.6600\n",
      "Epoch 129/500\n",
      "19/19 [==============================] - 0s 5ms/step - loss: 0.4364 - accuracy: 0.7933 - val_loss: 0.5856 - val_accuracy: 0.6800\n",
      "Epoch 130/500\n",
      "19/19 [==============================] - 0s 4ms/step - loss: 0.4383 - accuracy: 0.7983 - val_loss: 0.6000 - val_accuracy: 0.6700\n",
      "Epoch 131/500\n",
      "19/19 [==============================] - 0s 6ms/step - loss: 0.4279 - accuracy: 0.7983 - val_loss: 0.5614 - val_accuracy: 0.7000\n",
      "Epoch 132/500\n",
      "19/19 [==============================] - 0s 5ms/step - loss: 0.4316 - accuracy: 0.7900 - val_loss: 0.5629 - val_accuracy: 0.7200\n",
      "Epoch 133/500\n",
      "19/19 [==============================] - 0s 5ms/step - loss: 0.4473 - accuracy: 0.7833 - val_loss: 0.7468 - val_accuracy: 0.6200\n",
      "Epoch 134/500\n",
      "19/19 [==============================] - 0s 4ms/step - loss: 0.4360 - accuracy: 0.7850 - val_loss: 0.6103 - val_accuracy: 0.7200\n",
      "Epoch 135/500\n",
      "19/19 [==============================] - 0s 4ms/step - loss: 0.4460 - accuracy: 0.7717 - val_loss: 0.6033 - val_accuracy: 0.6800\n",
      "Epoch 136/500\n",
      "19/19 [==============================] - 0s 4ms/step - loss: 0.4227 - accuracy: 0.8067 - val_loss: 0.5823 - val_accuracy: 0.6700\n",
      "Epoch 137/500\n",
      "19/19 [==============================] - 0s 4ms/step - loss: 0.4495 - accuracy: 0.7900 - val_loss: 0.6024 - val_accuracy: 0.7000\n",
      "Epoch 138/500\n",
      "19/19 [==============================] - 0s 4ms/step - loss: 0.4168 - accuracy: 0.8000 - val_loss: 0.6007 - val_accuracy: 0.6900\n",
      "Epoch 139/500\n",
      "19/19 [==============================] - 0s 4ms/step - loss: 0.4137 - accuracy: 0.8167 - val_loss: 0.5961 - val_accuracy: 0.7100\n",
      "Epoch 140/500\n",
      "19/19 [==============================] - 0s 5ms/step - loss: 0.4330 - accuracy: 0.7983 - val_loss: 0.5799 - val_accuracy: 0.7100\n",
      "Epoch 141/500\n",
      "19/19 [==============================] - 0s 4ms/step - loss: 0.4098 - accuracy: 0.8217 - val_loss: 0.6038 - val_accuracy: 0.7000\n",
      "Epoch 142/500\n",
      "19/19 [==============================] - 0s 5ms/step - loss: 0.4388 - accuracy: 0.8067 - val_loss: 0.5889 - val_accuracy: 0.6900\n",
      "Epoch 143/500\n",
      "19/19 [==============================] - 0s 4ms/step - loss: 0.4138 - accuracy: 0.8117 - val_loss: 0.5773 - val_accuracy: 0.6900\n",
      "Epoch 144/500\n",
      "19/19 [==============================] - 0s 4ms/step - loss: 0.4276 - accuracy: 0.7950 - val_loss: 0.5925 - val_accuracy: 0.7200\n",
      "Epoch 145/500\n",
      "19/19 [==============================] - 0s 4ms/step - loss: 0.4180 - accuracy: 0.8067 - val_loss: 0.6106 - val_accuracy: 0.7000\n",
      "Epoch 146/500\n",
      "19/19 [==============================] - 0s 5ms/step - loss: 0.4266 - accuracy: 0.7833 - val_loss: 0.6174 - val_accuracy: 0.6900\n",
      "Epoch 147/500\n",
      "19/19 [==============================] - 0s 5ms/step - loss: 0.4180 - accuracy: 0.8100 - val_loss: 0.5970 - val_accuracy: 0.7100\n",
      "Epoch 148/500\n",
      "19/19 [==============================] - 0s 3ms/step - loss: 0.4358 - accuracy: 0.8033 - val_loss: 0.6403 - val_accuracy: 0.7000\n",
      "Epoch 149/500\n",
      "19/19 [==============================] - 0s 4ms/step - loss: 0.4234 - accuracy: 0.7900 - val_loss: 0.6707 - val_accuracy: 0.6800\n",
      "Epoch 150/500\n",
      "19/19 [==============================] - 0s 3ms/step - loss: 0.4267 - accuracy: 0.7950 - val_loss: 0.6079 - val_accuracy: 0.6800\n",
      "Epoch 151/500\n",
      "19/19 [==============================] - 0s 4ms/step - loss: 0.4145 - accuracy: 0.8017 - val_loss: 0.6675 - val_accuracy: 0.6700\n",
      "Epoch 152/500\n",
      "19/19 [==============================] - 0s 3ms/step - loss: 0.4182 - accuracy: 0.7983 - val_loss: 0.6231 - val_accuracy: 0.6800\n",
      "Epoch 153/500\n",
      "19/19 [==============================] - 0s 4ms/step - loss: 0.4177 - accuracy: 0.8033 - val_loss: 0.6521 - val_accuracy: 0.7000\n",
      "Epoch 154/500\n",
      "19/19 [==============================] - 0s 3ms/step - loss: 0.4209 - accuracy: 0.8200 - val_loss: 0.6534 - val_accuracy: 0.6600\n",
      "Epoch 155/500\n",
      "19/19 [==============================] - 0s 4ms/step - loss: 0.4094 - accuracy: 0.8017 - val_loss: 0.6364 - val_accuracy: 0.7200\n",
      "Epoch 156/500\n",
      "19/19 [==============================] - 0s 4ms/step - loss: 0.4121 - accuracy: 0.8050 - val_loss: 0.6057 - val_accuracy: 0.7000\n",
      "Epoch 157/500\n",
      "19/19 [==============================] - 0s 4ms/step - loss: 0.4130 - accuracy: 0.8067 - val_loss: 0.6247 - val_accuracy: 0.6700\n",
      "Epoch 158/500\n",
      "19/19 [==============================] - 0s 4ms/step - loss: 0.4040 - accuracy: 0.8133 - val_loss: 0.6364 - val_accuracy: 0.7000\n",
      "Epoch 159/500\n",
      "19/19 [==============================] - 0s 4ms/step - loss: 0.4306 - accuracy: 0.7950 - val_loss: 0.6562 - val_accuracy: 0.6800\n",
      "Epoch 160/500\n",
      "19/19 [==============================] - 0s 4ms/step - loss: 0.4100 - accuracy: 0.8100 - val_loss: 0.5744 - val_accuracy: 0.7100\n",
      "Epoch 161/500\n",
      "19/19 [==============================] - 0s 9ms/step - loss: 0.4096 - accuracy: 0.8000 - val_loss: 0.6166 - val_accuracy: 0.7300\n",
      "Epoch 162/500\n",
      "19/19 [==============================] - 0s 4ms/step - loss: 0.4024 - accuracy: 0.8150 - val_loss: 0.5890 - val_accuracy: 0.7000\n",
      "Epoch 163/500\n",
      "19/19 [==============================] - 0s 4ms/step - loss: 0.4030 - accuracy: 0.8150 - val_loss: 0.6449 - val_accuracy: 0.7000\n",
      "Epoch 164/500\n",
      "19/19 [==============================] - 0s 4ms/step - loss: 0.4040 - accuracy: 0.7933 - val_loss: 0.6293 - val_accuracy: 0.7200\n",
      "Epoch 165/500\n",
      "19/19 [==============================] - 0s 5ms/step - loss: 0.4238 - accuracy: 0.7933 - val_loss: 0.6517 - val_accuracy: 0.6700\n",
      "Epoch 166/500\n",
      "19/19 [==============================] - 0s 4ms/step - loss: 0.3994 - accuracy: 0.8033 - val_loss: 0.6112 - val_accuracy: 0.6800\n",
      "Epoch 167/500\n",
      "19/19 [==============================] - 0s 4ms/step - loss: 0.3968 - accuracy: 0.8083 - val_loss: 0.6571 - val_accuracy: 0.6600\n",
      "Epoch 168/500\n",
      "19/19 [==============================] - 0s 4ms/step - loss: 0.3971 - accuracy: 0.8217 - val_loss: 0.5964 - val_accuracy: 0.6900\n",
      "Epoch 169/500\n",
      "19/19 [==============================] - 0s 4ms/step - loss: 0.3946 - accuracy: 0.8183 - val_loss: 0.6298 - val_accuracy: 0.6900\n",
      "Epoch 170/500\n",
      "19/19 [==============================] - 0s 4ms/step - loss: 0.4110 - accuracy: 0.8000 - val_loss: 0.6664 - val_accuracy: 0.6600\n",
      "Epoch 171/500\n",
      "19/19 [==============================] - 0s 4ms/step - loss: 0.3933 - accuracy: 0.8083 - val_loss: 0.5994 - val_accuracy: 0.7300\n",
      "Epoch 172/500\n",
      "19/19 [==============================] - 0s 4ms/step - loss: 0.3903 - accuracy: 0.8217 - val_loss: 0.6139 - val_accuracy: 0.7100\n",
      "Epoch 173/500\n",
      "19/19 [==============================] - 0s 5ms/step - loss: 0.3999 - accuracy: 0.8067 - val_loss: 0.6657 - val_accuracy: 0.7400\n",
      "Epoch 174/500\n",
      "19/19 [==============================] - 0s 4ms/step - loss: 0.3950 - accuracy: 0.8133 - val_loss: 0.6149 - val_accuracy: 0.7100\n",
      "Epoch 175/500\n",
      "19/19 [==============================] - 0s 4ms/step - loss: 0.3948 - accuracy: 0.8017 - val_loss: 0.6494 - val_accuracy: 0.7500\n",
      "Epoch 176/500\n",
      "19/19 [==============================] - 0s 4ms/step - loss: 0.3998 - accuracy: 0.8067 - val_loss: 0.6002 - val_accuracy: 0.7100\n",
      "Epoch 177/500\n",
      "19/19 [==============================] - 0s 4ms/step - loss: 0.4044 - accuracy: 0.8133 - val_loss: 0.6079 - val_accuracy: 0.6800\n",
      "Epoch 178/500\n",
      "19/19 [==============================] - 0s 4ms/step - loss: 0.3939 - accuracy: 0.8100 - val_loss: 0.6255 - val_accuracy: 0.6800\n",
      "Epoch 179/500\n",
      "19/19 [==============================] - 0s 4ms/step - loss: 0.3987 - accuracy: 0.8133 - val_loss: 0.8582 - val_accuracy: 0.6900\n",
      "Epoch 180/500\n",
      "19/19 [==============================] - 0s 4ms/step - loss: 0.4158 - accuracy: 0.8100 - val_loss: 0.9793 - val_accuracy: 0.5500\n",
      "Epoch 181/500\n",
      "19/19 [==============================] - 0s 5ms/step - loss: 0.4170 - accuracy: 0.7983 - val_loss: 0.6355 - val_accuracy: 0.7000\n",
      "Epoch 182/500\n",
      "19/19 [==============================] - 0s 5ms/step - loss: 0.4034 - accuracy: 0.8283 - val_loss: 0.6082 - val_accuracy: 0.7000\n",
      "Epoch 183/500\n",
      "19/19 [==============================] - 0s 5ms/step - loss: 0.3834 - accuracy: 0.8183 - val_loss: 0.6503 - val_accuracy: 0.6900\n",
      "Epoch 184/500\n",
      "19/19 [==============================] - 0s 5ms/step - loss: 0.3871 - accuracy: 0.8317 - val_loss: 0.6135 - val_accuracy: 0.7200\n",
      "Epoch 185/500\n",
      "19/19 [==============================] - 0s 4ms/step - loss: 0.3934 - accuracy: 0.8100 - val_loss: 0.7610 - val_accuracy: 0.6900\n",
      "Epoch 186/500\n",
      "19/19 [==============================] - 0s 4ms/step - loss: 0.3870 - accuracy: 0.8367 - val_loss: 0.5889 - val_accuracy: 0.7000\n",
      "Epoch 187/500\n",
      "19/19 [==============================] - 0s 4ms/step - loss: 0.3664 - accuracy: 0.8367 - val_loss: 0.6565 - val_accuracy: 0.6700\n",
      "Epoch 188/500\n",
      "19/19 [==============================] - 0s 4ms/step - loss: 0.3934 - accuracy: 0.8150 - val_loss: 0.6449 - val_accuracy: 0.7200\n",
      "Epoch 189/500\n",
      "19/19 [==============================] - 0s 4ms/step - loss: 0.3882 - accuracy: 0.8167 - val_loss: 0.6179 - val_accuracy: 0.7100\n",
      "Epoch 190/500\n",
      "19/19 [==============================] - 0s 8ms/step - loss: 0.3695 - accuracy: 0.8383 - val_loss: 0.6314 - val_accuracy: 0.7100\n",
      "Epoch 191/500\n",
      "19/19 [==============================] - 0s 5ms/step - loss: 0.3876 - accuracy: 0.8033 - val_loss: 0.6396 - val_accuracy: 0.7000\n",
      "Epoch 192/500\n",
      "19/19 [==============================] - 0s 4ms/step - loss: 0.3814 - accuracy: 0.8233 - val_loss: 0.6367 - val_accuracy: 0.7200\n",
      "Epoch 193/500\n",
      "19/19 [==============================] - 0s 4ms/step - loss: 0.3789 - accuracy: 0.8200 - val_loss: 0.6742 - val_accuracy: 0.7000\n",
      "Epoch 194/500\n",
      "19/19 [==============================] - 0s 4ms/step - loss: 0.3806 - accuracy: 0.8300 - val_loss: 0.6386 - val_accuracy: 0.7400\n",
      "Epoch 195/500\n",
      "19/19 [==============================] - 0s 4ms/step - loss: 0.3762 - accuracy: 0.8217 - val_loss: 0.6430 - val_accuracy: 0.7000\n",
      "Epoch 196/500\n",
      "19/19 [==============================] - 0s 4ms/step - loss: 0.3681 - accuracy: 0.8283 - val_loss: 0.6315 - val_accuracy: 0.7100\n",
      "Epoch 197/500\n",
      "19/19 [==============================] - 0s 4ms/step - loss: 0.3815 - accuracy: 0.8250 - val_loss: 0.6830 - val_accuracy: 0.6600\n",
      "Epoch 198/500\n",
      "19/19 [==============================] - 0s 4ms/step - loss: 0.3807 - accuracy: 0.8183 - val_loss: 0.6412 - val_accuracy: 0.7100\n",
      "Epoch 199/500\n",
      "19/19 [==============================] - 0s 5ms/step - loss: 0.3770 - accuracy: 0.8367 - val_loss: 0.6560 - val_accuracy: 0.7100\n",
      "Epoch 200/500\n",
      "19/19 [==============================] - 0s 5ms/step - loss: 0.3679 - accuracy: 0.8417 - val_loss: 0.6472 - val_accuracy: 0.7200\n",
      "Epoch 201/500\n",
      "19/19 [==============================] - 0s 4ms/step - loss: 0.3687 - accuracy: 0.8217 - val_loss: 0.6886 - val_accuracy: 0.6700\n",
      "Epoch 202/500\n",
      "19/19 [==============================] - 0s 4ms/step - loss: 0.3687 - accuracy: 0.8167 - val_loss: 0.6490 - val_accuracy: 0.7200\n",
      "Epoch 203/500\n",
      "19/19 [==============================] - 0s 5ms/step - loss: 0.4045 - accuracy: 0.8167 - val_loss: 0.6367 - val_accuracy: 0.7100\n",
      "Epoch 204/500\n",
      "19/19 [==============================] - 0s 5ms/step - loss: 0.3809 - accuracy: 0.8300 - val_loss: 0.6368 - val_accuracy: 0.7200\n",
      "Epoch 205/500\n",
      "19/19 [==============================] - 0s 4ms/step - loss: 0.3732 - accuracy: 0.8233 - val_loss: 0.6358 - val_accuracy: 0.7200\n",
      "Epoch 206/500\n",
      "19/19 [==============================] - 0s 4ms/step - loss: 0.3777 - accuracy: 0.8250 - val_loss: 0.6710 - val_accuracy: 0.7100\n",
      "Epoch 207/500\n",
      "19/19 [==============================] - 0s 4ms/step - loss: 0.3670 - accuracy: 0.8383 - val_loss: 0.6873 - val_accuracy: 0.7200\n",
      "Epoch 208/500\n",
      "19/19 [==============================] - 0s 4ms/step - loss: 0.3727 - accuracy: 0.8233 - val_loss: 0.6348 - val_accuracy: 0.7400\n",
      "Epoch 209/500\n",
      "19/19 [==============================] - 0s 4ms/step - loss: 0.3749 - accuracy: 0.8217 - val_loss: 0.6365 - val_accuracy: 0.7200\n",
      "Epoch 210/500\n",
      "19/19 [==============================] - 0s 4ms/step - loss: 0.3584 - accuracy: 0.8333 - val_loss: 0.6218 - val_accuracy: 0.7500\n",
      "Epoch 211/500\n",
      "19/19 [==============================] - 0s 4ms/step - loss: 0.3774 - accuracy: 0.8283 - val_loss: 0.6714 - val_accuracy: 0.6800\n",
      "Epoch 212/500\n",
      "19/19 [==============================] - 0s 4ms/step - loss: 0.3690 - accuracy: 0.8300 - val_loss: 0.6308 - val_accuracy: 0.7400\n",
      "Epoch 213/500\n",
      "19/19 [==============================] - 0s 4ms/step - loss: 0.3722 - accuracy: 0.8333 - val_loss: 0.6233 - val_accuracy: 0.7200\n",
      "Epoch 214/500\n",
      "19/19 [==============================] - 0s 4ms/step - loss: 0.3597 - accuracy: 0.8317 - val_loss: 0.7048 - val_accuracy: 0.6800\n",
      "Epoch 215/500\n",
      "19/19 [==============================] - 0s 4ms/step - loss: 0.3694 - accuracy: 0.8300 - val_loss: 0.6404 - val_accuracy: 0.7100\n",
      "Epoch 216/500\n",
      "19/19 [==============================] - 0s 4ms/step - loss: 0.3579 - accuracy: 0.8367 - val_loss: 0.6762 - val_accuracy: 0.6600\n",
      "Epoch 217/500\n",
      "19/19 [==============================] - 0s 4ms/step - loss: 0.3592 - accuracy: 0.8417 - val_loss: 0.6630 - val_accuracy: 0.6900\n",
      "Epoch 218/500\n",
      "19/19 [==============================] - 0s 5ms/step - loss: 0.3664 - accuracy: 0.8283 - val_loss: 0.6582 - val_accuracy: 0.7400\n",
      "Epoch 219/500\n",
      "19/19 [==============================] - 0s 7ms/step - loss: 0.3641 - accuracy: 0.8267 - val_loss: 0.6321 - val_accuracy: 0.7100\n",
      "Epoch 220/500\n",
      "19/19 [==============================] - 0s 6ms/step - loss: 0.3498 - accuracy: 0.8317 - val_loss: 0.6902 - val_accuracy: 0.6900\n",
      "Epoch 221/500\n",
      "19/19 [==============================] - 0s 4ms/step - loss: 0.3570 - accuracy: 0.8267 - val_loss: 0.6472 - val_accuracy: 0.7100\n",
      "Epoch 222/500\n",
      "19/19 [==============================] - 0s 4ms/step - loss: 0.3659 - accuracy: 0.8233 - val_loss: 0.6970 - val_accuracy: 0.7000\n",
      "Epoch 223/500\n",
      "19/19 [==============================] - 0s 4ms/step - loss: 0.3569 - accuracy: 0.8233 - val_loss: 0.6900 - val_accuracy: 0.7000\n",
      "Epoch 224/500\n",
      "19/19 [==============================] - 0s 5ms/step - loss: 0.3582 - accuracy: 0.8500 - val_loss: 0.6213 - val_accuracy: 0.6800\n",
      "Epoch 225/500\n",
      "19/19 [==============================] - 0s 4ms/step - loss: 0.3415 - accuracy: 0.8417 - val_loss: 0.7470 - val_accuracy: 0.6900\n",
      "Epoch 226/500\n",
      "19/19 [==============================] - 0s 4ms/step - loss: 0.3582 - accuracy: 0.8300 - val_loss: 0.6360 - val_accuracy: 0.7000\n",
      "Epoch 227/500\n",
      "19/19 [==============================] - 0s 4ms/step - loss: 0.3487 - accuracy: 0.8483 - val_loss: 0.6721 - val_accuracy: 0.7100\n",
      "Epoch 228/500\n",
      "19/19 [==============================] - 0s 4ms/step - loss: 0.3544 - accuracy: 0.8433 - val_loss: 0.6743 - val_accuracy: 0.7300\n",
      "Epoch 229/500\n",
      "19/19 [==============================] - 0s 4ms/step - loss: 0.3619 - accuracy: 0.8333 - val_loss: 0.6736 - val_accuracy: 0.7400\n",
      "Epoch 230/500\n",
      "19/19 [==============================] - 0s 3ms/step - loss: 0.3502 - accuracy: 0.8383 - val_loss: 0.7174 - val_accuracy: 0.7200\n",
      "Epoch 231/500\n",
      "19/19 [==============================] - 0s 4ms/step - loss: 0.3376 - accuracy: 0.8433 - val_loss: 0.7432 - val_accuracy: 0.6900\n",
      "Epoch 232/500\n",
      "19/19 [==============================] - 0s 4ms/step - loss: 0.3476 - accuracy: 0.8350 - val_loss: 0.7245 - val_accuracy: 0.7200\n",
      "Epoch 233/500\n",
      "19/19 [==============================] - 0s 4ms/step - loss: 0.3656 - accuracy: 0.8350 - val_loss: 0.6735 - val_accuracy: 0.7100\n",
      "Epoch 234/500\n",
      "19/19 [==============================] - 0s 3ms/step - loss: 0.3439 - accuracy: 0.8450 - val_loss: 0.6925 - val_accuracy: 0.6700\n",
      "Epoch 235/500\n",
      "19/19 [==============================] - 0s 3ms/step - loss: 0.3317 - accuracy: 0.8583 - val_loss: 0.6648 - val_accuracy: 0.7300\n",
      "Epoch 236/500\n",
      "19/19 [==============================] - 0s 4ms/step - loss: 0.3369 - accuracy: 0.8517 - val_loss: 0.7090 - val_accuracy: 0.6900\n",
      "Epoch 237/500\n",
      "19/19 [==============================] - 0s 3ms/step - loss: 0.3412 - accuracy: 0.8233 - val_loss: 0.7947 - val_accuracy: 0.7100\n",
      "Epoch 238/500\n",
      "19/19 [==============================] - 0s 3ms/step - loss: 0.3534 - accuracy: 0.8333 - val_loss: 0.6665 - val_accuracy: 0.7200\n",
      "Epoch 239/500\n",
      "19/19 [==============================] - 0s 3ms/step - loss: 0.3406 - accuracy: 0.8483 - val_loss: 0.6758 - val_accuracy: 0.7300\n",
      "Epoch 240/500\n",
      "19/19 [==============================] - 0s 3ms/step - loss: 0.3427 - accuracy: 0.8417 - val_loss: 0.6823 - val_accuracy: 0.7000\n",
      "Epoch 241/500\n",
      "19/19 [==============================] - 0s 4ms/step - loss: 0.3313 - accuracy: 0.8383 - val_loss: 0.6605 - val_accuracy: 0.7400\n",
      "Epoch 242/500\n",
      "19/19 [==============================] - 0s 4ms/step - loss: 0.3431 - accuracy: 0.8500 - val_loss: 0.6371 - val_accuracy: 0.7500\n",
      "Epoch 243/500\n",
      "19/19 [==============================] - 0s 4ms/step - loss: 0.3363 - accuracy: 0.8533 - val_loss: 0.6926 - val_accuracy: 0.7000\n",
      "Epoch 244/500\n",
      "19/19 [==============================] - 0s 4ms/step - loss: 0.3374 - accuracy: 0.8533 - val_loss: 0.7110 - val_accuracy: 0.6900\n",
      "Epoch 245/500\n",
      "19/19 [==============================] - 0s 4ms/step - loss: 0.3399 - accuracy: 0.8417 - val_loss: 0.6706 - val_accuracy: 0.7300\n",
      "Epoch 246/500\n",
      "19/19 [==============================] - 0s 5ms/step - loss: 0.3459 - accuracy: 0.8417 - val_loss: 0.7000 - val_accuracy: 0.7400\n",
      "Epoch 247/500\n",
      "19/19 [==============================] - 0s 9ms/step - loss: 0.3314 - accuracy: 0.8600 - val_loss: 0.6923 - val_accuracy: 0.7100\n",
      "Epoch 248/500\n",
      "19/19 [==============================] - 0s 4ms/step - loss: 0.3436 - accuracy: 0.8417 - val_loss: 0.7664 - val_accuracy: 0.6800\n",
      "Epoch 249/500\n",
      "19/19 [==============================] - 0s 4ms/step - loss: 0.3465 - accuracy: 0.8450 - val_loss: 0.7072 - val_accuracy: 0.7000\n",
      "Epoch 250/500\n",
      "19/19 [==============================] - 0s 4ms/step - loss: 0.3287 - accuracy: 0.8350 - val_loss: 0.7763 - val_accuracy: 0.7300\n",
      "Epoch 251/500\n",
      "19/19 [==============================] - 0s 4ms/step - loss: 0.3276 - accuracy: 0.8467 - val_loss: 0.6973 - val_accuracy: 0.7400\n",
      "Epoch 252/500\n",
      "19/19 [==============================] - 0s 4ms/step - loss: 0.3294 - accuracy: 0.8550 - val_loss: 0.7045 - val_accuracy: 0.6800\n",
      "Epoch 253/500\n",
      "19/19 [==============================] - 0s 4ms/step - loss: 0.3333 - accuracy: 0.8433 - val_loss: 0.6854 - val_accuracy: 0.7200\n",
      "Epoch 254/500\n",
      "19/19 [==============================] - 0s 4ms/step - loss: 0.3259 - accuracy: 0.8617 - val_loss: 0.7922 - val_accuracy: 0.6900\n",
      "Epoch 255/500\n",
      "19/19 [==============================] - 0s 4ms/step - loss: 0.3367 - accuracy: 0.8500 - val_loss: 0.7046 - val_accuracy: 0.7200\n",
      "Epoch 256/500\n",
      "19/19 [==============================] - 0s 4ms/step - loss: 0.3155 - accuracy: 0.8550 - val_loss: 0.7361 - val_accuracy: 0.6700\n",
      "Epoch 257/500\n",
      "19/19 [==============================] - 0s 4ms/step - loss: 0.3210 - accuracy: 0.8533 - val_loss: 0.7366 - val_accuracy: 0.6900\n",
      "Epoch 258/500\n",
      "19/19 [==============================] - 0s 5ms/step - loss: 0.3159 - accuracy: 0.8533 - val_loss: 0.7386 - val_accuracy: 0.6600\n",
      "Epoch 259/500\n",
      "19/19 [==============================] - 0s 4ms/step - loss: 0.3296 - accuracy: 0.8567 - val_loss: 0.7056 - val_accuracy: 0.6700\n",
      "Epoch 260/500\n",
      "19/19 [==============================] - 0s 4ms/step - loss: 0.3237 - accuracy: 0.8400 - val_loss: 0.7083 - val_accuracy: 0.7400\n",
      "Epoch 261/500\n",
      "19/19 [==============================] - 0s 4ms/step - loss: 0.3172 - accuracy: 0.8717 - val_loss: 0.7045 - val_accuracy: 0.7400\n",
      "Epoch 262/500\n",
      "19/19 [==============================] - 0s 3ms/step - loss: 0.3160 - accuracy: 0.8550 - val_loss: 0.7277 - val_accuracy: 0.7100\n",
      "Epoch 263/500\n",
      "19/19 [==============================] - 0s 4ms/step - loss: 0.3077 - accuracy: 0.8617 - val_loss: 0.7620 - val_accuracy: 0.6700\n",
      "Epoch 264/500\n",
      "19/19 [==============================] - 0s 4ms/step - loss: 0.3236 - accuracy: 0.8583 - val_loss: 0.7495 - val_accuracy: 0.7000\n",
      "Epoch 265/500\n",
      "19/19 [==============================] - 0s 6ms/step - loss: 0.3269 - accuracy: 0.8617 - val_loss: 0.7332 - val_accuracy: 0.7400\n",
      "Epoch 266/500\n",
      "19/19 [==============================] - 0s 5ms/step - loss: 0.3196 - accuracy: 0.8583 - val_loss: 0.7947 - val_accuracy: 0.7100\n",
      "Epoch 267/500\n",
      "19/19 [==============================] - 0s 4ms/step - loss: 0.3450 - accuracy: 0.8500 - val_loss: 0.7187 - val_accuracy: 0.7300\n",
      "Epoch 268/500\n",
      "19/19 [==============================] - 0s 6ms/step - loss: 0.3175 - accuracy: 0.8633 - val_loss: 0.8146 - val_accuracy: 0.7100\n",
      "Epoch 269/500\n",
      "19/19 [==============================] - 0s 5ms/step - loss: 0.3145 - accuracy: 0.8633 - val_loss: 0.7484 - val_accuracy: 0.7400\n",
      "Epoch 270/500\n",
      "19/19 [==============================] - 0s 5ms/step - loss: 0.3160 - accuracy: 0.8517 - val_loss: 0.8055 - val_accuracy: 0.7500\n",
      "Epoch 271/500\n",
      "19/19 [==============================] - 0s 5ms/step - loss: 0.3074 - accuracy: 0.8583 - val_loss: 0.8068 - val_accuracy: 0.7000\n",
      "Epoch 272/500\n",
      "19/19 [==============================] - 0s 8ms/step - loss: 0.3129 - accuracy: 0.8533 - val_loss: 0.8666 - val_accuracy: 0.6600\n",
      "Epoch 273/500\n",
      "19/19 [==============================] - 0s 5ms/step - loss: 0.3372 - accuracy: 0.8500 - val_loss: 0.7469 - val_accuracy: 0.7200\n",
      "Epoch 274/500\n",
      "19/19 [==============================] - 0s 5ms/step - loss: 0.3160 - accuracy: 0.8500 - val_loss: 0.7472 - val_accuracy: 0.7400\n",
      "Epoch 275/500\n",
      "19/19 [==============================] - 0s 5ms/step - loss: 0.3209 - accuracy: 0.8567 - val_loss: 0.6831 - val_accuracy: 0.7600\n",
      "Epoch 276/500\n",
      "19/19 [==============================] - 0s 6ms/step - loss: 0.3211 - accuracy: 0.8600 - val_loss: 0.8021 - val_accuracy: 0.7100\n",
      "Epoch 277/500\n",
      "19/19 [==============================] - 0s 4ms/step - loss: 0.3046 - accuracy: 0.8533 - val_loss: 0.7400 - val_accuracy: 0.7600\n",
      "Epoch 278/500\n",
      "19/19 [==============================] - 0s 4ms/step - loss: 0.2995 - accuracy: 0.8633 - val_loss: 0.7472 - val_accuracy: 0.7400\n",
      "Epoch 279/500\n",
      "19/19 [==============================] - 0s 4ms/step - loss: 0.3012 - accuracy: 0.8617 - val_loss: 0.7764 - val_accuracy: 0.6700\n",
      "Epoch 280/500\n",
      "19/19 [==============================] - 0s 4ms/step - loss: 0.3012 - accuracy: 0.8650 - val_loss: 0.7622 - val_accuracy: 0.7500\n",
      "Epoch 281/500\n",
      "19/19 [==============================] - 0s 4ms/step - loss: 0.2906 - accuracy: 0.8850 - val_loss: 0.8209 - val_accuracy: 0.7000\n",
      "Epoch 282/500\n",
      "19/19 [==============================] - 0s 4ms/step - loss: 0.3129 - accuracy: 0.8683 - val_loss: 0.7422 - val_accuracy: 0.7200\n",
      "Epoch 283/500\n",
      "19/19 [==============================] - 0s 5ms/step - loss: 0.3356 - accuracy: 0.8367 - val_loss: 0.9442 - val_accuracy: 0.6100\n",
      "Epoch 284/500\n",
      "19/19 [==============================] - 0s 5ms/step - loss: 0.3055 - accuracy: 0.8633 - val_loss: 0.7721 - val_accuracy: 0.7300\n",
      "Epoch 285/500\n",
      "19/19 [==============================] - 0s 5ms/step - loss: 0.3003 - accuracy: 0.8600 - val_loss: 0.7891 - val_accuracy: 0.7300\n",
      "Epoch 286/500\n",
      "19/19 [==============================] - 0s 5ms/step - loss: 0.3055 - accuracy: 0.8717 - val_loss: 0.8195 - val_accuracy: 0.7600\n",
      "Epoch 287/500\n",
      "19/19 [==============================] - 0s 6ms/step - loss: 0.3045 - accuracy: 0.8683 - val_loss: 0.7516 - val_accuracy: 0.7500\n",
      "Epoch 288/500\n",
      "19/19 [==============================] - 0s 6ms/step - loss: 0.2977 - accuracy: 0.8683 - val_loss: 0.7700 - val_accuracy: 0.7400\n",
      "Epoch 289/500\n",
      "19/19 [==============================] - 0s 4ms/step - loss: 0.2850 - accuracy: 0.8717 - val_loss: 0.7719 - val_accuracy: 0.7200\n",
      "Epoch 290/500\n",
      "19/19 [==============================] - 0s 4ms/step - loss: 0.3003 - accuracy: 0.8650 - val_loss: 0.8032 - val_accuracy: 0.7000\n",
      "Epoch 291/500\n",
      "19/19 [==============================] - 0s 4ms/step - loss: 0.2902 - accuracy: 0.8650 - val_loss: 0.8526 - val_accuracy: 0.6500\n",
      "Epoch 292/500\n",
      "19/19 [==============================] - 0s 4ms/step - loss: 0.3040 - accuracy: 0.8617 - val_loss: 0.7559 - val_accuracy: 0.6900\n",
      "Epoch 293/500\n",
      "19/19 [==============================] - 0s 4ms/step - loss: 0.3058 - accuracy: 0.8667 - val_loss: 0.8363 - val_accuracy: 0.7300\n",
      "Epoch 294/500\n",
      "19/19 [==============================] - 0s 5ms/step - loss: 0.2905 - accuracy: 0.8817 - val_loss: 0.7370 - val_accuracy: 0.7200\n",
      "Epoch 295/500\n",
      "19/19 [==============================] - 0s 4ms/step - loss: 0.2931 - accuracy: 0.8633 - val_loss: 0.8168 - val_accuracy: 0.7400\n",
      "Epoch 296/500\n",
      "19/19 [==============================] - 0s 7ms/step - loss: 0.2954 - accuracy: 0.8533 - val_loss: 0.7970 - val_accuracy: 0.7400\n",
      "Epoch 297/500\n",
      "19/19 [==============================] - 0s 5ms/step - loss: 0.3025 - accuracy: 0.8667 - val_loss: 0.7102 - val_accuracy: 0.7600\n",
      "Epoch 298/500\n",
      "19/19 [==============================] - 0s 5ms/step - loss: 0.2773 - accuracy: 0.8750 - val_loss: 0.8055 - val_accuracy: 0.7000\n",
      "Epoch 299/500\n",
      "19/19 [==============================] - 0s 4ms/step - loss: 0.2864 - accuracy: 0.8683 - val_loss: 0.7580 - val_accuracy: 0.7700\n",
      "Epoch 300/500\n",
      "19/19 [==============================] - 0s 4ms/step - loss: 0.2805 - accuracy: 0.8783 - val_loss: 0.7917 - val_accuracy: 0.6700\n",
      "Epoch 301/500\n",
      "19/19 [==============================] - 0s 4ms/step - loss: 0.2698 - accuracy: 0.8750 - val_loss: 0.8402 - val_accuracy: 0.7600\n",
      "Epoch 302/500\n",
      "19/19 [==============================] - 0s 4ms/step - loss: 0.2935 - accuracy: 0.8717 - val_loss: 0.7622 - val_accuracy: 0.7400\n",
      "Epoch 303/500\n",
      "19/19 [==============================] - 0s 3ms/step - loss: 0.2806 - accuracy: 0.8683 - val_loss: 0.8586 - val_accuracy: 0.7100\n",
      "Epoch 304/500\n",
      "19/19 [==============================] - 0s 3ms/step - loss: 0.2872 - accuracy: 0.8733 - val_loss: 0.7106 - val_accuracy: 0.7300\n",
      "Epoch 305/500\n",
      "19/19 [==============================] - 0s 3ms/step - loss: 0.2934 - accuracy: 0.8650 - val_loss: 0.8045 - val_accuracy: 0.7300\n",
      "Epoch 306/500\n",
      "19/19 [==============================] - 0s 3ms/step - loss: 0.2831 - accuracy: 0.8783 - val_loss: 0.8316 - val_accuracy: 0.7300\n",
      "Epoch 307/500\n",
      "19/19 [==============================] - 0s 4ms/step - loss: 0.2694 - accuracy: 0.8850 - val_loss: 0.8075 - val_accuracy: 0.7400\n",
      "Epoch 308/500\n",
      "19/19 [==============================] - 0s 4ms/step - loss: 0.2783 - accuracy: 0.8767 - val_loss: 0.7876 - val_accuracy: 0.7500\n",
      "Epoch 309/500\n",
      "19/19 [==============================] - 0s 6ms/step - loss: 0.2813 - accuracy: 0.8850 - val_loss: 0.8170 - val_accuracy: 0.7000\n",
      "Epoch 310/500\n",
      "19/19 [==============================] - 0s 5ms/step - loss: 0.2753 - accuracy: 0.8883 - val_loss: 0.8181 - val_accuracy: 0.6800\n",
      "Epoch 311/500\n",
      "19/19 [==============================] - 0s 5ms/step - loss: 0.2777 - accuracy: 0.8683 - val_loss: 0.8750 - val_accuracy: 0.6600\n",
      "Epoch 312/500\n",
      "19/19 [==============================] - 0s 5ms/step - loss: 0.2692 - accuracy: 0.8750 - val_loss: 0.8535 - val_accuracy: 0.7000\n",
      "Epoch 313/500\n",
      "19/19 [==============================] - 0s 4ms/step - loss: 0.2740 - accuracy: 0.8733 - val_loss: 0.8299 - val_accuracy: 0.7300\n",
      "Epoch 314/500\n",
      "19/19 [==============================] - 0s 5ms/step - loss: 0.2609 - accuracy: 0.8817 - val_loss: 0.8624 - val_accuracy: 0.7400\n",
      "Epoch 315/500\n",
      "19/19 [==============================] - 0s 8ms/step - loss: 0.2638 - accuracy: 0.8833 - val_loss: 0.8812 - val_accuracy: 0.7100\n",
      "Epoch 316/500\n",
      "19/19 [==============================] - 0s 7ms/step - loss: 0.2625 - accuracy: 0.8783 - val_loss: 0.7863 - val_accuracy: 0.7700\n",
      "Epoch 317/500\n",
      "19/19 [==============================] - 0s 12ms/step - loss: 0.2634 - accuracy: 0.8850 - val_loss: 0.8210 - val_accuracy: 0.7000\n",
      "Epoch 318/500\n",
      "19/19 [==============================] - 0s 8ms/step - loss: 0.2555 - accuracy: 0.8800 - val_loss: 0.8829 - val_accuracy: 0.6500\n",
      "Epoch 319/500\n",
      "19/19 [==============================] - 0s 10ms/step - loss: 0.2736 - accuracy: 0.8800 - val_loss: 0.8224 - val_accuracy: 0.7200\n",
      "Epoch 320/500\n",
      "19/19 [==============================] - 0s 7ms/step - loss: 0.2679 - accuracy: 0.8800 - val_loss: 0.8615 - val_accuracy: 0.7400\n",
      "Epoch 321/500\n",
      "19/19 [==============================] - 0s 5ms/step - loss: 0.2599 - accuracy: 0.9033 - val_loss: 0.8840 - val_accuracy: 0.7300\n",
      "Epoch 322/500\n",
      "19/19 [==============================] - 0s 5ms/step - loss: 0.2697 - accuracy: 0.8850 - val_loss: 0.9222 - val_accuracy: 0.6800\n",
      "Epoch 323/500\n",
      "19/19 [==============================] - 0s 5ms/step - loss: 0.2555 - accuracy: 0.8800 - val_loss: 0.8441 - val_accuracy: 0.7300\n",
      "Epoch 324/500\n",
      "19/19 [==============================] - 0s 4ms/step - loss: 0.2631 - accuracy: 0.8950 - val_loss: 0.8402 - val_accuracy: 0.7300\n",
      "Epoch 325/500\n",
      "19/19 [==============================] - 0s 4ms/step - loss: 0.2531 - accuracy: 0.8850 - val_loss: 0.8515 - val_accuracy: 0.7600\n",
      "Epoch 326/500\n",
      "19/19 [==============================] - 0s 5ms/step - loss: 0.2565 - accuracy: 0.8917 - val_loss: 0.9131 - val_accuracy: 0.6600\n",
      "Epoch 327/500\n",
      "19/19 [==============================] - 0s 4ms/step - loss: 0.2785 - accuracy: 0.8750 - val_loss: 0.8819 - val_accuracy: 0.7200\n",
      "Epoch 328/500\n",
      "19/19 [==============================] - 0s 4ms/step - loss: 0.2572 - accuracy: 0.8967 - val_loss: 0.9112 - val_accuracy: 0.7300\n",
      "Epoch 329/500\n",
      "19/19 [==============================] - 0s 8ms/step - loss: 0.2773 - accuracy: 0.8800 - val_loss: 0.8702 - val_accuracy: 0.7300\n",
      "Epoch 330/500\n",
      "19/19 [==============================] - 0s 5ms/step - loss: 0.2825 - accuracy: 0.8733 - val_loss: 0.8394 - val_accuracy: 0.7200\n",
      "Epoch 331/500\n",
      "19/19 [==============================] - 0s 4ms/step - loss: 0.2649 - accuracy: 0.8917 - val_loss: 1.0191 - val_accuracy: 0.7300\n",
      "Epoch 332/500\n",
      "19/19 [==============================] - 0s 5ms/step - loss: 0.2807 - accuracy: 0.8733 - val_loss: 0.8837 - val_accuracy: 0.7100\n",
      "Epoch 333/500\n",
      "19/19 [==============================] - 0s 7ms/step - loss: 0.2508 - accuracy: 0.8967 - val_loss: 0.9799 - val_accuracy: 0.6800\n",
      "Epoch 334/500\n",
      "19/19 [==============================] - 0s 5ms/step - loss: 0.2490 - accuracy: 0.8967 - val_loss: 0.8792 - val_accuracy: 0.7600\n",
      "Epoch 335/500\n",
      "19/19 [==============================] - 0s 5ms/step - loss: 0.2679 - accuracy: 0.8883 - val_loss: 0.8273 - val_accuracy: 0.7200\n",
      "Epoch 336/500\n",
      "19/19 [==============================] - 0s 5ms/step - loss: 0.2523 - accuracy: 0.8950 - val_loss: 0.9530 - val_accuracy: 0.7300\n",
      "Epoch 337/500\n",
      "19/19 [==============================] - 0s 5ms/step - loss: 0.2542 - accuracy: 0.8983 - val_loss: 0.9213 - val_accuracy: 0.7600\n",
      "Epoch 338/500\n",
      "19/19 [==============================] - 0s 6ms/step - loss: 0.2559 - accuracy: 0.8917 - val_loss: 1.0058 - val_accuracy: 0.7300\n",
      "Epoch 339/500\n",
      "19/19 [==============================] - 0s 6ms/step - loss: 0.2613 - accuracy: 0.8850 - val_loss: 0.9468 - val_accuracy: 0.7300\n",
      "Epoch 340/500\n",
      "19/19 [==============================] - 0s 5ms/step - loss: 0.2524 - accuracy: 0.8800 - val_loss: 0.8190 - val_accuracy: 0.7300\n",
      "Epoch 341/500\n",
      "19/19 [==============================] - 0s 5ms/step - loss: 0.2420 - accuracy: 0.8967 - val_loss: 0.8994 - val_accuracy: 0.6700\n",
      "Epoch 342/500\n",
      "19/19 [==============================] - 0s 5ms/step - loss: 0.2357 - accuracy: 0.9033 - val_loss: 0.9050 - val_accuracy: 0.6800\n",
      "Epoch 343/500\n",
      "19/19 [==============================] - 0s 6ms/step - loss: 0.2502 - accuracy: 0.8933 - val_loss: 0.8495 - val_accuracy: 0.7600\n",
      "Epoch 344/500\n",
      "19/19 [==============================] - 0s 6ms/step - loss: 0.2348 - accuracy: 0.8900 - val_loss: 0.9019 - val_accuracy: 0.7400\n",
      "Epoch 345/500\n",
      "19/19 [==============================] - 0s 6ms/step - loss: 0.2399 - accuracy: 0.9050 - val_loss: 0.9590 - val_accuracy: 0.6600\n",
      "Epoch 346/500\n",
      "19/19 [==============================] - 0s 5ms/step - loss: 0.2502 - accuracy: 0.8967 - val_loss: 0.9426 - val_accuracy: 0.7300\n",
      "Epoch 347/500\n",
      "19/19 [==============================] - 0s 5ms/step - loss: 0.2637 - accuracy: 0.9017 - val_loss: 1.0746 - val_accuracy: 0.7500\n",
      "Epoch 348/500\n",
      "19/19 [==============================] - 0s 5ms/step - loss: 0.2582 - accuracy: 0.8817 - val_loss: 0.9232 - val_accuracy: 0.7000\n",
      "Epoch 349/500\n",
      "19/19 [==============================] - 0s 6ms/step - loss: 0.2377 - accuracy: 0.8900 - val_loss: 0.9720 - val_accuracy: 0.6900\n",
      "Epoch 350/500\n",
      "19/19 [==============================] - 0s 6ms/step - loss: 0.2411 - accuracy: 0.8850 - val_loss: 0.9410 - val_accuracy: 0.6400\n",
      "Epoch 351/500\n",
      "19/19 [==============================] - 0s 7ms/step - loss: 0.2421 - accuracy: 0.8883 - val_loss: 0.9073 - val_accuracy: 0.6600\n",
      "Epoch 352/500\n",
      "19/19 [==============================] - 0s 14ms/step - loss: 0.2448 - accuracy: 0.9017 - val_loss: 0.9085 - val_accuracy: 0.7300\n",
      "Epoch 353/500\n",
      "19/19 [==============================] - 0s 12ms/step - loss: 0.2410 - accuracy: 0.9000 - val_loss: 0.8675 - val_accuracy: 0.7400\n",
      "Epoch 354/500\n",
      "19/19 [==============================] - 0s 7ms/step - loss: 0.2314 - accuracy: 0.9017 - val_loss: 0.9268 - val_accuracy: 0.7100\n",
      "Epoch 355/500\n",
      "19/19 [==============================] - 0s 9ms/step - loss: 0.2332 - accuracy: 0.8983 - val_loss: 0.9765 - val_accuracy: 0.7000\n",
      "Epoch 356/500\n",
      "19/19 [==============================] - 0s 7ms/step - loss: 0.2320 - accuracy: 0.9133 - val_loss: 0.9696 - val_accuracy: 0.7000\n",
      "Epoch 357/500\n",
      "19/19 [==============================] - 0s 8ms/step - loss: 0.2413 - accuracy: 0.8867 - val_loss: 1.1008 - val_accuracy: 0.7500\n",
      "Epoch 358/500\n",
      "19/19 [==============================] - 0s 7ms/step - loss: 0.2512 - accuracy: 0.9117 - val_loss: 0.9791 - val_accuracy: 0.7400\n",
      "Epoch 359/500\n",
      "19/19 [==============================] - 0s 9ms/step - loss: 0.2612 - accuracy: 0.8833 - val_loss: 0.9056 - val_accuracy: 0.7300\n",
      "Epoch 360/500\n",
      "19/19 [==============================] - 0s 7ms/step - loss: 0.2604 - accuracy: 0.8983 - val_loss: 1.0657 - val_accuracy: 0.7200\n",
      "Epoch 361/500\n",
      "19/19 [==============================] - 0s 9ms/step - loss: 0.2319 - accuracy: 0.9083 - val_loss: 0.9868 - val_accuracy: 0.6400\n",
      "Epoch 362/500\n",
      "19/19 [==============================] - 0s 7ms/step - loss: 0.2419 - accuracy: 0.8950 - val_loss: 1.0488 - val_accuracy: 0.7700\n",
      "Epoch 363/500\n",
      "19/19 [==============================] - 0s 8ms/step - loss: 0.2216 - accuracy: 0.9133 - val_loss: 1.1655 - val_accuracy: 0.6300\n",
      "Epoch 364/500\n",
      "19/19 [==============================] - 0s 7ms/step - loss: 0.2290 - accuracy: 0.8983 - val_loss: 0.9228 - val_accuracy: 0.7300\n",
      "Epoch 365/500\n",
      "19/19 [==============================] - 0s 11ms/step - loss: 0.2244 - accuracy: 0.9100 - val_loss: 0.9897 - val_accuracy: 0.6900\n",
      "Epoch 366/500\n",
      "19/19 [==============================] - 0s 9ms/step - loss: 0.2196 - accuracy: 0.9133 - val_loss: 0.9886 - val_accuracy: 0.7500\n",
      "Epoch 367/500\n",
      "19/19 [==============================] - 0s 8ms/step - loss: 0.2233 - accuracy: 0.9033 - val_loss: 1.0005 - val_accuracy: 0.6900\n",
      "Epoch 368/500\n",
      "19/19 [==============================] - 0s 11ms/step - loss: 0.2276 - accuracy: 0.9100 - val_loss: 1.0182 - val_accuracy: 0.7600\n",
      "Epoch 369/500\n",
      "19/19 [==============================] - 0s 8ms/step - loss: 0.2184 - accuracy: 0.9050 - val_loss: 1.0032 - val_accuracy: 0.7300\n",
      "Epoch 370/500\n",
      "19/19 [==============================] - 0s 9ms/step - loss: 0.2230 - accuracy: 0.9100 - val_loss: 1.0349 - val_accuracy: 0.7300\n",
      "Epoch 371/500\n",
      "19/19 [==============================] - 0s 9ms/step - loss: 0.2265 - accuracy: 0.9083 - val_loss: 1.1386 - val_accuracy: 0.6700\n",
      "Epoch 372/500\n",
      "19/19 [==============================] - 0s 10ms/step - loss: 0.2177 - accuracy: 0.9133 - val_loss: 0.9963 - val_accuracy: 0.7000\n",
      "Epoch 373/500\n",
      "19/19 [==============================] - 0s 9ms/step - loss: 0.2166 - accuracy: 0.9050 - val_loss: 1.0392 - val_accuracy: 0.7400\n",
      "Epoch 374/500\n",
      "19/19 [==============================] - 0s 14ms/step - loss: 0.2188 - accuracy: 0.9150 - val_loss: 1.1172 - val_accuracy: 0.6700\n",
      "Epoch 375/500\n",
      "19/19 [==============================] - 0s 11ms/step - loss: 0.2253 - accuracy: 0.9050 - val_loss: 1.1404 - val_accuracy: 0.6600\n",
      "Epoch 376/500\n",
      "19/19 [==============================] - 0s 8ms/step - loss: 0.2224 - accuracy: 0.9067 - val_loss: 0.9896 - val_accuracy: 0.7400\n",
      "Epoch 377/500\n",
      "19/19 [==============================] - 0s 10ms/step - loss: 0.2113 - accuracy: 0.9133 - val_loss: 1.0130 - val_accuracy: 0.6900\n",
      "Epoch 378/500\n",
      "19/19 [==============================] - 0s 8ms/step - loss: 0.2250 - accuracy: 0.9033 - val_loss: 1.0926 - val_accuracy: 0.7000\n",
      "Epoch 379/500\n",
      "19/19 [==============================] - 0s 11ms/step - loss: 0.2202 - accuracy: 0.9117 - val_loss: 1.1095 - val_accuracy: 0.7000\n",
      "Epoch 380/500\n",
      "19/19 [==============================] - 0s 10ms/step - loss: 0.2504 - accuracy: 0.8900 - val_loss: 1.0405 - val_accuracy: 0.7600\n",
      "Epoch 381/500\n",
      "19/19 [==============================] - 0s 8ms/step - loss: 0.2201 - accuracy: 0.9000 - val_loss: 1.0840 - val_accuracy: 0.6400\n",
      "Epoch 382/500\n",
      "19/19 [==============================] - 0s 10ms/step - loss: 0.2111 - accuracy: 0.9117 - val_loss: 1.1321 - val_accuracy: 0.6800\n",
      "Epoch 383/500\n",
      "19/19 [==============================] - 0s 10ms/step - loss: 0.2575 - accuracy: 0.8917 - val_loss: 1.1004 - val_accuracy: 0.7200\n",
      "Epoch 384/500\n",
      "19/19 [==============================] - 0s 9ms/step - loss: 0.2351 - accuracy: 0.9067 - val_loss: 1.0374 - val_accuracy: 0.7600\n",
      "Epoch 385/500\n",
      "19/19 [==============================] - 0s 7ms/step - loss: 0.2149 - accuracy: 0.9067 - val_loss: 1.1783 - val_accuracy: 0.6700\n",
      "Epoch 386/500\n",
      "19/19 [==============================] - 0s 9ms/step - loss: 0.2073 - accuracy: 0.9217 - val_loss: 1.1165 - val_accuracy: 0.7200\n",
      "Epoch 387/500\n",
      "19/19 [==============================] - 0s 15ms/step - loss: 0.2086 - accuracy: 0.9100 - val_loss: 1.1869 - val_accuracy: 0.7100\n",
      "Epoch 388/500\n",
      "19/19 [==============================] - 0s 9ms/step - loss: 0.2037 - accuracy: 0.9167 - val_loss: 1.1162 - val_accuracy: 0.6700\n",
      "Epoch 389/500\n",
      "19/19 [==============================] - 0s 9ms/step - loss: 0.2029 - accuracy: 0.9133 - val_loss: 1.1710 - val_accuracy: 0.6500\n",
      "Epoch 390/500\n",
      "19/19 [==============================] - 0s 8ms/step - loss: 0.2015 - accuracy: 0.9283 - val_loss: 1.1596 - val_accuracy: 0.7300\n",
      "Epoch 391/500\n",
      "19/19 [==============================] - 0s 12ms/step - loss: 0.2172 - accuracy: 0.9017 - val_loss: 1.1274 - val_accuracy: 0.7500\n",
      "Epoch 392/500\n",
      "19/19 [==============================] - 0s 8ms/step - loss: 0.1989 - accuracy: 0.9250 - val_loss: 1.1513 - val_accuracy: 0.7200\n",
      "Epoch 393/500\n",
      "19/19 [==============================] - 0s 8ms/step - loss: 0.1994 - accuracy: 0.9167 - val_loss: 1.1556 - val_accuracy: 0.6600\n",
      "Epoch 394/500\n",
      "19/19 [==============================] - 0s 12ms/step - loss: 0.2033 - accuracy: 0.9150 - val_loss: 1.2717 - val_accuracy: 0.6100\n",
      "Epoch 395/500\n",
      "19/19 [==============================] - 0s 12ms/step - loss: 0.1954 - accuracy: 0.9167 - val_loss: 1.1846 - val_accuracy: 0.7100\n",
      "Epoch 396/500\n",
      "19/19 [==============================] - 0s 8ms/step - loss: 0.1920 - accuracy: 0.9267 - val_loss: 1.1782 - val_accuracy: 0.6800\n",
      "Epoch 397/500\n",
      "19/19 [==============================] - 0s 8ms/step - loss: 0.2092 - accuracy: 0.9017 - val_loss: 1.2535 - val_accuracy: 0.6800\n",
      "Epoch 398/500\n",
      "19/19 [==============================] - 0s 10ms/step - loss: 0.2074 - accuracy: 0.9183 - val_loss: 1.1659 - val_accuracy: 0.7000\n",
      "Epoch 399/500\n",
      "19/19 [==============================] - 0s 8ms/step - loss: 0.1856 - accuracy: 0.9267 - val_loss: 1.1753 - val_accuracy: 0.6900\n",
      "Epoch 400/500\n",
      "19/19 [==============================] - 0s 7ms/step - loss: 0.1955 - accuracy: 0.9183 - val_loss: 1.1472 - val_accuracy: 0.7400\n",
      "Epoch 401/500\n",
      "19/19 [==============================] - 0s 8ms/step - loss: 0.1983 - accuracy: 0.9200 - val_loss: 1.1624 - val_accuracy: 0.7300\n",
      "Epoch 402/500\n",
      "19/19 [==============================] - 0s 9ms/step - loss: 0.1959 - accuracy: 0.9167 - val_loss: 1.2650 - val_accuracy: 0.6900\n",
      "Epoch 403/500\n",
      "19/19 [==============================] - 0s 12ms/step - loss: 0.2015 - accuracy: 0.9233 - val_loss: 1.2030 - val_accuracy: 0.7400\n",
      "Epoch 404/500\n",
      "19/19 [==============================] - 0s 8ms/step - loss: 0.1939 - accuracy: 0.9267 - val_loss: 1.1700 - val_accuracy: 0.7200\n",
      "Epoch 405/500\n",
      "19/19 [==============================] - 0s 7ms/step - loss: 0.1831 - accuracy: 0.9300 - val_loss: 1.3112 - val_accuracy: 0.6500\n",
      "Epoch 406/500\n",
      "19/19 [==============================] - 0s 7ms/step - loss: 0.1911 - accuracy: 0.9217 - val_loss: 1.2558 - val_accuracy: 0.7300\n",
      "Epoch 407/500\n",
      "19/19 [==============================] - 0s 8ms/step - loss: 0.2022 - accuracy: 0.9267 - val_loss: 1.1645 - val_accuracy: 0.6800\n",
      "Epoch 408/500\n",
      "19/19 [==============================] - 0s 8ms/step - loss: 0.1856 - accuracy: 0.9267 - val_loss: 1.2799 - val_accuracy: 0.7300\n",
      "Epoch 409/500\n",
      "19/19 [==============================] - 0s 7ms/step - loss: 0.1980 - accuracy: 0.9083 - val_loss: 1.4127 - val_accuracy: 0.6900\n",
      "Epoch 410/500\n",
      "19/19 [==============================] - 0s 7ms/step - loss: 0.2143 - accuracy: 0.9133 - val_loss: 1.1836 - val_accuracy: 0.7300\n",
      "Epoch 411/500\n",
      "19/19 [==============================] - 0s 6ms/step - loss: 0.2117 - accuracy: 0.9150 - val_loss: 1.2748 - val_accuracy: 0.6700\n",
      "Epoch 412/500\n",
      "19/19 [==============================] - 0s 7ms/step - loss: 0.1800 - accuracy: 0.9300 - val_loss: 1.2038 - val_accuracy: 0.7100\n",
      "Epoch 413/500\n",
      "19/19 [==============================] - 0s 7ms/step - loss: 0.1827 - accuracy: 0.9167 - val_loss: 1.2162 - val_accuracy: 0.7500\n",
      "Epoch 414/500\n",
      "19/19 [==============================] - 0s 8ms/step - loss: 0.1852 - accuracy: 0.9233 - val_loss: 1.2651 - val_accuracy: 0.6900\n",
      "Epoch 415/500\n",
      "19/19 [==============================] - 0s 7ms/step - loss: 0.1839 - accuracy: 0.9250 - val_loss: 1.2062 - val_accuracy: 0.7400\n",
      "Epoch 416/500\n",
      "19/19 [==============================] - 0s 6ms/step - loss: 0.1872 - accuracy: 0.9283 - val_loss: 1.3071 - val_accuracy: 0.7200\n",
      "Epoch 417/500\n",
      "19/19 [==============================] - 0s 8ms/step - loss: 0.1898 - accuracy: 0.9267 - val_loss: 1.2435 - val_accuracy: 0.6600\n",
      "Epoch 418/500\n",
      "19/19 [==============================] - 0s 7ms/step - loss: 0.1884 - accuracy: 0.9200 - val_loss: 1.3642 - val_accuracy: 0.7200\n",
      "Epoch 419/500\n",
      "19/19 [==============================] - 0s 7ms/step - loss: 0.1937 - accuracy: 0.9217 - val_loss: 1.3093 - val_accuracy: 0.6800\n",
      "Epoch 420/500\n",
      "19/19 [==============================] - 0s 7ms/step - loss: 0.1921 - accuracy: 0.9300 - val_loss: 1.3825 - val_accuracy: 0.6900\n",
      "Epoch 421/500\n",
      "19/19 [==============================] - 0s 6ms/step - loss: 0.1927 - accuracy: 0.9200 - val_loss: 1.2904 - val_accuracy: 0.7200\n",
      "Epoch 422/500\n",
      "19/19 [==============================] - 0s 5ms/step - loss: 0.1831 - accuracy: 0.9250 - val_loss: 1.3529 - val_accuracy: 0.7300\n",
      "Epoch 423/500\n",
      "19/19 [==============================] - 0s 5ms/step - loss: 0.1810 - accuracy: 0.9267 - val_loss: 1.4306 - val_accuracy: 0.6900\n",
      "Epoch 424/500\n",
      "19/19 [==============================] - 0s 6ms/step - loss: 0.1979 - accuracy: 0.9217 - val_loss: 1.4013 - val_accuracy: 0.7400\n",
      "Epoch 425/500\n",
      "19/19 [==============================] - 0s 7ms/step - loss: 0.1727 - accuracy: 0.9317 - val_loss: 1.2728 - val_accuracy: 0.7200\n",
      "Epoch 426/500\n",
      "19/19 [==============================] - 0s 6ms/step - loss: 0.1771 - accuracy: 0.9217 - val_loss: 1.4219 - val_accuracy: 0.6500\n",
      "Epoch 427/500\n",
      "19/19 [==============================] - 0s 5ms/step - loss: 0.1852 - accuracy: 0.9217 - val_loss: 1.3579 - val_accuracy: 0.7200\n",
      "Epoch 428/500\n",
      "19/19 [==============================] - 0s 5ms/step - loss: 0.1853 - accuracy: 0.9283 - val_loss: 1.2098 - val_accuracy: 0.7200\n",
      "Epoch 429/500\n",
      "19/19 [==============================] - 0s 7ms/step - loss: 0.1792 - accuracy: 0.9267 - val_loss: 1.4122 - val_accuracy: 0.6900\n",
      "Epoch 430/500\n",
      "19/19 [==============================] - 0s 7ms/step - loss: 0.1776 - accuracy: 0.9233 - val_loss: 1.3823 - val_accuracy: 0.7200\n",
      "Epoch 431/500\n",
      "19/19 [==============================] - 0s 6ms/step - loss: 0.1652 - accuracy: 0.9350 - val_loss: 1.3271 - val_accuracy: 0.7000\n",
      "Epoch 432/500\n",
      "19/19 [==============================] - 0s 6ms/step - loss: 0.1700 - accuracy: 0.9217 - val_loss: 1.3596 - val_accuracy: 0.7200\n",
      "Epoch 433/500\n",
      "19/19 [==============================] - 0s 6ms/step - loss: 0.1714 - accuracy: 0.9350 - val_loss: 1.5001 - val_accuracy: 0.7100\n",
      "Epoch 434/500\n",
      "19/19 [==============================] - 0s 7ms/step - loss: 0.1725 - accuracy: 0.9350 - val_loss: 1.4946 - val_accuracy: 0.7000\n",
      "Epoch 435/500\n",
      "19/19 [==============================] - 0s 6ms/step - loss: 0.1655 - accuracy: 0.9367 - val_loss: 1.3727 - val_accuracy: 0.7200\n",
      "Epoch 436/500\n",
      "19/19 [==============================] - 0s 8ms/step - loss: 0.1700 - accuracy: 0.9283 - val_loss: 1.2010 - val_accuracy: 0.7600\n",
      "Epoch 437/500\n",
      "19/19 [==============================] - 0s 6ms/step - loss: 0.1626 - accuracy: 0.9333 - val_loss: 1.3916 - val_accuracy: 0.7200\n",
      "Epoch 438/500\n",
      "19/19 [==============================] - 0s 5ms/step - loss: 0.1711 - accuracy: 0.9333 - val_loss: 1.4850 - val_accuracy: 0.7000\n",
      "Epoch 439/500\n",
      "19/19 [==============================] - 0s 5ms/step - loss: 0.1610 - accuracy: 0.9250 - val_loss: 1.4364 - val_accuracy: 0.7400\n",
      "Epoch 440/500\n",
      "19/19 [==============================] - 0s 4ms/step - loss: 0.2037 - accuracy: 0.9250 - val_loss: 1.4039 - val_accuracy: 0.6900\n",
      "Epoch 441/500\n",
      "19/19 [==============================] - 0s 4ms/step - loss: 0.1733 - accuracy: 0.9367 - val_loss: 1.4364 - val_accuracy: 0.7200\n",
      "Epoch 442/500\n",
      "19/19 [==============================] - 0s 4ms/step - loss: 0.1598 - accuracy: 0.9367 - val_loss: 1.4041 - val_accuracy: 0.7600\n",
      "Epoch 443/500\n",
      "19/19 [==============================] - 0s 4ms/step - loss: 0.1941 - accuracy: 0.9167 - val_loss: 1.3865 - val_accuracy: 0.7400\n",
      "Epoch 444/500\n",
      "19/19 [==============================] - 0s 4ms/step - loss: 0.4501 - accuracy: 0.8750 - val_loss: 1.6284 - val_accuracy: 0.6600\n",
      "Epoch 445/500\n",
      "19/19 [==============================] - 0s 6ms/step - loss: 0.3339 - accuracy: 0.9017 - val_loss: 1.3669 - val_accuracy: 0.7200\n",
      "Epoch 446/500\n",
      "19/19 [==============================] - 0s 6ms/step - loss: 0.2118 - accuracy: 0.9150 - val_loss: 1.2717 - val_accuracy: 0.7300\n",
      "Epoch 447/500\n",
      "19/19 [==============================] - 0s 4ms/step - loss: 0.1938 - accuracy: 0.9317 - val_loss: 1.4171 - val_accuracy: 0.6700\n",
      "Epoch 448/500\n",
      "19/19 [==============================] - 0s 9ms/step - loss: 0.1777 - accuracy: 0.9167 - val_loss: 1.3303 - val_accuracy: 0.7200\n",
      "Epoch 449/500\n",
      "19/19 [==============================] - 0s 5ms/step - loss: 0.1639 - accuracy: 0.9217 - val_loss: 1.3037 - val_accuracy: 0.7200\n",
      "Epoch 450/500\n",
      "19/19 [==============================] - 0s 5ms/step - loss: 0.1737 - accuracy: 0.9233 - val_loss: 1.3339 - val_accuracy: 0.6600\n",
      "Epoch 451/500\n",
      "19/19 [==============================] - 0s 5ms/step - loss: 0.1552 - accuracy: 0.9383 - val_loss: 1.3502 - val_accuracy: 0.6800\n",
      "Epoch 452/500\n",
      "19/19 [==============================] - 0s 5ms/step - loss: 0.1664 - accuracy: 0.9400 - val_loss: 1.3838 - val_accuracy: 0.7100\n",
      "Epoch 453/500\n",
      "19/19 [==============================] - 0s 5ms/step - loss: 0.1602 - accuracy: 0.9317 - val_loss: 1.3477 - val_accuracy: 0.6700\n",
      "Epoch 454/500\n",
      "19/19 [==============================] - 0s 5ms/step - loss: 0.1664 - accuracy: 0.9267 - val_loss: 1.3016 - val_accuracy: 0.6900\n",
      "Epoch 455/500\n",
      "19/19 [==============================] - 0s 4ms/step - loss: 0.1827 - accuracy: 0.9183 - val_loss: 1.2909 - val_accuracy: 0.7300\n",
      "Epoch 456/500\n",
      "19/19 [==============================] - 0s 4ms/step - loss: 0.2154 - accuracy: 0.9067 - val_loss: 1.3199 - val_accuracy: 0.7400\n",
      "Epoch 457/500\n",
      "19/19 [==============================] - 0s 5ms/step - loss: 0.1687 - accuracy: 0.9333 - val_loss: 1.4162 - val_accuracy: 0.7200\n",
      "Epoch 458/500\n",
      "19/19 [==============================] - 0s 4ms/step - loss: 0.1607 - accuracy: 0.9350 - val_loss: 1.4531 - val_accuracy: 0.6600\n",
      "Epoch 459/500\n",
      "19/19 [==============================] - 0s 4ms/step - loss: 0.1622 - accuracy: 0.9317 - val_loss: 1.4932 - val_accuracy: 0.6400\n",
      "Epoch 460/500\n",
      "19/19 [==============================] - 0s 4ms/step - loss: 0.1641 - accuracy: 0.9317 - val_loss: 1.4530 - val_accuracy: 0.6900\n",
      "Epoch 461/500\n",
      "19/19 [==============================] - 0s 4ms/step - loss: 0.1692 - accuracy: 0.9267 - val_loss: 1.5750 - val_accuracy: 0.6700\n",
      "Epoch 462/500\n",
      "19/19 [==============================] - 0s 4ms/step - loss: 0.1547 - accuracy: 0.9350 - val_loss: 1.4972 - val_accuracy: 0.7000\n",
      "Epoch 463/500\n",
      "19/19 [==============================] - 0s 4ms/step - loss: 0.1689 - accuracy: 0.9317 - val_loss: 1.5826 - val_accuracy: 0.6800\n",
      "Epoch 464/500\n",
      "19/19 [==============================] - 0s 4ms/step - loss: 0.1750 - accuracy: 0.9267 - val_loss: 1.3816 - val_accuracy: 0.7200\n",
      "Epoch 465/500\n",
      "19/19 [==============================] - 0s 4ms/step - loss: 0.1593 - accuracy: 0.9417 - val_loss: 1.5341 - val_accuracy: 0.7100\n",
      "Epoch 466/500\n",
      "19/19 [==============================] - 0s 4ms/step - loss: 0.1605 - accuracy: 0.9350 - val_loss: 1.4573 - val_accuracy: 0.7100\n",
      "Epoch 467/500\n",
      "19/19 [==============================] - 0s 4ms/step - loss: 0.1683 - accuracy: 0.9317 - val_loss: 1.5020 - val_accuracy: 0.7100\n",
      "Epoch 468/500\n",
      "19/19 [==============================] - 0s 4ms/step - loss: 0.1492 - accuracy: 0.9433 - val_loss: 1.7229 - val_accuracy: 0.6400\n",
      "Epoch 469/500\n",
      "19/19 [==============================] - 0s 10ms/step - loss: 0.1516 - accuracy: 0.9483 - val_loss: 1.6825 - val_accuracy: 0.6800\n",
      "Epoch 470/500\n",
      "19/19 [==============================] - 0s 5ms/step - loss: 0.1477 - accuracy: 0.9433 - val_loss: 1.6403 - val_accuracy: 0.7100\n",
      "Epoch 471/500\n",
      "19/19 [==============================] - 0s 4ms/step - loss: 0.1492 - accuracy: 0.9400 - val_loss: 1.6435 - val_accuracy: 0.6800\n",
      "Epoch 472/500\n",
      "19/19 [==============================] - 0s 4ms/step - loss: 0.1707 - accuracy: 0.9300 - val_loss: 1.5695 - val_accuracy: 0.7300\n",
      "Epoch 473/500\n",
      "19/19 [==============================] - 0s 4ms/step - loss: 0.1561 - accuracy: 0.9300 - val_loss: 1.4915 - val_accuracy: 0.7400\n",
      "Epoch 474/500\n",
      "19/19 [==============================] - 0s 4ms/step - loss: 0.1419 - accuracy: 0.9433 - val_loss: 1.6201 - val_accuracy: 0.6800\n",
      "Epoch 475/500\n",
      "19/19 [==============================] - 0s 3ms/step - loss: 0.1412 - accuracy: 0.9417 - val_loss: 1.6613 - val_accuracy: 0.6900\n",
      "Epoch 476/500\n",
      "19/19 [==============================] - 0s 4ms/step - loss: 0.1421 - accuracy: 0.9450 - val_loss: 1.5886 - val_accuracy: 0.6700\n",
      "Epoch 477/500\n",
      "19/19 [==============================] - 0s 4ms/step - loss: 0.1548 - accuracy: 0.9367 - val_loss: 1.6683 - val_accuracy: 0.7200\n",
      "Epoch 478/500\n",
      "19/19 [==============================] - 0s 4ms/step - loss: 0.1476 - accuracy: 0.9383 - val_loss: 1.6058 - val_accuracy: 0.7100\n",
      "Epoch 479/500\n",
      "19/19 [==============================] - 0s 4ms/step - loss: 0.1390 - accuracy: 0.9483 - val_loss: 1.7014 - val_accuracy: 0.6500\n",
      "Epoch 480/500\n",
      "19/19 [==============================] - 0s 4ms/step - loss: 0.1422 - accuracy: 0.9367 - val_loss: 1.6395 - val_accuracy: 0.7200\n",
      "Epoch 481/500\n",
      "19/19 [==============================] - 0s 4ms/step - loss: 0.1451 - accuracy: 0.9417 - val_loss: 1.6432 - val_accuracy: 0.6500\n",
      "Epoch 482/500\n",
      "19/19 [==============================] - 0s 4ms/step - loss: 0.1476 - accuracy: 0.9383 - val_loss: 1.6518 - val_accuracy: 0.6800\n",
      "Epoch 483/500\n",
      "19/19 [==============================] - 0s 4ms/step - loss: 0.1421 - accuracy: 0.9417 - val_loss: 1.8427 - val_accuracy: 0.6900\n",
      "Epoch 484/500\n",
      "19/19 [==============================] - 0s 3ms/step - loss: 0.1406 - accuracy: 0.9383 - val_loss: 1.6922 - val_accuracy: 0.7200\n",
      "Epoch 485/500\n",
      "19/19 [==============================] - 0s 4ms/step - loss: 0.1379 - accuracy: 0.9467 - val_loss: 1.7212 - val_accuracy: 0.7000\n",
      "Epoch 486/500\n",
      "19/19 [==============================] - 0s 4ms/step - loss: 0.1365 - accuracy: 0.9450 - val_loss: 1.8326 - val_accuracy: 0.7200\n",
      "Epoch 487/500\n",
      "19/19 [==============================] - 0s 4ms/step - loss: 0.1471 - accuracy: 0.9433 - val_loss: 1.6607 - val_accuracy: 0.7300\n",
      "Epoch 488/500\n",
      "19/19 [==============================] - 0s 3ms/step - loss: 0.1383 - accuracy: 0.9533 - val_loss: 1.7123 - val_accuracy: 0.7000\n",
      "Epoch 489/500\n",
      "19/19 [==============================] - 0s 4ms/step - loss: 0.1356 - accuracy: 0.9467 - val_loss: 1.7199 - val_accuracy: 0.7100\n",
      "Epoch 490/500\n",
      "19/19 [==============================] - 0s 9ms/step - loss: 0.1338 - accuracy: 0.9467 - val_loss: 1.8119 - val_accuracy: 0.6800\n",
      "Epoch 491/500\n",
      "19/19 [==============================] - 0s 4ms/step - loss: 0.1484 - accuracy: 0.9383 - val_loss: 1.7021 - val_accuracy: 0.7200\n",
      "Epoch 492/500\n",
      "19/19 [==============================] - 0s 5ms/step - loss: 0.1542 - accuracy: 0.9317 - val_loss: 1.7653 - val_accuracy: 0.7000\n",
      "Epoch 493/500\n",
      "19/19 [==============================] - 0s 4ms/step - loss: 0.1480 - accuracy: 0.9433 - val_loss: 1.8819 - val_accuracy: 0.6600\n",
      "Epoch 494/500\n",
      "19/19 [==============================] - 0s 4ms/step - loss: 0.1738 - accuracy: 0.9283 - val_loss: 1.7487 - val_accuracy: 0.6800\n",
      "Epoch 495/500\n",
      "19/19 [==============================] - 0s 4ms/step - loss: 0.1525 - accuracy: 0.9350 - val_loss: 1.7393 - val_accuracy: 0.7200\n",
      "Epoch 496/500\n",
      "19/19 [==============================] - 0s 4ms/step - loss: 0.1762 - accuracy: 0.9350 - val_loss: 1.7678 - val_accuracy: 0.6800\n",
      "Epoch 497/500\n",
      "19/19 [==============================] - 0s 4ms/step - loss: 0.1571 - accuracy: 0.9433 - val_loss: 1.8302 - val_accuracy: 0.6900\n",
      "Epoch 498/500\n",
      "19/19 [==============================] - 0s 4ms/step - loss: 0.1716 - accuracy: 0.9350 - val_loss: 1.5918 - val_accuracy: 0.7000\n",
      "Epoch 499/500\n",
      "19/19 [==============================] - 0s 4ms/step - loss: 0.1437 - accuracy: 0.9333 - val_loss: 1.6961 - val_accuracy: 0.7100\n",
      "Epoch 500/500\n",
      "19/19 [==============================] - 0s 4ms/step - loss: 0.1570 - accuracy: 0.9317 - val_loss: 1.8201 - val_accuracy: 0.7300\n"
     ]
    }
   ],
   "source": [
    "hist = model.fit(X_train, Y_train,\n",
    "                 epochs=500,\n",
    "                 validation_data=(X_val,Y_val),\n",
    "                 verbose=1,\n",
    "                 )"
   ]
  },
  {
   "cell_type": "markdown",
   "id": "ad676577",
   "metadata": {},
   "source": [
    "# 5. 학습과정 살펴보기"
   ]
  },
  {
   "cell_type": "code",
   "execution_count": 62,
   "id": "333d5792",
   "metadata": {},
   "outputs": [
    {
     "data": {
      "text/plain": [
       "dict_keys(['loss', 'accuracy', 'val_loss', 'val_accuracy'])"
      ]
     },
     "execution_count": 62,
     "metadata": {},
     "output_type": "execute_result"
    }
   ],
   "source": [
    "hist.history.keys()"
   ]
  },
  {
   "cell_type": "code",
   "execution_count": 67,
   "id": "460b6ebb",
   "metadata": {},
   "outputs": [
    {
     "data": {
      "text/plain": [
       "[<matplotlib.lines.Line2D at 0x1f697264f10>]"
      ]
     },
     "execution_count": 67,
     "metadata": {},
     "output_type": "execute_result"
    },
    {
     "data": {
      "image/png": "[encoded data removed]",
      "text/plain": [
       "<Figure size 1200x600 with 1 Axes>"
      ]
     },
     "metadata": {},
     "output_type": "display_data"
    }
   ],
   "source": [
    "fig, loss_ax = plt.subplots(figsize=(12,6))\n",
    "loss_ax.plot(hist.history['loss'], 'y', label='train loss')\n",
    "loss_ax.plot(hist.history['val_loss'], 'r', label='val loss')"
   ]
  },
  {
   "cell_type": "code",
   "execution_count": null,
   "id": "1b4f4fc0",
   "metadata": {},
   "outputs": [],
   "source": []
  },
  {
   "cell_type": "code",
   "execution_count": null,
   "id": "d90cc43d",
   "metadata": {},
   "outputs": [],
   "source": []
  },
  {
   "cell_type": "code",
   "execution_count": null,
   "id": "971fa20b",
   "metadata": {},
   "outputs": [],
   "source": []
  },
  {
   "cell_type": "code",
   "execution_count": null,
   "id": "24d9631b",
   "metadata": {},
   "outputs": [],
   "source": []
  },
  {
   "cell_type": "code",
   "execution_count": null,
   "id": "55d08957",
   "metadata": {},
   "outputs": [],
   "source": []
  },
  {
   "cell_type": "code",
   "execution_count": null,
   "id": "deb1c37d",
   "metadata": {},
   "outputs": [],
   "source": []
  },
  {
   "cell_type": "code",
   "execution_count": null,
   "id": "f877ca77",
   "metadata": {},
   "outputs": [],
   "source": []
  }
 ],
 "metadata": {
  "kernelspec": {
   "display_name": "ml-dl-nlp",
   "language": "python",
   "name": "ml-dl-nlp"
  },
  "language_info": {
   "codemirror_mode": {
    "name": "ipython",
    "version": 3
   },
   "file_extension": ".py",
   "mimetype": "text/x-python",
   "name": "python",
   "nbconvert_exporter": "python",
   "pygments_lexer": "ipython3",
   "version": "3.10.18"
  }
 },
 "nbformat": 4,
 "nbformat_minor": 5
}
