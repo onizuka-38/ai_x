{
 "cells": [
  {
   "cell_type": "code",
   "execution_count": 1,
   "id": "94fd3da6",
   "metadata": {},
   "outputs": [
    {
     "data": {
      "text/html": [
       "\n",
       "<style>\n",
       "div.container{width:86% !important;}\n",
       "div.cell.code_cell.rendered{width:100%;}\n",
       "div.CodeMirror {font-family:Consolas; font-size:12pt;}\n",
       "div.output {font-size:12pt; font-weight:bold;}\n",
       "div.input {font-family:Consolas; font-size:12pt;}\n",
       "div.prompt {min-width:70px;}\n",
       "div#toc-wrapper{padding-top:120px;}\n",
       "div.text_cell_render ul li{fontsize:12pt;padding:5px;}\n",
       "table.dataframe{font-size:12px;}\n",
       "</style>\n"
      ],
      "text/plain": [
       "<IPython.core.display.HTML object>"
      ]
     },
     "metadata": {},
     "output_type": "display_data"
    }
   ],
   "source": [
    "from IPython.display import display, HTML\n",
    "display(HTML(\"\"\"\n",
    "<style>\n",
    "div.container{width:86% !important;}\n",
    "div.cell.code_cell.rendered{width:100%;}\n",
    "div.CodeMirror {font-family:Consolas; font-size:12pt;}\n",
    "div.output {font-size:12pt; font-weight:bold;}\n",
    "div.input {font-family:Consolas; font-size:12pt;}\n",
    "div.prompt {min-width:70px;}\n",
    "div#toc-wrapper{padding-top:120px;}\n",
    "div.text_cell_render ul li{fontsize:12pt;padding:5px;}\n",
    "table.dataframe{font-size:12px;}\n",
    "</style>\n",
    "\"\"\"))"
   ]
  },
  {
   "cell_type": "code",
   "execution_count": 2,
   "id": "d405f494",
   "metadata": {},
   "outputs": [],
   "source": [
    "from tensorflow.keras.utils import to_categorical # 분류분석시 원핫인코딩\n",
    "from tensorflow.keras.models import Sequential # 모델생성\n",
    "from tensorflow.keras.layers import Dense, Input\n",
    "import numpy as np"
   ]
  },
  {
   "cell_type": "markdown",
   "id": "82187a51",
   "metadata": {},
   "source": [
    "# 머신러닝/딥러닝 : 데이터의 법칙성을 추출\n",
    "- 다양한 분야에서 응용 : 글씨인식, 문장분류, 질병진단\n",
    "※ ML / DL 의 종류\n",
    "- 지도학습(독립=입력변수와 종속=타겟=출력변수가 모두 주어졌을 경우)\n",
    "    회귀분석(타겟변수가 연속형) vs 분류분석(multi, binary)\n",
    "- 비지도학습(입력변수만)\n",
    "    군집화\n",
    "- 강화학습\n",
    "\n",
    "※ 지도학습에서의 ML, DL 프로그래밍 방식\n",
    "1. 데이터 셋 확보(input=입력변수, target=종속변수)\n",
    "    원본 데이터 및 시뮬레이션을 통해 데이터 생성\n",
    "2. 전처리\n",
    "    스케일 조정\n",
    "    훈련셋(학습셋), 검증셋, 시험셋(테스트셋)\n",
    "    학습 및 평가 가능한 포맷으로 변환\n",
    "3. 모델 구성\n",
    "    Sequential 객체 생성뒤 필요한 층을 add()함수로 추가\n",
    "4. 모델 학습과정 설정\n",
    "    compile() 함수 이용. 손실함수, optimizer, metrics(평가지표)\n",
    "5. 모델학습시키기 (ft. 학습과정 지켜보기)\n",
    "    fit()함수 이용 - 훈련셋입력=독립변수, 훈련셋타겟 = 종속변수, 학습횟수, 검증셋\n",
    "6. 모델 평가\n",
    "    시험셋(테스트셋)을 인자로 넣은 evaluate() 함수 이용, 그래프\n",
    "7. 모델 사용\n",
    "    predict() 이용. 입력데이터는 2차원 데이터\n",
    "8. 모델 저장\n",
    "    save() 함수이용해서 저장. 저장된 모델은 load_model() 함수를 이용해서 불러올 수 있음"
   ]
  },
  {
   "cell_type": "markdown",
   "id": "26ee3b7e",
   "metadata": {},
   "source": [
    "# 1. 데이터 셋 생성\n",
    "# 2. 데이터 전처리\n"
   ]
  },
  {
   "cell_type": "code",
   "execution_count": 3,
   "id": "b24d346e",
   "metadata": {},
   "outputs": [
    {
     "data": {
      "text/plain": [
       "((90,), (9,), (9,), (90,), (9,), (9,))"
      ]
     },
     "execution_count": 3,
     "metadata": {},
     "output_type": "execute_result"
    }
   ],
   "source": [
    "# 학습데이터 = 훈련데이터\n",
    "x_train = np.array([1,2,3,4,5,6,7,8,9]*10)\n",
    "y_train = np.array([2,4,6,8,10,12,14,16,18]*10)\n",
    "x_train.shape, y_train.shape\n",
    "# 검증데이터\n",
    "x_val = np.array([1,2,3,4,5,6,7,8,9])\n",
    "y_val = np.array([2,4,6,8,10,12,14,16,18])\n",
    "# 테스트 셋 = 시험데이터\n",
    "x_test = np.array([1,2,3,4,5,6,7,8,9])\n",
    "y_test = np.array([2,4,6,8,10,12,14,16,18])\n",
    "x_train.shape, x_val.shape, x_test.shape, y_train.shape, y_val.shape, y_test.shape"
   ]
  },
  {
   "cell_type": "code",
   "execution_count": 4,
   "id": "7eaf2a0d",
   "metadata": {},
   "outputs": [
    {
     "name": "stdout",
     "output_type": "stream",
     "text": [
      "원 데이터 : ['a' 'b' 'c' 'd']\n",
      "라벨인코딩된 데이터 : [0 1 2 3]\n",
      "원핫인코딩된 데이터 : [[1. 0. 0. 0.]\n",
      " [0. 1. 0. 0.]\n",
      " [0. 0. 1. 0.]\n",
      " [0. 0. 0. 1.]]\n"
     ]
    }
   ],
   "source": [
    "# 인코딩 종류\n",
    "data = np.array(['a','b','c','d'])\n",
    "print('원 데이터 :', data)\n",
    "from sklearn.preprocessing import LabelEncoder\n",
    "le = LabelEncoder()\n",
    "# le.fit(data)\n",
    "# labeled_data = le.transform(data)\n",
    "labeled_data = le.fit_transform(data)\n",
    "print('라벨인코딩된 데이터 :', labeled_data)\n",
    "one_hot_encoded_data = to_categorical(labeled_data)\n",
    "print('원핫인코딩된 데이터 :', one_hot_encoded_data)"
   ]
  },
  {
   "cell_type": "code",
   "execution_count": 5,
   "id": "8c2fc431",
   "metadata": {},
   "outputs": [
    {
     "name": "stdout",
     "output_type": "stream",
     "text": [
      "[1 2 2 4 2]\n",
      "to_categorical을 이용한 원핫인코딩 :\n",
      " [[0. 1. 0. 0. 0.]\n",
      " [0. 0. 1. 0. 0.]\n",
      " [0. 0. 1. 0. 0.]\n",
      " [0. 0. 0. 0. 1.]\n",
      " [0. 0. 1. 0. 0.]]\n"
     ]
    },
    {
     "data": {
      "text/plain": [
       "'get_dumies를 이용한 원핫인코딩 :'"
      ]
     },
     "metadata": {},
     "output_type": "display_data"
    },
    {
     "data": {
      "text/html": [
       "<div>\n",
       "<style scoped>\n",
       "    .dataframe tbody tr th:only-of-type {\n",
       "        vertical-align: middle;\n",
       "    }\n",
       "\n",
       "    .dataframe tbody tr th {\n",
       "        vertical-align: top;\n",
       "    }\n",
       "\n",
       "    .dataframe thead th {\n",
       "        text-align: right;\n",
       "    }\n",
       "</style>\n",
       "<table border=\"1\" class=\"dataframe\">\n",
       "  <thead>\n",
       "    <tr style=\"text-align: right;\">\n",
       "      <th></th>\n",
       "      <th>1</th>\n",
       "      <th>2</th>\n",
       "      <th>4</th>\n",
       "    </tr>\n",
       "  </thead>\n",
       "  <tbody>\n",
       "    <tr>\n",
       "      <th>0</th>\n",
       "      <td>1</td>\n",
       "      <td>0</td>\n",
       "      <td>0</td>\n",
       "    </tr>\n",
       "    <tr>\n",
       "      <th>1</th>\n",
       "      <td>0</td>\n",
       "      <td>1</td>\n",
       "      <td>0</td>\n",
       "    </tr>\n",
       "    <tr>\n",
       "      <th>2</th>\n",
       "      <td>0</td>\n",
       "      <td>1</td>\n",
       "      <td>0</td>\n",
       "    </tr>\n",
       "    <tr>\n",
       "      <th>3</th>\n",
       "      <td>0</td>\n",
       "      <td>0</td>\n",
       "      <td>1</td>\n",
       "    </tr>\n",
       "    <tr>\n",
       "      <th>4</th>\n",
       "      <td>0</td>\n",
       "      <td>1</td>\n",
       "      <td>0</td>\n",
       "    </tr>\n",
       "  </tbody>\n",
       "</table>\n",
       "</div>"
      ],
      "text/plain": [
       "   1  2  4\n",
       "0  1  0  0\n",
       "1  0  1  0\n",
       "2  0  1  0\n",
       "3  0  0  1\n",
       "4  0  1  0"
      ]
     },
     "metadata": {},
     "output_type": "display_data"
    }
   ],
   "source": [
    "# 분류분석을 위기 위해, target을 원핫인코딩(라벨링 전환)\n",
    "data = np.array([1,2,2,4,2])\n",
    "print(data)\n",
    "categorical_one_hot = to_categorical(data)\n",
    "print('to_categorical을 이용한 원핫인코딩 :\\n', categorical_one_hot)\n",
    "import pandas as pd\n",
    "get_dumies_one_hot = pd.get_dummies(data)\n",
    "display('get_dumies를 이용한 원핫인코딩 :', get_dumies_one_hot)"
   ]
  },
  {
   "cell_type": "code",
   "execution_count": 6,
   "id": "98d020e4",
   "metadata": {},
   "outputs": [
    {
     "data": {
      "text/plain": [
       "array([[0., 0., 1., 0., 0., 0., 0., 0., 0., 0., 0., 0., 0., 0., 0., 0.,\n",
       "        0., 0., 0.],\n",
       "       [0., 0., 0., 0., 1., 0., 0., 0., 0., 0., 0., 0., 0., 0., 0., 0.,\n",
       "        0., 0., 0.],\n",
       "       [0., 0., 0., 0., 0., 0., 1., 0., 0., 0., 0., 0., 0., 0., 0., 0.,\n",
       "        0., 0., 0.],\n",
       "       [0., 0., 0., 0., 0., 0., 0., 0., 1., 0., 0., 0., 0., 0., 0., 0.,\n",
       "        0., 0., 0.],\n",
       "       [0., 0., 0., 0., 0., 0., 0., 0., 0., 0., 1., 0., 0., 0., 0., 0.,\n",
       "        0., 0., 0.],\n",
       "       [0., 0., 0., 0., 0., 0., 0., 0., 0., 0., 0., 0., 1., 0., 0., 0.,\n",
       "        0., 0., 0.],\n",
       "       [0., 0., 0., 0., 0., 0., 0., 0., 0., 0., 0., 0., 0., 0., 1., 0.,\n",
       "        0., 0., 0.],\n",
       "       [0., 0., 0., 0., 0., 0., 0., 0., 0., 0., 0., 0., 0., 0., 0., 0.,\n",
       "        1., 0., 0.],\n",
       "       [0., 0., 0., 0., 0., 0., 0., 0., 0., 0., 0., 0., 0., 0., 0., 0.,\n",
       "        0., 0., 1.]], dtype=float32)"
      ]
     },
     "execution_count": 6,
     "metadata": {},
     "output_type": "execute_result"
    }
   ],
   "source": [
    "# 분류분석을 위한 target변수 라벨링 전환(=원핫 인코딩)\n",
    "Y_train = to_categorical(y_train, 19)\n",
    "Y_val   = to_categorical(y_val)\n",
    "Y_test  = to_categorical(y_test)\n",
    "Y_test"
   ]
  },
  {
   "cell_type": "code",
   "execution_count": 7,
   "id": "ad57c76a",
   "metadata": {},
   "outputs": [
    {
     "name": "stdout",
     "output_type": "stream",
     "text": [
      "훈련셋 구조 : (90,) (90, 19)\n",
      "검증셋 구조 : (9,) (9, 19)\n",
      "테스트셋 구조 : (9,) (9, 19)\n"
     ]
    }
   ],
   "source": [
    "print('훈련셋 구조 :', x_train.shape, Y_train.shape) # 독립변수1개, 타겟변수 19\n",
    "print('검증셋 구조 :', x_val.shape, Y_val.shape)\n",
    "print('테스트셋 구조 :', x_test.shape, Y_test.shape)"
   ]
  },
  {
   "cell_type": "markdown",
   "id": "c522b9d6",
   "metadata": {},
   "source": [
    "# 3. 모델 구성하기"
   ]
  },
  {
   "cell_type": "code",
   "execution_count": 8,
   "id": "7867d8e0",
   "metadata": {},
   "outputs": [
    {
     "name": "stdout",
     "output_type": "stream",
     "text": [
      "Model: \"sequential\"\n",
      "_________________________________________________________________\n",
      " Layer (type)                Output Shape              Param #   \n",
      "=================================================================\n",
      " dense (Dense)               (None, 38)                76        \n",
      "                                                                 \n",
      " dense_1 (Dense)             (None, 64)                2496      \n",
      "                                                                 \n",
      " dense_2 (Dense)             (None, 32)                2080      \n",
      "                                                                 \n",
      " dense_3 (Dense)             (None, 19)                627       \n",
      "                                                                 \n",
      "=================================================================\n",
      "Total params: 5,279\n",
      "Trainable params: 5,279\n",
      "Non-trainable params: 0\n",
      "_________________________________________________________________\n"
     ]
    }
   ],
   "source": [
    "model = Sequential()\n",
    "model.add(Input(shape=(1,))) # 입력중\n",
    "model.add(Dense(units=38, activation='sigmoid')) # units출력수, 활성화함수 : relu, tanh\n",
    "model.add(Dense(units=64, activation='elu'))\n",
    "model.add(Dense(units=32, activation='elu'))\n",
    "model.add(Dense(units=19, activation='softmax'))\n",
    "# softmax : 모든 출력결과의 합이 1. 분류분석 마지막 layer(출력층)에서 activation으로\n",
    "model.summary()"
   ]
  },
  {
   "cell_type": "markdown",
   "id": "79b9955b",
   "metadata": {},
   "source": [
    "# 4. 모델 학습과정 설정\n"
   ]
  },
  {
   "cell_type": "code",
   "execution_count": 9,
   "id": "c56fb73b",
   "metadata": {},
   "outputs": [],
   "source": [
    "model.compile(loss=\"categorical_crossentropy\", # 분류분석에서의 손실함수(원핫 인코딩 有)\n",
    "              optimizer='sgd',\n",
    "              metrics=['accuracy']) # 평가지표 : accuracy"
   ]
  },
  {
   "cell_type": "code",
   "execution_count": 10,
   "id": "8a39eeef",
   "metadata": {},
   "outputs": [
    {
     "name": "stdout",
     "output_type": "stream",
     "text": [
      "Epoch 1/300\n",
      "9/9 - 1s - loss: 3.1291 - accuracy: 0.0444 - val_loss: 2.9927 - val_accuracy: 0.1111 - 756ms/epoch - 84ms/step\n",
      "Epoch 2/300\n",
      "9/9 - 0s - loss: 2.9325 - accuracy: 0.1111 - val_loss: 2.8342 - val_accuracy: 0.1111 - 41ms/epoch - 5ms/step\n",
      "Epoch 3/300\n",
      "9/9 - 0s - loss: 2.7933 - accuracy: 0.0889 - val_loss: 2.7195 - val_accuracy: 0.1111 - 40ms/epoch - 4ms/step\n",
      "Epoch 4/300\n",
      "9/9 - 0s - loss: 2.6923 - accuracy: 0.1111 - val_loss: 2.6303 - val_accuracy: 0.1111 - 41ms/epoch - 5ms/step\n",
      "Epoch 5/300\n",
      "9/9 - 0s - loss: 2.6094 - accuracy: 0.1111 - val_loss: 2.5604 - val_accuracy: 0.1111 - 46ms/epoch - 5ms/step\n",
      "Epoch 6/300\n",
      "9/9 - 0s - loss: 2.5455 - accuracy: 0.0778 - val_loss: 2.5042 - val_accuracy: 0.1111 - 42ms/epoch - 5ms/step\n",
      "Epoch 7/300\n",
      "9/9 - 0s - loss: 2.4977 - accuracy: 0.1000 - val_loss: 2.4586 - val_accuracy: 0.1111 - 41ms/epoch - 5ms/step\n",
      "Epoch 8/300\n",
      "9/9 - 0s - loss: 2.4519 - accuracy: 0.0889 - val_loss: 2.4201 - val_accuracy: 0.1111 - 40ms/epoch - 4ms/step\n",
      "Epoch 9/300\n",
      "9/9 - 0s - loss: 2.4177 - accuracy: 0.0667 - val_loss: 2.3872 - val_accuracy: 0.2222 - 42ms/epoch - 5ms/step\n",
      "Epoch 10/300\n",
      "9/9 - 0s - loss: 2.3892 - accuracy: 0.1000 - val_loss: 2.3578 - val_accuracy: 0.2222 - 42ms/epoch - 5ms/step\n",
      "Epoch 11/300\n",
      "9/9 - 0s - loss: 2.3588 - accuracy: 0.1111 - val_loss: 2.3317 - val_accuracy: 0.3333 - 40ms/epoch - 4ms/step\n",
      "Epoch 12/300\n",
      "9/9 - 0s - loss: 2.3405 - accuracy: 0.0556 - val_loss: 2.3083 - val_accuracy: 0.2222 - 45ms/epoch - 5ms/step\n",
      "Epoch 13/300\n",
      "9/9 - 0s - loss: 2.3158 - accuracy: 0.1222 - val_loss: 2.2872 - val_accuracy: 0.2222 - 42ms/epoch - 5ms/step\n",
      "Epoch 14/300\n",
      "9/9 - 0s - loss: 2.2933 - accuracy: 0.0889 - val_loss: 2.2679 - val_accuracy: 0.1111 - 39ms/epoch - 4ms/step\n",
      "Epoch 15/300\n",
      "9/9 - 0s - loss: 2.2756 - accuracy: 0.1000 - val_loss: 2.2503 - val_accuracy: 0.2222 - 43ms/epoch - 5ms/step\n",
      "Epoch 16/300\n",
      "9/9 - 0s - loss: 2.2572 - accuracy: 0.1667 - val_loss: 2.2341 - val_accuracy: 0.1111 - 45ms/epoch - 5ms/step\n",
      "Epoch 17/300\n",
      "9/9 - 0s - loss: 2.2395 - accuracy: 0.1222 - val_loss: 2.2192 - val_accuracy: 0.1111 - 52ms/epoch - 6ms/step\n",
      "Epoch 18/300\n",
      "9/9 - 0s - loss: 2.2275 - accuracy: 0.0667 - val_loss: 2.2054 - val_accuracy: 0.1111 - 44ms/epoch - 5ms/step\n",
      "Epoch 19/300\n",
      "9/9 - 0s - loss: 2.2161 - accuracy: 0.0556 - val_loss: 2.1925 - val_accuracy: 0.1111 - 38ms/epoch - 4ms/step\n",
      "Epoch 20/300\n",
      "9/9 - 0s - loss: 2.2042 - accuracy: 0.1111 - val_loss: 2.1803 - val_accuracy: 0.1111 - 39ms/epoch - 4ms/step\n",
      "Epoch 21/300\n",
      "9/9 - 0s - loss: 2.1961 - accuracy: 0.1778 - val_loss: 2.1689 - val_accuracy: 0.1111 - 44ms/epoch - 5ms/step\n",
      "Epoch 22/300\n",
      "9/9 - 0s - loss: 2.1863 - accuracy: 0.1333 - val_loss: 2.1578 - val_accuracy: 0.2222 - 44ms/epoch - 5ms/step\n",
      "Epoch 23/300\n",
      "9/9 - 0s - loss: 2.1765 - accuracy: 0.1889 - val_loss: 2.1473 - val_accuracy: 0.2222 - 48ms/epoch - 5ms/step\n",
      "Epoch 24/300\n",
      "9/9 - 0s - loss: 2.1602 - accuracy: 0.2000 - val_loss: 2.1370 - val_accuracy: 0.1111 - 52ms/epoch - 6ms/step\n",
      "Epoch 25/300\n",
      "9/9 - 0s - loss: 2.1582 - accuracy: 0.2000 - val_loss: 2.1269 - val_accuracy: 0.2222 - 49ms/epoch - 5ms/step\n",
      "Epoch 26/300\n",
      "9/9 - 0s - loss: 2.1461 - accuracy: 0.2222 - val_loss: 2.1171 - val_accuracy: 0.2222 - 43ms/epoch - 5ms/step\n",
      "Epoch 27/300\n",
      "9/9 - 0s - loss: 2.1320 - accuracy: 0.1667 - val_loss: 2.1073 - val_accuracy: 0.2222 - 41ms/epoch - 5ms/step\n",
      "Epoch 28/300\n",
      "9/9 - 0s - loss: 2.1234 - accuracy: 0.2111 - val_loss: 2.0977 - val_accuracy: 0.2222 - 41ms/epoch - 5ms/step\n",
      "Epoch 29/300\n",
      "9/9 - 0s - loss: 2.1185 - accuracy: 0.2111 - val_loss: 2.0882 - val_accuracy: 0.2222 - 41ms/epoch - 5ms/step\n",
      "Epoch 30/300\n",
      "9/9 - 0s - loss: 2.1055 - accuracy: 0.2000 - val_loss: 2.0785 - val_accuracy: 0.2222 - 40ms/epoch - 4ms/step\n",
      "Epoch 31/300\n",
      "9/9 - 0s - loss: 2.0930 - accuracy: 0.2111 - val_loss: 2.0688 - val_accuracy: 0.2222 - 40ms/epoch - 4ms/step\n",
      "Epoch 32/300\n",
      "9/9 - 0s - loss: 2.0853 - accuracy: 0.2111 - val_loss: 2.0592 - val_accuracy: 0.2222 - 40ms/epoch - 4ms/step\n",
      "Epoch 33/300\n",
      "9/9 - 0s - loss: 2.0755 - accuracy: 0.1889 - val_loss: 2.0495 - val_accuracy: 0.2222 - 41ms/epoch - 5ms/step\n",
      "Epoch 34/300\n",
      "9/9 - 0s - loss: 2.0628 - accuracy: 0.2444 - val_loss: 2.0398 - val_accuracy: 0.2222 - 41ms/epoch - 5ms/step\n",
      "Epoch 35/300\n",
      "9/9 - 0s - loss: 2.0583 - accuracy: 0.1889 - val_loss: 2.0297 - val_accuracy: 0.2222 - 40ms/epoch - 4ms/step\n",
      "Epoch 36/300\n",
      "9/9 - 0s - loss: 2.0483 - accuracy: 0.1778 - val_loss: 2.0197 - val_accuracy: 0.2222 - 41ms/epoch - 5ms/step\n",
      "Epoch 37/300\n",
      "9/9 - 0s - loss: 2.0424 - accuracy: 0.2444 - val_loss: 2.0097 - val_accuracy: 0.2222 - 45ms/epoch - 5ms/step\n",
      "Epoch 38/300\n",
      "9/9 - 0s - loss: 2.0252 - accuracy: 0.2000 - val_loss: 1.9993 - val_accuracy: 0.2222 - 46ms/epoch - 5ms/step\n",
      "Epoch 39/300\n",
      "9/9 - 0s - loss: 2.0225 - accuracy: 0.2111 - val_loss: 1.9895 - val_accuracy: 0.3333 - 47ms/epoch - 5ms/step\n",
      "Epoch 40/300\n",
      "9/9 - 0s - loss: 2.0039 - accuracy: 0.3333 - val_loss: 1.9786 - val_accuracy: 0.2222 - 45ms/epoch - 5ms/step\n",
      "Epoch 41/300\n",
      "9/9 - 0s - loss: 1.9936 - accuracy: 0.2556 - val_loss: 1.9677 - val_accuracy: 0.2222 - 46ms/epoch - 5ms/step\n",
      "Epoch 42/300\n",
      "9/9 - 0s - loss: 1.9870 - accuracy: 0.2333 - val_loss: 1.9574 - val_accuracy: 0.3333 - 50ms/epoch - 6ms/step\n",
      "Epoch 43/300\n",
      "9/9 - 0s - loss: 1.9711 - accuracy: 0.3222 - val_loss: 1.9459 - val_accuracy: 0.3333 - 48ms/epoch - 5ms/step\n",
      "Epoch 44/300\n",
      "9/9 - 0s - loss: 1.9695 - accuracy: 0.1667 - val_loss: 1.9348 - val_accuracy: 0.3333 - 52ms/epoch - 6ms/step\n",
      "Epoch 45/300\n",
      "9/9 - 0s - loss: 1.9539 - accuracy: 0.2556 - val_loss: 1.9231 - val_accuracy: 0.3333 - 41ms/epoch - 5ms/step\n",
      "Epoch 46/300\n",
      "9/9 - 0s - loss: 1.9343 - accuracy: 0.2444 - val_loss: 1.9116 - val_accuracy: 0.3333 - 40ms/epoch - 4ms/step\n",
      "Epoch 47/300\n",
      "9/9 - 0s - loss: 1.9301 - accuracy: 0.2778 - val_loss: 1.9008 - val_accuracy: 0.4444 - 41ms/epoch - 5ms/step\n",
      "Epoch 48/300\n",
      "9/9 - 0s - loss: 1.9155 - accuracy: 0.3444 - val_loss: 1.8883 - val_accuracy: 0.3333 - 45ms/epoch - 5ms/step\n",
      "Epoch 49/300\n",
      "9/9 - 0s - loss: 1.9042 - accuracy: 0.3444 - val_loss: 1.8773 - val_accuracy: 0.3333 - 41ms/epoch - 5ms/step\n",
      "Epoch 50/300\n",
      "9/9 - 0s - loss: 1.8987 - accuracy: 0.2556 - val_loss: 1.8652 - val_accuracy: 0.3333 - 40ms/epoch - 4ms/step\n",
      "Epoch 51/300\n",
      "9/9 - 0s - loss: 1.8796 - accuracy: 0.2222 - val_loss: 1.8528 - val_accuracy: 0.3333 - 40ms/epoch - 4ms/step\n",
      "Epoch 52/300\n",
      "9/9 - 0s - loss: 1.8724 - accuracy: 0.2556 - val_loss: 1.8410 - val_accuracy: 0.3333 - 40ms/epoch - 4ms/step\n",
      "Epoch 53/300\n",
      "9/9 - 0s - loss: 1.8621 - accuracy: 0.2556 - val_loss: 1.8292 - val_accuracy: 0.3333 - 45ms/epoch - 5ms/step\n",
      "Epoch 54/300\n",
      "9/9 - 0s - loss: 1.8512 - accuracy: 0.2778 - val_loss: 1.8161 - val_accuracy: 0.2222 - 40ms/epoch - 4ms/step\n",
      "Epoch 55/300\n",
      "9/9 - 0s - loss: 1.8347 - accuracy: 0.2444 - val_loss: 1.8043 - val_accuracy: 0.4444 - 40ms/epoch - 4ms/step\n",
      "Epoch 56/300\n",
      "9/9 - 0s - loss: 1.8254 - accuracy: 0.2778 - val_loss: 1.7924 - val_accuracy: 0.4444 - 40ms/epoch - 4ms/step\n",
      "Epoch 57/300\n",
      "9/9 - 0s - loss: 1.8133 - accuracy: 0.3556 - val_loss: 1.7801 - val_accuracy: 0.3333 - 82ms/epoch - 9ms/step\n",
      "Epoch 58/300\n",
      "9/9 - 0s - loss: 1.7929 - accuracy: 0.2778 - val_loss: 1.7673 - val_accuracy: 0.3333 - 51ms/epoch - 6ms/step\n",
      "Epoch 59/300\n",
      "9/9 - 0s - loss: 1.7817 - accuracy: 0.2889 - val_loss: 1.7558 - val_accuracy: 0.3333 - 44ms/epoch - 5ms/step\n",
      "Epoch 60/300\n",
      "9/9 - 0s - loss: 1.7775 - accuracy: 0.3444 - val_loss: 1.7439 - val_accuracy: 0.3333 - 47ms/epoch - 5ms/step\n",
      "Epoch 61/300\n",
      "9/9 - 0s - loss: 1.7640 - accuracy: 0.3222 - val_loss: 1.7311 - val_accuracy: 0.2222 - 45ms/epoch - 5ms/step\n",
      "Epoch 62/300\n",
      "9/9 - 0s - loss: 1.7415 - accuracy: 0.2667 - val_loss: 1.7192 - val_accuracy: 0.3333 - 45ms/epoch - 5ms/step\n",
      "Epoch 63/300\n",
      "9/9 - 0s - loss: 1.7373 - accuracy: 0.2222 - val_loss: 1.7080 - val_accuracy: 0.4444 - 42ms/epoch - 5ms/step\n",
      "Epoch 64/300\n",
      "9/9 - 0s - loss: 1.7215 - accuracy: 0.3111 - val_loss: 1.6956 - val_accuracy: 0.5556 - 45ms/epoch - 5ms/step\n",
      "Epoch 65/300\n",
      "9/9 - 0s - loss: 1.7136 - accuracy: 0.3000 - val_loss: 1.6840 - val_accuracy: 0.3333 - 49ms/epoch - 5ms/step\n",
      "Epoch 66/300\n",
      "9/9 - 0s - loss: 1.6953 - accuracy: 0.3556 - val_loss: 1.6724 - val_accuracy: 0.2222 - 40ms/epoch - 4ms/step\n",
      "Epoch 67/300\n",
      "9/9 - 0s - loss: 1.6921 - accuracy: 0.2778 - val_loss: 1.6606 - val_accuracy: 0.2222 - 42ms/epoch - 5ms/step\n",
      "Epoch 68/300\n",
      "9/9 - 0s - loss: 1.6767 - accuracy: 0.2778 - val_loss: 1.6499 - val_accuracy: 0.4444 - 41ms/epoch - 5ms/step\n",
      "Epoch 69/300\n",
      "9/9 - 0s - loss: 1.6694 - accuracy: 0.3111 - val_loss: 1.6377 - val_accuracy: 0.4444 - 62ms/epoch - 7ms/step\n",
      "Epoch 70/300\n",
      "9/9 - 0s - loss: 1.6541 - accuracy: 0.3778 - val_loss: 1.6265 - val_accuracy: 0.3333 - 45ms/epoch - 5ms/step\n",
      "Epoch 71/300\n",
      "9/9 - 0s - loss: 1.6487 - accuracy: 0.3111 - val_loss: 1.6158 - val_accuracy: 0.4444 - 45ms/epoch - 5ms/step\n",
      "Epoch 72/300\n",
      "9/9 - 0s - loss: 1.6304 - accuracy: 0.4111 - val_loss: 1.6043 - val_accuracy: 0.4444 - 40ms/epoch - 4ms/step\n",
      "Epoch 73/300\n",
      "9/9 - 0s - loss: 1.6332 - accuracy: 0.3889 - val_loss: 1.5934 - val_accuracy: 0.3333 - 41ms/epoch - 5ms/step\n",
      "Epoch 74/300\n",
      "9/9 - 0s - loss: 1.6126 - accuracy: 0.3222 - val_loss: 1.5822 - val_accuracy: 0.3333 - 39ms/epoch - 4ms/step\n",
      "Epoch 75/300\n",
      "9/9 - 0s - loss: 1.6006 - accuracy: 0.3444 - val_loss: 1.5725 - val_accuracy: 0.3333 - 41ms/epoch - 5ms/step\n",
      "Epoch 76/300\n",
      "9/9 - 0s - loss: 1.5845 - accuracy: 0.5000 - val_loss: 1.5614 - val_accuracy: 0.3333 - 40ms/epoch - 4ms/step\n",
      "Epoch 77/300\n",
      "9/9 - 0s - loss: 1.5847 - accuracy: 0.3444 - val_loss: 1.5502 - val_accuracy: 0.3333 - 39ms/epoch - 4ms/step\n",
      "Epoch 78/300\n",
      "9/9 - 0s - loss: 1.5701 - accuracy: 0.3444 - val_loss: 1.5395 - val_accuracy: 0.3333 - 43ms/epoch - 5ms/step\n",
      "Epoch 79/300\n",
      "9/9 - 0s - loss: 1.5614 - accuracy: 0.3333 - val_loss: 1.5293 - val_accuracy: 0.6667 - 45ms/epoch - 5ms/step\n",
      "Epoch 80/300\n",
      "9/9 - 0s - loss: 1.5546 - accuracy: 0.4556 - val_loss: 1.5196 - val_accuracy: 0.4444 - 49ms/epoch - 5ms/step\n",
      "Epoch 81/300\n",
      "9/9 - 0s - loss: 1.5331 - accuracy: 0.4556 - val_loss: 1.5087 - val_accuracy: 0.5556 - 41ms/epoch - 5ms/step\n",
      "Epoch 82/300\n",
      "9/9 - 0s - loss: 1.5331 - accuracy: 0.4111 - val_loss: 1.4982 - val_accuracy: 0.4444 - 47ms/epoch - 5ms/step\n",
      "Epoch 83/300\n",
      "9/9 - 0s - loss: 1.5202 - accuracy: 0.3556 - val_loss: 1.4902 - val_accuracy: 0.4444 - 40ms/epoch - 4ms/step\n",
      "Epoch 84/300\n",
      "9/9 - 0s - loss: 1.5042 - accuracy: 0.4667 - val_loss: 1.4789 - val_accuracy: 0.4444 - 41ms/epoch - 5ms/step\n",
      "Epoch 85/300\n",
      "9/9 - 0s - loss: 1.4960 - accuracy: 0.4778 - val_loss: 1.4695 - val_accuracy: 0.4444 - 43ms/epoch - 5ms/step\n",
      "Epoch 86/300\n",
      "9/9 - 0s - loss: 1.4902 - accuracy: 0.4444 - val_loss: 1.4592 - val_accuracy: 0.4444 - 45ms/epoch - 5ms/step\n",
      "Epoch 87/300\n",
      "9/9 - 0s - loss: 1.4790 - accuracy: 0.4667 - val_loss: 1.4495 - val_accuracy: 0.6667 - 45ms/epoch - 5ms/step\n",
      "Epoch 88/300\n",
      "9/9 - 0s - loss: 1.4749 - accuracy: 0.4556 - val_loss: 1.4402 - val_accuracy: 0.5556 - 44ms/epoch - 5ms/step\n",
      "Epoch 89/300\n",
      "9/9 - 0s - loss: 1.4559 - accuracy: 0.5556 - val_loss: 1.4312 - val_accuracy: 0.5556 - 46ms/epoch - 5ms/step\n",
      "Epoch 90/300\n",
      "9/9 - 0s - loss: 1.4427 - accuracy: 0.4333 - val_loss: 1.4215 - val_accuracy: 0.5556 - 52ms/epoch - 6ms/step\n",
      "Epoch 91/300\n",
      "9/9 - 0s - loss: 1.4382 - accuracy: 0.5222 - val_loss: 1.4123 - val_accuracy: 0.6667 - 42ms/epoch - 5ms/step\n",
      "Epoch 92/300\n",
      "9/9 - 0s - loss: 1.4301 - accuracy: 0.4778 - val_loss: 1.4029 - val_accuracy: 0.6667 - 40ms/epoch - 4ms/step\n",
      "Epoch 93/300\n",
      "9/9 - 0s - loss: 1.4181 - accuracy: 0.5111 - val_loss: 1.3941 - val_accuracy: 0.6667 - 41ms/epoch - 5ms/step\n",
      "Epoch 94/300\n",
      "9/9 - 0s - loss: 1.4163 - accuracy: 0.5444 - val_loss: 1.3845 - val_accuracy: 0.6667 - 39ms/epoch - 4ms/step\n",
      "Epoch 95/300\n",
      "9/9 - 0s - loss: 1.4042 - accuracy: 0.5333 - val_loss: 1.3773 - val_accuracy: 0.6667 - 40ms/epoch - 4ms/step\n",
      "Epoch 96/300\n",
      "9/9 - 0s - loss: 1.3954 - accuracy: 0.5778 - val_loss: 1.3668 - val_accuracy: 0.7778 - 40ms/epoch - 4ms/step\n",
      "Epoch 97/300\n",
      "9/9 - 0s - loss: 1.3965 - accuracy: 0.5000 - val_loss: 1.3582 - val_accuracy: 0.6667 - 41ms/epoch - 5ms/step\n",
      "Epoch 98/300\n",
      "9/9 - 0s - loss: 1.3775 - accuracy: 0.5889 - val_loss: 1.3514 - val_accuracy: 0.5556 - 39ms/epoch - 4ms/step\n",
      "Epoch 99/300\n",
      "9/9 - 0s - loss: 1.3664 - accuracy: 0.5556 - val_loss: 1.3421 - val_accuracy: 0.6667 - 42ms/epoch - 5ms/step\n",
      "Epoch 100/300\n",
      "9/9 - 0s - loss: 1.3695 - accuracy: 0.4778 - val_loss: 1.3335 - val_accuracy: 0.6667 - 45ms/epoch - 5ms/step\n",
      "Epoch 101/300\n",
      "9/9 - 0s - loss: 1.3534 - accuracy: 0.5000 - val_loss: 1.3256 - val_accuracy: 0.6667 - 47ms/epoch - 5ms/step\n",
      "Epoch 102/300\n",
      "9/9 - 0s - loss: 1.3479 - accuracy: 0.6667 - val_loss: 1.3168 - val_accuracy: 0.7778 - 50ms/epoch - 6ms/step\n",
      "Epoch 103/300\n",
      "9/9 - 0s - loss: 1.3369 - accuracy: 0.6111 - val_loss: 1.3109 - val_accuracy: 0.6667 - 41ms/epoch - 5ms/step\n",
      "Epoch 104/300\n",
      "9/9 - 0s - loss: 1.3292 - accuracy: 0.6444 - val_loss: 1.3015 - val_accuracy: 0.7778 - 38ms/epoch - 4ms/step\n",
      "Epoch 105/300\n",
      "9/9 - 0s - loss: 1.3218 - accuracy: 0.6111 - val_loss: 1.2930 - val_accuracy: 0.7778 - 42ms/epoch - 5ms/step\n",
      "Epoch 106/300\n",
      "9/9 - 0s - loss: 1.3042 - accuracy: 0.7111 - val_loss: 1.2851 - val_accuracy: 0.8889 - 41ms/epoch - 5ms/step\n",
      "Epoch 107/300\n",
      "9/9 - 0s - loss: 1.3064 - accuracy: 0.6222 - val_loss: 1.2777 - val_accuracy: 0.6667 - 46ms/epoch - 5ms/step\n",
      "Epoch 108/300\n",
      "9/9 - 0s - loss: 1.3057 - accuracy: 0.6111 - val_loss: 1.2696 - val_accuracy: 0.6667 - 43ms/epoch - 5ms/step\n",
      "Epoch 109/300\n",
      "9/9 - 0s - loss: 1.2824 - accuracy: 0.6778 - val_loss: 1.2614 - val_accuracy: 0.7778 - 43ms/epoch - 5ms/step\n",
      "Epoch 110/300\n",
      "9/9 - 0s - loss: 1.2918 - accuracy: 0.6333 - val_loss: 1.2556 - val_accuracy: 0.8889 - 48ms/epoch - 5ms/step\n",
      "Epoch 111/300\n",
      "9/9 - 0s - loss: 1.2880 - accuracy: 0.6778 - val_loss: 1.2475 - val_accuracy: 0.7778 - 56ms/epoch - 6ms/step\n",
      "Epoch 112/300\n",
      "9/9 - 0s - loss: 1.2693 - accuracy: 0.6889 - val_loss: 1.2409 - val_accuracy: 0.7778 - 45ms/epoch - 5ms/step\n",
      "Epoch 113/300\n",
      "9/9 - 0s - loss: 1.2578 - accuracy: 0.7000 - val_loss: 1.2327 - val_accuracy: 0.7778 - 40ms/epoch - 4ms/step\n",
      "Epoch 114/300\n",
      "9/9 - 0s - loss: 1.2556 - accuracy: 0.6444 - val_loss: 1.2251 - val_accuracy: 0.6667 - 41ms/epoch - 5ms/step\n",
      "Epoch 115/300\n",
      "9/9 - 0s - loss: 1.2574 - accuracy: 0.7222 - val_loss: 1.2180 - val_accuracy: 0.8889 - 41ms/epoch - 5ms/step\n",
      "Epoch 116/300\n",
      "9/9 - 0s - loss: 1.2425 - accuracy: 0.6778 - val_loss: 1.2105 - val_accuracy: 0.7778 - 45ms/epoch - 5ms/step\n",
      "Epoch 117/300\n",
      "9/9 - 0s - loss: 1.2262 - accuracy: 0.6444 - val_loss: 1.2050 - val_accuracy: 0.7778 - 39ms/epoch - 4ms/step\n",
      "Epoch 118/300\n",
      "9/9 - 0s - loss: 1.2259 - accuracy: 0.7444 - val_loss: 1.1975 - val_accuracy: 0.7778 - 39ms/epoch - 4ms/step\n",
      "Epoch 119/300\n",
      "9/9 - 0s - loss: 1.2146 - accuracy: 0.6778 - val_loss: 1.1919 - val_accuracy: 0.7778 - 40ms/epoch - 4ms/step\n",
      "Epoch 120/300\n",
      "9/9 - 0s - loss: 1.2083 - accuracy: 0.7111 - val_loss: 1.1864 - val_accuracy: 0.7778 - 42ms/epoch - 5ms/step\n",
      "Epoch 121/300\n",
      "9/9 - 0s - loss: 1.2068 - accuracy: 0.7000 - val_loss: 1.1772 - val_accuracy: 0.8889 - 41ms/epoch - 5ms/step\n",
      "Epoch 122/300\n",
      "9/9 - 0s - loss: 1.1981 - accuracy: 0.7667 - val_loss: 1.1702 - val_accuracy: 0.8889 - 40ms/epoch - 4ms/step\n",
      "Epoch 123/300\n",
      "9/9 - 0s - loss: 1.1908 - accuracy: 0.7444 - val_loss: 1.1638 - val_accuracy: 0.7778 - 75ms/epoch - 8ms/step\n",
      "Epoch 124/300\n",
      "9/9 - 0s - loss: 1.1879 - accuracy: 0.7222 - val_loss: 1.1551 - val_accuracy: 0.7778 - 48ms/epoch - 5ms/step\n",
      "Epoch 125/300\n",
      "9/9 - 0s - loss: 1.1737 - accuracy: 0.7222 - val_loss: 1.1493 - val_accuracy: 1.0000 - 39ms/epoch - 4ms/step\n",
      "Epoch 126/300\n",
      "9/9 - 0s - loss: 1.1856 - accuracy: 0.7333 - val_loss: 1.1438 - val_accuracy: 0.8889 - 45ms/epoch - 5ms/step\n",
      "Epoch 127/300\n",
      "9/9 - 0s - loss: 1.1658 - accuracy: 0.7222 - val_loss: 1.1360 - val_accuracy: 0.7778 - 43ms/epoch - 5ms/step\n",
      "Epoch 128/300\n",
      "9/9 - 0s - loss: 1.1586 - accuracy: 0.8111 - val_loss: 1.1307 - val_accuracy: 0.7778 - 48ms/epoch - 5ms/step\n",
      "Epoch 129/300\n",
      "9/9 - 0s - loss: 1.1491 - accuracy: 0.7889 - val_loss: 1.1258 - val_accuracy: 0.7778 - 46ms/epoch - 5ms/step\n",
      "Epoch 130/300\n",
      "9/9 - 0s - loss: 1.1463 - accuracy: 0.7222 - val_loss: 1.1168 - val_accuracy: 0.7778 - 44ms/epoch - 5ms/step\n",
      "Epoch 131/300\n",
      "9/9 - 0s - loss: 1.1321 - accuracy: 0.7778 - val_loss: 1.1110 - val_accuracy: 0.8889 - 47ms/epoch - 5ms/step\n",
      "Epoch 132/300\n",
      "9/9 - 0s - loss: 1.1334 - accuracy: 0.7667 - val_loss: 1.1050 - val_accuracy: 0.8889 - 51ms/epoch - 6ms/step\n",
      "Epoch 133/300\n",
      "9/9 - 0s - loss: 1.1367 - accuracy: 0.7556 - val_loss: 1.0997 - val_accuracy: 0.8889 - 47ms/epoch - 5ms/step\n",
      "Epoch 134/300\n",
      "9/9 - 0s - loss: 1.1232 - accuracy: 0.7444 - val_loss: 1.0924 - val_accuracy: 0.8889 - 47ms/epoch - 5ms/step\n",
      "Epoch 135/300\n",
      "9/9 - 0s - loss: 1.1130 - accuracy: 0.7333 - val_loss: 1.0855 - val_accuracy: 0.8889 - 45ms/epoch - 5ms/step\n",
      "Epoch 136/300\n",
      "9/9 - 0s - loss: 1.1053 - accuracy: 0.7889 - val_loss: 1.0802 - val_accuracy: 0.8889 - 41ms/epoch - 5ms/step\n",
      "Epoch 137/300\n",
      "9/9 - 0s - loss: 1.0941 - accuracy: 0.7889 - val_loss: 1.0727 - val_accuracy: 0.8889 - 38ms/epoch - 4ms/step\n",
      "Epoch 138/300\n",
      "9/9 - 0s - loss: 1.0866 - accuracy: 0.8556 - val_loss: 1.0702 - val_accuracy: 0.7778 - 40ms/epoch - 4ms/step\n",
      "Epoch 139/300\n",
      "9/9 - 0s - loss: 1.0879 - accuracy: 0.7111 - val_loss: 1.0628 - val_accuracy: 0.7778 - 40ms/epoch - 4ms/step\n",
      "Epoch 140/300\n",
      "9/9 - 0s - loss: 1.0879 - accuracy: 0.7556 - val_loss: 1.0588 - val_accuracy: 0.6667 - 45ms/epoch - 5ms/step\n",
      "Epoch 141/300\n",
      "9/9 - 0s - loss: 1.0761 - accuracy: 0.7444 - val_loss: 1.0497 - val_accuracy: 0.8889 - 40ms/epoch - 4ms/step\n",
      "Epoch 142/300\n",
      "9/9 - 0s - loss: 1.0734 - accuracy: 0.8222 - val_loss: 1.0447 - val_accuracy: 0.8889 - 42ms/epoch - 5ms/step\n",
      "Epoch 143/300\n",
      "9/9 - 0s - loss: 1.0701 - accuracy: 0.7333 - val_loss: 1.0393 - val_accuracy: 0.7778 - 43ms/epoch - 5ms/step\n",
      "Epoch 144/300\n",
      "9/9 - 0s - loss: 1.0725 - accuracy: 0.6889 - val_loss: 1.0354 - val_accuracy: 0.8889 - 50ms/epoch - 6ms/step\n",
      "Epoch 145/300\n",
      "9/9 - 0s - loss: 1.0532 - accuracy: 0.7667 - val_loss: 1.0294 - val_accuracy: 0.8889 - 44ms/epoch - 5ms/step\n",
      "Epoch 146/300\n",
      "9/9 - 0s - loss: 1.0606 - accuracy: 0.8111 - val_loss: 1.0214 - val_accuracy: 0.8889 - 40ms/epoch - 4ms/step\n",
      "Epoch 147/300\n",
      "9/9 - 0s - loss: 1.0412 - accuracy: 0.8000 - val_loss: 1.0162 - val_accuracy: 0.8889 - 42ms/epoch - 5ms/step\n",
      "Epoch 148/300\n",
      "9/9 - 0s - loss: 1.0419 - accuracy: 0.8333 - val_loss: 1.0109 - val_accuracy: 0.7778 - 39ms/epoch - 4ms/step\n",
      "Epoch 149/300\n",
      "9/9 - 0s - loss: 1.0280 - accuracy: 0.8000 - val_loss: 1.0090 - val_accuracy: 0.7778 - 41ms/epoch - 5ms/step\n",
      "Epoch 150/300\n",
      "9/9 - 0s - loss: 1.0266 - accuracy: 0.8111 - val_loss: 1.0019 - val_accuracy: 0.8889 - 41ms/epoch - 5ms/step\n",
      "Epoch 151/300\n",
      "9/9 - 0s - loss: 1.0258 - accuracy: 0.7889 - val_loss: 0.9942 - val_accuracy: 0.8889 - 40ms/epoch - 4ms/step\n",
      "Epoch 152/300\n",
      "9/9 - 0s - loss: 1.0203 - accuracy: 0.7556 - val_loss: 0.9959 - val_accuracy: 0.7778 - 41ms/epoch - 5ms/step\n",
      "Epoch 153/300\n",
      "9/9 - 0s - loss: 1.0134 - accuracy: 0.8111 - val_loss: 0.9871 - val_accuracy: 0.7778 - 39ms/epoch - 4ms/step\n",
      "Epoch 154/300\n",
      "9/9 - 0s - loss: 1.0068 - accuracy: 0.7889 - val_loss: 0.9792 - val_accuracy: 0.7778 - 40ms/epoch - 4ms/step\n",
      "Epoch 155/300\n",
      "9/9 - 0s - loss: 1.0063 - accuracy: 0.7778 - val_loss: 0.9739 - val_accuracy: 0.7778 - 80ms/epoch - 9ms/step\n",
      "Epoch 156/300\n",
      "9/9 - 0s - loss: 1.0060 - accuracy: 0.7556 - val_loss: 0.9723 - val_accuracy: 0.7778 - 49ms/epoch - 5ms/step\n",
      "Epoch 157/300\n",
      "9/9 - 0s - loss: 0.9916 - accuracy: 0.8444 - val_loss: 0.9662 - val_accuracy: 0.7778 - 41ms/epoch - 5ms/step\n",
      "Epoch 158/300\n",
      "9/9 - 0s - loss: 0.9822 - accuracy: 0.7444 - val_loss: 0.9573 - val_accuracy: 0.8889 - 39ms/epoch - 4ms/step\n",
      "Epoch 159/300\n",
      "9/9 - 0s - loss: 0.9800 - accuracy: 0.8111 - val_loss: 0.9523 - val_accuracy: 0.8889 - 41ms/epoch - 5ms/step\n",
      "Epoch 160/300\n",
      "9/9 - 0s - loss: 0.9632 - accuracy: 0.8444 - val_loss: 0.9562 - val_accuracy: 0.8889 - 40ms/epoch - 4ms/step\n",
      "Epoch 161/300\n",
      "9/9 - 0s - loss: 0.9975 - accuracy: 0.7778 - val_loss: 0.9447 - val_accuracy: 0.8889 - 41ms/epoch - 5ms/step\n",
      "Epoch 162/300\n",
      "9/9 - 0s - loss: 0.9571 - accuracy: 0.8222 - val_loss: 0.9390 - val_accuracy: 1.0000 - 40ms/epoch - 4ms/step\n",
      "Epoch 163/300\n",
      "9/9 - 0s - loss: 0.9616 - accuracy: 0.7778 - val_loss: 0.9361 - val_accuracy: 0.8889 - 42ms/epoch - 5ms/step\n",
      "Epoch 164/300\n",
      "9/9 - 0s - loss: 0.9606 - accuracy: 0.8111 - val_loss: 0.9309 - val_accuracy: 0.7778 - 41ms/epoch - 5ms/step\n",
      "Epoch 165/300\n",
      "9/9 - 0s - loss: 0.9681 - accuracy: 0.8111 - val_loss: 0.9323 - val_accuracy: 0.8889 - 39ms/epoch - 4ms/step\n",
      "Epoch 166/300\n",
      "9/9 - 0s - loss: 0.9619 - accuracy: 0.8222 - val_loss: 0.9200 - val_accuracy: 1.0000 - 40ms/epoch - 4ms/step\n",
      "Epoch 167/300\n",
      "9/9 - 0s - loss: 0.9370 - accuracy: 0.8889 - val_loss: 0.9151 - val_accuracy: 0.8889 - 41ms/epoch - 5ms/step\n",
      "Epoch 168/300\n",
      "9/9 - 0s - loss: 0.9521 - accuracy: 0.8444 - val_loss: 0.9099 - val_accuracy: 0.7778 - 40ms/epoch - 4ms/step\n",
      "Epoch 169/300\n",
      "9/9 - 0s - loss: 0.9396 - accuracy: 0.7444 - val_loss: 0.9041 - val_accuracy: 0.8889 - 49ms/epoch - 5ms/step\n",
      "Epoch 170/300\n",
      "9/9 - 0s - loss: 0.9181 - accuracy: 0.8667 - val_loss: 0.9045 - val_accuracy: 0.7778 - 46ms/epoch - 5ms/step\n",
      "Epoch 171/300\n",
      "9/9 - 0s - loss: 0.9335 - accuracy: 0.7778 - val_loss: 0.8976 - val_accuracy: 0.8889 - 46ms/epoch - 5ms/step\n",
      "Epoch 172/300\n",
      "9/9 - 0s - loss: 0.9189 - accuracy: 0.8333 - val_loss: 0.8878 - val_accuracy: 0.8889 - 45ms/epoch - 5ms/step\n",
      "Epoch 173/300\n",
      "9/9 - 0s - loss: 0.9250 - accuracy: 0.7889 - val_loss: 0.8863 - val_accuracy: 0.8889 - 44ms/epoch - 5ms/step\n",
      "Epoch 174/300\n",
      "9/9 - 0s - loss: 0.9183 - accuracy: 0.7889 - val_loss: 0.8861 - val_accuracy: 0.8889 - 44ms/epoch - 5ms/step\n",
      "Epoch 175/300\n",
      "9/9 - 0s - loss: 0.9054 - accuracy: 0.8000 - val_loss: 0.8814 - val_accuracy: 0.8889 - 43ms/epoch - 5ms/step\n",
      "Epoch 176/300\n",
      "9/9 - 0s - loss: 0.8905 - accuracy: 0.8222 - val_loss: 0.8713 - val_accuracy: 0.8889 - 49ms/epoch - 5ms/step\n",
      "Epoch 177/300\n",
      "9/9 - 0s - loss: 0.8914 - accuracy: 0.8222 - val_loss: 0.8735 - val_accuracy: 0.8889 - 49ms/epoch - 5ms/step\n",
      "Epoch 178/300\n",
      "9/9 - 0s - loss: 0.8806 - accuracy: 0.8556 - val_loss: 0.8654 - val_accuracy: 0.8889 - 40ms/epoch - 4ms/step\n",
      "Epoch 179/300\n",
      "9/9 - 0s - loss: 0.8901 - accuracy: 0.8556 - val_loss: 0.8573 - val_accuracy: 0.8889 - 40ms/epoch - 4ms/step\n",
      "Epoch 180/300\n",
      "9/9 - 0s - loss: 0.8914 - accuracy: 0.7889 - val_loss: 0.8551 - val_accuracy: 0.8889 - 40ms/epoch - 4ms/step\n",
      "Epoch 181/300\n",
      "9/9 - 0s - loss: 0.8798 - accuracy: 0.8556 - val_loss: 0.8535 - val_accuracy: 0.8889 - 41ms/epoch - 5ms/step\n",
      "Epoch 182/300\n",
      "9/9 - 0s - loss: 0.8808 - accuracy: 0.8222 - val_loss: 0.8558 - val_accuracy: 0.7778 - 40ms/epoch - 4ms/step\n",
      "Epoch 183/300\n",
      "9/9 - 0s - loss: 0.8727 - accuracy: 0.8889 - val_loss: 0.8436 - val_accuracy: 1.0000 - 41ms/epoch - 5ms/step\n",
      "Epoch 184/300\n",
      "9/9 - 0s - loss: 0.8653 - accuracy: 0.9000 - val_loss: 0.8367 - val_accuracy: 0.8889 - 40ms/epoch - 4ms/step\n",
      "Epoch 185/300\n",
      "9/9 - 0s - loss: 0.8852 - accuracy: 0.7889 - val_loss: 0.8477 - val_accuracy: 0.8889 - 41ms/epoch - 5ms/step\n",
      "Epoch 186/300\n",
      "9/9 - 0s - loss: 0.8522 - accuracy: 0.8889 - val_loss: 0.8277 - val_accuracy: 0.8889 - 42ms/epoch - 5ms/step\n",
      "Epoch 187/300\n",
      "9/9 - 0s - loss: 0.8642 - accuracy: 0.7556 - val_loss: 0.8274 - val_accuracy: 1.0000 - 51ms/epoch - 6ms/step\n",
      "Epoch 188/300\n",
      "9/9 - 0s - loss: 0.8557 - accuracy: 0.8222 - val_loss: 0.8257 - val_accuracy: 0.8889 - 94ms/epoch - 10ms/step\n",
      "Epoch 189/300\n",
      "9/9 - 0s - loss: 0.8585 - accuracy: 0.8000 - val_loss: 0.8205 - val_accuracy: 0.7778 - 46ms/epoch - 5ms/step\n",
      "Epoch 190/300\n",
      "9/9 - 0s - loss: 0.8419 - accuracy: 0.8222 - val_loss: 0.8185 - val_accuracy: 1.0000 - 42ms/epoch - 5ms/step\n",
      "Epoch 191/300\n",
      "9/9 - 0s - loss: 0.8384 - accuracy: 0.8444 - val_loss: 0.8109 - val_accuracy: 0.8889 - 45ms/epoch - 5ms/step\n",
      "Epoch 192/300\n",
      "9/9 - 0s - loss: 0.8322 - accuracy: 0.8000 - val_loss: 0.8003 - val_accuracy: 0.8889 - 46ms/epoch - 5ms/step\n",
      "Epoch 193/300\n",
      "9/9 - 0s - loss: 0.8288 - accuracy: 0.8000 - val_loss: 0.8042 - val_accuracy: 0.8889 - 54ms/epoch - 6ms/step\n",
      "Epoch 194/300\n",
      "9/9 - 0s - loss: 0.8281 - accuracy: 0.8889 - val_loss: 0.7949 - val_accuracy: 0.8889 - 43ms/epoch - 5ms/step\n",
      "Epoch 195/300\n",
      "9/9 - 0s - loss: 0.8207 - accuracy: 0.8444 - val_loss: 0.7953 - val_accuracy: 0.8889 - 42ms/epoch - 5ms/step\n",
      "Epoch 196/300\n",
      "9/9 - 0s - loss: 0.8092 - accuracy: 0.8444 - val_loss: 0.7942 - val_accuracy: 0.7778 - 41ms/epoch - 5ms/step\n",
      "Epoch 197/300\n",
      "9/9 - 0s - loss: 0.8367 - accuracy: 0.7778 - val_loss: 0.7831 - val_accuracy: 0.8889 - 46ms/epoch - 5ms/step\n",
      "Epoch 198/300\n",
      "9/9 - 0s - loss: 0.8113 - accuracy: 0.8000 - val_loss: 0.7918 - val_accuracy: 0.8889 - 41ms/epoch - 5ms/step\n",
      "Epoch 199/300\n",
      "9/9 - 0s - loss: 0.8021 - accuracy: 0.9111 - val_loss: 0.7771 - val_accuracy: 0.8889 - 42ms/epoch - 5ms/step\n",
      "Epoch 200/300\n",
      "9/9 - 0s - loss: 0.8160 - accuracy: 0.8556 - val_loss: 0.7729 - val_accuracy: 0.8889 - 39ms/epoch - 4ms/step\n",
      "Epoch 201/300\n",
      "9/9 - 0s - loss: 0.8135 - accuracy: 0.9000 - val_loss: 0.7733 - val_accuracy: 0.8889 - 41ms/epoch - 5ms/step\n",
      "Epoch 202/300\n",
      "9/9 - 0s - loss: 0.8072 - accuracy: 0.9000 - val_loss: 0.7658 - val_accuracy: 0.8889 - 39ms/epoch - 4ms/step\n",
      "Epoch 203/300\n",
      "9/9 - 0s - loss: 0.8095 - accuracy: 0.8000 - val_loss: 0.7569 - val_accuracy: 1.0000 - 41ms/epoch - 5ms/step\n",
      "Epoch 204/300\n",
      "9/9 - 0s - loss: 0.7764 - accuracy: 0.8778 - val_loss: 0.7608 - val_accuracy: 1.0000 - 42ms/epoch - 5ms/step\n",
      "Epoch 205/300\n",
      "9/9 - 0s - loss: 0.7908 - accuracy: 0.8444 - val_loss: 0.7559 - val_accuracy: 0.8889 - 45ms/epoch - 5ms/step\n",
      "Epoch 206/300\n",
      "9/9 - 0s - loss: 0.7753 - accuracy: 0.8778 - val_loss: 0.7492 - val_accuracy: 1.0000 - 41ms/epoch - 5ms/step\n",
      "Epoch 207/300\n",
      "9/9 - 0s - loss: 0.7710 - accuracy: 0.9000 - val_loss: 0.7415 - val_accuracy: 0.8889 - 43ms/epoch - 5ms/step\n",
      "Epoch 208/300\n",
      "9/9 - 0s - loss: 0.7694 - accuracy: 0.8667 - val_loss: 0.7389 - val_accuracy: 0.8889 - 47ms/epoch - 5ms/step\n",
      "Epoch 209/300\n",
      "9/9 - 0s - loss: 0.7800 - accuracy: 0.8889 - val_loss: 0.7443 - val_accuracy: 0.7778 - 46ms/epoch - 5ms/step\n",
      "Epoch 210/300\n",
      "9/9 - 0s - loss: 0.7694 - accuracy: 0.8667 - val_loss: 0.7297 - val_accuracy: 0.8889 - 43ms/epoch - 5ms/step\n",
      "Epoch 211/300\n",
      "9/9 - 0s - loss: 0.7476 - accuracy: 0.8889 - val_loss: 0.7458 - val_accuracy: 0.8889 - 46ms/epoch - 5ms/step\n",
      "Epoch 212/300\n",
      "9/9 - 0s - loss: 0.7480 - accuracy: 0.9333 - val_loss: 0.7218 - val_accuracy: 1.0000 - 46ms/epoch - 5ms/step\n",
      "Epoch 213/300\n",
      "9/9 - 0s - loss: 0.7645 - accuracy: 0.8667 - val_loss: 0.7208 - val_accuracy: 0.8889 - 48ms/epoch - 5ms/step\n",
      "Epoch 214/300\n",
      "9/9 - 0s - loss: 0.7493 - accuracy: 0.8778 - val_loss: 0.7218 - val_accuracy: 0.8889 - 49ms/epoch - 5ms/step\n",
      "Epoch 215/300\n",
      "9/9 - 0s - loss: 0.7533 - accuracy: 0.8222 - val_loss: 0.7113 - val_accuracy: 1.0000 - 43ms/epoch - 5ms/step\n",
      "Epoch 216/300\n",
      "9/9 - 0s - loss: 0.7347 - accuracy: 0.9000 - val_loss: 0.7220 - val_accuracy: 0.7778 - 44ms/epoch - 5ms/step\n",
      "Epoch 217/300\n",
      "9/9 - 0s - loss: 0.7380 - accuracy: 0.7889 - val_loss: 0.7094 - val_accuracy: 1.0000 - 42ms/epoch - 5ms/step\n",
      "Epoch 218/300\n",
      "9/9 - 0s - loss: 0.7211 - accuracy: 0.8667 - val_loss: 0.7050 - val_accuracy: 0.8889 - 50ms/epoch - 6ms/step\n",
      "Epoch 219/300\n",
      "9/9 - 0s - loss: 0.7307 - accuracy: 0.8444 - val_loss: 0.7013 - val_accuracy: 1.0000 - 47ms/epoch - 5ms/step\n",
      "Epoch 220/300\n",
      "9/9 - 0s - loss: 0.7283 - accuracy: 0.8556 - val_loss: 0.7037 - val_accuracy: 0.8889 - 44ms/epoch - 5ms/step\n",
      "Epoch 221/300\n",
      "9/9 - 0s - loss: 0.7205 - accuracy: 0.8667 - val_loss: 0.7088 - val_accuracy: 0.8889 - 43ms/epoch - 5ms/step\n",
      "Epoch 222/300\n",
      "9/9 - 0s - loss: 0.7115 - accuracy: 0.9000 - val_loss: 0.6889 - val_accuracy: 1.0000 - 41ms/epoch - 5ms/step\n",
      "Epoch 223/300\n",
      "9/9 - 0s - loss: 0.7187 - accuracy: 0.9111 - val_loss: 0.6805 - val_accuracy: 0.8889 - 40ms/epoch - 4ms/step\n",
      "Epoch 224/300\n",
      "9/9 - 0s - loss: 0.7051 - accuracy: 0.8889 - val_loss: 0.6846 - val_accuracy: 0.8889 - 40ms/epoch - 4ms/step\n",
      "Epoch 225/300\n",
      "9/9 - 0s - loss: 0.7027 - accuracy: 0.8778 - val_loss: 0.6727 - val_accuracy: 0.8889 - 40ms/epoch - 4ms/step\n",
      "Epoch 226/300\n",
      "9/9 - 0s - loss: 0.7051 - accuracy: 0.9000 - val_loss: 0.6684 - val_accuracy: 1.0000 - 88ms/epoch - 10ms/step\n",
      "Epoch 227/300\n",
      "9/9 - 0s - loss: 0.7108 - accuracy: 0.8444 - val_loss: 0.6670 - val_accuracy: 1.0000 - 49ms/epoch - 5ms/step\n",
      "Epoch 228/300\n",
      "9/9 - 0s - loss: 0.6831 - accuracy: 0.9667 - val_loss: 0.6673 - val_accuracy: 0.8889 - 45ms/epoch - 5ms/step\n",
      "Epoch 229/300\n",
      "9/9 - 0s - loss: 0.7002 - accuracy: 0.9000 - val_loss: 0.6729 - val_accuracy: 0.8889 - 47ms/epoch - 5ms/step\n",
      "Epoch 230/300\n",
      "9/9 - 0s - loss: 0.7035 - accuracy: 0.8889 - val_loss: 0.6855 - val_accuracy: 0.7778 - 49ms/epoch - 5ms/step\n",
      "Epoch 231/300\n",
      "9/9 - 0s - loss: 0.7197 - accuracy: 0.7889 - val_loss: 0.6722 - val_accuracy: 0.8889 - 45ms/epoch - 5ms/step\n",
      "Epoch 232/300\n",
      "9/9 - 0s - loss: 0.6881 - accuracy: 0.8778 - val_loss: 0.6539 - val_accuracy: 0.8889 - 46ms/epoch - 5ms/step\n",
      "Epoch 233/300\n",
      "9/9 - 0s - loss: 0.6766 - accuracy: 0.9333 - val_loss: 0.6523 - val_accuracy: 0.8889 - 53ms/epoch - 6ms/step\n",
      "Epoch 234/300\n",
      "9/9 - 0s - loss: 0.6980 - accuracy: 0.8222 - val_loss: 0.6441 - val_accuracy: 1.0000 - 43ms/epoch - 5ms/step\n",
      "Epoch 235/300\n",
      "9/9 - 0s - loss: 0.6672 - accuracy: 0.9556 - val_loss: 0.6412 - val_accuracy: 1.0000 - 46ms/epoch - 5ms/step\n",
      "Epoch 236/300\n",
      "9/9 - 0s - loss: 0.6723 - accuracy: 0.9556 - val_loss: 0.6385 - val_accuracy: 1.0000 - 40ms/epoch - 4ms/step\n",
      "Epoch 237/300\n",
      "9/9 - 0s - loss: 0.6433 - accuracy: 0.9333 - val_loss: 0.6473 - val_accuracy: 0.8889 - 42ms/epoch - 5ms/step\n",
      "Epoch 238/300\n",
      "9/9 - 0s - loss: 0.6704 - accuracy: 0.8444 - val_loss: 0.6596 - val_accuracy: 0.7778 - 39ms/epoch - 4ms/step\n",
      "Epoch 239/300\n",
      "9/9 - 0s - loss: 0.6584 - accuracy: 0.8333 - val_loss: 0.6319 - val_accuracy: 0.8889 - 43ms/epoch - 5ms/step\n",
      "Epoch 240/300\n",
      "9/9 - 0s - loss: 0.6761 - accuracy: 0.8778 - val_loss: 0.6282 - val_accuracy: 1.0000 - 41ms/epoch - 5ms/step\n",
      "Epoch 241/300\n",
      "9/9 - 0s - loss: 0.6551 - accuracy: 0.8778 - val_loss: 0.6317 - val_accuracy: 0.8889 - 40ms/epoch - 4ms/step\n",
      "Epoch 242/300\n",
      "9/9 - 0s - loss: 0.6481 - accuracy: 0.9333 - val_loss: 0.6278 - val_accuracy: 1.0000 - 39ms/epoch - 4ms/step\n",
      "Epoch 243/300\n",
      "9/9 - 0s - loss: 0.6317 - accuracy: 0.9778 - val_loss: 0.6190 - val_accuracy: 1.0000 - 39ms/epoch - 4ms/step\n",
      "Epoch 244/300\n",
      "9/9 - 0s - loss: 0.6454 - accuracy: 0.9556 - val_loss: 0.6107 - val_accuracy: 1.0000 - 39ms/epoch - 4ms/step\n",
      "Epoch 245/300\n",
      "9/9 - 0s - loss: 0.6410 - accuracy: 0.9111 - val_loss: 0.6107 - val_accuracy: 0.8889 - 40ms/epoch - 4ms/step\n",
      "Epoch 246/300\n",
      "9/9 - 0s - loss: 0.6398 - accuracy: 0.9222 - val_loss: 0.6027 - val_accuracy: 1.0000 - 40ms/epoch - 4ms/step\n",
      "Epoch 247/300\n",
      "9/9 - 0s - loss: 0.6213 - accuracy: 0.8889 - val_loss: 0.6047 - val_accuracy: 1.0000 - 48ms/epoch - 5ms/step\n",
      "Epoch 248/300\n",
      "9/9 - 0s - loss: 0.6343 - accuracy: 0.8778 - val_loss: 0.5975 - val_accuracy: 1.0000 - 42ms/epoch - 5ms/step\n",
      "Epoch 249/300\n",
      "9/9 - 0s - loss: 0.6244 - accuracy: 0.9000 - val_loss: 0.5953 - val_accuracy: 1.0000 - 48ms/epoch - 5ms/step\n",
      "Epoch 250/300\n",
      "9/9 - 0s - loss: 0.6359 - accuracy: 0.8889 - val_loss: 0.5903 - val_accuracy: 1.0000 - 46ms/epoch - 5ms/step\n",
      "Epoch 251/300\n",
      "9/9 - 0s - loss: 0.6142 - accuracy: 0.9444 - val_loss: 0.5901 - val_accuracy: 1.0000 - 47ms/epoch - 5ms/step\n",
      "Epoch 252/300\n",
      "9/9 - 0s - loss: 0.6124 - accuracy: 0.9444 - val_loss: 0.6066 - val_accuracy: 0.8889 - 47ms/epoch - 5ms/step\n",
      "Epoch 253/300\n",
      "9/9 - 0s - loss: 0.6198 - accuracy: 0.9444 - val_loss: 0.5844 - val_accuracy: 0.8889 - 42ms/epoch - 5ms/step\n",
      "Epoch 254/300\n",
      "9/9 - 0s - loss: 0.6000 - accuracy: 0.9222 - val_loss: 0.6098 - val_accuracy: 0.7778 - 57ms/epoch - 6ms/step\n",
      "Epoch 255/300\n",
      "9/9 - 0s - loss: 0.6436 - accuracy: 0.8000 - val_loss: 0.5791 - val_accuracy: 0.8889 - 46ms/epoch - 5ms/step\n",
      "Epoch 256/300\n",
      "9/9 - 0s - loss: 0.6224 - accuracy: 0.9111 - val_loss: 0.5863 - val_accuracy: 0.8889 - 49ms/epoch - 5ms/step\n",
      "Epoch 257/300\n",
      "9/9 - 0s - loss: 0.5967 - accuracy: 0.9222 - val_loss: 0.5738 - val_accuracy: 1.0000 - 40ms/epoch - 4ms/step\n",
      "Epoch 258/300\n",
      "9/9 - 0s - loss: 0.5978 - accuracy: 0.9333 - val_loss: 0.5648 - val_accuracy: 1.0000 - 40ms/epoch - 4ms/step\n",
      "Epoch 259/300\n",
      "9/9 - 0s - loss: 0.5871 - accuracy: 0.8889 - val_loss: 0.5698 - val_accuracy: 1.0000 - 39ms/epoch - 4ms/step\n",
      "Epoch 260/300\n",
      "9/9 - 0s - loss: 0.5899 - accuracy: 0.9333 - val_loss: 0.5648 - val_accuracy: 0.8889 - 41ms/epoch - 5ms/step\n",
      "Epoch 261/300\n",
      "9/9 - 0s - loss: 0.5827 - accuracy: 0.9111 - val_loss: 0.5799 - val_accuracy: 0.8889 - 43ms/epoch - 5ms/step\n",
      "Epoch 262/300\n",
      "9/9 - 0s - loss: 0.6283 - accuracy: 0.8556 - val_loss: 0.5604 - val_accuracy: 1.0000 - 46ms/epoch - 5ms/step\n",
      "Epoch 263/300\n",
      "9/9 - 0s - loss: 0.5838 - accuracy: 0.9333 - val_loss: 0.5541 - val_accuracy: 0.8889 - 44ms/epoch - 5ms/step\n",
      "Epoch 264/300\n",
      "9/9 - 0s - loss: 0.5868 - accuracy: 0.8667 - val_loss: 0.5510 - val_accuracy: 1.0000 - 88ms/epoch - 10ms/step\n",
      "Epoch 265/300\n",
      "9/9 - 0s - loss: 0.5710 - accuracy: 0.9222 - val_loss: 0.5511 - val_accuracy: 1.0000 - 39ms/epoch - 4ms/step\n",
      "Epoch 266/300\n",
      "9/9 - 0s - loss: 0.5934 - accuracy: 0.9000 - val_loss: 0.5428 - val_accuracy: 1.0000 - 40ms/epoch - 4ms/step\n",
      "Epoch 267/300\n",
      "9/9 - 0s - loss: 0.5734 - accuracy: 0.8556 - val_loss: 0.5593 - val_accuracy: 0.8889 - 43ms/epoch - 5ms/step\n",
      "Epoch 268/300\n",
      "9/9 - 0s - loss: 0.5831 - accuracy: 0.9444 - val_loss: 0.5455 - val_accuracy: 1.0000 - 46ms/epoch - 5ms/step\n",
      "Epoch 269/300\n",
      "9/9 - 0s - loss: 0.5871 - accuracy: 0.9111 - val_loss: 0.5332 - val_accuracy: 1.0000 - 43ms/epoch - 5ms/step\n",
      "Epoch 270/300\n",
      "9/9 - 0s - loss: 0.5758 - accuracy: 0.9444 - val_loss: 0.5367 - val_accuracy: 0.8889 - 42ms/epoch - 5ms/step\n",
      "Epoch 271/300\n",
      "9/9 - 0s - loss: 0.5672 - accuracy: 0.8778 - val_loss: 0.5446 - val_accuracy: 0.8889 - 44ms/epoch - 5ms/step\n",
      "Epoch 272/300\n",
      "9/9 - 0s - loss: 0.5648 - accuracy: 0.8889 - val_loss: 0.5249 - val_accuracy: 1.0000 - 40ms/epoch - 4ms/step\n",
      "Epoch 273/300\n",
      "9/9 - 0s - loss: 0.5516 - accuracy: 0.9333 - val_loss: 0.5398 - val_accuracy: 0.8889 - 40ms/epoch - 4ms/step\n",
      "Epoch 274/300\n",
      "9/9 - 0s - loss: 0.5501 - accuracy: 0.9111 - val_loss: 0.5513 - val_accuracy: 0.6667 - 41ms/epoch - 5ms/step\n",
      "Epoch 275/300\n",
      "9/9 - 0s - loss: 0.5738 - accuracy: 0.8667 - val_loss: 0.5360 - val_accuracy: 0.8889 - 42ms/epoch - 5ms/step\n",
      "Epoch 276/300\n",
      "9/9 - 0s - loss: 0.5449 - accuracy: 0.9222 - val_loss: 0.5353 - val_accuracy: 0.8889 - 39ms/epoch - 4ms/step\n",
      "Epoch 277/300\n",
      "9/9 - 0s - loss: 0.5406 - accuracy: 0.9444 - val_loss: 0.5124 - val_accuracy: 1.0000 - 40ms/epoch - 4ms/step\n",
      "Epoch 278/300\n",
      "9/9 - 0s - loss: 0.5477 - accuracy: 0.9333 - val_loss: 0.5176 - val_accuracy: 1.0000 - 41ms/epoch - 5ms/step\n",
      "Epoch 279/300\n",
      "9/9 - 0s - loss: 0.5342 - accuracy: 1.0000 - val_loss: 0.5110 - val_accuracy: 1.0000 - 41ms/epoch - 5ms/step\n",
      "Epoch 280/300\n",
      "9/9 - 0s - loss: 0.5352 - accuracy: 0.9556 - val_loss: 0.5163 - val_accuracy: 0.8889 - 41ms/epoch - 5ms/step\n",
      "Epoch 281/300\n",
      "9/9 - 0s - loss: 0.5278 - accuracy: 0.9333 - val_loss: 0.5048 - val_accuracy: 1.0000 - 48ms/epoch - 5ms/step\n",
      "Epoch 282/300\n",
      "9/9 - 0s - loss: 0.5351 - accuracy: 0.9333 - val_loss: 0.5029 - val_accuracy: 1.0000 - 45ms/epoch - 5ms/step\n",
      "Epoch 283/300\n",
      "9/9 - 0s - loss: 0.5079 - accuracy: 1.0000 - val_loss: 0.5147 - val_accuracy: 0.8889 - 42ms/epoch - 5ms/step\n",
      "Epoch 284/300\n",
      "9/9 - 0s - loss: 0.5217 - accuracy: 0.9778 - val_loss: 0.4906 - val_accuracy: 1.0000 - 39ms/epoch - 4ms/step\n",
      "Epoch 285/300\n",
      "9/9 - 0s - loss: 0.5193 - accuracy: 0.9000 - val_loss: 0.5237 - val_accuracy: 0.8889 - 41ms/epoch - 5ms/step\n",
      "Epoch 286/300\n",
      "9/9 - 0s - loss: 0.5249 - accuracy: 0.9556 - val_loss: 0.4915 - val_accuracy: 1.0000 - 39ms/epoch - 4ms/step\n",
      "Epoch 287/300\n",
      "9/9 - 0s - loss: 0.5125 - accuracy: 0.9556 - val_loss: 0.4972 - val_accuracy: 1.0000 - 40ms/epoch - 4ms/step\n",
      "Epoch 288/300\n",
      "9/9 - 0s - loss: 0.5092 - accuracy: 0.9556 - val_loss: 0.4971 - val_accuracy: 1.0000 - 40ms/epoch - 4ms/step\n",
      "Epoch 289/300\n",
      "9/9 - 0s - loss: 0.5030 - accuracy: 0.9667 - val_loss: 0.4922 - val_accuracy: 0.8889 - 42ms/epoch - 5ms/step\n",
      "Epoch 290/300\n",
      "9/9 - 0s - loss: 0.5382 - accuracy: 0.9222 - val_loss: 0.4865 - val_accuracy: 1.0000 - 40ms/epoch - 4ms/step\n",
      "Epoch 291/300\n",
      "9/9 - 0s - loss: 0.5129 - accuracy: 0.9778 - val_loss: 0.4767 - val_accuracy: 1.0000 - 39ms/epoch - 4ms/step\n",
      "Epoch 292/300\n",
      "9/9 - 0s - loss: 0.4951 - accuracy: 0.9667 - val_loss: 0.4776 - val_accuracy: 1.0000 - 41ms/epoch - 5ms/step\n",
      "Epoch 293/300\n",
      "9/9 - 0s - loss: 0.5100 - accuracy: 0.9556 - val_loss: 0.4747 - val_accuracy: 1.0000 - 41ms/epoch - 5ms/step\n",
      "Epoch 294/300\n",
      "9/9 - 0s - loss: 0.5152 - accuracy: 0.9222 - val_loss: 0.4961 - val_accuracy: 0.8889 - 46ms/epoch - 5ms/step\n",
      "Epoch 295/300\n",
      "9/9 - 0s - loss: 0.4905 - accuracy: 0.9333 - val_loss: 0.4678 - val_accuracy: 1.0000 - 43ms/epoch - 5ms/step\n",
      "Epoch 296/300\n",
      "9/9 - 0s - loss: 0.5034 - accuracy: 0.9111 - val_loss: 0.4687 - val_accuracy: 1.0000 - 46ms/epoch - 5ms/step\n",
      "Epoch 297/300\n",
      "9/9 - 0s - loss: 0.5209 - accuracy: 0.9333 - val_loss: 0.5334 - val_accuracy: 0.8889 - 88ms/epoch - 10ms/step\n",
      "Epoch 298/300\n",
      "9/9 - 0s - loss: 0.4993 - accuracy: 0.9333 - val_loss: 0.4721 - val_accuracy: 1.0000 - 45ms/epoch - 5ms/step\n",
      "Epoch 299/300\n",
      "9/9 - 0s - loss: 0.4882 - accuracy: 0.9778 - val_loss: 0.4552 - val_accuracy: 1.0000 - 45ms/epoch - 5ms/step\n",
      "Epoch 300/300\n",
      "9/9 - 0s - loss: 0.4794 - accuracy: 0.9667 - val_loss: 0.4655 - val_accuracy: 0.8889 - 44ms/epoch - 5ms/step\n"
     ]
    }
   ],
   "source": [
    "hist = model.fit(x_train, Y_train,\n",
    "                 epochs=300,\n",
    "                 batch_size=10,\n",
    "                 verbose=2, # 학습결과 출력 옵션 0:출력없음, 1:기본값(막대출력), 2:에포크별 로그메시지 상세출력\n",
    "                 validation_data=(x_val, Y_val)\n",
    "                 )"
   ]
  },
  {
   "cell_type": "markdown",
   "id": "01eed318",
   "metadata": {},
   "source": [
    "# 6. 모델 평가하기(모델학습과정 살펴보고, evaluate)"
   ]
  },
  {
   "cell_type": "code",
   "execution_count": 11,
   "id": "10d63123",
   "metadata": {},
   "outputs": [
    {
     "data": {
      "text/plain": [
       "dict_keys(['loss', 'accuracy', 'val_loss', 'val_accuracy'])"
      ]
     },
     "execution_count": 11,
     "metadata": {},
     "output_type": "execute_result"
    }
   ],
   "source": [
    "hist.history.keys()"
   ]
  },
  {
   "cell_type": "code",
   "execution_count": 12,
   "id": "15df1053",
   "metadata": {},
   "outputs": [
    {
     "data": {
      "image/png": "[encoded data removed]",
      "text/plain": [
       "<Figure size 1000x800 with 2 Axes>"
      ]
     },
     "metadata": {},
     "output_type": "display_data"
    }
   ],
   "source": [
    "# 모델 학습 과정 시각화\n",
    "import matplotlib.pyplot as plt\n",
    "fig, loss_ax = plt.subplots(figsize=(10,8))\n",
    "loss_ax.plot(hist.history['loss'], 'y', label='train loss')\n",
    "loss_ax.plot(hist.history['val_loss'], 'r', label='val loss')\n",
    "loss_ax.set_xlabel('epoch')\n",
    "loss_ax.set_ylabel('loss')\n",
    "\n",
    "acc_ax = loss_ax.twinx() # loss_ax와 x축을 공유하는 acc_ax생성\n",
    "acc_ax.plot(hist.history['accuracy'], 'g', label='train accuracy')\n",
    "acc_ax.plot(hist.history['val_accuracy'], 'b', label='val accuracy')\n",
    "acc_ax.set_ylabel('accuracy')\n",
    "loss_ax.legend(loc='upper left')\n",
    "acc_ax.legend(loc='center right')\n",
    "plt.show()"
   ]
  },
  {
   "cell_type": "code",
   "execution_count": 13,
   "id": "314d4b6e",
   "metadata": {},
   "outputs": [
    {
     "name": "stdout",
     "output_type": "stream",
     "text": [
      "9/9 [==============================] - 0s 2ms/step - loss: 0.4655 - accuracy: 0.8889\n"
     ]
    }
   ],
   "source": [
    "# 모델 평가\n",
    "score = model.evaluate(x_test, Y_test, batch_size=1)"
   ]
  },
  {
   "cell_type": "code",
   "execution_count": 14,
   "id": "eeadcfca",
   "metadata": {},
   "outputs": [
    {
     "data": {
      "text/plain": [
       "[0.46552059054374695, 0.8888888955116272]"
      ]
     },
     "execution_count": 14,
     "metadata": {},
     "output_type": "execute_result"
    }
   ],
   "source": [
    "score # loss, accuracy"
   ]
  },
  {
   "cell_type": "code",
   "execution_count": 15,
   "id": "fb14e7d0",
   "metadata": {},
   "outputs": [
    {
     "name": "stdout",
     "output_type": "stream",
     "text": [
      "평가된 loss : 0.46552059054374695\n",
      "평가된 accuracy 88.88888955116272 %\n"
     ]
    }
   ],
   "source": [
    "print('평가된 loss :', score[0])\n",
    "print('평가된 accuracy', score[1]*100, '%')"
   ]
  },
  {
   "cell_type": "markdown",
   "id": "c7503676",
   "metadata": {},
   "source": [
    "# 7. 모델 사용하기"
   ]
  },
  {
   "cell_type": "code",
   "execution_count": 16,
   "id": "ea8eeba4",
   "metadata": {},
   "outputs": [
    {
     "name": "stdout",
     "output_type": "stream",
     "text": [
      "1/1 [==============================] - 0s 123ms/step\n"
     ]
    },
    {
     "data": {
      "text/plain": [
       "array([[9.88529294e-08, 2.26338262e-13, 9.48592797e-02, 1.01589494e-10,\n",
       "        7.88514197e-01, 2.11801653e-11, 1.14832073e-01, 4.68680650e-11,\n",
       "        1.79159734e-03, 9.41194713e-13, 2.77791560e-06, 6.40763609e-10,\n",
       "        5.72177106e-09, 1.07308017e-11, 1.25338520e-12, 5.40897049e-10,\n",
       "        1.33461522e-17, 1.14802097e-08, 2.23320251e-24]], dtype=float32)"
      ]
     },
     "execution_count": 16,
     "metadata": {},
     "output_type": "execute_result"
    }
   ],
   "source": [
    "H = model.predict(np.array([[2]]))\n",
    "H"
   ]
  },
  {
   "cell_type": "code",
   "execution_count": 17,
   "id": "89094997",
   "metadata": {},
   "outputs": [
    {
     "name": "stdout",
     "output_type": "stream",
     "text": [
      "1/1 [==============================] - 0s 25ms/step\n"
     ]
    },
    {
     "data": {
      "text/plain": [
       "4"
      ]
     },
     "execution_count": 17,
     "metadata": {},
     "output_type": "execute_result"
    }
   ],
   "source": [
    "# 분류분석의 예측은 predict결과를 argmax()\n",
    "model.predict(np.array([[2]])).argmax()"
   ]
  },
  {
   "cell_type": "code",
   "execution_count": 18,
   "id": "5bc4ee29",
   "metadata": {},
   "outputs": [
    {
     "data": {
      "text/plain": [
       "78.85141968727112"
      ]
     },
     "execution_count": 18,
     "metadata": {},
     "output_type": "execute_result"
    }
   ],
   "source": [
    "# 4를 몇 %확률로 예측했는지\n",
    "H[0, H.argmax()]*100"
   ]
  },
  {
   "cell_type": "markdown",
   "id": "c91b4c23",
   "metadata": {},
   "source": [
    "# 8. 모델 저장하기\n"
   ]
  },
  {
   "cell_type": "code",
   "execution_count": 19,
   "id": "c183ae9e",
   "metadata": {},
   "outputs": [],
   "source": [
    "# model.save('model/02_deep.h5')\n",
    "from tensorflow.keras.models import save_model\n",
    "save_model(model, 'model/02_deep.h5')"
   ]
  },
  {
   "cell_type": "markdown",
   "id": "af46eaf5",
   "metadata": {},
   "source": [
    "저장된 모델 사용하기"
   ]
  },
  {
   "cell_type": "code",
   "execution_count": 20,
   "id": "a2b1d320",
   "metadata": {},
   "outputs": [],
   "source": [
    "from tensorflow.keras.models import load_model\n",
    "model2 = load_model('model/02_deep.h5')"
   ]
  },
  {
   "cell_type": "code",
   "execution_count": 21,
   "id": "9ed34fdb",
   "metadata": {},
   "outputs": [
    {
     "name": "stdout",
     "output_type": "stream",
     "text": [
      "Model: \"sequential\"\n",
      "_________________________________________________________________\n",
      " Layer (type)                Output Shape              Param #   \n",
      "=================================================================\n",
      " dense (Dense)               (None, 38)                76        \n",
      "                                                                 \n",
      " dense_1 (Dense)             (None, 64)                2496      \n",
      "                                                                 \n",
      " dense_2 (Dense)             (None, 32)                2080      \n",
      "                                                                 \n",
      " dense_3 (Dense)             (None, 19)                627       \n",
      "                                                                 \n",
      "=================================================================\n",
      "Total params: 5,279\n",
      "Trainable params: 5,279\n",
      "Non-trainable params: 0\n",
      "_________________________________________________________________\n"
     ]
    }
   ],
   "source": [
    "model2.summary()"
   ]
  },
  {
   "cell_type": "code",
   "execution_count": 27,
   "id": "dee3ba7e",
   "metadata": {},
   "outputs": [
    {
     "name": "stdout",
     "output_type": "stream",
     "text": [
      "1/1 [==============================] - 0s 27ms/step\n"
     ]
    },
    {
     "data": {
      "text/plain": [
       "array([4, 6], dtype=int64)"
      ]
     },
     "execution_count": 27,
     "metadata": {},
     "output_type": "execute_result"
    }
   ],
   "source": [
    "import numpy as np\n",
    "\n",
    "data = np.array([[2],\n",
    "                 [3]])\n",
    "predictions = model2.predict(data)\n",
    "predictions.argmax(axis=1)"
   ]
  },
  {
   "cell_type": "code",
   "execution_count": 28,
   "id": "aa584c08",
   "metadata": {},
   "outputs": [],
   "source": [
    "def predict_classes(model, data):\n",
    "    predictions = model.predict(data)\n",
    "    return predictions.argmax(axis=-1)"
   ]
  },
  {
   "cell_type": "code",
   "execution_count": 32,
   "id": "6d96a85c",
   "metadata": {},
   "outputs": [],
   "source": [
    "import tensorflow as tf\n",
    "@tf.function(reduce_retracing=True)\n",
    "def predict_classes(model, data):\n",
    "    predictions = model(data, training=False)\n",
    "    return tf.argmax(predictions, axis=-1)"
   ]
  },
  {
   "cell_type": "code",
   "execution_count": 36,
   "id": "c0806d5e",
   "metadata": {},
   "outputs": [
    {
     "name": "stdout",
     "output_type": "stream",
     "text": [
      "예측된 분류는 tf.Tensor([4], shape=(1,), dtype=int64)\n"
     ]
    }
   ],
   "source": [
    "input_data = int(input('어떤 데이터를 예측할까요?'))\n",
    "data = np.array([[input_data]])\n",
    "print('예측된 분류는', predict_classes(model2,data))"
   ]
  },
  {
   "cell_type": "code",
   "execution_count": null,
   "id": "f5cfc62f",
   "metadata": {},
   "outputs": [],
   "source": []
  },
  {
   "cell_type": "code",
   "execution_count": null,
   "id": "87a46b3d",
   "metadata": {},
   "outputs": [],
   "source": []
  },
  {
   "cell_type": "code",
   "execution_count": null,
   "id": "b8f4f283",
   "metadata": {},
   "outputs": [],
   "source": []
  },
  {
   "cell_type": "code",
   "execution_count": null,
   "id": "4c6d1a0c",
   "metadata": {},
   "outputs": [],
   "source": []
  },
  {
   "cell_type": "code",
   "execution_count": null,
   "id": "a354bf66",
   "metadata": {},
   "outputs": [],
   "source": []
  },
  {
   "cell_type": "code",
   "execution_count": null,
   "id": "0ab4102b",
   "metadata": {},
   "outputs": [],
   "source": []
  },
  {
   "cell_type": "code",
   "execution_count": null,
   "id": "41eb326f",
   "metadata": {},
   "outputs": [],
   "source": []
  },
  {
   "cell_type": "code",
   "execution_count": null,
   "id": "03154b0a",
   "metadata": {},
   "outputs": [],
   "source": []
  },
  {
   "cell_type": "code",
   "execution_count": null,
   "id": "97c7ebea",
   "metadata": {},
   "outputs": [],
   "source": []
  },
  {
   "cell_type": "code",
   "execution_count": null,
   "id": "b6ab892a",
   "metadata": {},
   "outputs": [],
   "source": []
  },
  {
   "cell_type": "code",
   "execution_count": null,
   "id": "bf580ed8",
   "metadata": {},
   "outputs": [],
   "source": []
  },
  {
   "cell_type": "code",
   "execution_count": null,
   "id": "621506fa",
   "metadata": {},
   "outputs": [],
   "source": []
  },
  {
   "cell_type": "code",
   "execution_count": null,
   "id": "0bfea357",
   "metadata": {},
   "outputs": [],
   "source": []
  },
  {
   "cell_type": "code",
   "execution_count": null,
   "id": "7d3db884",
   "metadata": {},
   "outputs": [],
   "source": []
  },
  {
   "cell_type": "code",
   "execution_count": null,
   "id": "3ba51a0c",
   "metadata": {},
   "outputs": [],
   "source": []
  },
  {
   "cell_type": "code",
   "execution_count": null,
   "id": "c8179d50",
   "metadata": {},
   "outputs": [],
   "source": []
  },
  {
   "cell_type": "code",
   "execution_count": null,
   "id": "6f5c0dc2",
   "metadata": {},
   "outputs": [],
   "source": []
  },
  {
   "cell_type": "code",
   "execution_count": null,
   "id": "846e8660",
   "metadata": {},
   "outputs": [],
   "source": []
  },
  {
   "cell_type": "code",
   "execution_count": null,
   "id": "e86136ee",
   "metadata": {},
   "outputs": [],
   "source": []
  },
  {
   "cell_type": "code",
   "execution_count": null,
   "id": "0a259f0b",
   "metadata": {},
   "outputs": [],
   "source": []
  },
  {
   "cell_type": "code",
   "execution_count": null,
   "id": "29a74d42",
   "metadata": {},
   "outputs": [],
   "source": []
  },
  {
   "cell_type": "code",
   "execution_count": null,
   "id": "234a1bd7",
   "metadata": {},
   "outputs": [],
   "source": []
  },
  {
   "cell_type": "code",
   "execution_count": null,
   "id": "4c6dec88",
   "metadata": {},
   "outputs": [],
   "source": []
  },
  {
   "cell_type": "code",
   "execution_count": null,
   "id": "97078e35",
   "metadata": {},
   "outputs": [],
   "source": []
  },
  {
   "cell_type": "code",
   "execution_count": null,
   "id": "109317b4",
   "metadata": {},
   "outputs": [],
   "source": []
  },
  {
   "cell_type": "code",
   "execution_count": null,
   "id": "917b78f9",
   "metadata": {},
   "outputs": [],
   "source": []
  },
  {
   "cell_type": "code",
   "execution_count": null,
   "id": "76d78629",
   "metadata": {},
   "outputs": [],
   "source": []
  },
  {
   "cell_type": "code",
   "execution_count": null,
   "id": "09dbcfa2",
   "metadata": {},
   "outputs": [],
   "source": []
  },
  {
   "cell_type": "code",
   "execution_count": null,
   "id": "99bb4629",
   "metadata": {},
   "outputs": [],
   "source": []
  },
  {
   "cell_type": "code",
   "execution_count": null,
   "id": "e90fa114",
   "metadata": {},
   "outputs": [],
   "source": []
  },
  {
   "cell_type": "code",
   "execution_count": null,
   "id": "8fcaf266",
   "metadata": {},
   "outputs": [],
   "source": []
  },
  {
   "cell_type": "code",
   "execution_count": null,
   "id": "960c6571",
   "metadata": {},
   "outputs": [],
   "source": []
  },
  {
   "cell_type": "code",
   "execution_count": null,
   "id": "de526dff",
   "metadata": {},
   "outputs": [],
   "source": []
  },
  {
   "cell_type": "code",
   "execution_count": null,
   "id": "e80a5502",
   "metadata": {},
   "outputs": [],
   "source": []
  },
  {
   "cell_type": "code",
   "execution_count": null,
   "id": "2811280a",
   "metadata": {},
   "outputs": [],
   "source": []
  },
  {
   "cell_type": "code",
   "execution_count": null,
   "id": "da871365",
   "metadata": {},
   "outputs": [],
   "source": []
  },
  {
   "cell_type": "code",
   "execution_count": null,
   "id": "be903e1e",
   "metadata": {},
   "outputs": [],
   "source": []
  },
  {
   "cell_type": "code",
   "execution_count": null,
   "id": "423389ff",
   "metadata": {},
   "outputs": [],
   "source": []
  },
  {
   "cell_type": "code",
   "execution_count": null,
   "id": "268f33e6",
   "metadata": {},
   "outputs": [],
   "source": []
  },
  {
   "cell_type": "code",
   "execution_count": null,
   "id": "1fe16db3",
   "metadata": {},
   "outputs": [],
   "source": []
  },
  {
   "cell_type": "code",
   "execution_count": null,
   "id": "c407633c",
   "metadata": {},
   "outputs": [],
   "source": []
  },
  {
   "cell_type": "code",
   "execution_count": null,
   "id": "424559d3",
   "metadata": {},
   "outputs": [],
   "source": []
  }
 ],
 "metadata": {
  "kernelspec": {
   "display_name": "ml-dl-nlp",
   "language": "python",
   "name": "ml-dl-nlp"
  },
  "language_info": {
   "codemirror_mode": {
    "name": "ipython",
    "version": 3
   },
   "file_extension": ".py",
   "mimetype": "text/x-python",
   "name": "python",
   "nbconvert_exporter": "python",
   "pygments_lexer": "ipython3",
   "version": "3.10.18"
  }
 },
 "nbformat": 4,
 "nbformat_minor": 5
}
