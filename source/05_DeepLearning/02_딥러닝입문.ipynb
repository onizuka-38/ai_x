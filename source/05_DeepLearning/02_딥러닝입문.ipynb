{
 "cells": [
  {
   "cell_type": "code",
   "execution_count": 1,
   "id": "94fd3da6",
   "metadata": {},
   "outputs": [
    {
     "data": {
      "text/html": [
       "\n",
       "<style>\n",
       "div.container{width:86% !important;}\n",
       "div.cell.code_cell.rendered{width:100%;}\n",
       "div.CodeMirror {font-family:Consolas; font-size:12pt;}\n",
       "div.output {font-size:12pt; font-weight:bold;}\n",
       "div.input {font-family:Consolas; font-size:12pt;}\n",
       "div.prompt {min-width:70px;}\n",
       "div#toc-wrapper{padding-top:120px;}\n",
       "div.text_cell_render ul li{fontsize:12pt;padding:5px;}\n",
       "table.dataframe{font-size:12px;}\n",
       "</style>\n"
      ],
      "text/plain": [
       "<IPython.core.display.HTML object>"
      ]
     },
     "metadata": {},
     "output_type": "display_data"
    }
   ],
   "source": [
    "from IPython.display import display, HTML\n",
    "display(HTML(\"\"\"\n",
    "<style>\n",
    "div.container{width:86% !important;}\n",
    "div.cell.code_cell.rendered{width:100%;}\n",
    "div.CodeMirror {font-family:Consolas; font-size:12pt;}\n",
    "div.output {font-size:12pt; font-weight:bold;}\n",
    "div.input {font-family:Consolas; font-size:12pt;}\n",
    "div.prompt {min-width:70px;}\n",
    "div#toc-wrapper{padding-top:120px;}\n",
    "div.text_cell_render ul li{fontsize:12pt;padding:5px;}\n",
    "table.dataframe{font-size:12px;}\n",
    "</style>\n",
    "\"\"\"))"
   ]
  },
  {
   "cell_type": "code",
   "execution_count": 2,
   "id": "d405f494",
   "metadata": {},
   "outputs": [],
   "source": [
    "from tensorflow.keras.utils import to_categorical # 분류분석시 원핫인코딩\n",
    "from tensorflow.keras.models import Sequential # 모델생성\n",
    "from tensorflow.keras.layers import Dense, Input\n",
    "import numpy as np"
   ]
  },
  {
   "cell_type": "markdown",
   "id": "82187a51",
   "metadata": {},
   "source": [
    "# 머신러닝/딥러닝 : 데이터의 법칙성을 추출\n",
    "- 다양한 분야에서 응용 : 글씨인식, 문장분류, 질병진단\n",
    "※ ML / DL 의 종류\n",
    "- 지도학습(독립=입력변수와 종속=타겟=출력변수가 모두 주어졌을 경우)\n",
    "    회귀분석(타겟변수가 연속형) vs 분류분석(multi, binary)\n",
    "- 비지도학습(입력변수만)\n",
    "    군집화\n",
    "- 강화학습\n",
    "\n",
    "※ 지도학습에서의 ML, DL 프로그래밍 방식\n",
    "1. 데이터 셋 확보(input=입력변수, target=종속변수)\n",
    "    원본 데이터 및 시뮬레이션을 통해 데이터 생성\n",
    "2. 전처리\n",
    "    스케일 조정\n",
    "    훈련셋(학습셋), 검증셋, 시험셋(테스트셋)\n",
    "    학습 및 평가 가능한 포맷으로 변환\n",
    "3. 모델 구성\n",
    "    Sequential 객체 생성뒤 필요한 층을 add()함수로 추가\n",
    "4. 모델 학습과정 설정\n",
    "    compile() 함수 이용. 손실함수, optimizer, metrics(평가지표)\n",
    "5. 모델학습시키기 (ft. 학습과정 지켜보기)\n",
    "    fit()함수 이용 - 훈련셋입력=독립변수, 훈련셋타겟 = 종속변수, 학습횟수, 검증셋\n",
    "6. 모델 평가\n",
    "    시험셋(테스트셋)을 인자로 넣은 evaluate() 함수 이용, 그래프\n",
    "7. 모델 사용\n",
    "    predict() 이용. 입력데이터는 2차원 데이터\n",
    "8. 모델 저장\n",
    "    save() 함수이용해서 저장. 저장된 모델은 load_model() 함수를 이용해서 불러올 수 있음"
   ]
  },
  {
   "cell_type": "markdown",
   "id": "26ee3b7e",
   "metadata": {},
   "source": [
    "# 1. 데이터 셋 생성\n",
    "# 2. 데이터 전처리\n"
   ]
  },
  {
   "cell_type": "code",
   "execution_count": 3,
   "id": "b24d346e",
   "metadata": {},
   "outputs": [
    {
     "data": {
      "text/plain": [
       "((90,), (9,), (9,), (90,), (9,), (9,))"
      ]
     },
     "execution_count": 3,
     "metadata": {},
     "output_type": "execute_result"
    }
   ],
   "source": [
    "# 학습데이터 = 훈련데이터\n",
    "x_train = np.array([1,2,3,4,5,6,7,8,9]*10)\n",
    "y_train = np.array([2,4,6,8,10,12,14,16,18]*10)\n",
    "x_train.shape, y_train.shape\n",
    "# 검증데이터\n",
    "x_val = np.array([1,2,3,4,5,6,7,8,9])\n",
    "y_val = np.array([2,4,6,8,10,12,14,16,18])\n",
    "# 테스트 셋 = 시험데이터\n",
    "x_test = np.array([1,2,3,4,5,6,7,8,9])\n",
    "y_test = np.array([2,4,6,8,10,12,14,16,18])\n",
    "x_train.shape, x_val.shape, x_test.shape, y_train.shape, y_val.shape, y_test.shape"
   ]
  },
  {
   "cell_type": "code",
   "execution_count": 4,
   "id": "7eaf2a0d",
   "metadata": {},
   "outputs": [
    {
     "name": "stdout",
     "output_type": "stream",
     "text": [
      "원 데이터 : ['a' 'b' 'c' 'd']\n",
      "라벨인코딩된 데이터 : [0 1 2 3]\n",
      "원핫인코딩된 데이터 : [[1. 0. 0. 0.]\n",
      " [0. 1. 0. 0.]\n",
      " [0. 0. 1. 0.]\n",
      " [0. 0. 0. 1.]]\n"
     ]
    }
   ],
   "source": [
    "# 인코딩 종류\n",
    "data = np.array(['a','b','c','d'])\n",
    "print('원 데이터 :', data)\n",
    "from sklearn.preprocessing import LabelEncoder\n",
    "le = LabelEncoder()\n",
    "# le.fit(data)\n",
    "# labeled_data = le.transform(data)\n",
    "labeled_data = le.fit_transform(data)\n",
    "print('라벨인코딩된 데이터 :', labeled_data)\n",
    "one_hot_encoded_data = to_categorical(labeled_data)\n",
    "print('원핫인코딩된 데이터 :', one_hot_encoded_data)"
   ]
  },
  {
   "cell_type": "code",
   "execution_count": 5,
   "id": "8c2fc431",
   "metadata": {},
   "outputs": [
    {
     "name": "stdout",
     "output_type": "stream",
     "text": [
      "[1 2 2 4 2]\n",
      "to_categorical을 이용한 원핫인코딩 :\n",
      " [[0. 1. 0. 0. 0.]\n",
      " [0. 0. 1. 0. 0.]\n",
      " [0. 0. 1. 0. 0.]\n",
      " [0. 0. 0. 0. 1.]\n",
      " [0. 0. 1. 0. 0.]]\n"
     ]
    },
    {
     "data": {
      "text/plain": [
       "'get_dumies를 이용한 원핫인코딩 :'"
      ]
     },
     "metadata": {},
     "output_type": "display_data"
    },
    {
     "data": {
      "text/html": [
       "<div>\n",
       "<style scoped>\n",
       "    .dataframe tbody tr th:only-of-type {\n",
       "        vertical-align: middle;\n",
       "    }\n",
       "\n",
       "    .dataframe tbody tr th {\n",
       "        vertical-align: top;\n",
       "    }\n",
       "\n",
       "    .dataframe thead th {\n",
       "        text-align: right;\n",
       "    }\n",
       "</style>\n",
       "<table border=\"1\" class=\"dataframe\">\n",
       "  <thead>\n",
       "    <tr style=\"text-align: right;\">\n",
       "      <th></th>\n",
       "      <th>1</th>\n",
       "      <th>2</th>\n",
       "      <th>4</th>\n",
       "    </tr>\n",
       "  </thead>\n",
       "  <tbody>\n",
       "    <tr>\n",
       "      <th>0</th>\n",
       "      <td>1</td>\n",
       "      <td>0</td>\n",
       "      <td>0</td>\n",
       "    </tr>\n",
       "    <tr>\n",
       "      <th>1</th>\n",
       "      <td>0</td>\n",
       "      <td>1</td>\n",
       "      <td>0</td>\n",
       "    </tr>\n",
       "    <tr>\n",
       "      <th>2</th>\n",
       "      <td>0</td>\n",
       "      <td>1</td>\n",
       "      <td>0</td>\n",
       "    </tr>\n",
       "    <tr>\n",
       "      <th>3</th>\n",
       "      <td>0</td>\n",
       "      <td>0</td>\n",
       "      <td>1</td>\n",
       "    </tr>\n",
       "    <tr>\n",
       "      <th>4</th>\n",
       "      <td>0</td>\n",
       "      <td>1</td>\n",
       "      <td>0</td>\n",
       "    </tr>\n",
       "  </tbody>\n",
       "</table>\n",
       "</div>"
      ],
      "text/plain": [
       "   1  2  4\n",
       "0  1  0  0\n",
       "1  0  1  0\n",
       "2  0  1  0\n",
       "3  0  0  1\n",
       "4  0  1  0"
      ]
     },
     "metadata": {},
     "output_type": "display_data"
    }
   ],
   "source": [
    "# 분류분석을 위기 위해, target을 원핫인코딩(라벨링 전환)\n",
    "data = np.array([1,2,2,4,2])\n",
    "print(data)\n",
    "categorical_one_hot = to_categorical(data)\n",
    "print('to_categorical을 이용한 원핫인코딩 :\\n', categorical_one_hot)\n",
    "import pandas as pd\n",
    "get_dumies_one_hot = pd.get_dummies(data)\n",
    "display('get_dumies를 이용한 원핫인코딩 :', get_dumies_one_hot)"
   ]
  },
  {
   "cell_type": "code",
   "execution_count": 6,
   "id": "98d020e4",
   "metadata": {},
   "outputs": [
    {
     "data": {
      "text/plain": [
       "array([[0., 0., 1., 0., 0., 0., 0., 0., 0., 0., 0., 0., 0., 0., 0., 0.,\n",
       "        0., 0., 0.],\n",
       "       [0., 0., 0., 0., 1., 0., 0., 0., 0., 0., 0., 0., 0., 0., 0., 0.,\n",
       "        0., 0., 0.],\n",
       "       [0., 0., 0., 0., 0., 0., 1., 0., 0., 0., 0., 0., 0., 0., 0., 0.,\n",
       "        0., 0., 0.],\n",
       "       [0., 0., 0., 0., 0., 0., 0., 0., 1., 0., 0., 0., 0., 0., 0., 0.,\n",
       "        0., 0., 0.],\n",
       "       [0., 0., 0., 0., 0., 0., 0., 0., 0., 0., 1., 0., 0., 0., 0., 0.,\n",
       "        0., 0., 0.],\n",
       "       [0., 0., 0., 0., 0., 0., 0., 0., 0., 0., 0., 0., 1., 0., 0., 0.,\n",
       "        0., 0., 0.],\n",
       "       [0., 0., 0., 0., 0., 0., 0., 0., 0., 0., 0., 0., 0., 0., 1., 0.,\n",
       "        0., 0., 0.],\n",
       "       [0., 0., 0., 0., 0., 0., 0., 0., 0., 0., 0., 0., 0., 0., 0., 0.,\n",
       "        1., 0., 0.],\n",
       "       [0., 0., 0., 0., 0., 0., 0., 0., 0., 0., 0., 0., 0., 0., 0., 0.,\n",
       "        0., 0., 1.]], dtype=float32)"
      ]
     },
     "execution_count": 6,
     "metadata": {},
     "output_type": "execute_result"
    }
   ],
   "source": [
    "# 분류분석을 위한 target변수 라벨링 전환(=원핫 인코딩)\n",
    "Y_train = to_categorical(y_train, 19)\n",
    "Y_val   = to_categorical(y_val)\n",
    "Y_test  = to_categorical(y_test)\n",
    "Y_test"
   ]
  },
  {
   "cell_type": "code",
   "execution_count": 7,
   "id": "ad57c76a",
   "metadata": {},
   "outputs": [
    {
     "name": "stdout",
     "output_type": "stream",
     "text": [
      "훈련셋 구조 : (90,) (90, 19)\n",
      "검증셋 구조 : (9,) (9, 19)\n",
      "테스트셋 구조 : (9,) (9, 19)\n"
     ]
    }
   ],
   "source": [
    "print('훈련셋 구조 :', x_train.shape, Y_train.shape) # 독립변수1개, 타겟변수 19\n",
    "print('검증셋 구조 :', x_val.shape, Y_val.shape)\n",
    "print('테스트셋 구조 :', x_test.shape, Y_test.shape)"
   ]
  },
  {
   "cell_type": "markdown",
   "id": "c522b9d6",
   "metadata": {},
   "source": [
    "# 3. 모델 구성하기"
   ]
  },
  {
   "cell_type": "code",
   "execution_count": 8,
   "id": "7867d8e0",
   "metadata": {},
   "outputs": [
    {
     "name": "stdout",
     "output_type": "stream",
     "text": [
      "Model: \"sequential\"\n",
      "_________________________________________________________________\n",
      " Layer (type)                Output Shape              Param #   \n",
      "=================================================================\n",
      " dense (Dense)               (None, 38)                76        \n",
      "                                                                 \n",
      " dense_1 (Dense)             (None, 64)                2496      \n",
      "                                                                 \n",
      " dense_2 (Dense)             (None, 32)                2080      \n",
      "                                                                 \n",
      " dense_3 (Dense)             (None, 19)                627       \n",
      "                                                                 \n",
      "=================================================================\n",
      "Total params: 5,279\n",
      "Trainable params: 5,279\n",
      "Non-trainable params: 0\n",
      "_________________________________________________________________\n"
     ]
    }
   ],
   "source": [
    "model = Sequential()\n",
    "model.add(Input(shape=(1,))) # 입력중\n",
    "model.add(Dense(units=38, activation='sigmoid')) # units출력수, 활성화함수 : relu, tanh\n",
    "model.add(Dense(units=64, activation='elu'))\n",
    "model.add(Dense(units=32, activation='elu'))\n",
    "model.add(Dense(units=19, activation='softmax'))\n",
    "# softmax : 모든 출력결과의 합이 1. 분류분석 마지막 layer(출력층)에서 activation으로\n",
    "model.summary()"
   ]
  },
  {
   "cell_type": "markdown",
   "id": "79b9955b",
   "metadata": {},
   "source": [
    "# 4. 모델 학습과정 설정\n"
   ]
  },
  {
   "cell_type": "code",
   "execution_count": 9,
   "id": "c56fb73b",
   "metadata": {},
   "outputs": [],
   "source": [
    "model.compile(loss=\"categorical_crossentropy\", # 분류분석에서의 손실함수(원핫 인코딩 有)\n",
    "              optimizer='sgd',\n",
    "              metrics=['accuracy']) # 평가지표 : accuracy"
   ]
  },
  {
   "cell_type": "code",
   "execution_count": 10,
   "id": "8a39eeef",
   "metadata": {},
   "outputs": [
    {
     "name": "stdout",
     "output_type": "stream",
     "text": [
      "Epoch 1/300\n",
      "9/9 - 1s - loss: 2.9009 - accuracy: 0.1111 - val_loss: 2.8225 - val_accuracy: 0.1111 - 670ms/epoch - 74ms/step\n",
      "Epoch 2/300\n",
      "9/9 - 0s - loss: 2.7905 - accuracy: 0.1111 - val_loss: 2.7295 - val_accuracy: 0.1111 - 51ms/epoch - 6ms/step\n",
      "Epoch 3/300\n",
      "9/9 - 0s - loss: 2.7045 - accuracy: 0.1111 - val_loss: 2.6543 - val_accuracy: 0.1111 - 49ms/epoch - 5ms/step\n",
      "Epoch 4/300\n",
      "9/9 - 0s - loss: 2.6366 - accuracy: 0.1111 - val_loss: 2.5904 - val_accuracy: 0.1111 - 46ms/epoch - 5ms/step\n",
      "Epoch 5/300\n",
      "9/9 - 0s - loss: 2.5767 - accuracy: 0.1111 - val_loss: 2.5338 - val_accuracy: 0.1111 - 53ms/epoch - 6ms/step\n",
      "Epoch 6/300\n",
      "9/9 - 0s - loss: 2.5217 - accuracy: 0.1111 - val_loss: 2.4833 - val_accuracy: 0.1111 - 54ms/epoch - 6ms/step\n",
      "Epoch 7/300\n",
      "9/9 - 0s - loss: 2.4775 - accuracy: 0.0556 - val_loss: 2.4378 - val_accuracy: 0.1111 - 46ms/epoch - 5ms/step\n",
      "Epoch 8/300\n",
      "9/9 - 0s - loss: 2.4315 - accuracy: 0.0889 - val_loss: 2.3968 - val_accuracy: 0.1111 - 49ms/epoch - 5ms/step\n",
      "Epoch 9/300\n",
      "9/9 - 0s - loss: 2.3921 - accuracy: 0.0889 - val_loss: 2.3601 - val_accuracy: 0.0000e+00 - 49ms/epoch - 5ms/step\n",
      "Epoch 10/300\n",
      "9/9 - 0s - loss: 2.3586 - accuracy: 0.0667 - val_loss: 2.3264 - val_accuracy: 0.0000e+00 - 49ms/epoch - 5ms/step\n",
      "Epoch 11/300\n",
      "9/9 - 0s - loss: 2.3305 - accuracy: 0.1444 - val_loss: 2.2958 - val_accuracy: 0.1111 - 48ms/epoch - 5ms/step\n",
      "Epoch 12/300\n",
      "9/9 - 0s - loss: 2.2951 - accuracy: 0.1667 - val_loss: 2.2676 - val_accuracy: 0.2222 - 53ms/epoch - 6ms/step\n",
      "Epoch 13/300\n",
      "9/9 - 0s - loss: 2.2706 - accuracy: 0.2222 - val_loss: 2.2418 - val_accuracy: 0.3333 - 41ms/epoch - 5ms/step\n",
      "Epoch 14/300\n",
      "9/9 - 0s - loss: 2.2470 - accuracy: 0.1889 - val_loss: 2.2181 - val_accuracy: 0.3333 - 47ms/epoch - 5ms/step\n",
      "Epoch 15/300\n",
      "9/9 - 0s - loss: 2.2184 - accuracy: 0.3111 - val_loss: 2.1962 - val_accuracy: 0.2222 - 47ms/epoch - 5ms/step\n",
      "Epoch 16/300\n",
      "9/9 - 0s - loss: 2.2032 - accuracy: 0.2222 - val_loss: 2.1758 - val_accuracy: 0.2222 - 48ms/epoch - 5ms/step\n",
      "Epoch 17/300\n",
      "9/9 - 0s - loss: 2.1903 - accuracy: 0.2222 - val_loss: 2.1571 - val_accuracy: 0.3333 - 44ms/epoch - 5ms/step\n",
      "Epoch 18/300\n",
      "9/9 - 0s - loss: 2.1630 - accuracy: 0.2333 - val_loss: 2.1389 - val_accuracy: 0.2222 - 43ms/epoch - 5ms/step\n",
      "Epoch 19/300\n",
      "9/9 - 0s - loss: 2.1505 - accuracy: 0.2444 - val_loss: 2.1221 - val_accuracy: 0.3333 - 47ms/epoch - 5ms/step\n",
      "Epoch 20/300\n",
      "9/9 - 0s - loss: 2.1329 - accuracy: 0.2222 - val_loss: 2.1056 - val_accuracy: 0.3333 - 47ms/epoch - 5ms/step\n",
      "Epoch 21/300\n",
      "9/9 - 0s - loss: 2.1189 - accuracy: 0.2444 - val_loss: 2.0897 - val_accuracy: 0.2222 - 51ms/epoch - 6ms/step\n",
      "Epoch 22/300\n",
      "9/9 - 0s - loss: 2.1010 - accuracy: 0.2444 - val_loss: 2.0744 - val_accuracy: 0.2222 - 47ms/epoch - 5ms/step\n",
      "Epoch 23/300\n",
      "9/9 - 0s - loss: 2.0888 - accuracy: 0.2556 - val_loss: 2.0594 - val_accuracy: 0.2222 - 45ms/epoch - 5ms/step\n",
      "Epoch 24/300\n",
      "9/9 - 0s - loss: 2.0705 - accuracy: 0.2444 - val_loss: 2.0446 - val_accuracy: 0.2222 - 52ms/epoch - 6ms/step\n",
      "Epoch 25/300\n",
      "9/9 - 0s - loss: 2.0579 - accuracy: 0.2222 - val_loss: 2.0295 - val_accuracy: 0.2222 - 44ms/epoch - 5ms/step\n",
      "Epoch 26/300\n",
      "9/9 - 0s - loss: 2.0404 - accuracy: 0.2333 - val_loss: 2.0147 - val_accuracy: 0.2222 - 45ms/epoch - 5ms/step\n",
      "Epoch 27/300\n",
      "9/9 - 0s - loss: 2.0297 - accuracy: 0.2111 - val_loss: 2.0001 - val_accuracy: 0.2222 - 51ms/epoch - 6ms/step\n",
      "Epoch 28/300\n",
      "9/9 - 0s - loss: 2.0137 - accuracy: 0.2222 - val_loss: 1.9849 - val_accuracy: 0.2222 - 45ms/epoch - 5ms/step\n",
      "Epoch 29/300\n",
      "9/9 - 0s - loss: 2.0001 - accuracy: 0.2778 - val_loss: 1.9700 - val_accuracy: 0.2222 - 46ms/epoch - 5ms/step\n",
      "Epoch 30/300\n",
      "9/9 - 0s - loss: 1.9884 - accuracy: 0.2111 - val_loss: 1.9544 - val_accuracy: 0.3333 - 46ms/epoch - 5ms/step\n",
      "Epoch 31/300\n",
      "9/9 - 0s - loss: 1.9667 - accuracy: 0.2556 - val_loss: 1.9386 - val_accuracy: 0.2222 - 45ms/epoch - 5ms/step\n",
      "Epoch 32/300\n",
      "9/9 - 0s - loss: 1.9467 - accuracy: 0.2778 - val_loss: 1.9229 - val_accuracy: 0.2222 - 43ms/epoch - 5ms/step\n",
      "Epoch 33/300\n",
      "9/9 - 0s - loss: 1.9372 - accuracy: 0.2111 - val_loss: 1.9075 - val_accuracy: 0.2222 - 43ms/epoch - 5ms/step\n",
      "Epoch 34/300\n",
      "9/9 - 0s - loss: 1.9240 - accuracy: 0.2222 - val_loss: 1.8921 - val_accuracy: 0.2222 - 45ms/epoch - 5ms/step\n",
      "Epoch 35/300\n",
      "9/9 - 0s - loss: 1.9039 - accuracy: 0.2778 - val_loss: 1.8765 - val_accuracy: 0.3333 - 49ms/epoch - 5ms/step\n",
      "Epoch 36/300\n",
      "9/9 - 0s - loss: 1.8899 - accuracy: 0.2556 - val_loss: 1.8612 - val_accuracy: 0.2222 - 42ms/epoch - 5ms/step\n",
      "Epoch 37/300\n",
      "9/9 - 0s - loss: 1.8774 - accuracy: 0.2667 - val_loss: 1.8460 - val_accuracy: 0.3333 - 47ms/epoch - 5ms/step\n",
      "Epoch 38/300\n",
      "9/9 - 0s - loss: 1.8648 - accuracy: 0.2667 - val_loss: 1.8307 - val_accuracy: 0.3333 - 44ms/epoch - 5ms/step\n",
      "Epoch 39/300\n",
      "9/9 - 0s - loss: 1.8452 - accuracy: 0.2667 - val_loss: 1.8159 - val_accuracy: 0.3333 - 51ms/epoch - 6ms/step\n",
      "Epoch 40/300\n",
      "9/9 - 0s - loss: 1.8353 - accuracy: 0.3000 - val_loss: 1.8004 - val_accuracy: 0.2222 - 47ms/epoch - 5ms/step\n",
      "Epoch 41/300\n",
      "9/9 - 0s - loss: 1.8125 - accuracy: 0.3222 - val_loss: 1.7867 - val_accuracy: 0.2222 - 52ms/epoch - 6ms/step\n",
      "Epoch 42/300\n",
      "9/9 - 0s - loss: 1.7970 - accuracy: 0.2444 - val_loss: 1.7703 - val_accuracy: 0.3333 - 56ms/epoch - 6ms/step\n",
      "Epoch 43/300\n",
      "9/9 - 0s - loss: 1.7825 - accuracy: 0.3333 - val_loss: 1.7552 - val_accuracy: 0.2222 - 49ms/epoch - 5ms/step\n",
      "Epoch 44/300\n",
      "9/9 - 0s - loss: 1.7776 - accuracy: 0.2667 - val_loss: 1.7409 - val_accuracy: 0.4444 - 50ms/epoch - 6ms/step\n",
      "Epoch 45/300\n",
      "9/9 - 0s - loss: 1.7599 - accuracy: 0.3111 - val_loss: 1.7262 - val_accuracy: 0.3333 - 54ms/epoch - 6ms/step\n",
      "Epoch 46/300\n",
      "9/9 - 0s - loss: 1.7368 - accuracy: 0.3333 - val_loss: 1.7115 - val_accuracy: 0.3333 - 51ms/epoch - 6ms/step\n",
      "Epoch 47/300\n",
      "9/9 - 0s - loss: 1.7286 - accuracy: 0.2778 - val_loss: 1.6969 - val_accuracy: 0.3333 - 50ms/epoch - 6ms/step\n",
      "Epoch 48/300\n",
      "9/9 - 0s - loss: 1.7153 - accuracy: 0.2556 - val_loss: 1.6829 - val_accuracy: 0.3333 - 49ms/epoch - 5ms/step\n",
      "Epoch 49/300\n",
      "9/9 - 0s - loss: 1.7006 - accuracy: 0.3222 - val_loss: 1.6684 - val_accuracy: 0.3333 - 49ms/epoch - 5ms/step\n",
      "Epoch 50/300\n",
      "9/9 - 0s - loss: 1.6821 - accuracy: 0.3333 - val_loss: 1.6544 - val_accuracy: 0.3333 - 49ms/epoch - 5ms/step\n",
      "Epoch 51/300\n",
      "9/9 - 0s - loss: 1.6717 - accuracy: 0.3222 - val_loss: 1.6412 - val_accuracy: 0.3333 - 53ms/epoch - 6ms/step\n",
      "Epoch 52/300\n",
      "9/9 - 0s - loss: 1.6528 - accuracy: 0.2444 - val_loss: 1.6271 - val_accuracy: 0.3333 - 47ms/epoch - 5ms/step\n",
      "Epoch 53/300\n",
      "9/9 - 0s - loss: 1.6499 - accuracy: 0.3333 - val_loss: 1.6127 - val_accuracy: 0.3333 - 42ms/epoch - 5ms/step\n",
      "Epoch 54/300\n",
      "9/9 - 0s - loss: 1.6333 - accuracy: 0.2889 - val_loss: 1.5991 - val_accuracy: 0.3333 - 41ms/epoch - 5ms/step\n",
      "Epoch 55/300\n",
      "9/9 - 0s - loss: 1.6178 - accuracy: 0.3333 - val_loss: 1.5861 - val_accuracy: 0.4444 - 46ms/epoch - 5ms/step\n",
      "Epoch 56/300\n",
      "9/9 - 0s - loss: 1.6048 - accuracy: 0.3111 - val_loss: 1.5733 - val_accuracy: 0.4444 - 45ms/epoch - 5ms/step\n",
      "Epoch 57/300\n",
      "9/9 - 0s - loss: 1.5964 - accuracy: 0.3444 - val_loss: 1.5606 - val_accuracy: 0.5556 - 46ms/epoch - 5ms/step\n",
      "Epoch 58/300\n",
      "9/9 - 0s - loss: 1.5749 - accuracy: 0.3889 - val_loss: 1.5479 - val_accuracy: 0.4444 - 50ms/epoch - 6ms/step\n",
      "Epoch 59/300\n",
      "9/9 - 0s - loss: 1.5685 - accuracy: 0.3889 - val_loss: 1.5351 - val_accuracy: 0.4444 - 52ms/epoch - 6ms/step\n",
      "Epoch 60/300\n",
      "9/9 - 0s - loss: 1.5512 - accuracy: 0.3333 - val_loss: 1.5231 - val_accuracy: 0.3333 - 51ms/epoch - 6ms/step\n",
      "Epoch 61/300\n",
      "9/9 - 0s - loss: 1.5393 - accuracy: 0.3222 - val_loss: 1.5105 - val_accuracy: 0.4444 - 43ms/epoch - 5ms/step\n",
      "Epoch 62/300\n",
      "9/9 - 0s - loss: 1.5241 - accuracy: 0.3889 - val_loss: 1.4986 - val_accuracy: 0.4444 - 44ms/epoch - 5ms/step\n",
      "Epoch 63/300\n",
      "9/9 - 0s - loss: 1.5130 - accuracy: 0.4111 - val_loss: 1.4870 - val_accuracy: 0.3333 - 44ms/epoch - 5ms/step\n",
      "Epoch 64/300\n",
      "9/9 - 0s - loss: 1.4992 - accuracy: 0.4444 - val_loss: 1.4759 - val_accuracy: 0.4444 - 45ms/epoch - 5ms/step\n",
      "Epoch 65/300\n",
      "9/9 - 0s - loss: 1.4873 - accuracy: 0.4556 - val_loss: 1.4658 - val_accuracy: 0.4444 - 48ms/epoch - 5ms/step\n",
      "Epoch 66/300\n",
      "9/9 - 0s - loss: 1.4778 - accuracy: 0.4778 - val_loss: 1.4534 - val_accuracy: 0.5556 - 44ms/epoch - 5ms/step\n",
      "Epoch 67/300\n",
      "9/9 - 0s - loss: 1.4672 - accuracy: 0.4333 - val_loss: 1.4437 - val_accuracy: 0.5556 - 46ms/epoch - 5ms/step\n",
      "Epoch 68/300\n",
      "9/9 - 0s - loss: 1.4634 - accuracy: 0.5000 - val_loss: 1.4338 - val_accuracy: 0.6667 - 46ms/epoch - 5ms/step\n",
      "Epoch 69/300\n",
      "9/9 - 0s - loss: 1.4487 - accuracy: 0.5222 - val_loss: 1.4214 - val_accuracy: 0.4444 - 49ms/epoch - 5ms/step\n",
      "Epoch 70/300\n",
      "9/9 - 0s - loss: 1.4460 - accuracy: 0.4556 - val_loss: 1.4107 - val_accuracy: 0.5556 - 46ms/epoch - 5ms/step\n",
      "Epoch 71/300\n",
      "9/9 - 0s - loss: 1.4241 - accuracy: 0.4667 - val_loss: 1.4008 - val_accuracy: 0.5556 - 44ms/epoch - 5ms/step\n",
      "Epoch 72/300\n",
      "9/9 - 0s - loss: 1.4123 - accuracy: 0.5667 - val_loss: 1.3907 - val_accuracy: 0.6667 - 47ms/epoch - 5ms/step\n",
      "Epoch 73/300\n",
      "9/9 - 0s - loss: 1.4080 - accuracy: 0.5333 - val_loss: 1.3812 - val_accuracy: 0.5556 - 43ms/epoch - 5ms/step\n",
      "Epoch 74/300\n",
      "9/9 - 0s - loss: 1.3964 - accuracy: 0.4889 - val_loss: 1.3712 - val_accuracy: 0.6667 - 44ms/epoch - 5ms/step\n",
      "Epoch 75/300\n",
      "9/9 - 0s - loss: 1.3927 - accuracy: 0.5556 - val_loss: 1.3613 - val_accuracy: 0.6667 - 43ms/epoch - 5ms/step\n",
      "Epoch 76/300\n",
      "9/9 - 0s - loss: 1.3757 - accuracy: 0.5556 - val_loss: 1.3525 - val_accuracy: 0.5556 - 46ms/epoch - 5ms/step\n",
      "Epoch 77/300\n",
      "9/9 - 0s - loss: 1.3717 - accuracy: 0.5889 - val_loss: 1.3430 - val_accuracy: 0.4444 - 43ms/epoch - 5ms/step\n",
      "Epoch 78/300\n",
      "9/9 - 0s - loss: 1.3570 - accuracy: 0.4556 - val_loss: 1.3340 - val_accuracy: 0.7778 - 46ms/epoch - 5ms/step\n",
      "Epoch 79/300\n",
      "9/9 - 0s - loss: 1.3565 - accuracy: 0.6333 - val_loss: 1.3257 - val_accuracy: 0.6667 - 49ms/epoch - 5ms/step\n",
      "Epoch 80/300\n",
      "9/9 - 0s - loss: 1.3400 - accuracy: 0.5444 - val_loss: 1.3162 - val_accuracy: 0.7778 - 63ms/epoch - 7ms/step\n",
      "Epoch 81/300\n",
      "9/9 - 0s - loss: 1.3321 - accuracy: 0.6778 - val_loss: 1.3071 - val_accuracy: 0.6667 - 52ms/epoch - 6ms/step\n",
      "Epoch 82/300\n",
      "9/9 - 0s - loss: 1.3315 - accuracy: 0.5000 - val_loss: 1.2997 - val_accuracy: 0.6667 - 50ms/epoch - 6ms/step\n",
      "Epoch 83/300\n",
      "9/9 - 0s - loss: 1.3126 - accuracy: 0.6222 - val_loss: 1.2911 - val_accuracy: 0.7778 - 52ms/epoch - 6ms/step\n",
      "Epoch 84/300\n",
      "9/9 - 0s - loss: 1.3147 - accuracy: 0.5889 - val_loss: 1.2818 - val_accuracy: 0.6667 - 51ms/epoch - 6ms/step\n",
      "Epoch 85/300\n",
      "9/9 - 0s - loss: 1.3048 - accuracy: 0.6000 - val_loss: 1.2745 - val_accuracy: 0.7778 - 52ms/epoch - 6ms/step\n",
      "Epoch 86/300\n",
      "9/9 - 0s - loss: 1.2916 - accuracy: 0.6000 - val_loss: 1.2665 - val_accuracy: 0.7778 - 51ms/epoch - 6ms/step\n",
      "Epoch 87/300\n",
      "9/9 - 0s - loss: 1.2848 - accuracy: 0.7111 - val_loss: 1.2577 - val_accuracy: 0.7778 - 49ms/epoch - 5ms/step\n",
      "Epoch 88/300\n",
      "9/9 - 0s - loss: 1.2794 - accuracy: 0.7111 - val_loss: 1.2487 - val_accuracy: 0.6667 - 53ms/epoch - 6ms/step\n",
      "Epoch 89/300\n",
      "9/9 - 0s - loss: 1.2676 - accuracy: 0.7333 - val_loss: 1.2411 - val_accuracy: 0.8889 - 58ms/epoch - 6ms/step\n",
      "Epoch 90/300\n",
      "9/9 - 0s - loss: 1.2607 - accuracy: 0.7222 - val_loss: 1.2332 - val_accuracy: 0.7778 - 49ms/epoch - 5ms/step\n",
      "Epoch 91/300\n",
      "9/9 - 0s - loss: 1.2506 - accuracy: 0.7556 - val_loss: 1.2252 - val_accuracy: 0.6667 - 53ms/epoch - 6ms/step\n",
      "Epoch 92/300\n",
      "9/9 - 0s - loss: 1.2453 - accuracy: 0.6111 - val_loss: 1.2179 - val_accuracy: 0.8889 - 53ms/epoch - 6ms/step\n",
      "Epoch 93/300\n",
      "9/9 - 0s - loss: 1.2288 - accuracy: 0.7667 - val_loss: 1.2121 - val_accuracy: 0.7778 - 44ms/epoch - 5ms/step\n",
      "Epoch 94/300\n",
      "9/9 - 0s - loss: 1.2282 - accuracy: 0.7000 - val_loss: 1.2029 - val_accuracy: 0.8889 - 45ms/epoch - 5ms/step\n",
      "Epoch 95/300\n",
      "9/9 - 0s - loss: 1.2164 - accuracy: 0.8222 - val_loss: 1.1952 - val_accuracy: 0.7778 - 48ms/epoch - 5ms/step\n",
      "Epoch 96/300\n",
      "9/9 - 0s - loss: 1.2175 - accuracy: 0.7333 - val_loss: 1.1879 - val_accuracy: 0.7778 - 46ms/epoch - 5ms/step\n",
      "Epoch 97/300\n",
      "9/9 - 0s - loss: 1.2149 - accuracy: 0.6556 - val_loss: 1.1797 - val_accuracy: 0.8889 - 45ms/epoch - 5ms/step\n",
      "Epoch 98/300\n",
      "9/9 - 0s - loss: 1.2026 - accuracy: 0.7444 - val_loss: 1.1736 - val_accuracy: 0.8889 - 42ms/epoch - 5ms/step\n",
      "Epoch 99/300\n",
      "9/9 - 0s - loss: 1.1923 - accuracy: 0.7556 - val_loss: 1.1669 - val_accuracy: 0.7778 - 43ms/epoch - 5ms/step\n",
      "Epoch 100/300\n",
      "9/9 - 0s - loss: 1.1830 - accuracy: 0.6778 - val_loss: 1.1581 - val_accuracy: 0.7778 - 108ms/epoch - 12ms/step\n",
      "Epoch 101/300\n",
      "9/9 - 0s - loss: 1.1855 - accuracy: 0.7556 - val_loss: 1.1522 - val_accuracy: 0.7778 - 57ms/epoch - 6ms/step\n",
      "Epoch 102/300\n",
      "9/9 - 0s - loss: 1.1881 - accuracy: 0.7556 - val_loss: 1.1455 - val_accuracy: 0.8889 - 46ms/epoch - 5ms/step\n",
      "Epoch 103/300\n",
      "9/9 - 0s - loss: 1.1614 - accuracy: 0.7556 - val_loss: 1.1395 - val_accuracy: 0.7778 - 48ms/epoch - 5ms/step\n",
      "Epoch 104/300\n",
      "9/9 - 0s - loss: 1.1660 - accuracy: 0.6556 - val_loss: 1.1319 - val_accuracy: 0.8889 - 50ms/epoch - 6ms/step\n",
      "Epoch 105/300\n",
      "9/9 - 0s - loss: 1.1515 - accuracy: 0.8222 - val_loss: 1.1252 - val_accuracy: 0.7778 - 46ms/epoch - 5ms/step\n",
      "Epoch 106/300\n",
      "9/9 - 0s - loss: 1.1482 - accuracy: 0.7667 - val_loss: 1.1188 - val_accuracy: 0.7778 - 50ms/epoch - 6ms/step\n",
      "Epoch 107/300\n",
      "9/9 - 0s - loss: 1.1429 - accuracy: 0.7889 - val_loss: 1.1112 - val_accuracy: 0.7778 - 44ms/epoch - 5ms/step\n",
      "Epoch 108/300\n",
      "9/9 - 0s - loss: 1.1292 - accuracy: 0.7556 - val_loss: 1.1050 - val_accuracy: 0.7778 - 48ms/epoch - 5ms/step\n",
      "Epoch 109/300\n",
      "9/9 - 0s - loss: 1.1180 - accuracy: 0.8000 - val_loss: 1.0974 - val_accuracy: 0.7778 - 43ms/epoch - 5ms/step\n",
      "Epoch 110/300\n",
      "9/9 - 0s - loss: 1.1230 - accuracy: 0.8222 - val_loss: 1.0917 - val_accuracy: 0.8889 - 44ms/epoch - 5ms/step\n",
      "Epoch 111/300\n",
      "9/9 - 0s - loss: 1.1113 - accuracy: 0.8000 - val_loss: 1.0868 - val_accuracy: 0.7778 - 44ms/epoch - 5ms/step\n",
      "Epoch 112/300\n",
      "9/9 - 0s - loss: 1.1042 - accuracy: 0.7778 - val_loss: 1.0812 - val_accuracy: 0.7778 - 43ms/epoch - 5ms/step\n",
      "Epoch 113/300\n",
      "9/9 - 0s - loss: 1.1068 - accuracy: 0.7444 - val_loss: 1.0748 - val_accuracy: 0.8889 - 43ms/epoch - 5ms/step\n",
      "Epoch 114/300\n",
      "9/9 - 0s - loss: 1.0980 - accuracy: 0.7667 - val_loss: 1.0672 - val_accuracy: 0.7778 - 46ms/epoch - 5ms/step\n",
      "Epoch 115/300\n",
      "9/9 - 0s - loss: 1.0938 - accuracy: 0.7333 - val_loss: 1.0607 - val_accuracy: 0.8889 - 49ms/epoch - 5ms/step\n",
      "Epoch 116/300\n",
      "9/9 - 0s - loss: 1.0870 - accuracy: 0.7889 - val_loss: 1.0553 - val_accuracy: 0.8889 - 52ms/epoch - 6ms/step\n",
      "Epoch 117/300\n",
      "9/9 - 0s - loss: 1.0783 - accuracy: 0.8556 - val_loss: 1.0483 - val_accuracy: 0.8889 - 46ms/epoch - 5ms/step\n",
      "Epoch 118/300\n",
      "9/9 - 0s - loss: 1.0766 - accuracy: 0.7444 - val_loss: 1.0421 - val_accuracy: 0.8889 - 47ms/epoch - 5ms/step\n",
      "Epoch 119/300\n",
      "9/9 - 0s - loss: 1.0646 - accuracy: 0.7556 - val_loss: 1.0377 - val_accuracy: 1.0000 - 52ms/epoch - 6ms/step\n",
      "Epoch 120/300\n",
      "9/9 - 0s - loss: 1.0586 - accuracy: 0.7889 - val_loss: 1.0308 - val_accuracy: 0.8889 - 51ms/epoch - 6ms/step\n",
      "Epoch 121/300\n",
      "9/9 - 0s - loss: 1.0536 - accuracy: 0.8111 - val_loss: 1.0281 - val_accuracy: 0.7778 - 51ms/epoch - 6ms/step\n",
      "Epoch 122/300\n",
      "9/9 - 0s - loss: 1.0479 - accuracy: 0.7778 - val_loss: 1.0206 - val_accuracy: 0.7778 - 53ms/epoch - 6ms/step\n",
      "Epoch 123/300\n",
      "9/9 - 0s - loss: 1.0543 - accuracy: 0.8000 - val_loss: 1.0153 - val_accuracy: 0.8889 - 53ms/epoch - 6ms/step\n",
      "Epoch 124/300\n",
      "9/9 - 0s - loss: 1.0435 - accuracy: 0.8444 - val_loss: 1.0085 - val_accuracy: 1.0000 - 50ms/epoch - 6ms/step\n",
      "Epoch 125/300\n",
      "9/9 - 0s - loss: 1.0276 - accuracy: 0.8333 - val_loss: 1.0022 - val_accuracy: 1.0000 - 51ms/epoch - 6ms/step\n",
      "Epoch 126/300\n",
      "9/9 - 0s - loss: 1.0189 - accuracy: 0.8667 - val_loss: 0.9970 - val_accuracy: 0.8889 - 49ms/epoch - 5ms/step\n",
      "Epoch 127/300\n",
      "9/9 - 0s - loss: 1.0173 - accuracy: 0.8111 - val_loss: 0.9922 - val_accuracy: 0.8889 - 47ms/epoch - 5ms/step\n",
      "Epoch 128/300\n",
      "9/9 - 0s - loss: 1.0252 - accuracy: 0.8444 - val_loss: 0.9876 - val_accuracy: 0.7778 - 54ms/epoch - 6ms/step\n",
      "Epoch 129/300\n",
      "9/9 - 0s - loss: 1.0018 - accuracy: 0.8111 - val_loss: 0.9818 - val_accuracy: 1.0000 - 56ms/epoch - 6ms/step\n",
      "Epoch 130/300\n",
      "9/9 - 0s - loss: 1.0141 - accuracy: 0.7778 - val_loss: 0.9761 - val_accuracy: 0.8889 - 44ms/epoch - 5ms/step\n",
      "Epoch 131/300\n",
      "9/9 - 0s - loss: 0.9997 - accuracy: 0.8778 - val_loss: 0.9739 - val_accuracy: 0.8889 - 44ms/epoch - 5ms/step\n",
      "Epoch 132/300\n",
      "9/9 - 0s - loss: 0.9916 - accuracy: 0.8333 - val_loss: 0.9671 - val_accuracy: 0.7778 - 41ms/epoch - 5ms/step\n",
      "Epoch 133/300\n",
      "9/9 - 0s - loss: 0.9845 - accuracy: 0.8222 - val_loss: 0.9587 - val_accuracy: 0.8889 - 43ms/epoch - 5ms/step\n",
      "Epoch 134/300\n",
      "9/9 - 0s - loss: 0.9955 - accuracy: 0.8778 - val_loss: 0.9561 - val_accuracy: 0.8889 - 46ms/epoch - 5ms/step\n",
      "Epoch 135/300\n",
      "9/9 - 0s - loss: 0.9751 - accuracy: 0.8333 - val_loss: 0.9553 - val_accuracy: 1.0000 - 48ms/epoch - 5ms/step\n",
      "Epoch 136/300\n",
      "9/9 - 0s - loss: 0.9798 - accuracy: 0.7556 - val_loss: 0.9486 - val_accuracy: 0.8889 - 60ms/epoch - 7ms/step\n",
      "Epoch 137/300\n",
      "9/9 - 0s - loss: 0.9636 - accuracy: 0.8000 - val_loss: 0.9407 - val_accuracy: 1.0000 - 48ms/epoch - 5ms/step\n",
      "Epoch 138/300\n",
      "9/9 - 0s - loss: 0.9656 - accuracy: 0.8111 - val_loss: 0.9377 - val_accuracy: 0.8889 - 45ms/epoch - 5ms/step\n",
      "Epoch 139/300\n",
      "9/9 - 0s - loss: 0.9580 - accuracy: 0.8222 - val_loss: 0.9297 - val_accuracy: 0.8889 - 42ms/epoch - 5ms/step\n",
      "Epoch 140/300\n",
      "9/9 - 0s - loss: 0.9658 - accuracy: 0.7667 - val_loss: 0.9256 - val_accuracy: 0.8889 - 44ms/epoch - 5ms/step\n",
      "Epoch 141/300\n",
      "9/9 - 0s - loss: 0.9569 - accuracy: 0.8444 - val_loss: 0.9214 - val_accuracy: 0.8889 - 42ms/epoch - 5ms/step\n",
      "Epoch 142/300\n",
      "9/9 - 0s - loss: 0.9428 - accuracy: 0.8333 - val_loss: 0.9209 - val_accuracy: 0.8889 - 42ms/epoch - 5ms/step\n",
      "Epoch 143/300\n",
      "9/9 - 0s - loss: 0.9438 - accuracy: 0.8222 - val_loss: 0.9102 - val_accuracy: 0.8889 - 45ms/epoch - 5ms/step\n",
      "Epoch 144/300\n",
      "9/9 - 0s - loss: 0.9386 - accuracy: 0.8778 - val_loss: 0.9072 - val_accuracy: 1.0000 - 43ms/epoch - 5ms/step\n",
      "Epoch 145/300\n",
      "9/9 - 0s - loss: 0.9222 - accuracy: 0.9556 - val_loss: 0.9022 - val_accuracy: 0.7778 - 42ms/epoch - 5ms/step\n",
      "Epoch 146/300\n",
      "9/9 - 0s - loss: 0.9266 - accuracy: 0.9111 - val_loss: 0.8982 - val_accuracy: 0.8889 - 47ms/epoch - 5ms/step\n",
      "Epoch 147/300\n",
      "9/9 - 0s - loss: 0.9069 - accuracy: 0.8889 - val_loss: 0.8976 - val_accuracy: 0.8889 - 43ms/epoch - 5ms/step\n",
      "Epoch 148/300\n",
      "9/9 - 0s - loss: 0.9143 - accuracy: 0.7556 - val_loss: 0.8902 - val_accuracy: 0.7778 - 109ms/epoch - 12ms/step\n",
      "Epoch 149/300\n",
      "9/9 - 0s - loss: 0.9171 - accuracy: 0.8111 - val_loss: 0.8817 - val_accuracy: 1.0000 - 56ms/epoch - 6ms/step\n",
      "Epoch 150/300\n",
      "9/9 - 0s - loss: 0.9094 - accuracy: 0.8556 - val_loss: 0.8781 - val_accuracy: 1.0000 - 44ms/epoch - 5ms/step\n",
      "Epoch 151/300\n",
      "9/9 - 0s - loss: 0.9064 - accuracy: 0.8556 - val_loss: 0.8753 - val_accuracy: 0.8889 - 43ms/epoch - 5ms/step\n",
      "Epoch 152/300\n",
      "9/9 - 0s - loss: 0.8899 - accuracy: 0.8556 - val_loss: 0.8738 - val_accuracy: 0.8889 - 50ms/epoch - 6ms/step\n",
      "Epoch 153/300\n",
      "9/9 - 0s - loss: 0.8979 - accuracy: 0.8333 - val_loss: 0.8661 - val_accuracy: 0.8889 - 43ms/epoch - 5ms/step\n",
      "Epoch 154/300\n",
      "9/9 - 0s - loss: 0.8831 - accuracy: 0.8556 - val_loss: 0.8600 - val_accuracy: 1.0000 - 47ms/epoch - 5ms/step\n",
      "Epoch 155/300\n",
      "9/9 - 0s - loss: 0.8915 - accuracy: 0.9222 - val_loss: 0.8558 - val_accuracy: 1.0000 - 48ms/epoch - 5ms/step\n",
      "Epoch 156/300\n",
      "9/9 - 0s - loss: 0.8713 - accuracy: 0.8778 - val_loss: 0.8536 - val_accuracy: 0.8889 - 53ms/epoch - 6ms/step\n",
      "Epoch 157/300\n",
      "9/9 - 0s - loss: 0.8774 - accuracy: 0.8333 - val_loss: 0.8505 - val_accuracy: 1.0000 - 53ms/epoch - 6ms/step\n",
      "Epoch 158/300\n",
      "9/9 - 0s - loss: 0.8704 - accuracy: 0.9000 - val_loss: 0.8440 - val_accuracy: 0.8889 - 53ms/epoch - 6ms/step\n",
      "Epoch 159/300\n",
      "9/9 - 0s - loss: 0.8695 - accuracy: 0.8889 - val_loss: 0.8366 - val_accuracy: 1.0000 - 51ms/epoch - 6ms/step\n",
      "Epoch 160/300\n",
      "9/9 - 0s - loss: 0.8611 - accuracy: 0.8889 - val_loss: 0.8404 - val_accuracy: 0.8889 - 55ms/epoch - 6ms/step\n",
      "Epoch 161/300\n",
      "9/9 - 0s - loss: 0.8643 - accuracy: 0.8667 - val_loss: 0.8287 - val_accuracy: 0.8889 - 52ms/epoch - 6ms/step\n",
      "Epoch 162/300\n",
      "9/9 - 0s - loss: 0.8556 - accuracy: 0.8778 - val_loss: 0.8240 - val_accuracy: 1.0000 - 51ms/epoch - 6ms/step\n",
      "Epoch 163/300\n",
      "9/9 - 0s - loss: 0.8354 - accuracy: 0.9667 - val_loss: 0.8188 - val_accuracy: 1.0000 - 51ms/epoch - 6ms/step\n",
      "Epoch 164/300\n",
      "9/9 - 0s - loss: 0.8463 - accuracy: 0.9000 - val_loss: 0.8178 - val_accuracy: 1.0000 - 50ms/epoch - 6ms/step\n",
      "Epoch 165/300\n",
      "9/9 - 0s - loss: 0.8357 - accuracy: 0.9222 - val_loss: 0.8178 - val_accuracy: 0.8889 - 51ms/epoch - 6ms/step\n",
      "Epoch 166/300\n",
      "9/9 - 0s - loss: 0.8475 - accuracy: 0.7556 - val_loss: 0.8123 - val_accuracy: 0.8889 - 50ms/epoch - 6ms/step\n",
      "Epoch 167/300\n",
      "9/9 - 0s - loss: 0.8349 - accuracy: 0.8889 - val_loss: 0.8047 - val_accuracy: 0.8889 - 47ms/epoch - 5ms/step\n",
      "Epoch 168/300\n",
      "9/9 - 0s - loss: 0.8213 - accuracy: 0.9000 - val_loss: 0.7981 - val_accuracy: 0.8889 - 46ms/epoch - 5ms/step\n",
      "Epoch 169/300\n",
      "9/9 - 0s - loss: 0.8200 - accuracy: 0.8556 - val_loss: 0.7986 - val_accuracy: 0.8889 - 46ms/epoch - 5ms/step\n",
      "Epoch 170/300\n",
      "9/9 - 0s - loss: 0.8275 - accuracy: 0.8444 - val_loss: 0.7897 - val_accuracy: 1.0000 - 44ms/epoch - 5ms/step\n",
      "Epoch 171/300\n",
      "9/9 - 0s - loss: 0.8240 - accuracy: 0.8778 - val_loss: 0.7926 - val_accuracy: 1.0000 - 45ms/epoch - 5ms/step\n",
      "Epoch 172/300\n",
      "9/9 - 0s - loss: 0.8061 - accuracy: 0.8222 - val_loss: 0.7827 - val_accuracy: 0.8889 - 50ms/epoch - 6ms/step\n",
      "Epoch 173/300\n",
      "9/9 - 0s - loss: 0.8036 - accuracy: 0.8778 - val_loss: 0.7857 - val_accuracy: 0.8889 - 49ms/epoch - 5ms/step\n",
      "Epoch 174/300\n",
      "9/9 - 0s - loss: 0.8117 - accuracy: 0.8333 - val_loss: 0.7783 - val_accuracy: 0.8889 - 50ms/epoch - 6ms/step\n",
      "Epoch 175/300\n",
      "9/9 - 0s - loss: 0.8009 - accuracy: 0.9111 - val_loss: 0.7706 - val_accuracy: 1.0000 - 53ms/epoch - 6ms/step\n",
      "Epoch 176/300\n",
      "9/9 - 0s - loss: 0.8033 - accuracy: 0.9000 - val_loss: 0.7716 - val_accuracy: 1.0000 - 43ms/epoch - 5ms/step\n",
      "Epoch 177/300\n",
      "9/9 - 0s - loss: 0.7864 - accuracy: 0.9000 - val_loss: 0.7701 - val_accuracy: 0.8889 - 47ms/epoch - 5ms/step\n",
      "Epoch 178/300\n",
      "9/9 - 0s - loss: 0.8018 - accuracy: 0.8111 - val_loss: 0.7587 - val_accuracy: 0.8889 - 45ms/epoch - 5ms/step\n",
      "Epoch 179/300\n",
      "9/9 - 0s - loss: 0.7776 - accuracy: 0.9111 - val_loss: 0.7530 - val_accuracy: 1.0000 - 54ms/epoch - 6ms/step\n",
      "Epoch 180/300\n",
      "9/9 - 0s - loss: 0.7731 - accuracy: 0.9444 - val_loss: 0.7595 - val_accuracy: 1.0000 - 43ms/epoch - 5ms/step\n",
      "Epoch 181/300\n",
      "9/9 - 0s - loss: 0.7882 - accuracy: 0.8556 - val_loss: 0.7541 - val_accuracy: 0.8889 - 45ms/epoch - 5ms/step\n",
      "Epoch 182/300\n",
      "9/9 - 0s - loss: 0.7762 - accuracy: 0.8556 - val_loss: 0.7529 - val_accuracy: 0.7778 - 45ms/epoch - 5ms/step\n",
      "Epoch 183/300\n",
      "9/9 - 0s - loss: 0.7677 - accuracy: 0.9000 - val_loss: 0.7428 - val_accuracy: 1.0000 - 48ms/epoch - 5ms/step\n",
      "Epoch 184/300\n",
      "9/9 - 0s - loss: 0.7593 - accuracy: 0.9444 - val_loss: 0.7343 - val_accuracy: 0.8889 - 47ms/epoch - 5ms/step\n",
      "Epoch 185/300\n",
      "9/9 - 0s - loss: 0.7652 - accuracy: 0.8778 - val_loss: 0.7369 - val_accuracy: 1.0000 - 51ms/epoch - 6ms/step\n",
      "Epoch 186/300\n",
      "9/9 - 0s - loss: 0.7506 - accuracy: 0.9778 - val_loss: 0.7318 - val_accuracy: 0.8889 - 47ms/epoch - 5ms/step\n",
      "Epoch 187/300\n",
      "9/9 - 0s - loss: 0.7538 - accuracy: 0.9111 - val_loss: 0.7238 - val_accuracy: 0.8889 - 48ms/epoch - 5ms/step\n",
      "Epoch 188/300\n",
      "9/9 - 0s - loss: 0.7523 - accuracy: 0.8778 - val_loss: 0.7290 - val_accuracy: 0.8889 - 47ms/epoch - 5ms/step\n",
      "Epoch 189/300\n",
      "9/9 - 0s - loss: 0.7389 - accuracy: 0.8889 - val_loss: 0.7230 - val_accuracy: 0.8889 - 44ms/epoch - 5ms/step\n",
      "Epoch 190/300\n",
      "9/9 - 0s - loss: 0.7472 - accuracy: 0.9222 - val_loss: 0.7188 - val_accuracy: 0.8889 - 42ms/epoch - 5ms/step\n",
      "Epoch 191/300\n",
      "9/9 - 0s - loss: 0.7382 - accuracy: 0.8778 - val_loss: 0.7134 - val_accuracy: 1.0000 - 43ms/epoch - 5ms/step\n",
      "Epoch 192/300\n",
      "9/9 - 0s - loss: 0.7243 - accuracy: 0.9778 - val_loss: 0.7046 - val_accuracy: 0.8889 - 42ms/epoch - 5ms/step\n",
      "Epoch 193/300\n",
      "9/9 - 0s - loss: 0.7354 - accuracy: 0.9000 - val_loss: 0.7041 - val_accuracy: 1.0000 - 59ms/epoch - 7ms/step\n",
      "Epoch 194/300\n",
      "9/9 - 0s - loss: 0.7277 - accuracy: 0.9667 - val_loss: 0.7029 - val_accuracy: 0.8889 - 105ms/epoch - 12ms/step\n",
      "Epoch 195/300\n",
      "9/9 - 0s - loss: 0.7430 - accuracy: 0.7889 - val_loss: 0.7095 - val_accuracy: 0.8889 - 59ms/epoch - 7ms/step\n",
      "Epoch 196/300\n",
      "9/9 - 0s - loss: 0.7321 - accuracy: 0.9111 - val_loss: 0.6923 - val_accuracy: 1.0000 - 49ms/epoch - 5ms/step\n",
      "Epoch 197/300\n",
      "9/9 - 0s - loss: 0.7067 - accuracy: 0.9111 - val_loss: 0.6893 - val_accuracy: 1.0000 - 52ms/epoch - 6ms/step\n",
      "Epoch 198/300\n",
      "9/9 - 0s - loss: 0.7062 - accuracy: 0.9556 - val_loss: 0.6886 - val_accuracy: 0.8889 - 50ms/epoch - 6ms/step\n",
      "Epoch 199/300\n",
      "9/9 - 0s - loss: 0.7166 - accuracy: 0.8556 - val_loss: 0.6854 - val_accuracy: 0.8889 - 47ms/epoch - 5ms/step\n",
      "Epoch 200/300\n",
      "9/9 - 0s - loss: 0.7267 - accuracy: 0.8444 - val_loss: 0.6856 - val_accuracy: 0.8889 - 52ms/epoch - 6ms/step\n",
      "Epoch 201/300\n",
      "9/9 - 0s - loss: 0.6971 - accuracy: 0.9222 - val_loss: 0.6707 - val_accuracy: 1.0000 - 50ms/epoch - 6ms/step\n",
      "Epoch 202/300\n",
      "9/9 - 0s - loss: 0.7005 - accuracy: 0.9333 - val_loss: 0.6709 - val_accuracy: 1.0000 - 47ms/epoch - 5ms/step\n",
      "Epoch 203/300\n",
      "9/9 - 0s - loss: 0.6886 - accuracy: 0.9667 - val_loss: 0.6683 - val_accuracy: 1.0000 - 48ms/epoch - 5ms/step\n",
      "Epoch 204/300\n",
      "9/9 - 0s - loss: 0.7068 - accuracy: 0.9556 - val_loss: 0.6642 - val_accuracy: 0.8889 - 52ms/epoch - 6ms/step\n",
      "Epoch 205/300\n",
      "9/9 - 0s - loss: 0.7148 - accuracy: 0.8889 - val_loss: 0.6603 - val_accuracy: 0.8889 - 45ms/epoch - 5ms/step\n",
      "Epoch 206/300\n",
      "9/9 - 0s - loss: 0.6838 - accuracy: 0.8889 - val_loss: 0.6621 - val_accuracy: 1.0000 - 53ms/epoch - 6ms/step\n",
      "Epoch 207/300\n",
      "9/9 - 0s - loss: 0.6957 - accuracy: 0.9000 - val_loss: 0.6511 - val_accuracy: 1.0000 - 58ms/epoch - 6ms/step\n",
      "Epoch 208/300\n",
      "9/9 - 0s - loss: 0.6802 - accuracy: 0.9333 - val_loss: 0.6518 - val_accuracy: 0.8889 - 43ms/epoch - 5ms/step\n",
      "Epoch 209/300\n",
      "9/9 - 0s - loss: 0.6676 - accuracy: 0.9556 - val_loss: 0.6538 - val_accuracy: 0.8889 - 41ms/epoch - 5ms/step\n",
      "Epoch 210/300\n",
      "9/9 - 0s - loss: 0.6679 - accuracy: 0.9222 - val_loss: 0.6480 - val_accuracy: 0.8889 - 46ms/epoch - 5ms/step\n",
      "Epoch 211/300\n",
      "9/9 - 0s - loss: 0.6589 - accuracy: 0.9222 - val_loss: 0.6411 - val_accuracy: 1.0000 - 46ms/epoch - 5ms/step\n",
      "Epoch 212/300\n",
      "9/9 - 0s - loss: 0.6652 - accuracy: 0.9444 - val_loss: 0.6346 - val_accuracy: 1.0000 - 53ms/epoch - 6ms/step\n",
      "Epoch 213/300\n",
      "9/9 - 0s - loss: 0.6589 - accuracy: 0.9667 - val_loss: 0.6366 - val_accuracy: 0.8889 - 48ms/epoch - 5ms/step\n",
      "Epoch 214/300\n",
      "9/9 - 0s - loss: 0.6402 - accuracy: 0.9556 - val_loss: 0.6439 - val_accuracy: 1.0000 - 46ms/epoch - 5ms/step\n",
      "Epoch 215/300\n",
      "9/9 - 0s - loss: 0.6650 - accuracy: 0.8667 - val_loss: 0.6255 - val_accuracy: 1.0000 - 43ms/epoch - 5ms/step\n",
      "Epoch 216/300\n",
      "9/9 - 0s - loss: 0.6501 - accuracy: 0.9333 - val_loss: 0.6242 - val_accuracy: 1.0000 - 46ms/epoch - 5ms/step\n",
      "Epoch 217/300\n",
      "9/9 - 0s - loss: 0.6471 - accuracy: 0.9000 - val_loss: 0.6267 - val_accuracy: 1.0000 - 55ms/epoch - 6ms/step\n",
      "Epoch 218/300\n",
      "9/9 - 0s - loss: 0.6447 - accuracy: 0.9222 - val_loss: 0.6158 - val_accuracy: 1.0000 - 51ms/epoch - 6ms/step\n",
      "Epoch 219/300\n",
      "9/9 - 0s - loss: 0.6500 - accuracy: 0.9333 - val_loss: 0.6177 - val_accuracy: 1.0000 - 43ms/epoch - 5ms/step\n",
      "Epoch 220/300\n",
      "9/9 - 0s - loss: 0.6374 - accuracy: 0.9444 - val_loss: 0.6151 - val_accuracy: 1.0000 - 45ms/epoch - 5ms/step\n",
      "Epoch 221/300\n",
      "9/9 - 0s - loss: 0.6454 - accuracy: 0.9000 - val_loss: 0.6127 - val_accuracy: 0.8889 - 44ms/epoch - 5ms/step\n",
      "Epoch 222/300\n",
      "9/9 - 0s - loss: 0.6276 - accuracy: 0.9444 - val_loss: 0.6032 - val_accuracy: 1.0000 - 46ms/epoch - 5ms/step\n",
      "Epoch 223/300\n",
      "9/9 - 0s - loss: 0.6376 - accuracy: 0.9222 - val_loss: 0.6041 - val_accuracy: 0.8889 - 41ms/epoch - 5ms/step\n",
      "Epoch 224/300\n",
      "9/9 - 0s - loss: 0.6301 - accuracy: 0.9333 - val_loss: 0.6043 - val_accuracy: 1.0000 - 46ms/epoch - 5ms/step\n",
      "Epoch 225/300\n",
      "9/9 - 0s - loss: 0.6144 - accuracy: 0.9556 - val_loss: 0.6013 - val_accuracy: 1.0000 - 44ms/epoch - 5ms/step\n",
      "Epoch 226/300\n",
      "9/9 - 0s - loss: 0.6135 - accuracy: 0.9222 - val_loss: 0.6007 - val_accuracy: 1.0000 - 47ms/epoch - 5ms/step\n",
      "Epoch 227/300\n",
      "9/9 - 0s - loss: 0.6394 - accuracy: 0.8889 - val_loss: 0.5879 - val_accuracy: 1.0000 - 43ms/epoch - 5ms/step\n",
      "Epoch 228/300\n",
      "9/9 - 0s - loss: 0.6170 - accuracy: 0.9222 - val_loss: 0.5862 - val_accuracy: 0.8889 - 49ms/epoch - 5ms/step\n",
      "Epoch 229/300\n",
      "9/9 - 0s - loss: 0.6043 - accuracy: 0.9444 - val_loss: 0.5808 - val_accuracy: 1.0000 - 44ms/epoch - 5ms/step\n",
      "Epoch 230/300\n",
      "9/9 - 0s - loss: 0.6051 - accuracy: 0.9444 - val_loss: 0.5789 - val_accuracy: 1.0000 - 50ms/epoch - 6ms/step\n",
      "Epoch 231/300\n",
      "9/9 - 0s - loss: 0.5959 - accuracy: 0.9778 - val_loss: 0.5816 - val_accuracy: 0.8889 - 42ms/epoch - 5ms/step\n",
      "Epoch 232/300\n",
      "9/9 - 0s - loss: 0.5950 - accuracy: 0.9556 - val_loss: 0.5807 - val_accuracy: 1.0000 - 45ms/epoch - 5ms/step\n",
      "Epoch 233/300\n",
      "9/9 - 0s - loss: 0.6009 - accuracy: 0.9556 - val_loss: 0.5768 - val_accuracy: 1.0000 - 46ms/epoch - 5ms/step\n",
      "Epoch 234/300\n",
      "9/9 - 0s - loss: 0.6123 - accuracy: 0.9333 - val_loss: 0.5720 - val_accuracy: 1.0000 - 45ms/epoch - 5ms/step\n",
      "Epoch 235/300\n",
      "9/9 - 0s - loss: 0.5842 - accuracy: 0.9556 - val_loss: 0.5674 - val_accuracy: 1.0000 - 45ms/epoch - 5ms/step\n",
      "Epoch 236/300\n",
      "9/9 - 0s - loss: 0.6142 - accuracy: 0.9000 - val_loss: 0.5616 - val_accuracy: 1.0000 - 50ms/epoch - 6ms/step\n",
      "Epoch 237/300\n",
      "9/9 - 0s - loss: 0.5910 - accuracy: 0.9333 - val_loss: 0.5597 - val_accuracy: 1.0000 - 53ms/epoch - 6ms/step\n",
      "Epoch 238/300\n",
      "9/9 - 0s - loss: 0.5814 - accuracy: 0.9444 - val_loss: 0.5678 - val_accuracy: 0.8889 - 125ms/epoch - 14ms/step\n",
      "Epoch 239/300\n",
      "9/9 - 0s - loss: 0.5901 - accuracy: 0.8889 - val_loss: 0.5552 - val_accuracy: 1.0000 - 62ms/epoch - 7ms/step\n",
      "Epoch 240/300\n",
      "9/9 - 0s - loss: 0.5717 - accuracy: 0.9667 - val_loss: 0.5541 - val_accuracy: 0.8889 - 47ms/epoch - 5ms/step\n",
      "Epoch 241/300\n",
      "9/9 - 0s - loss: 0.5869 - accuracy: 0.9333 - val_loss: 0.5584 - val_accuracy: 0.8889 - 46ms/epoch - 5ms/step\n",
      "Epoch 242/300\n",
      "9/9 - 0s - loss: 0.5737 - accuracy: 0.9111 - val_loss: 0.5508 - val_accuracy: 1.0000 - 46ms/epoch - 5ms/step\n",
      "Epoch 243/300\n",
      "9/9 - 0s - loss: 0.5754 - accuracy: 0.9444 - val_loss: 0.5509 - val_accuracy: 1.0000 - 47ms/epoch - 5ms/step\n",
      "Epoch 244/300\n",
      "9/9 - 0s - loss: 0.5735 - accuracy: 0.9556 - val_loss: 0.5439 - val_accuracy: 0.8889 - 48ms/epoch - 5ms/step\n",
      "Epoch 245/300\n",
      "9/9 - 0s - loss: 0.5577 - accuracy: 0.9222 - val_loss: 0.5455 - val_accuracy: 1.0000 - 48ms/epoch - 5ms/step\n",
      "Epoch 246/300\n",
      "9/9 - 0s - loss: 0.5530 - accuracy: 0.9889 - val_loss: 0.5373 - val_accuracy: 0.8889 - 48ms/epoch - 5ms/step\n",
      "Epoch 247/300\n",
      "9/9 - 0s - loss: 0.5617 - accuracy: 0.8889 - val_loss: 0.5351 - val_accuracy: 0.8889 - 49ms/epoch - 5ms/step\n",
      "Epoch 248/300\n",
      "9/9 - 0s - loss: 0.5581 - accuracy: 0.9333 - val_loss: 0.5282 - val_accuracy: 1.0000 - 49ms/epoch - 5ms/step\n",
      "Epoch 249/300\n",
      "9/9 - 0s - loss: 0.5450 - accuracy: 0.9444 - val_loss: 0.5478 - val_accuracy: 0.8889 - 61ms/epoch - 7ms/step\n",
      "Epoch 250/300\n",
      "9/9 - 0s - loss: 0.5774 - accuracy: 0.8556 - val_loss: 0.5464 - val_accuracy: 0.8889 - 47ms/epoch - 5ms/step\n",
      "Epoch 251/300\n",
      "9/9 - 0s - loss: 0.5534 - accuracy: 0.9111 - val_loss: 0.5183 - val_accuracy: 1.0000 - 54ms/epoch - 6ms/step\n",
      "Epoch 252/300\n",
      "9/9 - 0s - loss: 0.5499 - accuracy: 0.9778 - val_loss: 0.5159 - val_accuracy: 1.0000 - 53ms/epoch - 6ms/step\n",
      "Epoch 253/300\n",
      "9/9 - 0s - loss: 0.5405 - accuracy: 1.0000 - val_loss: 0.5099 - val_accuracy: 1.0000 - 47ms/epoch - 5ms/step\n",
      "Epoch 254/300\n",
      "9/9 - 0s - loss: 0.5269 - accuracy: 0.9556 - val_loss: 0.5168 - val_accuracy: 1.0000 - 44ms/epoch - 5ms/step\n",
      "Epoch 255/300\n",
      "9/9 - 0s - loss: 0.5232 - accuracy: 0.9333 - val_loss: 0.5244 - val_accuracy: 0.8889 - 41ms/epoch - 5ms/step\n",
      "Epoch 256/300\n",
      "9/9 - 0s - loss: 0.5410 - accuracy: 0.9556 - val_loss: 0.5143 - val_accuracy: 0.8889 - 41ms/epoch - 5ms/step\n",
      "Epoch 257/300\n",
      "9/9 - 0s - loss: 0.5488 - accuracy: 0.9000 - val_loss: 0.4998 - val_accuracy: 1.0000 - 45ms/epoch - 5ms/step\n",
      "Epoch 258/300\n",
      "9/9 - 0s - loss: 0.5151 - accuracy: 0.9444 - val_loss: 0.5150 - val_accuracy: 0.8889 - 43ms/epoch - 5ms/step\n",
      "Epoch 259/300\n",
      "9/9 - 0s - loss: 0.5527 - accuracy: 0.8778 - val_loss: 0.5054 - val_accuracy: 1.0000 - 48ms/epoch - 5ms/step\n",
      "Epoch 260/300\n",
      "9/9 - 0s - loss: 0.5114 - accuracy: 0.9889 - val_loss: 0.5045 - val_accuracy: 0.8889 - 43ms/epoch - 5ms/step\n",
      "Epoch 261/300\n",
      "9/9 - 0s - loss: 0.5338 - accuracy: 0.9222 - val_loss: 0.4896 - val_accuracy: 1.0000 - 44ms/epoch - 5ms/step\n",
      "Epoch 262/300\n",
      "9/9 - 0s - loss: 0.5209 - accuracy: 0.9444 - val_loss: 0.4935 - val_accuracy: 1.0000 - 47ms/epoch - 5ms/step\n",
      "Epoch 263/300\n",
      "9/9 - 0s - loss: 0.5040 - accuracy: 0.9667 - val_loss: 0.4957 - val_accuracy: 1.0000 - 47ms/epoch - 5ms/step\n",
      "Epoch 264/300\n",
      "9/9 - 0s - loss: 0.4958 - accuracy: 0.9778 - val_loss: 0.5019 - val_accuracy: 0.8889 - 47ms/epoch - 5ms/step\n",
      "Epoch 265/300\n",
      "9/9 - 0s - loss: 0.5228 - accuracy: 0.9556 - val_loss: 0.4774 - val_accuracy: 1.0000 - 44ms/epoch - 5ms/step\n",
      "Epoch 266/300\n",
      "9/9 - 0s - loss: 0.5351 - accuracy: 0.9778 - val_loss: 0.4749 - val_accuracy: 1.0000 - 44ms/epoch - 5ms/step\n",
      "Epoch 267/300\n",
      "9/9 - 0s - loss: 0.5059 - accuracy: 0.9667 - val_loss: 0.4782 - val_accuracy: 1.0000 - 43ms/epoch - 5ms/step\n",
      "Epoch 268/300\n",
      "9/9 - 0s - loss: 0.5067 - accuracy: 0.9667 - val_loss: 0.4728 - val_accuracy: 1.0000 - 45ms/epoch - 5ms/step\n",
      "Epoch 269/300\n",
      "9/9 - 0s - loss: 0.4918 - accuracy: 0.9889 - val_loss: 0.4739 - val_accuracy: 1.0000 - 48ms/epoch - 5ms/step\n",
      "Epoch 270/300\n",
      "9/9 - 0s - loss: 0.4842 - accuracy: 0.9889 - val_loss: 0.4759 - val_accuracy: 0.8889 - 52ms/epoch - 6ms/step\n",
      "Epoch 271/300\n",
      "9/9 - 0s - loss: 0.4847 - accuracy: 0.9667 - val_loss: 0.4757 - val_accuracy: 1.0000 - 50ms/epoch - 6ms/step\n",
      "Epoch 272/300\n",
      "9/9 - 0s - loss: 0.4854 - accuracy: 0.9000 - val_loss: 0.4810 - val_accuracy: 0.8889 - 45ms/epoch - 5ms/step\n",
      "Epoch 273/300\n",
      "9/9 - 0s - loss: 0.4811 - accuracy: 0.9111 - val_loss: 0.5030 - val_accuracy: 0.7778 - 41ms/epoch - 5ms/step\n",
      "Epoch 274/300\n",
      "9/9 - 0s - loss: 0.4986 - accuracy: 0.8889 - val_loss: 0.4765 - val_accuracy: 0.8889 - 44ms/epoch - 5ms/step\n",
      "Epoch 275/300\n",
      "9/9 - 0s - loss: 0.4862 - accuracy: 0.9444 - val_loss: 0.4640 - val_accuracy: 1.0000 - 45ms/epoch - 5ms/step\n",
      "Epoch 276/300\n",
      "9/9 - 0s - loss: 0.4805 - accuracy: 0.9778 - val_loss: 0.4488 - val_accuracy: 1.0000 - 49ms/epoch - 5ms/step\n",
      "Epoch 277/300\n",
      "9/9 - 0s - loss: 0.4619 - accuracy: 0.9889 - val_loss: 0.4644 - val_accuracy: 1.0000 - 44ms/epoch - 5ms/step\n",
      "Epoch 278/300\n",
      "9/9 - 0s - loss: 0.4871 - accuracy: 1.0000 - val_loss: 0.4480 - val_accuracy: 1.0000 - 44ms/epoch - 5ms/step\n",
      "Epoch 279/300\n",
      "9/9 - 0s - loss: 0.4739 - accuracy: 0.9333 - val_loss: 0.4607 - val_accuracy: 1.0000 - 46ms/epoch - 5ms/step\n",
      "Epoch 280/300\n",
      "9/9 - 0s - loss: 0.4904 - accuracy: 0.9444 - val_loss: 0.4941 - val_accuracy: 0.7778 - 111ms/epoch - 12ms/step\n",
      "Epoch 281/300\n",
      "9/9 - 0s - loss: 0.4717 - accuracy: 0.9667 - val_loss: 0.4513 - val_accuracy: 0.8889 - 53ms/epoch - 6ms/step\n",
      "Epoch 282/300\n",
      "9/9 - 0s - loss: 0.4828 - accuracy: 0.8667 - val_loss: 0.4467 - val_accuracy: 1.0000 - 44ms/epoch - 5ms/step\n",
      "Epoch 283/300\n",
      "9/9 - 0s - loss: 0.4611 - accuracy: 0.9222 - val_loss: 0.4552 - val_accuracy: 0.8889 - 41ms/epoch - 5ms/step\n",
      "Epoch 284/300\n",
      "9/9 - 0s - loss: 0.4573 - accuracy: 0.9556 - val_loss: 0.4435 - val_accuracy: 1.0000 - 46ms/epoch - 5ms/step\n",
      "Epoch 285/300\n",
      "9/9 - 0s - loss: 0.4535 - accuracy: 0.9556 - val_loss: 0.4447 - val_accuracy: 1.0000 - 44ms/epoch - 5ms/step\n",
      "Epoch 286/300\n",
      "9/9 - 0s - loss: 0.4623 - accuracy: 1.0000 - val_loss: 0.4244 - val_accuracy: 1.0000 - 47ms/epoch - 5ms/step\n",
      "Epoch 287/300\n",
      "9/9 - 0s - loss: 0.4611 - accuracy: 0.9778 - val_loss: 0.4330 - val_accuracy: 1.0000 - 49ms/epoch - 5ms/step\n",
      "Epoch 288/300\n",
      "9/9 - 0s - loss: 0.4560 - accuracy: 1.0000 - val_loss: 0.4234 - val_accuracy: 1.0000 - 48ms/epoch - 5ms/step\n",
      "Epoch 289/300\n",
      "9/9 - 0s - loss: 0.4545 - accuracy: 0.9444 - val_loss: 0.4234 - val_accuracy: 1.0000 - 60ms/epoch - 7ms/step\n",
      "Epoch 290/300\n",
      "9/9 - 0s - loss: 0.4406 - accuracy: 0.9778 - val_loss: 0.4277 - val_accuracy: 1.0000 - 52ms/epoch - 6ms/step\n",
      "Epoch 291/300\n",
      "9/9 - 0s - loss: 0.4450 - accuracy: 1.0000 - val_loss: 0.4466 - val_accuracy: 0.8889 - 50ms/epoch - 6ms/step\n",
      "Epoch 292/300\n",
      "9/9 - 0s - loss: 0.4652 - accuracy: 0.9556 - val_loss: 0.4409 - val_accuracy: 0.8889 - 49ms/epoch - 5ms/step\n",
      "Epoch 293/300\n",
      "9/9 - 0s - loss: 0.4257 - accuracy: 0.9444 - val_loss: 0.4180 - val_accuracy: 1.0000 - 54ms/epoch - 6ms/step\n",
      "Epoch 294/300\n",
      "9/9 - 0s - loss: 0.4440 - accuracy: 0.9444 - val_loss: 0.4076 - val_accuracy: 1.0000 - 57ms/epoch - 6ms/step\n",
      "Epoch 295/300\n",
      "9/9 - 0s - loss: 0.4270 - accuracy: 1.0000 - val_loss: 0.4330 - val_accuracy: 0.8889 - 52ms/epoch - 6ms/step\n",
      "Epoch 296/300\n",
      "9/9 - 0s - loss: 0.4352 - accuracy: 0.9667 - val_loss: 0.4011 - val_accuracy: 1.0000 - 49ms/epoch - 5ms/step\n",
      "Epoch 297/300\n",
      "9/9 - 0s - loss: 0.4351 - accuracy: 0.9444 - val_loss: 0.4128 - val_accuracy: 1.0000 - 52ms/epoch - 6ms/step\n",
      "Epoch 298/300\n",
      "9/9 - 0s - loss: 0.4365 - accuracy: 1.0000 - val_loss: 0.3974 - val_accuracy: 1.0000 - 50ms/epoch - 6ms/step\n",
      "Epoch 299/300\n",
      "9/9 - 0s - loss: 0.4176 - accuracy: 1.0000 - val_loss: 0.4017 - val_accuracy: 1.0000 - 45ms/epoch - 5ms/step\n",
      "Epoch 300/300\n",
      "9/9 - 0s - loss: 0.4278 - accuracy: 0.9444 - val_loss: 0.4004 - val_accuracy: 1.0000 - 56ms/epoch - 6ms/step\n"
     ]
    }
   ],
   "source": [
    "hist = model.fit(x_train, Y_train,\n",
    "                 epochs=300,\n",
    "                 batch_size=10,\n",
    "                 verbose=2, # 학습결과 출력 옵션 0:출력없음, 1:기본값(막대출력), 2:에포크별 로그메시지 상세출력\n",
    "                 validation_data=(x_val, Y_val)\n",
    "                 )"
   ]
  },
  {
   "cell_type": "markdown",
   "id": "01eed318",
   "metadata": {},
   "source": [
    "# 6. 모델 평가하기(모델학습과정 살펴보고, evaluate)"
   ]
  },
  {
   "cell_type": "code",
   "execution_count": 11,
   "id": "10d63123",
   "metadata": {},
   "outputs": [
    {
     "data": {
      "text/plain": [
       "dict_keys(['loss', 'accuracy', 'val_loss', 'val_accuracy'])"
      ]
     },
     "execution_count": 11,
     "metadata": {},
     "output_type": "execute_result"
    }
   ],
   "source": [
    "hist.history.keys()"
   ]
  },
  {
   "cell_type": "code",
   "execution_count": 16,
   "id": "15df1053",
   "metadata": {},
   "outputs": [
    {
     "data": {
      "image/png": "[encoded data removed]",
      "text/plain": [
       "<Figure size 1000x800 with 2 Axes>"
      ]
     },
     "metadata": {},
     "output_type": "display_data"
    }
   ],
   "source": [
    "# 모델 학습 과정 시각화\n",
    "import matplotlib.pyplot as plt\n",
    "fig, loss_ax = plt.subplots(figsize=(10,8))\n",
    "loss_ax.plot(hist.history['loss'], 'y', label='train loss')\n",
    "loss_ax.plot(hist.history['val_loss'], 'r', label='val loss')\n",
    "loss_ax.set_xlabel('epoch')\n",
    "loss_ax.set_ylabel('loss')\n",
    "\n",
    "acc_ax = loss_ax.twinx() # loss_ax와 x축을 공유하는 acc_ax생성\n",
    "acc_ax.plot(hist.history['accuracy'], 'g', label='train accuracy')\n",
    "acc_ax.plot(hist.history['val_accuracy'], 'b', label='val accuracy')\n",
    "acc_ax.set_ylabel('accuracy')\n",
    "loss_ax.legend(loc='upper left')\n",
    "acc_ax.legend(loc='center right')\n",
    "plt.show()"
   ]
  },
  {
   "cell_type": "code",
   "execution_count": 17,
   "id": "314d4b6e",
   "metadata": {},
   "outputs": [
    {
     "name": "stdout",
     "output_type": "stream",
     "text": [
      "9/9 [==============================] - 0s 2ms/step - loss: 0.4004 - accuracy: 1.0000\n"
     ]
    }
   ],
   "source": [
    "# 모델 평가\n",
    "score = model.evaluate(x_test, Y_test, batch_size=1)"
   ]
  },
  {
   "cell_type": "code",
   "execution_count": 18,
   "id": "eeadcfca",
   "metadata": {},
   "outputs": [
    {
     "data": {
      "text/plain": [
       "[0.40036720037460327, 1.0]"
      ]
     },
     "execution_count": 18,
     "metadata": {},
     "output_type": "execute_result"
    }
   ],
   "source": [
    "score # loss, accuracy"
   ]
  },
  {
   "cell_type": "code",
   "execution_count": 19,
   "id": "fb14e7d0",
   "metadata": {},
   "outputs": [
    {
     "name": "stdout",
     "output_type": "stream",
     "text": [
      "평가된 loss : 0.40036720037460327\n",
      "평가된 accuracy 100.0 %\n"
     ]
    }
   ],
   "source": [
    "print('평가된 loss :', score[0])\n",
    "print('평가된 accuracy', score[1]*100, '%')"
   ]
  },
  {
   "cell_type": "markdown",
   "id": "c7503676",
   "metadata": {},
   "source": [
    "# 7. 모델 사용하기"
   ]
  },
  {
   "cell_type": "code",
   "execution_count": 20,
   "id": "ea8eeba4",
   "metadata": {},
   "outputs": [
    {
     "name": "stdout",
     "output_type": "stream",
     "text": [
      "1/1 [==============================] - 0s 119ms/step\n"
     ]
    },
    {
     "data": {
      "text/plain": [
       "array([[4.8834202e-15, 2.6676178e-15, 9.6204236e-02, 9.2269009e-13,\n",
       "        7.5803393e-01, 1.2489985e-14, 1.4397438e-01, 9.3657035e-12,\n",
       "        1.7862469e-03, 2.1224086e-16, 1.2691373e-06, 3.3704155e-12,\n",
       "        9.6062436e-11, 1.2059750e-11, 6.6878905e-16, 3.1182172e-13,\n",
       "        5.9160709e-21, 8.5855268e-15, 2.7979041e-28]], dtype=float32)"
      ]
     },
     "execution_count": 20,
     "metadata": {},
     "output_type": "execute_result"
    }
   ],
   "source": [
    "H = model.predict(np.array([[2]]))\n",
    "H"
   ]
  },
  {
   "cell_type": "code",
   "execution_count": null,
   "id": "89094997",
   "metadata": {},
   "outputs": [
    {
     "name": "stdout",
     "output_type": "stream",
     "text": [
      "1/1 [==============================] - 0s 27ms/step\n"
     ]
    },
    {
     "data": {
      "text/plain": [
       "4"
      ]
     },
     "execution_count": 21,
     "metadata": {},
     "output_type": "execute_result"
    }
   ],
   "source": [
    "# 분류분석의 예측은 predict결과를 argmax()\n",
    "model.predict(np.array([[2]])).argmax()"
   ]
  },
  {
   "cell_type": "code",
   "execution_count": 22,
   "id": "5bc4ee29",
   "metadata": {},
   "outputs": [
    {
     "data": {
      "text/plain": [
       "75.80339312553406"
      ]
     },
     "execution_count": 22,
     "metadata": {},
     "output_type": "execute_result"
    }
   ],
   "source": [
    "# 4를 몇 %확률로 예측했는지\n",
    "H[0, H.argmax()]*100"
   ]
  },
  {
   "cell_type": "markdown",
   "id": "c91b4c23",
   "metadata": {},
   "source": [
    "# 8. 모델 저장하기\n"
   ]
  },
  {
   "cell_type": "code",
   "execution_count": 24,
   "id": "c183ae9e",
   "metadata": {},
   "outputs": [],
   "source": [
    "# model.save('model/02_deep.h5')\n",
    "from tensorflow.keras.models import save_model\n",
    "save_model(model, 'model/02_deep.h5')"
   ]
  },
  {
   "cell_type": "markdown",
   "id": "af46eaf5",
   "metadata": {},
   "source": [
    "저장된 모델 사용하기"
   ]
  },
  {
   "cell_type": "code",
   "execution_count": 25,
   "id": "a2b1d320",
   "metadata": {},
   "outputs": [],
   "source": [
    "from tensorflow.keras.models import load_model\n",
    "model2 = load_model('model/02_deep.h5')"
   ]
  },
  {
   "cell_type": "code",
   "execution_count": null,
   "id": "9ed34fdb",
   "metadata": {},
   "outputs": [],
   "source": []
  }
 ],
 "metadata": {
  "kernelspec": {
   "display_name": "ml-dl-nlp",
   "language": "python",
   "name": "ml-dl-nlp"
  },
  "language_info": {
   "codemirror_mode": {
    "name": "ipython",
    "version": 3
   },
   "file_extension": ".py",
   "mimetype": "text/x-python",
   "name": "python",
   "nbconvert_exporter": "python",
   "pygments_lexer": "ipython3",
   "version": "3.10.18"
  }
 },
 "nbformat": 4,
 "nbformat_minor": 5
}
