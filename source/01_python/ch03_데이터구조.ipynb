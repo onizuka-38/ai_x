{
 "cells": [
  {
   "cell_type": "code",
   "execution_count": 1,
   "id": "b61da163",
   "metadata": {},
   "outputs": [
    {
     "data": {
      "text/html": [
       "\n",
       "<style>\n",
       "div.container{width:86% !important;}\n",
       "div.cell.code_cell.rendered{width:100%;}\n",
       "div.CodeMirror {font-family:Consolas; font-size:12pt;}\n",
       "div.output {font-size:15pt; font-weight:bold;}\n",
       "div.input {font-family:Consolas; font-size:12pt;}\n",
       "div.prompt {min-width:70px;}\n",
       "div#toc-wrapper{padding-top:120px;}\n",
       "div.text_cell_render ul li{font-size:12pt;padding:5px;}\n",
       "table.dataframe{font-size:12px;}\n",
       "</style>\n"
      ],
      "text/plain": [
       "<IPython.core.display.HTML object>"
      ]
     },
     "metadata": {},
     "output_type": "display_data"
    }
   ],
   "source": [
    "from IPython.display import display, HTML\n",
    "display(HTML(\"\"\"\n",
    "<style>\n",
    "div.container{width:86% !important;}\n",
    "div.cell.code_cell.rendered{width:100%;}\n",
    "div.CodeMirror {font-family:Consolas; font-size:12pt;}\n",
    "div.output {font-size:15pt; font-weight:bold;}\n",
    "div.input {font-family:Consolas; font-size:12pt;}\n",
    "div.prompt {min-width:70px;}\n",
    "div#toc-wrapper{padding-top:120px;}\n",
    "div.text_cell_render ul li{font-size:12pt;padding:5px;}\n",
    "table.dataframe{font-size:12px;}\n",
    "</style>\n",
    "\"\"\"))"
   ]
  },
  {
   "cell_type": "markdown",
   "id": "1962fa19",
   "metadata": {},
   "source": [
    "<font size=\"5\" color=\"red\" >ch03_데이터구조</font>\n",
    "- 리스트[], 튜플(), 딕셔너리{}, 셋\n",
    "\n",
    "# 1절. 리스트\n",
    "## 1.1 리스트 만들기\n",
    "\n",
    "- []를 이용해서 만들며, 여러개 값(여러 타입)을 하나의 변수에 저장/관리 할 수 있음\n",
    "- list(리스트로 변환 가능한 자료)함수 이용도 가능 list(10,20)\n",
    "- 인덱스 : 각 요소의 위치. 0부터 시작. 맨 마지막 인덱스는 -1\n",
    "- 슬라이싱( [from:stop:step] ) : 부분 데이터셋 추출\n",
    "- 인덱스와 슬라이싱을 이용해서 읽기/쓰기 지원"
   ]
  },
  {
   "cell_type": "code",
   "execution_count": null,
   "id": "36269e4f",
   "metadata": {},
   "outputs": [],
   "source": [
    "fruits = ['banana', 'apple', 'orange', 'grape']\n",
    "type(fruits)"
   ]
  },
  {
   "cell_type": "code",
   "execution_count": null,
   "id": "5cf6ba1b",
   "metadata": {},
   "outputs": [],
   "source": [
    "print(fruits)\n",
    "print(fruits[0])"
   ]
  },
  {
   "cell_type": "code",
   "execution_count": null,
   "id": "81939b26",
   "metadata": {},
   "outputs": [],
   "source": [
    "fruits[0] = 'mango'\n",
    "print(fruits)"
   ]
  },
  {
   "cell_type": "code",
   "execution_count": null,
   "id": "7d101ed8",
   "metadata": {},
   "outputs": [],
   "source": [
    "fruits = ['mango', 'apple', 'orange']\n",
    "x, y, z = fruits\n",
    "print(f'x={x}')\n",
    "print(f'y={y}')\n",
    "print(f'z={z}')\n",
    "print(f'fruits={fruits}')"
   ]
  },
  {
   "cell_type": "code",
   "execution_count": null,
   "id": "8d111f55",
   "metadata": {},
   "outputs": [],
   "source": [
    "# range(from, to, by) : from부터 to 앞까지 by씩 증가하면서 지정된 범위의 정수\n",
    "        # from 생략시 : 0\n",
    "        # by 생략시 1\n",
    "range(10)"
   ]
  },
  {
   "cell_type": "code",
   "execution_count": null,
   "id": "30038294",
   "metadata": {},
   "outputs": [],
   "source": [
    "list(range(101, 111))"
   ]
  },
  {
   "cell_type": "code",
   "execution_count": null,
   "id": "629aeb3d",
   "metadata": {},
   "outputs": [],
   "source": [
    "list(range(10, -1, -2))"
   ]
  },
  {
   "cell_type": "code",
   "execution_count": null,
   "id": "e8802fc1",
   "metadata": {},
   "outputs": [],
   "source": [
    "# 반복문(3회)\n",
    "for i in range(3):\n",
    "    print(i)"
   ]
  },
  {
   "cell_type": "code",
   "execution_count": null,
   "id": "5a6da276",
   "metadata": {},
   "outputs": [],
   "source": [
    "fruits = ['mango', 'apple', 'orange', 'grape']\n",
    "\n",
    "# len(fruits) : 리스트 데이터 수\n",
    "for i in range(len(fruits)):\n",
    "    print('{}번째 과일은 {}입니다'.format(i, fruits[i]))\n",
    "    "
   ]
  },
  {
   "cell_type": "code",
   "execution_count": null,
   "id": "a391aa2c",
   "metadata": {},
   "outputs": [],
   "source": [
    "list(enumerate(fruits))"
   ]
  },
  {
   "cell_type": "code",
   "execution_count": null,
   "id": "00c77c13",
   "metadata": {},
   "outputs": [],
   "source": [
    "# enumerate(나열가능한 자료) : -> (index,값)들의 셋들\n",
    "for idx, value in enumerate(fruits):\n",
    "    print('{}번째 과일은 {}입니다'.format(idx, value))"
   ]
  },
  {
   "cell_type": "code",
   "execution_count": null,
   "id": "2570e534",
   "metadata": {},
   "outputs": [],
   "source": [
    "for value in [0,1,2]:\n",
    "    print(value)"
   ]
  },
  {
   "cell_type": "code",
   "execution_count": null,
   "id": "adc5dd13",
   "metadata": {},
   "outputs": [],
   "source": [
    "# 리스트는 여러 타입의 데이터를 담을 수 있음\n",
    "numbers = [0, True, '2', 3, [4,5,6] ]\n",
    "print(numbers)\n",
    "print(numbers[1], numbers[4][1])\n"
   ]
  },
  {
   "cell_type": "code",
   "execution_count": null,
   "id": "8f2ccaf6",
   "metadata": {},
   "outputs": [],
   "source": [
    "# 2차원 리스트\n",
    "numbers_2d = [[90, 91, 92, 93],\n",
    "              [80, 81, 82, 83],\n",
    "              [70, 71, 72, 73]]\n",
    "len(numbers_2d), len(numbers_2d[0])"
   ]
  },
  {
   "cell_type": "code",
   "execution_count": null,
   "id": "93fac721",
   "metadata": {},
   "outputs": [],
   "source": [
    "for i, row in enumerate(numbers_2d):\n",
    "    for j, value in enumerate(row):\n",
    "        print(\"{}행{}열:{}\".format(i, j, value), end='\\t' )\n",
    "    print() # 개행 : 다음줄로\n",
    "        "
   ]
  },
  {
   "cell_type": "code",
   "execution_count": null,
   "id": "75886938",
   "metadata": {},
   "outputs": [],
   "source": [
    "for row in numbers_2d:\n",
    "    for item in row:\n",
    "        print(item, end='\\t')\n",
    "    print()"
   ]
  },
  {
   "cell_type": "markdown",
   "id": "f893e6fe",
   "metadata": {},
   "source": [
    "## 1.2 기본 정보 조회"
   ]
  },
  {
   "cell_type": "code",
   "execution_count": 2,
   "id": "70e52f37",
   "metadata": {},
   "outputs": [],
   "source": [
    "numbers = [1, 12, 3, 5, 4]\n",
    "numbers_2d = [[100, 0],\n",
    "              [9, 100, 1, 2, 3],\n",
    "              [50, 54]]"
   ]
  },
  {
   "cell_type": "code",
   "execution_count": 5,
   "id": "00474363",
   "metadata": {},
   "outputs": [
    {
     "name": "stdout",
     "output_type": "stream",
     "text": [
      "5 3\n"
     ]
    }
   ],
   "source": [
    "# 요소(데이터)의 수\n",
    "print(len(numbers), len(numbers_2d))"
   ]
  },
  {
   "cell_type": "code",
   "execution_count": 4,
   "id": "2daf1c54",
   "metadata": {},
   "outputs": [
    {
     "data": {
      "text/plain": [
       "(1, 12)"
      ]
     },
     "execution_count": 4,
     "metadata": {},
     "output_type": "execute_result"
    }
   ],
   "source": [
    "# 최소값, 최대값\n",
    "min(numbers), max(numbers)"
   ]
  },
  {
   "cell_type": "code",
   "execution_count": 3,
   "id": "0c8462c3",
   "metadata": {},
   "outputs": [
    {
     "data": {
      "text/plain": [
       "([9, 100, 1, 2, 3], [100, 0])"
      ]
     },
     "execution_count": 3,
     "metadata": {},
     "output_type": "execute_result"
    }
   ],
   "source": [
    "# 2차원 list의 min() : 0번 인덱스 요소가 가장 작은 것\n",
    "#             max() : 0번 인덱스 요소가 가장 큰 것\n",
    "min(numbers_2d), max(numbers_2d)"
   ]
  },
  {
   "cell_type": "code",
   "execution_count": 6,
   "id": "0afbcfc2",
   "metadata": {},
   "outputs": [
    {
     "data": {
      "text/plain": [
       "('apple', 'orange')"
      ]
     },
     "execution_count": 6,
     "metadata": {},
     "output_type": "execute_result"
    }
   ],
   "source": [
    "# 문자 list일 경우 ascii 코드값으로 min(), max() 적용\n",
    "fruits = ['mango', 'apple', 'orange']\n",
    "min(fruits), max(fruits)"
   ]
  },
  {
   "cell_type": "code",
   "execution_count": 10,
   "id": "b7bf9bfd",
   "metadata": {},
   "outputs": [
    {
     "name": "stdout",
     "output_type": "stream",
     "text": [
      "오름차순 : [1, 3, 4, 5, 12]\n",
      "내림차순 : [12, 5, 4, 3, 1]\n",
      "sorted함수 사용시 리스트 내용이 바뀌지 않음 : [1, 12, 3, 5, 4]\n",
      "합 : 25\n"
     ]
    }
   ],
   "source": [
    "numbers = [1, 12, 3, 5, 4]\n",
    "# 정렬(오름차순, 내림차순)\n",
    "print('오름차순 :', sorted(numbers))\n",
    "print('내림차순 :', sorted(numbers, reverse=True))\n",
    "print('sorted함수 사용시 리스트 내용이 바뀌지 않음 :', numbers)\n",
    "print('합 :', sum(numbers))"
   ]
  },
  {
   "cell_type": "markdown",
   "id": "fedf4c89",
   "metadata": {},
   "source": [
    "## 1.3 요소 추가\n",
    "```\n",
    "+ : 두 리스트 연결\n",
    "* : 리스트를 곱한 수 만큼 반복\n",
    "append() : 리스트 맨 뒤에 요소 추가\n",
    "extend() : 맨 뒤에 리스트를 요소별로 추가\n",
    "insert(idx, 값) : idx번째 인덱스 위치에 추가(기존 데이터는 shift)\n",
    "```"
   ]
  },
  {
   "cell_type": "code",
   "execution_count": 12,
   "id": "3757503c",
   "metadata": {},
   "outputs": [
    {
     "data": {
      "text/plain": [
       "[1, 2, 3, 1, 2, 3]"
      ]
     },
     "execution_count": 12,
     "metadata": {},
     "output_type": "execute_result"
    }
   ],
   "source": [
    "# 연결\n",
    "numbers = [1, 2, 3]\n",
    "numbers = numbers + numbers\n",
    "numbers"
   ]
  },
  {
   "cell_type": "code",
   "execution_count": 13,
   "id": "3469b4bd",
   "metadata": {},
   "outputs": [
    {
     "name": "stdout",
     "output_type": "stream",
     "text": [
      "[1, 2, 3, 1, 2, 3, 1, 2, 3]\n",
      "[1, 2, 3, 1, 2, 3, 1, 2, 3]\n"
     ]
    }
   ],
   "source": [
    "# 반복\n",
    "numbers = [1, 2, 3]\n",
    "print(numbers * 3)\n",
    "print(3 * numbers)"
   ]
  },
  {
   "cell_type": "code",
   "execution_count": 14,
   "id": "c63c9ddf",
   "metadata": {},
   "outputs": [
    {
     "name": "stdout",
     "output_type": "stream",
     "text": [
      "[1, 2, 3, 4]\n"
     ]
    }
   ],
   "source": [
    "# 추가\n",
    "numbers = [1, 2, 3]\n",
    "numbers.append(4)\n",
    "print(numbers)"
   ]
  },
  {
   "cell_type": "code",
   "execution_count": 15,
   "id": "34736948",
   "metadata": {},
   "outputs": [
    {
     "name": "stdout",
     "output_type": "stream",
     "text": [
      "[1, 2, 3, 4, [5, 6, 7]]\n"
     ]
    }
   ],
   "source": [
    "numbers.append([5,6,7])  # 맨 뒤에 하나의 요소로 추가\n",
    "print(numbers)"
   ]
  },
  {
   "cell_type": "code",
   "execution_count": 23,
   "id": "b33c95db",
   "metadata": {},
   "outputs": [
    {
     "name": "stdout",
     "output_type": "stream",
     "text": [
      "[1, 2, 3, 4, 5, 6]\n"
     ]
    }
   ],
   "source": [
    "# 요소별로 각기 추가\n",
    "num = [1, 2, 3]\n",
    "num.extend([4,5,6])\n",
    "print(num)"
   ]
  },
  {
   "cell_type": "code",
   "execution_count": 24,
   "id": "30076cbd",
   "metadata": {},
   "outputs": [
    {
     "name": "stdout",
     "output_type": "stream",
     "text": [
      "[1, 2, 'X', 3, 4, 5, 6]\n"
     ]
    }
   ],
   "source": [
    "num.insert(2, 'X')\n",
    "print(num)"
   ]
  },
  {
   "cell_type": "markdown",
   "id": "bdc70668",
   "metadata": {},
   "source": [
    "## 1.4 인덱싱과 요소 갯수\n",
    "- 변수[index] : 인덱스를 이용한 접근\n",
    "- index(찾을데이터) : 해당 찾을 데이터가 있는 요소의 index를 반환\n",
    "                     찾을 데이터가 없을 경우 오류\n",
    "- count(찾을데이터) : 리스트에서 찾을데이터의 갯수를 반환"
   ]
  },
  {
   "cell_type": "code",
   "execution_count": 27,
   "id": "414cde4d",
   "metadata": {},
   "outputs": [
    {
     "data": {
      "text/plain": [
       "(2, 0)"
      ]
     },
     "execution_count": 27,
     "metadata": {},
     "output_type": "execute_result"
    }
   ],
   "source": [
    "numbers = [1, 2, 3, [1, 2, 3], 1, 2, 3]\n",
    "numbers.count(2), numbers.count(9)"
   ]
  },
  {
   "cell_type": "code",
   "execution_count": 31,
   "id": "46f23b79",
   "metadata": {},
   "outputs": [
    {
     "data": {
      "text/plain": [
       "1"
      ]
     },
     "execution_count": 31,
     "metadata": {},
     "output_type": "execute_result"
    }
   ],
   "source": [
    "numbers.index(2)  # 0번째 index부터 2가 처음 나오는 index를 반환"
   ]
  },
  {
   "cell_type": "code",
   "execution_count": 33,
   "id": "d4c04329",
   "metadata": {},
   "outputs": [
    {
     "data": {
      "text/plain": [
       "5"
      ]
     },
     "execution_count": 33,
     "metadata": {},
     "output_type": "execute_result"
    }
   ],
   "source": [
    "numbers.index(2, 3)  # 3번째 index 부터 2가 처음 나오는 index를 반환"
   ]
  },
  {
   "cell_type": "code",
   "execution_count": 34,
   "id": "511a61f1",
   "metadata": {},
   "outputs": [
    {
     "name": "stdout",
     "output_type": "stream",
     "text": [
      "No 9 here\n"
     ]
    }
   ],
   "source": [
    "if 9 in numbers:\n",
    "    print(numbers.index(9))\n",
    "else:\n",
    "    print('No 9 here')"
   ]
  },
  {
   "cell_type": "code",
   "execution_count": 35,
   "id": "e8f41e9c",
   "metadata": {},
   "outputs": [
    {
     "data": {
      "text/plain": [
       "False"
      ]
     },
     "execution_count": 35,
     "metadata": {},
     "output_type": "execute_result"
    }
   ],
   "source": [
    "9 in numbers  # numbers 리스트에 9가 존재하는지 여부"
   ]
  },
  {
   "cell_type": "code",
   "execution_count": 39,
   "id": "57c9b09b",
   "metadata": {},
   "outputs": [],
   "source": [
    "def safe_index(lst, data):\n",
    "    if data in lst: # lst 안에 data 있는지 여부\n",
    "        return lst.index(data)\n",
    "    else:\n",
    "        return -1"
   ]
  },
  {
   "cell_type": "code",
   "execution_count": 40,
   "id": "632c0f9e",
   "metadata": {},
   "outputs": [
    {
     "data": {
      "text/plain": [
       "-1"
      ]
     },
     "execution_count": 40,
     "metadata": {},
     "output_type": "execute_result"
    }
   ],
   "source": [
    "safe_index(numbers, 9)"
   ]
  },
  {
   "cell_type": "code",
   "execution_count": 41,
   "id": "be5fa5d7",
   "metadata": {},
   "outputs": [
    {
     "data": {
      "text/plain": [
       "[1, 2, 3, [1, 2, 3], 1, 2, 3]"
      ]
     },
     "execution_count": 41,
     "metadata": {},
     "output_type": "execute_result"
    }
   ],
   "source": [
    "# numbers.index(9)\n",
    "numbers[0:20]"
   ]
  },
  {
   "cell_type": "markdown",
   "id": "60dc49a0",
   "metadata": {},
   "source": [
    "## 1.5 원하는 요소 추출\n",
    "1. 리스트 슬라이싱 : 리스트에서 원하는 index의 데이터를 추출(인덱스 범위 벗어나도 에러 안남)\n",
    "   - [from:stop:step] from 부터 stop앞까지 step씩 증가하는 index의 값을 추출\n",
    "   - from 생략시 처음을, stop 생략시 끝, step 생략시 1을 의미. 모두 생략 가능\n",
    "   - 음수 인덱스 가능\n",
    "\n",
    "2. <font color =\"red\"> 리스트 컴프리헨션 </font> : 리스트에서 원하는 데이터를 추출"
   ]
  },
  {
   "cell_type": "code",
   "execution_count": 45,
   "id": "bee799b2",
   "metadata": {},
   "outputs": [
    {
     "name": "stdout",
     "output_type": "stream",
     "text": [
      "[1, 5, 10, 13]\n",
      "[20, 13, 12, 10, 9, 5, 3, 1]\n"
     ]
    }
   ],
   "source": [
    "numbers = [1, 3, 5, 9, 10, 12, 13, 20]\n",
    "# 짝수번째 인덱스 값 출력\n",
    "print(numbers[::2])\n",
    "# 거꾸로 출력\n",
    "print(numbers[::-1])"
   ]
  },
  {
   "cell_type": "code",
   "execution_count": 51,
   "id": "288799a0",
   "metadata": {},
   "outputs": [
    {
     "name": "stdout",
     "output_type": "stream",
     "text": [
      "[1, 3, 5, 9, 10, 12, 13, 20]\n",
      "[10, 12, 20]\n"
     ]
    }
   ],
   "source": [
    "numbers = [1, 3, 5, 9, 10, 12, 13, 20]\n",
    "# 리스트에서 모든 데이터를 변수에 담아 출력하시오.\n",
    "result = []\n",
    "for data in numbers:\n",
    "    result.append(data)\n",
    "print(result)\n",
    "\n",
    "# 리스트에서 짝수 데이터만 변수에 담아 출력하시오.\n",
    "result =[]\n",
    "for data in numbers:\n",
    "    if data %2 == 0:\n",
    "        result.append(data)\n",
    "print(result)\n",
    "    "
   ]
  },
  {
   "cell_type": "markdown",
   "id": "c3291686",
   "metadata": {},
   "source": [
    "**리스트 컴프리헨션**"
   ]
  },
  {
   "cell_type": "code",
   "execution_count": 56,
   "id": "ab9bf9ff",
   "metadata": {},
   "outputs": [
    {
     "data": {
      "text/plain": [
       "[1, 3, 5, 9, 10, 12, 13, 20]"
      ]
     },
     "execution_count": 56,
     "metadata": {},
     "output_type": "execute_result"
    }
   ],
   "source": [
    "# numbers의 모든 데이터를 리스트컴프리헨션으로 추출\n",
    "[ data for data in numbers ]"
   ]
  },
  {
   "cell_type": "code",
   "execution_count": 59,
   "id": "ba310273",
   "metadata": {},
   "outputs": [
    {
     "data": {
      "text/plain": [
       "[10, 12, 20]"
      ]
     },
     "execution_count": 59,
     "metadata": {},
     "output_type": "execute_result"
    }
   ],
   "source": [
    "# numbers의 짝수 데이터를 리스트컴프리헨션으로 추출\n",
    "[ data for data in numbers if data %2== 0]"
   ]
  },
  {
   "cell_type": "code",
   "execution_count": 60,
   "id": "d32ed314",
   "metadata": {},
   "outputs": [
    {
     "data": {
      "text/plain": [
       "[10, 12, 13, 20]"
      ]
     },
     "execution_count": 60,
     "metadata": {},
     "output_type": "execute_result"
    }
   ],
   "source": [
    "# ex1.numbers에서 10이상만 추출\n",
    "numbers = [1, 3, 5, 9, 10, 12, 13, 20]\n",
    "[ data for data in numbers if data >= 10]"
   ]
  },
  {
   "cell_type": "code",
   "execution_count": 61,
   "id": "e4024aef",
   "metadata": {},
   "outputs": [
    {
     "data": {
      "text/plain": [
       "['orange']"
      ]
     },
     "execution_count": 61,
     "metadata": {},
     "output_type": "execute_result"
    }
   ],
   "source": [
    "#ex2. fruits에서 5글자가 넘는 과일만 추출\n",
    "fruits = ['orange', 'apple', 'mango', 'kiwi']\n",
    "[ data for data in fruits if len(data) > 5]"
   ]
  },
  {
   "cell_type": "code",
   "execution_count": 64,
   "id": "a576f7b4",
   "metadata": {},
   "outputs": [
    {
     "data": {
      "text/plain": [
       "[9, 16, 25]"
      ]
     },
     "execution_count": 64,
     "metadata": {},
     "output_type": "execute_result"
    }
   ],
   "source": [
    "# ex3. 3이상의 요소들의 제곱을 추출\n",
    "L = [1, 2, 3, 4, 5]\n",
    "[ data**2 for data in L if data >= 3]"
   ]
  },
  {
   "cell_type": "code",
   "execution_count": 67,
   "id": "b36d71f1",
   "metadata": {},
   "outputs": [
    {
     "data": {
      "text/plain": [
       "['banana', 'cherry']"
      ]
     },
     "execution_count": 67,
     "metadata": {},
     "output_type": "execute_result"
    }
   ],
   "source": [
    "words = ['Apple', 'Banana', 'CHERRY', 'date']\n",
    "\n",
    "[w.lower() for w in words if len(w) > 5]"
   ]
  },
  {
   "cell_type": "code",
   "execution_count": 69,
   "id": "5e624655",
   "metadata": {},
   "outputs": [
    {
     "data": {
      "text/plain": [
       "[1, 2, 3, 4, 5, 6]"
      ]
     },
     "execution_count": 69,
     "metadata": {},
     "output_type": "execute_result"
    }
   ],
   "source": [
    "# 2차원을 1차원으로 펴기\n",
    "matrix = [[1, 2], [3, 4], [5, 6]]\n",
    "\n",
    "[num for row in matrix for num in row]\n"
   ]
  },
  {
   "cell_type": "markdown",
   "id": "d1d22c9d",
   "metadata": {},
   "source": [
    "## 요소 수정하기"
   ]
  },
  {
   "cell_type": "code",
   "execution_count": 70,
   "id": "f11bdbb3",
   "metadata": {},
   "outputs": [
    {
     "data": {
      "text/plain": [
       "[0, 1, 222, 3, 4, 5, 6, 7, 8, 9]"
      ]
     },
     "execution_count": 70,
     "metadata": {},
     "output_type": "execute_result"
    }
   ],
   "source": [
    "numbers = [0, 1, 2, 3, 4, 5, 6, 7, 8, 9]\n",
    "# 인덱스를 이용해서 요소 수정\n",
    "numbers[2] = 222\n",
    "numbers"
   ]
  },
  {
   "cell_type": "code",
   "execution_count": 74,
   "id": "df3f364b",
   "metadata": {},
   "outputs": [
    {
     "data": {
      "text/plain": [
       "[0, 'X', 'Y', 'Z', 'ㅋ', 'ㅎ', 4, 5, 6, 7, 8, 9]"
      ]
     },
     "execution_count": 74,
     "metadata": {},
     "output_type": "execute_result"
    }
   ],
   "source": [
    "# 슬라이싱을 이용해서 요소 수정(step부분이 미포함 : 부분 리스트가 통째로 수정)\n",
    "numbers[1:4] = ['X', 'Y', 'Z', 'ㅋ', 'ㅎ']\n",
    "numbers"
   ]
  },
  {
   "cell_type": "code",
   "execution_count": 79,
   "id": "155e52a5",
   "metadata": {},
   "outputs": [
    {
     "data": {
      "text/plain": [
       "[99, 1, 99, 3, 99, 5, 99, 7, 77, 9]"
      ]
     },
     "execution_count": 79,
     "metadata": {},
     "output_type": "execute_result"
    }
   ],
   "source": [
    "# 슬라이싱을 이용해서 요소 수정(step 부분 포함 : 요소 갯수가 맞아야 함)\n",
    "numbers = [0, 1, 2, 3, 4, 5, 6, 7, 8, 9]\n",
    "numbers[::2] = [99, 99, 99, 99, 77]\n",
    "numbers"
   ]
  },
  {
   "cell_type": "markdown",
   "id": "d94d5174",
   "metadata": {},
   "source": [
    "## 1.7 요소 삭제\n",
    "- pop() : 가장 마지막 index 요소가 반환되고 삭제\n",
    "- pop(idx) : idx 번째 요소가 반환되고 삭제\n",
    "- remove(지울data) : 리스트안의 data가 삭제\n",
    "- del 변수[idx] : idx 번째 요소가 삭제"
   ]
  },
  {
   "cell_type": "code",
   "execution_count": 87,
   "id": "b8bdf5c5",
   "metadata": {},
   "outputs": [
    {
     "name": "stdout",
     "output_type": "stream",
     "text": [
      "삭제된 데이터 : 5, 리스트 : [1, 2, 3, 4]\n",
      "삭제된 데이터 : 1, 리스트 : [2, 3, 4]\n",
      "numbers : [2, 3]\n"
     ]
    }
   ],
   "source": [
    "numbers = [1, 2, 3, 4, 5]\n",
    "delete_data = numbers.pop()\n",
    "print(\"삭제된 데이터 : {}, 리스트 : {}\".format(delete_data, numbers))\n",
    "\n",
    "delete_data2 = numbers.pop(0)\n",
    "print(\"삭제된 데이터 : {}, 리스트 : {}\".format(delete_data2, numbers))\n",
    "\n",
    "del numbers[2]\n",
    "print('numbers :', numbers)"
   ]
  },
  {
   "cell_type": "code",
   "execution_count": 89,
   "id": "17b9e40a",
   "metadata": {},
   "outputs": [
    {
     "data": {
      "text/plain": [
       "[1, 2, 4, 5]"
      ]
     },
     "execution_count": 89,
     "metadata": {},
     "output_type": "execute_result"
    }
   ],
   "source": [
    "numbers = [1, 2, 3, 4, 5]\n",
    "# remove()는 반환값이 없고, 해당 데이터 삭제. 해당데이터가 없으면 오류\n",
    "numbers.remove(3)  \n",
    "numbers"
   ]
  },
  {
   "cell_type": "code",
   "execution_count": 91,
   "id": "44151cd8",
   "metadata": {},
   "outputs": [
    {
     "ename": "ValueError",
     "evalue": "list.remove(x): x not in list",
     "output_type": "error",
     "traceback": [
      "\u001b[1;31m---------------------------------------------------------------------------\u001b[0m",
      "\u001b[1;31mValueError\u001b[0m                                Traceback (most recent call last)",
      "Cell \u001b[1;32mIn[91], line 1\u001b[0m\n\u001b[1;32m----> 1\u001b[0m \u001b[43mnumbers\u001b[49m\u001b[38;5;241;43m.\u001b[39;49m\u001b[43mremove\u001b[49m\u001b[43m(\u001b[49m\u001b[38;5;241;43m9\u001b[39;49m\u001b[43m)\u001b[49m\n",
      "\u001b[1;31mValueError\u001b[0m: list.remove(x): x not in list"
     ]
    }
   ],
   "source": [
    "numbers.remove(9)  "
   ]
  },
  {
   "cell_type": "code",
   "execution_count": 92,
   "id": "50ffea98",
   "metadata": {},
   "outputs": [
    {
     "name": "stdout",
     "output_type": "stream",
     "text": [
      "해당 데이터가 없습니다\n"
     ]
    }
   ],
   "source": [
    "if 9 in numbers:\n",
    "    numbers.remove(9)\n",
    "else:\n",
    "    print('해당 데이터가 없습니다')"
   ]
  },
  {
   "cell_type": "code",
   "execution_count": 96,
   "id": "6db8e84f",
   "metadata": {},
   "outputs": [],
   "source": [
    "def safe_remove(lst, remove_data):\n",
    "    if remove_data in lst:\n",
    "        lst.remove(remove_data)\n",
    "        print(remove_data, '삭제 완료')\n",
    "    else:\n",
    "        print(f'{remove_data}는 없는 데이터 입니다.')"
   ]
  },
  {
   "cell_type": "code",
   "execution_count": 98,
   "id": "bbaace4c",
   "metadata": {},
   "outputs": [
    {
     "name": "stdout",
     "output_type": "stream",
     "text": [
      "9는 없는 데이터 입니다.\n",
      "5 삭제 완료\n"
     ]
    }
   ],
   "source": [
    "safe_remove(numbers, 9)\n",
    "safe_remove(numbers, 5)"
   ]
  },
  {
   "cell_type": "code",
   "execution_count": 99,
   "id": "f164efdd",
   "metadata": {},
   "outputs": [
    {
     "data": {
      "text/plain": [
       "[1, 2, 4]"
      ]
     },
     "execution_count": 99,
     "metadata": {},
     "output_type": "execute_result"
    }
   ],
   "source": [
    "numbers"
   ]
  },
  {
   "cell_type": "code",
   "execution_count": null,
   "id": "9f295a76",
   "metadata": {},
   "outputs": [],
   "source": []
  }
 ],
 "metadata": {
  "kernelspec": {
   "display_name": "Python 3 (ipykernel)",
   "language": "python",
   "name": "python3"
  },
  "language_info": {
   "codemirror_mode": {
    "name": "ipython",
    "version": 3
   },
   "file_extension": ".py",
   "mimetype": "text/x-python",
   "name": "python",
   "nbconvert_exporter": "python",
   "pygments_lexer": "ipython3",
   "version": "3.10.9"
  },
  "toc": {
   "base_numbering": 1,
   "nav_menu": {},
   "number_sections": false,
   "sideBar": true,
   "skip_h1_title": false,
   "title_cell": "Table of Contents",
   "title_sidebar": "Contents",
   "toc_cell": false,
   "toc_position": {
    "height": "calc(100% - 180px)",
    "left": "10px",
    "top": "150px",
    "width": "165px"
   },
   "toc_section_display": true,
   "toc_window_display": true
  }
 },
 "nbformat": 4,
 "nbformat_minor": 5
}
