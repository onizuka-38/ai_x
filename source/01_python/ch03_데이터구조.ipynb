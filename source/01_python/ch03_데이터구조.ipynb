{
 "cells": [
  {
   "cell_type": "code",
   "execution_count": 1,
   "id": "b61da163",
   "metadata": {},
   "outputs": [
    {
     "data": {
      "text/html": [
       "\n",
       "<style>\n",
       "div.container{width:86% !important;}\n",
       "div.cell.code_cell.rendered{width:100%;}\n",
       "div.CodeMirror {font-family:Consolas; font-size:12pt;}\n",
       "div.output {font-size:15pt; font-weight:bold;}\n",
       "div.input {font-family:Consolas; font-size:12pt;}\n",
       "div.prompt {min-width:70px;}\n",
       "div#toc-wrapper{padding-top:120px;}\n",
       "div.text_cell_render ul li{font-size:12pt;padding:5px;}\n",
       "table.dataframe{font-size:12px;}\n",
       "</style>\n"
      ],
      "text/plain": [
       "<IPython.core.display.HTML object>"
      ]
     },
     "metadata": {},
     "output_type": "display_data"
    }
   ],
   "source": [
    "from IPython.display import display, HTML\n",
    "display(HTML(\"\"\"\n",
    "<style>\n",
    "div.container{width:86% !important;}\n",
    "div.cell.code_cell.rendered{width:100%;}\n",
    "div.CodeMirror {font-family:Consolas; font-size:12pt;}\n",
    "div.output {font-size:15pt; font-weight:bold;}\n",
    "div.input {font-family:Consolas; font-size:12pt;}\n",
    "div.prompt {min-width:70px;}\n",
    "div#toc-wrapper{padding-top:120px;}\n",
    "div.text_cell_render ul li{font-size:12pt;padding:5px;}\n",
    "table.dataframe{font-size:12px;}\n",
    "</style>\n",
    "\"\"\"))"
   ]
  },
  {
   "cell_type": "markdown",
   "id": "1962fa19",
   "metadata": {},
   "source": [
    "<font size=\"5\" color=\"red\" >ch03_데이터구조</font>\n",
    "- 리스트[], 튜플(), 딕셔너리{}, 셋\n",
    "\n",
    "# 1절. 리스트\n",
    "## 1.1 리스트 만들기\n",
    "\n",
    "- []를 이용해서 만들며, 여러개 값(여러 타입)을 하나의 변수에 저장/관리 할 수 있음\n",
    "- list(리스트로 변환 가능한 자료)함수 이용도 가능 list(10,20)\n",
    "- 인덱스 : 각 요소의 위치. 0부터 시작. 맨 마지막 인덱스는 -1\n",
    "- 슬라이싱( [from:stop:step] ) : 부분 데이터셋 추출\n",
    "- 인덱스와 슬라이싱을 이용해서 읽기/쓰기 지원"
   ]
  },
  {
   "cell_type": "code",
   "execution_count": null,
   "id": "36269e4f",
   "metadata": {},
   "outputs": [],
   "source": [
    "fruits = ['banana', 'apple', 'orange', 'grape']\n",
    "type(fruits)"
   ]
  },
  {
   "cell_type": "code",
   "execution_count": null,
   "id": "5cf6ba1b",
   "metadata": {},
   "outputs": [],
   "source": [
    "print(fruits)\n",
    "print(fruits[0])"
   ]
  },
  {
   "cell_type": "code",
   "execution_count": null,
   "id": "81939b26",
   "metadata": {},
   "outputs": [],
   "source": [
    "fruits[0] = 'mango'\n",
    "print(fruits)"
   ]
  },
  {
   "cell_type": "code",
   "execution_count": null,
   "id": "7d101ed8",
   "metadata": {},
   "outputs": [],
   "source": [
    "fruits = ['mango', 'apple', 'orange']\n",
    "x, y, z = fruits\n",
    "print(f'x={x}')\n",
    "print(f'y={y}')\n",
    "print(f'z={z}')\n",
    "print(f'fruits={fruits}')"
   ]
  },
  {
   "cell_type": "code",
   "execution_count": null,
   "id": "8d111f55",
   "metadata": {},
   "outputs": [],
   "source": [
    "# range(from, to, by) : from부터 to 앞까지 by씩 증가하면서 지정된 범위의 정수\n",
    "        # from 생략시 : 0\n",
    "        # by 생략시 1\n",
    "range(10)"
   ]
  },
  {
   "cell_type": "code",
   "execution_count": null,
   "id": "30038294",
   "metadata": {},
   "outputs": [],
   "source": [
    "list(range(101, 111))"
   ]
  },
  {
   "cell_type": "code",
   "execution_count": null,
   "id": "629aeb3d",
   "metadata": {},
   "outputs": [],
   "source": [
    "list(range(10, -1, -2))"
   ]
  },
  {
   "cell_type": "code",
   "execution_count": null,
   "id": "e8802fc1",
   "metadata": {},
   "outputs": [],
   "source": [
    "# 반복문(3회)\n",
    "for i in range(3):\n",
    "    print(i)"
   ]
  },
  {
   "cell_type": "code",
   "execution_count": null,
   "id": "5a6da276",
   "metadata": {},
   "outputs": [],
   "source": [
    "fruits = ['mango', 'apple', 'orange', 'grape']\n",
    "\n",
    "# len(fruits) : 리스트 데이터 수\n",
    "for i in range(len(fruits)):\n",
    "    print('{}번째 과일은 {}입니다'.format(i, fruits[i]))\n",
    "    "
   ]
  },
  {
   "cell_type": "code",
   "execution_count": null,
   "id": "a391aa2c",
   "metadata": {},
   "outputs": [],
   "source": [
    "list(enumerate(fruits))"
   ]
  },
  {
   "cell_type": "code",
   "execution_count": null,
   "id": "00c77c13",
   "metadata": {},
   "outputs": [],
   "source": [
    "# enumerate(나열가능한 자료) : -> (index,값)들의 셋들\n",
    "for idx, value in enumerate(fruits):\n",
    "    print('{}번째 과일은 {}입니다'.format(idx, value))"
   ]
  },
  {
   "cell_type": "code",
   "execution_count": null,
   "id": "2570e534",
   "metadata": {},
   "outputs": [],
   "source": [
    "for value in [0,1,2]:\n",
    "    print(value)"
   ]
  },
  {
   "cell_type": "code",
   "execution_count": null,
   "id": "adc5dd13",
   "metadata": {},
   "outputs": [],
   "source": [
    "# 리스트는 여러 타입의 데이터를 담을 수 있음\n",
    "numbers = [0, True, '2', 3, [4,5,6] ]\n",
    "print(numbers)\n",
    "print(numbers[1], numbers[4][1])\n"
   ]
  },
  {
   "cell_type": "code",
   "execution_count": null,
   "id": "8f2ccaf6",
   "metadata": {},
   "outputs": [],
   "source": [
    "# 2차원 리스트\n",
    "numbers_2d = [[90, 91, 92, 93],\n",
    "              [80, 81, 82, 83],\n",
    "              [70, 71, 72, 73]]\n",
    "len(numbers_2d), len(numbers_2d[0])"
   ]
  },
  {
   "cell_type": "code",
   "execution_count": null,
   "id": "93fac721",
   "metadata": {},
   "outputs": [],
   "source": [
    "for i, row in enumerate(numbers_2d):\n",
    "    for j, value in enumerate(row):\n",
    "        print(\"{}행{}열:{}\".format(i, j, value), end='\\t' )\n",
    "    print() # 개행 : 다음줄로\n",
    "        "
   ]
  },
  {
   "cell_type": "code",
   "execution_count": null,
   "id": "75886938",
   "metadata": {},
   "outputs": [],
   "source": [
    "for row in numbers_2d:\n",
    "    for item in row:\n",
    "        print(item, end='\\t')\n",
    "    print()"
   ]
  },
  {
   "cell_type": "markdown",
   "id": "f893e6fe",
   "metadata": {},
   "source": [
    "## 1.2 기본 정보 조회"
   ]
  },
  {
   "cell_type": "code",
   "execution_count": null,
   "id": "70e52f37",
   "metadata": {},
   "outputs": [],
   "source": [
    "numbers = [1, 12, 3, 5, 4]\n",
    "numbers_2d = [[100, 0],\n",
    "              [9, 100, 1, 2, 3],\n",
    "              [50, 54]]"
   ]
  },
  {
   "cell_type": "code",
   "execution_count": null,
   "id": "00474363",
   "metadata": {},
   "outputs": [],
   "source": [
    "# 요소(데이터)의 수\n",
    "print(len(numbers), len(numbers_2d))"
   ]
  },
  {
   "cell_type": "code",
   "execution_count": null,
   "id": "2daf1c54",
   "metadata": {},
   "outputs": [],
   "source": [
    "# 최소값, 최대값\n",
    "min(numbers), max(numbers)"
   ]
  },
  {
   "cell_type": "code",
   "execution_count": null,
   "id": "0c8462c3",
   "metadata": {},
   "outputs": [],
   "source": [
    "# 2차원 list의 min() : 0번 인덱스 요소가 가장 작은 것\n",
    "#             max() : 0번 인덱스 요소가 가장 큰 것\n",
    "min(numbers_2d), max(numbers_2d)"
   ]
  },
  {
   "cell_type": "code",
   "execution_count": null,
   "id": "0afbcfc2",
   "metadata": {},
   "outputs": [],
   "source": [
    "# 문자 list일 경우 ascii 코드값으로 min(), max() 적용\n",
    "fruits = ['mango', 'apple', 'orange']\n",
    "min(fruits), max(fruits)"
   ]
  },
  {
   "cell_type": "code",
   "execution_count": null,
   "id": "b7bf9bfd",
   "metadata": {},
   "outputs": [],
   "source": [
    "numbers = [1, 12, 3, 5, 4]\n",
    "# 정렬(오름차순, 내림차순)\n",
    "print('오름차순 :', sorted(numbers))\n",
    "print('내림차순 :', sorted(numbers, reverse=True))\n",
    "print('sorted함수 사용시 리스트 내용이 바뀌지 않음 :', numbers)\n",
    "print('합 :', sum(numbers))"
   ]
  },
  {
   "cell_type": "markdown",
   "id": "fedf4c89",
   "metadata": {},
   "source": [
    "## 1.3 요소 추가\n",
    "```\n",
    "+ : 두 리스트 연결\n",
    "* : 리스트를 곱한 수 만큼 반복\n",
    "append() : 리스트 맨 뒤에 요소 추가\n",
    "extend() : 맨 뒤에 리스트를 요소별로 추가\n",
    "insert(idx, 값) : idx번째 인덱스 위치에 추가(기존 데이터는 shift)\n",
    "```"
   ]
  },
  {
   "cell_type": "code",
   "execution_count": null,
   "id": "3757503c",
   "metadata": {},
   "outputs": [],
   "source": [
    "# 연결\n",
    "numbers = [1, 2, 3]\n",
    "numbers = numbers + numbers\n",
    "numbers"
   ]
  },
  {
   "cell_type": "code",
   "execution_count": null,
   "id": "3469b4bd",
   "metadata": {},
   "outputs": [],
   "source": [
    "# 반복\n",
    "numbers = [1, 2, 3]\n",
    "print(numbers * 3)\n",
    "print(3 * numbers)"
   ]
  },
  {
   "cell_type": "code",
   "execution_count": null,
   "id": "c63c9ddf",
   "metadata": {},
   "outputs": [],
   "source": [
    "# 추가\n",
    "numbers = [1, 2, 3]\n",
    "numbers.append(4)\n",
    "print(numbers)"
   ]
  },
  {
   "cell_type": "code",
   "execution_count": null,
   "id": "34736948",
   "metadata": {},
   "outputs": [],
   "source": [
    "numbers.append([5,6,7])  # 맨 뒤에 하나의 요소로 추가\n",
    "print(numbers)"
   ]
  },
  {
   "cell_type": "code",
   "execution_count": null,
   "id": "b33c95db",
   "metadata": {},
   "outputs": [],
   "source": [
    "# 요소별로 각기 추가\n",
    "num = [1, 2, 3]\n",
    "num.extend([4,5,6])\n",
    "print(num)"
   ]
  },
  {
   "cell_type": "code",
   "execution_count": null,
   "id": "30076cbd",
   "metadata": {},
   "outputs": [],
   "source": [
    "num.insert(2, 'X')\n",
    "print(num)"
   ]
  },
  {
   "cell_type": "markdown",
   "id": "bdc70668",
   "metadata": {},
   "source": [
    "## 1.4 인덱싱과 요소 갯수\n",
    "- 변수[index] : 인덱스를 이용한 접근\n",
    "- index(찾을데이터) : 해당 찾을 데이터가 있는 요소의 index를 반환\n",
    "                     찾을 데이터가 없을 경우 오류\n",
    "- count(찾을데이터) : 리스트에서 찾을데이터의 갯수를 반환"
   ]
  },
  {
   "cell_type": "code",
   "execution_count": null,
   "id": "414cde4d",
   "metadata": {},
   "outputs": [],
   "source": [
    "numbers = [1, 2, 3, [1, 2, 3], 1, 2, 3]\n",
    "numbers.count(2), numbers.count(9)"
   ]
  },
  {
   "cell_type": "code",
   "execution_count": null,
   "id": "46f23b79",
   "metadata": {},
   "outputs": [],
   "source": [
    "numbers.index(2)  # 0번째 index부터 2가 처음 나오는 index를 반환"
   ]
  },
  {
   "cell_type": "code",
   "execution_count": null,
   "id": "d4c04329",
   "metadata": {},
   "outputs": [],
   "source": [
    "numbers.index(2, 3)  # 3번째 index 부터 2가 처음 나오는 index를 반환"
   ]
  },
  {
   "cell_type": "code",
   "execution_count": null,
   "id": "511a61f1",
   "metadata": {},
   "outputs": [],
   "source": [
    "if 9 in numbers:\n",
    "    print(numbers.index(9))\n",
    "else:\n",
    "    print('No 9 here')"
   ]
  },
  {
   "cell_type": "code",
   "execution_count": null,
   "id": "e8f41e9c",
   "metadata": {},
   "outputs": [],
   "source": [
    "9 in numbers  # numbers 리스트에 9가 존재하는지 여부"
   ]
  },
  {
   "cell_type": "code",
   "execution_count": null,
   "id": "57c9b09b",
   "metadata": {},
   "outputs": [],
   "source": [
    "def safe_index(lst, data):\n",
    "    if data in lst: # lst 안에 data 있는지 여부\n",
    "        return lst.index(data)\n",
    "    else:\n",
    "        return -1"
   ]
  },
  {
   "cell_type": "code",
   "execution_count": null,
   "id": "632c0f9e",
   "metadata": {},
   "outputs": [],
   "source": [
    "safe_index(numbers, 9)"
   ]
  },
  {
   "cell_type": "code",
   "execution_count": null,
   "id": "be5fa5d7",
   "metadata": {},
   "outputs": [],
   "source": [
    "# numbers.index(9)\n",
    "numbers[0:20]"
   ]
  },
  {
   "cell_type": "markdown",
   "id": "60dc49a0",
   "metadata": {},
   "source": [
    "## 1.5 원하는 요소 추출\n",
    "1. 리스트 슬라이싱 : 리스트에서 원하는 index의 데이터를 추출(인덱스 범위 벗어나도 에러 안남)\n",
    "   - [from:stop:step] from 부터 stop앞까지 step씩 증가하는 index의 값을 추출\n",
    "   - from 생략시 처음을, stop 생략시 끝, step 생략시 1을 의미. 모두 생략 가능\n",
    "   - 음수 인덱스 가능\n",
    "\n",
    "2. <font color =\"red\"> 리스트 컴프리헨션 </font> : 리스트에서 원하는 데이터를 추출"
   ]
  },
  {
   "cell_type": "code",
   "execution_count": null,
   "id": "bee799b2",
   "metadata": {},
   "outputs": [],
   "source": [
    "numbers = [1, 3, 5, 9, 10, 12, 13, 20]\n",
    "# 짝수번째 인덱스 값 출력\n",
    "print(numbers[::2])\n",
    "# 거꾸로 출력\n",
    "print(numbers[::-1])"
   ]
  },
  {
   "cell_type": "code",
   "execution_count": null,
   "id": "288799a0",
   "metadata": {},
   "outputs": [],
   "source": [
    "numbers = [1, 3, 5, 9, 10, 12, 13, 20]\n",
    "# 리스트에서 모든 데이터를 변수에 담아 출력하시오.\n",
    "result = []\n",
    "for data in numbers:\n",
    "    result.append(data)\n",
    "print(result)\n",
    "\n",
    "# 리스트에서 짝수 데이터만 변수에 담아 출력하시오.\n",
    "result =[]\n",
    "for data in numbers:\n",
    "    if data %2 == 0:\n",
    "        result.append(data)\n",
    "print(result)\n",
    "    "
   ]
  },
  {
   "cell_type": "markdown",
   "id": "c3291686",
   "metadata": {},
   "source": [
    "**리스트 컴프리헨션**"
   ]
  },
  {
   "cell_type": "code",
   "execution_count": null,
   "id": "ab9bf9ff",
   "metadata": {},
   "outputs": [],
   "source": [
    "# numbers의 모든 데이터를 리스트컴프리헨션으로 추출\n",
    "[ data for data in numbers ]"
   ]
  },
  {
   "cell_type": "code",
   "execution_count": null,
   "id": "ba310273",
   "metadata": {},
   "outputs": [],
   "source": [
    "# numbers의 짝수 데이터를 리스트컴프리헨션으로 추출\n",
    "[ data for data in numbers if data %2== 0]"
   ]
  },
  {
   "cell_type": "code",
   "execution_count": null,
   "id": "d32ed314",
   "metadata": {},
   "outputs": [],
   "source": [
    "# ex1.numbers에서 10이상만 추출\n",
    "numbers = [1, 3, 5, 9, 10, 12, 13, 20]\n",
    "[ data for data in numbers if data >= 10]"
   ]
  },
  {
   "cell_type": "code",
   "execution_count": null,
   "id": "e4024aef",
   "metadata": {},
   "outputs": [],
   "source": [
    "#ex2. fruits에서 5글자가 넘는 과일만 추출\n",
    "fruits = ['orange', 'apple', 'mango', 'kiwi']\n",
    "[ data for data in fruits if len(data) > 5]"
   ]
  },
  {
   "cell_type": "code",
   "execution_count": null,
   "id": "a576f7b4",
   "metadata": {},
   "outputs": [],
   "source": [
    "# ex3. 3이상의 요소들의 제곱을 추출\n",
    "L = [1, 2, 3, 4, 5]\n",
    "[ data**2 for data in L if data >= 3]"
   ]
  },
  {
   "cell_type": "code",
   "execution_count": null,
   "id": "b36d71f1",
   "metadata": {},
   "outputs": [],
   "source": [
    "words = ['Apple', 'Banana', 'CHERRY', 'date']\n",
    "\n",
    "[w.lower() for w in words if len(w) > 5]"
   ]
  },
  {
   "cell_type": "code",
   "execution_count": null,
   "id": "5e624655",
   "metadata": {},
   "outputs": [],
   "source": [
    "# 2차원을 1차원으로 펴기\n",
    "matrix = [[1, 2], [3, 4], [5, 6]]\n",
    "\n",
    "[num for row in matrix for num in row]\n"
   ]
  },
  {
   "cell_type": "markdown",
   "id": "d1d22c9d",
   "metadata": {},
   "source": [
    "## 요소 수정하기"
   ]
  },
  {
   "cell_type": "code",
   "execution_count": null,
   "id": "f11bdbb3",
   "metadata": {},
   "outputs": [],
   "source": [
    "numbers = [0, 1, 2, 3, 4, 5, 6, 7, 8, 9]\n",
    "# 인덱스를 이용해서 요소 수정\n",
    "numbers[2] = 222\n",
    "numbers"
   ]
  },
  {
   "cell_type": "code",
   "execution_count": null,
   "id": "df3f364b",
   "metadata": {},
   "outputs": [],
   "source": [
    "# 슬라이싱을 이용해서 요소 수정(step부분이 미포함 : 부분 리스트가 통째로 수정)\n",
    "numbers[1:4] = ['X', 'Y', 'Z', 'ㅋ', 'ㅎ']\n",
    "numbers"
   ]
  },
  {
   "cell_type": "code",
   "execution_count": null,
   "id": "155e52a5",
   "metadata": {},
   "outputs": [],
   "source": [
    "# 슬라이싱을 이용해서 요소 수정(step 부분 포함 : 요소 갯수가 맞아야 함)\n",
    "numbers = [0, 1, 2, 3, 4, 5, 6, 7, 8, 9]\n",
    "numbers[::2] = [99, 99, 99, 99, 77]\n",
    "numbers"
   ]
  },
  {
   "cell_type": "markdown",
   "id": "d94d5174",
   "metadata": {},
   "source": [
    "## 1.7 요소 삭제\n",
    "- pop() : 가장 마지막 index 요소가 반환되고 삭제\n",
    "- pop(idx) : idx 번째 요소가 반환되고 삭제\n",
    "- remove(지울data) : 리스트안의 data가 삭제\n",
    "- del 변수[idx] : idx 번째 요소가 삭제"
   ]
  },
  {
   "cell_type": "code",
   "execution_count": null,
   "id": "b8bdf5c5",
   "metadata": {},
   "outputs": [],
   "source": [
    "numbers = [1, 2, 3, 4, 5]\n",
    "delete_data = numbers.pop()\n",
    "print(\"삭제된 데이터 : {}, 리스트 : {}\".format(delete_data, numbers))\n",
    "\n",
    "delete_data2 = numbers.pop(0)\n",
    "print(\"삭제된 데이터 : {}, 리스트 : {}\".format(delete_data2, numbers))\n",
    "\n",
    "del numbers[2]\n",
    "print('numbers :', numbers)"
   ]
  },
  {
   "cell_type": "code",
   "execution_count": null,
   "id": "17b9e40a",
   "metadata": {},
   "outputs": [],
   "source": [
    "numbers = [1, 2, 3, 4, 5]\n",
    "# remove()는 반환값이 없고, 해당 데이터 삭제. 해당데이터가 없으면 오류\n",
    "numbers.remove(3)  \n",
    "numbers"
   ]
  },
  {
   "cell_type": "code",
   "execution_count": null,
   "id": "44151cd8",
   "metadata": {},
   "outputs": [],
   "source": [
    "numbers.remove(9)  "
   ]
  },
  {
   "cell_type": "code",
   "execution_count": null,
   "id": "50ffea98",
   "metadata": {},
   "outputs": [],
   "source": [
    "if 9 in numbers:\n",
    "    numbers.remove(9)\n",
    "else:\n",
    "    print('해당 데이터가 없습니다')"
   ]
  },
  {
   "cell_type": "code",
   "execution_count": null,
   "id": "6db8e84f",
   "metadata": {},
   "outputs": [],
   "source": [
    "def safe_remove(lst, remove_data):\n",
    "    if remove_data in lst:\n",
    "        lst.remove(remove_data)\n",
    "        print(remove_data, '삭제 완료')\n",
    "    else:\n",
    "        print(f'{remove_data}는 없는 데이터 입니다.')"
   ]
  },
  {
   "cell_type": "code",
   "execution_count": null,
   "id": "bbaace4c",
   "metadata": {},
   "outputs": [],
   "source": [
    "safe_remove(numbers, 9)\n",
    "safe_remove(numbers, 5)"
   ]
  },
  {
   "cell_type": "code",
   "execution_count": null,
   "id": "f164efdd",
   "metadata": {},
   "outputs": [],
   "source": [
    "numbers"
   ]
  },
  {
   "cell_type": "markdown",
   "id": "3638a33f",
   "metadata": {},
   "source": [
    "## 1.8 정렬하기"
   ]
  },
  {
   "cell_type": "code",
   "execution_count": null,
   "id": "6376aa05",
   "metadata": {},
   "outputs": [],
   "source": [
    "numbers = [1, 9, 5, 0, 8]\n",
    "print('numbers는 변경하지 않고 정렬 :', sorted(numbers))\n",
    "print('numbers :', numbers)"
   ]
  },
  {
   "cell_type": "code",
   "execution_count": null,
   "id": "dbcd84d1",
   "metadata": {},
   "outputs": [],
   "source": [
    "numbers.sort() # numbers 자체가 정렬한 결과로 바뀜(기본정렬 : 오름차순)\n",
    "numbers"
   ]
  },
  {
   "cell_type": "code",
   "execution_count": null,
   "id": "f22352dc",
   "metadata": {},
   "outputs": [],
   "source": [
    "numbers.reverse()\n",
    "numbers"
   ]
  },
  {
   "cell_type": "code",
   "execution_count": null,
   "id": "a1f61795",
   "metadata": {},
   "outputs": [],
   "source": [
    "lst = [2, 5, 9]\n",
    "#lst.reverse()\n",
    "lst = lst[::-1]\n",
    "lst"
   ]
  },
  {
   "cell_type": "markdown",
   "id": "1f35983a",
   "metadata": {},
   "source": [
    "## 1.9 복제하기"
   ]
  },
  {
   "cell_type": "code",
   "execution_count": null,
   "id": "7a9ad1bb",
   "metadata": {},
   "outputs": [],
   "source": [
    "# 스칼라 데이터의 복제\n",
    "i = 10     # 원본\n",
    "copy_i = i # 복제본\n",
    "print(f'원본={i}, 복사본={copy_i} / 원본주소={id(i)}, 복사본주소={id(copy_i)}')\n",
    "copy_i = 99\n",
    "print(f'원본={i}, 복사본={copy_i} / 원본주소={id(i)}, 복사본주소={id(copy_i)}')"
   ]
  },
  {
   "cell_type": "code",
   "execution_count": null,
   "id": "12808f9d",
   "metadata": {},
   "outputs": [],
   "source": [
    "# 리스트(배열, 데이터프레임, 딕셔너리)의 복제 (절대 안 됨)\n",
    "numbers = [5, 8, 1] #원본\n",
    "new_numbers = numbers #복제본\n",
    "new_numbers[0] = 9\n",
    "print('원본 :', numbers)\n",
    "print('복제본 :', new_numbers)"
   ]
  },
  {
   "cell_type": "code",
   "execution_count": null,
   "id": "9c56c2fa",
   "metadata": {},
   "outputs": [],
   "source": [
    "# 얕은 복사(할당)\n",
    "\n",
    "numbers = [5, 8, 1] # 원본\n",
    "new_numbers = numbers # 얕은 복사(할당)\n",
    "print(f\"원본 ={numbers}, 복제본 ={new_numbers}\")\n",
    "print(f\"원본주소 ={id(numbers)}, 복제본주소 ={id(new_numbers)}\")\n",
    "new_numbers[0] = -99\n",
    "new_numbers.sort()\n",
    "print('복제본만 지지고 볶고')\n",
    "print(f\"원본 ={numbers}, 복제본 ={new_numbers}\")\n",
    "print(f\"원본주소 ={id(numbers)}, 복제본주소 ={id(new_numbers)}\")"
   ]
  },
  {
   "cell_type": "code",
   "execution_count": null,
   "id": "167b84bc",
   "metadata": {},
   "outputs": [],
   "source": [
    "# 깊은 복사(복제)\n",
    "\n",
    "numbers = [5, 8, 1] # 원본\n",
    "new_numbers = numbers.copy() # 깊은 복사(복제)\n",
    "print(f\"원본 ={numbers}, 복제본 ={new_numbers}\")\n",
    "print(f\"원본주소 ={id(numbers)}, 복제본주소 ={id(new_numbers)}\")\n",
    "\n",
    "new_numbers[0] = -99\n",
    "new_numbers.sort()\n",
    "new_numbers.remove(-99)\n",
    "print('복제본만 지지고 볶고')\n",
    "print(f\"원본 ={numbers}, 복제본 ={new_numbers}\")\n",
    "print(f\"원본주소 ={id(numbers)}, 복제본주소 ={id(new_numbers)}\")"
   ]
  },
  {
   "cell_type": "code",
   "execution_count": null,
   "id": "4fbd6813",
   "metadata": {},
   "outputs": [],
   "source": [
    "numbers.clear()  # 리스트의 요소를 모두 삭제\n",
    "numbers"
   ]
  },
  {
   "cell_type": "markdown",
   "id": "f4a9f7a1",
   "metadata": {},
   "source": [
    "# 2절. 튜플\n",
    "- 리스트와 유사하지만, 읽기 전용. 수정이 필요없는 데이터에서 사용\n",
    "- 수정불가하므로, 튜플에 데이터 수정, 추가, 삭제 불가 (제공되는 함수도 많지 않음)\n",
    "- (), tuple() 이용해서 생성"
   ]
  },
  {
   "cell_type": "code",
   "execution_count": null,
   "id": "8e1e7f56",
   "metadata": {},
   "outputs": [],
   "source": [
    "# city = ('서울', '부산', '인천', '목표')\n",
    "# 파이썬은 여러개의 값이 전달될 때, 튜플 타입으로 전달\n",
    "city = '서울', '부산', '인천', '목표'\n",
    "\n",
    "print(type(city))\n",
    "print(city)"
   ]
  },
  {
   "cell_type": "code",
   "execution_count": null,
   "id": "39ec0f44",
   "metadata": {},
   "outputs": [],
   "source": [
    "city = ['서울', '부산', '인천', '목표']\n",
    "' = '.join(city)"
   ]
  },
  {
   "cell_type": "code",
   "execution_count": null,
   "id": "49dd3244",
   "metadata": {},
   "outputs": [],
   "source": [
    "l = ['서울']  # 요소가 하나 있는 리스트\n",
    "print(type(l), l)"
   ]
  },
  {
   "cell_type": "code",
   "execution_count": null,
   "id": "5f0f3669",
   "metadata": {},
   "outputs": [],
   "source": [
    "t = ('서울', )  # 요소가 하나 있는 튜플 (반드시 , 를 붙여야함)\n",
    "print(type(t), t)"
   ]
  },
  {
   "cell_type": "code",
   "execution_count": null,
   "id": "c5bc1a78",
   "metadata": {},
   "outputs": [],
   "source": [
    "numbers = (1, 2, 3)\n",
    "# numbers.remove(3) 수정하기 위한 함수는 제공되지 않음\n",
    "# numbers.append(4)\n",
    "# numbers.pop()\n",
    "# numbers.sort()\n",
    "min(numbers), max(numbers), sum(numbers), sorted(numbers, reverse=True)"
   ]
  },
  {
   "cell_type": "code",
   "execution_count": null,
   "id": "ade1ba85",
   "metadata": {},
   "outputs": [],
   "source": [
    "numbers = (0, 1, 2, (1,2), 0, 1, 2)\n",
    "numbers.count(2), numbers.count(9)"
   ]
  },
  {
   "cell_type": "code",
   "execution_count": null,
   "id": "4b7cf610",
   "metadata": {},
   "outputs": [],
   "source": [
    "if 9 in numbers:\n",
    "    numbers.index(2)\n",
    "else:\n",
    "    print('9 요소가 없어요')"
   ]
  },
  {
   "cell_type": "code",
   "execution_count": null,
   "id": "b3e288ce",
   "metadata": {},
   "outputs": [],
   "source": [
    "def safe_index(lst, item):\n",
    "    \"\"\"\n",
    "    lst안에 아이템 요소가 있으면 item 요소의 index를 반환, 없으면 -1 반환\n",
    "    lst : 나열가능한 데이터\n",
    "    item : 찾을 데이터\n",
    "    \"\"\"\n",
    "    if item in lst:\n",
    "        return lst.index(item)\n",
    "    else:\n",
    "        return -1\n",
    "    \n",
    "#     return lst.index(item) if item in lst else -1"
   ]
  },
  {
   "cell_type": "code",
   "execution_count": 3,
   "id": "8039e55e",
   "metadata": {},
   "outputs": [
    {
     "data": {
      "text/plain": [
       "(-1, 2)"
      ]
     },
     "execution_count": 3,
     "metadata": {},
     "output_type": "execute_result"
    }
   ],
   "source": [
    "from safe import safe_index\n",
    "numbers = (0, 1, 2, (1,2), 0, 1, 2)\n",
    "safe_index(numbers, 9), safe_index(numbers, 2)"
   ]
  },
  {
   "cell_type": "code",
   "execution_count": 4,
   "id": "01975371",
   "metadata": {},
   "outputs": [
    {
     "data": {
      "text/plain": [
       "(0, 1, 2, (1, 2), 0, 1, 2, 0, 1, 2, (1, 2), 0, 1, 2, 0, 1, 2, (1, 2), 0, 1, 2)"
      ]
     },
     "execution_count": 4,
     "metadata": {},
     "output_type": "execute_result"
    }
   ],
   "source": [
    "numbers *3  #반복"
   ]
  },
  {
   "cell_type": "code",
   "execution_count": 12,
   "id": "8af4bbda",
   "metadata": {},
   "outputs": [
    {
     "data": {
      "text/plain": [
       "(4, 16, 36)"
      ]
     },
     "execution_count": 12,
     "metadata": {},
     "output_type": "execute_result"
    }
   ],
   "source": [
    "# ex. 짝수 요소들을 추출하여 제곱한 데이터를 출력\n",
    "numbers = (1, 2, 3, 4, 5, 6)\n",
    "tuple([num**2 for num in numbers if num%2==0])"
   ]
  },
  {
   "cell_type": "markdown",
   "id": "2344e9ee",
   "metadata": {},
   "source": [
    "# 3절. 딕셔너리\n",
    "- 중괄호({})를 이용해서, 키(key)-값(value) 쌍으로 구성된 자료구조\n",
    "- 키는 중복불가(유일한 값). 키에 list는 사용불가.\n",
    "- 값은 중복가능\n",
    "- 인덱스를 이용한 참조 지원 안 함"
   ]
  },
  {
   "cell_type": "code",
   "execution_count": 14,
   "id": "c813a64b",
   "metadata": {},
   "outputs": [
    {
     "name": "stdout",
     "output_type": "stream",
     "text": [
      "<class 'dict'>\n",
      "{'name': '홍길동', 1: 22, (1, 2): [1, 2]}\n",
      "데이터 갯수 : 3\n"
     ]
    }
   ],
   "source": [
    "dic = {'name' : '홍길동', 1:22, (1,2):[1,2]}\n",
    "print(type(dic))\n",
    "print(dic)\n",
    "print('데이터 갯수 :', len(dic))"
   ]
  },
  {
   "cell_type": "code",
   "execution_count": 15,
   "id": "625fe480",
   "metadata": {},
   "outputs": [
    {
     "data": {
      "text/plain": [
       "{'fruit': 'apple', 'number': 12, 'sport': 'golf'}"
      ]
     },
     "execution_count": 15,
     "metadata": {},
     "output_type": "execute_result"
    }
   ],
   "source": [
    "my_favorite = {'fruit':'apple', 'number':12, 'sport':'golf'}\n",
    "my_favorite"
   ]
  },
  {
   "cell_type": "code",
   "execution_count": 18,
   "id": "d72cb537",
   "metadata": {},
   "outputs": [
    {
     "name": "stdout",
     "output_type": "stream",
     "text": [
      "apple\n",
      "apple\n"
     ]
    }
   ],
   "source": [
    "print(my_favorite['fruit'])\n",
    "print(my_favorite.get('fruit'))  # ★ "
   ]
  },
  {
   "cell_type": "code",
   "execution_count": 23,
   "id": "d7c76a78",
   "metadata": {},
   "outputs": [
    {
     "name": "stdout",
     "output_type": "stream",
     "text": [
      "None\n",
      "-\n"
     ]
    }
   ],
   "source": [
    "# print(my_favorite['people'])  # 없는 키값 데이터를 참조시 에러\n",
    "print(my_favorite.get('people'))  # 없는 키를 get함수로 참조시 None\n",
    "print(my_favorite.get('people', '-'))  # 없는 키를 get함수로 참조시 '-'"
   ]
  },
  {
   "cell_type": "code",
   "execution_count": 30,
   "id": "b7d866ea",
   "metadata": {},
   "outputs": [
    {
     "name": "stdout",
     "output_type": "stream",
     "text": [
      "fruit 수정 후 : {'fruit': 'mango', 'number': 12, 'sport': 'golf'}\n",
      "my_favorite 추가 후 : {'fruit': 'mango', 'number': 12, 'sport': 'golf', 'people': '홍길동'}\n",
      "fruit 제거 후 : {'number': 12, 'sport': 'golf', 'people': '홍길동'}\n",
      "remove_data : 12\n",
      "number 제거 후 딕셔너리 : {'sport': 'golf', 'people': '홍길동'}\n"
     ]
    }
   ],
   "source": [
    "# 딕셔너리 수정\n",
    "my_favorite = {'fruit':'apple', 'number':12, 'sport':'golf'}\n",
    "\n",
    "my_favorite['fruit'] = 'mango'  # fruit 데이터 수정\n",
    "print('fruit 수정 후 :', my_favorite)\n",
    "\n",
    "my_favorite['people'] = '홍길동'  # 데이터 추가\n",
    "print('my_favorite 추가 후 :', my_favorite)\n",
    "\n",
    "del my_favorite['fruit']\n",
    "print('fruit 제거 후 :', my_favorite)\n",
    "\n",
    "remove_date = my_favorite.pop('number') # number 키의 값을 반환하고 제거\n",
    "print('remove_data :', remove_date)\n",
    "print('number 제거 후 딕셔너리 :', my_favorite)"
   ]
  },
  {
   "cell_type": "code",
   "execution_count": 33,
   "id": "39ea4ebe",
   "metadata": {},
   "outputs": [],
   "source": [
    "# for문을 이용한 튜플(리스트) 출력\n",
    "my_tup = ('홍길동', 30, '010-9999-1234')"
   ]
  },
  {
   "cell_type": "code",
   "execution_count": 38,
   "id": "42de1c3e",
   "metadata": {},
   "outputs": [
    {
     "name": "stdout",
     "output_type": "stream",
     "text": [
      "홍길동\t30\t010-9999-1234\t\n",
      "0번째 홍길동\t1번째 30\t2번째 010-9999-1234\t\n",
      "0번째 홍길동\t1번째 30\t2번째 010-9999-1234\t"
     ]
    }
   ],
   "source": [
    "for data in my_tup:\n",
    "    print(data, end='\\t')\n",
    "print()\n",
    "for idx in range(len(my_tup)):\n",
    "    print(f'{idx}번째 {my_tup[idx]}', end='\\t')\n",
    "print()\n",
    "for idx,value in enumerate(my_tup):\n",
    "    print(f'{idx}번째 {value}', end='\\t')"
   ]
  },
  {
   "cell_type": "code",
   "execution_count": 55,
   "id": "e5257674",
   "metadata": {},
   "outputs": [],
   "source": [
    "my_dic = {'name':'홍길동', 'age':30, 'tel':'010-9999-1234'}"
   ]
  },
  {
   "cell_type": "code",
   "execution_count": 56,
   "id": "eb06ab8d",
   "metadata": {},
   "outputs": [
    {
     "name": "stdout",
     "output_type": "stream",
     "text": [
      "name\tage\ttel\t"
     ]
    }
   ],
   "source": [
    "for data in my_dic:\n",
    "    print(data, end='\\t')"
   ]
  },
  {
   "cell_type": "code",
   "execution_count": 45,
   "id": "a65dc7d2",
   "metadata": {},
   "outputs": [
    {
     "name": "stdout",
     "output_type": "stream",
     "text": [
      "홍길동\t30\t010-9999-1234\t"
     ]
    }
   ],
   "source": [
    "# 엄청 비추천\n",
    "for key in my_dic:\n",
    "    print(my_dic[key], end='\\t')"
   ]
  },
  {
   "cell_type": "code",
   "execution_count": 48,
   "id": "d8b6ab44",
   "metadata": {},
   "outputs": [
    {
     "name": "stdout",
     "output_type": "stream",
     "text": [
      "홍길동\t30\t010-9999-1234\t"
     ]
    }
   ],
   "source": [
    "for data in my_dic.values():\n",
    "    print(data, end='\\t')"
   ]
  },
  {
   "cell_type": "code",
   "execution_count": 49,
   "id": "d734cc0c",
   "metadata": {},
   "outputs": [
    {
     "data": {
      "text/plain": [
       "dict_values(['홍길동', 30, '010-9999-1234'])"
      ]
     },
     "execution_count": 49,
     "metadata": {},
     "output_type": "execute_result"
    }
   ],
   "source": [
    "my_dic.values()  # 값들만 추출"
   ]
  },
  {
   "cell_type": "code",
   "execution_count": 50,
   "id": "c81cc518",
   "metadata": {},
   "outputs": [
    {
     "data": {
      "text/plain": [
       "dict_keys(['name', 'age', 'tel'])"
      ]
     },
     "execution_count": 50,
     "metadata": {},
     "output_type": "execute_result"
    }
   ],
   "source": [
    "my_dic.keys() # 키만 추출"
   ]
  },
  {
   "cell_type": "code",
   "execution_count": 52,
   "id": "fd20b0f9",
   "metadata": {},
   "outputs": [
    {
     "data": {
      "text/plain": [
       "dict_items([('name', '홍길동'), ('age', 30), ('tel', '010-9999-1234')])"
      ]
     },
     "execution_count": 52,
     "metadata": {},
     "output_type": "execute_result"
    }
   ],
   "source": [
    "my_dic.items() # (키-값) 쌍을 추출"
   ]
  },
  {
   "cell_type": "code",
   "execution_count": 58,
   "id": "95624544",
   "metadata": {},
   "outputs": [
    {
     "name": "stdout",
     "output_type": "stream",
     "text": [
      "name:홍길동\tage:30\ttel:010-9999-1234\t"
     ]
    }
   ],
   "source": [
    "for key, value in my_dic.items():\n",
    "    print(f\"{key}:{value}\", end='\\t')"
   ]
  },
  {
   "cell_type": "code",
   "execution_count": 59,
   "id": "7bc9f90f",
   "metadata": {},
   "outputs": [
    {
     "data": {
      "text/plain": [
       "[(0, ('name', '홍길동')), (1, ('age', 30)), (2, ('tel', '010-9999-1234'))]"
      ]
     },
     "execution_count": 59,
     "metadata": {},
     "output_type": "execute_result"
    }
   ],
   "source": [
    "list(enumerate(my_dic.items()))"
   ]
  },
  {
   "cell_type": "code",
   "execution_count": 63,
   "id": "13287a32",
   "metadata": {},
   "outputs": [
    {
     "name": "stdout",
     "output_type": "stream",
     "text": [
      "1.name : 홍길동\n",
      "2.age  : 30\n",
      "3.tel  : 010-9999-1234\n"
     ]
    }
   ],
   "source": [
    "for idx, (key,value) in enumerate(my_dic.items()):\n",
    "    print(\"{}.{:4} : {}\".format(idx+1, key, value))"
   ]
  },
  {
   "cell_type": "code",
   "execution_count": 64,
   "id": "723670f7",
   "metadata": {},
   "outputs": [
    {
     "data": {
      "text/plain": [
       "{'name': '홍길동', 'age': 30, 'tel': '010-9999-1234'}"
      ]
     },
     "execution_count": 64,
     "metadata": {},
     "output_type": "execute_result"
    }
   ],
   "source": [
    "my_dic"
   ]
  },
  {
   "cell_type": "code",
   "execution_count": 72,
   "id": "0a670dd5",
   "metadata": {},
   "outputs": [
    {
     "data": {
      "text/plain": [
       "False"
      ]
     },
     "execution_count": 72,
     "metadata": {},
     "output_type": "execute_result"
    }
   ],
   "source": [
    "\"홍길동\" in my_dic  # my_dic.keys()"
   ]
  },
  {
   "cell_type": "code",
   "execution_count": 71,
   "id": "51f46e33",
   "metadata": {},
   "outputs": [
    {
     "data": {
      "text/plain": [
       "True"
      ]
     },
     "execution_count": 71,
     "metadata": {},
     "output_type": "execute_result"
    }
   ],
   "source": [
    "\"홍길동\" in my_dic.values()"
   ]
  },
  {
   "cell_type": "code",
   "execution_count": 73,
   "id": "8677476f",
   "metadata": {},
   "outputs": [
    {
     "name": "stdout",
     "output_type": "stream",
     "text": [
      "{'fruit': 'apple', 'number': 12, 'people': '홍길동'}\n",
      "{'fruit': 'apple', 'number': 12, 'people': '홍길동'}\n"
     ]
    }
   ],
   "source": [
    "# 얕은 복사\n",
    "my_favorite = {'fruit':'apple', 'number':12}  # 원본\n",
    "new_favorite = my_favorite  # 복제본(얕은 복사)\n",
    "new_favorite['people'] = '홍길동'\n",
    "print(my_favorite)\n",
    "print(new_favorite)"
   ]
  },
  {
   "cell_type": "code",
   "execution_count": 76,
   "id": "d11a8bc0",
   "metadata": {},
   "outputs": [
    {
     "name": "stdout",
     "output_type": "stream",
     "text": [
      "{'fruit': 'apple', 'number': 12}\n",
      "{'fruit': 'apple', 'number': 12, 'people': '홍길동'}\n"
     ]
    }
   ],
   "source": [
    "# 깊은 복사\n",
    "my_favorite = {'fruit':'apple', 'number':12}  # 원본\n",
    "new_favorite = my_favorite.copy()  # 복제본(깊은 복사)\n",
    "new_favorite['people'] = '홍길동'\n",
    "print(my_favorite)\n",
    "print(new_favorite)"
   ]
  },
  {
   "cell_type": "markdown",
   "id": "125eae61",
   "metadata": {},
   "source": [
    "# 4절. 셋\n",
    "- 중복을 허용하지 않는 집합(순서없음 == 인덱스없음)\n",
    "- 중괄호({})나 set()함수를 이용해서 셋 생성\n",
    "- 추가 : add(), update()\n",
    "- 집합연산자 : &, |, -\n",
    "- 삭제 : remove()"
   ]
  },
  {
   "cell_type": "code",
   "execution_count": 77,
   "id": "2152bc40",
   "metadata": {},
   "outputs": [
    {
     "data": {
      "text/plain": [
       "{'apple', 'banana', 'orange'}"
      ]
     },
     "execution_count": 77,
     "metadata": {},
     "output_type": "execute_result"
    }
   ],
   "source": [
    "fruits = {'banana', 'orange', 'banana', 'banana', 'apple'}\n",
    "fruits"
   ]
  },
  {
   "cell_type": "code",
   "execution_count": 88,
   "id": "e1008dd2",
   "metadata": {},
   "outputs": [
    {
     "data": {
      "text/plain": [
       "{1, 20, 21, 22}"
      ]
     },
     "execution_count": 88,
     "metadata": {},
     "output_type": "execute_result"
    }
   ],
   "source": [
    "s1 = set([1, 20, 1, 21, 1, 22])\n",
    "s1"
   ]
  },
  {
   "cell_type": "code",
   "execution_count": 80,
   "id": "aa1085e9",
   "metadata": {},
   "outputs": [
    {
     "data": {
      "text/plain": [
       "{'fruit', 'number'}"
      ]
     },
     "execution_count": 80,
     "metadata": {},
     "output_type": "execute_result"
    }
   ],
   "source": [
    "# set 함수를 이용해서 딕셔너리를 셋으로 전환할 때는 key만 적용\n",
    "my_favorite = {'fruit':'apple', 'number':12}\n",
    "set(my_favorite)"
   ]
  },
  {
   "cell_type": "markdown",
   "id": "4530dca1",
   "metadata": {},
   "source": [
    "## 추가하기\n",
    "- add() : 기본자료형, 튜플데이터를 하나의 요소로 추가할 경우\n",
    "- update() : 리스트, 튜플, 딕셔너리, 셋 요소 하나하나씩 추가할 경우. dict 사용시 key만 추가됨"
   ]
  },
  {
   "cell_type": "code",
   "execution_count": 90,
   "id": "ad4851d4",
   "metadata": {},
   "outputs": [
    {
     "data": {
      "text/plain": [
       "{1, 2, 3, 4, 5, 6, 7}"
      ]
     },
     "execution_count": 90,
     "metadata": {},
     "output_type": "execute_result"
    }
   ],
   "source": [
    "s2 = {1, 1, 2, 3}\n",
    "s2.add(4)\n",
    "s2.update([5, 6, 7])\n",
    "\n",
    "s2"
   ]
  },
  {
   "cell_type": "code",
   "execution_count": 98,
   "id": "1b0a6067",
   "metadata": {},
   "outputs": [
    {
     "data": {
      "text/plain": [
       "{False, 1, 2, 3}"
      ]
     },
     "execution_count": 98,
     "metadata": {},
     "output_type": "execute_result"
    }
   ],
   "source": [
    "# 논리값 False는 False, 0 으로\n",
    "# 논리값 True는 True, 1로\n",
    "\n",
    "s = {1, 2, 3}\n",
    "s.add(False)\n",
    "s.add(True)\n",
    "s.add(0)\n",
    "s"
   ]
  },
  {
   "cell_type": "code",
   "execution_count": 99,
   "id": "12bf8529",
   "metadata": {},
   "outputs": [
    {
     "data": {
      "text/plain": [
       "{False, 2, 3}"
      ]
     },
     "execution_count": 99,
     "metadata": {},
     "output_type": "execute_result"
    }
   ],
   "source": [
    "s.remove(True)\n",
    "s"
   ]
  },
  {
   "cell_type": "markdown",
   "id": "75d6bc68",
   "metadata": {},
   "source": [
    "## 연산:&(교집합) |(합집합) -(차집합) ^(XOR)"
   ]
  },
  {
   "cell_type": "code",
   "execution_count": 104,
   "id": "be8451f8",
   "metadata": {},
   "outputs": [
    {
     "name": "stdout",
     "output_type": "stream",
     "text": [
      "s1 | s2 = {1, 2, 3, 4, 5, 6, 7}\n",
      "s1 & s2 = {3, 4, 5}\n",
      "s1 - s2 = {1, 2}\n",
      "s1 ^ s2 = {1, 2, 6, 7}\n"
     ]
    }
   ],
   "source": [
    "s1 = {1, 2, 3, 4, 5}\n",
    "s2 = {3, 4, 5, 6, 7}\n",
    "print('s1 | s2 =', s1|s2)\n",
    "print('s1 & s2 =', s1&s2)\n",
    "print('s1 - s2 =', s1-s2)\n",
    "print('s1 ^ s2 =', s1^s2)"
   ]
  },
  {
   "cell_type": "markdown",
   "id": "281eed39",
   "metadata": {},
   "source": [
    "# 5절. enumerate\n",
    "- 반복자 또는 순서 객체로 반복문을 처리할 때 사용함수\n",
    "- 리스트, 튜플, 셋, 딕셔너리를 for문에 사용시"
   ]
  },
  {
   "cell_type": "code",
   "execution_count": 105,
   "id": "766bf357",
   "metadata": {},
   "outputs": [
    {
     "name": "stdout",
     "output_type": "stream",
     "text": [
      "영자\t길자\t길동\t"
     ]
    }
   ],
   "source": [
    "names = {'길자', '길동', '영자'}\n",
    "for name in names:\n",
    "    print(name, end='\\t')"
   ]
  },
  {
   "cell_type": "code",
   "execution_count": 108,
   "id": "a6d95ff9",
   "metadata": {},
   "outputs": [
    {
     "name": "stdout",
     "output_type": "stream",
     "text": [
      "0.영자\n",
      "1.길자\n",
      "2.길동\n"
     ]
    }
   ],
   "source": [
    "for no,name in enumerate(names):\n",
    "    print(f\"{no}.{name}\")"
   ]
  },
  {
   "cell_type": "code",
   "execution_count": 123,
   "id": "2943d05c",
   "metadata": {},
   "outputs": [
    {
     "name": "stdout",
     "output_type": "stream",
     "text": [
      "1. 순자의 연락처는 010-9999-9999고 서울에 살아요\n",
      "2. 길동의 연락처는 010-8888-8888고 인천에 살아요\n",
      "3. 길자의 연락처는 010-7777-7777고 판교에 살아요\n"
     ]
    }
   ],
   "source": [
    "names = ['순자', '길동', '길자']\n",
    "tels = ['010-9999-9999', '010-8888-8888', '010-7777-7777']\n",
    "adds = ['서울', '인천', '판교']\n",
    "\n",
    "for idx in range(len(names)):\n",
    "    print(\"{}. {}의 연락처는 {}고 {}에 살아요\".format(idx+1, names[idx], tels[idx], adds[idx]))\n"
   ]
  },
  {
   "cell_type": "code",
   "execution_count": 124,
   "id": "db604c04",
   "metadata": {},
   "outputs": [
    {
     "data": {
      "text/plain": [
       "[('순자', '010-9999-9999', '서울'),\n",
       " ('길동', '010-8888-8888', '인천'),\n",
       " ('길자', '010-7777-7777', '판교')]"
      ]
     },
     "execution_count": 124,
     "metadata": {},
     "output_type": "execute_result"
    }
   ],
   "source": [
    "list(zip(names, tels, adds))"
   ]
  },
  {
   "cell_type": "code",
   "execution_count": 127,
   "id": "46de7ab8",
   "metadata": {},
   "outputs": [
    {
     "name": "stdout",
     "output_type": "stream",
     "text": [
      "순자 : 010-9999-9999 - 서울\n",
      "길동 : 010-8888-8888 - 인천\n",
      "길자 : 010-7777-7777 - 판교\n"
     ]
    }
   ],
   "source": [
    "for name, tel, add in zip(names, tels, adds):\n",
    "    print(f\"{name} : {tel} - {add}\")"
   ]
  },
  {
   "cell_type": "code",
   "execution_count": 128,
   "id": "41e8f4ea",
   "metadata": {},
   "outputs": [
    {
     "data": {
      "text/plain": [
       "[(0, ('순자', '010-9999-9999', '서울')),\n",
       " (1, ('길동', '010-8888-8888', '인천')),\n",
       " (2, ('길자', '010-7777-7777', '판교'))]"
      ]
     },
     "execution_count": 128,
     "metadata": {},
     "output_type": "execute_result"
    }
   ],
   "source": [
    "list(enumerate(zip(names, tels, adds)))"
   ]
  },
  {
   "cell_type": "code",
   "execution_count": 133,
   "id": "564dca8f",
   "metadata": {},
   "outputs": [
    {
     "name": "stdout",
     "output_type": "stream",
     "text": [
      "1. 순자 : 010-9999-9999 - 서울\n",
      "2. 길동 : 010-8888-8888 - 인천\n",
      "3. 길자 : 010-7777-7777 - 판교\n"
     ]
    }
   ],
   "source": [
    "for idx, (name,tel,add) in enumerate(zip(names, tels, adds)):\n",
    "    print(\"{}. {} : {} - {}\".format(idx+1,\n",
    "                                   name,\n",
    "                                   tel,\n",
    "                                   add))"
   ]
  },
  {
   "cell_type": "code",
   "execution_count": 194,
   "id": "59cea2ea",
   "metadata": {},
   "outputs": [
    {
     "name": "stdout",
     "output_type": "stream",
     "text": [
      "[1, 2, 3, 4, 5, 6, 7, 8, 9, 10, 100]\n",
      "[1, 2, 3, 4, 5, 6, 7, 8, 9, 10, 100, 200, 300, 400, 500]\n",
      "[1, 2, 3, 4, 5]\n",
      "[1, 3, 5, 7, 9, 100, 300, 500]\n",
      "[0, 2, 0, 4, 0, 6, 0, 8, 0, 10, 0, 200, 0, 400, 0]\n",
      "[0, 400, 0, 200, 0, 10, 0, 8, 0, 6, 0, 4, 0, 2, 0]\n"
     ]
    }
   ],
   "source": [
    "# 다음 리스트가 주어졌을 경우 요구사항대로 코드를 작성하시오\n",
    "\n",
    "numbers = [1,2,3,4,5,6,7,8,9,10]\n",
    "# 1.숫자 100 을 맨 뒤에 추가하세요\n",
    "numbers.append(100)\n",
    "print(numbers)\n",
    "\n",
    "# 2.다음 리스트를 numbers 리스트 맨 뒤에 추가하세요           \n",
    "data = [200, 300, 400, 500]\n",
    "numbers.extend(data)\n",
    "print(numbers)\n",
    "           \n",
    "# 3.처음 다섯 개 숫자만 출력하세요\n",
    "print(numbers[:5])\n",
    "           \n",
    "# 4.리스트에서 짝수 번째 데이터만 출력하세요\n",
    "print(numbers[::2])\n",
    "        \n",
    "# 5.짝수번째 데이터를 모두 0 으로 바꾸세요\n",
    "numbers[::2] = [0]*len(numbers[::2])\n",
    "print(numbers)\n",
    "\n",
    "           \n",
    "# 6.데이터를 역순으로 나열하세요 내림차순 정렬이 아닙니다\n",
    "# numbers.reverse()\n",
    "\n",
    "print(numbers[::-1])\n"
   ]
  },
  {
   "cell_type": "markdown",
   "id": "f434be04",
   "metadata": {},
   "source": [
    "변수가 담을 수 있는 기본 자료형들\n",
    "```\n",
    "![자료형들](https://pynative.com/wp-content/uploads/2021/02/python-data-types.jpg)\n",
    "```\n",
    "<img src=\"https://pynative.com/wp-content/uploads/2021/02/python-data-types.jpg\"\n",
    "     width=\"500\"\n",
    "     style=\"float:left\"\n",
    "     >\n"
   ]
  },
  {
   "cell_type": "markdown",
   "id": "e8bcca77",
   "metadata": {},
   "source": [
    "# 6절. 연습문제"
   ]
  },
  {
   "cell_type": "code",
   "execution_count": 198,
   "id": "b0760f3b",
   "metadata": {},
   "outputs": [
    {
     "name": "stdout",
     "output_type": "stream",
     "text": [
      "7번 결과 : 서울시 마포구\n",
      "7번 결과 : 서울시 마포구\n",
      "8번 score 삭제  90\n",
      "8번 삭제 확인 :  {'name': '홍길동', 'age': 20, 'address': '서울시 마포구'}\n",
      "{'name': '홍길동', 'age': 20, 'address': '서울시 서대문구'}\n",
      "['홍길동', 20, '서울시 서대문구']\n"
     ]
    }
   ],
   "source": [
    "# 다음 딕셔너리 데이터가 주어졌을 경우 요구사항대로 코드를 작성하세요\n",
    "\n",
    "member={\"name\":\"홍길동\", \"age\":20, \"address\":\"서울시 마포구\" , \"score\":90}\n",
    "\n",
    "# # 7.address 값을 출력하세요\n",
    "print('7번 결과 :', member['address'])\n",
    "print('7번 결과 :', member.get('address')) # 강추\n",
    "\n",
    "# # 8.score 를 출력하고 member_info 딕셔너리에서 삭제하세요\n",
    "# print('score:', member_info['score'])\n",
    "# del member_info['score']\n",
    "print('8번 score 삭제 ', member.pop('score'))\n",
    "print('8번 삭제 확인 : ', member)\n",
    "\n",
    "\n",
    "# 9.address 를 서울시 서대문구 로 변경하세요\n",
    "member['address'] = '서울시 서대문구'\n",
    "print(member)\n",
    "\n",
    "# 10.member_info 딕셔너리 데이터의 값을 리스트로 출력하세요\n",
    "print(list(member.values()))\n"
   ]
  },
  {
   "cell_type": "code",
   "execution_count": 166,
   "id": "9f73f817",
   "metadata": {},
   "outputs": [
    {
     "name": "stdout",
     "output_type": "stream",
     "text": [
      "['orange', 'banana']\n"
     ]
    }
   ],
   "source": [
    "L1 = (\"orange\",\"apple\",\"banana\",\"kiwi\")\n",
    "new_list = [i for i in L1 if len(i)>5]\n",
    "print(new_list)\n"
   ]
  },
  {
   "cell_type": "code",
   "execution_count": 168,
   "id": "3115c3d1",
   "metadata": {},
   "outputs": [],
   "source": [
    "2.다음 코드와 실행결과가 잘못 짝지어진 것은?\n",
    "\n",
    "① print(list(range(10))) -[0,1,2,3,4,5,6,7,8,9]\n",
    "② print(list(range(5,10))) -[5,6,7,8,9]\n",
    "③ print(list(range(10,0,-1))) -[9,8,7,6,5,4,3,2,1,0]\n",
    "④ print(list(range(10,20,2))) –[10,12,14,16,18]\n",
    "\n",
    "# 3번은 10부터 0앞까지(1까지) 라서 [10,9,8,7,6,5,4,3,2,1] 이 정답"
   ]
  },
  {
   "cell_type": "code",
   "execution_count": 170,
   "id": "118acce1",
   "metadata": {},
   "outputs": [
    {
     "data": {
      "text/plain": [
       "1"
      ]
     },
     "execution_count": 170,
     "metadata": {},
     "output_type": "execute_result"
    }
   ],
   "source": [
    "# 3. 다음 구문에 의해 출력되는 것은?\n",
    "\n",
    "numbers_2d = [ [1,2,3,4,5], [10,20,30,40],[1,3,5],[2,] ]\n",
    "len(numbers_2d[3])"
   ]
  },
  {
   "cell_type": "code",
   "execution_count": 172,
   "id": "2d0f9c51",
   "metadata": {},
   "outputs": [
    {
     "data": {
      "text/plain": [
       "[1, 2, 3, 4, 5, 10, 20, 30, 40, 50]"
      ]
     },
     "execution_count": 172,
     "metadata": {},
     "output_type": "execute_result"
    }
   ],
   "source": [
    "# 4. 다음 코드의 실행결과가 나올 수 있는 빈칸에 들어갈 함수 이름은?\n",
    "\n",
    "numbers = [1,2,3,4,5]\n",
    "numbers.extend([10,20,30,40,50])\n",
    "numbers\n",
    "# 결과: [1,2,3,4,5,10,20,30,40,50]"
   ]
  },
  {
   "cell_type": "code",
   "execution_count": 173,
   "id": "aa11ada0",
   "metadata": {},
   "outputs": [
    {
     "name": "stdout",
     "output_type": "stream",
     "text": [
      "[0, 1, 0, 3, 0, 5, 0, 7, 0, 9]\n"
     ]
    }
   ],
   "source": [
    "# 5.다음 구문을 실행할 때 결과는?\n",
    "numbers = list(range(10))\n",
    "numbers[::2]= [0] * len (numbers[::2])\n",
    "print(numbers)"
   ]
  },
  {
   "cell_type": "code",
   "execution_count": 174,
   "id": "91254b8f",
   "metadata": {},
   "outputs": [
    {
     "name": "stdout",
     "output_type": "stream",
     "text": [
      "[5, 1, 6, 3, 7, 5, 8, 7, 9, 9]\n"
     ]
    }
   ],
   "source": [
    "# 6.다음 구문을 실행할 때 결과는?\n",
    "numbers = [0,1,2,3,4,5,6,7,8,9]\n",
    "numbers[::2]= numbers[5:]\n",
    "print(numbers)"
   ]
  },
  {
   "cell_type": "code",
   "execution_count": 175,
   "id": "2c7d250a",
   "metadata": {},
   "outputs": [
    {
     "name": "stdout",
     "output_type": "stream",
     "text": [
      "[0, 1, 1, 3, 2, 5, 3, 7, 4, 9]\n"
     ]
    }
   ],
   "source": [
    "# 7.다음 구문을 실행할 때 결과는?\n",
    "numbers = [0, 1, 2, 3, 4, 5, 6, 7, 8, 9]\n",
    "numbers[::2]= numbers[:5]\n",
    "print(numbers)"
   ]
  },
  {
   "cell_type": "code",
   "execution_count": 179,
   "id": "711e94c6",
   "metadata": {},
   "outputs": [],
   "source": [
    "# 8.다음 데이터에서 10 을 출력할 수 없는 구문은?\n",
    "my_dic = {\"a\":10, \"b\":20, \"c\":30}\n",
    "①my_dic[0]\n",
    "②my_dic['a']\n",
    "③list(my_dic.items())[0][1]\n",
    "④list(my_dic.values())[0]\n",
    "⑤my_dic.get('a')\n",
    "\n",
    "정답은 1번 (숫자 인덱스 접근 불가)"
   ]
  },
  {
   "cell_type": "code",
   "execution_count": 183,
   "id": "4c057424",
   "metadata": {},
   "outputs": [
    {
     "name": "stdout",
     "output_type": "stream",
     "text": [
      "apple\n",
      "banana\n",
      "orange\n"
     ]
    }
   ],
   "source": [
    "# 9.다음 프로그램의 결과를 출력하시오\n",
    "fruits = ['apple', 'banana', 'orange']\n",
    "x, y, z = fruits\n",
    "print(x)\n",
    "print(y)\n",
    "print(z)"
   ]
  },
  {
   "cell_type": "code",
   "execution_count": 184,
   "id": "0843fcd9",
   "metadata": {},
   "outputs": [
    {
     "name": "stdout",
     "output_type": "stream",
     "text": [
      "3\n"
     ]
    }
   ],
   "source": [
    "# 10.다음 프로그램의 결과를 출력하시오\n",
    "fruits = ['apple', 'banana', 'orange']\n",
    "print(len(fruits))"
   ]
  },
  {
   "cell_type": "code",
   "execution_count": 185,
   "id": "1980acc2",
   "metadata": {},
   "outputs": [
    {
     "ename": "SyntaxError",
     "evalue": "invalid syntax (2909741801.py, line 2)",
     "output_type": "error",
     "traceback": [
      "\u001b[1;36m  Cell \u001b[1;32mIn[185], line 2\u001b[1;36m\u001b[0m\n\u001b[1;33m    def\u001b[0m\n\u001b[1;37m       ^\u001b[0m\n\u001b[1;31mSyntaxError\u001b[0m\u001b[1;31m:\u001b[0m invalid syntax\n"
     ]
    }
   ],
   "source": [
    "# 11.파이썬에서 함수를 만들기 위해 선언하는 단어는?\n",
    "def"
   ]
  },
  {
   "cell_type": "code",
   "execution_count": null,
   "id": "fb38f8cf",
   "metadata": {},
   "outputs": [],
   "source": []
  }
 ],
 "metadata": {
  "kernelspec": {
   "display_name": "Python 3 (ipykernel)",
   "language": "python",
   "name": "python3"
  },
  "language_info": {
   "codemirror_mode": {
    "name": "ipython",
    "version": 3
   },
   "file_extension": ".py",
   "mimetype": "text/x-python",
   "name": "python",
   "nbconvert_exporter": "python",
   "pygments_lexer": "ipython3",
   "version": "3.10.9"
  },
  "toc": {
   "base_numbering": 1,
   "nav_menu": {},
   "number_sections": false,
   "sideBar": true,
   "skip_h1_title": false,
   "title_cell": "Table of Contents",
   "title_sidebar": "Contents",
   "toc_cell": false,
   "toc_position": {
    "height": "calc(100% - 180px)",
    "left": "10px",
    "top": "150px",
    "width": "165px"
   },
   "toc_section_display": true,
   "toc_window_display": true
  }
 },
 "nbformat": 4,
 "nbformat_minor": 5
}
