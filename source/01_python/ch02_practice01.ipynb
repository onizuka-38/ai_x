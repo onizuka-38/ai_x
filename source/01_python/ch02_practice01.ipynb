{
 "cells": [
  {
   "cell_type": "code",
   "execution_count": 1,
   "id": "99d2980e",
   "metadata": {},
   "outputs": [
    {
     "data": {
      "text/html": [
       "\n",
       "<style>\n",
       "div.container{width:86% !important;}\n",
       "div.cell.code_cell.rendered{width:100%;}\n",
       "div.CodeMirror {font-family:Consolas; font-size:12pt;}\n",
       "div.output {font-size:15pt; font-weight:bold;}\n",
       "div.input {font-family:Consolas; font-size:15pt;}\n",
       "div.prompt {min-width:70px;}\n",
       "div#toc-wrapper{padding-top:120px;}\n",
       "div.text_cell_render ul li{font-size:12pt;padding:5px;}\n",
       "table.dataframe{font-size:12px;}\n",
       "</style>\n"
      ],
      "text/plain": [
       "<IPython.core.display.HTML object>"
      ]
     },
     "metadata": {},
     "output_type": "display_data"
    }
   ],
   "source": [
    "from IPython.display import display, HTML\n",
    "display(HTML(\"\"\"\n",
    "<style>\n",
    "div.container{width:86% !important;}\n",
    "div.cell.code_cell.rendered{width:100%;}\n",
    "div.CodeMirror {font-family:Consolas; font-size:12pt;}\n",
    "div.output {font-size:15pt; font-weight:bold;}\n",
    "div.input {font-family:Consolas; font-size:15pt;}\n",
    "div.prompt {min-width:70px;}\n",
    "div#toc-wrapper{padding-top:120px;}\n",
    "div.text_cell_render ul li{font-size:12pt;padding:5px;}\n",
    "table.dataframe{font-size:12px;}\n",
    "</style>\n",
    "\"\"\"))"
   ]
  },
  {
   "cell_type": "code",
   "execution_count": 2,
   "id": "1a06f7c5",
   "metadata": {},
   "outputs": [
    {
     "name": "stdout",
     "output_type": "stream",
     "text": [
      "이름을 입력하세요박동현\n",
      "나이를 입력하세요 :16\n",
      "박동현님은 16살 입니다.\n"
     ]
    }
   ],
   "source": [
    "name = input(\"이름을 입력하세요\")\n",
    "age = int(input('나이를 입력하세요 :'))\n",
    "print(f'{name}님은 {age}살 입니다.')"
   ]
  },
  {
   "cell_type": "code",
   "execution_count": 4,
   "id": "774182ba",
   "metadata": {},
   "outputs": [
    {
     "name": "stdout",
     "output_type": "stream",
     "text": [
      "정수를 입력하세요 : 6\n",
      "정수를 입력하세요 : 3\n",
      "덧셈 : 9 \t 뺄셈 : 3 \t 곱셈 : 18 \t 나눗셈 : 2.000 \t 나머지 : 0\n"
     ]
    }
   ],
   "source": [
    "num1 = int(input(\"정수를 입력하세요 : \"))\n",
    "num2 = int(input(\"정수를 입력하세요 : \"))\n",
    "\n",
    "sum1 = num1 + num2\n",
    "min1 = num1 - num2\n",
    "mul1 = num1 * num2\n",
    "div1 = num1 / num2\n",
    "nam1 = num1 % num2\n",
    "\n",
    "print(f'덧셈 : {sum1} \\t 뺄셈 : {min1} \\t 곱셈 : {mul1} \\t 나눗셈 : {div1:.3f} \\t 나머지 : {nam1}')"
   ]
  },
  {
   "cell_type": "code",
   "execution_count": 9,
   "id": "4413fba8",
   "metadata": {},
   "outputs": [
    {
     "name": "stdout",
     "output_type": "stream",
     "text": [
      "End Start\n"
     ]
    }
   ],
   "source": [
    "temp = 'Start End'\n",
    "\n",
    "splited_temp = temp.split()\n",
    "joined_temp = ' '.join([splited_temp[1], splited_temp[0]])\n",
    "\n",
    "print(joined_temp)"
   ]
  },
  {
   "cell_type": "code",
   "execution_count": 10,
   "id": "131ccc9f",
   "metadata": {},
   "outputs": [
    {
     "name": "stdout",
     "output_type": "stream",
     "text": [
      "bcdefa\n"
     ]
    }
   ],
   "source": [
    "x = 'abcdef'\n",
    "\n",
    "print(x[1:] + x[0])"
   ]
  },
  {
   "cell_type": "code",
   "execution_count": 11,
   "id": "b34418b4",
   "metadata": {},
   "outputs": [
    {
     "name": "stdout",
     "output_type": "stream",
     "text": [
      "fedcba\n"
     ]
    }
   ],
   "source": [
    "x = 'abcdef'\n",
    "\n",
    "print(x[::-1])"
   ]
  },
  {
   "cell_type": "code",
   "execution_count": 12,
   "id": "ea776533",
   "metadata": {},
   "outputs": [
    {
     "name": "stdout",
     "output_type": "stream",
     "text": [
      "오늘의 온도를 섭씨로 입력해주세요 : 32\n",
      "화씨 온도는 89.60도입니다.\n"
     ]
    }
   ],
   "source": [
    "C = float(input(\"오늘의 온도를 섭씨로 입력해주세요 : \"))\n",
    "\n",
    "F = (C * 1.8) + 32\n",
    "\n",
    "if int(F) == F:\n",
    "    print(f\"화씨 온도는 {int(F)}도입니다.\")\n",
    "else:\n",
    "    print(f\"화씨 온도는 {F:.2f}도입니다.\")"
   ]
  },
  {
   "cell_type": "code",
   "execution_count": null,
   "id": "67b3a7b3",
   "metadata": {},
   "outputs": [],
   "source": []
  },
  {
   "cell_type": "code",
   "execution_count": null,
   "id": "05ed02e2",
   "metadata": {},
   "outputs": [],
   "source": []
  },
  {
   "cell_type": "code",
   "execution_count": null,
   "id": "05d08c7f",
   "metadata": {},
   "outputs": [],
   "source": []
  },
  {
   "cell_type": "code",
   "execution_count": null,
   "id": "c2499b6a",
   "metadata": {},
   "outputs": [],
   "source": []
  }
 ],
 "metadata": {
  "kernelspec": {
   "display_name": "Python 3 (ipykernel)",
   "language": "python",
   "name": "python3"
  },
  "language_info": {
   "codemirror_mode": {
    "name": "ipython",
    "version": 3
   },
   "file_extension": ".py",
   "mimetype": "text/x-python",
   "name": "python",
   "nbconvert_exporter": "python",
   "pygments_lexer": "ipython3",
   "version": "3.10.9"
  },
  "toc": {
   "base_numbering": 1,
   "nav_menu": {},
   "number_sections": false,
   "sideBar": true,
   "skip_h1_title": false,
   "title_cell": "Table of Contents",
   "title_sidebar": "Contents",
   "toc_cell": false,
   "toc_position": {},
   "toc_section_display": true,
   "toc_window_display": false
  }
 },
 "nbformat": 4,
 "nbformat_minor": 5
}
