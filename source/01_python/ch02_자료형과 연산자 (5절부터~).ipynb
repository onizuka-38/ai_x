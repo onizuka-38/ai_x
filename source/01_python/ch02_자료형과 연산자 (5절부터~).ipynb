{
 "cells": [
  {
   "cell_type": "code",
   "execution_count": 1,
   "id": "e61e8702",
   "metadata": {},
   "outputs": [
    {
     "data": {
      "text/html": [
       "\n",
       "<style>\n",
       "div.container{width:86% !important;}\n",
       "div.cell.code_cell.rendered{width:100%;}\n",
       "div.CodeMirror {font-family:Consolas; font-size:12pt;}\n",
       "div.output {font-size:15pt; font-weight:bold;}\n",
       "div.input {font-family:Consolas; font-size:12pt;}\n",
       "div.prompt {min-width:70px;}\n",
       "div#toc-wrapper{padding-top:120px;}\n",
       "div.text_cell_render ul li{font-size:12pt;padding:5px;}\n",
       "table.dataframe{font-size:12px;}\n",
       "</style>\n"
      ],
      "text/plain": [
       "<IPython.core.display.HTML object>"
      ]
     },
     "metadata": {},
     "output_type": "display_data"
    }
   ],
   "source": [
    "from IPython.display import display, HTML\n",
    "display(HTML(\"\"\"\n",
    "<style>\n",
    "div.container{width:86% !important;}\n",
    "div.cell.code_cell.rendered{width:100%;}\n",
    "div.CodeMirror {font-family:Consolas; font-size:12pt;}\n",
    "div.output {font-size:15pt; font-weight:bold;}\n",
    "div.input {font-family:Consolas; font-size:12pt;}\n",
    "div.prompt {min-width:70px;}\n",
    "div#toc-wrapper{padding-top:120px;}\n",
    "div.text_cell_render ul li{font-size:12pt;padding:5px;}\n",
    "table.dataframe{font-size:12px;}\n",
    "</style>\n",
    "\"\"\"))"
   ]
  },
  {
   "cell_type": "markdown",
   "id": "a405ca51",
   "metadata": {},
   "source": [
    "<font size=\"5\" color=\"red\" >ch02_자료형과 연산자 (5절~)</font>\n",
    "\n",
    "# 5절. 연산자\n",
    "## 5.1 산술연산자 : +, -, *, /, //(몫연산자), %(나머지), **(제곱)"
   ]
  },
  {
   "cell_type": "code",
   "execution_count": 10,
   "id": "b82adbdc",
   "metadata": {},
   "outputs": [
    {
     "name": "stdout",
     "output_type": "stream",
     "text": [
      "10의 5승 :  100000\n",
      "4/2(결과 실수):  2.0\n",
      "4//2(몫) :  2\n",
      "4%2(나머지) :  0\n"
     ]
    }
   ],
   "source": [
    "print(\"10의 5승 : \", 10**5)\n",
    "print('4/2(결과 실수): ', 4/2)\n",
    "print('4//2(몫) : ', 4//2)\n",
    "print('4%2(나머지) : ', 4%2)"
   ]
  },
  {
   "cell_type": "code",
   "execution_count": 24,
   "id": "37a28bb4",
   "metadata": {},
   "outputs": [
    {
     "name": "stdout",
     "output_type": "stream",
     "text": [
      "정수를 입력하세요 :2\n",
      "입력하신 수는 2, 2로 나눈 나머지는 0, 그래서 짝수.\n"
     ]
    }
   ],
   "source": [
    "# quiz 1. 정수를 입력받아 짝수인지 홀수인지 여부를 출력\n",
    "num = int(input('정수를 입력하세요 :'))\n",
    "result = num%2\n",
    "if result:\n",
    "    temp = \"홀수\"\n",
    "    \n",
    "else:\n",
    "    temp = \"짝수\"\n",
    "    \n",
    "print(f'입력하신 수는 {num}, 2로 나눈 나머지는 {result}, 그래서 {temp}.')\n",
    "    \n",
    "# else if:\n",
    "#     print('정수를 입력해 주세요')\n"
   ]
  },
  {
   "cell_type": "code",
   "execution_count": 59,
   "id": "e1270c31",
   "metadata": {},
   "outputs": [
    {
     "name": "stdout",
     "output_type": "stream",
     "text": [
      "정수를 입력하세요 :-2\n",
      "양수를 입력해주세요\n"
     ]
    }
   ],
   "source": [
    "# quiz 2. 정수를 입력받아 5의 배수인지 여부를 출력\n",
    "num = int(input('정수를 입력하세요 :'))\n",
    "result = num%5\n",
    "\n",
    "if num <= 0:\n",
    "    print(\"양수를 입력해주세요\")\n",
    "    \n",
    "else:\n",
    "    if result:\n",
    "        temp = \"5의 배수가 아닙니다\"\n",
    "    \n",
    "    else:\n",
    "        temp = \"5의 배수입니다\"\n",
    "        print(f'입력하신 수는 {num}, 5로 나눈 나머지는 {result}, 그래서 {temp}.')"
   ]
  },
  {
   "cell_type": "code",
   "execution_count": 63,
   "id": "a0fdc5fc",
   "metadata": {},
   "outputs": [
    {
     "name": "stdout",
     "output_type": "stream",
     "text": [
      "과목을 입력하세요 : 국어\n",
      "국어 점수를 입력하세요 : 99\n",
      "과목을 입력하세요 : 영어\n",
      "영어 점수를 입력하세요 : 100\n",
      "과목을 입력하세요 : 수학\n",
      "수학 점수를 입력하세요 : 99\n",
      "국어: 99 \t영어:100 \t수학: 99\n",
      "총점:298 \t평균:99.3\n"
     ]
    }
   ],
   "source": [
    "# quiz 3. 국, 영, 수 점수를 입력받아 다음셀에서 다음과 같이 출력하도록 구현하시오\n",
    "\n",
    "# 국어: 99     영어: 98     수학: 99\n",
    "# 총점:296     평균: 98.7\n",
    "\n",
    "\n",
    "sub1 = input(\"과목을 입력하세요 : \")\n",
    "score1 = int(input(f\"{sub1} 점수를 입력하세요 : \"))\n",
    "sub2 = input(\"과목을 입력하세요 : \")\n",
    "score2 = int(input(f\"{sub2} 점수를 입력하세요 : \"))\n",
    "sub3 = input(\"과목을 입력하세요 : \")\n",
    "score3 = int(input(f\"{sub3} 점수를 입력하세요 : \"))\n",
    "\n",
    "total = score1 + score2 + score3\n",
    "average = total/3\n",
    "\n",
    "\n",
    "print(\"{0}:{1:3d} \\t{2}:{3:3d} \\t{4}:{5:3d}\".format(sub1, score1, sub2, score2, sub3, score3))\n",
    "print(\"총점:{0:3d} \\t평균:{1:.1f}\".format(total, average))\n"
   ]
  },
  {
   "cell_type": "markdown",
   "id": "ccf7dbf2",
   "metadata": {},
   "source": [
    "## 5.2 할당연산자: =, +=, -=, *=, /=, //=, %="
   ]
  },
  {
   "cell_type": "code",
   "execution_count": 64,
   "id": "d83b8e74",
   "metadata": {},
   "outputs": [
    {
     "name": "stdout",
     "output_type": "stream",
     "text": [
      "5더하기 :  15\n"
     ]
    }
   ],
   "source": [
    "a = 10\n",
    "a += 5 # a = a+5\n",
    "print('5더하기 : ', a)"
   ]
  },
  {
   "cell_type": "code",
   "execution_count": 70,
   "id": "7d53e526",
   "metadata": {},
   "outputs": [
    {
     "name": "stdout",
     "output_type": "stream",
     "text": [
      "2\n"
     ]
    }
   ],
   "source": [
    "a = 20\n",
    "a %= 3\n",
    "print(a)"
   ]
  },
  {
   "cell_type": "markdown",
   "id": "0a781dea",
   "metadata": {},
   "source": [
    "## 5.3 논리연산자 : &, |, and, or, not"
   ]
  },
  {
   "cell_type": "code",
   "execution_count": 72,
   "id": "ee764103",
   "metadata": {},
   "outputs": [
    {
     "name": "stdout",
     "output_type": "stream",
     "text": [
      "True\n",
      "0\n"
     ]
    }
   ],
   "source": [
    "# & 논리연산\n",
    "print( (10>3) & (10>5) ) #논리연산 true & true\n",
    "print(12 & 1)  # 비트연산 12 : 0000 1100\n",
    "               #          1 : 0000 0001\n",
    "               #     12 & 1 : 0000 0000"
   ]
  },
  {
   "cell_type": "code",
   "execution_count": 74,
   "id": "1ccb67e6",
   "metadata": {},
   "outputs": [
    {
     "name": "stdout",
     "output_type": "stream",
     "text": [
      "3\n",
      "0\n",
      "abc\n"
     ]
    }
   ],
   "source": [
    "# and  : False로 판별되는 첫번째 항의 결과 반환 (논리연산)\n",
    "#      : 모든 항이 참이면 마지막 항을 반환 \n",
    "print(True and 1 and 3)\n",
    "print(0 and True)\n",
    "print(True and 'abc')"
   ]
  },
  {
   "cell_type": "code",
   "execution_count": 77,
   "id": "22b864e1",
   "metadata": {},
   "outputs": [
    {
     "name": "stdout",
     "output_type": "stream",
     "text": [
      "논리연산(연산자 앞뒤에 논리형일 때) : True\n",
      "비트연산(연산자 앞이나 뒤에 숫자일 때) : 3\n"
     ]
    }
   ],
   "source": [
    "# | : 논리연산, 비트연산\n",
    "result = False | True | True\n",
    "print('논리연산(연산자 앞뒤에 논리형일 때) :', result)\n",
    "result = False | 3  # 0000 0000 (False)\n",
    "                    # 0000 0011 (3)\n",
    "print('비트연산(연산자 앞이나 뒤에 숫자일 때) :', result)"
   ]
  },
  {
   "cell_type": "code",
   "execution_count": 81,
   "id": "a7f510ff",
   "metadata": {},
   "outputs": [
    {
     "name": "stdout",
     "output_type": "stream",
     "text": [
      "False\n",
      "hong\n"
     ]
    }
   ],
   "source": [
    "# or : 논리연산, 참으로 판별되는 첫번째 항을 반환\n",
    "#      모든 항이 거짓이면, 마지막항을 반환\n",
    "print(False or False or '')\n",
    "print('hong' or ' ' or False)"
   ]
  },
  {
   "cell_type": "code",
   "execution_count": 82,
   "id": "6eac0c32",
   "metadata": {},
   "outputs": [
    {
     "name": "stdout",
     "output_type": "stream",
     "text": [
      "False\n"
     ]
    }
   ],
   "source": [
    "print(not True)"
   ]
  },
  {
   "cell_type": "markdown",
   "id": "f877e8ef",
   "metadata": {},
   "source": [
    "## 5.4 비교연산자 : >, >=, <, <=, ==(같다), !=(다르다)"
   ]
  },
  {
   "cell_type": "code",
   "execution_count": 83,
   "id": "4c6cff87",
   "metadata": {},
   "outputs": [
    {
     "name": "stdout",
     "output_type": "stream",
     "text": [
      "True\n"
     ]
    }
   ],
   "source": [
    "# 비교연산자는 이항, 삼항, 사항... 다항연산자\n",
    "x = 5\n",
    "print(4 < x < 10)"
   ]
  },
  {
   "cell_type": "code",
   "execution_count": 87,
   "id": "a5597fc2",
   "metadata": {},
   "outputs": [
    {
     "name": "stdout",
     "output_type": "stream",
     "text": [
      "True\n",
      "False\n",
      "False\n",
      "True\n"
     ]
    }
   ],
   "source": [
    "# 비교연산자(<)의 우선순위가 논리연산(&)의 우선순위보다 낮다\n",
    "print( (10>5) & (10>7) )\n",
    "print( 10>5 & 10>7 )  # 0104 (5)\n",
    "                      # 1010 (10)\n",
    "print( 10> 0 > 7)\n",
    "print( 10>5 and 10>7 )  # and는 우선순위가 비교연산자(<) 보다 높음\n"
   ]
  },
  {
   "cell_type": "code",
   "execution_count": 92,
   "id": "816674e0",
   "metadata": {},
   "outputs": [
    {
     "name": "stdout",
     "output_type": "stream",
     "text": [
      "False\n",
      "False\n"
     ]
    }
   ],
   "source": [
    "address = '서울'\n",
    "age = 29\n",
    "# print(address == '서울' & age>=30) #연산자 우선순위 오류가 발생\n",
    "print((address == '서울') & (age>=30))\n",
    "print((address != '서울') & (age>=30))"
   ]
  },
  {
   "cell_type": "code",
   "execution_count": 93,
   "id": "d6dbf0df",
   "metadata": {},
   "outputs": [
    {
     "data": {
      "text/plain": [
       "True"
      ]
     },
     "execution_count": 93,
     "metadata": {},
     "output_type": "execute_result"
    }
   ],
   "source": [
    "# 문자비교 : ASCII 코드 순으로 비교 가능 : 특수문자 < 숫자 < 대문자 < 소문자\n",
    "'scott' < 'sctiger'\n"
   ]
  },
  {
   "cell_type": "code",
   "execution_count": 94,
   "id": "5faad3ba",
   "metadata": {},
   "outputs": [
    {
     "data": {
      "text/plain": [
       "True"
      ]
     },
     "execution_count": 94,
     "metadata": {},
     "output_type": "execute_result"
    }
   ],
   "source": [
    "'9' > '10'  # 문자로 취급해서 앞글자만 비교 9와 1"
   ]
  },
  {
   "cell_type": "code",
   "execution_count": 95,
   "id": "181f004a",
   "metadata": {},
   "outputs": [
    {
     "data": {
      "text/plain": [
       "True"
      ]
     },
     "execution_count": 95,
     "metadata": {},
     "output_type": "execute_result"
    }
   ],
   "source": [
    "'김길동김수한무거북이와' < '홍길동'"
   ]
  },
  {
   "cell_type": "markdown",
   "id": "2b4d2c48",
   "metadata": {},
   "source": [
    "## 5.5 비트연산자 : &, |, ^(XOR), ~"
   ]
  },
  {
   "cell_type": "code",
   "execution_count": null,
   "id": "fd916757",
   "metadata": {},
   "outputs": [],
   "source": [
    "x y x&y  X^Y\n",
    "0 0  0    0\n",
    "0 1  0    1\n",
    "1 0  0    1\n",
    "1 1  1    0"
   ]
  },
  {
   "cell_type": "code",
   "execution_count": 98,
   "id": "49a53429",
   "metadata": {},
   "outputs": [
    {
     "name": "stdout",
     "output_type": "stream",
     "text": [
      "a = 15 : 1111\n",
      "b =  2 : 0010\n",
      "a^b = 13 : 1101\n"
     ]
    }
   ],
   "source": [
    "a = 15  # 1111\n",
    "b = 2   # 0010\n",
    "print('a = {0:2} : {0:04b}'.format(a))\n",
    "print('b = {0:2} : {0:04b}'.format(b))\n",
    "print('a^b = {0:2} : {0:04b}'.format(a^b))"
   ]
  },
  {
   "cell_type": "markdown",
   "id": "76652795",
   "metadata": {},
   "source": [
    "\n",
    "  연산자  \n",
    "        -   산술연산 : + - * / // % **  \n",
    "        -   할당연산 : = += -= *= /= //= %=  \n",
    "        -   논리연산 : & and | or not  \n",
    "        -   비교연산 : > >= < <= == !=  \n",
    "        -   비트연산 : & | ^  \n",
    "        -   &와 | 는 비교연산자보다 우선순위가 높다  \n"
   ]
  },
  {
   "cell_type": "markdown",
   "id": "c90c24ba",
   "metadata": {},
   "source": [
    "- 연산자\n",
    "    - 산술연산: + - * / // % **\n",
    "    - 할당연산: = += -= *= /= //= %=\n",
    "    - 논리연산: & and | or not\n",
    "    - 비교연산 : > >= < <= == !=  \n",
    "    - 비트연산 : & | ^  \n",
    "    - &와 | 는 비교연산자보다 우선순위가 높다   \n"
   ]
  },
  {
   "cell_type": "markdown",
   "id": "3caec106",
   "metadata": {},
   "source": [
    "# 6절. 문자열 다루기\n",
    "- 문자열 슬라이싱 변수[from:stop:step]\n",
    "- len(문자열변수) : 문자갯수\n",
    "\n",
    "- upper() : 대문자로\n",
    "- lower() : 소문자로\n",
    "- title() : 각 어절의 첫글자만 대문자로\n",
    "- capitalize() : 첫문자만 대문자로\n",
    "- count('찾을문자열') : '찾을문자열' 이 몇개 들어있는지 갯수 반환\n",
    "- find('찾을문자열') : 찾을문자열이 왼쪽부터 시작하여 몇번째 인덱스에 있는지 인덱스를 반환\n",
    "- rfind('찾을문자열') : 찾을문자열을 오른쪽부터 시작하여 몇번째 인덱스에 있는지 인덱스를 반환\n",
    "        **찾을 문자열이 없으면 -1을 반환**\n",
    "     cf) index('찾을문자열'): 찾을문자열의 인덱스를 반환. 찾을문자열이 없으면 **오류**\n",
    "- startswith('특정문자열') : 특정문자열로 시작하는지 여부\n",
    "- endswith('특정문자열') : 특정문자열로 끝나는지 여부\n",
    "- strip() : 좌우 공백 제거\n",
    "- rstrip() : 오른쪽 공백 제거\n",
    "- lstrip() : 왼쪽 공백 제거\n",
    "- isdigit() : 문자열이 숫자문자열인지 여부 \"10\"=true\n",
    "- islower() : 소문자문자열인지 여부\n",
    "- isupper() : 대문자문자열인지 여부\n",
    "- replace(oldStr, newStr) : oldStr을 newStr로 변경"
   ]
  },
  {
   "cell_type": "code",
   "execution_count": 124,
   "id": "6b537d16",
   "metadata": {},
   "outputs": [
    {
     "name": "stdout",
     "output_type": "stream",
     "text": [
      "1. 글자수 39\n",
      "2. 대문자로 PYTHON IS EASY. PYTHON IS SMART. PYTHON\n",
      "3. 소문자로 python is easy. python is smart. python\n",
      "4. title : Python Is Easy. Python Is Smart. Python\n",
      "5. capitalize() : Python is easy. python is smart. python\n",
      "6. python이 몇번 나오는지 : 3\n",
      "7. 대소문자구분없이 python이 몇번 나오는지 : 3\n",
      "7. 대소문자구분없이 python이 몇번 나오는지 : 3\n",
      "7. 대소문자구분없이 python이 몇번 나오는지 : 3\n",
      "8. python이 나오는 첫 index 위치 : 0\n",
      "8. python이 나오는 마지막 index 위치 : 33\n",
      "8. java이 나오는 마지막 index 위치 : -1\n",
      "9. python으로 시작하는지 여부:  True\n",
      "10. 대소문자 구분없이 python으로 끝나는지 여부:  True\n"
     ]
    }
   ],
   "source": [
    "temp = \"python is easy. python is smart. python\"\n",
    "#       11111111111\n",
    "print('1. 글자수', len(temp))\n",
    "print('2. 대문자로', temp.upper())\n",
    "print('3. 소문자로', temp.lower())\n",
    "print('4. title :', temp.title())\n",
    "print('5. capitalize() :', temp.capitalize())\n",
    "print('6. python이 몇번 나오는지 :', temp.count('python'))\n",
    "print('7. 대소문자구분없이 python이 몇번 나오는지 :', temp.lower().count('python'))\n",
    "print('7. 대소문자구분없이 python이 몇번 나오는지 :', temp.upper().count('PYTHON'))\n",
    "print('7. 대소문자구분없이 python이 몇번 나오는지 :', temp.title().count('Python'))\n",
    "print('8. python이 나오는 첫 index 위치 :', temp.find('python'))\n",
    "print('8. python이 나오는 마지막 index 위치 :', temp.rfind('python'))\n",
    "print('8. java이 나오는 마지막 index 위치 :', temp.rfind('java'))\n",
    "print('9. python으로 시작하는지 여부: ', temp.startswith('python'))\n",
    "print('10. 대소문자 구분없이 python으로 끝나는지 여부: ', temp.upper().endswith('PYTHON'))\n"
   ]
  },
  {
   "cell_type": "code",
   "execution_count": 143,
   "id": "6bbe2105",
   "metadata": {},
   "outputs": [
    {
     "name": "stdout",
     "output_type": "stream",
     "text": [
      "11. 좌우공백제거 : [Python is easy.]\n",
      "11. 좌측공백제거 : [Python is easy.   ]\n",
      "11. 우측공백제거 : [   Python is easy.]\n",
      "12. 숫자문자열인지 :  False\n",
      "13. 소문자문자열인지 :  False\n",
      "13. 대문자문자열인지 :  False\n",
      "14. ,제거 :  1000\n",
      "14. ,제거 :  1000\n"
     ]
    }
   ],
   "source": [
    "temp = '   Python is easy.   '\n",
    "notdisit = '1,000'\n",
    "num_str = '1000'\n",
    "\n",
    "print('11. 좌우공백제거 : [{}]'.format(temp.strip()))\n",
    "print('11. 좌측공백제거 : [{}]'.format(temp.lstrip()))\n",
    "print('11. 우측공백제거 : [{}]'.format(temp.rstrip()))\n",
    "print('12. 숫자문자열인지 : ', notdisit.isdigit())\n",
    "print('13. 소문자문자열인지 : ', temp.islower())\n",
    "print('13. 대문자문자열인지 : ', temp.isupper())\n",
    "print('14. ,제거 : ', notdisit.replace(',',''))\n",
    "print('14. ,제거 : ', num_str.replace(',',''))"
   ]
  },
  {
   "cell_type": "code",
   "execution_count": 144,
   "id": "d47e790d",
   "metadata": {},
   "outputs": [
    {
     "name": "stdout",
     "output_type": "stream",
     "text": [
      "space단위로 temp를 분리 :  ['홍길동', '김길동', '신길똥', '유길동']\n"
     ]
    }
   ],
   "source": [
    "temp = \"홍길동 김길동 신길똥 유길동\"\n",
    "print('space단위로 temp를 분리 : ', temp.split())  # 기본이 space 단위로 분리"
   ]
  },
  {
   "cell_type": "code",
   "execution_count": 149,
   "id": "5dbfc536",
   "metadata": {},
   "outputs": [
    {
     "name": "stdout",
     "output_type": "stream",
     "text": [
      " - 단위로 data를 분리(결과 : list)\n",
      "['2025', '04', '10']\n",
      "년 : 2025\n",
      "월 : 04\n",
      "일 : 10\n"
     ]
    }
   ],
   "source": [
    "data = '2025-04-10'\n",
    "print(' - 단위로 data를 분리(결과 : list)')\n",
    "data_list = data.split('-')\n",
    "print(data_list)\n",
    "print(\"년 :\", data_list[0])\n",
    "print(\"월 :\", data_list[1])\n",
    "print(\"일 :\", data_list[2])"
   ]
  },
  {
   "cell_type": "code",
   "execution_count": 153,
   "id": "1911bf1c",
   "metadata": {},
   "outputs": [
    {
     "name": "stdout",
     "output_type": "stream",
     "text": [
      "원 데이터 : Python - HTML/CSS - JavaScript - DBMS - 딥러닝(DNN-CNN-RNN) - 머신러닝\n",
      "분리된 데이터 :  ['Python', 'HTML/CSS', 'JavaScript', 'DBMS', '딥러닝(DNN-CNN-RNN)', '머신러닝']\n",
      "join된 데이터 : Python/HTML/CSS/JavaScript/DBMS/딥러닝(DNN-CNN-RNN)/머신러닝\n"
     ]
    }
   ],
   "source": [
    "# ' - '을 '/'로 바꾸기\n",
    "\n",
    "temp = \"Python - HTML/CSS - JavaScript - DBMS - 딥러닝(DNN-CNN-RNN) - 머신러닝\"\n",
    "# temp.replace(' - ', '/')\n",
    "print('원 데이터 :', temp)\n",
    "splited_temp = temp.split(' - ')\n",
    "print('분리된 데이터 : ', splited_temp)\n",
    "joined_temp = '/'.join(splited_temp)\n",
    "print('join된 데이터 :', joined_temp)"
   ]
  },
  {
   "cell_type": "code",
   "execution_count": null,
   "id": "520ec5ec",
   "metadata": {},
   "outputs": [],
   "source": [
    "str_ = 'ABC'\n",
    "# str_ = ['A', 'B', 'C']"
   ]
  },
  {
   "cell_type": "code",
   "execution_count": 154,
   "id": "a863473d",
   "metadata": {
    "collapsed": true
   },
   "outputs": [
    {
     "data": {
      "text/plain": [
       "['__add__',\n",
       " '__class__',\n",
       " '__contains__',\n",
       " '__delattr__',\n",
       " '__dir__',\n",
       " '__doc__',\n",
       " '__eq__',\n",
       " '__format__',\n",
       " '__ge__',\n",
       " '__getattribute__',\n",
       " '__getitem__',\n",
       " '__getnewargs__',\n",
       " '__gt__',\n",
       " '__hash__',\n",
       " '__init__',\n",
       " '__init_subclass__',\n",
       " '__iter__',\n",
       " '__le__',\n",
       " '__len__',\n",
       " '__lt__',\n",
       " '__mod__',\n",
       " '__mul__',\n",
       " '__ne__',\n",
       " '__new__',\n",
       " '__reduce__',\n",
       " '__reduce_ex__',\n",
       " '__repr__',\n",
       " '__rmod__',\n",
       " '__rmul__',\n",
       " '__setattr__',\n",
       " '__sizeof__',\n",
       " '__str__',\n",
       " '__subclasshook__',\n",
       " 'capitalize',\n",
       " 'casefold',\n",
       " 'center',\n",
       " 'count',\n",
       " 'encode',\n",
       " 'endswith',\n",
       " 'expandtabs',\n",
       " 'find',\n",
       " 'format',\n",
       " 'format_map',\n",
       " 'index',\n",
       " 'isalnum',\n",
       " 'isalpha',\n",
       " 'isascii',\n",
       " 'isdecimal',\n",
       " 'isdigit',\n",
       " 'isidentifier',\n",
       " 'islower',\n",
       " 'isnumeric',\n",
       " 'isprintable',\n",
       " 'isspace',\n",
       " 'istitle',\n",
       " 'isupper',\n",
       " 'join',\n",
       " 'ljust',\n",
       " 'lower',\n",
       " 'lstrip',\n",
       " 'maketrans',\n",
       " 'partition',\n",
       " 'removeprefix',\n",
       " 'removesuffix',\n",
       " 'replace',\n",
       " 'rfind',\n",
       " 'rindex',\n",
       " 'rjust',\n",
       " 'rpartition',\n",
       " 'rsplit',\n",
       " 'rstrip',\n",
       " 'split',\n",
       " 'splitlines',\n",
       " 'startswith',\n",
       " 'strip',\n",
       " 'swapcase',\n",
       " 'title',\n",
       " 'translate',\n",
       " 'upper',\n",
       " 'zfill']"
      ]
     },
     "execution_count": 154,
     "metadata": {},
     "output_type": "execute_result"
    }
   ],
   "source": [
    "# 문자열이 다룰 수 있는 함수들과 변수들 목록\n",
    "dir(str)"
   ]
  },
  {
   "cell_type": "markdown",
   "id": "b9b108ed",
   "metadata": {},
   "source": [
    "# 7절 시간, 날짜, 날짜시간 다루기"
   ]
  },
  {
   "cell_type": "code",
   "execution_count": 4,
   "id": "9e3f59ce",
   "metadata": {},
   "outputs": [
    {
     "data": {
      "text/plain": [
       "'C:\\\\Users\\\\Admin\\\\anaconda3\\\\lib\\\\datetime.py'"
      ]
     },
     "execution_count": 4,
     "metadata": {},
     "output_type": "execute_result"
    }
   ],
   "source": [
    "import datetime\n",
    "datetime.__file__"
   ]
  },
  {
   "cell_type": "code",
   "execution_count": 9,
   "id": "467d70fe",
   "metadata": {},
   "outputs": [],
   "source": [
    "# datetime.py 모듈(datetime.py)안의 datetime, date, time을 import\n",
    "from datetime import datetime, date, time"
   ]
  },
  {
   "cell_type": "markdown",
   "id": "fbfdee22",
   "metadata": {},
   "source": [
    "## 7.1 시간과 날짜"
   ]
  },
  {
   "cell_type": "code",
   "execution_count": 10,
   "id": "a8f4930a",
   "metadata": {},
   "outputs": [
    {
     "data": {
      "text/plain": [
       "datetime.datetime(2025, 4, 7, 9, 30)"
      ]
     },
     "execution_count": 10,
     "metadata": {},
     "output_type": "execute_result"
    }
   ],
   "source": [
    "# 특정한 시점을 갖는 datetime 객체 생성\n",
    "thatday = datetime(2025, 4, 7, 9, 30, 0)\n",
    "thatday"
   ]
  },
  {
   "cell_type": "code",
   "execution_count": 24,
   "id": "0e5d58ea",
   "metadata": {},
   "outputs": [
    {
     "name": "stdout",
     "output_type": "stream",
     "text": [
      "2025-04-07 09:30:00\n",
      "Mon Apr  7 09:30:00 2025\n",
      "2025년04월07일(월요일) 오전 09시 30분 00초\n",
      "2025년04월07일(월요일) 오전 09시 30분 00초\n"
     ]
    }
   ],
   "source": [
    "print(thatday)\n",
    "print(thatday.ctime())  #ctime() : 사람이 읽기 쉬운 형태로 반환\n",
    "print(\"{:%Y년%m월%d일(%A) %p %I시 %M분 %S초}\".format(thatday))\n",
    "print(thatday.strftime(\"%Y년%m월%d일(%A) %p %I시 %M분 %S초\"))"
   ]
  },
  {
   "cell_type": "code",
   "execution_count": 21,
   "id": "67debad5",
   "metadata": {},
   "outputs": [
    {
     "data": {
      "text/plain": [
       "'ko_KR'"
      ]
     },
     "execution_count": 21,
     "metadata": {},
     "output_type": "execute_result"
    }
   ],
   "source": [
    "import locale\n",
    "locale.setlocale(locale.LC_TIME, 'ko_KR')"
   ]
  },
  {
   "cell_type": "code",
   "execution_count": 36,
   "id": "8a1e36e9",
   "metadata": {},
   "outputs": [
    {
     "name": "stdout",
     "output_type": "stream",
     "text": [
      "25-0411(금요일) 10:18:46\n"
     ]
    }
   ],
   "source": [
    "now = datetime.now()\n",
    "print(now.strftime(\"%y-%m%d(%A) %H:%M:%S\"))"
   ]
  },
  {
   "cell_type": "code",
   "execution_count": 37,
   "id": "98b819bb",
   "metadata": {},
   "outputs": [
    {
     "data": {
      "text/plain": [
       "datetime.timedelta(days=4, seconds=2926, microseconds=86925)"
      ]
     },
     "execution_count": 37,
     "metadata": {},
     "output_type": "execute_result"
    }
   ],
   "source": [
    "diff = now - thatday\n",
    "diff"
   ]
  },
  {
   "cell_type": "code",
   "execution_count": 34,
   "id": "54689ef3",
   "metadata": {},
   "outputs": [
    {
     "data": {
      "text/plain": [
       "4"
      ]
     },
     "execution_count": 34,
     "metadata": {},
     "output_type": "execute_result"
    }
   ],
   "source": [
    "diff.days"
   ]
  },
  {
   "cell_type": "markdown",
   "id": "fce807cb",
   "metadata": {},
   "source": [
    "## 7.2 날짜"
   ]
  },
  {
   "cell_type": "code",
   "execution_count": 49,
   "id": "adc641a6",
   "metadata": {},
   "outputs": [
    {
     "data": {
      "text/plain": [
       "datetime.date(2025, 9, 2)"
      ]
     },
     "execution_count": 49,
     "metadata": {},
     "output_type": "execute_result"
    }
   ],
   "source": [
    "someday = date(2025, 9, 2)\n",
    "someday"
   ]
  },
  {
   "cell_type": "code",
   "execution_count": 50,
   "id": "3687e533",
   "metadata": {},
   "outputs": [
    {
     "name": "stdout",
     "output_type": "stream",
     "text": [
      "2025년 09월 02월\n"
     ]
    }
   ],
   "source": [
    "print(someday.strftime(\"%Y년 %m월 %d월\"))"
   ]
  },
  {
   "cell_type": "code",
   "execution_count": 51,
   "id": "383eb72a",
   "metadata": {},
   "outputs": [
    {
     "data": {
      "text/plain": [
       "True"
      ]
     },
     "execution_count": 51,
     "metadata": {},
     "output_type": "execute_result"
    }
   ],
   "source": [
    "# 오늘\n",
    "today1 = datetime.now().date()\n",
    "today2 = date.today()\n",
    "today1 == today2"
   ]
  },
  {
   "cell_type": "code",
   "execution_count": 52,
   "id": "87e60e65",
   "metadata": {},
   "outputs": [
    {
     "name": "stdout",
     "output_type": "stream",
     "text": [
      "25년 04월 11일\n"
     ]
    }
   ],
   "source": [
    "print(today1.strftime(\"%y년 %m월 %d일\"))"
   ]
  },
  {
   "cell_type": "code",
   "execution_count": 53,
   "id": "763c37e6",
   "metadata": {},
   "outputs": [
    {
     "data": {
      "text/plain": [
       "144"
      ]
     },
     "execution_count": 53,
     "metadata": {},
     "output_type": "execute_result"
    }
   ],
   "source": [
    "diff = someday - today\n",
    "diff.days"
   ]
  },
  {
   "cell_type": "markdown",
   "id": "bd923b28",
   "metadata": {},
   "source": [
    "## 7.3 시간"
   ]
  },
  {
   "cell_type": "code",
   "execution_count": 55,
   "id": "1201f752",
   "metadata": {},
   "outputs": [
    {
     "data": {
      "text/plain": [
       "datetime.time(13, 10)"
      ]
     },
     "execution_count": 55,
     "metadata": {},
     "output_type": "execute_result"
    }
   ],
   "source": [
    "# 특정 시간\n",
    "t = time(13, 10)\n",
    "t"
   ]
  },
  {
   "cell_type": "code",
   "execution_count": 56,
   "id": "860c3011",
   "metadata": {},
   "outputs": [
    {
     "name": "stdout",
     "output_type": "stream",
     "text": [
      "13:10:00\n",
      "오후 01시 10분\n"
     ]
    }
   ],
   "source": [
    "print(t)\n",
    "print(t.strftime(\"%p %I시 %M분\"))"
   ]
  },
  {
   "cell_type": "code",
   "execution_count": 57,
   "id": "b95785f8",
   "metadata": {},
   "outputs": [
    {
     "data": {
      "text/plain": [
       "datetime.time(10, 42, 22, 721270)"
      ]
     },
     "execution_count": 57,
     "metadata": {},
     "output_type": "execute_result"
    }
   ],
   "source": [
    "# 지금 시간\n",
    "now_time = datetime.now().time()\n",
    "now_time"
   ]
  },
  {
   "cell_type": "code",
   "execution_count": 58,
   "id": "50d45c7b",
   "metadata": {},
   "outputs": [
    {
     "data": {
      "text/plain": [
       "'10시 42분 22초'"
      ]
     },
     "execution_count": 58,
     "metadata": {},
     "output_type": "execute_result"
    }
   ],
   "source": [
    "now_time.strftime(\"%H시 %M분 %S초\")"
   ]
  },
  {
   "cell_type": "markdown",
   "id": "e86e032d",
   "metadata": {},
   "source": [
    "**datetime, date, time형들을 원하는 포맷의 문자형으로 반환 : strftime()**\n",
    "- %Y, %y, %m, %d, %A(요일) %p(오전/오후) %H(24시) %I(12시) %M(분) %S(초)"
   ]
  },
  {
   "cell_type": "markdown",
   "id": "e3f59239",
   "metadata": {},
   "source": [
    "# 8절. 연습문제"
   ]
  },
  {
   "cell_type": "code",
   "execution_count": 159,
   "id": "cb03b412",
   "metadata": {},
   "outputs": [
    {
     "name": "stdout",
     "output_type": "stream",
     "text": [
      "이름을 입력하세요 : 이름\n",
      "나이를 입력하세요 : 12\n",
      "이름님의 나이는 12살 입니다.\n"
     ]
    }
   ],
   "source": [
    "# 1. 이름과 나이 변수를 다음 형식으로 출력하도록 format() 함수를 이용해 형식화하세요\n",
    "# [출력형식 : 홍길동님의 나이는 23살입니다]\n",
    "\n",
    "name = input(\"이름을 입력하세요 : \")\n",
    "age = int(input(\"나이를 입력하세요 : \"))\n",
    "print(f'{name}님의 나이는 {age}살 입니다.')"
   ]
  },
  {
   "cell_type": "code",
   "execution_count": 164,
   "id": "f25b13f6",
   "metadata": {},
   "outputs": [
    {
     "name": "stdout",
     "output_type": "stream",
     "text": [
      "정수를 입력하세요 : 5\n",
      "정수를 입력하세요 : 3\n",
      "덧셈 : 8 \t 뺄셈 : 2 \t 곱셈 : 15 \t 나눗셈 : 1.667 \t 나머지 : 2\n"
     ]
    }
   ],
   "source": [
    "# 2. 두 정수를 입력받아 두 수의 덧셈, 뺄셈, 곱셈, 나눗셈, 몫, 나머지를 출력하세요\n",
    "\n",
    "num1 = int(input(\"정수를 입력하세요 : \"))\n",
    "num2 = int(input(\"정수를 입력하세요 : \"))\n",
    "\n",
    "sum1 = num1 + num2\n",
    "min1 = num1 - num2\n",
    "mul1 = num1 * num2\n",
    "div1 = num1 / num2\n",
    "nam1 = num1 % num2\n",
    "\n",
    "print(f'덧셈 : {sum1} \\t 뺄셈 : {min1} \\t 곱셈 : {mul1} \\t 나눗셈 : {div1:.3f} \\t 나머지 : {nam1}')\n"
   ]
  },
  {
   "cell_type": "code",
   "execution_count": 169,
   "id": "ffa515cd",
   "metadata": {},
   "outputs": [
    {
     "name": "stdout",
     "output_type": "stream",
     "text": [
      "World Hello\n"
     ]
    }
   ],
   "source": [
    "# 3. 문자열의 분리하기와 합치기 기능을 이용하여 ‘Hello World’가 할당된 변수를 이용하여\n",
    "# ‘World Hello’로 출력하세요\n",
    "\n",
    "temp = 'Hello World'\n",
    "\n",
    "splited_temp = temp.split()\n",
    "joined_temp = ' '.join([splited_temp[1], splited_temp[0]])\n",
    "\n",
    "print(joined_temp)"
   ]
  },
  {
   "cell_type": "code",
   "execution_count": 179,
   "id": "33789edc",
   "metadata": {},
   "outputs": [
    {
     "name": "stdout",
     "output_type": "stream",
     "text": [
      "bcdefa\n"
     ]
    }
   ],
   "source": [
    "# 4. x = 'abcdef＇를 이용하여 ‘bcdefa’로 출력하세요(문자 슬라이싱이용).\n",
    "\n",
    "x = 'abcdef'\n",
    "\n",
    "print(x[1:] + x[0])"
   ]
  },
  {
   "cell_type": "code",
   "execution_count": 182,
   "id": "807300a0",
   "metadata": {},
   "outputs": [
    {
     "name": "stdout",
     "output_type": "stream",
     "text": [
      "fedcba\n"
     ]
    }
   ],
   "source": [
    "# 5. x = ‘abcdef’를 이용하여 ‘fedcba’로 출력하세요\n",
    "\n",
    "x = 'abcdef'\n",
    "\n",
    "print(x[::-1])"
   ]
  },
  {
   "cell_type": "code",
   "execution_count": 209,
   "id": "f1d2a8e5",
   "metadata": {},
   "outputs": [
    {
     "name": "stdout",
     "output_type": "stream",
     "text": [
      "오늘의 온도를 섭씨로 입력해주세요 : 20.7\n",
      "화씨 온도는 69.26도입니다.\n"
     ]
    }
   ],
   "source": [
    "# 6. 오늘의 온도를 섭씨온도로 입력받아 화씨 온도로 변환하는 프로그램을 작성하세요. 화\n",
    "# 씨 온도는 소수점이 있을 경우만 두번째 자리까지 출력되고, 소수점이하 값이 없는 경\n",
    "# 우 소수점을 출력하지 않도록 합니다.(다음은 섭씨와 화씨의 변환 공식입니다. C는 섭씨,\n",
    "# F는 화씨)\n",
    "# C = (F-32) / 1.8\n",
    "# F = (C*1.8) + 32\n",
    "\n",
    "C = float(input(\"오늘의 온도를 섭씨로 입력해주세요 : \"))\n",
    "\n",
    "F = (C * 1.8) + 32\n",
    "\n",
    "if int(F) == F:\n",
    "    print(f\"화씨 온도는 {int(F)}도입니다.\")\n",
    "else:\n",
    "    print(f\"화씨 온도는 {F:.2f}도입니다.\")\n",
    "\n",
    "\n"
   ]
  },
  {
   "cell_type": "code",
   "execution_count": 201,
   "id": "bf5b7753",
   "metadata": {},
   "outputs": [
    {
     "ename": "SyntaxError",
     "evalue": "invalid decimal literal (96747818.py, line 7)",
     "output_type": "error",
     "traceback": [
      "\u001b[1;36m  Cell \u001b[1;32mIn[201], line 7\u001b[1;36m\u001b[0m\n\u001b[1;33m    1번(예약어)\u001b[0m\n\u001b[1;37m    ^\u001b[0m\n\u001b[1;31mSyntaxError\u001b[0m\u001b[1;31m:\u001b[0m invalid decimal literal\n"
     ]
    }
   ],
   "source": [
    "# 7. 다음 중 변수 선언으로 잘못된 것을 모두 고르시오?\n",
    "# ① for\n",
    "# ② 10th\n",
    "# ③ Student.name\n",
    "# ④ _1234\n",
    "\n",
    "1번(예약어)\n",
    "2번(숫자로 시작 못함)\n",
    "3번(.를 포함할 수 없음)"
   ]
  },
  {
   "cell_type": "code",
   "execution_count": 183,
   "id": "d1bcea38",
   "metadata": {},
   "outputs": [
    {
     "name": "stdout",
     "output_type": "stream",
     "text": [
      "SeounSeoul\n",
      "Seou n Seoul\n"
     ]
    }
   ],
   "source": [
    "# 8. 다음의 코드의 실행결과는?\n",
    "\n",
    "text = \"Seoul A001 - programming with python\"\n",
    "print(text[:4]+text[-1]+text.split()[0])\n",
    "print(text[:4], text[-1], text.split()[0])"
   ]
  },
  {
   "cell_type": "code",
   "execution_count": 186,
   "id": "e2820b5d",
   "metadata": {},
   "outputs": [
    {
     "name": "stdout",
     "output_type": "stream",
     "text": [
      "64\n"
     ]
    }
   ],
   "source": [
    "# 9. 다음 중 파이썬 3.x 버전에서 연산식과 그 결과의 출력이 잘못된 것은?\n",
    "# ① 수식 8//2 결과 4\n",
    "# ② 수식 8/2 결과 4\n",
    "# ③ 수식 8 **2 결과 64\n",
    "\n",
    "2번은 4.0 이 나온다.\n"
   ]
  },
  {
   "cell_type": "code",
   "execution_count": 188,
   "id": "d1a8fad0",
   "metadata": {},
   "outputs": [
    {
     "ename": "SyntaxError",
     "evalue": "invalid syntax (4178768204.py, line 7)",
     "output_type": "error",
     "traceback": [
      "\u001b[1;36m  Cell \u001b[1;32mIn[188], line 7\u001b[1;36m\u001b[0m\n\u001b[1;33m    숫자와 문자를 더할 수 없음. str(x) 처럼 바꿔주는 방법을 사용해야함.\u001b[0m\n\u001b[1;37m        ^\u001b[0m\n\u001b[1;31mSyntaxError\u001b[0m\u001b[1;31m:\u001b[0m invalid syntax\n"
     ]
    }
   ],
   "source": [
    "# 10. 아래 프로그램의 결과는?\n",
    "\n",
    "x = 5\n",
    "y = \"John\"\n",
    "print(x + y)\n",
    "\n",
    "숫자와 문자를 더할 수 없음. str(x) 처럼 바꿔주는 방법을 사용해야함."
   ]
  },
  {
   "cell_type": "code",
   "execution_count": 197,
   "id": "6f977f9c",
   "metadata": {},
   "outputs": [
    {
     "name": "stdout",
     "output_type": "stream",
     "text": [
      "출력값 : 나라\n"
     ]
    }
   ],
   "source": [
    "# 11. split()함수를 이용하여 str_의 값 중 ＂나라＂를 출력하는 프로그램을 완성하시오\n",
    "\n",
    "str_ = \"우리 나라 대한 민국\"\n",
    "print('출력값 :', str_.split(' ')[1])"
   ]
  },
  {
   "cell_type": "code",
   "execution_count": null,
   "id": "5df3180a",
   "metadata": {},
   "outputs": [],
   "source": []
  },
  {
   "cell_type": "code",
   "execution_count": 101,
   "id": "bf9ed789",
   "metadata": {},
   "outputs": [
    {
     "data": {
      "text/plain": [
       "'PYTHON IS EASY. PYTHON IS SMART. PYTHON'"
      ]
     },
     "execution_count": 101,
     "metadata": {},
     "output_type": "execute_result"
    }
   ],
   "source": [
    "temp.upper()"
   ]
  },
  {
   "cell_type": "code",
   "execution_count": 102,
   "id": "97ce3f1d",
   "metadata": {},
   "outputs": [
    {
     "data": {
      "text/plain": [
       "'Python Is Easy. Python Is Smart. Python'"
      ]
     },
     "execution_count": 102,
     "metadata": {},
     "output_type": "execute_result"
    }
   ],
   "source": [
    "temp.title()"
   ]
  },
  {
   "cell_type": "code",
   "execution_count": null,
   "id": "a06430a3",
   "metadata": {},
   "outputs": [],
   "source": []
  },
  {
   "cell_type": "code",
   "execution_count": null,
   "id": "cd26440e",
   "metadata": {},
   "outputs": [],
   "source": []
  },
  {
   "cell_type": "code",
   "execution_count": null,
   "id": "89e44862",
   "metadata": {},
   "outputs": [],
   "source": []
  },
  {
   "cell_type": "code",
   "execution_count": null,
   "id": "0a5c109b",
   "metadata": {},
   "outputs": [],
   "source": []
  },
  {
   "cell_type": "code",
   "execution_count": 208,
   "id": "9208fd08",
   "metadata": {},
   "outputs": [
    {
     "data": {
      "text/plain": [
       "15"
      ]
     },
     "execution_count": 208,
     "metadata": {},
     "output_type": "execute_result"
    }
   ],
   "source": []
  },
  {
   "cell_type": "code",
   "execution_count": null,
   "id": "f9639c71",
   "metadata": {},
   "outputs": [],
   "source": []
  },
  {
   "cell_type": "code",
   "execution_count": 9,
   "id": "374fa79d",
   "metadata": {},
   "outputs": [
    {
     "name": "stdout",
     "output_type": "stream",
     "text": [
      "4\n"
     ]
    }
   ],
   "source": [
    "a = 2\n",
    "if a>1:\n",
    "    b = a*2\n",
    "else:\n",
    "        b=3\n",
    "print(b)"
   ]
  },
  {
   "cell_type": "code",
   "execution_count": null,
   "id": "38be7ba8",
   "metadata": {},
   "outputs": [],
   "source": []
  },
  {
   "cell_type": "code",
   "execution_count": null,
   "id": "52c3118f",
   "metadata": {},
   "outputs": [],
   "source": []
  },
  {
   "cell_type": "code",
   "execution_count": null,
   "id": "d2216c50",
   "metadata": {},
   "outputs": [],
   "source": []
  },
  {
   "cell_type": "code",
   "execution_count": null,
   "id": "59109841",
   "metadata": {},
   "outputs": [],
   "source": []
  }
 ],
 "metadata": {
  "kernelspec": {
   "display_name": "Python 3 (ipykernel)",
   "language": "python",
   "name": "python3"
  },
  "language_info": {
   "codemirror_mode": {
    "name": "ipython",
    "version": 3
   },
   "file_extension": ".py",
   "mimetype": "text/x-python",
   "name": "python",
   "nbconvert_exporter": "python",
   "pygments_lexer": "ipython3",
   "version": "3.10.9"
  },
  "toc": {
   "base_numbering": 1,
   "nav_menu": {},
   "number_sections": false,
   "sideBar": true,
   "skip_h1_title": false,
   "title_cell": "Table of Contents",
   "title_sidebar": "Contents",
   "toc_cell": false,
   "toc_position": {
    "height": "calc(100% - 180px)",
    "left": "10px",
    "top": "150px",
    "width": "165px"
   },
   "toc_section_display": true,
   "toc_window_display": true
  }
 },
 "nbformat": 4,
 "nbformat_minor": 5
}
