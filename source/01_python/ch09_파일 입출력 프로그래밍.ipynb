{
 "cells": [
  {
   "cell_type": "code",
   "execution_count": 25,
   "id": "fdf0add1",
   "metadata": {},
   "outputs": [
    {
     "data": {
      "text/html": [
       "\n",
       "<style>\n",
       "div.container{width:86% !important;}\n",
       "div.cell.code_cell.rendered{width:100%;}\n",
       "div.CodeMirror {font-family:Consolas; font-size:12pt;}\n",
       "div.output {font-size:15pt; font-weight:bold;}\n",
       "div.input {font-family:Consolas; font-size:12pt;}\n",
       "div.prompt {min-width:70px;}\n",
       "div#toc-wrapper{padding-top:120px;}\n",
       "div.text_cell_render ul li{font-size:12pt;padding:5px;}\n",
       "table.dataframe{font-size:12px;}\n",
       "</style>\n"
      ],
      "text/plain": [
       "<IPython.core.display.HTML object>"
      ]
     },
     "metadata": {},
     "output_type": "display_data"
    }
   ],
   "source": [
    "from IPython.display import display, HTML\n",
    "display(HTML(\"\"\"\n",
    "<style>\n",
    "div.container{width:86% !important;}\n",
    "div.cell.code_cell.rendered{width:100%;}\n",
    "div.CodeMirror {font-family:Consolas; font-size:12pt;}\n",
    "div.output {font-size:15pt; font-weight:bold;}\n",
    "div.input {font-family:Consolas; font-size:12pt;}\n",
    "div.prompt {min-width:70px;}\n",
    "div#toc-wrapper{padding-top:120px;}\n",
    "div.text_cell_render ul li{font-size:12pt;padding:5px;}\n",
    "table.dataframe{font-size:12px;}\n",
    "</style>\n",
    "\"\"\"))"
   ]
  },
  {
   "cell_type": "markdown",
   "id": "7dd48df1",
   "metadata": {},
   "source": [
    "<b><font size=\"5\" color=\"red\" >ch09_파일 입출력 프로그래밍</font></b>"
   ]
  },
  {
   "cell_type": "markdown",
   "id": "90202609",
   "metadata": {},
   "source": [
    "- 1. *txt\n",
    "    김회원, 33, 아무동9\n",
    "    이회원, 22, 무시기동8\n",
    "- 2. pickle파일(*.data): 객체리스트 저장, (머신러닝모델저장용)\n",
    "- 3. *.csv\n",
    "    name,age,address\n",
    "    \"김회원\",33,\"아무동9\"\n",
    "    \"이회원\",22,\"무시기동8\"\n",
    "- 4. *.json\n",
    "    [{'name':'김회원','age':33,'address':'아무동9'},\n",
    "    {'name':'이회원','age':22,'address':'무시기동8'}]\n",
    "- 5. *.h5 이나 *.hdf5 (=>딥러닝 모델 저장)\n",
    "    HDVview 로 읽을 수 있음\n",
    "\n",
    "- 6. *xml\n",
    "\n",
    "<customer>\n",
    "\t<name>김회원</name>\n",
    "\t<age>33</age>\n",
    "\t<address>아무동9</address>\n",
    "</customer>\n",
    "<customer>\n",
    "\t<name>이회원</name>\n",
    "\t<age>22</age>\n",
    "\t<address>무시기동9</address>\n",
    "</customer>"
   ]
  },
  {
   "cell_type": "markdown",
   "id": "d8d12bb3",
   "metadata": {},
   "source": [
    "# 1절. txt파일에 데이터 저장하고 불러오기"
   ]
  },
  {
   "cell_type": "code",
   "execution_count": 8,
   "id": "fa5632d7",
   "metadata": {},
   "outputs": [
    {
     "name": "stdout",
     "output_type": "stream",
     "text": [
      "쓰기가능한지 여부:  True\n"
     ]
    }
   ],
   "source": [
    "f = open('data/ch09.txt', 'w')\n",
    "print('쓰기가능한지 여부: ', f.writable())"
   ]
  },
  {
   "cell_type": "code",
   "execution_count": 9,
   "id": "7419d11e",
   "metadata": {},
   "outputs": [],
   "source": [
    "f.write('Hello\\nWorld')\n",
    "f.close() # close() 쓰기한 내용이 저장이 X"
   ]
  },
  {
   "cell_type": "code",
   "execution_count": 10,
   "id": "a557fce3",
   "metadata": {},
   "outputs": [
    {
     "name": "stdout",
     "output_type": "stream",
     "text": [
      "쓰기 가능한지 여부 : True\n"
     ]
    }
   ],
   "source": [
    "# mode : 'r' 또는 'rt' : text 읽기 모드\n",
    "       # 'rb' : 바이너리 읽기 모드\n",
    "       # 'w' 또는 'wt' : text 쓰기 모드(파일이 있으면 덮어씀, 파일이 없으면 파일 생성)\n",
    "       # 'wb' : 바이너리쓰기 모드\n",
    "       # 'a' 또는 'at' : text 추가 모드(파일이 있으면 append, 파일이 없으면 파일 생성)\n",
    "       # 읽기모드에서는 파일이 없으면 예외/쓰기 모드에서는 폴더가 없으면 예외\n",
    "# encoding\n",
    "    # euc-kr (한글완성형) 믜x\n",
    "    # cp949 (확장된 한글완성형) : open()함수 기본 encoding 방식(win)\n",
    "    # utf-8 (한글조합형): open()함수 기본 encoding방식(mac, linux)\n",
    "with open('data/ch09.txt', 'w') as f:\n",
    "    print('쓰기 가능한지 여부 :', f.writable())\n",
    "    f.write('Hello\\nPython')"
   ]
  },
  {
   "cell_type": "code",
   "execution_count": 11,
   "id": "5835421c",
   "metadata": {},
   "outputs": [],
   "source": [
    "with open('data/ch09.txt', 'a', encoding='utf-8') as f:\n",
    "    # 1방법\n",
    "    f.write('홍길동, 33, 아무동9\\n')\n",
    "    f.write('맹길동, 33, 아무동9\\n')\n",
    "    # 2방법\n",
    "    textlist = ['홍길동, 33, 아무동9\\n', '김길동, 33, 아무동9\\n']\n",
    "    for line in textlist:\n",
    "        f.write(line)\n",
    "    # 3방법\n",
    "    f.writelines(textlist)"
   ]
  },
  {
   "cell_type": "code",
   "execution_count": 14,
   "id": "51a1495a",
   "metadata": {},
   "outputs": [
    {
     "name": "stdout",
     "output_type": "stream",
     "text": [
      "홍길동, 33, 아무동9\n",
      "맹길동, 33, 아무동9\n",
      "홍길동, 33, 아무동9\n",
      "김길동, 33, 아무동9\n",
      "홍길동, 33, 아무동9\n",
      "김길동, 33, 아무동9\n"
     ]
    }
   ],
   "source": [
    "# 한줄씩 읽기\n",
    "with open('data/ch09.txt', 'r', encoding='utf-8') as f:\n",
    "    line = f.readline()\n",
    "    while line!='':\n",
    "        print(line,end='')\n",
    "        line = f.readline()"
   ]
  },
  {
   "cell_type": "code",
   "execution_count": 17,
   "id": "2abcbda9",
   "metadata": {},
   "outputs": [
    {
     "name": "stdout",
     "output_type": "stream",
     "text": [
      "['홍길동, 33, 아무동9\\n', '맹길동, 33, 아무동9\\n', '홍길동, 33, 아무동9\\n', '김길동, 33, 아무동9\\n', '홍길동, 33, 아무동9\\n', '김길동, 33, 아무동9\\n']\n"
     ]
    }
   ],
   "source": [
    "# 모든 줄을 읽기\n",
    "with open('data/ch09.txt', 'r', encoding='utf-8') as f:\n",
    "    lines = f.readlines()\n",
    "    print(lines)"
   ]
  },
  {
   "cell_type": "code",
   "execution_count": 18,
   "id": "3274cf65",
   "metadata": {},
   "outputs": [
    {
     "name": "stdout",
     "output_type": "stream",
     "text": [
      "홍길동, 33, 아무동9\n",
      "맹길동, 33, 아무동9\n",
      "홍길동, 33, 아무동9\n",
      "김길동, 33, 아무동9\n",
      "홍길동, 33, 아무동9\n",
      "김길동, 33, 아무동9\n",
      "\n"
     ]
    }
   ],
   "source": [
    "# 모두 읽기\n",
    "with open('data/ch09.txt', 'r', encoding='utf-8') as f:\n",
    "    lines = f.read()\n",
    "    print(lines)"
   ]
  },
  {
   "cell_type": "markdown",
   "id": "1ad8117e",
   "metadata": {},
   "source": [
    "# 2절. 피클을 이용한 객체 저장 및 불러오기\n",
    "## 2.1 형식이 있는 txt 데이터 불러오기"
   ]
  },
  {
   "cell_type": "code",
   "execution_count": 1,
   "id": "8628519f",
   "metadata": {},
   "outputs": [],
   "source": [
    "class Member:\n",
    "    def __init__(self, name, age, email, address):\n",
    "        self.name = name\n",
    "        self.age = age\n",
    "        self.email = email\n",
    "        self.address = address\n",
    "    def __str__(self):\n",
    "        return \"{}, {}, {}, {}\".format(self.name,\n",
    "                                      \"성년\" if self.age>18 else \"미성년\",\n",
    "                                      self.email,\n",
    "                                      self.address)\n",
    "    def as_dict(self):\n",
    "        return {\n",
    "            'name':self.name,\n",
    "            'age':self.age,\n",
    "            'email':self.email,\n",
    "            'address':self.address\n",
    "                }\n",
    "    def __eq__(self, other):\n",
    "        return self.name == other.name and \\\n",
    "                self.age==other.age and \\\n",
    "                self.email==other.email and \\\n",
    "                self.address==other.address"
   ]
  },
  {
   "cell_type": "code",
   "execution_count": 2,
   "id": "f04363dc",
   "metadata": {},
   "outputs": [
    {
     "name": "stdout",
     "output_type": "stream",
     "text": [
      "True\n",
      "True\n"
     ]
    }
   ],
   "source": [
    "user1 = Member('홍',20,'abc@abc.com','신림동')\n",
    "user2 = Member('홍',20,'abc@abc.com','신림동')\n",
    "print(user1==user2)\n",
    "print(user1.__eq__(user2)) # 같은 내용이면 True"
   ]
  },
  {
   "cell_type": "code",
   "execution_count": 4,
   "id": "4ac94d10",
   "metadata": {},
   "outputs": [],
   "source": [
    "# 형식이 있는 txt 파일 내용을 member list(피클 저장), 딕셔너리 list(데이터프레임) 로 저장\n",
    "user_list = [] # member list\n",
    "user_dict = [] # 딕셔너리 list\n",
    "with open('data/ch09_member.txt', 'r', encoding='utf-8') as txt_file:\n",
    "    lines = txt_file.readlines()\n",
    "# print(lines)\n",
    "for line in lines:\n",
    "    data = line.split(',')\n",
    "#     print(data)\n",
    "    name = data[0]\n",
    "    age = int(data[1].strip()) # .strip() : 좌우 공백(space, \\t, \\n) 제거\n",
    "    email = data[2].strip()\n",
    "    address = data[3].strip()\n",
    "    user = Member(name, age, email, address)\n",
    "    user_list.append(user)\n",
    "    user_dict.append(user.as_dict())\n",
    "#     user_dict.append(user.__dict__)"
   ]
  },
  {
   "cell_type": "code",
   "execution_count": 5,
   "id": "a479a756",
   "metadata": {},
   "outputs": [
    {
     "data": {
      "text/plain": [
       "[{'name': '홍길동', 'age': 20, 'email': 'kildong@hong.com', 'address': '서울시 관악구'},\n",
       " {'name': '홍길숙',\n",
       "  'age': 25,\n",
       "  'email': 'kilsuk1@hong.com',\n",
       "  'address': '서울시 영등포구'},\n",
       " {'name': '신길동', 'age': 30, 'email': 'shinkil@hong.com', 'address': '서울시 동작구'}]"
      ]
     },
     "execution_count": 5,
     "metadata": {},
     "output_type": "execute_result"
    }
   ],
   "source": [
    "user_dict"
   ]
  },
  {
   "cell_type": "code",
   "execution_count": 6,
   "id": "6d793244",
   "metadata": {},
   "outputs": [
    {
     "name": "stdout",
     "output_type": "stream",
     "text": [
      "홍길동, 성년, kildong@hong.com, 서울시 관악구\n",
      "홍길숙, 성년, kilsuk1@hong.com, 서울시 영등포구\n",
      "신길동, 성년, shinkil@hong.com, 서울시 동작구\n"
     ]
    }
   ],
   "source": [
    "for user in user_list:\n",
    "    print(user)"
   ]
  },
  {
   "cell_type": "markdown",
   "id": "0c632af1",
   "metadata": {},
   "source": [
    "## 2.2 피클링\n",
    "- 객체 리스트(user_list) -> 피클파일로 쓰기\n",
    "- 피클 파일을 읽기 -> 객체 리스트(load_user_list)"
   ]
  },
  {
   "cell_type": "code",
   "execution_count": 7,
   "id": "9491b535",
   "metadata": {},
   "outputs": [],
   "source": [
    "# 피클링을 이용한 객체를 저장하기\n",
    "import pickle\n",
    "with open('data/ch09_member.data', 'wb') as f:\n",
    "    pickle.dump(user_list, f)"
   ]
  },
  {
   "cell_type": "code",
   "execution_count": 8,
   "id": "5880ecd5",
   "metadata": {},
   "outputs": [],
   "source": [
    "# 피클링을 이용한 파일에서 객체 데이터로 읽기\n",
    "with open('data/ch09_member.data', 'rb') as f:\n",
    "    load_user_list = pickle.load(f)"
   ]
  },
  {
   "cell_type": "code",
   "execution_count": 9,
   "id": "e6df5a5d",
   "metadata": {},
   "outputs": [
    {
     "data": {
      "text/plain": [
       "True"
      ]
     },
     "execution_count": 9,
     "metadata": {},
     "output_type": "execute_result"
    }
   ],
   "source": [
    "user_list == load_user_list"
   ]
  },
  {
   "cell_type": "code",
   "execution_count": 12,
   "id": "69a6ca06",
   "metadata": {},
   "outputs": [
    {
     "name": "stdout",
     "output_type": "stream",
     "text": [
      "0 홍길동, 성년, kildong@hong.com, 서울시 관악구\n",
      "0 홍길동, 성년, kildong@hong.com, 서울시 관악구\n",
      "1 홍길숙, 성년, kilsuk1@hong.com, 서울시 영등포구\n",
      "1 홍길숙, 성년, kilsuk1@hong.com, 서울시 영등포구\n",
      "2 신길동, 성년, shinkil@hong.com, 서울시 동작구\n",
      "2 신길동, 성년, shinkil@hong.com, 서울시 동작구\n"
     ]
    }
   ],
   "source": [
    "for idx in range(len(user_list)):\n",
    "    print(idx, user[idx])\n",
    "    print(idx, load_user_list[idx])"
   ]
  },
  {
   "cell_type": "code",
   "execution_count": 26,
   "id": "9ed8882f",
   "metadata": {},
   "outputs": [
    {
     "name": "stdout",
     "output_type": "stream",
     "text": [
      "0 홍길동, 성년, kildong@hong.com, 서울시 관악구\n",
      "0 홍길동, 성년, kildong@hong.com, 서울시 관악구\n",
      "True\n",
      "1 홍길숙, 성년, kilsuk1@hong.com, 서울시 영등포구\n",
      "1 홍길숙, 성년, kilsuk1@hong.com, 서울시 영등포구\n",
      "True\n",
      "2 신길동, 성년, shinkil@hong.com, 서울시 동작구\n",
      "2 신길동, 성년, shinkil@hong.com, 서울시 동작구\n",
      "True\n"
     ]
    }
   ],
   "source": [
    "for idx, (user, load_user) in enumerate(zip(user_list, load_user_list)):\n",
    "    print(idx, user)\n",
    "    print(idx, load_user)\n",
    "    print(user==load_user)"
   ]
  },
  {
   "cell_type": "code",
   "execution_count": 27,
   "id": "c19f2997",
   "metadata": {},
   "outputs": [
    {
     "data": {
      "text/plain": [
       "False"
      ]
     },
     "execution_count": 27,
     "metadata": {},
     "output_type": "execute_result"
    }
   ],
   "source": [
    "result = []\n",
    "for user, load_user in enumerate(zip(user_list, load_user_list)):\n",
    "    result.append(user==load_user)\n",
    "all(result)"
   ]
  },
  {
   "cell_type": "markdown",
   "id": "b4c74de2",
   "metadata": {},
   "source": [
    "# 3절. CSV형식 파일 읽기/쓰기\n",
    "- CSV 파일 <-> 리스트데이터 3.1 / 3.2\n",
    "- CSV 파일 <-> 딕셔너리데이터 3.3 / 3.4"
   ]
  },
  {
   "cell_type": "markdown",
   "id": "8a3182b8",
   "metadata": {},
   "source": [
    "## 3.1 reader"
   ]
  },
  {
   "cell_type": "code",
   "execution_count": 31,
   "id": "c98e4c06",
   "metadata": {},
   "outputs": [
    {
     "name": "stdout",
     "output_type": "stream",
     "text": [
      "[['홍길동', '20', 'kildong@hong.com', '서울시 관악구'], ['김길동', '40', 'kimdong@hong.com', '서울시 영등포구'], ['신길동', '30', 'sindong@hong.com', '서울시 동작구']]\n"
     ]
    }
   ],
   "source": [
    "import csv\n",
    "with open('data/ch09_member1.csv', 'r', encoding='utf-8') as f:\n",
    "    reader = csv.reader(f)\n",
    "    result = list(reader)\n",
    "print(result)"
   ]
  },
  {
   "cell_type": "code",
   "execution_count": 30,
   "id": "bac6d608",
   "metadata": {},
   "outputs": [
    {
     "name": "stdout",
     "output_type": "stream",
     "text": [
      "[['홍길동', 20.0, 'kildong@hong.com', '서울시 관악구'], ['김길동', 40.0, 'kimdong@hong.com', '서울시 영등포구'], ['신길동', 30.0, 'sindong@hong.com', '서울시 동작구']]\n"
     ]
    }
   ],
   "source": [
    "# \"\"(따옴표)가 없는 데이터는 numeric으로 \n",
    "import csv\n",
    "with open('data/ch09_member1.csv', 'r', encoding='utf-8') as f:\n",
    "    reader = csv.reader(f,\n",
    "                       quoting=csv.QUOTE_NONNUMERIC)\n",
    "    result = list(reader)\n",
    "print(result)"
   ]
  },
  {
   "cell_type": "code",
   "execution_count": 34,
   "id": "38ea1daa",
   "metadata": {},
   "outputs": [
    {
     "name": "stdout",
     "output_type": "stream",
     "text": [
      "[{'name': '홍길동', 'age': 20, 'email': 'kildong@hong.com', 'address': '서울시 관악구'}, {'name': '김길동', 'age': 40, 'email': 'kimdong@hong.com', 'address': '서울시 영등포구'}, {'name': '신길동', 'age': 30, 'email': 'sindong@hong.com', 'address': '서울시 동작구'}]\n"
     ]
    }
   ],
   "source": [
    "import csv\n",
    "with open('data/ch09_member1.csv', 'r', encoding='utf-8') as f:\n",
    "    reader = csv.reader(f,\n",
    "                       quoting=csv.QUOTE_NONNUMERIC)\n",
    "    result = list(reader)\n",
    "dict_list = []\n",
    "for data in result:\n",
    "    dict_list.append({\n",
    "        'name':data[0],\n",
    "        'age':int(data[1]),\n",
    "        'email':data[2],\n",
    "        'address':data[3]\n",
    "    })\n",
    "print(dict_list)"
   ]
  },
  {
   "cell_type": "markdown",
   "id": "757e6036",
   "metadata": {},
   "source": [
    "## 3.2 writer"
   ]
  },
  {
   "cell_type": "code",
   "execution_count": 36,
   "id": "cad35d81",
   "metadata": {},
   "outputs": [],
   "source": [
    "user_list = [['홍길동', '20', 'kildong@hong.com', '서울시 관악구'],\n",
    "             ['김길동', '40', 'kimdong@hong.com', '서울시 영등포구']]"
   ]
  },
  {
   "cell_type": "code",
   "execution_count": 37,
   "id": "ebe45fd9",
   "metadata": {},
   "outputs": [],
   "source": [
    "with open('data/ch09_member1_write.csv', 'a', newline='', encoding='utf-8') as f:\n",
    "    writer = csv.writer(f)\n",
    "    writer.writerows(user_list)"
   ]
  },
  {
   "cell_type": "code",
   "execution_count": 38,
   "id": "dbb552f9",
   "metadata": {},
   "outputs": [],
   "source": [
    "with open('data/ch09_member1_write.csv', 'w', newline='', encoding='utf-8') as f:\n",
    "    writer = csv.writer(f, quoting=csv.QUOTE_NONNUMERIC)\n",
    "    writer.writerows(user_list)"
   ]
  },
  {
   "cell_type": "markdown",
   "id": "b93d66bc",
   "metadata": {},
   "source": [
    "## 3.3 DictReader"
   ]
  },
  {
   "cell_type": "code",
   "execution_count": 45,
   "id": "9ca96760",
   "metadata": {},
   "outputs": [
    {
     "name": "stdout",
     "output_type": "stream",
     "text": [
      "[{'name': '홍길동', 'age': '20', 'email': 'h@h.com', 'address': '서울시 관악구', 'job': None}, {'name': '신길동', 'age': '40', 'email': 's@h.com', 'address': '서울시 영등포구', 'job': '팀장'}, {'name': '김길동', 'age': '30', 'email': 'k@h.com', 'address': '서울시 동작구', 'job': None}]\n",
      "홍길동 20 h@h.com 서울시 관악구\n",
      "신길동 40 s@h.com 서울시 영등포구 팀장\n",
      "김길동 30 k@h.com 서울시 동작구\n"
     ]
    }
   ],
   "source": [
    "import csv\n",
    "with open('data/ch09_member3.csv', 'r', encoding='utf-8') as f:\n",
    "    dict_reader = csv.DictReader(f)\n",
    "    dict_list = list(dict_reader)\n",
    "print(dict_list)\n",
    "    \n",
    "for row in dict_list:\n",
    "    if row['job'] is None:\n",
    "        print(row['name'], row['age'], row['email'], row['address'])\n",
    "    else:\n",
    "        print(row['name'], row['age'], row['email'], row['address'], row['job'])"
   ]
  },
  {
   "cell_type": "code",
   "execution_count": 53,
   "id": "9fc0b114",
   "metadata": {},
   "outputs": [
    {
     "name": "stdout",
     "output_type": "stream",
     "text": [
      "{'Name': '홍길동', 'Age': '20', 'Email': 'kildong@hong.com', 'Address': '서울시 관악구', 'Job': ''}\n",
      "{'Name': '김길동', 'Age': '40', 'Email': 'kimdong@hong.com', 'Address': '서울시 영등포구', 'Job': '팀장'}\n",
      "{'Name': '신길동', 'Age': '30', 'Email': 'sindong@hong.com', 'Address': '서울시 동작구', 'Job': ''}\n"
     ]
    }
   ],
   "source": [
    "# header가 없는 csv파일(ch09_member1-cp.csv)을 딕셔너리로 읽기\n",
    "with open('data/ch09_member1-cp.csv', encoding='cp949') as f:\n",
    "    dict_reader = csv.DictReader(f,\n",
    "                                 fieldnames=['Name','Age','Email','Address','Job'])\n",
    "#     print(list(dict_reader))\n",
    "    for row in dict_reader:\n",
    "        print(1)\n",
    "        print(row)"
   ]
  },
  {
   "cell_type": "code",
   "execution_count": 57,
   "id": "73b91e48",
   "metadata": {},
   "outputs": [
    {
     "name": "stdout",
     "output_type": "stream",
     "text": [
      "{'Name': '홍길동', 'Age': '20', 'Email': 'kildong@hong.com', 'Address': '서울시 관악구', 'Job': ['']}\n",
      "{'Name': '김길동', 'Age': '40', 'Email': 'kimdong@hong.com', 'Address': '서울시 영등포구', 'Job': ['팀장']}\n",
      "{'Name': '신길동', 'Age': '30', 'Email': 'sindong@hong.com', 'Address': '서울시 동작구', 'Job': ['']}\n"
     ]
    }
   ],
   "source": [
    "# header가 없는 csv파일(ch09_member1-cp.csv)을 딕셔너리로 읽기\n",
    "with open('data/ch09_member1-cp.csv', encoding='cp949') as f:\n",
    "    dict_reader = csv.DictReader(f,\n",
    "                                 fieldnames=['Name','Age','Email','Address'],\n",
    "                                restkey='Job')\n",
    "    result = list(dict_reader)\n",
    "#     print(list(dict_reader))\n",
    "for row in result:\n",
    "    print(row)"
   ]
  },
  {
   "cell_type": "markdown",
   "id": "1d1397e1",
   "metadata": {},
   "source": [
    "## 3.4 DictWriter\n",
    "- 딕셔너리 리스트 -> CSV파일"
   ]
  },
  {
   "cell_type": "code",
   "execution_count": 62,
   "id": "8c2edb85",
   "metadata": {},
   "outputs": [],
   "source": [
    "user1 = {'name':'홍길동','age':22, 'email':'a@a.com', 'address':'신림동'}\n",
    "user2 = {'name':'신길동','age':32, 'email':'b@a.com', 'address':'신림동'}\n",
    "user3 = {'name':'김길동','age':42, 'email':'c@a.com', 'address':'신림동'}\n",
    "user_list = [user1, user2, user3]\n",
    "fieldnames = list(user1.keys())\n"
   ]
  },
  {
   "cell_type": "code",
   "execution_count": 66,
   "id": "984eee12",
   "metadata": {},
   "outputs": [],
   "source": [
    "with open('data/ch09_member4.csv', 'w', encoding='utf-8', newline='') as f:\n",
    "    dict_writer = csv.DictWriter(f,\n",
    "                                fieldnames=fieldnames)\n",
    "    dict_writer.writeheader() # header 쓰기\n",
    "    dict_writer.writerows(user_list)"
   ]
  },
  {
   "cell_type": "markdown",
   "id": "2ded66f3",
   "metadata": {},
   "source": [
    "## CSV <-> 데이터프레임"
   ]
  },
  {
   "cell_type": "code",
   "execution_count": 5,
   "id": "d645c17b",
   "metadata": {},
   "outputs": [
    {
     "data": {
      "text/html": [
       "<div>\n",
       "<style scoped>\n",
       "    .dataframe tbody tr th:only-of-type {\n",
       "        vertical-align: middle;\n",
       "    }\n",
       "\n",
       "    .dataframe tbody tr th {\n",
       "        vertical-align: top;\n",
       "    }\n",
       "\n",
       "    .dataframe thead th {\n",
       "        text-align: right;\n",
       "    }\n",
       "</style>\n",
       "<table border=\"1\" class=\"dataframe\">\n",
       "  <thead>\n",
       "    <tr style=\"text-align: right;\">\n",
       "      <th></th>\n",
       "      <th>name</th>\n",
       "      <th>age</th>\n",
       "      <th>email</th>\n",
       "      <th>address</th>\n",
       "      <th>job</th>\n",
       "    </tr>\n",
       "  </thead>\n",
       "  <tbody>\n",
       "    <tr>\n",
       "      <th>0</th>\n",
       "      <td>홍길동</td>\n",
       "      <td>20</td>\n",
       "      <td>h@h.com</td>\n",
       "      <td>서울시 관악구</td>\n",
       "      <td>NaN</td>\n",
       "    </tr>\n",
       "    <tr>\n",
       "      <th>1</th>\n",
       "      <td>신길동</td>\n",
       "      <td>40</td>\n",
       "      <td>s@h.com</td>\n",
       "      <td>서울시 영등포구</td>\n",
       "      <td>팀장</td>\n",
       "    </tr>\n",
       "    <tr>\n",
       "      <th>2</th>\n",
       "      <td>김길동</td>\n",
       "      <td>30</td>\n",
       "      <td>k@h.com</td>\n",
       "      <td>서울시 동작구</td>\n",
       "      <td>NaN</td>\n",
       "    </tr>\n",
       "  </tbody>\n",
       "</table>\n",
       "</div>"
      ],
      "text/plain": [
       "  name  age    email   address  job\n",
       "0  홍길동   20  h@h.com   서울시 관악구  NaN\n",
       "1  신길동   40  s@h.com  서울시 영등포구   팀장\n",
       "2  김길동   30  k@h.com   서울시 동작구  NaN"
      ]
     },
     "execution_count": 5,
     "metadata": {},
     "output_type": "execute_result"
    }
   ],
   "source": [
    "import pandas as pd\n",
    "member = pd.read_csv('data/ch09_member3.csv')\n",
    "member"
   ]
  },
  {
   "cell_type": "code",
   "execution_count": 6,
   "id": "5a0b65a4",
   "metadata": {},
   "outputs": [
    {
     "data": {
      "text/plain": [
       "pandas.core.frame.DataFrame"
      ]
     },
     "execution_count": 6,
     "metadata": {},
     "output_type": "execute_result"
    }
   ],
   "source": [
    "type(member)"
   ]
  },
  {
   "cell_type": "markdown",
   "id": "d6f51a14",
   "metadata": {},
   "source": [
    "# 4절. JSON 데이터 저장하고 불러오기(dump, load)\n",
    "- 딕셔너리리스트 <-> JSON 파일(기본)\n",
    "- 객체리스트 <-> JSON 파일\n",
    "## 4.1 dump(파일 출력)"
   ]
  },
  {
   "cell_type": "code",
   "execution_count": 7,
   "id": "f5ee2062",
   "metadata": {},
   "outputs": [],
   "source": [
    "data = [{'name': '홍길동', 'age': 20, 'email': 'kildong@hong.com', 'address': '서울'},\n",
    "        {'name': '김길동', 'age': 30, 'email': 'kimdong@hong.com', 'address': '인천'}]"
   ]
  },
  {
   "cell_type": "code",
   "execution_count": 6,
   "id": "bfdb5625",
   "metadata": {},
   "outputs": [
    {
     "ename": "NameError",
     "evalue": "name 'data' is not defined",
     "output_type": "error",
     "traceback": [
      "\u001b[1;31m---------------------------------------------------------------------------\u001b[0m",
      "\u001b[1;31mNameError\u001b[0m                                 Traceback (most recent call last)",
      "Cell \u001b[1;32mIn[6], line 6\u001b[0m\n\u001b[0;32m      4\u001b[0m \u001b[38;5;28;01mimport\u001b[39;00m \u001b[38;5;21;01mjson\u001b[39;00m\n\u001b[0;32m      5\u001b[0m \u001b[38;5;28;01mwith\u001b[39;00m \u001b[38;5;28mopen\u001b[39m(\u001b[38;5;124m'\u001b[39m\u001b[38;5;124mdata/ch09_member1.json\u001b[39m\u001b[38;5;124m'\u001b[39m, \u001b[38;5;124m'\u001b[39m\u001b[38;5;124mw\u001b[39m\u001b[38;5;124m'\u001b[39m, encoding\u001b[38;5;241m=\u001b[39m\u001b[38;5;124m'\u001b[39m\u001b[38;5;124mutf-8\u001b[39m\u001b[38;5;124m'\u001b[39m) \u001b[38;5;28;01mas\u001b[39;00m jsonfile:\n\u001b[1;32m----> 6\u001b[0m     json\u001b[38;5;241m.\u001b[39mdump(\u001b[43mdata\u001b[49m, \u001b[38;5;66;03m#딕셔너리 리스트\u001b[39;00m\n\u001b[0;32m      7\u001b[0m              jsonfile,\n\u001b[0;32m      8\u001b[0m              ensure_ascii\u001b[38;5;241m=\u001b[39m\u001b[38;5;28;01mFalse\u001b[39;00m)\n",
      "\u001b[1;31mNameError\u001b[0m: name 'data' is not defined"
     ]
    }
   ],
   "source": [
    "# ensure_ascii 매개변수\n",
    "    #True : 비 ASCII 문은 유니코드 형태로 저장\n",
    "    #False : 비 ASCII 문자 원래 형태로 저장\n",
    "import json\n",
    "with open('data/ch09_member1.json', 'w', encoding='utf-8') as jsonfile:\n",
    "    json.dump(data, #딕셔너리 리스트\n",
    "             jsonfile,\n",
    "             ensure_ascii=False)"
   ]
  },
  {
   "cell_type": "code",
   "execution_count": 17,
   "id": "386a47d4",
   "metadata": {},
   "outputs": [],
   "source": [
    "class Member:\n",
    "    def __init__(self, name, age, email, address):\n",
    "        self.name = name\n",
    "        self.age = age\n",
    "        self.email = email\n",
    "        self.address = address\n",
    "    def __str__(self):\n",
    "        return \"{}, {}, {}, {}\".format(self.name,\n",
    "                                      self.age,\n",
    "                                      self.email,\n",
    "                                      self.address)\n",
    "    def as_dict(self):\n",
    "        return {\n",
    "            'name':self.name,\n",
    "            'age':self.age,\n",
    "            'email':self.email,\n",
    "            'address':self.address\n",
    "                }\n",
    "    def __eq__(self, other):\n",
    "        if isinstance(other, Member):\n",
    "            return self.__dict__ == other.__dict__\n",
    "#             return self.__str__() == other.__str__()\n",
    "        \n",
    "        else:\n",
    "            return False"
   ]
  },
  {
   "cell_type": "code",
   "execution_count": 18,
   "id": "e38da1cc",
   "metadata": {},
   "outputs": [
    {
     "name": "stdout",
     "output_type": "stream",
     "text": [
      "False\n",
      "False\n"
     ]
    }
   ],
   "source": [
    "user1 = Member('홍길동',22,'a@a.com','신림동')\n",
    "user2 = Member('홍길동',22,'a@a.com','신림동')\n",
    "print(user1.__eq__('홍길동'))\n",
    "print(user1=='홍길동')"
   ]
  },
  {
   "cell_type": "code",
   "execution_count": 19,
   "id": "263860e4",
   "metadata": {},
   "outputs": [],
   "source": [
    "member_list = [Member('홍길동',22,'a@a.com','서울'),\n",
    "               Member('신길동',32,'a@a.com','서울'),\n",
    "               Member('김길동',42,'a@a.com','서울')]"
   ]
  },
  {
   "cell_type": "code",
   "execution_count": 20,
   "id": "ed2517ad",
   "metadata": {},
   "outputs": [],
   "source": [
    "with open('data/ch09_member1.json', 'w', encoding='utf-8') as jsonfile:\n",
    "    json.dump(member_list, # 객체 리스트\n",
    "             jsonfile,\n",
    "             ensure_ascii=False,\n",
    "             indent='\\t',\n",
    "             default=Member.as_dict # 객체를 딕셔너리로 return 하는 인스턴스 함수\n",
    "             )"
   ]
  },
  {
   "cell_type": "markdown",
   "id": "50166767",
   "metadata": {},
   "source": [
    "## 4.2 load(파일 입력)\n",
    "- json 파일 -> 딕셔너리 리스트(기본)\n",
    "                  ↓\n",
    "- json 파일 -> 객체리스트"
   ]
  },
  {
   "cell_type": "code",
   "execution_count": 21,
   "id": "a00f2f7e",
   "metadata": {},
   "outputs": [],
   "source": [
    "def as_member(dic):\n",
    "    '매개변수로 딕셔너리를 받아 Member 객체를 return'\n",
    "    return Member(dic.get('name'), dic['age'], dic.get('email'), dic.get('address'))"
   ]
  },
  {
   "cell_type": "code",
   "execution_count": 22,
   "id": "f1f4c125",
   "metadata": {},
   "outputs": [
    {
     "name": "stdout",
     "output_type": "stream",
     "text": [
      "김길동, 20, z@a.com, 관약\n"
     ]
    }
   ],
   "source": [
    "member = as_member({'name':'김길동', 'age':20, 'email':'z@a.com', 'address':'관약'})\n",
    "print(member)"
   ]
  },
  {
   "cell_type": "code",
   "execution_count": 23,
   "id": "b7c429a7",
   "metadata": {},
   "outputs": [
    {
     "data": {
      "text/plain": [
       "[{'name': '홍길동', 'age': 20, 'email': 'kildong@hong.com', 'address': '서울'},\n",
       " {'name': '김길동', 'age': 30, 'email': 'kimdong@hong.com', 'address': '인천'}]"
      ]
     },
     "execution_count": 23,
     "metadata": {},
     "output_type": "execute_result"
    }
   ],
   "source": [
    "with open('data/ch09_member.json', 'r', encoding='utf-8') as f:\n",
    "    load_data = json.load(f)\n",
    "load_data"
   ]
  },
  {
   "cell_type": "code",
   "execution_count": 24,
   "id": "193793c6",
   "metadata": {},
   "outputs": [
    {
     "name": "stdout",
     "output_type": "stream",
     "text": [
      "홍길동, 22, a@a.com, 서울\n",
      "신길동, 32, a@a.com, 서울\n",
      "김길동, 42, a@a.com, 서울\n"
     ]
    }
   ],
   "source": [
    "with open('data/ch09_member1.json', 'r', encoding='utf-8') as f:\n",
    "    load_member_list = json.load(f, object_hook=as_member)\n",
    "for load_member in load_member_list:\n",
    "    print(load_member)"
   ]
  },
  {
   "cell_type": "markdown",
   "id": "bead52fc",
   "metadata": {},
   "source": [
    "## JSON -> 데이터프레임"
   ]
  },
  {
   "cell_type": "code",
   "execution_count": 16,
   "id": "41c3cc50",
   "metadata": {},
   "outputs": [
    {
     "data": {
      "text/html": [
       "<div>\n",
       "<style scoped>\n",
       "    .dataframe tbody tr th:only-of-type {\n",
       "        vertical-align: middle;\n",
       "    }\n",
       "\n",
       "    .dataframe tbody tr th {\n",
       "        vertical-align: top;\n",
       "    }\n",
       "\n",
       "    .dataframe thead th {\n",
       "        text-align: right;\n",
       "    }\n",
       "</style>\n",
       "<table border=\"1\" class=\"dataframe\">\n",
       "  <thead>\n",
       "    <tr style=\"text-align: right;\">\n",
       "      <th></th>\n",
       "      <th>name</th>\n",
       "      <th>age</th>\n",
       "      <th>email</th>\n",
       "      <th>address</th>\n",
       "    </tr>\n",
       "  </thead>\n",
       "  <tbody>\n",
       "    <tr>\n",
       "      <th>0</th>\n",
       "      <td>홍길동</td>\n",
       "      <td>22</td>\n",
       "      <td>a@a.com</td>\n",
       "      <td>서울</td>\n",
       "    </tr>\n",
       "    <tr>\n",
       "      <th>1</th>\n",
       "      <td>신길동</td>\n",
       "      <td>32</td>\n",
       "      <td>a@a.com</td>\n",
       "      <td>서울</td>\n",
       "    </tr>\n",
       "    <tr>\n",
       "      <th>2</th>\n",
       "      <td>김길동</td>\n",
       "      <td>42</td>\n",
       "      <td>a@a.com</td>\n",
       "      <td>서울</td>\n",
       "    </tr>\n",
       "  </tbody>\n",
       "</table>\n",
       "</div>"
      ],
      "text/plain": [
       "  name  age    email address\n",
       "0  홍길동   22  a@a.com      서울\n",
       "1  신길동   32  a@a.com      서울\n",
       "2  김길동   42  a@a.com      서울"
      ]
     },
     "execution_count": 16,
     "metadata": {},
     "output_type": "execute_result"
    }
   ],
   "source": [
    "import pandas as pd\n",
    "pd.read_json('data/ch09_member1.json')\n",
    "# pd.함수() : encoding='utf-8' 기본값\n",
    "# open(파일, 모드)함수 : encoding='cp949' 기본값"
   ]
  },
  {
   "cell_type": "markdown",
   "id": "7def1af9",
   "metadata": {},
   "source": [
    "# 5절. 연습문제\n",
    "## 실습형"
   ]
  },
  {
   "cell_type": "code",
   "execution_count": 26,
   "id": "47acb362",
   "metadata": {},
   "outputs": [
    {
     "ename": "NameError",
     "evalue": "name 'main' is not defined",
     "output_type": "error",
     "traceback": [
      "\u001b[1;31m---------------------------------------------------------------------------\u001b[0m",
      "\u001b[1;31mNameError\u001b[0m                                 Traceback (most recent call last)",
      "Cell \u001b[1;32mIn[26], line 3\u001b[0m\n\u001b[0;32m      1\u001b[0m \u001b[38;5;66;03m# 1.\u001b[39;00m\n\u001b[0;32m      2\u001b[0m \u001b[38;5;28;01mif\u001b[39;00m \u001b[38;5;18m__name__\u001b[39m \u001b[38;5;241m==\u001b[39m \u001b[38;5;124m\"\u001b[39m\u001b[38;5;124m__main__\u001b[39m\u001b[38;5;124m\"\u001b[39m:\n\u001b[1;32m----> 3\u001b[0m     \u001b[43mmain\u001b[49m()\n",
      "\u001b[1;31mNameError\u001b[0m: name 'main' is not defined"
     ]
    }
   ],
   "source": [
    "# 1.\n",
    "if __name__ == \"__main__\":\n",
    "    main()"
   ]
  },
  {
   "cell_type": "code",
   "execution_count": null,
   "id": "79117637",
   "metadata": {},
   "outputs": [],
   "source": []
  },
  {
   "cell_type": "code",
   "execution_count": null,
   "id": "1eee9709",
   "metadata": {},
   "outputs": [],
   "source": []
  },
  {
   "cell_type": "code",
   "execution_count": null,
   "id": "b8f26452",
   "metadata": {},
   "outputs": [],
   "source": []
  },
  {
   "cell_type": "code",
   "execution_count": null,
   "id": "c43e4235",
   "metadata": {},
   "outputs": [],
   "source": []
  },
  {
   "cell_type": "code",
   "execution_count": null,
   "id": "3a860061",
   "metadata": {},
   "outputs": [],
   "source": []
  },
  {
   "cell_type": "code",
   "execution_count": null,
   "id": "b5f34482",
   "metadata": {},
   "outputs": [],
   "source": []
  },
  {
   "cell_type": "code",
   "execution_count": null,
   "id": "993cf059",
   "metadata": {},
   "outputs": [],
   "source": []
  },
  {
   "cell_type": "code",
   "execution_count": null,
   "id": "a01a6a4c",
   "metadata": {},
   "outputs": [],
   "source": []
  },
  {
   "cell_type": "code",
   "execution_count": null,
   "id": "67892a98",
   "metadata": {},
   "outputs": [],
   "source": []
  },
  {
   "cell_type": "code",
   "execution_count": null,
   "id": "53efbfb8",
   "metadata": {},
   "outputs": [],
   "source": []
  },
  {
   "cell_type": "code",
   "execution_count": null,
   "id": "eb5784e0",
   "metadata": {},
   "outputs": [],
   "source": []
  },
  {
   "cell_type": "code",
   "execution_count": null,
   "id": "e532f93b",
   "metadata": {},
   "outputs": [],
   "source": []
  },
  {
   "cell_type": "code",
   "execution_count": null,
   "id": "1aa4d0de",
   "metadata": {},
   "outputs": [],
   "source": []
  },
  {
   "cell_type": "code",
   "execution_count": null,
   "id": "91d0b7f7",
   "metadata": {},
   "outputs": [],
   "source": []
  }
 ],
 "metadata": {
  "kernelspec": {
   "display_name": "Python 3 (ipykernel)",
   "language": "python",
   "name": "python3"
  },
  "language_info": {
   "codemirror_mode": {
    "name": "ipython",
    "version": 3
   },
   "file_extension": ".py",
   "mimetype": "text/x-python",
   "name": "python",
   "nbconvert_exporter": "python",
   "pygments_lexer": "ipython3",
   "version": "3.10.9"
  },
  "toc": {
   "base_numbering": 1,
   "nav_menu": {},
   "number_sections": false,
   "sideBar": true,
   "skip_h1_title": false,
   "title_cell": "Table of Contents",
   "title_sidebar": "Contents",
   "toc_cell": false,
   "toc_position": {
    "height": "calc(100% - 180px)",
    "left": "10px",
    "top": "150px",
    "width": "165px"
   },
   "toc_section_display": true,
   "toc_window_display": true
  }
 },
 "nbformat": 4,
 "nbformat_minor": 5
}
