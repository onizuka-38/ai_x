{
 "cells": [
  {
   "cell_type": "code",
   "execution_count": 3,
   "id": "cc37f29d",
   "metadata": {},
   "outputs": [
    {
     "data": {
      "text/html": [
       "\n",
       "<style>\n",
       "div.container{width:86% !important;}\n",
       "div.cell.code_cell.rendered{width:100%;}\n",
       "div.CodeMirror {font-family:Consolas; font-size:12pt;}\n",
       "div.output {font-size:15pt; font-weight:bold;}\n",
       "div.input {font-family:Consolas; font-size:12pt;}\n",
       "div.prompt {min-width:70px;}\n",
       "div#toc-wrapper{padding-top:120px;}\n",
       "div.text_cell_render ul li{font-size:12pt;padding:5px;}\n",
       "table.dataframe{font-size:12px;}\n",
       "</style>\n"
      ],
      "text/plain": [
       "<IPython.core.display.HTML object>"
      ]
     },
     "metadata": {},
     "output_type": "display_data"
    }
   ],
   "source": [
    "from IPython.display import display, HTML\n",
    "display(HTML(\"\"\"\n",
    "<style>\n",
    "div.container{width:86% !important;}\n",
    "div.cell.code_cell.rendered{width:100%;}\n",
    "div.CodeMirror {font-family:Consolas; font-size:12pt;}\n",
    "div.output {font-size:15pt; font-weight:bold;}\n",
    "div.input {font-family:Consolas; font-size:12pt;}\n",
    "div.prompt {min-width:70px;}\n",
    "div#toc-wrapper{padding-top:120px;}\n",
    "div.text_cell_render ul li{font-size:12pt;padding:5px;}\n",
    "table.dataframe{font-size:12px;}\n",
    "</style>\n",
    "\"\"\"))"
   ]
  },
  {
   "cell_type": "markdown",
   "id": "f2229109",
   "metadata": {},
   "source": [
    "<b><font size=\"5\" color=\"red\" >ch05_함수</font></b>\n",
    "- 사용할 코드를 묶어 놓고 그것에 이름을 붙인 것\n",
    "- 오버로닝(함수 이름이 같고, 매개변수의 타입이나 갯수로 다른 함수를 허용하는 것) 불가\n",
    "- 함수 정의\n",
    "\n",
    "```\n",
    "def 함수명([매개변수1, 매개변수2, 매개변수n]):\n",
    "    명령어1\n",
    "    명령어2\n",
    "    명령어n\n",
    "```\n",
    "\n",
    "# 1절. 함수의 정의 및 사용\n",
    "## 1.1 함수 정의"
   ]
  },
  {
   "cell_type": "code",
   "execution_count": null,
   "id": "fc0d8cb1",
   "metadata": {},
   "outputs": [],
   "source": [
    "# 함수 정의\n",
    "def my_message(x, msg):  #msg를 x번 출력하는 함수\n",
    "    for i in range(x):\n",
    "        print(msg)"
   ]
  },
  {
   "cell_type": "code",
   "execution_count": null,
   "id": "b2ef7459",
   "metadata": {},
   "outputs": [],
   "source": [
    "my_message(5,'w')\n"
   ]
  },
  {
   "cell_type": "code",
   "execution_count": null,
   "id": "46175534",
   "metadata": {},
   "outputs": [],
   "source": [
    "my_msg = my_message\n",
    "my_msg(5, 'hello')\n"
   ]
  },
  {
   "cell_type": "code",
   "execution_count": null,
   "id": "2193752f",
   "metadata": {},
   "outputs": [],
   "source": [
    "type(my_msg), type(my_message)"
   ]
  },
  {
   "cell_type": "code",
   "execution_count": null,
   "id": "731d0d06",
   "metadata": {},
   "outputs": [],
   "source": [
    "print('Hello') # 파이썬 내장함수(import 하지 않고 사용할 수 있는 함수)\n",
    "print = 5\n",
    "del print\n",
    "print('Hello')"
   ]
  },
  {
   "cell_type": "code",
   "execution_count": null,
   "id": "f6ea4777",
   "metadata": {},
   "outputs": [],
   "source": [
    "my_message(2,'hello')"
   ]
  },
  {
   "cell_type": "code",
   "execution_count": null,
   "id": "bbdc3ef8",
   "metadata": {},
   "outputs": [],
   "source": [
    "del my_message\n",
    "# 변수를 삭제해도 함수 사용불가(파이썬 내장함수가 아니라서)"
   ]
  },
  {
   "cell_type": "code",
   "execution_count": 4,
   "id": "1b4526f6",
   "metadata": {},
   "outputs": [],
   "source": [
    "# 함수 정의 : 4월 16일(수)\n",
    "def my_hello():\n",
    "    print('Hello, Python')\n",
    "    print('Hello, World')\n",
    "def my_hello(cnt):\n",
    "    for i in range(cnt):\n",
    "        print('Hello, Python')\n",
    "        print('Hello, World')"
   ]
  },
  {
   "cell_type": "code",
   "execution_count": 5,
   "id": "882ae138",
   "metadata": {},
   "outputs": [
    {
     "name": "stdout",
     "output_type": "stream",
     "text": [
      "Hello, Python\n",
      "Hello, World\n",
      "Hello, Python\n",
      "Hello, World\n"
     ]
    }
   ],
   "source": [
    "#함수사용 = 함수호출\n",
    "my_hello(2)"
   ]
  },
  {
   "cell_type": "code",
   "execution_count": 6,
   "id": "af3c5014",
   "metadata": {},
   "outputs": [
    {
     "data": {
      "text/plain": [
       "'__main__'"
      ]
     },
     "execution_count": 6,
     "metadata": {},
     "output_type": "execute_result"
    }
   ],
   "source": [
    "__name__"
   ]
  },
  {
   "cell_type": "code",
   "execution_count": 11,
   "id": "355fbda7",
   "metadata": {},
   "outputs": [
    {
     "name": "stdout",
     "output_type": "stream",
     "text": [
      "Hello, Python\n",
      "Hello, World\n",
      "Hello, Python\n",
      "Hello, World\n"
     ]
    }
   ],
   "source": [
    "if __name__ == '__main__':\n",
    "    my_hello(2)"
   ]
  },
  {
   "cell_type": "code",
   "execution_count": 1,
   "id": "fe336d7b",
   "metadata": {},
   "outputs": [],
   "source": [
    "import ch05  # ch05 모듈을 Load"
   ]
  },
  {
   "cell_type": "code",
   "execution_count": 2,
   "id": "9359b42f",
   "metadata": {},
   "outputs": [
    {
     "name": "stdout",
     "output_type": "stream",
     "text": [
      "Hello, Python\n",
      "Hello, World\n",
      "Hello, Python\n",
      "Hello, World\n"
     ]
    }
   ],
   "source": [
    "ch05.my_hello(2)"
   ]
  },
  {
   "cell_type": "code",
   "execution_count": 3,
   "id": "7dcac088",
   "metadata": {},
   "outputs": [],
   "source": [
    "from ch05 import my_hello  # ch05 모듈 안의 my_hello Load"
   ]
  },
  {
   "cell_type": "markdown",
   "id": "fc46e476",
   "metadata": {},
   "source": [
    "## 1.2 docstring"
   ]
  },
  {
   "cell_type": "code",
   "execution_count": 6,
   "id": "d52fcd71",
   "metadata": {},
   "outputs": [],
   "source": [
    "def my_function():\n",
    "    '''\n",
    "    함수의 첫라인에 독스트링을 포함할 수 있습니다\n",
    "    독스트링은 함수의 설명서를 달아주는 역할\n",
    "    주석보다 많은 기능(shift+tab으로 독스트링을 볼 수 있음)\n",
    "    '''\n",
    "    pass"
   ]
  },
  {
   "cell_type": "code",
   "execution_count": 7,
   "id": "1e151f14",
   "metadata": {},
   "outputs": [
    {
     "name": "stdout",
     "output_type": "stream",
     "text": [
      "\n",
      "    함수의 첫라인에 독스트링을 포함할 수 있습니다\n",
      "    독스트링은 함수의 설명서를 달아주는 역할\n",
      "    주석보다 많은 기능(shift+tab으로 독스트링을 볼 수 있음)\n",
      "    \n"
     ]
    }
   ],
   "source": [
    "print(my_function.__doc__)"
   ]
  },
  {
   "cell_type": "code",
   "execution_count": 13,
   "id": "7c65f0b1",
   "metadata": {},
   "outputs": [],
   "source": [
    "def fibonacci(n):\n",
    "    a, b = 0, 1\n",
    "    while a < n:\n",
    "        print(a, end=' ')\n",
    "        a, b = b, a+b\n",
    "    print()  # 개행"
   ]
  },
  {
   "cell_type": "code",
   "execution_count": 14,
   "id": "3514a471",
   "metadata": {},
   "outputs": [
    {
     "name": "stdout",
     "output_type": "stream",
     "text": [
      "0 1 1 2 3 5 8 \n"
     ]
    }
   ],
   "source": [
    "fibonacci(10)"
   ]
  },
  {
   "cell_type": "markdown",
   "id": "6eb4f25e",
   "metadata": {},
   "source": [
    "## 1.3 지역변수(local var)와 전역변수(global var)"
   ]
  },
  {
   "cell_type": "code",
   "execution_count": 15,
   "id": "b4083d48",
   "metadata": {},
   "outputs": [
    {
     "name": "stdout",
     "output_type": "stream",
     "text": [
      "함수안 : 100\n",
      "함수 밖 : 100\n"
     ]
    }
   ],
   "source": [
    "global_var = 100 # 지역변수\n",
    "def func1():\n",
    "    print('함수안 :', global_var)\n",
    "func1()\n",
    "print('함수 밖 :', global_var)"
   ]
  },
  {
   "cell_type": "code",
   "execution_count": 16,
   "id": "ae5c7f1b",
   "metadata": {},
   "outputs": [
    {
     "ename": "NameError",
     "evalue": "name 'func2' is not defined",
     "output_type": "error",
     "traceback": [
      "\u001b[1;31m---------------------------------------------------------------------------\u001b[0m",
      "\u001b[1;31mNameError\u001b[0m                                 Traceback (most recent call last)",
      "Cell \u001b[1;32mIn[16], line 4\u001b[0m\n\u001b[0;32m      2\u001b[0m     local_var \u001b[38;5;241m=\u001b[39m \u001b[38;5;241m200\u001b[39m  \u001b[38;5;66;03m# 지역변수\u001b[39;00m\n\u001b[0;32m      3\u001b[0m     \u001b[38;5;28mprint\u001b[39m(\u001b[38;5;124m'\u001b[39m\u001b[38;5;124m함수 안 :\u001b[39m\u001b[38;5;124m'\u001b[39m, local_var)\n\u001b[1;32m----> 4\u001b[0m \u001b[43mfunc2\u001b[49m\n\u001b[0;32m      5\u001b[0m \u001b[38;5;28mprint\u001b[39m(\u001b[38;5;124m'\u001b[39m\u001b[38;5;124m함수 밖 :\u001b[39m\u001b[38;5;124m'\u001b[39m, local_var)\n",
      "\u001b[1;31mNameError\u001b[0m: name 'func2' is not defined"
     ]
    }
   ],
   "source": [
    "def fun2():\n",
    "    local_var = 200  # 지역변수\n",
    "    print('함수 안 :', local_var)\n",
    "func2\n",
    "print('함수 밖 :', local_var)"
   ]
  },
  {
   "cell_type": "code",
   "execution_count": 22,
   "id": "c34a718a",
   "metadata": {},
   "outputs": [
    {
     "name": "stdout",
     "output_type": "stream",
     "text": [
      "함수 안(지역변수 g_var) : 200\n",
      "함수 밖(전역변수 g_var) : 100\n"
     ]
    }
   ],
   "source": [
    "g_var = 100 #전역변수\n",
    "def func3():\n",
    "    g_var = 200  # 지역변수(변수 선언과 할당)\n",
    "    print('함수 안(지역변수 g_var) :', g_var)\n",
    "func3()\n",
    "print('함수 밖(전역변수 g_var) :', g_var)"
   ]
  },
  {
   "cell_type": "code",
   "execution_count": 23,
   "id": "0ddc1e69",
   "metadata": {},
   "outputs": [
    {
     "ename": "UnboundLocalError",
     "evalue": "local variable 'g_var' referenced before assignment",
     "output_type": "error",
     "traceback": [
      "\u001b[1;31m---------------------------------------------------------------------------\u001b[0m",
      "\u001b[1;31mUnboundLocalError\u001b[0m                         Traceback (most recent call last)",
      "Cell \u001b[1;32mIn[23], line 5\u001b[0m\n\u001b[0;32m      3\u001b[0m     \u001b[38;5;28mprint\u001b[39m(\u001b[38;5;124m'\u001b[39m\u001b[38;5;124m함수 안 g_var :\u001b[39m\u001b[38;5;124m'\u001b[39m, g_var)\n\u001b[0;32m      4\u001b[0m     g_var \u001b[38;5;241m=\u001b[39m \u001b[38;5;241m200\u001b[39m \u001b[38;5;66;03m# 지역변수\u001b[39;00m\n\u001b[1;32m----> 5\u001b[0m \u001b[43mfunc4\u001b[49m\u001b[43m(\u001b[49m\u001b[43m)\u001b[49m\n",
      "Cell \u001b[1;32mIn[23], line 3\u001b[0m, in \u001b[0;36mfunc4\u001b[1;34m()\u001b[0m\n\u001b[0;32m      2\u001b[0m \u001b[38;5;28;01mdef\u001b[39;00m \u001b[38;5;21mfunc4\u001b[39m():\n\u001b[1;32m----> 3\u001b[0m     \u001b[38;5;28mprint\u001b[39m(\u001b[38;5;124m'\u001b[39m\u001b[38;5;124m함수 안 g_var :\u001b[39m\u001b[38;5;124m'\u001b[39m, \u001b[43mg_var\u001b[49m)\n\u001b[0;32m      4\u001b[0m     g_var \u001b[38;5;241m=\u001b[39m \u001b[38;5;241m200\u001b[39m\n",
      "\u001b[1;31mUnboundLocalError\u001b[0m: local variable 'g_var' referenced before assignment"
     ]
    }
   ],
   "source": [
    "# 렉시컬 특성\n",
    "\n",
    "g_var = 100 # 전역변수\n",
    "def func4():\n",
    "    print('함수 안 g_var :', g_var)\n",
    "    g_var = 200 # 지역변수\n",
    "func4()"
   ]
  },
  {
   "cell_type": "code",
   "execution_count": 27,
   "id": "41882b8a",
   "metadata": {},
   "outputs": [
    {
     "name": "stdout",
     "output_type": "stream",
     "text": [
      "함수 안 g_var : 100\n",
      "함수 밖(전역변수 g_var) : 200\n"
     ]
    }
   ],
   "source": [
    "# 렉시컬 특성\n",
    "\n",
    "g_var = 100 # 전역변수\n",
    "def func4():\n",
    "    global g_var  # func4 함수내의 g_var는 전역변수를 쓴다\n",
    "    print('함수 안 g_var :', g_var)\n",
    "    g_var = 200 # 전역변수\n",
    "func4()\n",
    "print('함수 밖(전역변수 g_var) :', g_var)"
   ]
  },
  {
   "cell_type": "markdown",
   "id": "13aeaa3e",
   "metadata": {},
   "source": [
    "## 1.4 값에 의한 호출\n",
    "- 함수의 매개변수(인수)로 전달되는 변수가 스칼라 변수(문자, 숫자, 논리형)일 때"
   ]
  },
  {
   "cell_type": "code",
   "execution_count": 38,
   "id": "a3f5c993",
   "metadata": {},
   "outputs": [
    {
     "data": {
      "text/plain": [
       "1450698867216"
      ]
     },
     "execution_count": 38,
     "metadata": {},
     "output_type": "execute_result"
    }
   ],
   "source": [
    "foo = 10 # 전역변수\n",
    "id(foo)"
   ]
  },
  {
   "cell_type": "code",
   "execution_count": 40,
   "id": "8e6241b2",
   "metadata": {},
   "outputs": [
    {
     "name": "stdout",
     "output_type": "stream",
     "text": [
      "Before : 10  id(f) : 1450698867216\n",
      "After : 30  id(f) : 1450698867856\n"
     ]
    }
   ],
   "source": [
    "def func1(f): # 매개변수는 지역변수\n",
    "    print('Before :', f , ' id(f) :', id(f))\n",
    "    f = f*3\n",
    "    print('After :', f , ' id(f) :', id(f))\n",
    "func1(foo)"
   ]
  },
  {
   "cell_type": "code",
   "execution_count": 46,
   "id": "6bf92b39",
   "metadata": {},
   "outputs": [
    {
     "name": "stdout",
     "output_type": "stream",
     "text": [
      "10\n"
     ]
    }
   ],
   "source": [
    "print(foo)"
   ]
  },
  {
   "cell_type": "markdown",
   "id": "3e9927a2",
   "metadata": {},
   "source": [
    "## 1.5 참조에 의한 호출\n",
    "- 함수의 매개변수(인자)로 전달되는 변수가 리스트, 튜플, 셋, 딕셔너리, 객체 일 경우"
   ]
  },
  {
   "cell_type": "code",
   "execution_count": 33,
   "id": "2d4e3127",
   "metadata": {},
   "outputs": [
    {
     "data": {
      "text/plain": [
       "1450824103680"
      ]
     },
     "execution_count": 33,
     "metadata": {},
     "output_type": "execute_result"
    }
   ],
   "source": [
    "L = [1, 2, 3]\n",
    "id(L)"
   ]
  },
  {
   "cell_type": "code",
   "execution_count": 42,
   "id": "7132816e",
   "metadata": {},
   "outputs": [
    {
     "name": "stdout",
     "output_type": "stream",
     "text": [
      "Before : [1, 2, 3, 4] 1450824103680\n",
      "After : [1, 2, 3, 4, 4] 1450824103680\n"
     ]
    }
   ],
   "source": [
    "def func2(f):  #매개변수는 지역변수\n",
    "    print('Before :', f, id(f))\n",
    "    f.append(4)\n",
    "    print('After :', f, id(f))\n",
    "func2(L)"
   ]
  },
  {
   "cell_type": "code",
   "execution_count": 43,
   "id": "3debb225",
   "metadata": {},
   "outputs": [
    {
     "name": "stdout",
     "output_type": "stream",
     "text": [
      "L =  [1, 2, 3, 4, 4] 1450824103680\n"
     ]
    }
   ],
   "source": [
    "print('L = ', L, id(L))"
   ]
  },
  {
   "cell_type": "markdown",
   "id": "6a86d427",
   "metadata": {},
   "source": [
    "# 2절. 함수의 실행결과를 반환하는 return"
   ]
  },
  {
   "cell_type": "code",
   "execution_count": 58,
   "id": "ec038866",
   "metadata": {},
   "outputs": [],
   "source": [
    "def fibonacci_print(n):\n",
    "    '''\n",
    "    매개변수로 들어온 n값 미만의 피보나치 수열을 출력\n",
    "    ex. n=10 이면 0 1 1 2 3 5 8 을 출력\n",
    "    '''    \n",
    "    a, b = 0, 1\n",
    "    while a < n:\n",
    "        print(a, end=' ')\n",
    "        a, b = b, a+b\n",
    "    print()  # 개행\n",
    "    \n",
    "def fibonacci_return(n):\n",
    "    result=[]\n",
    "    a, b = 0, 1\n",
    "    while a < n:\n",
    "        result.append(a)\n",
    "        a, b = b, a+b\n",
    "    return result  # 개행\n",
    "    '''\n",
    "    매개변수로 들어온 n값 미만의 피보나치 수열을 리스트로 return\n",
    "    ex. n=10 이면 [0 1 1 2 3 5 8] 을 return\n",
    "    ''' \n",
    "    "
   ]
  },
  {
   "cell_type": "code",
   "execution_count": 54,
   "id": "291e0934",
   "metadata": {},
   "outputs": [
    {
     "name": "stdout",
     "output_type": "stream",
     "text": [
      "0 1 1 2 3 5 8 13 21 34 55 89 \n",
      "None\n"
     ]
    }
   ],
   "source": [
    "x = fibonacci_print(100)\n",
    "print(x)"
   ]
  },
  {
   "cell_type": "code",
   "execution_count": 59,
   "id": "93c4d097",
   "metadata": {},
   "outputs": [
    {
     "name": "stdout",
     "output_type": "stream",
     "text": [
      "[0, 1, 1, 2, 3, 5, 8, 13, 21, 34, 55, 89]\n",
      "<class 'list'>\n"
     ]
    }
   ],
   "source": [
    "x = fibonacci_return(100)\n",
    "print(x)\n",
    "print(type(x))"
   ]
  },
  {
   "cell_type": "markdown",
   "id": "acbba827",
   "metadata": {},
   "source": [
    "## 여러개 값 return"
   ]
  },
  {
   "cell_type": "code",
   "execution_count": 60,
   "id": "20a909a9",
   "metadata": {},
   "outputs": [],
   "source": [
    "def swap(a,b):\n",
    "    '매개변수의 순서를 바꿔서 return'\n",
    "    return b, a"
   ]
  },
  {
   "cell_type": "code",
   "execution_count": 70,
   "id": "457646a2",
   "metadata": {},
   "outputs": [
    {
     "name": "stdout",
     "output_type": "stream",
     "text": [
      "함수 실행 전 x=5, y=10\n",
      "함수 실행 후 x=10, y=5\n"
     ]
    }
   ],
   "source": [
    "x, y = 5,10\n",
    "print(f'함수 실행 전 x={x}, y={y}')\n",
    "x, y = swap(x, y)\n",
    "print(f'함수 실행 후 x={x}, y={y}')"
   ]
  },
  {
   "cell_type": "markdown",
   "id": "d97c755e",
   "metadata": {},
   "source": [
    "# 3절. 함수의 매개변수 ★\n",
    "## 3.1 기본값을 갖는 매개변수"
   ]
  },
  {
   "cell_type": "code",
   "execution_count": 71,
   "id": "c082ad14",
   "metadata": {},
   "outputs": [],
   "source": [
    "def make_url(ip, port=80):  # 순서인수 > 기본값을 갖는 매개변수\n",
    "    return \"http://{}:{}\".format(ip, port)"
   ]
  },
  {
   "cell_type": "code",
   "execution_count": 74,
   "id": "2f4ba3ad",
   "metadata": {},
   "outputs": [
    {
     "name": "stdout",
     "output_type": "stream",
     "text": [
      "http://www.naver.com:80\n",
      "http://localhost:8090\n",
      "http://localhost:8090\n"
     ]
    }
   ],
   "source": [
    "print(make_url('www.naver.com'))\n",
    "print(make_url('localhost', 8090))\n",
    "print(make_url(port=8090, ip='localhost'))"
   ]
  },
  {
   "cell_type": "markdown",
   "id": "8e78a2d4",
   "metadata": {},
   "source": [
    "## 3.2 기본변수를 갖는 매개변수\n",
    "- 기본변수가 스칼라 변수일 때\n",
    "- 기본변수가 리스트, 셋, 딕셔너리 등의 객체일 때"
   ]
  },
  {
   "cell_type": "code",
   "execution_count": 78,
   "id": "76ca7772",
   "metadata": {},
   "outputs": [],
   "source": [
    "i = 5\n",
    "# 기본값을 갖는 변수가 스칼라 변수일 때\n",
    "def func2(arg=i):\n",
    "    print('arg = ', arg)"
   ]
  },
  {
   "cell_type": "code",
   "execution_count": 79,
   "id": "0840a997",
   "metadata": {},
   "outputs": [
    {
     "name": "stdout",
     "output_type": "stream",
     "text": [
      "arg =  30\n"
     ]
    }
   ],
   "source": [
    "i = 50\n",
    "func2(30)"
   ]
  },
  {
   "cell_type": "code",
   "execution_count": 1,
   "id": "65d40339",
   "metadata": {},
   "outputs": [],
   "source": [
    "list_ = []\n",
    "# 기본값을 갖는 변수가 객체(데이터구조)일 때 : arg의 기본값은 함수가 호출되는 시점의 값\n",
    "def func3(data, L=list_):\n",
    "    'data를 L에 append'\n",
    "    L.append(data)\n",
    "    return L"
   ]
  },
  {
   "cell_type": "code",
   "execution_count": 2,
   "id": "a0d2a804",
   "metadata": {},
   "outputs": [
    {
     "name": "stdout",
     "output_type": "stream",
     "text": [
      "[10]\n"
     ]
    }
   ],
   "source": [
    "print(func3(10))"
   ]
  },
  {
   "cell_type": "code",
   "execution_count": 4,
   "id": "c6372776",
   "metadata": {},
   "outputs": [
    {
     "name": "stdout",
     "output_type": "stream",
     "text": [
      "[10, 20]\n"
     ]
    }
   ],
   "source": [
    "print(func3(20))"
   ]
  },
  {
   "cell_type": "code",
   "execution_count": 5,
   "id": "5e5335f4",
   "metadata": {},
   "outputs": [
    {
     "data": {
      "text/plain": [
       "[10, 20]"
      ]
     },
     "execution_count": 5,
     "metadata": {},
     "output_type": "execute_result"
    }
   ],
   "source": [
    "list_"
   ]
  },
  {
   "cell_type": "code",
   "execution_count": 6,
   "id": "86b3026b",
   "metadata": {},
   "outputs": [],
   "source": [
    "def func4(data, L=None):\n",
    "    if L==None:\n",
    "        L = []    \n",
    "    L.append(data)\n",
    "    return L"
   ]
  },
  {
   "cell_type": "code",
   "execution_count": 7,
   "id": "00370b4f",
   "metadata": {},
   "outputs": [
    {
     "name": "stdout",
     "output_type": "stream",
     "text": [
      "[10]\n",
      "[10, 20, 10]\n"
     ]
    }
   ],
   "source": [
    "print(func4(10))\n",
    "print(func4(10, list_))"
   ]
  },
  {
   "cell_type": "markdown",
   "id": "d8c6bb51",
   "metadata": {},
   "source": [
    "## 3.3 튜플 매개변수를 이용한 가변인수 설정"
   ]
  },
  {
   "cell_type": "code",
   "execution_count": null,
   "id": "52308291",
   "metadata": {},
   "outputs": [],
   "source": [
    "# 파이썬은 오버로딩(함수의 중복)을 지원하지 않습니다\n",
    "def add(a, b):\n",
    "    return a+b\n",
    "def add(a, b, c):\n",
    "    "
   ]
  },
  {
   "cell_type": "code",
   "execution_count": 15,
   "id": "49177c90",
   "metadata": {},
   "outputs": [],
   "source": [
    "# *args : 매개변수들을 하나의 튜플 변수 args로 전달받음\n",
    "def add(*args):\n",
    "    '전달받은 매개변수들의 합을 return'\n",
    "#     print('args = ', args)\n",
    "    result_tot = 0  # 누적변수\n",
    "    for data in args:\n",
    "        result_tot += data\n",
    "    return result_tot"
   ]
  },
  {
   "cell_type": "code",
   "execution_count": 19,
   "id": "020fca51",
   "metadata": {},
   "outputs": [
    {
     "name": "stdout",
     "output_type": "stream",
     "text": [
      "1\n",
      "3\n",
      "6\n",
      "16\n",
      "35\n"
     ]
    }
   ],
   "source": [
    "print(add(1))\n",
    "print(add(1,2))\n",
    "print(add(1,2,3))\n",
    "print(add(1,3,5,7))\n",
    "print(add(1,10,9,8,7))"
   ]
  },
  {
   "cell_type": "code",
   "execution_count": 22,
   "id": "a92f400b",
   "metadata": {},
   "outputs": [
    {
     "data": {
      "text/plain": [
       "'Python/Oracle/DL/ML'"
      ]
     },
     "execution_count": 22,
     "metadata": {},
     "output_type": "execute_result"
    }
   ],
   "source": [
    "subject = ('Python', 'Oracle', 'DL', 'ML')\n",
    "'/'.join(subject)"
   ]
  },
  {
   "cell_type": "code",
   "execution_count": 23,
   "id": "e4c0fdb4",
   "metadata": {},
   "outputs": [],
   "source": [
    "def concat(*subject, sep):\n",
    "    return sep.join(subject)"
   ]
  },
  {
   "cell_type": "code",
   "execution_count": 26,
   "id": "b2cf81d9",
   "metadata": {},
   "outputs": [
    {
     "ename": "TypeError",
     "evalue": "concat() missing 1 required keyword-only argument: 'sep'",
     "output_type": "error",
     "traceback": [
      "\u001b[1;31m---------------------------------------------------------------------------\u001b[0m",
      "\u001b[1;31mTypeError\u001b[0m                                 Traceback (most recent call last)",
      "Cell \u001b[1;32mIn[26], line 1\u001b[0m\n\u001b[1;32m----> 1\u001b[0m \u001b[43mconcat\u001b[49m\u001b[43m(\u001b[49m\u001b[38;5;124;43m'\u001b[39;49m\u001b[38;5;124;43mPython\u001b[39;49m\u001b[38;5;124;43m'\u001b[39;49m\u001b[43m,\u001b[49m\u001b[43m \u001b[49m\u001b[38;5;124;43m'\u001b[39;49m\u001b[38;5;124;43mOracle\u001b[39;49m\u001b[38;5;124;43m'\u001b[39;49m\u001b[43m,\u001b[49m\u001b[43m \u001b[49m\u001b[38;5;124;43m'\u001b[39;49m\u001b[38;5;124;43mDL\u001b[39;49m\u001b[38;5;124;43m'\u001b[39;49m\u001b[43m,\u001b[49m\u001b[43m \u001b[49m\u001b[38;5;124;43m'\u001b[39;49m\u001b[38;5;124;43mML\u001b[39;49m\u001b[38;5;124;43m'\u001b[39;49m\u001b[43m,\u001b[49m\u001b[43m \u001b[49m\u001b[38;5;124;43m'\u001b[39;49m\u001b[38;5;124;43m/\u001b[39;49m\u001b[38;5;124;43m'\u001b[39;49m\u001b[43m)\u001b[49m\n",
      "\u001b[1;31mTypeError\u001b[0m: concat() missing 1 required keyword-only argument: 'sep'"
     ]
    }
   ],
   "source": [
    "concat('Python', 'Oracle', 'DL', 'ML', '/')"
   ]
  },
  {
   "cell_type": "code",
   "execution_count": 27,
   "id": "564467b2",
   "metadata": {},
   "outputs": [
    {
     "data": {
      "text/plain": [
       "'Python/Oracle/DL/ML'"
      ]
     },
     "execution_count": 27,
     "metadata": {},
     "output_type": "execute_result"
    }
   ],
   "source": [
    "# 해결책 1 : 매개변수 이름을 지정해서 호출\n",
    "concat('Python', 'Oracle', 'DL', 'ML', sep='/')"
   ]
  },
  {
   "cell_type": "code",
   "execution_count": 30,
   "id": "fa08970b",
   "metadata": {},
   "outputs": [
    {
     "data": {
      "text/plain": [
       "'Python/Oracle/DL/ML'"
      ]
     },
     "execution_count": 30,
     "metadata": {},
     "output_type": "execute_result"
    }
   ],
   "source": [
    "# 해결책 2 : 기본값을 반드시 갖는 키워드인수 사용\n",
    "def concat(*subject, sep= '/'):\n",
    "    return sep.join(subject)\n",
    "concat('Python', 'Oracle', 'DL', 'ML')"
   ]
  },
  {
   "cell_type": "code",
   "execution_count": 33,
   "id": "03c17207",
   "metadata": {},
   "outputs": [
    {
     "data": {
      "text/plain": [
       "'Python/Oracle/DL/ML'"
      ]
     },
     "execution_count": 33,
     "metadata": {},
     "output_type": "execute_result"
    }
   ],
   "source": [
    "# 해결책 3 : sep을 순서인수로 앞에 선언\n",
    "def concat(sep , *subject):\n",
    "    return sep.join(subject)\n",
    "concat('/', 'Python', 'Oracle', 'DL', 'ML')"
   ]
  },
  {
   "cell_type": "markdown",
   "id": "098d7ffd",
   "metadata": {},
   "source": [
    "## 3.4 딕셔너리 매개변수\n",
    "- 여러개의 키워드인수를 딕셔너리 형태로 받아서 가변키워드 인수 처리"
   ]
  },
  {
   "cell_type": "code",
   "execution_count": null,
   "id": "460dd66b",
   "metadata": {},
   "outputs": [],
   "source": []
  },
  {
   "cell_type": "code",
   "execution_count": 40,
   "id": "97ace7d0",
   "metadata": {},
   "outputs": [],
   "source": [
    "def func5(**kwargs):\n",
    "    print(kwargs)\n",
    "    print(type(print(kwargs)))\n",
    "    print('이름 : ', kwargs.get('name', '이병헌'))\n",
    "    print('나이 : ', kwargs.get('age', 30))\n",
    "    print('주소 : ', kwargs.get('address', '서울'))"
   ]
  },
  {
   "cell_type": "code",
   "execution_count": 41,
   "id": "645ad4b9",
   "metadata": {},
   "outputs": [
    {
     "name": "stdout",
     "output_type": "stream",
     "text": [
      "{'name': '홍길동', 'age': 30, 'address': '신림동'}\n",
      "{'name': '홍길동', 'age': 30, 'address': '신림동'}\n",
      "<class 'NoneType'>\n",
      "이름 :  홍길동\n",
      "나이 :  30\n",
      "주소 :  신림동\n"
     ]
    }
   ],
   "source": [
    "func5(name='홍길동', age = 30, address='신림동')"
   ]
  },
  {
   "cell_type": "code",
   "execution_count": 42,
   "id": "af2a540b",
   "metadata": {},
   "outputs": [
    {
     "name": "stdout",
     "output_type": "stream",
     "text": [
      "{'name': '김길동'}\n",
      "{'name': '김길동'}\n",
      "<class 'NoneType'>\n",
      "이름 :  김길동\n",
      "나이 :  30\n",
      "주소 :  서울\n"
     ]
    }
   ],
   "source": [
    "func5(name='김길동')"
   ]
  },
  {
   "cell_type": "markdown",
   "id": "61f889bd",
   "metadata": {},
   "source": [
    "## 3.5 함수정의시 매개변수 순서\n",
    "- 순서인수 > 튜플매개변수 > 키워드순서(매개변수이름 반드시 명시) > 딕셔너리매개변수(**)"
   ]
  },
  {
   "cell_type": "code",
   "execution_count": 60,
   "id": "ec5722ce",
   "metadata": {},
   "outputs": [],
   "source": [
    "def func6(a, b, *c, **d):\n",
    "    print('순서인수 a :', a)\n",
    "    print('순서인수 b :', b)\n",
    "    print('튜플인수 c :', c)\n",
    "    print('딕셔너리 인수 d :', d)"
   ]
  },
  {
   "cell_type": "code",
   "execution_count": 61,
   "id": "41bafa74",
   "metadata": {},
   "outputs": [
    {
     "name": "stdout",
     "output_type": "stream",
     "text": [
      "순서인수 a : 10\n",
      "순서인수 b : 20\n",
      "튜플인수 c : (1, 2, 3, 4, 5, 6, 7, 8, 9)\n",
      "딕셔너리 인수 d : {'name': '홍길동', 'age': 30, 'address': '신림동'}\n"
     ]
    }
   ],
   "source": [
    "func6(10, 20, 1, 2, 3, 4, 5, 6, 7, 8, 9, name='홍길동', age = 30, address='신림동')"
   ]
  },
  {
   "cell_type": "code",
   "execution_count": 62,
   "id": "bdc89c3e",
   "metadata": {},
   "outputs": [],
   "source": [
    "def func7(a, b, *c, d='기본값', **e):\n",
    "    print('순서인수 a :', a)\n",
    "    print('순서인수 b :', b)\n",
    "    print('튜플인수 c :', c)\n",
    "    print('키워드인수(기본값을 갖는 인수, 호출시 매개변수명 반드시 명시) d :', d)\n",
    "    print('딕셔너리 인수 e :', e)\n",
    "   "
   ]
  },
  {
   "cell_type": "code",
   "execution_count": 65,
   "id": "dcd9eac0",
   "metadata": {},
   "outputs": [
    {
     "name": "stdout",
     "output_type": "stream",
     "text": [
      "순서인수 a : 10\n",
      "순서인수 b : 20\n",
      "튜플인수 c : (1, 2, 3)\n",
      "키워드인수(기본값을 갖는 인수, 호출시 매개변수명 반드시 명시) d : 딴거\n",
      "딕셔너리 인수 e : {'fontsize': 12, 'fontfamily': 'consola'}\n"
     ]
    }
   ],
   "source": [
    "func7(10, 20, 1, 2, 3, d='딴거', fontsize=12, fontfamily='consola')"
   ]
  },
  {
   "cell_type": "markdown",
   "id": "aca458cb",
   "metadata": {},
   "source": [
    "## 3.6 인수의 언패킹\n",
    "### 튜플인수 언패킹\n",
    "- 튜플 언패킹 : 함수 호출시 매개변수 앞에 * 붙임\n",
    "- 튜플 패킹 : 함수 정의시 매개변수 앞에 * 붙임"
   ]
  },
  {
   "cell_type": "code",
   "execution_count": 74,
   "id": "da7fe002",
   "metadata": {},
   "outputs": [],
   "source": [
    "def add(*args):\n",
    "    tot = 0\n",
    "    for num in args:\n",
    "        tot += num\n",
    "    return tot"
   ]
  },
  {
   "cell_type": "code",
   "execution_count": 76,
   "id": "5eb9a234",
   "metadata": {},
   "outputs": [
    {
     "data": {
      "text/plain": [
       "10"
      ]
     },
     "execution_count": 76,
     "metadata": {},
     "output_type": "execute_result"
    }
   ],
   "source": [
    "add(1,2,3,4)"
   ]
  },
  {
   "cell_type": "code",
   "execution_count": 77,
   "id": "f4c432fc",
   "metadata": {},
   "outputs": [
    {
     "data": {
      "text/plain": [
       "10"
      ]
     },
     "execution_count": 77,
     "metadata": {},
     "output_type": "execute_result"
    }
   ],
   "source": [
    "numbers = [1, 2, 3, 4]\n",
    "add(*numbers)  # 언패킹"
   ]
  },
  {
   "cell_type": "markdown",
   "id": "da50f65d",
   "metadata": {},
   "source": [
    "## 딕셔너리 인수 언패킹\n",
    "- 딕셔너리 언패킹 : 함수 호출시 매개변수 앞에 ** 붙임\n",
    "- 딕셔너리 패킹 : 함수 정의시 매개변수 앞에 ** 붙임"
   ]
  },
  {
   "cell_type": "code",
   "execution_count": 78,
   "id": "8a21a405",
   "metadata": {},
   "outputs": [],
   "source": [
    "def func5(**data):\n",
    "    print(type(data))\n",
    "    for key,item in data.items():\n",
    "        print(f'{key}:{item}')"
   ]
  },
  {
   "cell_type": "code",
   "execution_count": 79,
   "id": "d286bc9f",
   "metadata": {},
   "outputs": [
    {
     "name": "stdout",
     "output_type": "stream",
     "text": [
      "<class 'dict'>\n",
      "name:홍길동\n",
      "age:30\n",
      "address:신림\n"
     ]
    }
   ],
   "source": [
    "func5(name='홍길동', age='30', address='신림')"
   ]
  },
  {
   "cell_type": "code",
   "execution_count": 81,
   "id": "440d9292",
   "metadata": {},
   "outputs": [
    {
     "name": "stdout",
     "output_type": "stream",
     "text": [
      "<class 'dict'>\n",
      "name:홍길동\n",
      "age:30\n",
      "address:서울시 강남구\n",
      "score:900\n"
     ]
    }
   ],
   "source": [
    "customInfo = {'name':'홍길동', 'age':30, 'address':'서울시 강남구', 'score':900}\n",
    "func5(**customInfo)"
   ]
  },
  {
   "cell_type": "markdown",
   "id": "2627f401",
   "metadata": {},
   "source": [
    "# 4절 람다식\n",
    "- return 한줄짜리 작은 익명함수\n",
    "## 4.1 람다식 연습"
   ]
  },
  {
   "cell_type": "code",
   "execution_count": 82,
   "id": "0605d46c",
   "metadata": {},
   "outputs": [
    {
     "data": {
      "text/plain": [
       "7"
      ]
     },
     "execution_count": 82,
     "metadata": {},
     "output_type": "execute_result"
    }
   ],
   "source": [
    "def add(a, b):\n",
    "    return a+b\n",
    "add(3, 4)"
   ]
  },
  {
   "cell_type": "code",
   "execution_count": 85,
   "id": "cf574d96",
   "metadata": {},
   "outputs": [
    {
     "data": {
      "text/plain": [
       "7"
      ]
     },
     "execution_count": 85,
     "metadata": {},
     "output_type": "execute_result"
    }
   ],
   "source": [
    "add2 = lambda a,b : a+b\n",
    "add2(3, 4)"
   ]
  },
  {
   "cell_type": "code",
   "execution_count": 88,
   "id": "d0239f86",
   "metadata": {},
   "outputs": [
    {
     "data": {
      "text/plain": [
       "(function, function)"
      ]
     },
     "execution_count": 88,
     "metadata": {},
     "output_type": "execute_result"
    }
   ],
   "source": [
    "type(add), type(add2)"
   ]
  },
  {
   "cell_type": "code",
   "execution_count": 89,
   "id": "fcdf4490",
   "metadata": {},
   "outputs": [
    {
     "data": {
      "text/plain": [
       "7"
      ]
     },
     "execution_count": 89,
     "metadata": {},
     "output_type": "execute_result"
    }
   ],
   "source": [
    "(lambda a, b : a+b)(3,4)"
   ]
  },
  {
   "cell_type": "code",
   "execution_count": 111,
   "id": "bb750e8b",
   "metadata": {},
   "outputs": [
    {
     "data": {
      "text/plain": [
       "('짝수', '홀수')"
      ]
     },
     "execution_count": 111,
     "metadata": {},
     "output_type": "execute_result"
    }
   ],
   "source": [
    "# ex1. 매개변수로 들어온 값이 짝수인지 홀수인지 return\n",
    "# def ex1(num):\n",
    "# #     if num%2:\n",
    "# #         result = '홀수'\n",
    "# #     else:\n",
    "# #         result = '짝수'\n",
    "\n",
    "#     return '홀수' if num%2 else \"짝수\"\n",
    "ex1 = lambda num : '홀수' if num%2 else '짝수'\n",
    "ex1(10), ex1(-9)"
   ]
  },
  {
   "cell_type": "code",
   "execution_count": 115,
   "id": "9785fdf4",
   "metadata": {},
   "outputs": [
    {
     "data": {
      "text/plain": [
       "12"
      ]
     },
     "execution_count": 115,
     "metadata": {},
     "output_type": "execute_result"
    }
   ],
   "source": [
    "# ex2. 두 매개변수의 차이를 return\n",
    "\n",
    "ex2 = lambda a, b : a-b if a>b else b-a\n",
    "ex2(-7,5)"
   ]
  },
  {
   "cell_type": "code",
   "execution_count": 116,
   "id": "c7f4fabf",
   "metadata": {},
   "outputs": [
    {
     "data": {
      "text/plain": [
       "12"
      ]
     },
     "execution_count": 116,
     "metadata": {},
     "output_type": "execute_result"
    }
   ],
   "source": [
    "# ex2. 두 매개변수의 차이를 return\n",
    "\n",
    "ex2 = lambda a, b : abs(a-b)\n",
    "ex2(-7,5)"
   ]
  },
  {
   "cell_type": "code",
   "execution_count": 97,
   "id": "3693fa4f",
   "metadata": {},
   "outputs": [
    {
     "data": {
      "text/plain": [
       "500"
      ]
     },
     "execution_count": 97,
     "metadata": {},
     "output_type": "execute_result"
    }
   ],
   "source": [
    "# ex3. 매개변수로 잔액을 받아 양수면 잔액을 return, 음수면 'negative'를 return\n",
    "\n",
    "ex3 = lambda money : money if money>=0 else 'negative'\n",
    "ex3(500)"
   ]
  },
  {
   "cell_type": "code",
   "execution_count": 122,
   "id": "3412874f",
   "metadata": {},
   "outputs": [
    {
     "data": {
      "text/plain": [
       "('유효하지 않음', 'A팀', 'B팀', '재시험')"
      ]
     },
     "execution_count": 122,
     "metadata": {},
     "output_type": "execute_result"
    }
   ],
   "source": [
    "# ex4. 정수를 입력받아 점수가 80점 이상은 A팀, 60점 이상은 B팀, 60점 미만은 재시험.\n",
    "#      그 외는 유효하지 않음\n",
    "\n",
    "ex4 = lambda score : 'A팀' if 100>= score >= 80 else \\\n",
    "                    'B팀' if 80> score >= 60 else \\\n",
    "                    '재시험' if 60> score >= 0 else \\\n",
    "                    '유효하지 않음'\n",
    "ex4(120), ex4(90), ex4(70), ex4(50)"
   ]
  },
  {
   "cell_type": "code",
   "execution_count": 107,
   "id": "505d78b7",
   "metadata": {},
   "outputs": [],
   "source": [
    "# ex5. safe_index를 람다식으로\n",
    "def safe_index(vector, data):\n",
    "    if data in vector: # lst안에 data 있는지 여부\n",
    "        return vector.index(data)\n",
    "    else:\n",
    "        return -1\n",
    "    \n",
    "safe_index = lambda vector, data : vector.index(data) if data in vector else -1"
   ]
  },
  {
   "cell_type": "code",
   "execution_count": 124,
   "id": "44c3b923",
   "metadata": {},
   "outputs": [
    {
     "data": {
      "text/plain": [
       "(-1, 1)"
      ]
     },
     "execution_count": 124,
     "metadata": {},
     "output_type": "execute_result"
    }
   ],
   "source": [
    "ex5 = lambda vector, data : vector.index(data) if data in vector else -1\n",
    "tup = (1, 2, 3)\n",
    "ex5(tup, 4), ex5(tup, 2)"
   ]
  },
  {
   "cell_type": "markdown",
   "id": "802f0b43",
   "metadata": {},
   "source": [
    "## 4.2 함수의 매개변수에 람다식 이용\n",
    "\n",
    "### (1) map"
   ]
  },
  {
   "cell_type": "code",
   "execution_count": 11,
   "id": "56dfe86f",
   "metadata": {},
   "outputs": [],
   "source": [
    "def map_template(func, L=[]):\n",
    "    '''\n",
    "    L의 모든 요소를 func()함수를 적용시켜 return\n",
    "    [func(1) for l in L]\n",
    "    '''\n",
    "    result = []\n",
    "    for l in L:\n",
    "        result.append(func(l))\n",
    "    return result\n",
    "\n",
    "#     result = [func(l) for l in L]\n"
   ]
  },
  {
   "cell_type": "code",
   "execution_count": 12,
   "id": "0eb67f8d",
   "metadata": {},
   "outputs": [
    {
     "data": {
      "text/plain": [
       "[2, 4, 6, 8, 10, 12, 14, 16, 18, 20]"
      ]
     },
     "execution_count": 12,
     "metadata": {},
     "output_type": "execute_result"
    }
   ],
   "source": [
    "# 리스트의 데이터를 가공하는 방법 1.map\n",
    "list_data = [1, 2, 3, 4, 5, 6, 7, 8, 9, 10]\n",
    "map_template(lambda x : x*2, list_data)\n",
    "# def x_2(x):\n",
    "#     return x*2\n",
    "\n",
    "# map_template(x_2, list_data)"
   ]
  },
  {
   "cell_type": "code",
   "execution_count": 9,
   "id": "5b4b3bc5",
   "metadata": {},
   "outputs": [
    {
     "data": {
      "text/plain": [
       "[2, 4, 6, 8, 10, 12, 14, 16, 18, 20]"
      ]
     },
     "execution_count": 9,
     "metadata": {},
     "output_type": "execute_result"
    }
   ],
   "source": [
    "# 리스트 데이터를 가공 방법 2. 리스트 컴프리헨션\n",
    "[l*2 for l in list_data]"
   ]
  },
  {
   "cell_type": "code",
   "execution_count": 14,
   "id": "faad6c27",
   "metadata": {},
   "outputs": [
    {
     "data": {
      "text/plain": [
       "<map at 0x12a4c3539d0>"
      ]
     },
     "execution_count": 14,
     "metadata": {},
     "output_type": "execute_result"
    }
   ],
   "source": [
    "# 리스트 데이터를 가공 방법 3. map(): 파이썬 내장함수\n",
    "map(lambda x : x*2, list_data)"
   ]
  },
  {
   "cell_type": "code",
   "execution_count": 15,
   "id": "94da70c4",
   "metadata": {},
   "outputs": [
    {
     "name": "stdout",
     "output_type": "stream",
     "text": [
      "[2, 4, 6, 8, 10, 12, 14, 16, 18, 20]\n"
     ]
    }
   ],
   "source": [
    "list_data = [1, 2, 3, 4, 5, 6, 7, 8, 9, 10]\n",
    "\n",
    "result = []\n",
    "for x in list_data:\n",
    "    result.append(x * 2)\n",
    "\n",
    "print(result)\n"
   ]
  },
  {
   "cell_type": "code",
   "execution_count": 26,
   "id": "edfa28e9",
   "metadata": {},
   "outputs": [
    {
     "name": "stdout",
     "output_type": "stream",
     "text": [
      "[5000, 800, 1000, 6000]\n"
     ]
    }
   ],
   "source": [
    "'''\n",
    "예1. prices = [5000, 800, 1000, 6000] 로 출력\n",
    "'''\n",
    "prices = ['5,000', '800', '1000', '6,000']\n",
    "prices = list(map(lambda x: int(x.replace(',', '')), prices))\n",
    "\n",
    "print(prices)\n"
   ]
  },
  {
   "cell_type": "code",
   "execution_count": 21,
   "id": "c5b4ac4d",
   "metadata": {},
   "outputs": [
    {
     "data": {
      "text/plain": [
       "(5000, 1800)"
      ]
     },
     "execution_count": 21,
     "metadata": {},
     "output_type": "execute_result"
    }
   ],
   "source": [
    "def func(x):\n",
    "    return int(x.replace(',',''))\n",
    "func(\"5,000\"), func(\"1800\")"
   ]
  },
  {
   "cell_type": "code",
   "execution_count": 37,
   "id": "3a156428",
   "metadata": {},
   "outputs": [],
   "source": [
    "'''\n",
    "예2. member1 = [{'name':'홍길동', 'birth':'2000-01-01'},\n",
    "                {'name':'신길동', 'birth':'1998-12-31'}] 를\n",
    "    member2 = [{'name':'홍길동', 'year':2000, 'month':1, 'day':1},\n",
    "                {'name':'신길동', 'year':1998, 'month':12, 'day':31}] 로 바꿉니다\n",
    "'''\n",
    "member1 = [{'name':'홍길동', 'birth':'2000-01-01'},\n",
    "                {'name':'신길동', 'birth':'1998-12-31'}]\n"
   ]
  },
  {
   "cell_type": "code",
   "execution_count": 34,
   "id": "8d7c69b9",
   "metadata": {},
   "outputs": [],
   "source": [
    "def split_date(date):\n",
    "    split_data = date.split('-')\n",
    "#     print(split_data[0], split_data[1], split_data[2])\n",
    "    return{'year': int(split_data[0]),\n",
    "          'month': int(split_data[1]),\n",
    "          'day' : int(split_data[2])\n",
    "          }"
   ]
  },
  {
   "cell_type": "code",
   "execution_count": 35,
   "id": "a353da09",
   "metadata": {},
   "outputs": [
    {
     "data": {
      "text/plain": [
       "{'year': 2000, 'month': 1, 'day': 1}"
      ]
     },
     "execution_count": 35,
     "metadata": {},
     "output_type": "execute_result"
    }
   ],
   "source": [
    "split_date(\"2000-01-01\")"
   ]
  },
  {
   "cell_type": "code",
   "execution_count": 53,
   "id": "9ff7cdd5",
   "metadata": {},
   "outputs": [
    {
     "data": {
      "text/plain": [
       "{'name': '홍길동', 'year': 2000, 'month': 1, 'day': 1}"
      ]
     },
     "execution_count": 53,
     "metadata": {},
     "output_type": "execute_result"
    }
   ],
   "source": [
    "def member_func(member): # {'name':'홍길동', 'year':2000, 'month':1, 'day':1}\n",
    "    \"{name':'신길동', 'year':1998, 'month':12, 'day':31} 식으로 return\"\n",
    "    return {\n",
    "        'name':member.get('name'),\n",
    "        'year':int(member['birth'].split('-')[0]),\n",
    "        'month':int(member['birth'].split('-')[1]),\n",
    "        'day':int(member['birth'].split('-')[2]),\n",
    "    }\n",
    "member_func(member1[0])"
   ]
  },
  {
   "cell_type": "markdown",
   "id": "7af12bf2",
   "metadata": {},
   "source": [
    "member.get('name') 를 member['name'] 같은 뜻. 그러나 get은 에러가 안뜨지만 후자는 빈 데이터면 에러가 뜸"
   ]
  },
  {
   "cell_type": "code",
   "execution_count": 56,
   "id": "2e074fee",
   "metadata": {},
   "outputs": [
    {
     "data": {
      "text/plain": [
       "[{'name': '홍길동', 'year': 2000, 'month': 1, 'day': 1},\n",
       " {'name': '신길동', 'year': 1998, 'month': 12, 'day': 31}]"
      ]
     },
     "execution_count": 56,
     "metadata": {},
     "output_type": "execute_result"
    }
   ],
   "source": [
    "member2 = list(map(lambda member : {\n",
    "                        'name':member.get('name'),\n",
    "                            'year':int(member['birth'].split('-')[0]),\n",
    "                            'month':int(member['birth'].split('-')[1]),\n",
    "                            'day':int(member['birth'].split('-')[2]),\n",
    "                        } ,\n",
    "         member1\n",
    "        )\n",
    "    )\n",
    "member2"
   ]
  },
  {
   "cell_type": "code",
   "execution_count": null,
   "id": "e697d551",
   "metadata": {},
   "outputs": [],
   "source": [
    "'예3. member2를 member1로 바꿉니다'"
   ]
  },
  {
   "cell_type": "code",
   "execution_count": 70,
   "id": "4d20e1b6",
   "metadata": {},
   "outputs": [],
   "source": [
    "# {'year': 2000, 'month': 1, 'day': 1} => \"2000-01-01\"를 return하는 함수\n",
    "def join_date(data):\n",
    "    # print([data.get('year'), data.get('month'), data.get('day')])\n",
    "    year = str(data.get('year'))\n",
    "    month = data.get('month')\n",
    "    if month < 10:\n",
    "        month = '0'+str(month)\n",
    "    else:\n",
    "        month = str(month)\n",
    "    day = data.get('day')\n",
    "    if day < 10:\n",
    "        day = '0'+str(day)\n",
    "    else:\n",
    "        day = str(day)\n",
    "    return '-'.join([year, month, day])"
   ]
  },
  {
   "cell_type": "code",
   "execution_count": 73,
   "id": "dac151fb",
   "metadata": {},
   "outputs": [],
   "source": [
    "# {'year':2000, 'month':1, 'day':1} => \"2000-01-01\" 를 return 하는 함수\n",
    "def join_date(data):\n",
    "    print(\"{}-{:02}-{:02}\".format(data.get('year'), \n",
    "                                  data.get('month'), \n",
    "                                  data.get('day')))"
   ]
  },
  {
   "cell_type": "code",
   "execution_count": null,
   "id": "b1c59826",
   "metadata": {},
   "outputs": [],
   "source": [
    "def join_date(data):\n",
    "    print(\"{year}-{month:02}-{day:02}\".format(\n",
    "                                    year = data.get('year'), \n",
    "                                  month = data.get('month'), \n",
    "                                  day = data.get('day')))"
   ]
  },
  {
   "cell_type": "code",
   "execution_count": 75,
   "id": "cb581d16",
   "metadata": {},
   "outputs": [],
   "source": [
    "def join_date(data):\n",
    "    return \"{year}-{month:02}-{day:02}\".format(**data)"
   ]
  },
  {
   "cell_type": "code",
   "execution_count": 74,
   "id": "b112bbca",
   "metadata": {},
   "outputs": [
    {
     "name": "stdout",
     "output_type": "stream",
     "text": [
      "2000-01-01\n"
     ]
    }
   ],
   "source": [
    "join_date({'year':2000, 'month':1, 'day':1})"
   ]
  },
  {
   "cell_type": "code",
   "execution_count": 72,
   "id": "c91212dc",
   "metadata": {},
   "outputs": [
    {
     "data": {
      "text/plain": [
       "[{'name': '홍길동', 'birth': '2000-01-01'},\n",
       " {'name': '신길동', 'birth': '1998-12-31'}]"
      ]
     },
     "execution_count": 72,
     "metadata": {},
     "output_type": "execute_result"
    }
   ],
   "source": [
    "member2 = [{'name':'홍길동', 'year':2000, 'month':1, 'day':1},\n",
    "                {'name':'신길동', 'year':1998, 'month':12, 'day':31}]\n",
    "\n",
    "member1 = list(map(\n",
    "              lambda member: {\n",
    "                  'name':member['name'],\n",
    "                  'birth' : f\"{member['year']}-{member['month']:02d}-{member['day']:02d}\"\n",
    "               \n",
    "              }, member2\n",
    "              ))\n",
    "\n",
    "member1"
   ]
  },
  {
   "cell_type": "code",
   "execution_count": 76,
   "id": "fd7034fa",
   "metadata": {},
   "outputs": [
    {
     "data": {
      "text/plain": [
       "[{'name': '홍길동', 'birth': '2000-01-01'},\n",
       " {'name': '신길동', 'birth': '1998-12-31'}]"
      ]
     },
     "execution_count": 76,
     "metadata": {},
     "output_type": "execute_result"
    }
   ],
   "source": [
    "# {'name':'홍길동', 'year':2000, 'month':1, 'day':1}(member2)를\n",
    "# {'name':'홍길동', 'birth':'2000-01-01'} 으로 가공\n",
    "list(map(lambda member : {\n",
    "            'name' : member.get('name'),\n",
    "            'birth' : \"{year}-{month:02}-{day:02}\".format(**member)\n",
    "            },\n",
    "        member2\n",
    "    ))"
   ]
  },
  {
   "cell_type": "markdown",
   "id": "4deeda3f",
   "metadata": {},
   "source": [
    "### (2) filter\n",
    "- map 처리 : [1, 2, 3, 4, 5] => [2, 4, 6, 8, 10] (벡터의 모든 데이터를 가공)\n",
    "- filter : [1,2,3,4,5] => [2,4] (원하는 정보 추출)\n",
    "* cf. 리스트 컴프리헨션"
   ]
  },
  {
   "cell_type": "code",
   "execution_count": 79,
   "id": "e4f1f5cf",
   "metadata": {},
   "outputs": [],
   "source": [
    "def filter_template(func, L=[]):\n",
    "    result = []\n",
    "    for l in L:\n",
    "        if func(l):\n",
    "            result.append(l)\n",
    "    return result"
   ]
  },
  {
   "cell_type": "code",
   "execution_count": 77,
   "id": "8114dea0",
   "metadata": {},
   "outputs": [
    {
     "data": {
      "text/plain": [
       "(True, False)"
      ]
     },
     "execution_count": 77,
     "metadata": {},
     "output_type": "execute_result"
    }
   ],
   "source": [
    "def evenChk(value):\n",
    "    return value%2==0\n",
    "evenChk(10), evenChk(7)"
   ]
  },
  {
   "cell_type": "code",
   "execution_count": 80,
   "id": "2f252225",
   "metadata": {},
   "outputs": [
    {
     "data": {
      "text/plain": [
       "[2, 4]"
      ]
     },
     "execution_count": 80,
     "metadata": {},
     "output_type": "execute_result"
    }
   ],
   "source": [
    "list_data = [1, 2, 3, 4, 5]\n",
    "filter_template(lambda value : value%2==0 , list_data)"
   ]
  },
  {
   "cell_type": "code",
   "execution_count": 81,
   "id": "f9bf055a",
   "metadata": {},
   "outputs": [
    {
     "data": {
      "text/plain": [
       "[2, 4]"
      ]
     },
     "execution_count": 81,
     "metadata": {},
     "output_type": "execute_result"
    }
   ],
   "source": [
    "list(filter(lambda value : value%2==0 , list_data))"
   ]
  },
  {
   "cell_type": "code",
   "execution_count": 83,
   "id": "5b2c24e3",
   "metadata": {},
   "outputs": [
    {
     "data": {
      "text/plain": [
       "[2, 4]"
      ]
     },
     "execution_count": 83,
     "metadata": {},
     "output_type": "execute_result"
    }
   ],
   "source": [
    "[data for data in list_data if data%2==0]"
   ]
  },
  {
   "cell_type": "markdown",
   "id": "2dd39a0d",
   "metadata": {},
   "source": [
    "### (3) sort"
   ]
  },
  {
   "cell_type": "code",
   "execution_count": 87,
   "id": "65c76f12",
   "metadata": {},
   "outputs": [
    {
     "data": {
      "text/plain": [
       "[9, 7, 2]"
      ]
     },
     "execution_count": 87,
     "metadata": {},
     "output_type": "execute_result"
    }
   ],
   "source": [
    "p = [9, 2, 7]\n",
    "p.sort(reverse=True)\n",
    "p"
   ]
  },
  {
   "cell_type": "code",
   "execution_count": 92,
   "id": "c5dff374",
   "metadata": {},
   "outputs": [
    {
     "data": {
      "text/plain": [
       "[(1, 'one'), (2, 'two'), (3, 'three'), (4, 'four')]"
      ]
     },
     "execution_count": 92,
     "metadata": {},
     "output_type": "execute_result"
    }
   ],
   "source": [
    "# 무조건 0번째 item 기준으로 정렬\n",
    "pairs = [(2, 'two'), (1, 'one'), (4, 'four'), (3, 'three')]\n",
    "pairs.sort()\n",
    "pairs"
   ]
  },
  {
   "cell_type": "code",
   "execution_count": 93,
   "id": "c4c8953e",
   "metadata": {},
   "outputs": [
    {
     "data": {
      "text/plain": [
       "[(4, 'four'), (1, 'one'), (3, 'three'), (2, 'two')]"
      ]
     },
     "execution_count": 93,
     "metadata": {},
     "output_type": "execute_result"
    }
   ],
   "source": [
    "# 1번째 item 기준으로 정렬(abc순)\n",
    "pairs.sort(key=lambda pair : pair[1])\n",
    "pairs\n"
   ]
  },
  {
   "cell_type": "code",
   "execution_count": null,
   "id": "98a5d2a0",
   "metadata": {},
   "outputs": [],
   "source": []
  },
  {
   "cell_type": "code",
   "execution_count": 95,
   "id": "a55f141c",
   "metadata": {},
   "outputs": [
    {
     "data": {
      "text/plain": [
       "[[1, 100], [9, 9, 9, 9, 9, 9], [10, 1]]"
      ]
     },
     "execution_count": 95,
     "metadata": {},
     "output_type": "execute_result"
    }
   ],
   "source": [
    "# 무조건 0번 item 기준으로 정렬\n",
    "number2d = [[9, 9, 9 ,9, 9, 9],\n",
    "           [1, 100],\n",
    "           [10, 1]]\n",
    "number2d.sort()\n",
    "number2d"
   ]
  },
  {
   "cell_type": "code",
   "execution_count": 98,
   "id": "2c95f6d0",
   "metadata": {},
   "outputs": [],
   "source": [
    "# 합이 큰 순으로 정렬\n",
    "number2d.sort(key= lambda item : sum(item))\n"
   ]
  },
  {
   "cell_type": "code",
   "execution_count": 102,
   "id": "9c39ba8d",
   "metadata": {},
   "outputs": [
    {
     "data": {
      "text/plain": [
       "6"
      ]
     },
     "execution_count": 102,
     "metadata": {},
     "output_type": "execute_result"
    }
   ],
   "source": [
    "(lambda item : sum(item))([1, 2, 3])"
   ]
  },
  {
   "cell_type": "code",
   "execution_count": 103,
   "id": "b6f85c9e",
   "metadata": {},
   "outputs": [
    {
     "data": {
      "text/plain": [
       "[[10, 1], [9, 9, 9, 9, 9, 9], [1, 100]]"
      ]
     },
     "execution_count": 103,
     "metadata": {},
     "output_type": "execute_result"
    }
   ],
   "source": [
    "# 합이 큰 순으로 정렬\n",
    "number2d.sort(key= lambda item : sum(item))\n",
    "number2d"
   ]
  },
  {
   "cell_type": "code",
   "execution_count": 3,
   "id": "24831c4f",
   "metadata": {},
   "outputs": [],
   "source": [
    "students = [\n",
    "    {'name':'홍길동', 'score':90},\n",
    "    {'name':'김길동', 'score':50},\n",
    "    {'name':'윤길동', 'score':99},\n",
    "    {'score':100}\n",
    "]"
   ]
  },
  {
   "cell_type": "code",
   "execution_count": 8,
   "id": "f3231bf3",
   "metadata": {},
   "outputs": [
    {
     "data": {
      "text/plain": [
       "[{'name': '김길동', 'score': 50},\n",
       " {'name': '윤길동', 'score': 99},\n",
       " {'name': '홍길동', 'score': 90},\n",
       " {'score': 100}]"
      ]
     },
     "execution_count": 8,
     "metadata": {},
     "output_type": "execute_result"
    }
   ],
   "source": [
    "# 이름순으로 정렬(ㄱㄴㄷ순)\n",
    "students.sort(key = lambda item : item.get('name', '힣'))\n",
    "students"
   ]
  },
  {
   "cell_type": "code",
   "execution_count": 11,
   "id": "a10cace5",
   "metadata": {},
   "outputs": [
    {
     "data": {
      "text/plain": [
       "[{'score': 100},\n",
       " {'name': '윤길동', 'score': 99},\n",
       " {'name': '홍길동', 'score': 90},\n",
       " {'name': '김길동', 'score': 50}]"
      ]
     },
     "execution_count": 11,
     "metadata": {},
     "output_type": "execute_result"
    }
   ],
   "source": [
    "# 점수순으로 정렬(내림차순정렬 : reverse=True)\n",
    "students.sort(key = lambda item : item.get('score', 0), reverse = True)\n",
    "students"
   ]
  },
  {
   "cell_type": "code",
   "execution_count": 13,
   "id": "040270cf",
   "metadata": {},
   "outputs": [],
   "source": [
    "#책 제목순 정렬(ㄱㄴㄷ순), 저자순 정렬(ㄱㄴㄷ순), 가격순 정렬\n",
    "books =[\n",
    "    {'no':1, 'title': '강남 아파트 인사이트', 'writer': '오스틀', 'price':'25,200'},\n",
    "    {'no':2, 'title': '단 한 번의 삶', 'writer': '김영하', 'price':'18,100'},\n",
    "    {'no':3, 'title': '흔한남매 19', 'writer': '백난도', 'price':'14220'},\n",
    "    {'no':4, 'title': '가격이 잘못', 'writer': '홍길동', 'price':'-'},\n",
    "    {'no':5, 'title': '가격이 숫자', 'writer': '신길동', 'price':900},\n",
    "    {'no':6, 'title': '가격이 없음', 'writer': '김길동'},\n",
    "]"
   ]
  },
  {
   "cell_type": "code",
   "execution_count": 14,
   "id": "09323d6c",
   "metadata": {},
   "outputs": [
    {
     "data": {
      "text/plain": [
       "[{'no': 5, 'title': '가격이 숫자', 'writer': '신길동', 'price': 900},\n",
       " {'no': 6, 'title': '가격이 없음', 'writer': '김길동'},\n",
       " {'no': 4, 'title': '가격이 잘못', 'writer': '홍길동', 'price': '-'},\n",
       " {'no': 1, 'title': '강남 아파트 인사이트', 'writer': '오스틀', 'price': '25,200'},\n",
       " {'no': 2, 'title': '단 한 번의 삶', 'writer': '김영하', 'price': '18,100'},\n",
       " {'no': 3, 'title': '흔한남매 19', 'writer': '백난도', 'price': '14,220'}]"
      ]
     },
     "execution_count": 14,
     "metadata": {},
     "output_type": "execute_result"
    }
   ],
   "source": [
    "books.sort(key = lambda book : book.get('title'))\n",
    "books"
   ]
  },
  {
   "cell_type": "code",
   "execution_count": 18,
   "id": "27b94556",
   "metadata": {},
   "outputs": [
    {
     "ename": "TypeError",
     "evalue": "'<' not supported between instances of 'str' and 'int'",
     "output_type": "error",
     "traceback": [
      "\u001b[1;31m---------------------------------------------------------------------------\u001b[0m",
      "\u001b[1;31mTypeError\u001b[0m                                 Traceback (most recent call last)",
      "Cell \u001b[1;32mIn[18], line 1\u001b[0m\n\u001b[1;32m----> 1\u001b[0m \u001b[43mbooks\u001b[49m\u001b[38;5;241;43m.\u001b[39;49m\u001b[43msort\u001b[49m\u001b[43m(\u001b[49m\u001b[43mkey\u001b[49m\u001b[43m \u001b[49m\u001b[38;5;241;43m=\u001b[39;49m\u001b[43m \u001b[49m\u001b[38;5;28;43;01mlambda\u001b[39;49;00m\u001b[43m \u001b[49m\u001b[43mbook\u001b[49m\u001b[43m \u001b[49m\u001b[43m:\u001b[49m\u001b[43m \u001b[49m\u001b[43mbook\u001b[49m\u001b[38;5;241;43m.\u001b[39;49m\u001b[43mget\u001b[49m\u001b[43m(\u001b[49m\u001b[38;5;124;43m'\u001b[39;49m\u001b[38;5;124;43mprice\u001b[39;49m\u001b[38;5;124;43m'\u001b[39;49m\u001b[43m,\u001b[49m\u001b[43m \u001b[49m\u001b[38;5;241;43m0\u001b[39;49m\u001b[43m)\u001b[49m\u001b[43m)\u001b[49m\n\u001b[0;32m      2\u001b[0m books\n",
      "\u001b[1;31mTypeError\u001b[0m: '<' not supported between instances of 'str' and 'int'"
     ]
    }
   ],
   "source": [
    "books.sort(key = lambda book : book.get('price', 0))\n",
    "books"
   ]
  },
  {
   "cell_type": "code",
   "execution_count": 42,
   "id": "12beaed6",
   "metadata": {},
   "outputs": [],
   "source": [
    "# '14,000' -> 14000 / 800 -> 800 / '-' => 0\n",
    "def parse_int(price):\n",
    "#     print(type(price))\n",
    "    if isinstance(price, str) and price.replace(',','').isdigit():\n",
    "        return int(price.replace(',',''))\n",
    "    elif isinstance(price, int):\n",
    "        return price\n",
    "    else :\n",
    "        return 0\n",
    "    "
   ]
  },
  {
   "cell_type": "code",
   "execution_count": 43,
   "id": "cc6b235e",
   "metadata": {},
   "outputs": [
    {
     "data": {
      "text/plain": [
       "(8000, 8000, 8000, 0)"
      ]
     },
     "execution_count": 43,
     "metadata": {},
     "output_type": "execute_result"
    }
   ],
   "source": [
    "parse_int(8000), parse_int(\"8000\"), parse_int(\"8,000\"), parse_int('-')"
   ]
  },
  {
   "cell_type": "code",
   "execution_count": 54,
   "id": "bdb4443c",
   "metadata": {},
   "outputs": [
    {
     "data": {
      "text/plain": [
       "(0, 25200, 900, 14220, 0)"
      ]
     },
     "execution_count": 54,
     "metadata": {},
     "output_type": "execute_result"
    }
   ],
   "source": [
    "# {'no':6, 'title': '가격이 없음', 'writer': '김길동'} => 0 return\n",
    "# {'no':3, 'title': '흔한남매 19', 'writer': '백난도', 'price':'14220'} => 14220\n",
    "# {'no':5, 'title': '가격이 숫자', 'writer': '신길동', 'price':900} => 900\n",
    "def parse_int(book):\n",
    "    if isinstance(book.get('price'), str) and \\\n",
    "    book.get('price').replace(',','').isdigit():\n",
    "        return int(book.get('price').replace(',','') )\n",
    "    elif isinstance(book.get('price'), int):\n",
    "        return book.get('price')\n",
    "    else:\n",
    "        return 0\n",
    "\n",
    "parse_int(books[0]), parse_int(books[4]), parse_int(books[3]), parse_int(books[2]), parse_int(books[5])"
   ]
  },
  {
   "cell_type": "code",
   "execution_count": 55,
   "id": "319a66eb",
   "metadata": {},
   "outputs": [],
   "source": [
    "copy_books =[\n",
    "    {'no':1, 'title': '강남 아파트 인사이트', 'writer': '오스틀', 'price':'25,200'},\n",
    "    {'no':2, 'title': '단 한 번의 삶', 'writer': '김영하', 'price':'18,100'},\n",
    "    {'no':3, 'title': '흔한남매 19', 'writer': '백난도', 'price':'14220'},\n",
    "    {'no':4, 'title': '가격이 잘못', 'writer': '홍길동', 'price':'-'},\n",
    "    {'no':5, 'title': '가격이 숫자', 'writer': '신길동', 'price':900},\n",
    "    {'no':6, 'title': '가격이 없음', 'writer': '김길동'},\n",
    "]\n",
    "copy_books = books.copy()"
   ]
  },
  {
   "cell_type": "code",
   "execution_count": 57,
   "id": "069a5772",
   "metadata": {},
   "outputs": [],
   "source": [
    "copy_books.sort(key = lambda book : \n",
    "                int(book.get('price').replace(',','')) \\\n",
    "                    if isinstance(book.get('price'), str) and \\\n",
    "                        book.get('price').replace(',','').isdigit() else \\\n",
    "                book.get('price') if isinstance(book.get('price'), int) else \\\n",
    "                0               \n",
    "               )"
   ]
  },
  {
   "cell_type": "code",
   "execution_count": 67,
   "id": "2008779f",
   "metadata": {},
   "outputs": [
    {
     "data": {
      "text/plain": [
       "0"
      ]
     },
     "execution_count": 67,
     "metadata": {},
     "output_type": "execute_result"
    }
   ],
   "source": [
    "# 람다식 테스트 확인\n",
    "(lambda book : \n",
    "                int(book.get('price').replace(',','')) \\\n",
    "                    if isinstance(book.get('price'), str) and \\\n",
    "                        book.get('price').replace(',','').isdigit() else \\\n",
    "                book.get('price') if isinstance(book.get('price'), int) else \\\n",
    "                0 )(books[0])"
   ]
  },
  {
   "cell_type": "code",
   "execution_count": 58,
   "id": "b0f524d7",
   "metadata": {},
   "outputs": [
    {
     "data": {
      "text/plain": [
       "[{'no': 6, 'title': '가격이 없음', 'writer': '김길동'},\n",
       " {'no': 4, 'title': '가격이 잘못', 'writer': '홍길동', 'price': '-'},\n",
       " {'no': 5, 'title': '가격이 숫자', 'writer': '신길동', 'price': 900},\n",
       " {'no': 3, 'title': '흔한남매 19', 'writer': '백난도', 'price': '14,220'},\n",
       " {'no': 2, 'title': '단 한 번의 삶', 'writer': '김영하', 'price': '18,100'},\n",
       " {'no': 1, 'title': '강남 아파트 인사이트', 'writer': '오스틀', 'price': '25,200'}]"
      ]
     },
     "execution_count": 58,
     "metadata": {},
     "output_type": "execute_result"
    }
   ],
   "source": [
    "copy_books"
   ]
  },
  {
   "cell_type": "markdown",
   "id": "6e990cc2",
   "metadata": {},
   "source": [
    "## 4.3 return문에 람다식 이용"
   ]
  },
  {
   "cell_type": "code",
   "execution_count": 80,
   "id": "625a7da5",
   "metadata": {},
   "outputs": [],
   "source": [
    "# 함수를 return\n",
    "def make_box(shape):  # shape : [L]=>Len 가 L인 list를 생성하는 함수 return\n",
    "                    #           [r,c] => r행 c열인 2차원 list를 생성하는 함수 return\n",
    "                    #           [d,r,c] => d면 r행 c열 3차원 list를 생성하는 함수 return\n",
    "    def box(init_value):\n",
    "        if len(shape)==1:\n",
    "            return [init_value]*shape[0]\n",
    "        elif len(shape)==2:\n",
    "            return [ [init_value]*shape[1] ] * shape[0]\n",
    "    return box"
   ]
  },
  {
   "cell_type": "code",
   "execution_count": 84,
   "id": "bfce5802",
   "metadata": {},
   "outputs": [],
   "source": [
    "def make_box(shape):\n",
    "    if len(shape)==1:\n",
    "        return lambda init_value : [init_value]*shape[0]\n",
    "    elif len(shape)==2:\n",
    "        return lambda init_value : [ [init_value]*shape[0] ] * shape[0]"
   ]
  },
  {
   "cell_type": "code",
   "execution_count": 85,
   "id": "240d0e2c",
   "metadata": {},
   "outputs": [
    {
     "data": {
      "text/plain": [
       "[[3, 3], [3, 3]]"
      ]
     },
     "execution_count": 85,
     "metadata": {},
     "output_type": "execute_result"
    }
   ],
   "source": [
    "line_func = make_box([2,3])\n",
    "line_func(3)"
   ]
  },
  {
   "cell_type": "code",
   "execution_count": 86,
   "id": "fc90b7a2",
   "metadata": {},
   "outputs": [
    {
     "data": {
      "text/plain": [
       "[3, 3, 3, 3, 3, 3, 3, 3, 3, 3]"
      ]
     },
     "execution_count": 86,
     "metadata": {},
     "output_type": "execute_result"
    }
   ],
   "source": [
    "line_func1 = make_box([10])\n",
    "line_func1(3)"
   ]
  },
  {
   "cell_type": "markdown",
   "id": "2a6bd4f8",
   "metadata": {},
   "source": [
    "# 5절. 파이썬 내장함수\n",
    "- import 하지 않고 바로 사용 가능한 함수\n",
    "- 키워드처럼 간주되므로, 식별자(변수명, 함수명, 클래스명)"
   ]
  },
  {
   "cell_type": "code",
   "execution_count": 88,
   "id": "a4ff5098",
   "metadata": {},
   "outputs": [
    {
     "data": {
      "text/plain": [
       "4"
      ]
     },
     "execution_count": 88,
     "metadata": {},
     "output_type": "execute_result"
    }
   ],
   "source": [
    "round(3.5)"
   ]
  },
  {
   "cell_type": "code",
   "execution_count": 89,
   "id": "8c9ab462",
   "metadata": {},
   "outputs": [],
   "source": [
    "import numpy as np # numpy 모듈을 np라는 이름으로 Load"
   ]
  },
  {
   "cell_type": "markdown",
   "id": "beecf96a",
   "metadata": {},
   "source": [
    "# 6절. 연습문제"
   ]
  },
  {
   "cell_type": "markdown",
   "id": "9e9943d0",
   "metadata": {},
   "source": [
    "## 실습형"
   ]
  },
  {
   "cell_type": "code",
   "execution_count": 4,
   "id": "0bff8da7",
   "metadata": {},
   "outputs": [
    {
     "data": {
      "text/plain": [
       "(6, 1)"
      ]
     },
     "execution_count": 4,
     "metadata": {},
     "output_type": "execute_result"
    }
   ],
   "source": [
    "# 실습형1. 최대값 최소값을 리턴\n",
    "def get_max_min(data_list):\n",
    "    return max(data_list), min(data_list)\n",
    "\n",
    "get_max_min = lambda data_list : (max(data_list), min(data_list))\n",
    "get_max_min([1,2,3,4,5,6,])"
   ]
  },
  {
   "cell_type": "code",
   "execution_count": 34,
   "id": "668a13ab",
   "metadata": {},
   "outputs": [],
   "source": [
    "# 2. 체중과 키를 이용해 비만도를 나타내는 지수로 아래의 수식\n",
    "def getBMI(kg, m):\n",
    "    bmi = kg/(m**2)\n",
    "    if bmi<18.5:\n",
    "        result='마른체형'\n",
    "    elif 18.5<=bmi<25:\n",
    "        result='표준'\n",
    "    elif 25<=bmi<30:\n",
    "        result='비만'\n",
    "    elif bmi>=30:\n",
    "        result='고도비만'\n",
    "        \n",
    "    return result"
   ]
  },
  {
   "cell_type": "code",
   "execution_count": 36,
   "id": "84a76928",
   "metadata": {},
   "outputs": [
    {
     "data": {
      "text/plain": [
       "'마른체형'"
      ]
     },
     "execution_count": 36,
     "metadata": {},
     "output_type": "execute_result"
    }
   ],
   "source": [
    "getBMI(170,65)"
   ]
  },
  {
   "cell_type": "code",
   "execution_count": 17,
   "id": "8b83b231",
   "metadata": {},
   "outputs": [],
   "source": [
    "# 3. 직각삼각형의 밑변과 높이를 입력받은 후 삼각형의 면적과 둘레를 계산하는 함수를 작성하세요\n",
    "# 면적 = 밑변*높이 / 둘레 = 밑변 + 높이 + math.sqrt(밑변**2+높이**2)\n",
    "import math\n",
    "def get_triangle(width, height):\n",
    "    area = width*height\n",
    "    circum = width + height + math.sqrt(width**2 + height**2)\n",
    "    return(area, circum)\n",
    "    "
   ]
  },
  {
   "cell_type": "code",
   "execution_count": 20,
   "id": "03d39adf",
   "metadata": {},
   "outputs": [
    {
     "data": {
      "text/plain": [
       "(12, 12.0)"
      ]
     },
     "execution_count": 20,
     "metadata": {},
     "output_type": "execute_result"
    }
   ],
   "source": [
    "get_triangle(3,4)"
   ]
  },
  {
   "cell_type": "code",
   "execution_count": 29,
   "id": "c62d5c5b",
   "metadata": {},
   "outputs": [],
   "source": [
    "# 4. 함수의 인자로 시작과 끝 숫자가 주어질 때 시작부터 끝까지의 모든 정수값의 합을 리턴하는 함수를 작성하세요(시작값과 끝값 포함).\n",
    "\n",
    "def mysum(fRom, end):\n",
    "    if fRom>end:\n",
    "        return sum(range(end, fRom+1))\n",
    "    else:\n",
    "        return sum(range(fRom, end + 1))"
   ]
  },
  {
   "cell_type": "code",
   "execution_count": 31,
   "id": "dabfdb68",
   "metadata": {},
   "outputs": [
    {
     "data": {
      "text/plain": [
       "15"
      ]
     },
     "execution_count": 31,
     "metadata": {},
     "output_type": "execute_result"
    }
   ],
   "source": [
    "mysum(5,1)"
   ]
  },
  {
   "cell_type": "code",
   "execution_count": 49,
   "id": "368ce049",
   "metadata": {},
   "outputs": [
    {
     "name": "stdout",
     "output_type": "stream",
     "text": [
      "['Seo', 'Dae', 'Kwa', 'Jej']\n",
      "['Seo', 'Dae', 'Kwa', 'Jej']\n"
     ]
    }
   ],
   "source": [
    "# 5. 함수의인자로 문자열을 포함하는 리스트가 입력될 때 각 문자열의 첫 세글자로만 구성된 리스트를 리턴하는 함수와 람다식을 작성하세요\n",
    "# 예를 들어 함수의 입력으로 [‘Seoul’, ‘Daegu’, ‘Kwangju’, ‘Jeju’]가 입력될 때 함수의 리턴값은 [‘Seo’, ‘Dae’, ‘Kwa’,’Jej’]\n",
    "\n",
    "local = ['Seoul', 'Daegu', 'Kwangju', 'Jeju']\n",
    "\n",
    "def get_abbrs(lst):\n",
    "    return [a[:3] for a in local]\n",
    "print(get_abbrs([local]))\n",
    "print((lambda lst : [a[:3] for a in lst])(local))"
   ]
  },
  {
   "cell_type": "code",
   "execution_count": 32,
   "id": "19d32136",
   "metadata": {},
   "outputs": [],
   "source": [
    "# 6. 다음 코드를 람다 함수 형태로 수정할 때 알맞은 코드를 작성하시오.\n",
    "def f(x,y):\n",
    "    return x ** y"
   ]
  },
  {
   "cell_type": "code",
   "execution_count": 2,
   "id": "731daea1",
   "metadata": {},
   "outputs": [
    {
     "data": {
      "text/plain": [
       "243"
      ]
     },
     "execution_count": 2,
     "metadata": {},
     "output_type": "execute_result"
    }
   ],
   "source": [
    "f = lambda x,y : x**y\n",
    "f(3,5)"
   ]
  },
  {
   "cell_type": "code",
   "execution_count": 37,
   "id": "8c800e67",
   "metadata": {},
   "outputs": [
    {
     "name": "stdout",
     "output_type": "stream",
     "text": [
      "[1, 4, 9, 16, 25]\n"
     ]
    }
   ],
   "source": [
    "# 7. ex = [1,2,3,4,5]를 [1,4,9,16,25]의 결과를 얻을 수 있도록 람다함수와 map()함수를 사용하여 구현과 리스트 컴프리헨션으로 구현하시오\n",
    "ex = [1,2,3,4,5]\n",
    "result_map = list(map(lambda x: x**2, ex))\n",
    "print(result_map)"
   ]
  },
  {
   "cell_type": "code",
   "execution_count": 4,
   "id": "dee46c07",
   "metadata": {},
   "outputs": [
    {
     "name": "stdout",
     "output_type": "stream",
     "text": [
      "1 2 3\n",
      "[1, 2, 3]\n"
     ]
    }
   ],
   "source": [
    "# 8.다음코드를 각각 실행하면 서로 다른 결과가 나온다. 이런 결과가 나오는 이유를 서술하시오\n",
    "# A : *을 이용해 언패킹 했기 때문이다\n",
    "a=[1,2,3]\n",
    "print(*a)\n",
    "print(a)"
   ]
  },
  {
   "cell_type": "code",
   "execution_count": 6,
   "id": "0aa359ea",
   "metadata": {},
   "outputs": [
    {
     "data": {
      "text/plain": [
       "'2024-9-6'"
      ]
     },
     "execution_count": 6,
     "metadata": {},
     "output_type": "execute_result"
    }
   ],
   "source": [
    "# 9.\n",
    "\n",
    "date_info = {'year':2024, 'month':9, 'day':6}\n",
    "result = '{year}-{month}-{day}'.format(**date_info)\n",
    "result"
   ]
  },
  {
   "cell_type": "code",
   "execution_count": 50,
   "id": "53f0e960",
   "metadata": {},
   "outputs": [
    {
     "data": {
      "text/plain": [
       "[2, 2, 2, 2]"
      ]
     },
     "execution_count": 50,
     "metadata": {},
     "output_type": "execute_result"
    }
   ],
   "source": [
    "# 10. n개의 벡터(리스트나 튜플, 셋등)의 크기들이 같은지 여부를 reutrn하는\n",
    "#     vector_size_check(*vector _var) 를 한 줄의 코드(리스트 컴프리헨션 이용)로 작성하시오.\n",
    "\n",
    "def vector_size(*vector_var):\n",
    "    result = []\n",
    "    for vector in vector_var:\n",
    "        result.append(len(vector))\n",
    "    return result\n",
    "\n",
    "def vector_size(*vector_var):\n",
    "    return [len(vector) for vector in vector_var]\n",
    "\n",
    "vector_size([10, 20], (100, 200), {'name':'홍', 'age':20}, {1, 2})"
   ]
  },
  {
   "cell_type": "code",
   "execution_count": null,
   "id": "d7460841",
   "metadata": {},
   "outputs": [],
   "source": [
    "# 11."
   ]
  },
  {
   "cell_type": "code",
   "execution_count": 11,
   "id": "528b7e08",
   "metadata": {},
   "outputs": [
    {
     "data": {
      "text/plain": [
       "[(4, 'a'), (3, 'b'), (2, 'c'), (1, 'd')]"
      ]
     },
     "execution_count": 11,
     "metadata": {},
     "output_type": "execute_result"
    }
   ],
   "source": [
    "# 서술형 1. 두번째[1] 알파벳을 기준으로 정렬\n",
    "pairs = [(1, 'd'), (2, 'c'), (3, 'b'), (4, 'a')]\n",
    "pairs.sort(key=lambda pair : pair[1])\n",
    "pairs"
   ]
  },
  {
   "cell_type": "code",
   "execution_count": 33,
   "id": "2d468381",
   "metadata": {},
   "outputs": [
    {
     "name": "stdout",
     "output_type": "stream",
     "text": [
      "612613"
     ]
    }
   ],
   "source": [
    "# 서술형 2. global a를 해줘야 전역변수 사용가능 \n",
    "\n",
    "\n",
    "\n",
    "a= 10\n",
    "def sub() :\n",
    "    global a\n",
    "    a += 1\n",
    "    print(a, end='')\n",
    "    \n",
    "def func():\n",
    "    for i in range(2):\n",
    "        a=5\n",
    "        a += 1\n",
    "        print(a,end='')\n",
    "        sub()\n",
    "        \n",
    "a += 1\n",
    "func()"
   ]
  },
  {
   "cell_type": "code",
   "execution_count": 28,
   "id": "e25d4f62",
   "metadata": {},
   "outputs": [
    {
     "name": "stdout",
     "output_type": "stream",
     "text": [
      "100\n"
     ]
    }
   ],
   "source": [
    "# 서술형 3.\n",
    "\n",
    "var = 100\n",
    "def func(var):\n",
    "    var = 200\n",
    "func(var)\n",
    "print(var)"
   ]
  },
  {
   "cell_type": "code",
   "execution_count": 30,
   "id": "8d10ca1a",
   "metadata": {},
   "outputs": [
    {
     "data": {
      "text/plain": [
       "5"
      ]
     },
     "execution_count": 30,
     "metadata": {},
     "output_type": "execute_result"
    }
   ],
   "source": [
    "# 서술형 4.\n",
    "\n",
    "def my_func(func, *args):\n",
    "    return func(*args)\n",
    "import numpy as np\n",
    "my_func(np.add,2,3)"
   ]
  },
  {
   "cell_type": "code",
   "execution_count": 31,
   "id": "1c4844ad",
   "metadata": {},
   "outputs": [
    {
     "data": {
      "text/plain": [
       "9"
      ]
     },
     "execution_count": 31,
     "metadata": {},
     "output_type": "execute_result"
    }
   ],
   "source": [
    "# 서술형 5.\n",
    "\n",
    "def my_func(func, *args):\n",
    "    return func(*args)\n",
    "my_func(lambda a,b : a**b, 3, 2)"
   ]
  },
  {
   "cell_type": "code",
   "execution_count": null,
   "id": "89dce606",
   "metadata": {},
   "outputs": [],
   "source": [
    "# 서술형 6."
   ]
  },
  {
   "cell_type": "code",
   "execution_count": null,
   "id": "353be520",
   "metadata": {},
   "outputs": [],
   "source": [
    "# 서술형 7."
   ]
  },
  {
   "cell_type": "code",
   "execution_count": null,
   "id": "b9c8cb79",
   "metadata": {},
   "outputs": [],
   "source": [
    "# 서술형 8."
   ]
  },
  {
   "cell_type": "code",
   "execution_count": null,
   "id": "8158e1b9",
   "metadata": {},
   "outputs": [],
   "source": []
  }
 ],
 "metadata": {
  "kernelspec": {
   "display_name": "Python 3 (ipykernel)",
   "language": "python",
   "name": "python3"
  },
  "language_info": {
   "codemirror_mode": {
    "name": "ipython",
    "version": 3
   },
   "file_extension": ".py",
   "mimetype": "text/x-python",
   "name": "python",
   "nbconvert_exporter": "python",
   "pygments_lexer": "ipython3",
   "version": "3.10.9"
  },
  "toc": {
   "base_numbering": 1,
   "nav_menu": {},
   "number_sections": false,
   "sideBar": true,
   "skip_h1_title": false,
   "title_cell": "Table of Contents",
   "title_sidebar": "Contents",
   "toc_cell": false,
   "toc_position": {
    "height": "calc(100% - 180px)",
    "left": "10px",
    "top": "150px",
    "width": "165px"
   },
   "toc_section_display": true,
   "toc_window_display": true
  }
 },
 "nbformat": 4,
 "nbformat_minor": 5
}
