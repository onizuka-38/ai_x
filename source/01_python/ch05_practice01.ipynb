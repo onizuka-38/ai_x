{
 "cells": [
  {
   "cell_type": "code",
   "execution_count": 2,
   "id": "d5ff29b7",
   "metadata": {},
   "outputs": [
    {
     "data": {
      "text/plain": [
       "(7, 1)"
      ]
     },
     "execution_count": 2,
     "metadata": {},
     "output_type": "execute_result"
    }
   ],
   "source": [
    "# 실습형1.최대값 최소값을 리턴\n",
    "def get_max_min(data_list):\n",
    "    return max(data_list), min(data_list)\n",
    "\n",
    "get_max_min = lambda data_list : (max(data_list), min(data_list))\n",
    "get_max_min([1,2,3,4,5,6,7])"
   ]
  },
  {
   "cell_type": "code",
   "execution_count": 6,
   "id": "3c27eed2",
   "metadata": {},
   "outputs": [
    {
     "name": "stdout",
     "output_type": "stream",
     "text": [
      "비만\n"
     ]
    }
   ],
   "source": [
    "# 실습형2. 체중과 키를 입력받아 BMI지수에 따른\n",
    "    #‘마른 체형‘, ‘표준‘, ‘비만‘, ‘고도비만‘ 중 하나의 상태를 출력하는 함수\n",
    "def getBMI(kg, m):\n",
    "    bmi = kg / (m**2) # kg / m**2 동일\n",
    "    if bmi < 18.5:\n",
    "        print('마른체형')\n",
    "    elif 18.5 <= bmi < 25:\n",
    "        print('표준')\n",
    "    elif 25 <= bmi < 30:\n",
    "        print('비만')\n",
    "    else:\n",
    "        print('고도비만')\n",
    "\n",
    "getBMI_lambda = lambda kg, m : '마른체형' if kg / (m**2) < 18.5 else \\\n",
    "                        '표준' if 18.5 <= kg / (m**2) < 25 else \\\n",
    "                        '비만' if 25 <= kg / (m**2) < 30 else \\\n",
    "                        '고도비만'\n",
    "print(getBMI_lambda(90, 1.8))"
   ]
  },
  {
   "cell_type": "code",
   "execution_count": null,
   "id": "27e26476",
   "metadata": {},
   "outputs": [],
   "source": []
  }
 ],
 "metadata": {
  "kernelspec": {
   "display_name": "base",
   "language": "python",
   "name": "python3"
  },
  "language_info": {
   "codemirror_mode": {
    "name": "ipython",
    "version": 3
   },
   "file_extension": ".py",
   "mimetype": "text/x-python",
   "name": "python",
   "nbconvert_exporter": "python",
   "pygments_lexer": "ipython3",
   "version": "3.10.9"
  }
 },
 "nbformat": 4,
 "nbformat_minor": 5
}
