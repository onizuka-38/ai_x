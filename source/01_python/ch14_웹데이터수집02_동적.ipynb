{
 "cells": [
  {
   "cell_type": "code",
   "execution_count": 1,
   "id": "faa94014",
   "metadata": {},
   "outputs": [
    {
     "data": {
      "text/html": [
       "\n",
       "<style>\n",
       "div.container{width:86% !important;}\n",
       "div.cell.code_cell.rendered{width:100%;}\n",
       "div.CodeMirror {font-family:Consolas; font-size:12pt;}\n",
       "div.output {font-size:15pt; font-weight:bold;}\n",
       "div.input {font-family:Consolas; font-size:12pt;}\n",
       "div.prompt {min-width:70px;}\n",
       "div#toc-wrapper{padding-top:120px;}\n",
       "div.text_cell_render ul li{font-size:12pt;padding:5px;}\n",
       "table.dataframe{font-size:12px;}\n",
       "</style>\n"
      ],
      "text/plain": [
       "<IPython.core.display.HTML object>"
      ]
     },
     "metadata": {},
     "output_type": "display_data"
    }
   ],
   "source": [
    "from IPython.display import display, HTML\n",
    "display(HTML(\"\"\"\n",
    "<style>\n",
    "div.container{width:86% !important;}\n",
    "div.cell.code_cell.rendered{width:100%;}\n",
    "div.CodeMirror {font-family:Consolas; font-size:12pt;}\n",
    "div.output {font-size:15pt; font-weight:bold;}\n",
    "div.input {font-family:Consolas; font-size:12pt;}\n",
    "div.prompt {min-width:70px;}\n",
    "div#toc-wrapper{padding-top:120px;}\n",
    "div.text_cell_render ul li{font-size:12pt;padding:5px;}\n",
    "table.dataframe{font-size:12px;}\n",
    "</style>\n",
    "\"\"\"))"
   ]
  },
  {
   "cell_type": "markdown",
   "id": "0ea2e732",
   "metadata": {},
   "source": [
    "<b><font size=\"5\" color=\"red\" >ch14_웹데이터수집02_동적</font></b>\n",
    "## 3절. 웹사이트 동적\n",
    "## 3.1 문법\n",
    "```\n",
    "pip install -U selenium\n",
    "\n",
    "```\n",
    "Docs : https://www.selenium.dev/documentation/"
   ]
  },
  {
   "cell_type": "code",
   "execution_count": 35,
   "id": "cc94a70d",
   "metadata": {},
   "outputs": [],
   "source": [
    "from selenium import webdriver\n",
    "from selenium.webdriver.common.by import By\n",
    "import time\n",
    "driver = webdriver.Chrome()\n",
    "driver.get(\"http://www.python.org\")\n",
    "elem = driver.find_element(By.NAME, 'q')\n",
    "elem.clear()\n",
    "elem.send_keys('pycon')\n",
    "from selenium.webdriver.common.keys import Keys\n",
    "elem.send_keys(Keys.RETURN) # enter 효과"
   ]
  },
  {
   "cell_type": "code",
   "execution_count": 21,
   "id": "a4bfe9d5",
   "metadata": {},
   "outputs": [
    {
     "name": "stdout",
     "output_type": "stream",
     "text": [
      "PSF PyCon Trademark Usage Policy - https://www.python.org/psf/trademarks/pycon\n",
      "PyCon Italia 2016 (PyCon Sette) - https://www.python.org/events/python-events/378/\n",
      "PyCon Australia 2013 - https://www.python.org/events/python-events/57/\n",
      "PyCon AU 2019 - https://www.python.org/events/python-events/776/\n",
      "PyCon Australia 2014 - https://www.python.org/events/python-events/10/\n",
      "PyCon Ireland 2012 - https://www.python.org/events/python-events/76/\n",
      "PyCon Ireland 2016 - https://www.python.org/events/python-events/429/\n",
      "PyCon Ireland 2022 - https://www.python.org/events/python-events/1320/\n",
      "PyCon Australia 2014 - https://www.python.org/events/python-events/1447/\n",
      "PyCon Ireland 2024 - https://www.python.org/events/python-events/1862/\n",
      "PyCon APAC 2025 - https://www.python.org/events/python-events/1879/\n",
      "PyCon AU 2018 - https://www.python.org/events/python-events/696/\n",
      "PyCon APAC 2022 - https://www.python.org/events/python-events/1216/\n",
      "PyCon PH 2024 - https://www.python.org/events/python-events/1661/\n",
      "PyCon Ireland 2023 - https://www.python.org/events/python-events/1568/\n",
      "PyCon PL 2014 - https://www.python.org/events/python-events/191/\n",
      "PyCon MY 2015 - https://www.python.org/events/python-events/313/\n",
      "PyCon Ireland 2015 - https://www.python.org/events/python-events/333/\n",
      "PyCon AU 2015 - https://www.python.org/events/python-events/273/\n",
      "PyCon Australia 2016 - https://www.python.org/events/python-events/357/\n"
     ]
    }
   ],
   "source": [
    "result_list = driver.find_elements(By.CSS_SELECTOR, 'h3 > a')\n",
    "for result in result_list:\n",
    "    print('{} - {}'.format(result.text, result.get_attribute('href')))"
   ]
  },
  {
   "cell_type": "code",
   "execution_count": 31,
   "id": "ac77bb6e",
   "metadata": {},
   "outputs": [],
   "source": [
    "from bs4 import BeautifulSoup\n",
    "soup = BeautifulSoup(driver.page_source)\n",
    "result_list = soup.select('h3 > a')\n",
    "for result in result_list:\n",
    "    print('{} - {}'.format(result.text, result.attrs['href']))"
   ]
  },
  {
   "cell_type": "code",
   "execution_count": 27,
   "id": "ddb2c9db",
   "metadata": {},
   "outputs": [
    {
     "name": "stdout",
     "output_type": "stream",
     "text": [
      "현재 주소 : https://www.python.org/search/?q=pycon&submit=\n",
      "parse_url : ParseResult(scheme='https', netloc='www.python.org', path='/search/', params='', query='q=pycon&submit=', fragment='')\n",
      "https://www.python.org\n"
     ]
    }
   ],
   "source": [
    "# 셀레니움을 통해 접근한 현재 url\n",
    "from urllib.parse import urlparse\n",
    "current_url = driver.current_url\n",
    "print('현재 주소 :', current_url)\n",
    "parse_url = urlparse(current_url)\n",
    "print('parse_url :',parse_url)\n",
    "domain = f'{parse_url.scheme}://{parse_url.netloc}'\n",
    "print(domain)"
   ]
  },
  {
   "cell_type": "code",
   "execution_count": 36,
   "id": "df17c020",
   "metadata": {},
   "outputs": [
    {
     "name": "stdout",
     "output_type": "stream",
     "text": [
      "PSF PyCon Trademark Usage Policy - https://www.python.org/psf/trademarks/pycon\n",
      "PyCon Italia 2016 (PyCon Sette) - https://www.python.org/events/python-events/378/\n",
      "PyCon Australia 2013 - https://www.python.org/events/python-events/57/\n",
      "PyCon AU 2019 - https://www.python.org/events/python-events/776/\n",
      "PyCon Australia 2014 - https://www.python.org/events/python-events/10/\n",
      "PyCon Ireland 2012 - https://www.python.org/events/python-events/76/\n",
      "PyCon Ireland 2016 - https://www.python.org/events/python-events/429/\n",
      "PyCon Ireland 2022 - https://www.python.org/events/python-events/1320/\n",
      "PyCon Australia 2014 - https://www.python.org/events/python-events/1447/\n",
      "PyCon Ireland 2024 - https://www.python.org/events/python-events/1862/\n",
      "PyCon APAC 2025 - https://www.python.org/events/python-events/1879/\n",
      "PyCon AU 2018 - https://www.python.org/events/python-events/696/\n",
      "PyCon APAC 2022 - https://www.python.org/events/python-events/1216/\n",
      "PyCon PH 2024 - https://www.python.org/events/python-events/1661/\n",
      "PyCon Ireland 2023 - https://www.python.org/events/python-events/1568/\n",
      "PyCon PL 2014 - https://www.python.org/events/python-events/191/\n",
      "PyCon MY 2015 - https://www.python.org/events/python-events/313/\n",
      "PyCon Ireland 2015 - https://www.python.org/events/python-events/333/\n",
      "PyCon AU 2015 - https://www.python.org/events/python-events/273/\n",
      "PyCon Australia 2016 - https://www.python.org/events/python-events/357/\n"
     ]
    }
   ],
   "source": [
    "from bs4 import BeautifulSoup\n",
    "soup = BeautifulSoup(driver.page_source, \"html.parser\")\n",
    "result_list = soup.select('li > h3 > a')\n",
    "for result in result_list:\n",
    "    print(\"{} - {}\".format(result.text, domain+result.attrs['href']))"
   ]
  },
  {
   "cell_type": "code",
   "execution_count": 37,
   "id": "a3e7040e",
   "metadata": {},
   "outputs": [],
   "source": [
    "driver.close() # 브라우저 종료"
   ]
  },
  {
   "cell_type": "markdown",
   "id": "fc278393",
   "metadata": {},
   "source": [
    "## 3.2 예제\n",
    "### 1) 다음뉴스검색"
   ]
  },
  {
   "cell_type": "code",
   "execution_count": null,
   "id": "11ed45dd",
   "metadata": {},
   "outputs": [
    {
     "name": "stdout",
     "output_type": "stream",
     "text": [
      "“추앙받을 만 하네”… 김지원, 셔츠에 청바지만 입어도 공항 ‘정지’ http://v.daum.net/v/20250526182411395\n",
      "이민정, 매장 빌려 폭풍 쇼핑 \"10년 전 샀던 청바지는 응급실\"(MJ) http://v.daum.net/v/20250527191015309\n",
      "흰 티셔츠에 청바지 정석대로 입는 법 http://v.daum.net/v/20250527185425864\n",
      "이민정, 매장 통째로 빌려 청바지 쇼핑…♥이병헌도 놀랄 핏 http://v.daum.net/v/20250527185535885\n",
      "\"청바지가 잘 어울리는 남자\" 재해석…브브걸 감성 리메이크 '희망사항' 발매 http://v.daum.net/v/20250529180842220\n",
      "'의사 그만둔' 고윤정, 흰 티+청바지...\"정석 미녀\" [★해시태그] http://v.daum.net/v/20250522182007490\n",
      "이시영처럼 다리 길어보이고 싶어서 청바지 분석함 [입스타그램] http://v.daum.net/v/20250519172231644\n",
      "\"청렴이 최고\" … 창원특례시 성산구 문화위생과, '청바지 데이' 추진 http://v.daum.net/v/20250511091428626\n",
      "패셔니스타 김지원, 청바지가 어울리는 여자랍니다! [포토] http://v.daum.net/v/20250518220139191\n",
      "박병은 \"류준하로 3개월 활동\"…청바지 모델 시절 언급 http://v.daum.net/v/20250519190323957\n"
     ]
    }
   ],
   "source": [
    "from selenium import webdriver\n",
    "from selenium.webdriver.common.by import By\n",
    "from selenium.webdriver.common.keys import Keys\n",
    "import time\n",
    "driver = webdriver.Chrome()\n",
    "driver.get('https://www.daum.net/')\n",
    "# input 태그를 click\n",
    "driver.find_element(By.NAME, 'q').click()\n",
    "time.sleep(1)\n",
    "query = input('검색어를 입력하세요')\n",
    "driver.find_element(By.CSS_SELECTOR, 'input[type=\"text\"]').send_keys(query)\n",
    "driver.find_element(By.CLASS_NAME, 'btn_ksearch').click()\n",
    "time.sleep(2)\n",
    "# 뉴스탭 클릭 : ul.list_tab > li\n",
    "# driver.find_elements(By.CSS_SELECTOR, 'ul.list_tab > li')[3].click()\n",
    "driver.find_element(By.LINK_TEXT, '뉴스').click()\n",
    "time.sleep(2)\n",
    "news_list = []\n",
    "elems = driver.find_elements(By.CSS_SELECTOR, 'div.item-title > strong.tit-g > a')\n",
    "for elem in elems:\n",
    "    title = elem.text\n",
    "    link  = elem.get_attribute('href')\n",
    "    news_list.append([title, link])\n",
    "    print(title, link)"
   ]
  },
  {
   "cell_type": "code",
   "execution_count": 18,
   "id": "5eb91489",
   "metadata": {},
   "outputs": [],
   "source": [
    "# 2page로\n",
    "page_div = driver.find_element(By.CSS_SELECTOR, 'div.inner_paging')\n",
    "# print(page_div.text)\n",
    "next_page = page_div.find_element(By.LINK_TEXT, '2')\n",
    "next_page.click()"
   ]
  },
  {
   "cell_type": "markdown",
   "id": "127da746",
   "metadata": {},
   "source": [
    "#### 페이지 처리\n",
    "- 다음 뉴스 검색 : query, page수"
   ]
  },
  {
   "cell_type": "code",
   "execution_count": 24,
   "id": "38b11e52",
   "metadata": {},
   "outputs": [
    {
     "name": "stdout",
     "output_type": "stream",
     "text": [
      "~~~ 현재 1페이지 데이터 수집 중입니다 ~ ~\n",
      "~~~ 현재 2페이지 데이터 수집 중입니다 ~ ~\n",
      "~~~ 현재 3페이지 데이터 수집 중입니다 ~ ~\n"
     ]
    }
   ],
   "source": [
    "from selenium import webdriver\n",
    "from selenium.webdriver.common.by import By\n",
    "from selenium.webdriver.common.keys import Keys\n",
    "import time\n",
    "driver = webdriver.Chrome()\n",
    "driver.get('https://www.daum.net/')\n",
    "# input 태그를 click\n",
    "time.sleep(1)\n",
    "driver.find_element(By.NAME, 'q').click()\n",
    "query = input('검색어를 입력하세요')\n",
    "driver.find_element(By.CSS_SELECTOR, 'input[type=\"text\"]').send_keys(query)\n",
    "driver.find_element(By.CLASS_NAME, 'btn_ksearch').click()\n",
    "time.sleep(2)\n",
    "# 뉴스탭 클릭 : ul.list_tab > li\n",
    "# driver.find_elements(By.CSS_SELECTOR, 'ul.list_tab > li')[3].click()\n",
    "driver.find_element(By.LINK_TEXT, '뉴스').click()\n",
    "time.sleep(2)\n",
    "news_list = []\n",
    "pages = 3\n",
    "for page in range(1, pages+1):\n",
    "    elems = driver.find_elements(By.CSS_SELECTOR, 'div.item-title > strong.tit-g > a')\n",
    "    for elem in elems:\n",
    "        title = elem.text\n",
    "        link  = elem.get_attribute('href')\n",
    "        news_list.append([title, link])\n",
    "        # print(title, link)\n",
    "    # 2page로\n",
    "    page_div = driver.find_element(By.CSS_SELECTOR, 'div.inner_paging')\n",
    "    # print(page_div.text)\n",
    "    next_page = page_div.find_element(By.LINK_TEXT, str(page+1) )\n",
    "    next_page.click()\n",
    "    time.sleep(1.5)\n",
    "    print(f'~~~ 현재 {page}페이지 데이터 수집 중입니다 ~ ~')\n",
    "driver.close()\n",
    "import pandas as pd\n",
    "df = pd.DataFrame(news_list, columns=['title','link'])\n",
    "df.to_csv('data/ch14_daum.csv', index=False)\n"
   ]
  },
  {
   "cell_type": "markdown",
   "id": "69643609",
   "metadata": {},
   "source": [
    "### 2) 맞춤법 검사기\n",
    "- 네이버 맞춤법 검사기 이용"
   ]
  },
  {
   "cell_type": "code",
   "execution_count": 44,
   "id": "2ba74f6c",
   "metadata": {},
   "outputs": [
    {
     "name": "stdout",
     "output_type": "stream",
     "text": [
      "총글자 수 : 885\n",
      "264\n",
      "274\n",
      "278\n"
     ]
    },
    {
     "data": {
      "text/plain": [
       "['사람은 언제 쥭는가', '\\n히루루크 박사는 ', '\\n좋은 인생이란 무', '\\n\"사람은 죽어도,']"
      ]
     },
     "execution_count": 44,
     "metadata": {},
     "output_type": "execute_result"
    }
   ],
   "source": [
    "# ch14_맞춤법전.txt를 300자 이내로 자르기\n",
    "with open('data/ch14_맞춤법전.txt', 'r', encoding='utf-8') as f:\n",
    "    text = f.read()\n",
    "print('총글자 수 :', len(text))\n",
    "ready_list = [] # 맞춤법 검사할 text 내용(300자 이내로 list)\n",
    "while(len(text) > 300):\n",
    "    temp = text[:300]\n",
    "    new_line_char_index = temp.rfind('\\n')\n",
    "    print(new_line_char_index)\n",
    "    ready_list.append(text[:new_line_char_index])\n",
    "    text = text[new_line_char_index:]\n",
    "ready_list.append(text)\n",
    "[ready[:10] for ready in ready_list]"
   ]
  },
  {
   "cell_type": "code",
   "execution_count": 43,
   "id": "2c60228e",
   "metadata": {},
   "outputs": [
    {
     "data": {
      "text/plain": [
       "'사람은 언제 쥭는가? 심장이 멈췄을 떼도, 숨이 끊어졌을 때도 아니다. 진짜 죽 움은, 사람들의 기억에서 완전히 잊혔을 때다.만화 원피스의 히루루크 박사가 남긴 이 말은 허구를 넘어서 인생의 본질을 찌른다. 많은 사람들은 ‘좋은 인생’을 오래 사는 것, 돈을 많이 버는 것, 사회적으로 성공하는 것으로 생각한다. 하지만 이 말은 진정한 인생의 가치가 어디에 있는지 다시 묻는다. 우리가 떠난 후에도 누군가의 마음속에 살아 있는가? 우리의 존재는 기억될 가치가 있었는가?'"
      ]
     },
     "execution_count": 43,
     "metadata": {},
     "output_type": "execute_result"
    }
   ],
   "source": [
    "from selenium import webdriver\n",
    "from selenium.webdriver.common.by import By\n",
    "from selenium.webdriver.common.keys import Keys\n",
    "import time\n",
    "driver = webdriver.Chrome()\n",
    "time.sleep(0.5)\n",
    "driver.get('https://www.naver.com/')\n",
    "input_elem = driver.find_element(By.CSS_SELECTOR, 'input[name=\"query\"]')\n",
    "input_elem.send_keys('맞춤법 검사기')\n",
    "input_elem.send_keys(Keys.RETURN)\n",
    "time.sleep(0.5)\n",
    "textarea = driver.find_element(By.CLASS_NAME, 'txt_gray')\n",
    "textarea.send_keys(ready_list[0])\n",
    "\n",
    "button = driver.find_element(By.CLASS_NAME, 'btn_check')\n",
    "button.click()\n",
    "time.sleep(2)\n",
    "\n",
    "soup = BeautifulSoup(driver.page_source, \"html.parser\")\n",
    "result = soup.select_one('p._result_text.stand_txt').text\n",
    "result"
   ]
  },
  {
   "cell_type": "code",
   "execution_count": null,
   "id": "35a67067",
   "metadata": {},
   "outputs": [],
   "source": [
    "from selenium import webdriver\n",
    "from selenium.webdriver.common.by import By\n",
    "from selenium.webdriver.common.keys import Keys\n",
    "import time\n",
    "driver = webdriver.Chrome()\n",
    "time.sleep(0.5)\n",
    "driver.get('https://www.naver.com/')\n",
    "input_elem = driver.find_element(By.CSS_SELECTOR, 'input[name=\"query\"]')\n",
    "input_elem.send_keys('맞춤법 검사기')\n",
    "input_elem.send_keys(Keys.RETURN)\n",
    "time.sleep(0.5)\n",
    "results = '' # 맞춤법 검사 후 내용\n",
    "textarea = driver.find_element(By.CLASS_NAME, 'txt_gray')\n",
    "\n",
    "for ready in ready_list:\n",
    "\n",
    "    textarea.send_keys(Keys.CONTROL, 'a') # control + a\n",
    "    textarea.send_keys(ready)\n",
    "\n",
    "    button = driver.find_element(By.CLASS_NAME, 'btn_check')\n",
    "    button.click()\n",
    "    time.sleep(2)\n",
    "\n",
    "    soup = BeautifulSoup(driver.page_source, \"html.parser\")\n",
    "    result = soup.select_one('p._result_text.stand_txt').text\n",
    "    results += result + '\\n'\n",
    "driver.close()\n",
    "with open('data/ch14_맞춤법후.txt', 'w', encoding='utf-8') as f:\n",
    "    f.write(results)\n",
    "    \n",
    "    \n",
    "    #원본"
   ]
  },
  {
   "cell_type": "code",
   "execution_count": 47,
   "id": "4e2d1389",
   "metadata": {},
   "outputs": [
    {
     "name": "stdout",
     "output_type": "stream",
     "text": [
      "크롤링 할 text 수 : [881]\n",
      "0.0% 번역 중입니다\n",
      "번역 완료\n"
     ]
    }
   ],
   "source": [
    "# ch14_맞춤법후.txt를 1000자이내로 자르기\n",
    "with open('data/ch14_맞춤법후.txt', 'r', encoding='utf-8') as f:\n",
    "    text = f.read()\n",
    "ready_list = [] # 맞춤법 검사할 text 내용(300이자 이내로 list)\n",
    "while(len(text) > 1000):\n",
    "    temp = text[:1000]\n",
    "    new_line_char_index = temp.rfind('\\n')\n",
    "    ready_list.append(text[:new_line_char_index])\n",
    "    text = text[new_line_char_index:]\n",
    "ready_list.append(text)\n",
    "print('크롤링 할 text 수 :',[len(ready) for ready in ready_list])\n",
    "# 크롤링\n",
    "from selenium import webdriver\n",
    "from selenium.webdriver.common.by import By\n",
    "from selenium.webdriver.common.keys import Keys\n",
    "import time\n",
    "driver = webdriver.Chrome()\n",
    "time.sleep(0.5)\n",
    "driver.get('https://translate.kakao.com/')\n",
    "textarea = driver.find_element(By.CSS_SELECTOR, 'textarea.translate_area.area_item.translate_many')\n",
    "button = driver.find_element(By.CSS_SELECTOR, 'div.btn_item')\n",
    "results = ''\n",
    "for idx, ready in enumerate(ready_list):\n",
    "    print( f'{round(idx/len(ready_list) * 100, 2)}% 번역 중입니다')\n",
    "    textarea.clear()\n",
    "    textarea.send_keys(ready)\n",
    "    button.click()\n",
    "    time.sleep(1)\n",
    "\n",
    "    # soup = BeautifulSoup(driver.page_source, \"html.parser\")\n",
    "    # result = soup.select_one('div.result_area.translate_many').text\n",
    "    result = driver.find_element(By.CSS_SELECTOR, 'div.result_area.translate_many').text\n",
    "    results += result + '\\n'\n",
    "    \n",
    "# 번역한 결과 파일 출력\n",
    "with open('data/ch14_자동화영어번역본.txt', 'w', encoding='utf-8') as f:\n",
    "    f.write(results)\n",
    "print('번역 완료')"
   ]
  },
  {
   "cell_type": "code",
   "execution_count": null,
   "id": "1aba2c42",
   "metadata": {},
   "outputs": [
    {
     "name": "stdout",
     "output_type": "stream",
     "text": [
      "총 번역할 문장 수: 4\n"
     ]
    }
   ],
   "source": [
    "### 작업중 ###\n",
    "from selenium import webdriver\n",
    "from selenium.webdriver.common.by import By\n",
    "from selenium.webdriver.common.keys import Keys\n",
    "import time\n",
    "\n",
    "with open('data/ch14_맞춤법후.txt', 'r', encoding='utf-8') as f:\n",
    "    text = f.read()\n",
    "ready_list = [] # 맞춤법 검사할 text 내용(300이자 이내로 list)\n",
    "\n",
    "while(len(text) > 300):\n",
    "    temp = text[:300]\n",
    "    new_line_char_index = temp.rfind('\\n')\n",
    "    print(new_line_char_index)\n",
    "    ready_list.append(text[:new_line_char_index])\n",
    "    text = text[new_line_char_index:]\n",
    "ready_list.append(text)\n",
    "results = \"\"\n",
    "\n",
    "for ready in ready_list:\n",
    "    input_area = driver.find_element(By.CSS_SELECTOR, 'input[name=\"q\"]')\n",
    "    input_area.clear()\n",
    "    input_area.send_keys(ready)\n",
    "    \n",
    "    button = driver.find_element(By.CLASS_NAME, 'inner')\n",
    "    button.click()\n",
    "    time.sleep(2)\n",
    "\n",
    "    output_area = driver.find_element(By.CSS_SELECTOR, \"result_area.area_item.txt_eng.translate_many\")\n",
    "    translated = output_area.text\n",
    "    results += translated + '\\n'\n",
    "\n"
   ]
  },
  {
   "cell_type": "code",
   "execution_count": null,
   "id": "dca4d3de",
   "metadata": {},
   "outputs": [],
   "source": []
  },
  {
   "cell_type": "code",
   "execution_count": null,
   "id": "b4665735",
   "metadata": {},
   "outputs": [],
   "source": []
  },
  {
   "cell_type": "code",
   "execution_count": null,
   "id": "671b09a2",
   "metadata": {},
   "outputs": [],
   "source": []
  },
  {
   "cell_type": "code",
   "execution_count": null,
   "id": "004ab38a",
   "metadata": {},
   "outputs": [],
   "source": []
  },
  {
   "cell_type": "code",
   "execution_count": null,
   "id": "940ba362",
   "metadata": {},
   "outputs": [],
   "source": []
  },
  {
   "cell_type": "code",
   "execution_count": null,
   "id": "eb2a8449",
   "metadata": {},
   "outputs": [],
   "source": []
  },
  {
   "cell_type": "code",
   "execution_count": null,
   "id": "085ad2ca",
   "metadata": {},
   "outputs": [],
   "source": []
  },
  {
   "cell_type": "code",
   "execution_count": null,
   "id": "6cf0ba4c",
   "metadata": {},
   "outputs": [],
   "source": []
  }
 ],
 "metadata": {
  "kernelspec": {
   "display_name": "base",
   "language": "python",
   "name": "python3"
  },
  "language_info": {
   "codemirror_mode": {
    "name": "ipython",
    "version": 3
   },
   "file_extension": ".py",
   "mimetype": "text/x-python",
   "name": "python",
   "nbconvert_exporter": "python",
   "pygments_lexer": "ipython3",
   "version": "3.10.9"
  }
 },
 "nbformat": 4,
 "nbformat_minor": 5
}
